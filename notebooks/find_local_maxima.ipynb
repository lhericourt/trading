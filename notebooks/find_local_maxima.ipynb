{
 "cells": [
  {
   "cell_type": "code",
   "execution_count": 1,
   "metadata": {},
   "outputs": [],
   "source": [
    "import sys\n",
    "sys.path.append('/Users/laurenthericourt/projets/trading/trading')\n",
    "import warnings\n",
    "warnings.filterwarnings('ignore')\n",
    "import random\n",
    "from datetime import datetime, timedelta\n",
    "from dateutil.rrule import rrule, WEEKLY, FR, SU\n",
    "\n",
    "import pandas as pd\n",
    "import numpy as np\n",
    "pd.set_option('display.max_rows', 500)\n",
    "from jupyter_dash import JupyterDash\n",
    "import dash_core_components as dcc\n",
    "import dash_html_components as html\n",
    "from dash.dependencies import Input, Output\n",
    "from plotly.subplots import make_subplots\n",
    "import plotly.graph_objects as go\n",
    "\n",
    "from config.load import load_conf\n",
    "from db.utils import get_uri_db\n",
    "from utils.utils import get_candles\n",
    "from indicator.trend import ExponentialMovingAverage\n",
    "from notebooks.compute_indicators import moyenne_mobile_features\n",
    "from utils.utils import compute_sign_changement\n",
    "from notebooks.display_indicators import show_candle, add_indicator\n",
    "from indicator.trend import BollingerBands, Slope\n",
    "from indicator.oscillator import Atr, Obv\n",
    "from indicator.trend import ExponentialMovingAverage, MovingAverage"
   ]
  },
  {
   "cell_type": "markdown",
   "metadata": {},
   "source": [
    "# Get data"
   ]
  },
  {
   "cell_type": "code",
   "execution_count": 2,
   "metadata": {},
   "outputs": [],
   "source": [
    "load_conf('../config/configuration.yaml')\n",
    "dsn = get_uri_db()\n",
    "schema = 'trading'"
   ]
  },
  {
   "cell_type": "code",
   "execution_count": 3,
   "metadata": {},
   "outputs": [],
   "source": [
    "start_date = '2019-01-01'\n",
    "end_date = '2021-01-01'\n",
    "\n",
    "candles = get_candles(dsn, schema, start_date, end_date)"
   ]
  },
  {
   "cell_type": "code",
   "execution_count": 330,
   "metadata": {},
   "outputs": [],
   "source": [
    "table = 'candle15m'\n",
    "symbol = 'EUR/USD'\n",
    "\n",
    "candles_to_show = candles[(candles['table'] == table) & (candles['symbol'] == symbol)].reset_index(drop=True)"
   ]
  },
  {
   "cell_type": "markdown",
   "metadata": {},
   "source": [
    "# Find maxima"
   ]
  },
  {
   "cell_type": "code",
   "execution_count": 331,
   "metadata": {},
   "outputs": [],
   "source": [
    "candles_to_show['atr'], _ = Atr(candles_to_show).compute(span=5, avg_type = 'ma')\n",
    "candles_to_show.dropna(inplace=True)"
   ]
  },
  {
   "cell_type": "code",
   "execution_count": 332,
   "metadata": {},
   "outputs": [],
   "source": [
    "from scipy.signal import argrelextrema\n",
    "\n",
    "class Extrema(object):\n",
    "    def __init__(self, candles, max_, atr_weight, atr_weight2, min_range, min_variance, ratio_pic_size):\n",
    "        self.candles = candles.reset_index(drop=True)\n",
    "        self.max = max_\n",
    "        self.atr_weight = atr_weight\n",
    "        self.atr_weight = atr_weight2\n",
    "        self.min_range = min_range\n",
    "        self.min_variance = min_variance\n",
    "        self.ratio_pic_size = ratio_pic_size\n",
    "    \n",
    "    def _filter_by_atr(self, local_max_idx, local_max_values):\n",
    "        local_max_idx_to_remove = list()\n",
    "        for prev_idx, prev_val, idx, val in zip(local_max_idx[:-1], local_max_values[:-1], local_max_idx[1:], local_max_values[1:]):\n",
    "            atr = self.candles.loc[idx, 'atr']\n",
    "            #print(idx)\n",
    "            if abs(val - prev_val) < self.atr_weight * atr and val > prev_val:\n",
    "                #print(atr)\n",
    "                local_max_idx_to_remove.append(prev_idx)\n",
    "            elif abs(val - prev_val) < self.atr_weight * atr and val <= prev_val:\n",
    "                #print(atr)\n",
    "                local_max_idx_to_remove.append(idx)\n",
    "        local_max_idx_filtered = [x for x in local_max_idx if x not in local_max_idx_to_remove]\n",
    "        return local_max_idx_filtered\n",
    "    \n",
    "    def _filter_by_variance(self, local_max_idx, local_max_values):\n",
    "        local_max_idx_to_remove = list()\n",
    "        for prev_idx, prev_val, idx, val in zip(local_max_idx[:-1], local_max_values[:-1], local_max_idx[1:], local_max_values[1:]):\n",
    "            candles_tmp = self.candles.loc[prev_idx : idx].copy()\n",
    "            max_high = candles_tmp['high'].max()\n",
    "            min_low = candles_tmp['low'].min()\n",
    "            candles_tmp['range'] = candles_tmp['high'] - candles_tmp['low']\n",
    "            max_range = max_high - min_low\n",
    "            mean_range = candles_tmp['range'].mean()\n",
    "            \n",
    "            first_pic_range = candles_tmp.loc[prev_idx, 'range']\n",
    "            last_pic_range = candles_tmp.loc[idx, 'range']\n",
    "            if self.max and max_range < mean_range * self.min_variance and val > prev_val:\n",
    "                local_max_idx_to_remove.append(prev_idx)\n",
    "            elif self.max and max_range < mean_range * self.min_variance and val <= prev_val:\n",
    "                local_max_idx_to_remove.append(idx)\n",
    "            elif not self.max and max_range < mean_range * self.min_variance and val > prev_val:\n",
    "                local_max_idx_to_remove.append(idx)\n",
    "            elif not self.max and max_range < mean_range * self.min_variance and val <= prev_val:\n",
    "                local_max_idx_to_remove.append(prev_idx)\n",
    "            #elif (first_pic_range > max_range * self.ratio_pic_size or last_pic_range > max_range * self.ratio_pic_size) and val > prev_val:\n",
    "            #    local_max_idx_to_remove.append(prev_idx)\n",
    "            #elif (first_pic_range > max_range * self.ratio_pic_size or last_pic_range > max_range * self.ratio_pic_size) and val <= prev_val:\n",
    "            #    local_max_idx_to_remove.append(idx)            \n",
    "        local_max_idx_filtered = [x for x in local_max_idx if x not in local_max_idx_to_remove]\n",
    "        return local_max_idx_filtered\n",
    "\n",
    "\n",
    "    def _filter_close_values(self, local_max_idx, local_max_values):\n",
    "        local_max_idx_to_remove = list()\n",
    "        for prev_idx, prev_val, idx, val in zip(local_max_idx[:-1], local_max_values[:-1], local_max_idx[1:], local_max_values[1:]):\n",
    "            if self.max and idx - prev_idx <= self.min_range and val > prev_val:\n",
    "                local_max_idx_to_remove.append(prev_idx)\n",
    "            elif self.max and idx - prev_idx <= self.min_range and val <= prev_val:\n",
    "                local_max_idx_to_remove.append(idx)\n",
    "            elif not self.max and idx - prev_idx <= self.min_range and val > prev_val:\n",
    "                local_max_idx_to_remove.append(idx)\n",
    "            elif not self.max and idx - prev_idx <= self.min_range and val <= prev_val:\n",
    "                local_max_idx_to_remove.append(prev_idx)\n",
    "\n",
    "        local_max_idx_filtered = [x for x in local_max_idx if x not in local_max_idx_to_remove]\n",
    "        return local_max_idx_filtered\n",
    "\n",
    "\n",
    "    def _filter_by_pattern(self, local_max_idx, local_max_values):\n",
    "        local_max_idx_to_remove = list()\n",
    "        for prev_idx, prev_val, idx, val, next_idx, next_val in zip(local_max_idx[:-2], local_max_values[:-2], local_max_idx[1:-1], local_max_values[1:-1], local_max_idx[2:], local_max_values[2:]):\n",
    "            atr = self.candles.loc[idx, 'atr']\n",
    "            if self.max and val < prev_val and val < next_val and prev_val - val > self.atr_weight * atr and next_val - val > self.atr_weight * atr:\n",
    "                local_max_idx_to_remove.append(idx)\n",
    "            elif not self.max and val > prev_val and val > next_val and val - prev_val > self.atr_weight * atr and val - prev_val > self.atr_weight * atr:\n",
    "                local_max_idx_to_remove.append(idx)\n",
    "\n",
    "        local_max_idx_filtered = [x for x in local_max_idx if x not in local_max_idx_to_remove]\n",
    "        return local_max_idx_filtered\n",
    "    \n",
    "    \n",
    "    def _get_all_extrema(self):\n",
    "        idx_maxima = list()\n",
    "        prev_rows = list()\n",
    "        historic_len = 2\n",
    "        for row in self.candles.itertuples():\n",
    "            if int(row.Index) < historic_len:\n",
    "                prev_rows.append(row)\n",
    "                continue\n",
    "            if self.max and prev_rows[-1].high >= row.high and prev_rows[-1].high >= prev_rows[-2].high:\n",
    "                idx_maxima.append(int(prev_rows[-1].Index))\n",
    "            elif not self.max and prev_rows[-1].low <= row.low and prev_rows[-1].low <= prev_rows[-2].low:\n",
    "                idx_maxima.append(int(prev_rows[-1].Index))\n",
    "\n",
    "            del prev_rows[0]\n",
    "            prev_rows.append(row)\n",
    "        \n",
    "        return idx_maxima\n",
    "                \n",
    "            \n",
    "            \n",
    "    def get_max_extrema(self):\n",
    "\n",
    "        #local_max_idx = argrelextrema(self.candles['high'].values, np.greater)[0]\n",
    "        local_max_idx = self._get_all_extrema()\n",
    "        local_max_values = self.candles.loc[local_max_idx, 'high'].values if self.max else self.candles.loc[local_max_idx, 'low'].values\n",
    "\n",
    "        local_max_idx_filtered = self._filter_by_variance(local_max_idx, local_max_values)\n",
    "        local_max_values_filtered = self.candles.loc[local_max_idx_filtered, 'high'].values\n",
    "\n",
    "        local_max_idx_filtered = self._filter_close_values(local_max_idx_filtered, local_max_values_filtered)\n",
    "        local_max_values_filtered = self.candles.loc[local_max_idx_filtered, 'high'].values\n",
    "        \n",
    "        local_max_idx_filtered = self._filter_by_variance(local_max_idx_filtered, local_max_values_filtered)\n",
    "        local_max_values_filtered = self.candles.loc[local_max_idx_filtered, 'high'].values\n",
    "\n",
    "        local_max_idx_filtered = self._filter_by_pattern(local_max_idx_filtered, local_max_values_filtered)\n",
    "        local_max_values_filtered = self.candles.loc[local_max_idx_filtered, 'high'].values\n",
    "\n",
    "        res = local_max_idx_filtered\n",
    "\n",
    "        return res"
   ]
  },
  {
   "cell_type": "code",
   "execution_count": 333,
   "metadata": {},
   "outputs": [],
   "source": [
    "def alternate_max_and_min(candles, idx_maxs, idx_mins):\n",
    "    \n",
    "    def _choose_between_two_indexes(candles, idx1, idx2, col):\n",
    "        idx_to_remove = None\n",
    "        if candles.loc[idx1, col] > candles.loc[idx2, col] and col == 'high':\n",
    "            idx_to_remove = idx2\n",
    "        elif candles.loc[idx1, col] < candles.loc[idx2, col] and col == 'low':\n",
    "            idx_to_remove = idx2\n",
    "        else:\n",
    "            idx_to_remove = idx1\n",
    "        return idx_to_remove\n",
    "    \n",
    "    def _detect_indexes_to_remove_one_way(candles, idxs1, idxs2, begin):\n",
    "        col = 'high' if begin == 'max' else 'low'\n",
    "        idxs1_to_remove = list()\n",
    "        idxs2_for_loop = idxs2.copy()\n",
    "        for prev_idx, idx in zip(idxs1[:-1], idxs1[1:]):\n",
    "            if idxs2_for_loop and idx < idxs2_for_loop[0]:\n",
    "                idxs1_to_remove.append(_choose_between_two_indexes(candles, prev_idx, idx, col))\n",
    "            elif idxs2_for_loop:\n",
    "                idxs2_for_loop = [x for x in idxs2_for_loop if x > idx]\n",
    "            else:\n",
    "                idxs1_to_remove.append(_choose_between_two_indexes(candles, prev_idx, idx, col))\n",
    "        return idxs1_to_remove\n",
    "    \n",
    "    def _detect_indexes_to_remove_two_ways(candles, idxs1, idxs2, begin):\n",
    "        idxs1_to_remove = _detect_indexes_to_remove_one_way(candles, idxs1, idxs2, begin)\n",
    "        new_idxs1 = [x for x in idxs1 if x not in idxs1_to_remove]\n",
    "        \n",
    "        begin = 'max' if begin == 'min' else 'min'\n",
    "        idxs2_to_remove = _detect_indexes_to_remove_one_way(candles, idxs2, new_idxs1[1:], begin)\n",
    "        new_idxs2 = [x for x in idxs2 if x not in idxs2_to_remove]\n",
    "                                       \n",
    "        return new_idxs1, new_idxs2\n",
    "    \n",
    "    def _clean_commun_min_and_max_idxs(idxs_max, idxs_min):\n",
    "        commun_idxs = set(idxs_max).intersection(set(idxs_min))\n",
    "        idx_mins_to_remove = list()\n",
    "        idx_maxs_to_remove = list()\n",
    "        for idx in commun_idxs:\n",
    "            idx_max_commun = idxs_max.index(idx)\n",
    "            idx_min_commun = idxs_min.index(idx)\n",
    "            if idx_max_commun > 0 and idx_min_commun > 0 and idxs_max[idx_max_commun - 1] > idxs_min[idx_min_commun - 1]:\n",
    "                idx_maxs_to_remove.append(idx)\n",
    "            elif idx_max_commun > 0 and idx_min_commun > 0 and idxs_max[idx_max_commun - 1] < idxs_min[idx_min_commun - 1]:\n",
    "                idx_mins_to_remove.append(idx)\n",
    "        new_idxs_max = [x for x in idxs_max if x not in idx_maxs_to_remove]\n",
    "        new_idxs_min = [x for x in idxs_min if x not in idx_mins_to_remove]\n",
    "        return new_idxs_max, new_idxs_min\n",
    "    \n",
    "    if idx_maxs[0] < idx_mins[0]:\n",
    "        idx_maxs_new, idx_mins_new = _detect_indexes_to_remove_two_ways(candles, idx_maxs, idx_mins, begin='max')\n",
    "    else:\n",
    "        idx_mins_new, idx_maxs_new = _detect_indexes_to_remove_two_ways(candles, idx_mins, idx_maxs, begin='min')\n",
    "    \n",
    "    idx_maxs_new, idx_mins_new = _clean_commun_min_and_max_idxs(idx_maxs_new, idx_mins_new)\n",
    "    \n",
    "    return idx_maxs_new, idx_mins_new"
   ]
  },
  {
   "cell_type": "markdown",
   "metadata": {},
   "source": [
    "# Show result"
   ]
  },
  {
   "cell_type": "code",
   "execution_count": 334,
   "metadata": {},
   "outputs": [],
   "source": [
    "def show_random_cases(candles, nb_examples_to_show=30, nb_candles_to_show=50):\n",
    "    cd = candles.copy().reset_index(drop=True)\n",
    "    idx = cd.index.tolist()\n",
    "    #random.seed(21)\n",
    "    random.shuffle(idx)\n",
    "\n",
    "    idx_to_show = idx[:nb_examples_to_show]\n",
    "    \n",
    "    for i, idx_candle in enumerate(idx_to_show):\n",
    "        candles_to_show = cd.loc[idx_candle - nb_candles_to_show // 2 : idx_candle + nb_candles_to_show // 2].reset_index(drop=True)\n",
    "        #idx_maxs = get_max_extrema(candles_to_show, atr_weight=0.2, atr_weight2=1, min_range=10)\n",
    "        max_extrema = Extrema(candles_to_show, max_=True, atr_weight=0.2, atr_weight2=0.5, min_range=6, min_variance=2, ratio_pic_size=0.6)\n",
    "        idx_maxs = max_extrema.get_max_extrema()\n",
    "        min_extrema = Extrema(candles_to_show, max_=False, atr_weight=0.2, atr_weight2=0.5, min_range=6, min_variance=2, ratio_pic_size=0.6)\n",
    "        idx_mins = min_extrema.get_max_extrema()\n",
    "        idx_maxs, idx_mins = alternate_max_and_min(candles_to_show, idx_maxs, idx_mins)\n",
    "\n",
    "        if i % 2 == 0:\n",
    "            fig = make_subplots(rows=1, cols=2)\n",
    "        \n",
    "        fig.update_layout(xaxis1_rangeslider_visible=False, xaxis2_rangeslider_visible=False)\n",
    "\n",
    "        width = 2\n",
    "        color = 'rgba(46, 134, 193, 0.5)'\n",
    "        fig.add_trace(go.Candlestick(x=candles_to_show['date'],\n",
    "                                     open=candles_to_show['open'],\n",
    "                                     high=candles_to_show['high'],\n",
    "                                     low=candles_to_show['low'],\n",
    "                                     close=candles_to_show['close'],\n",
    "                                     showlegend=False),\n",
    "                      row=1, col= i % 2 + 1)\n",
    "        \n",
    "        fig.add_trace(\n",
    "            go.Scatter(\n",
    "                mode='markers',\n",
    "                x=candles_to_show.loc[idx_maxs, 'date'],\n",
    "                y=candles_to_show.loc[idx_maxs, 'high'],\n",
    "                marker=dict(\n",
    "                    color='MediumPurple',\n",
    "                    size=8,\n",
    "                ),\n",
    "                showlegend=False,\n",
    "            ),\n",
    "            row=1, col= i % 2 + 1\n",
    "        )\n",
    "        \n",
    "        fig.add_trace(\n",
    "            go.Scatter(\n",
    "                mode='markers',\n",
    "                x=candles_to_show.loc[idx_mins, 'date'],\n",
    "                y=candles_to_show.loc[idx_mins, 'low'],\n",
    "                marker=dict(\n",
    "                    color='mediumblue',\n",
    "                    size=8,\n",
    "                ),\n",
    "                showlegend=False,\n",
    "            ),\n",
    "            row=1, col= i % 2 + 1\n",
    "        )\n",
    "\n",
    "        if i % 2 == 1:\n",
    "            fig.show()"
   ]
  },
  {
   "cell_type": "code",
   "execution_count": 336,
   "metadata": {},
   "outputs": [
    {
     "data": {
      "application/vnd.plotly.v1+json": {
       "config": {
        "plotlyServerURL": "https://plot.ly"
       },
       "data": [
        {
         "close": [
          1.1669,
          1.16589,
          1.16439,
          1.16552,
          1.16554,
          1.16587,
          1.16608,
          1.16606,
          1.16551,
          1.16572,
          1.16565,
          1.16557,
          1.16586,
          1.16622,
          1.16649,
          1.16655,
          1.16643,
          1.16686,
          1.16643,
          1.16637,
          1.16662,
          1.16653,
          1.16706,
          1.16666,
          1.16636,
          1.16664,
          1.16694,
          1.16655,
          1.16664,
          1.16659,
          1.16659,
          1.16643,
          1.16668,
          1.16682,
          1.16697,
          1.16689,
          1.16718,
          1.16712,
          1.16777,
          1.16827,
          1.16795,
          1.16786,
          1.16775,
          1.16704,
          1.16725,
          1.16692,
          1.16686,
          1.16745,
          1.16728,
          1.16718,
          1.16713,
          1.16744,
          1.16764,
          1.1677,
          1.16752,
          1.16757,
          1.16741,
          1.16729,
          1.16769,
          1.1675,
          1.16712,
          1.16719,
          1.1672,
          1.16692,
          1.16724,
          1.16729,
          1.16807,
          1.16711,
          1.16763,
          1.168,
          1.16818,
          1.16723,
          1.168,
          1.16824,
          1.16839,
          1.16908,
          1.16943,
          1.16967,
          1.16937,
          1.16918,
          1.16922,
          1.16826,
          1.16989,
          1.17105,
          1.1704,
          1.17077,
          1.17086,
          1.17027,
          1.17081,
          1.17038,
          1.17039,
          1.16967,
          1.17072,
          1.17226,
          1.1725,
          1.17279,
          1.17389,
          1.1732,
          1.17317,
          1.17356,
          1.17378
         ],
         "high": [
          1.16725,
          1.16704,
          1.16596,
          1.16562,
          1.16583,
          1.16604,
          1.16619,
          1.1661,
          1.1661,
          1.16577,
          1.16583,
          1.16574,
          1.16587,
          1.16634,
          1.16669,
          1.16679,
          1.16663,
          1.16686,
          1.16693,
          1.16678,
          1.16674,
          1.16662,
          1.1671,
          1.1672,
          1.1667,
          1.16667,
          1.16694,
          1.16711,
          1.16664,
          1.16671,
          1.16659,
          1.16664,
          1.16669,
          1.16683,
          1.167,
          1.16713,
          1.16718,
          1.16729,
          1.168,
          1.16831,
          1.16844,
          1.16801,
          1.16806,
          1.16796,
          1.16742,
          1.1673,
          1.16707,
          1.16756,
          1.16746,
          1.1673,
          1.16718,
          1.16749,
          1.16773,
          1.1677,
          1.16772,
          1.16768,
          1.16763,
          1.16754,
          1.1677,
          1.16799,
          1.16751,
          1.16724,
          1.16748,
          1.16755,
          1.16732,
          1.16756,
          1.1683,
          1.16848,
          1.16821,
          1.16822,
          1.16841,
          1.16822,
          1.168,
          1.16825,
          1.16872,
          1.16953,
          1.16948,
          1.16977,
          1.16984,
          1.16939,
          1.16944,
          1.16923,
          1.16992,
          1.17149,
          1.17134,
          1.17093,
          1.17087,
          1.17093,
          1.1711,
          1.17099,
          1.17072,
          1.17044,
          1.17082,
          1.17267,
          1.17282,
          1.17353,
          1.17446,
          1.17405,
          1.17359,
          1.17421,
          1.17428
         ],
         "low": [
          1.16651,
          1.16544,
          1.16433,
          1.1643,
          1.16492,
          1.16532,
          1.16555,
          1.16529,
          1.16533,
          1.16522,
          1.16561,
          1.16546,
          1.16542,
          1.16582,
          1.16616,
          1.1662,
          1.16628,
          1.16636,
          1.1664,
          1.16629,
          1.16627,
          1.16617,
          1.16638,
          1.16663,
          1.16634,
          1.16615,
          1.16657,
          1.16645,
          1.16654,
          1.16626,
          1.1665,
          1.16637,
          1.1664,
          1.16662,
          1.16679,
          1.16685,
          1.16681,
          1.16682,
          1.16711,
          1.16758,
          1.1678,
          1.16768,
          1.16763,
          1.16697,
          1.16682,
          1.16684,
          1.16677,
          1.16686,
          1.16701,
          1.16698,
          1.16692,
          1.16712,
          1.16736,
          1.16757,
          1.16742,
          1.16738,
          1.16739,
          1.1672,
          1.16728,
          1.16749,
          1.16707,
          1.16696,
          1.16714,
          1.16675,
          1.16658,
          1.16687,
          1.16718,
          1.16674,
          1.16697,
          1.16733,
          1.16759,
          1.16663,
          1.16718,
          1.16772,
          1.16782,
          1.16816,
          1.16878,
          1.16905,
          1.16934,
          1.16878,
          1.16875,
          1.16823,
          1.16823,
          1.16963,
          1.17032,
          1.17012,
          1.17024,
          1.17013,
          1.17011,
          1.16937,
          1.17004,
          1.16956,
          1.16963,
          1.17061,
          1.17226,
          1.17225,
          1.1727,
          1.17287,
          1.17282,
          1.17279,
          1.17344
         ],
         "open": [
          1.16699,
          1.1669,
          1.16589,
          1.16439,
          1.16552,
          1.16554,
          1.16587,
          1.16608,
          1.16606,
          1.16551,
          1.16572,
          1.16565,
          1.16557,
          1.16586,
          1.16622,
          1.16649,
          1.16655,
          1.16643,
          1.16686,
          1.16643,
          1.16637,
          1.16662,
          1.16653,
          1.16706,
          1.16666,
          1.16636,
          1.16664,
          1.16694,
          1.16655,
          1.16664,
          1.16659,
          1.16659,
          1.16643,
          1.16668,
          1.16682,
          1.16697,
          1.16689,
          1.16718,
          1.16712,
          1.16777,
          1.16827,
          1.16795,
          1.16786,
          1.16775,
          1.16704,
          1.16725,
          1.16692,
          1.16686,
          1.16745,
          1.16728,
          1.16718,
          1.16713,
          1.16744,
          1.16764,
          1.1677,
          1.16752,
          1.16757,
          1.16741,
          1.16729,
          1.16769,
          1.1675,
          1.16712,
          1.16719,
          1.1672,
          1.16692,
          1.16724,
          1.16729,
          1.16807,
          1.16711,
          1.16763,
          1.168,
          1.16818,
          1.16723,
          1.168,
          1.16824,
          1.16839,
          1.16908,
          1.16943,
          1.16967,
          1.16937,
          1.16918,
          1.16922,
          1.16826,
          1.16989,
          1.17105,
          1.1704,
          1.17077,
          1.17086,
          1.17027,
          1.17081,
          1.17038,
          1.17039,
          1.16967,
          1.17072,
          1.17226,
          1.1725,
          1.17279,
          1.17389,
          1.1732,
          1.17317,
          1.17356
         ],
         "showlegend": false,
         "type": "candlestick",
         "x": [
          "2020-09-28T14:15:00",
          "2020-09-28T14:30:00",
          "2020-09-28T14:45:00",
          "2020-09-28T15:00:00",
          "2020-09-28T15:15:00",
          "2020-09-28T15:30:00",
          "2020-09-28T15:45:00",
          "2020-09-28T16:00:00",
          "2020-09-28T16:15:00",
          "2020-09-28T16:30:00",
          "2020-09-28T16:45:00",
          "2020-09-28T17:00:00",
          "2020-09-28T17:15:00",
          "2020-09-28T17:30:00",
          "2020-09-28T17:45:00",
          "2020-09-28T18:00:00",
          "2020-09-28T18:15:00",
          "2020-09-28T18:30:00",
          "2020-09-28T18:45:00",
          "2020-09-28T19:00:00",
          "2020-09-28T19:15:00",
          "2020-09-28T19:30:00",
          "2020-09-28T19:45:00",
          "2020-09-28T20:00:00",
          "2020-09-28T20:15:00",
          "2020-09-28T20:30:00",
          "2020-09-28T20:45:00",
          "2020-09-28T21:00:00",
          "2020-09-28T21:15:00",
          "2020-09-28T21:30:00",
          "2020-09-28T21:45:00",
          "2020-09-28T22:00:00",
          "2020-09-28T22:15:00",
          "2020-09-28T22:30:00",
          "2020-09-28T22:45:00",
          "2020-09-28T23:00:00",
          "2020-09-28T23:15:00",
          "2020-09-28T23:30:00",
          "2020-09-28T23:45:00",
          "2020-09-29T00:00:00",
          "2020-09-29T00:15:00",
          "2020-09-29T00:30:00",
          "2020-09-29T00:45:00",
          "2020-09-29T01:00:00",
          "2020-09-29T01:15:00",
          "2020-09-29T01:30:00",
          "2020-09-29T01:45:00",
          "2020-09-29T02:00:00",
          "2020-09-29T02:15:00",
          "2020-09-29T02:30:00",
          "2020-09-29T02:45:00",
          "2020-09-29T03:00:00",
          "2020-09-29T03:15:00",
          "2020-09-29T03:30:00",
          "2020-09-29T03:45:00",
          "2020-09-29T04:00:00",
          "2020-09-29T04:15:00",
          "2020-09-29T04:30:00",
          "2020-09-29T04:45:00",
          "2020-09-29T05:00:00",
          "2020-09-29T05:15:00",
          "2020-09-29T05:30:00",
          "2020-09-29T05:45:00",
          "2020-09-29T06:00:00",
          "2020-09-29T06:15:00",
          "2020-09-29T06:30:00",
          "2020-09-29T06:45:00",
          "2020-09-29T07:00:00",
          "2020-09-29T07:15:00",
          "2020-09-29T07:30:00",
          "2020-09-29T07:45:00",
          "2020-09-29T08:00:00",
          "2020-09-29T08:15:00",
          "2020-09-29T08:30:00",
          "2020-09-29T08:45:00",
          "2020-09-29T09:00:00",
          "2020-09-29T09:15:00",
          "2020-09-29T09:30:00",
          "2020-09-29T09:45:00",
          "2020-09-29T10:00:00",
          "2020-09-29T10:15:00",
          "2020-09-29T10:30:00",
          "2020-09-29T10:45:00",
          "2020-09-29T11:00:00",
          "2020-09-29T11:15:00",
          "2020-09-29T11:30:00",
          "2020-09-29T11:45:00",
          "2020-09-29T12:00:00",
          "2020-09-29T12:15:00",
          "2020-09-29T12:30:00",
          "2020-09-29T12:45:00",
          "2020-09-29T13:00:00",
          "2020-09-29T13:15:00",
          "2020-09-29T13:30:00",
          "2020-09-29T13:45:00",
          "2020-09-29T14:00:00",
          "2020-09-29T14:15:00",
          "2020-09-29T14:30:00",
          "2020-09-29T14:45:00",
          "2020-09-29T15:00:00",
          "2020-09-29T15:15:00"
         ],
         "xaxis": "x",
         "yaxis": "y"
        },
        {
         "marker": {
          "color": "MediumPurple",
          "size": 8
         },
         "mode": "markers",
         "showlegend": false,
         "type": "scatter",
         "x": [
          "2020-09-28T15:45:00",
          "2020-09-29T00:15:00",
          "2020-09-29T05:00:00",
          "2020-09-29T07:00:00",
          "2020-09-29T11:00:00",
          "2020-09-29T14:15:00"
         ],
         "xaxis": "x",
         "y": [
          1.16619,
          1.16844,
          1.16799,
          1.16848,
          1.17149,
          1.17446
         ],
         "yaxis": "y"
        },
        {
         "marker": {
          "color": "mediumblue",
          "size": 8
         },
         "mode": "markers",
         "showlegend": false,
         "type": "scatter",
         "x": [
          "2020-09-28T15:00:00",
          "2020-09-28T19:30:00",
          "2020-09-29T01:45:00",
          "2020-09-29T06:15:00",
          "2020-09-29T10:45:00",
          "2020-09-29T12:30:00"
         ],
         "xaxis": "x",
         "y": [
          1.1643,
          1.16617,
          1.16677,
          1.16658,
          1.16823,
          1.16937
         ],
         "yaxis": "y"
        },
        {
         "close": [
          1.12297,
          1.12304,
          1.12303,
          1.12353,
          1.12368,
          1.12384,
          1.12368,
          1.1238,
          1.12408,
          1.1246,
          1.1234,
          1.12342,
          1.12356,
          1.12358,
          1.12403,
          1.12344,
          1.12342,
          1.12309,
          1.12285,
          1.12279,
          1.123,
          1.12207,
          1.1232,
          1.12314,
          1.12348,
          1.12332,
          1.1229,
          1.12341,
          1.12251,
          1.12243,
          1.12288,
          1.12298,
          1.12299,
          1.12302,
          1.12322,
          1.12387,
          1.12383,
          1.12413,
          1.12424,
          1.12447,
          1.12424,
          1.12444,
          1.12439,
          1.12429,
          1.12438,
          1.1238,
          1.12419,
          1.12425,
          1.12422,
          1.12449,
          1.12415,
          1.12442,
          1.1244,
          1.12455,
          1.12443,
          1.12454,
          1.12461,
          1.12454,
          1.12454,
          1.12453,
          1.1246,
          1.12475,
          1.12482,
          1.12529,
          1.12498,
          1.1249,
          1.1249,
          1.12514,
          1.12514,
          1.12484,
          1.12478,
          1.1247,
          1.12476,
          1.12487,
          1.12482,
          1.12447,
          1.12452,
          1.12447,
          1.1246,
          1.12464,
          1.1248,
          1.12482,
          1.12475,
          1.12598,
          1.126,
          1.12652,
          1.12648,
          1.12635,
          1.12656,
          1.12706,
          1.12699,
          1.12704,
          1.12715,
          1.12785,
          1.12779,
          1.12789,
          1.12791,
          1.12817,
          1.12833,
          1.12837,
          1.12827
         ],
         "high": [
          1.12336,
          1.1231,
          1.12325,
          1.12365,
          1.12376,
          1.12385,
          1.12427,
          1.1241,
          1.1241,
          1.12463,
          1.12474,
          1.12351,
          1.12374,
          1.12363,
          1.12424,
          1.12424,
          1.12394,
          1.12353,
          1.12323,
          1.12311,
          1.12311,
          1.12328,
          1.12324,
          1.12354,
          1.12354,
          1.12351,
          1.12378,
          1.1235,
          1.12345,
          1.12278,
          1.12292,
          1.1231,
          1.1232,
          1.12324,
          1.1234,
          1.12389,
          1.12399,
          1.12435,
          1.12445,
          1.12467,
          1.1249,
          1.12465,
          1.12469,
          1.1246,
          1.12454,
          1.12443,
          1.12434,
          1.12444,
          1.12455,
          1.1246,
          1.12449,
          1.12452,
          1.12454,
          1.12466,
          1.12468,
          1.12468,
          1.12475,
          1.12468,
          1.12463,
          1.12464,
          1.12463,
          1.12483,
          1.12491,
          1.12536,
          1.12544,
          1.12498,
          1.12514,
          1.12514,
          1.12514,
          1.12514,
          1.12494,
          1.1248,
          1.12481,
          1.12496,
          1.12503,
          1.12482,
          1.12463,
          1.12459,
          1.12462,
          1.12485,
          1.1248,
          1.12484,
          1.12502,
          1.1263,
          1.12653,
          1.12666,
          1.12677,
          1.12659,
          1.12657,
          1.12724,
          1.12737,
          1.12723,
          1.12722,
          1.12794,
          1.12799,
          1.12798,
          1.12804,
          1.12829,
          1.12859,
          1.12859,
          1.12841
         ],
         "low": [
          1.12288,
          1.12283,
          1.12301,
          1.12294,
          1.12346,
          1.12334,
          1.12358,
          1.12362,
          1.12369,
          1.12378,
          1.12332,
          1.12248,
          1.1231,
          1.12323,
          1.12355,
          1.12343,
          1.12337,
          1.12298,
          1.12269,
          1.12246,
          1.12277,
          1.122,
          1.12197,
          1.12303,
          1.12289,
          1.12304,
          1.12275,
          1.12266,
          1.12237,
          1.12206,
          1.12217,
          1.12277,
          1.12282,
          1.12262,
          1.12299,
          1.12316,
          1.12341,
          1.12362,
          1.12407,
          1.12364,
          1.12409,
          1.12412,
          1.12413,
          1.1242,
          1.12428,
          1.12378,
          1.12363,
          1.12417,
          1.12416,
          1.12422,
          1.12411,
          1.12411,
          1.12422,
          1.12426,
          1.12437,
          1.1242,
          1.12418,
          1.12436,
          1.12437,
          1.12447,
          1.12401,
          1.12453,
          1.12472,
          1.12474,
          1.1245,
          1.1249,
          1.1249,
          1.1249,
          1.12494,
          1.12462,
          1.12476,
          1.12462,
          1.12461,
          1.12466,
          1.12476,
          1.12441,
          1.12445,
          1.12447,
          1.12447,
          1.12454,
          1.12453,
          1.1247,
          1.12472,
          1.12475,
          1.12593,
          1.12591,
          1.12603,
          1.12628,
          1.12619,
          1.12625,
          1.12689,
          1.12693,
          1.12696,
          1.12698,
          1.12756,
          1.12771,
          1.12784,
          1.12788,
          1.12816,
          1.12833,
          1.12824
         ],
         "open": [
          1.12319,
          1.12297,
          1.12304,
          1.12303,
          1.12353,
          1.12368,
          1.12384,
          1.12368,
          1.1238,
          1.12408,
          1.1246,
          1.1234,
          1.12342,
          1.12356,
          1.12358,
          1.12403,
          1.12344,
          1.12342,
          1.12309,
          1.12285,
          1.12279,
          1.123,
          1.12207,
          1.1232,
          1.12314,
          1.12348,
          1.12332,
          1.1229,
          1.12341,
          1.12251,
          1.12243,
          1.12288,
          1.12298,
          1.12299,
          1.12302,
          1.12322,
          1.12387,
          1.12383,
          1.12413,
          1.12424,
          1.12447,
          1.12424,
          1.12444,
          1.12439,
          1.12429,
          1.12438,
          1.1238,
          1.12419,
          1.12425,
          1.12422,
          1.12449,
          1.12415,
          1.12442,
          1.1244,
          1.12455,
          1.12443,
          1.12454,
          1.12461,
          1.12454,
          1.12454,
          1.12453,
          1.1246,
          1.12475,
          1.12482,
          1.12529,
          1.12498,
          1.1249,
          1.1249,
          1.12514,
          1.12514,
          1.12484,
          1.12478,
          1.1247,
          1.12476,
          1.12487,
          1.12482,
          1.12447,
          1.12452,
          1.12447,
          1.1246,
          1.12464,
          1.1248,
          1.12482,
          1.12475,
          1.12598,
          1.126,
          1.12652,
          1.12648,
          1.12635,
          1.12656,
          1.12706,
          1.12699,
          1.12704,
          1.12715,
          1.12785,
          1.12779,
          1.12789,
          1.12791,
          1.12817,
          1.12833,
          1.12837
         ],
         "showlegend": false,
         "type": "candlestick",
         "x": [
          "2020-07-03T04:45:00",
          "2020-07-03T05:00:00",
          "2020-07-03T05:15:00",
          "2020-07-03T05:30:00",
          "2020-07-03T05:45:00",
          "2020-07-03T06:00:00",
          "2020-07-03T06:15:00",
          "2020-07-03T06:30:00",
          "2020-07-03T06:45:00",
          "2020-07-03T07:00:00",
          "2020-07-03T07:15:00",
          "2020-07-03T07:30:00",
          "2020-07-03T07:45:00",
          "2020-07-03T08:00:00",
          "2020-07-03T08:15:00",
          "2020-07-03T08:30:00",
          "2020-07-03T08:45:00",
          "2020-07-03T09:00:00",
          "2020-07-03T09:15:00",
          "2020-07-03T09:30:00",
          "2020-07-03T09:45:00",
          "2020-07-03T10:00:00",
          "2020-07-03T10:15:00",
          "2020-07-03T10:30:00",
          "2020-07-03T10:45:00",
          "2020-07-03T11:00:00",
          "2020-07-03T11:15:00",
          "2020-07-03T11:30:00",
          "2020-07-03T11:45:00",
          "2020-07-03T12:00:00",
          "2020-07-03T12:15:00",
          "2020-07-03T12:30:00",
          "2020-07-03T12:45:00",
          "2020-07-03T13:00:00",
          "2020-07-03T13:15:00",
          "2020-07-03T13:30:00",
          "2020-07-03T13:45:00",
          "2020-07-03T14:00:00",
          "2020-07-03T14:15:00",
          "2020-07-03T14:30:00",
          "2020-07-03T14:45:00",
          "2020-07-03T15:00:00",
          "2020-07-03T15:15:00",
          "2020-07-03T15:30:00",
          "2020-07-03T15:45:00",
          "2020-07-03T16:00:00",
          "2020-07-03T16:15:00",
          "2020-07-03T16:30:00",
          "2020-07-03T16:45:00",
          "2020-07-03T17:00:00",
          "2020-07-03T17:15:00",
          "2020-07-03T17:30:00",
          "2020-07-03T17:45:00",
          "2020-07-03T18:00:00",
          "2020-07-03T18:15:00",
          "2020-07-03T18:30:00",
          "2020-07-03T18:45:00",
          "2020-07-03T19:00:00",
          "2020-07-03T19:15:00",
          "2020-07-03T19:30:00",
          "2020-07-03T19:45:00",
          "2020-07-03T20:00:00",
          "2020-07-03T20:15:00",
          "2020-07-03T20:30:00",
          "2020-07-03T20:45:00",
          "2020-07-05T19:30:00",
          "2020-07-05T19:45:00",
          "2020-07-05T20:00:00",
          "2020-07-05T20:15:00",
          "2020-07-05T20:30:00",
          "2020-07-05T20:45:00",
          "2020-07-05T21:00:00",
          "2020-07-05T21:15:00",
          "2020-07-05T21:30:00",
          "2020-07-05T21:45:00",
          "2020-07-05T22:00:00",
          "2020-07-05T22:15:00",
          "2020-07-05T22:30:00",
          "2020-07-05T22:45:00",
          "2020-07-05T23:00:00",
          "2020-07-05T23:15:00",
          "2020-07-05T23:30:00",
          "2020-07-05T23:45:00",
          "2020-07-06T00:00:00",
          "2020-07-06T00:15:00",
          "2020-07-06T00:30:00",
          "2020-07-06T00:45:00",
          "2020-07-06T01:00:00",
          "2020-07-06T01:15:00",
          "2020-07-06T01:30:00",
          "2020-07-06T01:45:00",
          "2020-07-06T02:00:00",
          "2020-07-06T02:15:00",
          "2020-07-06T02:30:00",
          "2020-07-06T02:45:00",
          "2020-07-06T03:00:00",
          "2020-07-06T03:15:00",
          "2020-07-06T03:30:00",
          "2020-07-06T03:45:00",
          "2020-07-06T04:00:00",
          "2020-07-06T04:15:00"
         ],
         "xaxis": "x2",
         "yaxis": "y2"
        },
        {
         "marker": {
          "color": "MediumPurple",
          "size": 8
         },
         "mode": "markers",
         "showlegend": false,
         "type": "scatter",
         "x": [
          "2020-07-03T07:15:00",
          "2020-07-03T14:45:00",
          "2020-07-03T18:45:00",
          "2020-07-03T20:45:00",
          "2020-07-06T03:45:00"
         ],
         "xaxis": "x2",
         "y": [
          1.12474,
          1.1249,
          1.12475,
          1.12544,
          1.12859
         ],
         "yaxis": "y2"
        },
        {
         "marker": {
          "color": "mediumblue",
          "size": 8
         },
         "mode": "markers",
         "showlegend": false,
         "type": "scatter",
         "x": [
          "2020-07-03T05:00:00",
          "2020-07-03T10:15:00",
          "2020-07-03T16:15:00",
          "2020-07-03T19:45:00",
          "2020-07-05T21:15:00"
         ],
         "xaxis": "x2",
         "y": [
          1.12283,
          1.12197,
          1.12363,
          1.12401,
          1.12461
         ],
         "yaxis": "y2"
        }
       ],
       "layout": {
        "autosize": true,
        "template": {
         "data": {
          "bar": [
           {
            "error_x": {
             "color": "#2a3f5f"
            },
            "error_y": {
             "color": "#2a3f5f"
            },
            "marker": {
             "line": {
              "color": "#E5ECF6",
              "width": 0.5
             }
            },
            "type": "bar"
           }
          ],
          "barpolar": [
           {
            "marker": {
             "line": {
              "color": "#E5ECF6",
              "width": 0.5
             }
            },
            "type": "barpolar"
           }
          ],
          "carpet": [
           {
            "aaxis": {
             "endlinecolor": "#2a3f5f",
             "gridcolor": "white",
             "linecolor": "white",
             "minorgridcolor": "white",
             "startlinecolor": "#2a3f5f"
            },
            "baxis": {
             "endlinecolor": "#2a3f5f",
             "gridcolor": "white",
             "linecolor": "white",
             "minorgridcolor": "white",
             "startlinecolor": "#2a3f5f"
            },
            "type": "carpet"
           }
          ],
          "choropleth": [
           {
            "colorbar": {
             "outlinewidth": 0,
             "ticks": ""
            },
            "type": "choropleth"
           }
          ],
          "contour": [
           {
            "colorbar": {
             "outlinewidth": 0,
             "ticks": ""
            },
            "colorscale": [
             [
              0,
              "#0d0887"
             ],
             [
              0.1111111111111111,
              "#46039f"
             ],
             [
              0.2222222222222222,
              "#7201a8"
             ],
             [
              0.3333333333333333,
              "#9c179e"
             ],
             [
              0.4444444444444444,
              "#bd3786"
             ],
             [
              0.5555555555555556,
              "#d8576b"
             ],
             [
              0.6666666666666666,
              "#ed7953"
             ],
             [
              0.7777777777777778,
              "#fb9f3a"
             ],
             [
              0.8888888888888888,
              "#fdca26"
             ],
             [
              1,
              "#f0f921"
             ]
            ],
            "type": "contour"
           }
          ],
          "contourcarpet": [
           {
            "colorbar": {
             "outlinewidth": 0,
             "ticks": ""
            },
            "type": "contourcarpet"
           }
          ],
          "heatmap": [
           {
            "colorbar": {
             "outlinewidth": 0,
             "ticks": ""
            },
            "colorscale": [
             [
              0,
              "#0d0887"
             ],
             [
              0.1111111111111111,
              "#46039f"
             ],
             [
              0.2222222222222222,
              "#7201a8"
             ],
             [
              0.3333333333333333,
              "#9c179e"
             ],
             [
              0.4444444444444444,
              "#bd3786"
             ],
             [
              0.5555555555555556,
              "#d8576b"
             ],
             [
              0.6666666666666666,
              "#ed7953"
             ],
             [
              0.7777777777777778,
              "#fb9f3a"
             ],
             [
              0.8888888888888888,
              "#fdca26"
             ],
             [
              1,
              "#f0f921"
             ]
            ],
            "type": "heatmap"
           }
          ],
          "heatmapgl": [
           {
            "colorbar": {
             "outlinewidth": 0,
             "ticks": ""
            },
            "colorscale": [
             [
              0,
              "#0d0887"
             ],
             [
              0.1111111111111111,
              "#46039f"
             ],
             [
              0.2222222222222222,
              "#7201a8"
             ],
             [
              0.3333333333333333,
              "#9c179e"
             ],
             [
              0.4444444444444444,
              "#bd3786"
             ],
             [
              0.5555555555555556,
              "#d8576b"
             ],
             [
              0.6666666666666666,
              "#ed7953"
             ],
             [
              0.7777777777777778,
              "#fb9f3a"
             ],
             [
              0.8888888888888888,
              "#fdca26"
             ],
             [
              1,
              "#f0f921"
             ]
            ],
            "type": "heatmapgl"
           }
          ],
          "histogram": [
           {
            "marker": {
             "colorbar": {
              "outlinewidth": 0,
              "ticks": ""
             }
            },
            "type": "histogram"
           }
          ],
          "histogram2d": [
           {
            "colorbar": {
             "outlinewidth": 0,
             "ticks": ""
            },
            "colorscale": [
             [
              0,
              "#0d0887"
             ],
             [
              0.1111111111111111,
              "#46039f"
             ],
             [
              0.2222222222222222,
              "#7201a8"
             ],
             [
              0.3333333333333333,
              "#9c179e"
             ],
             [
              0.4444444444444444,
              "#bd3786"
             ],
             [
              0.5555555555555556,
              "#d8576b"
             ],
             [
              0.6666666666666666,
              "#ed7953"
             ],
             [
              0.7777777777777778,
              "#fb9f3a"
             ],
             [
              0.8888888888888888,
              "#fdca26"
             ],
             [
              1,
              "#f0f921"
             ]
            ],
            "type": "histogram2d"
           }
          ],
          "histogram2dcontour": [
           {
            "colorbar": {
             "outlinewidth": 0,
             "ticks": ""
            },
            "colorscale": [
             [
              0,
              "#0d0887"
             ],
             [
              0.1111111111111111,
              "#46039f"
             ],
             [
              0.2222222222222222,
              "#7201a8"
             ],
             [
              0.3333333333333333,
              "#9c179e"
             ],
             [
              0.4444444444444444,
              "#bd3786"
             ],
             [
              0.5555555555555556,
              "#d8576b"
             ],
             [
              0.6666666666666666,
              "#ed7953"
             ],
             [
              0.7777777777777778,
              "#fb9f3a"
             ],
             [
              0.8888888888888888,
              "#fdca26"
             ],
             [
              1,
              "#f0f921"
             ]
            ],
            "type": "histogram2dcontour"
           }
          ],
          "mesh3d": [
           {
            "colorbar": {
             "outlinewidth": 0,
             "ticks": ""
            },
            "type": "mesh3d"
           }
          ],
          "parcoords": [
           {
            "line": {
             "colorbar": {
              "outlinewidth": 0,
              "ticks": ""
             }
            },
            "type": "parcoords"
           }
          ],
          "pie": [
           {
            "automargin": true,
            "type": "pie"
           }
          ],
          "scatter": [
           {
            "marker": {
             "colorbar": {
              "outlinewidth": 0,
              "ticks": ""
             }
            },
            "type": "scatter"
           }
          ],
          "scatter3d": [
           {
            "line": {
             "colorbar": {
              "outlinewidth": 0,
              "ticks": ""
             }
            },
            "marker": {
             "colorbar": {
              "outlinewidth": 0,
              "ticks": ""
             }
            },
            "type": "scatter3d"
           }
          ],
          "scattercarpet": [
           {
            "marker": {
             "colorbar": {
              "outlinewidth": 0,
              "ticks": ""
             }
            },
            "type": "scattercarpet"
           }
          ],
          "scattergeo": [
           {
            "marker": {
             "colorbar": {
              "outlinewidth": 0,
              "ticks": ""
             }
            },
            "type": "scattergeo"
           }
          ],
          "scattergl": [
           {
            "marker": {
             "colorbar": {
              "outlinewidth": 0,
              "ticks": ""
             }
            },
            "type": "scattergl"
           }
          ],
          "scattermapbox": [
           {
            "marker": {
             "colorbar": {
              "outlinewidth": 0,
              "ticks": ""
             }
            },
            "type": "scattermapbox"
           }
          ],
          "scatterpolar": [
           {
            "marker": {
             "colorbar": {
              "outlinewidth": 0,
              "ticks": ""
             }
            },
            "type": "scatterpolar"
           }
          ],
          "scatterpolargl": [
           {
            "marker": {
             "colorbar": {
              "outlinewidth": 0,
              "ticks": ""
             }
            },
            "type": "scatterpolargl"
           }
          ],
          "scatterternary": [
           {
            "marker": {
             "colorbar": {
              "outlinewidth": 0,
              "ticks": ""
             }
            },
            "type": "scatterternary"
           }
          ],
          "surface": [
           {
            "colorbar": {
             "outlinewidth": 0,
             "ticks": ""
            },
            "colorscale": [
             [
              0,
              "#0d0887"
             ],
             [
              0.1111111111111111,
              "#46039f"
             ],
             [
              0.2222222222222222,
              "#7201a8"
             ],
             [
              0.3333333333333333,
              "#9c179e"
             ],
             [
              0.4444444444444444,
              "#bd3786"
             ],
             [
              0.5555555555555556,
              "#d8576b"
             ],
             [
              0.6666666666666666,
              "#ed7953"
             ],
             [
              0.7777777777777778,
              "#fb9f3a"
             ],
             [
              0.8888888888888888,
              "#fdca26"
             ],
             [
              1,
              "#f0f921"
             ]
            ],
            "type": "surface"
           }
          ],
          "table": [
           {
            "cells": {
             "fill": {
              "color": "#EBF0F8"
             },
             "line": {
              "color": "white"
             }
            },
            "header": {
             "fill": {
              "color": "#C8D4E3"
             },
             "line": {
              "color": "white"
             }
            },
            "type": "table"
           }
          ]
         },
         "layout": {
          "annotationdefaults": {
           "arrowcolor": "#2a3f5f",
           "arrowhead": 0,
           "arrowwidth": 1
          },
          "coloraxis": {
           "colorbar": {
            "outlinewidth": 0,
            "ticks": ""
           }
          },
          "colorscale": {
           "diverging": [
            [
             0,
             "#8e0152"
            ],
            [
             0.1,
             "#c51b7d"
            ],
            [
             0.2,
             "#de77ae"
            ],
            [
             0.3,
             "#f1b6da"
            ],
            [
             0.4,
             "#fde0ef"
            ],
            [
             0.5,
             "#f7f7f7"
            ],
            [
             0.6,
             "#e6f5d0"
            ],
            [
             0.7,
             "#b8e186"
            ],
            [
             0.8,
             "#7fbc41"
            ],
            [
             0.9,
             "#4d9221"
            ],
            [
             1,
             "#276419"
            ]
           ],
           "sequential": [
            [
             0,
             "#0d0887"
            ],
            [
             0.1111111111111111,
             "#46039f"
            ],
            [
             0.2222222222222222,
             "#7201a8"
            ],
            [
             0.3333333333333333,
             "#9c179e"
            ],
            [
             0.4444444444444444,
             "#bd3786"
            ],
            [
             0.5555555555555556,
             "#d8576b"
            ],
            [
             0.6666666666666666,
             "#ed7953"
            ],
            [
             0.7777777777777778,
             "#fb9f3a"
            ],
            [
             0.8888888888888888,
             "#fdca26"
            ],
            [
             1,
             "#f0f921"
            ]
           ],
           "sequentialminus": [
            [
             0,
             "#0d0887"
            ],
            [
             0.1111111111111111,
             "#46039f"
            ],
            [
             0.2222222222222222,
             "#7201a8"
            ],
            [
             0.3333333333333333,
             "#9c179e"
            ],
            [
             0.4444444444444444,
             "#bd3786"
            ],
            [
             0.5555555555555556,
             "#d8576b"
            ],
            [
             0.6666666666666666,
             "#ed7953"
            ],
            [
             0.7777777777777778,
             "#fb9f3a"
            ],
            [
             0.8888888888888888,
             "#fdca26"
            ],
            [
             1,
             "#f0f921"
            ]
           ]
          },
          "colorway": [
           "#636efa",
           "#EF553B",
           "#00cc96",
           "#ab63fa",
           "#FFA15A",
           "#19d3f3",
           "#FF6692",
           "#B6E880",
           "#FF97FF",
           "#FECB52"
          ],
          "font": {
           "color": "#2a3f5f"
          },
          "geo": {
           "bgcolor": "white",
           "lakecolor": "white",
           "landcolor": "#E5ECF6",
           "showlakes": true,
           "showland": true,
           "subunitcolor": "white"
          },
          "hoverlabel": {
           "align": "left"
          },
          "hovermode": "closest",
          "mapbox": {
           "style": "light"
          },
          "paper_bgcolor": "white",
          "plot_bgcolor": "#E5ECF6",
          "polar": {
           "angularaxis": {
            "gridcolor": "white",
            "linecolor": "white",
            "ticks": ""
           },
           "bgcolor": "#E5ECF6",
           "radialaxis": {
            "gridcolor": "white",
            "linecolor": "white",
            "ticks": ""
           }
          },
          "scene": {
           "xaxis": {
            "backgroundcolor": "#E5ECF6",
            "gridcolor": "white",
            "gridwidth": 2,
            "linecolor": "white",
            "showbackground": true,
            "ticks": "",
            "zerolinecolor": "white"
           },
           "yaxis": {
            "backgroundcolor": "#E5ECF6",
            "gridcolor": "white",
            "gridwidth": 2,
            "linecolor": "white",
            "showbackground": true,
            "ticks": "",
            "zerolinecolor": "white"
           },
           "zaxis": {
            "backgroundcolor": "#E5ECF6",
            "gridcolor": "white",
            "gridwidth": 2,
            "linecolor": "white",
            "showbackground": true,
            "ticks": "",
            "zerolinecolor": "white"
           }
          },
          "shapedefaults": {
           "line": {
            "color": "#2a3f5f"
           }
          },
          "ternary": {
           "aaxis": {
            "gridcolor": "white",
            "linecolor": "white",
            "ticks": ""
           },
           "baxis": {
            "gridcolor": "white",
            "linecolor": "white",
            "ticks": ""
           },
           "bgcolor": "#E5ECF6",
           "caxis": {
            "gridcolor": "white",
            "linecolor": "white",
            "ticks": ""
           }
          },
          "title": {
           "x": 0.05
          },
          "xaxis": {
           "automargin": true,
           "gridcolor": "white",
           "linecolor": "white",
           "ticks": "",
           "title": {
            "standoff": 15
           },
           "zerolinecolor": "white",
           "zerolinewidth": 2
          },
          "yaxis": {
           "automargin": true,
           "gridcolor": "white",
           "linecolor": "white",
           "ticks": "",
           "title": {
            "standoff": 15
           },
           "zerolinecolor": "white",
           "zerolinewidth": 2
          }
         }
        },
        "xaxis": {
         "anchor": "y",
         "autorange": true,
         "domain": [
          0,
          0.45
         ],
         "range": [
          "2020-09-28 13:27:33.2255",
          "2020-09-29 15:47:26.7745"
         ],
         "rangeslider": {
          "visible": false,
          "yaxis": {}
         },
         "type": "date"
        },
        "xaxis2": {
         "anchor": "y2",
         "autorange": true,
         "domain": [
          0.55,
          1
         ],
         "range": [
          "2020-07-03 00:18:41.1055",
          "2020-07-06 08:26:18.8945"
         ],
         "rangeslider": {
          "visible": false,
          "yaxis2": {}
         },
         "type": "date"
        },
        "yaxis": {
         "anchor": "x",
         "autorange": true,
         "domain": [
          0,
          1
         ],
         "range": [
          1.1634923653597586,
          1.1752676346402413
         ],
         "type": "linear"
        },
        "yaxis2": {
         "anchor": "x2",
         "autorange": true,
         "domain": [
          0,
          1
         ],
         "range": [
          1.1214437656182679,
          1.129116234381732
         ],
         "type": "linear"
        }
       }
      },
      "image/png": "[encoded data removed]",
      "text/html": [
       "<div>                            <div id=\"86abf574-35f6-49ef-9194-64021a043828\" class=\"plotly-graph-div\" style=\"height:525px; width:100%;\"></div>            <script type=\"text/javascript\">                require([\"plotly\"], function(Plotly) {                    window.PLOTLYENV=window.PLOTLYENV || {};                                    if (document.getElementById(\"86abf574-35f6-49ef-9194-64021a043828\")) {                    Plotly.newPlot(                        \"86abf574-35f6-49ef-9194-64021a043828\",                        [{\"close\": [1.1669, 1.16589, 1.16439, 1.16552, 1.16554, 1.16587, 1.16608, 1.16606, 1.16551, 1.16572, 1.16565, 1.16557, 1.16586, 1.16622, 1.16649, 1.16655, 1.16643, 1.16686, 1.16643, 1.16637, 1.16662, 1.16653, 1.16706, 1.16666, 1.16636, 1.16664, 1.16694, 1.16655, 1.16664, 1.16659, 1.16659, 1.16643, 1.16668, 1.16682, 1.16697, 1.16689, 1.16718, 1.16712, 1.16777, 1.16827, 1.16795, 1.16786, 1.16775, 1.16704, 1.16725, 1.16692, 1.16686, 1.16745, 1.16728, 1.16718, 1.16713, 1.16744, 1.16764, 1.1677, 1.16752, 1.16757, 1.16741, 1.16729, 1.16769, 1.1675, 1.16712, 1.16719, 1.1672, 1.16692, 1.16724, 1.16729, 1.16807, 1.16711, 1.16763, 1.168, 1.16818, 1.16723, 1.168, 1.16824, 1.16839, 1.16908, 1.16943, 1.16967, 1.16937, 1.16918, 1.16922, 1.16826, 1.16989, 1.17105, 1.1704, 1.17077, 1.17086, 1.17027, 1.17081, 1.17038, 1.17039, 1.16967, 1.17072, 1.17226, 1.1725, 1.17279, 1.17389, 1.1732, 1.17317, 1.17356, 1.17378], \"high\": [1.16725, 1.16704, 1.16596, 1.16562, 1.16583, 1.16604, 1.16619, 1.1661, 1.1661, 1.16577, 1.16583, 1.16574, 1.16587, 1.16634, 1.16669, 1.16679, 1.16663, 1.16686, 1.16693, 1.16678, 1.16674, 1.16662, 1.1671, 1.1672, 1.1667, 1.16667, 1.16694, 1.16711, 1.16664, 1.16671, 1.16659, 1.16664, 1.16669, 1.16683, 1.167, 1.16713, 1.16718, 1.16729, 1.168, 1.16831, 1.16844, 1.16801, 1.16806, 1.16796, 1.16742, 1.1673, 1.16707, 1.16756, 1.16746, 1.1673, 1.16718, 1.16749, 1.16773, 1.1677, 1.16772, 1.16768, 1.16763, 1.16754, 1.1677, 1.16799, 1.16751, 1.16724, 1.16748, 1.16755, 1.16732, 1.16756, 1.1683, 1.16848, 1.16821, 1.16822, 1.16841, 1.16822, 1.168, 1.16825, 1.16872, 1.16953, 1.16948, 1.16977, 1.16984, 1.16939, 1.16944, 1.16923, 1.16992, 1.17149, 1.17134, 1.17093, 1.17087, 1.17093, 1.1711, 1.17099, 1.17072, 1.17044, 1.17082, 1.17267, 1.17282, 1.17353, 1.17446, 1.17405, 1.17359, 1.17421, 1.17428], \"low\": [1.16651, 1.16544, 1.16433, 1.1643, 1.16492, 1.16532, 1.16555, 1.16529, 1.16533, 1.16522, 1.16561, 1.16546, 1.16542, 1.16582, 1.16616, 1.1662, 1.16628, 1.16636, 1.1664, 1.16629, 1.16627, 1.16617, 1.16638, 1.16663, 1.16634, 1.16615, 1.16657, 1.16645, 1.16654, 1.16626, 1.1665, 1.16637, 1.1664, 1.16662, 1.16679, 1.16685, 1.16681, 1.16682, 1.16711, 1.16758, 1.1678, 1.16768, 1.16763, 1.16697, 1.16682, 1.16684, 1.16677, 1.16686, 1.16701, 1.16698, 1.16692, 1.16712, 1.16736, 1.16757, 1.16742, 1.16738, 1.16739, 1.1672, 1.16728, 1.16749, 1.16707, 1.16696, 1.16714, 1.16675, 1.16658, 1.16687, 1.16718, 1.16674, 1.16697, 1.16733, 1.16759, 1.16663, 1.16718, 1.16772, 1.16782, 1.16816, 1.16878, 1.16905, 1.16934, 1.16878, 1.16875, 1.16823, 1.16823, 1.16963, 1.17032, 1.17012, 1.17024, 1.17013, 1.17011, 1.16937, 1.17004, 1.16956, 1.16963, 1.17061, 1.17226, 1.17225, 1.1727, 1.17287, 1.17282, 1.17279, 1.17344], \"open\": [1.16699, 1.1669, 1.16589, 1.16439, 1.16552, 1.16554, 1.16587, 1.16608, 1.16606, 1.16551, 1.16572, 1.16565, 1.16557, 1.16586, 1.16622, 1.16649, 1.16655, 1.16643, 1.16686, 1.16643, 1.16637, 1.16662, 1.16653, 1.16706, 1.16666, 1.16636, 1.16664, 1.16694, 1.16655, 1.16664, 1.16659, 1.16659, 1.16643, 1.16668, 1.16682, 1.16697, 1.16689, 1.16718, 1.16712, 1.16777, 1.16827, 1.16795, 1.16786, 1.16775, 1.16704, 1.16725, 1.16692, 1.16686, 1.16745, 1.16728, 1.16718, 1.16713, 1.16744, 1.16764, 1.1677, 1.16752, 1.16757, 1.16741, 1.16729, 1.16769, 1.1675, 1.16712, 1.16719, 1.1672, 1.16692, 1.16724, 1.16729, 1.16807, 1.16711, 1.16763, 1.168, 1.16818, 1.16723, 1.168, 1.16824, 1.16839, 1.16908, 1.16943, 1.16967, 1.16937, 1.16918, 1.16922, 1.16826, 1.16989, 1.17105, 1.1704, 1.17077, 1.17086, 1.17027, 1.17081, 1.17038, 1.17039, 1.16967, 1.17072, 1.17226, 1.1725, 1.17279, 1.17389, 1.1732, 1.17317, 1.17356], \"showlegend\": false, \"type\": \"candlestick\", \"x\": [\"2020-09-28T14:15:00\", \"2020-09-28T14:30:00\", \"2020-09-28T14:45:00\", \"2020-09-28T15:00:00\", \"2020-09-28T15:15:00\", \"2020-09-28T15:30:00\", \"2020-09-28T15:45:00\", \"2020-09-28T16:00:00\", \"2020-09-28T16:15:00\", \"2020-09-28T16:30:00\", \"2020-09-28T16:45:00\", \"2020-09-28T17:00:00\", \"2020-09-28T17:15:00\", \"2020-09-28T17:30:00\", \"2020-09-28T17:45:00\", \"2020-09-28T18:00:00\", \"2020-09-28T18:15:00\", \"2020-09-28T18:30:00\", \"2020-09-28T18:45:00\", \"2020-09-28T19:00:00\", \"2020-09-28T19:15:00\", \"2020-09-28T19:30:00\", \"2020-09-28T19:45:00\", \"2020-09-28T20:00:00\", \"2020-09-28T20:15:00\", \"2020-09-28T20:30:00\", \"2020-09-28T20:45:00\", \"2020-09-28T21:00:00\", \"2020-09-28T21:15:00\", \"2020-09-28T21:30:00\", \"2020-09-28T21:45:00\", \"2020-09-28T22:00:00\", \"2020-09-28T22:15:00\", \"2020-09-28T22:30:00\", \"2020-09-28T22:45:00\", \"2020-09-28T23:00:00\", \"2020-09-28T23:15:00\", \"2020-09-28T23:30:00\", \"2020-09-28T23:45:00\", \"2020-09-29T00:00:00\", \"2020-09-29T00:15:00\", \"2020-09-29T00:30:00\", \"2020-09-29T00:45:00\", \"2020-09-29T01:00:00\", \"2020-09-29T01:15:00\", \"2020-09-29T01:30:00\", \"2020-09-29T01:45:00\", \"2020-09-29T02:00:00\", \"2020-09-29T02:15:00\", \"2020-09-29T02:30:00\", \"2020-09-29T02:45:00\", \"2020-09-29T03:00:00\", \"2020-09-29T03:15:00\", \"2020-09-29T03:30:00\", \"2020-09-29T03:45:00\", \"2020-09-29T04:00:00\", \"2020-09-29T04:15:00\", \"2020-09-29T04:30:00\", \"2020-09-29T04:45:00\", \"2020-09-29T05:00:00\", \"2020-09-29T05:15:00\", \"2020-09-29T05:30:00\", \"2020-09-29T05:45:00\", \"2020-09-29T06:00:00\", \"2020-09-29T06:15:00\", \"2020-09-29T06:30:00\", \"2020-09-29T06:45:00\", \"2020-09-29T07:00:00\", \"2020-09-29T07:15:00\", \"2020-09-29T07:30:00\", \"2020-09-29T07:45:00\", \"2020-09-29T08:00:00\", \"2020-09-29T08:15:00\", \"2020-09-29T08:30:00\", \"2020-09-29T08:45:00\", \"2020-09-29T09:00:00\", \"2020-09-29T09:15:00\", \"2020-09-29T09:30:00\", \"2020-09-29T09:45:00\", \"2020-09-29T10:00:00\", \"2020-09-29T10:15:00\", \"2020-09-29T10:30:00\", \"2020-09-29T10:45:00\", \"2020-09-29T11:00:00\", \"2020-09-29T11:15:00\", \"2020-09-29T11:30:00\", \"2020-09-29T11:45:00\", \"2020-09-29T12:00:00\", \"2020-09-29T12:15:00\", \"2020-09-29T12:30:00\", \"2020-09-29T12:45:00\", \"2020-09-29T13:00:00\", \"2020-09-29T13:15:00\", \"2020-09-29T13:30:00\", \"2020-09-29T13:45:00\", \"2020-09-29T14:00:00\", \"2020-09-29T14:15:00\", \"2020-09-29T14:30:00\", \"2020-09-29T14:45:00\", \"2020-09-29T15:00:00\", \"2020-09-29T15:15:00\"], \"xaxis\": \"x\", \"yaxis\": \"y\"}, {\"marker\": {\"color\": \"MediumPurple\", \"size\": 8}, \"mode\": \"markers\", \"showlegend\": false, \"type\": \"scatter\", \"x\": [\"2020-09-28T15:45:00\", \"2020-09-29T00:15:00\", \"2020-09-29T05:00:00\", \"2020-09-29T07:00:00\", \"2020-09-29T11:00:00\", \"2020-09-29T14:15:00\"], \"xaxis\": \"x\", \"y\": [1.16619, 1.16844, 1.16799, 1.16848, 1.17149, 1.17446], \"yaxis\": \"y\"}, {\"marker\": {\"color\": \"mediumblue\", \"size\": 8}, \"mode\": \"markers\", \"showlegend\": false, \"type\": \"scatter\", \"x\": [\"2020-09-28T15:00:00\", \"2020-09-28T19:30:00\", \"2020-09-29T01:45:00\", \"2020-09-29T06:15:00\", \"2020-09-29T10:45:00\", \"2020-09-29T12:30:00\"], \"xaxis\": \"x\", \"y\": [1.1643, 1.16617, 1.16677, 1.16658, 1.16823, 1.16937], \"yaxis\": \"y\"}, {\"close\": [1.12297, 1.12304, 1.12303, 1.12353, 1.12368, 1.12384, 1.12368, 1.1238, 1.12408, 1.1246, 1.1234, 1.12342, 1.12356, 1.12358, 1.12403, 1.12344, 1.12342, 1.12309, 1.12285, 1.12279, 1.123, 1.12207, 1.1232, 1.12314, 1.12348, 1.12332, 1.1229, 1.12341, 1.12251, 1.12243, 1.12288, 1.12298, 1.12299, 1.12302, 1.12322, 1.12387, 1.12383, 1.12413, 1.12424, 1.12447, 1.12424, 1.12444, 1.12439, 1.12429, 1.12438, 1.1238, 1.12419, 1.12425, 1.12422, 1.12449, 1.12415, 1.12442, 1.1244, 1.12455, 1.12443, 1.12454, 1.12461, 1.12454, 1.12454, 1.12453, 1.1246, 1.12475, 1.12482, 1.12529, 1.12498, 1.1249, 1.1249, 1.12514, 1.12514, 1.12484, 1.12478, 1.1247, 1.12476, 1.12487, 1.12482, 1.12447, 1.12452, 1.12447, 1.1246, 1.12464, 1.1248, 1.12482, 1.12475, 1.12598, 1.126, 1.12652, 1.12648, 1.12635, 1.12656, 1.12706, 1.12699, 1.12704, 1.12715, 1.12785, 1.12779, 1.12789, 1.12791, 1.12817, 1.12833, 1.12837, 1.12827], \"high\": [1.12336, 1.1231, 1.12325, 1.12365, 1.12376, 1.12385, 1.12427, 1.1241, 1.1241, 1.12463, 1.12474, 1.12351, 1.12374, 1.12363, 1.12424, 1.12424, 1.12394, 1.12353, 1.12323, 1.12311, 1.12311, 1.12328, 1.12324, 1.12354, 1.12354, 1.12351, 1.12378, 1.1235, 1.12345, 1.12278, 1.12292, 1.1231, 1.1232, 1.12324, 1.1234, 1.12389, 1.12399, 1.12435, 1.12445, 1.12467, 1.1249, 1.12465, 1.12469, 1.1246, 1.12454, 1.12443, 1.12434, 1.12444, 1.12455, 1.1246, 1.12449, 1.12452, 1.12454, 1.12466, 1.12468, 1.12468, 1.12475, 1.12468, 1.12463, 1.12464, 1.12463, 1.12483, 1.12491, 1.12536, 1.12544, 1.12498, 1.12514, 1.12514, 1.12514, 1.12514, 1.12494, 1.1248, 1.12481, 1.12496, 1.12503, 1.12482, 1.12463, 1.12459, 1.12462, 1.12485, 1.1248, 1.12484, 1.12502, 1.1263, 1.12653, 1.12666, 1.12677, 1.12659, 1.12657, 1.12724, 1.12737, 1.12723, 1.12722, 1.12794, 1.12799, 1.12798, 1.12804, 1.12829, 1.12859, 1.12859, 1.12841], \"low\": [1.12288, 1.12283, 1.12301, 1.12294, 1.12346, 1.12334, 1.12358, 1.12362, 1.12369, 1.12378, 1.12332, 1.12248, 1.1231, 1.12323, 1.12355, 1.12343, 1.12337, 1.12298, 1.12269, 1.12246, 1.12277, 1.122, 1.12197, 1.12303, 1.12289, 1.12304, 1.12275, 1.12266, 1.12237, 1.12206, 1.12217, 1.12277, 1.12282, 1.12262, 1.12299, 1.12316, 1.12341, 1.12362, 1.12407, 1.12364, 1.12409, 1.12412, 1.12413, 1.1242, 1.12428, 1.12378, 1.12363, 1.12417, 1.12416, 1.12422, 1.12411, 1.12411, 1.12422, 1.12426, 1.12437, 1.1242, 1.12418, 1.12436, 1.12437, 1.12447, 1.12401, 1.12453, 1.12472, 1.12474, 1.1245, 1.1249, 1.1249, 1.1249, 1.12494, 1.12462, 1.12476, 1.12462, 1.12461, 1.12466, 1.12476, 1.12441, 1.12445, 1.12447, 1.12447, 1.12454, 1.12453, 1.1247, 1.12472, 1.12475, 1.12593, 1.12591, 1.12603, 1.12628, 1.12619, 1.12625, 1.12689, 1.12693, 1.12696, 1.12698, 1.12756, 1.12771, 1.12784, 1.12788, 1.12816, 1.12833, 1.12824], \"open\": [1.12319, 1.12297, 1.12304, 1.12303, 1.12353, 1.12368, 1.12384, 1.12368, 1.1238, 1.12408, 1.1246, 1.1234, 1.12342, 1.12356, 1.12358, 1.12403, 1.12344, 1.12342, 1.12309, 1.12285, 1.12279, 1.123, 1.12207, 1.1232, 1.12314, 1.12348, 1.12332, 1.1229, 1.12341, 1.12251, 1.12243, 1.12288, 1.12298, 1.12299, 1.12302, 1.12322, 1.12387, 1.12383, 1.12413, 1.12424, 1.12447, 1.12424, 1.12444, 1.12439, 1.12429, 1.12438, 1.1238, 1.12419, 1.12425, 1.12422, 1.12449, 1.12415, 1.12442, 1.1244, 1.12455, 1.12443, 1.12454, 1.12461, 1.12454, 1.12454, 1.12453, 1.1246, 1.12475, 1.12482, 1.12529, 1.12498, 1.1249, 1.1249, 1.12514, 1.12514, 1.12484, 1.12478, 1.1247, 1.12476, 1.12487, 1.12482, 1.12447, 1.12452, 1.12447, 1.1246, 1.12464, 1.1248, 1.12482, 1.12475, 1.12598, 1.126, 1.12652, 1.12648, 1.12635, 1.12656, 1.12706, 1.12699, 1.12704, 1.12715, 1.12785, 1.12779, 1.12789, 1.12791, 1.12817, 1.12833, 1.12837], \"showlegend\": false, \"type\": \"candlestick\", \"x\": [\"2020-07-03T04:45:00\", \"2020-07-03T05:00:00\", \"2020-07-03T05:15:00\", \"2020-07-03T05:30:00\", \"2020-07-03T05:45:00\", \"2020-07-03T06:00:00\", \"2020-07-03T06:15:00\", \"2020-07-03T06:30:00\", \"2020-07-03T06:45:00\", \"2020-07-03T07:00:00\", \"2020-07-03T07:15:00\", \"2020-07-03T07:30:00\", \"2020-07-03T07:45:00\", \"2020-07-03T08:00:00\", \"2020-07-03T08:15:00\", \"2020-07-03T08:30:00\", \"2020-07-03T08:45:00\", \"2020-07-03T09:00:00\", \"2020-07-03T09:15:00\", \"2020-07-03T09:30:00\", \"2020-07-03T09:45:00\", \"2020-07-03T10:00:00\", \"2020-07-03T10:15:00\", \"2020-07-03T10:30:00\", \"2020-07-03T10:45:00\", \"2020-07-03T11:00:00\", \"2020-07-03T11:15:00\", \"2020-07-03T11:30:00\", \"2020-07-03T11:45:00\", \"2020-07-03T12:00:00\", \"2020-07-03T12:15:00\", \"2020-07-03T12:30:00\", \"2020-07-03T12:45:00\", \"2020-07-03T13:00:00\", \"2020-07-03T13:15:00\", \"2020-07-03T13:30:00\", \"2020-07-03T13:45:00\", \"2020-07-03T14:00:00\", \"2020-07-03T14:15:00\", \"2020-07-03T14:30:00\", \"2020-07-03T14:45:00\", \"2020-07-03T15:00:00\", \"2020-07-03T15:15:00\", \"2020-07-03T15:30:00\", \"2020-07-03T15:45:00\", \"2020-07-03T16:00:00\", \"2020-07-03T16:15:00\", \"2020-07-03T16:30:00\", \"2020-07-03T16:45:00\", \"2020-07-03T17:00:00\", \"2020-07-03T17:15:00\", \"2020-07-03T17:30:00\", \"2020-07-03T17:45:00\", \"2020-07-03T18:00:00\", \"2020-07-03T18:15:00\", \"2020-07-03T18:30:00\", \"2020-07-03T18:45:00\", \"2020-07-03T19:00:00\", \"2020-07-03T19:15:00\", \"2020-07-03T19:30:00\", \"2020-07-03T19:45:00\", \"2020-07-03T20:00:00\", \"2020-07-03T20:15:00\", \"2020-07-03T20:30:00\", \"2020-07-03T20:45:00\", \"2020-07-05T19:30:00\", \"2020-07-05T19:45:00\", \"2020-07-05T20:00:00\", \"2020-07-05T20:15:00\", \"2020-07-05T20:30:00\", \"2020-07-05T20:45:00\", \"2020-07-05T21:00:00\", \"2020-07-05T21:15:00\", \"2020-07-05T21:30:00\", \"2020-07-05T21:45:00\", \"2020-07-05T22:00:00\", \"2020-07-05T22:15:00\", \"2020-07-05T22:30:00\", \"2020-07-05T22:45:00\", \"2020-07-05T23:00:00\", \"2020-07-05T23:15:00\", \"2020-07-05T23:30:00\", \"2020-07-05T23:45:00\", \"2020-07-06T00:00:00\", \"2020-07-06T00:15:00\", \"2020-07-06T00:30:00\", \"2020-07-06T00:45:00\", \"2020-07-06T01:00:00\", \"2020-07-06T01:15:00\", \"2020-07-06T01:30:00\", \"2020-07-06T01:45:00\", \"2020-07-06T02:00:00\", \"2020-07-06T02:15:00\", \"2020-07-06T02:30:00\", \"2020-07-06T02:45:00\", \"2020-07-06T03:00:00\", \"2020-07-06T03:15:00\", \"2020-07-06T03:30:00\", \"2020-07-06T03:45:00\", \"2020-07-06T04:00:00\", \"2020-07-06T04:15:00\"], \"xaxis\": \"x2\", \"yaxis\": \"y2\"}, {\"marker\": {\"color\": \"MediumPurple\", \"size\": 8}, \"mode\": \"markers\", \"showlegend\": false, \"type\": \"scatter\", \"x\": [\"2020-07-03T07:15:00\", \"2020-07-03T14:45:00\", \"2020-07-03T18:45:00\", \"2020-07-03T20:45:00\", \"2020-07-06T03:45:00\"], \"xaxis\": \"x2\", \"y\": [1.12474, 1.1249, 1.12475, 1.12544, 1.12859], \"yaxis\": \"y2\"}, {\"marker\": {\"color\": \"mediumblue\", \"size\": 8}, \"mode\": \"markers\", \"showlegend\": false, \"type\": \"scatter\", \"x\": [\"2020-07-03T05:00:00\", \"2020-07-03T10:15:00\", \"2020-07-03T16:15:00\", \"2020-07-03T19:45:00\", \"2020-07-05T21:15:00\"], \"xaxis\": \"x2\", \"y\": [1.12283, 1.12197, 1.12363, 1.12401, 1.12461], \"yaxis\": \"y2\"}],                        {\"template\": {\"data\": {\"bar\": [{\"error_x\": {\"color\": \"#2a3f5f\"}, \"error_y\": {\"color\": \"#2a3f5f\"}, \"marker\": {\"line\": {\"color\": \"#E5ECF6\", \"width\": 0.5}}, \"type\": \"bar\"}], \"barpolar\": [{\"marker\": {\"line\": {\"color\": \"#E5ECF6\", \"width\": 0.5}}, \"type\": \"barpolar\"}], \"carpet\": [{\"aaxis\": {\"endlinecolor\": \"#2a3f5f\", \"gridcolor\": \"white\", \"linecolor\": \"white\", \"minorgridcolor\": \"white\", \"startlinecolor\": \"#2a3f5f\"}, \"baxis\": {\"endlinecolor\": \"#2a3f5f\", \"gridcolor\": \"white\", \"linecolor\": \"white\", \"minorgridcolor\": \"white\", \"startlinecolor\": \"#2a3f5f\"}, \"type\": \"carpet\"}], \"choropleth\": [{\"colorbar\": {\"outlinewidth\": 0, \"ticks\": \"\"}, \"type\": \"choropleth\"}], \"contour\": [{\"colorbar\": {\"outlinewidth\": 0, \"ticks\": \"\"}, \"colorscale\": [[0.0, \"#0d0887\"], [0.1111111111111111, \"#46039f\"], [0.2222222222222222, \"#7201a8\"], [0.3333333333333333, \"#9c179e\"], [0.4444444444444444, \"#bd3786\"], [0.5555555555555556, \"#d8576b\"], [0.6666666666666666, \"#ed7953\"], [0.7777777777777778, \"#fb9f3a\"], [0.8888888888888888, \"#fdca26\"], [1.0, \"#f0f921\"]], \"type\": \"contour\"}], \"contourcarpet\": [{\"colorbar\": {\"outlinewidth\": 0, \"ticks\": \"\"}, \"type\": \"contourcarpet\"}], \"heatmap\": [{\"colorbar\": {\"outlinewidth\": 0, \"ticks\": \"\"}, \"colorscale\": [[0.0, \"#0d0887\"], [0.1111111111111111, \"#46039f\"], [0.2222222222222222, \"#7201a8\"], [0.3333333333333333, \"#9c179e\"], [0.4444444444444444, \"#bd3786\"], [0.5555555555555556, \"#d8576b\"], [0.6666666666666666, \"#ed7953\"], [0.7777777777777778, \"#fb9f3a\"], [0.8888888888888888, \"#fdca26\"], [1.0, \"#f0f921\"]], \"type\": \"heatmap\"}], \"heatmapgl\": [{\"colorbar\": {\"outlinewidth\": 0, \"ticks\": \"\"}, \"colorscale\": [[0.0, \"#0d0887\"], [0.1111111111111111, \"#46039f\"], [0.2222222222222222, \"#7201a8\"], [0.3333333333333333, \"#9c179e\"], [0.4444444444444444, \"#bd3786\"], [0.5555555555555556, \"#d8576b\"], [0.6666666666666666, \"#ed7953\"], [0.7777777777777778, \"#fb9f3a\"], [0.8888888888888888, \"#fdca26\"], [1.0, \"#f0f921\"]], \"type\": \"heatmapgl\"}], \"histogram\": [{\"marker\": {\"colorbar\": {\"outlinewidth\": 0, \"ticks\": \"\"}}, \"type\": \"histogram\"}], \"histogram2d\": [{\"colorbar\": {\"outlinewidth\": 0, \"ticks\": \"\"}, \"colorscale\": [[0.0, \"#0d0887\"], [0.1111111111111111, \"#46039f\"], [0.2222222222222222, \"#7201a8\"], [0.3333333333333333, \"#9c179e\"], [0.4444444444444444, \"#bd3786\"], [0.5555555555555556, \"#d8576b\"], [0.6666666666666666, \"#ed7953\"], [0.7777777777777778, \"#fb9f3a\"], [0.8888888888888888, \"#fdca26\"], [1.0, \"#f0f921\"]], \"type\": \"histogram2d\"}], \"histogram2dcontour\": [{\"colorbar\": {\"outlinewidth\": 0, \"ticks\": \"\"}, \"colorscale\": [[0.0, \"#0d0887\"], [0.1111111111111111, \"#46039f\"], [0.2222222222222222, \"#7201a8\"], [0.3333333333333333, \"#9c179e\"], [0.4444444444444444, \"#bd3786\"], [0.5555555555555556, \"#d8576b\"], [0.6666666666666666, \"#ed7953\"], [0.7777777777777778, \"#fb9f3a\"], [0.8888888888888888, \"#fdca26\"], [1.0, \"#f0f921\"]], \"type\": \"histogram2dcontour\"}], \"mesh3d\": [{\"colorbar\": {\"outlinewidth\": 0, \"ticks\": \"\"}, \"type\": \"mesh3d\"}], \"parcoords\": [{\"line\": {\"colorbar\": {\"outlinewidth\": 0, \"ticks\": \"\"}}, \"type\": \"parcoords\"}], \"pie\": [{\"automargin\": true, \"type\": \"pie\"}], \"scatter\": [{\"marker\": {\"colorbar\": {\"outlinewidth\": 0, \"ticks\": \"\"}}, \"type\": \"scatter\"}], \"scatter3d\": [{\"line\": {\"colorbar\": {\"outlinewidth\": 0, \"ticks\": \"\"}}, \"marker\": {\"colorbar\": {\"outlinewidth\": 0, \"ticks\": \"\"}}, \"type\": \"scatter3d\"}], \"scattercarpet\": [{\"marker\": {\"colorbar\": {\"outlinewidth\": 0, \"ticks\": \"\"}}, \"type\": \"scattercarpet\"}], \"scattergeo\": [{\"marker\": {\"colorbar\": {\"outlinewidth\": 0, \"ticks\": \"\"}}, \"type\": \"scattergeo\"}], \"scattergl\": [{\"marker\": {\"colorbar\": {\"outlinewidth\": 0, \"ticks\": \"\"}}, \"type\": \"scattergl\"}], \"scattermapbox\": [{\"marker\": {\"colorbar\": {\"outlinewidth\": 0, \"ticks\": \"\"}}, \"type\": \"scattermapbox\"}], \"scatterpolar\": [{\"marker\": {\"colorbar\": {\"outlinewidth\": 0, \"ticks\": \"\"}}, \"type\": \"scatterpolar\"}], \"scatterpolargl\": [{\"marker\": {\"colorbar\": {\"outlinewidth\": 0, \"ticks\": \"\"}}, \"type\": \"scatterpolargl\"}], \"scatterternary\": [{\"marker\": {\"colorbar\": {\"outlinewidth\": 0, \"ticks\": \"\"}}, \"type\": \"scatterternary\"}], \"surface\": [{\"colorbar\": {\"outlinewidth\": 0, \"ticks\": \"\"}, \"colorscale\": [[0.0, \"#0d0887\"], [0.1111111111111111, \"#46039f\"], [0.2222222222222222, \"#7201a8\"], [0.3333333333333333, \"#9c179e\"], [0.4444444444444444, \"#bd3786\"], [0.5555555555555556, \"#d8576b\"], [0.6666666666666666, \"#ed7953\"], [0.7777777777777778, \"#fb9f3a\"], [0.8888888888888888, \"#fdca26\"], [1.0, \"#f0f921\"]], \"type\": \"surface\"}], \"table\": [{\"cells\": {\"fill\": {\"color\": \"#EBF0F8\"}, \"line\": {\"color\": \"white\"}}, \"header\": {\"fill\": {\"color\": \"#C8D4E3\"}, \"line\": {\"color\": \"white\"}}, \"type\": \"table\"}]}, \"layout\": {\"annotationdefaults\": {\"arrowcolor\": \"#2a3f5f\", \"arrowhead\": 0, \"arrowwidth\": 1}, \"coloraxis\": {\"colorbar\": {\"outlinewidth\": 0, \"ticks\": \"\"}}, \"colorscale\": {\"diverging\": [[0, \"#8e0152\"], [0.1, \"#c51b7d\"], [0.2, \"#de77ae\"], [0.3, \"#f1b6da\"], [0.4, \"#fde0ef\"], [0.5, \"#f7f7f7\"], [0.6, \"#e6f5d0\"], [0.7, \"#b8e186\"], [0.8, \"#7fbc41\"], [0.9, \"#4d9221\"], [1, \"#276419\"]], \"sequential\": [[0.0, \"#0d0887\"], [0.1111111111111111, \"#46039f\"], [0.2222222222222222, \"#7201a8\"], [0.3333333333333333, \"#9c179e\"], [0.4444444444444444, \"#bd3786\"], [0.5555555555555556, \"#d8576b\"], [0.6666666666666666, \"#ed7953\"], [0.7777777777777778, \"#fb9f3a\"], [0.8888888888888888, \"#fdca26\"], [1.0, \"#f0f921\"]], \"sequentialminus\": [[0.0, \"#0d0887\"], [0.1111111111111111, \"#46039f\"], [0.2222222222222222, \"#7201a8\"], [0.3333333333333333, \"#9c179e\"], [0.4444444444444444, \"#bd3786\"], [0.5555555555555556, \"#d8576b\"], [0.6666666666666666, \"#ed7953\"], [0.7777777777777778, \"#fb9f3a\"], [0.8888888888888888, \"#fdca26\"], [1.0, \"#f0f921\"]]}, \"colorway\": [\"#636efa\", \"#EF553B\", \"#00cc96\", \"#ab63fa\", \"#FFA15A\", \"#19d3f3\", \"#FF6692\", \"#B6E880\", \"#FF97FF\", \"#FECB52\"], \"font\": {\"color\": \"#2a3f5f\"}, \"geo\": {\"bgcolor\": \"white\", \"lakecolor\": \"white\", \"landcolor\": \"#E5ECF6\", \"showlakes\": true, \"showland\": true, \"subunitcolor\": \"white\"}, \"hoverlabel\": {\"align\": \"left\"}, \"hovermode\": \"closest\", \"mapbox\": {\"style\": \"light\"}, \"paper_bgcolor\": \"white\", \"plot_bgcolor\": \"#E5ECF6\", \"polar\": {\"angularaxis\": {\"gridcolor\": \"white\", \"linecolor\": \"white\", \"ticks\": \"\"}, \"bgcolor\": \"#E5ECF6\", \"radialaxis\": {\"gridcolor\": \"white\", \"linecolor\": \"white\", \"ticks\": \"\"}}, \"scene\": {\"xaxis\": {\"backgroundcolor\": \"#E5ECF6\", \"gridcolor\": \"white\", \"gridwidth\": 2, \"linecolor\": \"white\", \"showbackground\": true, \"ticks\": \"\", \"zerolinecolor\": \"white\"}, \"yaxis\": {\"backgroundcolor\": \"#E5ECF6\", \"gridcolor\": \"white\", \"gridwidth\": 2, \"linecolor\": \"white\", \"showbackground\": true, \"ticks\": \"\", \"zerolinecolor\": \"white\"}, \"zaxis\": {\"backgroundcolor\": \"#E5ECF6\", \"gridcolor\": \"white\", \"gridwidth\": 2, \"linecolor\": \"white\", \"showbackground\": true, \"ticks\": \"\", \"zerolinecolor\": \"white\"}}, \"shapedefaults\": {\"line\": {\"color\": \"#2a3f5f\"}}, \"ternary\": {\"aaxis\": {\"gridcolor\": \"white\", \"linecolor\": \"white\", \"ticks\": \"\"}, \"baxis\": {\"gridcolor\": \"white\", \"linecolor\": \"white\", \"ticks\": \"\"}, \"bgcolor\": \"#E5ECF6\", \"caxis\": {\"gridcolor\": \"white\", \"linecolor\": \"white\", \"ticks\": \"\"}}, \"title\": {\"x\": 0.05}, \"xaxis\": {\"automargin\": true, \"gridcolor\": \"white\", \"linecolor\": \"white\", \"ticks\": \"\", \"title\": {\"standoff\": 15}, \"zerolinecolor\": \"white\", \"zerolinewidth\": 2}, \"yaxis\": {\"automargin\": true, \"gridcolor\": \"white\", \"linecolor\": \"white\", \"ticks\": \"\", \"title\": {\"standoff\": 15}, \"zerolinecolor\": \"white\", \"zerolinewidth\": 2}}}, \"xaxis\": {\"anchor\": \"y\", \"domain\": [0.0, 0.45], \"rangeslider\": {\"visible\": false}}, \"xaxis2\": {\"anchor\": \"y2\", \"domain\": [0.55, 1.0], \"rangeslider\": {\"visible\": false}}, \"yaxis\": {\"anchor\": \"x\", \"domain\": [0.0, 1.0]}, \"yaxis2\": {\"anchor\": \"x2\", \"domain\": [0.0, 1.0]}},                        {\"responsive\": true}                    ).then(function(){\n",
       "                            \n",
       "var gd = document.getElementById('86abf574-35f6-49ef-9194-64021a043828');\n",
       "var x = new MutationObserver(function (mutations, observer) {{\n",
       "        var display = window.getComputedStyle(gd).display;\n",
       "        if (!display || display === 'none') {{\n",
       "            console.log([gd, 'removed!']);\n",
       "            Plotly.purge(gd);\n",
       "            observer.disconnect();\n",
       "        }}\n",
       "}});\n",
       "\n",
       "// Listen for the removal of the full notebook cells\n",
       "var notebookContainer = gd.closest('#notebook-container');\n",
       "if (notebookContainer) {{\n",
       "    x.observe(notebookContainer, {childList: true});\n",
       "}}\n",
       "\n",
       "// Listen for the clearing of the current output cell\n",
       "var outputEl = gd.closest('.output');\n",
       "if (outputEl) {{\n",
       "    x.observe(outputEl, {childList: true});\n",
       "}}\n",
       "\n",
       "                        })                };                });            </script>        </div>"
      ]
     },
     "metadata": {},
     "output_type": "display_data"
    },
    {
     "data": {
      "application/vnd.plotly.v1+json": {
       "config": {
        "plotlyServerURL": "https://plot.ly"
       },
       "data": [
        {
         "close": [
          1.11728,
          1.11732,
          1.11708,
          1.11689,
          1.11679,
          1.11672,
          1.11635,
          1.11633,
          1.1168,
          1.11641,
          1.11624,
          1.1162,
          1.11621,
          1.11591,
          1.11608,
          1.11581,
          1.11615,
          1.11702,
          1.11659,
          1.11666,
          1.11666,
          1.11693,
          1.11719,
          1.11643,
          1.11626,
          1.11632,
          1.11607,
          1.11645,
          1.11681,
          1.11665,
          1.1161,
          1.11646,
          1.11682,
          1.11681,
          1.11642,
          1.11634,
          1.11641,
          1.11629,
          1.11635,
          1.11637,
          1.1167,
          1.11666,
          1.11661,
          1.11681,
          1.1171,
          1.11683,
          1.11664,
          1.11659,
          1.1164,
          1.11635,
          1.1165,
          1.11648,
          1.11651,
          1.11635,
          1.11629,
          1.1159,
          1.1161,
          1.11595,
          1.11615,
          1.11625,
          1.11636,
          1.11655,
          1.11653,
          1.11646,
          1.11672,
          1.11699,
          1.11793,
          1.11789,
          1.11797,
          1.11897,
          1.11939,
          1.11948,
          1.11968,
          1.1196,
          1.11969,
          1.12037,
          1.1203,
          1.12023,
          1.12038,
          1.1198,
          1.11987,
          1.11987,
          1.11986,
          1.11941,
          1.11965,
          1.12005,
          1.11982,
          1.11957,
          1.11954,
          1.11902,
          1.11837,
          1.11868,
          1.11881,
          1.11836,
          1.11892,
          1.11818,
          1.11863,
          1.11873,
          1.11879,
          1.11928,
          1.11936
         ],
         "high": [
          1.11742,
          1.11739,
          1.11734,
          1.11722,
          1.11699,
          1.11689,
          1.11672,
          1.11645,
          1.11685,
          1.11681,
          1.11651,
          1.11627,
          1.11621,
          1.11628,
          1.11608,
          1.11611,
          1.11621,
          1.11709,
          1.11702,
          1.11666,
          1.11666,
          1.11694,
          1.11719,
          1.11719,
          1.1167,
          1.11639,
          1.11632,
          1.1165,
          1.11683,
          1.11683,
          1.11666,
          1.11677,
          1.11687,
          1.11691,
          1.11685,
          1.11661,
          1.11646,
          1.11646,
          1.11645,
          1.11651,
          1.11672,
          1.11677,
          1.11672,
          1.11688,
          1.11714,
          1.11716,
          1.11697,
          1.11668,
          1.11664,
          1.11644,
          1.11651,
          1.11658,
          1.11656,
          1.11654,
          1.11635,
          1.11632,
          1.11611,
          1.11612,
          1.11621,
          1.11642,
          1.11656,
          1.11662,
          1.11672,
          1.11677,
          1.11703,
          1.11705,
          1.11805,
          1.1182,
          1.11805,
          1.11897,
          1.11944,
          1.1196,
          1.12002,
          1.11989,
          1.11984,
          1.12058,
          1.12059,
          1.12061,
          1.12059,
          1.12049,
          1.1199,
          1.1199,
          1.12003,
          1.12008,
          1.11978,
          1.12038,
          1.12007,
          1.12007,
          1.11977,
          1.11968,
          1.11904,
          1.11888,
          1.11886,
          1.11908,
          1.11906,
          1.11903,
          1.11881,
          1.11885,
          1.1188,
          1.11942,
          1.11967
         ],
         "low": [
          1.11713,
          1.11711,
          1.11705,
          1.11669,
          1.11666,
          1.11646,
          1.11618,
          1.11623,
          1.1163,
          1.11636,
          1.11622,
          1.11608,
          1.11607,
          1.11586,
          1.11585,
          1.11579,
          1.1153,
          1.11615,
          1.11659,
          1.11659,
          1.11666,
          1.11666,
          1.11693,
          1.11618,
          1.116,
          1.11619,
          1.11607,
          1.11602,
          1.11642,
          1.11645,
          1.1161,
          1.11607,
          1.11645,
          1.1166,
          1.11635,
          1.11625,
          1.11628,
          1.1162,
          1.11623,
          1.11632,
          1.1163,
          1.11658,
          1.11651,
          1.1166,
          1.1168,
          1.11673,
          1.11663,
          1.11654,
          1.11631,
          1.11629,
          1.11623,
          1.11644,
          1.11646,
          1.11634,
          1.11611,
          1.1159,
          1.11578,
          1.1158,
          1.11595,
          1.1161,
          1.11602,
          1.11623,
          1.11651,
          1.1164,
          1.11637,
          1.11659,
          1.11683,
          1.11773,
          1.11758,
          1.11791,
          1.11881,
          1.11906,
          1.11938,
          1.1193,
          1.11959,
          1.11968,
          1.11996,
          1.12019,
          1.12016,
          1.11976,
          1.11964,
          1.11957,
          1.11973,
          1.11941,
          1.11917,
          1.11957,
          1.1197,
          1.11956,
          1.11937,
          1.1189,
          1.11831,
          1.11833,
          1.11832,
          1.11833,
          1.11828,
          1.11816,
          1.11816,
          1.1186,
          1.11853,
          1.11847,
          1.11928
         ],
         "open": [
          1.11718,
          1.11728,
          1.11732,
          1.11708,
          1.11689,
          1.11679,
          1.11672,
          1.11635,
          1.11633,
          1.1168,
          1.11641,
          1.11624,
          1.1162,
          1.11621,
          1.11591,
          1.11608,
          1.11581,
          1.11615,
          1.11702,
          1.11659,
          1.11666,
          1.11666,
          1.11693,
          1.11719,
          1.11643,
          1.11626,
          1.11632,
          1.11607,
          1.11645,
          1.11681,
          1.11665,
          1.1161,
          1.11646,
          1.11682,
          1.11681,
          1.11642,
          1.11634,
          1.11641,
          1.11629,
          1.11635,
          1.11637,
          1.1167,
          1.11666,
          1.11661,
          1.11681,
          1.1171,
          1.11683,
          1.11664,
          1.11659,
          1.1164,
          1.11635,
          1.1165,
          1.11648,
          1.11651,
          1.11635,
          1.11629,
          1.1159,
          1.1161,
          1.11595,
          1.11615,
          1.11625,
          1.11636,
          1.11655,
          1.11653,
          1.11646,
          1.11672,
          1.11699,
          1.11793,
          1.11789,
          1.11797,
          1.11897,
          1.11939,
          1.11948,
          1.11968,
          1.1196,
          1.11969,
          1.12037,
          1.1203,
          1.12023,
          1.12038,
          1.1198,
          1.11987,
          1.11987,
          1.11986,
          1.11941,
          1.11965,
          1.12005,
          1.11982,
          1.11957,
          1.11954,
          1.11902,
          1.11837,
          1.11868,
          1.11881,
          1.11836,
          1.11892,
          1.11818,
          1.11863,
          1.11873,
          1.11879,
          1.11928
         ],
         "showlegend": false,
         "type": "candlestick",
         "x": [
          "2020-01-03T17:45:00",
          "2020-01-03T18:00:00",
          "2020-01-03T18:15:00",
          "2020-01-03T18:30:00",
          "2020-01-03T18:45:00",
          "2020-01-03T19:00:00",
          "2020-01-03T19:15:00",
          "2020-01-03T19:30:00",
          "2020-01-03T19:45:00",
          "2020-01-03T20:00:00",
          "2020-01-03T20:15:00",
          "2020-01-03T20:30:00",
          "2020-01-03T20:45:00",
          "2020-01-03T21:00:00",
          "2020-01-03T21:15:00",
          "2020-01-03T21:30:00",
          "2020-01-03T21:45:00",
          "2020-01-05T19:30:00",
          "2020-01-05T20:15:00",
          "2020-01-05T21:00:00",
          "2020-01-05T21:15:00",
          "2020-01-05T21:30:00",
          "2020-01-05T21:45:00",
          "2020-01-05T22:00:00",
          "2020-01-05T22:15:00",
          "2020-01-05T22:30:00",
          "2020-01-05T22:45:00",
          "2020-01-05T23:00:00",
          "2020-01-05T23:15:00",
          "2020-01-05T23:30:00",
          "2020-01-05T23:45:00",
          "2020-01-06T00:00:00",
          "2020-01-06T00:15:00",
          "2020-01-06T00:30:00",
          "2020-01-06T00:45:00",
          "2020-01-06T01:00:00",
          "2020-01-06T01:15:00",
          "2020-01-06T01:30:00",
          "2020-01-06T01:45:00",
          "2020-01-06T02:00:00",
          "2020-01-06T02:15:00",
          "2020-01-06T02:30:00",
          "2020-01-06T02:45:00",
          "2020-01-06T03:00:00",
          "2020-01-06T03:15:00",
          "2020-01-06T03:30:00",
          "2020-01-06T03:45:00",
          "2020-01-06T04:00:00",
          "2020-01-06T04:15:00",
          "2020-01-06T04:30:00",
          "2020-01-06T04:45:00",
          "2020-01-06T05:00:00",
          "2020-01-06T05:15:00",
          "2020-01-06T05:30:00",
          "2020-01-06T05:45:00",
          "2020-01-06T06:00:00",
          "2020-01-06T06:15:00",
          "2020-01-06T06:30:00",
          "2020-01-06T06:45:00",
          "2020-01-06T07:00:00",
          "2020-01-06T07:15:00",
          "2020-01-06T07:30:00",
          "2020-01-06T07:45:00",
          "2020-01-06T08:00:00",
          "2020-01-06T08:15:00",
          "2020-01-06T08:30:00",
          "2020-01-06T08:45:00",
          "2020-01-06T09:00:00",
          "2020-01-06T09:15:00",
          "2020-01-06T09:30:00",
          "2020-01-06T09:45:00",
          "2020-01-06T10:00:00",
          "2020-01-06T10:15:00",
          "2020-01-06T10:30:00",
          "2020-01-06T10:45:00",
          "2020-01-06T11:00:00",
          "2020-01-06T11:15:00",
          "2020-01-06T11:30:00",
          "2020-01-06T11:45:00",
          "2020-01-06T12:00:00",
          "2020-01-06T12:15:00",
          "2020-01-06T12:30:00",
          "2020-01-06T12:45:00",
          "2020-01-06T13:00:00",
          "2020-01-06T13:15:00",
          "2020-01-06T13:30:00",
          "2020-01-06T13:45:00",
          "2020-01-06T14:00:00",
          "2020-01-06T14:15:00",
          "2020-01-06T14:30:00",
          "2020-01-06T14:45:00",
          "2020-01-06T15:00:00",
          "2020-01-06T15:15:00",
          "2020-01-06T15:30:00",
          "2020-01-06T15:45:00",
          "2020-01-06T16:00:00",
          "2020-01-06T16:15:00",
          "2020-01-06T16:30:00",
          "2020-01-06T16:45:00",
          "2020-01-06T17:00:00",
          "2020-01-06T17:15:00"
         ],
         "xaxis": "x",
         "yaxis": "y"
        },
        {
         "marker": {
          "color": "MediumPurple",
          "size": 8
         },
         "mode": "markers",
         "showlegend": false,
         "type": "scatter",
         "x": [
          "2020-01-03T19:45:00",
          "2020-01-05T21:45:00",
          "2020-01-06T03:30:00",
          "2020-01-06T11:30:00"
         ],
         "xaxis": "x",
         "y": [
          1.11685,
          1.11719,
          1.11716,
          1.12061
         ],
         "yaxis": "y"
        },
        {
         "marker": {
          "color": "mediumblue",
          "size": 8
         },
         "mode": "markers",
         "showlegend": false,
         "type": "scatter",
         "x": [
          "2020-01-03T19:15:00",
          "2020-01-03T21:45:00",
          "2020-01-06T01:30:00",
          "2020-01-06T06:15:00",
          "2020-01-06T16:15:00"
         ],
         "xaxis": "x",
         "y": [
          1.11618,
          1.1153,
          1.1162,
          1.11578,
          1.11816
         ],
         "yaxis": "y"
        },
        {
         "close": [
          1.1938,
          1.19387,
          1.19415,
          1.19439,
          1.19439,
          1.19439,
          1.19442,
          1.1946,
          1.195,
          1.195,
          1.19541,
          1.19546,
          1.19566,
          1.19587,
          1.1959,
          1.19589,
          1.19583,
          1.19602,
          1.19588,
          1.19579,
          1.19581,
          1.19582,
          1.19576,
          1.19573,
          1.19576,
          1.19578,
          1.19594,
          1.1956,
          1.19577,
          1.19625,
          1.19679,
          1.19717,
          1.19693,
          1.19657,
          1.19724,
          1.19828,
          1.19807,
          1.19769,
          1.19802,
          1.19773,
          1.19813,
          1.19749,
          1.1969,
          1.19715,
          1.19693,
          1.19638,
          1.1962,
          1.19636,
          1.19706,
          1.19679,
          1.19698,
          1.19681,
          1.19678,
          1.19685,
          1.19826,
          1.19768,
          1.1993,
          1.19864,
          1.19837,
          1.19906,
          1.19955,
          1.19955,
          1.2016,
          1.20258,
          1.2032,
          1.20488,
          1.20429,
          1.20408,
          1.20385,
          1.20417,
          1.20404,
          1.20468,
          1.20458,
          1.20483,
          1.20503,
          1.20482,
          1.20442,
          1.20469,
          1.20469,
          1.20479,
          1.20485,
          1.2051,
          1.20541,
          1.20617,
          1.20723,
          1.20699,
          1.20708,
          1.20733,
          1.20748,
          1.2074,
          1.20754,
          1.20741,
          1.20739,
          1.20715,
          1.20717,
          1.20721,
          1.20713,
          1.20686,
          1.20709,
          1.20681,
          1.20674
         ],
         "high": [
          1.19394,
          1.194,
          1.19425,
          1.19463,
          1.19456,
          1.19457,
          1.19448,
          1.19466,
          1.19508,
          1.19505,
          1.19546,
          1.19568,
          1.19583,
          1.19593,
          1.19602,
          1.19602,
          1.19596,
          1.19607,
          1.19604,
          1.19592,
          1.19584,
          1.19587,
          1.196,
          1.19578,
          1.19581,
          1.19587,
          1.19595,
          1.19596,
          1.19581,
          1.19638,
          1.19688,
          1.19736,
          1.19736,
          1.19726,
          1.19732,
          1.19863,
          1.19837,
          1.19819,
          1.1981,
          1.19809,
          1.19834,
          1.19824,
          1.19764,
          1.19724,
          1.1972,
          1.19714,
          1.19655,
          1.19658,
          1.19709,
          1.19733,
          1.19724,
          1.19698,
          1.197,
          1.197,
          1.1983,
          1.19826,
          1.19945,
          1.1995,
          1.19904,
          1.19914,
          1.20013,
          1.20015,
          1.20186,
          1.20291,
          1.20425,
          1.2049,
          1.20551,
          1.20502,
          1.20444,
          1.20444,
          1.20432,
          1.20493,
          1.20522,
          1.20498,
          1.20509,
          1.20528,
          1.20496,
          1.20469,
          1.20491,
          1.20505,
          1.20515,
          1.20525,
          1.20544,
          1.20626,
          1.20762,
          1.20774,
          1.2073,
          1.20738,
          1.20748,
          1.20784,
          1.20766,
          1.20755,
          1.20752,
          1.20745,
          1.20736,
          1.20722,
          1.20737,
          1.20716,
          1.20717,
          1.2073,
          1.20691
         ],
         "low": [
          1.19362,
          1.1936,
          1.19374,
          1.19411,
          1.19429,
          1.19414,
          1.19422,
          1.19433,
          1.1946,
          1.19485,
          1.19491,
          1.19535,
          1.19539,
          1.19565,
          1.19569,
          1.1958,
          1.1957,
          1.19582,
          1.1958,
          1.19567,
          1.19571,
          1.1957,
          1.19575,
          1.19558,
          1.19561,
          1.19567,
          1.19555,
          1.19554,
          1.19556,
          1.19547,
          1.1961,
          1.19663,
          1.19682,
          1.19642,
          1.19637,
          1.19716,
          1.19777,
          1.19739,
          1.19724,
          1.19729,
          1.19742,
          1.19744,
          1.19681,
          1.19677,
          1.19663,
          1.19625,
          1.1961,
          1.19609,
          1.19618,
          1.19657,
          1.19665,
          1.19659,
          1.19649,
          1.19661,
          1.19675,
          1.19753,
          1.19756,
          1.19856,
          1.19837,
          1.19758,
          1.199,
          1.19845,
          1.19937,
          1.20078,
          1.20237,
          1.2032,
          1.20382,
          1.2036,
          1.2037,
          1.2038,
          1.20388,
          1.20401,
          1.20454,
          1.20452,
          1.20476,
          1.20477,
          1.20436,
          1.20433,
          1.20456,
          1.20455,
          1.20476,
          1.20482,
          1.20493,
          1.20525,
          1.20607,
          1.20678,
          1.20689,
          1.20705,
          1.20688,
          1.20694,
          1.2072,
          1.20736,
          1.20691,
          1.20706,
          1.20705,
          1.20691,
          1.20712,
          1.20671,
          1.20665,
          1.20677,
          1.20658
         ],
         "open": [
          1.19367,
          1.1938,
          1.19387,
          1.19415,
          1.19439,
          1.19439,
          1.19439,
          1.19442,
          1.1946,
          1.195,
          1.195,
          1.19541,
          1.19546,
          1.19566,
          1.19587,
          1.1959,
          1.19589,
          1.19583,
          1.19602,
          1.19588,
          1.19579,
          1.19581,
          1.19582,
          1.19576,
          1.19573,
          1.19576,
          1.19578,
          1.19594,
          1.1956,
          1.19577,
          1.19625,
          1.19679,
          1.19717,
          1.19693,
          1.19657,
          1.19724,
          1.19828,
          1.19807,
          1.19769,
          1.19802,
          1.19773,
          1.19813,
          1.19749,
          1.1969,
          1.19715,
          1.19693,
          1.19638,
          1.1962,
          1.19636,
          1.19706,
          1.19679,
          1.19698,
          1.19681,
          1.19678,
          1.19685,
          1.19826,
          1.19768,
          1.1993,
          1.19864,
          1.19837,
          1.19906,
          1.19955,
          1.19955,
          1.2016,
          1.20258,
          1.2032,
          1.20488,
          1.20429,
          1.20408,
          1.20385,
          1.20417,
          1.20404,
          1.20468,
          1.20458,
          1.20483,
          1.20503,
          1.20482,
          1.20442,
          1.20469,
          1.20469,
          1.20479,
          1.20485,
          1.2051,
          1.20541,
          1.20617,
          1.20723,
          1.20699,
          1.20708,
          1.20733,
          1.20748,
          1.2074,
          1.20754,
          1.20741,
          1.20739,
          1.20715,
          1.20717,
          1.20721,
          1.20713,
          1.20686,
          1.20709,
          1.20681
         ],
         "showlegend": false,
         "type": "candlestick",
         "x": [
          "2020-11-30T23:45:00",
          "2020-12-01T00:00:00",
          "2020-12-01T00:15:00",
          "2020-12-01T00:30:00",
          "2020-12-01T00:45:00",
          "2020-12-01T01:00:00",
          "2020-12-01T01:15:00",
          "2020-12-01T01:30:00",
          "2020-12-01T01:45:00",
          "2020-12-01T02:00:00",
          "2020-12-01T02:15:00",
          "2020-12-01T02:30:00",
          "2020-12-01T02:45:00",
          "2020-12-01T03:00:00",
          "2020-12-01T03:15:00",
          "2020-12-01T03:30:00",
          "2020-12-01T03:45:00",
          "2020-12-01T04:00:00",
          "2020-12-01T04:15:00",
          "2020-12-01T04:30:00",
          "2020-12-01T04:45:00",
          "2020-12-01T05:00:00",
          "2020-12-01T05:15:00",
          "2020-12-01T05:30:00",
          "2020-12-01T05:45:00",
          "2020-12-01T06:00:00",
          "2020-12-01T06:15:00",
          "2020-12-01T06:30:00",
          "2020-12-01T06:45:00",
          "2020-12-01T07:00:00",
          "2020-12-01T07:15:00",
          "2020-12-01T07:30:00",
          "2020-12-01T07:45:00",
          "2020-12-01T08:00:00",
          "2020-12-01T08:15:00",
          "2020-12-01T08:30:00",
          "2020-12-01T08:45:00",
          "2020-12-01T09:00:00",
          "2020-12-01T09:15:00",
          "2020-12-01T09:30:00",
          "2020-12-01T09:45:00",
          "2020-12-01T10:00:00",
          "2020-12-01T10:15:00",
          "2020-12-01T10:30:00",
          "2020-12-01T10:45:00",
          "2020-12-01T11:00:00",
          "2020-12-01T11:15:00",
          "2020-12-01T11:30:00",
          "2020-12-01T11:45:00",
          "2020-12-01T12:00:00",
          "2020-12-01T12:15:00",
          "2020-12-01T12:30:00",
          "2020-12-01T12:45:00",
          "2020-12-01T13:00:00",
          "2020-12-01T13:15:00",
          "2020-12-01T13:30:00",
          "2020-12-01T13:45:00",
          "2020-12-01T14:00:00",
          "2020-12-01T14:15:00",
          "2020-12-01T14:30:00",
          "2020-12-01T14:45:00",
          "2020-12-01T15:00:00",
          "2020-12-01T15:15:00",
          "2020-12-01T15:30:00",
          "2020-12-01T15:45:00",
          "2020-12-01T16:00:00",
          "2020-12-01T16:15:00",
          "2020-12-01T16:30:00",
          "2020-12-01T16:45:00",
          "2020-12-01T17:00:00",
          "2020-12-01T17:15:00",
          "2020-12-01T17:30:00",
          "2020-12-01T17:45:00",
          "2020-12-01T18:00:00",
          "2020-12-01T18:15:00",
          "2020-12-01T18:30:00",
          "2020-12-01T18:45:00",
          "2020-12-01T19:00:00",
          "2020-12-01T19:15:00",
          "2020-12-01T19:30:00",
          "2020-12-01T19:45:00",
          "2020-12-01T20:00:00",
          "2020-12-01T20:15:00",
          "2020-12-01T20:30:00",
          "2020-12-01T20:45:00",
          "2020-12-01T21:00:00",
          "2020-12-01T21:15:00",
          "2020-12-01T21:30:00",
          "2020-12-01T21:45:00",
          "2020-12-01T22:00:00",
          "2020-12-01T22:15:00",
          "2020-12-01T22:30:00",
          "2020-12-01T22:45:00",
          "2020-12-01T23:00:00",
          "2020-12-01T23:15:00",
          "2020-12-01T23:30:00",
          "2020-12-01T23:45:00",
          "2020-12-02T00:00:00",
          "2020-12-02T00:15:00",
          "2020-12-02T00:30:00",
          "2020-12-02T00:45:00"
         ],
         "xaxis": "x2",
         "yaxis": "y2"
        },
        {
         "marker": {
          "color": "MediumPurple",
          "size": 8
         },
         "mode": "markers",
         "showlegend": false,
         "type": "scatter",
         "x": [
          "2020-12-01T04:00:00",
          "2020-12-01T08:30:00",
          "2020-12-01T14:00:00",
          "2020-12-01T16:15:00",
          "2020-12-01T22:00:00"
         ],
         "xaxis": "x2",
         "y": [
          1.19607,
          1.19863,
          1.1995,
          1.20551,
          1.20784
         ],
         "yaxis": "y2"
        },
        {
         "marker": {
          "color": "mediumblue",
          "size": 8
         },
         "mode": "markers",
         "showlegend": false,
         "type": "scatter",
         "x": [
          "2020-12-01T00:00:00",
          "2020-12-01T07:00:00",
          "2020-12-01T11:30:00",
          "2020-12-01T14:30:00",
          "2020-12-01T19:00:00",
          "2020-12-02T00:15:00"
         ],
         "xaxis": "x2",
         "y": [
          1.1936,
          1.19547,
          1.19609,
          1.19758,
          1.20433,
          1.20665
         ],
         "yaxis": "y2"
        }
       ],
       "layout": {
        "autosize": true,
        "template": {
         "data": {
          "bar": [
           {
            "error_x": {
             "color": "#2a3f5f"
            },
            "error_y": {
             "color": "#2a3f5f"
            },
            "marker": {
             "line": {
              "color": "#E5ECF6",
              "width": 0.5
             }
            },
            "type": "bar"
           }
          ],
          "barpolar": [
           {
            "marker": {
             "line": {
              "color": "#E5ECF6",
              "width": 0.5
             }
            },
            "type": "barpolar"
           }
          ],
          "carpet": [
           {
            "aaxis": {
             "endlinecolor": "#2a3f5f",
             "gridcolor": "white",
             "linecolor": "white",
             "minorgridcolor": "white",
             "startlinecolor": "#2a3f5f"
            },
            "baxis": {
             "endlinecolor": "#2a3f5f",
             "gridcolor": "white",
             "linecolor": "white",
             "minorgridcolor": "white",
             "startlinecolor": "#2a3f5f"
            },
            "type": "carpet"
           }
          ],
          "choropleth": [
           {
            "colorbar": {
             "outlinewidth": 0,
             "ticks": ""
            },
            "type": "choropleth"
           }
          ],
          "contour": [
           {
            "colorbar": {
             "outlinewidth": 0,
             "ticks": ""
            },
            "colorscale": [
             [
              0,
              "#0d0887"
             ],
             [
              0.1111111111111111,
              "#46039f"
             ],
             [
              0.2222222222222222,
              "#7201a8"
             ],
             [
              0.3333333333333333,
              "#9c179e"
             ],
             [
              0.4444444444444444,
              "#bd3786"
             ],
             [
              0.5555555555555556,
              "#d8576b"
             ],
             [
              0.6666666666666666,
              "#ed7953"
             ],
             [
              0.7777777777777778,
              "#fb9f3a"
             ],
             [
              0.8888888888888888,
              "#fdca26"
             ],
             [
              1,
              "#f0f921"
             ]
            ],
            "type": "contour"
           }
          ],
          "contourcarpet": [
           {
            "colorbar": {
             "outlinewidth": 0,
             "ticks": ""
            },
            "type": "contourcarpet"
           }
          ],
          "heatmap": [
           {
            "colorbar": {
             "outlinewidth": 0,
             "ticks": ""
            },
            "colorscale": [
             [
              0,
              "#0d0887"
             ],
             [
              0.1111111111111111,
              "#46039f"
             ],
             [
              0.2222222222222222,
              "#7201a8"
             ],
             [
              0.3333333333333333,
              "#9c179e"
             ],
             [
              0.4444444444444444,
              "#bd3786"
             ],
             [
              0.5555555555555556,
              "#d8576b"
             ],
             [
              0.6666666666666666,
              "#ed7953"
             ],
             [
              0.7777777777777778,
              "#fb9f3a"
             ],
             [
              0.8888888888888888,
              "#fdca26"
             ],
             [
              1,
              "#f0f921"
             ]
            ],
            "type": "heatmap"
           }
          ],
          "heatmapgl": [
           {
            "colorbar": {
             "outlinewidth": 0,
             "ticks": ""
            },
            "colorscale": [
             [
              0,
              "#0d0887"
             ],
             [
              0.1111111111111111,
              "#46039f"
             ],
             [
              0.2222222222222222,
              "#7201a8"
             ],
             [
              0.3333333333333333,
              "#9c179e"
             ],
             [
              0.4444444444444444,
              "#bd3786"
             ],
             [
              0.5555555555555556,
              "#d8576b"
             ],
             [
              0.6666666666666666,
              "#ed7953"
             ],
             [
              0.7777777777777778,
              "#fb9f3a"
             ],
             [
              0.8888888888888888,
              "#fdca26"
             ],
             [
              1,
              "#f0f921"
             ]
            ],
            "type": "heatmapgl"
           }
          ],
          "histogram": [
           {
            "marker": {
             "colorbar": {
              "outlinewidth": 0,
              "ticks": ""
             }
            },
            "type": "histogram"
           }
          ],
          "histogram2d": [
           {
            "colorbar": {
             "outlinewidth": 0,
             "ticks": ""
            },
            "colorscale": [
             [
              0,
              "#0d0887"
             ],
             [
              0.1111111111111111,
              "#46039f"
             ],
             [
              0.2222222222222222,
              "#7201a8"
             ],
             [
              0.3333333333333333,
              "#9c179e"
             ],
             [
              0.4444444444444444,
              "#bd3786"
             ],
             [
              0.5555555555555556,
              "#d8576b"
             ],
             [
              0.6666666666666666,
              "#ed7953"
             ],
             [
              0.7777777777777778,
              "#fb9f3a"
             ],
             [
              0.8888888888888888,
              "#fdca26"
             ],
             [
              1,
              "#f0f921"
             ]
            ],
            "type": "histogram2d"
           }
          ],
          "histogram2dcontour": [
           {
            "colorbar": {
             "outlinewidth": 0,
             "ticks": ""
            },
            "colorscale": [
             [
              0,
              "#0d0887"
             ],
             [
              0.1111111111111111,
              "#46039f"
             ],
             [
              0.2222222222222222,
              "#7201a8"
             ],
             [
              0.3333333333333333,
              "#9c179e"
             ],
             [
              0.4444444444444444,
              "#bd3786"
             ],
             [
              0.5555555555555556,
              "#d8576b"
             ],
             [
              0.6666666666666666,
              "#ed7953"
             ],
             [
              0.7777777777777778,
              "#fb9f3a"
             ],
             [
              0.8888888888888888,
              "#fdca26"
             ],
             [
              1,
              "#f0f921"
             ]
            ],
            "type": "histogram2dcontour"
           }
          ],
          "mesh3d": [
           {
            "colorbar": {
             "outlinewidth": 0,
             "ticks": ""
            },
            "type": "mesh3d"
           }
          ],
          "parcoords": [
           {
            "line": {
             "colorbar": {
              "outlinewidth": 0,
              "ticks": ""
             }
            },
            "type": "parcoords"
           }
          ],
          "pie": [
           {
            "automargin": true,
            "type": "pie"
           }
          ],
          "scatter": [
           {
            "marker": {
             "colorbar": {
              "outlinewidth": 0,
              "ticks": ""
             }
            },
            "type": "scatter"
           }
          ],
          "scatter3d": [
           {
            "line": {
             "colorbar": {
              "outlinewidth": 0,
              "ticks": ""
             }
            },
            "marker": {
             "colorbar": {
              "outlinewidth": 0,
              "ticks": ""
             }
            },
            "type": "scatter3d"
           }
          ],
          "scattercarpet": [
           {
            "marker": {
             "colorbar": {
              "outlinewidth": 0,
              "ticks": ""
             }
            },
            "type": "scattercarpet"
           }
          ],
          "scattergeo": [
           {
            "marker": {
             "colorbar": {
              "outlinewidth": 0,
              "ticks": ""
             }
            },
            "type": "scattergeo"
           }
          ],
          "scattergl": [
           {
            "marker": {
             "colorbar": {
              "outlinewidth": 0,
              "ticks": ""
             }
            },
            "type": "scattergl"
           }
          ],
          "scattermapbox": [
           {
            "marker": {
             "colorbar": {
              "outlinewidth": 0,
              "ticks": ""
             }
            },
            "type": "scattermapbox"
           }
          ],
          "scatterpolar": [
           {
            "marker": {
             "colorbar": {
              "outlinewidth": 0,
              "ticks": ""
             }
            },
            "type": "scatterpolar"
           }
          ],
          "scatterpolargl": [
           {
            "marker": {
             "colorbar": {
              "outlinewidth": 0,
              "ticks": ""
             }
            },
            "type": "scatterpolargl"
           }
          ],
          "scatterternary": [
           {
            "marker": {
             "colorbar": {
              "outlinewidth": 0,
              "ticks": ""
             }
            },
            "type": "scatterternary"
           }
          ],
          "surface": [
           {
            "colorbar": {
             "outlinewidth": 0,
             "ticks": ""
            },
            "colorscale": [
             [
              0,
              "#0d0887"
             ],
             [
              0.1111111111111111,
              "#46039f"
             ],
             [
              0.2222222222222222,
              "#7201a8"
             ],
             [
              0.3333333333333333,
              "#9c179e"
             ],
             [
              0.4444444444444444,
              "#bd3786"
             ],
             [
              0.5555555555555556,
              "#d8576b"
             ],
             [
              0.6666666666666666,
              "#ed7953"
             ],
             [
              0.7777777777777778,
              "#fb9f3a"
             ],
             [
              0.8888888888888888,
              "#fdca26"
             ],
             [
              1,
              "#f0f921"
             ]
            ],
            "type": "surface"
           }
          ],
          "table": [
           {
            "cells": {
             "fill": {
              "color": "#EBF0F8"
             },
             "line": {
              "color": "white"
             }
            },
            "header": {
             "fill": {
              "color": "#C8D4E3"
             },
             "line": {
              "color": "white"
             }
            },
            "type": "table"
           }
          ]
         },
         "layout": {
          "annotationdefaults": {
           "arrowcolor": "#2a3f5f",
           "arrowhead": 0,
           "arrowwidth": 1
          },
          "coloraxis": {
           "colorbar": {
            "outlinewidth": 0,
            "ticks": ""
           }
          },
          "colorscale": {
           "diverging": [
            [
             0,
             "#8e0152"
            ],
            [
             0.1,
             "#c51b7d"
            ],
            [
             0.2,
             "#de77ae"
            ],
            [
             0.3,
             "#f1b6da"
            ],
            [
             0.4,
             "#fde0ef"
            ],
            [
             0.5,
             "#f7f7f7"
            ],
            [
             0.6,
             "#e6f5d0"
            ],
            [
             0.7,
             "#b8e186"
            ],
            [
             0.8,
             "#7fbc41"
            ],
            [
             0.9,
             "#4d9221"
            ],
            [
             1,
             "#276419"
            ]
           ],
           "sequential": [
            [
             0,
             "#0d0887"
            ],
            [
             0.1111111111111111,
             "#46039f"
            ],
            [
             0.2222222222222222,
             "#7201a8"
            ],
            [
             0.3333333333333333,
             "#9c179e"
            ],
            [
             0.4444444444444444,
             "#bd3786"
            ],
            [
             0.5555555555555556,
             "#d8576b"
            ],
            [
             0.6666666666666666,
             "#ed7953"
            ],
            [
             0.7777777777777778,
             "#fb9f3a"
            ],
            [
             0.8888888888888888,
             "#fdca26"
            ],
            [
             1,
             "#f0f921"
            ]
           ],
           "sequentialminus": [
            [
             0,
             "#0d0887"
            ],
            [
             0.1111111111111111,
             "#46039f"
            ],
            [
             0.2222222222222222,
             "#7201a8"
            ],
            [
             0.3333333333333333,
             "#9c179e"
            ],
            [
             0.4444444444444444,
             "#bd3786"
            ],
            [
             0.5555555555555556,
             "#d8576b"
            ],
            [
             0.6666666666666666,
             "#ed7953"
            ],
            [
             0.7777777777777778,
             "#fb9f3a"
            ],
            [
             0.8888888888888888,
             "#fdca26"
            ],
            [
             1,
             "#f0f921"
            ]
           ]
          },
          "colorway": [
           "#636efa",
           "#EF553B",
           "#00cc96",
           "#ab63fa",
           "#FFA15A",
           "#19d3f3",
           "#FF6692",
           "#B6E880",
           "#FF97FF",
           "#FECB52"
          ],
          "font": {
           "color": "#2a3f5f"
          },
          "geo": {
           "bgcolor": "white",
           "lakecolor": "white",
           "landcolor": "#E5ECF6",
           "showlakes": true,
           "showland": true,
           "subunitcolor": "white"
          },
          "hoverlabel": {
           "align": "left"
          },
          "hovermode": "closest",
          "mapbox": {
           "style": "light"
          },
          "paper_bgcolor": "white",
          "plot_bgcolor": "#E5ECF6",
          "polar": {
           "angularaxis": {
            "gridcolor": "white",
            "linecolor": "white",
            "ticks": ""
           },
           "bgcolor": "#E5ECF6",
           "radialaxis": {
            "gridcolor": "white",
            "linecolor": "white",
            "ticks": ""
           }
          },
          "scene": {
           "xaxis": {
            "backgroundcolor": "#E5ECF6",
            "gridcolor": "white",
            "gridwidth": 2,
            "linecolor": "white",
            "showbackground": true,
            "ticks": "",
            "zerolinecolor": "white"
           },
           "yaxis": {
            "backgroundcolor": "#E5ECF6",
            "gridcolor": "white",
            "gridwidth": 2,
            "linecolor": "white",
            "showbackground": true,
            "ticks": "",
            "zerolinecolor": "white"
           },
           "zaxis": {
            "backgroundcolor": "#E5ECF6",
            "gridcolor": "white",
            "gridwidth": 2,
            "linecolor": "white",
            "showbackground": true,
            "ticks": "",
            "zerolinecolor": "white"
           }
          },
          "shapedefaults": {
           "line": {
            "color": "#2a3f5f"
           }
          },
          "ternary": {
           "aaxis": {
            "gridcolor": "white",
            "linecolor": "white",
            "ticks": ""
           },
           "baxis": {
            "gridcolor": "white",
            "linecolor": "white",
            "ticks": ""
           },
           "bgcolor": "#E5ECF6",
           "caxis": {
            "gridcolor": "white",
            "linecolor": "white",
            "ticks": ""
           }
          },
          "title": {
           "x": 0.05
          },
          "xaxis": {
           "automargin": true,
           "gridcolor": "white",
           "linecolor": "white",
           "ticks": "",
           "title": {
            "standoff": 15
           },
           "zerolinecolor": "white",
           "zerolinewidth": 2
          },
          "yaxis": {
           "automargin": true,
           "gridcolor": "white",
           "linecolor": "white",
           "ticks": "",
           "title": {
            "standoff": 15
           },
           "zerolinecolor": "white",
           "zerolinewidth": 2
          }
         }
        },
        "xaxis": {
         "anchor": "y",
         "autorange": true,
         "domain": [
          0,
          0.45
         ],
         "range": [
          "2020-01-03 14:40:38.6047",
          "2020-01-06 20:49:21.3953"
         ],
         "rangeslider": {
          "visible": false,
          "yaxis": {}
         },
         "type": "date"
        },
        "xaxis2": {
         "anchor": "y2",
         "autorange": true,
         "domain": [
          0.55,
          1
         ],
         "range": [
          "2020-11-30 22:23:34.6545",
          "2020-12-02 01:51:25.3455"
         ],
         "rangeslider": {
          "visible": false,
          "yaxis2": {}
         },
         "type": "date"
        },
        "yaxis": {
         "anchor": "x",
         "autorange": true,
         "domain": [
          0,
          1
         ],
         "range": [
          1.1148783905579398,
          1.1210316094420603
         ],
         "type": "linear"
        },
        "yaxis2": {
         "anchor": "x2",
         "autorange": true,
         "domain": [
          0,
          1
         ],
         "range": [
          1.1924693562231758,
          1.2089706437768242
         ],
         "type": "linear"
        }
       }
      },
      "image/png": "[encoded data removed]",
      "text/html": [
       "<div>                            <div id=\"51aa147c-e4ef-412d-8f17-2d4c5f17a6c4\" class=\"plotly-graph-div\" style=\"height:525px; width:100%;\"></div>            <script type=\"text/javascript\">                require([\"plotly\"], function(Plotly) {                    window.PLOTLYENV=window.PLOTLYENV || {};                                    if (document.getElementById(\"51aa147c-e4ef-412d-8f17-2d4c5f17a6c4\")) {                    Plotly.newPlot(                        \"51aa147c-e4ef-412d-8f17-2d4c5f17a6c4\",                        [{\"close\": [1.11728, 1.11732, 1.11708, 1.11689, 1.11679, 1.11672, 1.11635, 1.11633, 1.1168, 1.11641, 1.11624, 1.1162, 1.11621, 1.11591, 1.11608, 1.11581, 1.11615, 1.11702, 1.11659, 1.11666, 1.11666, 1.11693, 1.11719, 1.11643, 1.11626, 1.11632, 1.11607, 1.11645, 1.11681, 1.11665, 1.1161, 1.11646, 1.11682, 1.11681, 1.11642, 1.11634, 1.11641, 1.11629, 1.11635, 1.11637, 1.1167, 1.11666, 1.11661, 1.11681, 1.1171, 1.11683, 1.11664, 1.11659, 1.1164, 1.11635, 1.1165, 1.11648, 1.11651, 1.11635, 1.11629, 1.1159, 1.1161, 1.11595, 1.11615, 1.11625, 1.11636, 1.11655, 1.11653, 1.11646, 1.11672, 1.11699, 1.11793, 1.11789, 1.11797, 1.11897, 1.11939, 1.11948, 1.11968, 1.1196, 1.11969, 1.12037, 1.1203, 1.12023, 1.12038, 1.1198, 1.11987, 1.11987, 1.11986, 1.11941, 1.11965, 1.12005, 1.11982, 1.11957, 1.11954, 1.11902, 1.11837, 1.11868, 1.11881, 1.11836, 1.11892, 1.11818, 1.11863, 1.11873, 1.11879, 1.11928, 1.11936], \"high\": [1.11742, 1.11739, 1.11734, 1.11722, 1.11699, 1.11689, 1.11672, 1.11645, 1.11685, 1.11681, 1.11651, 1.11627, 1.11621, 1.11628, 1.11608, 1.11611, 1.11621, 1.11709, 1.11702, 1.11666, 1.11666, 1.11694, 1.11719, 1.11719, 1.1167, 1.11639, 1.11632, 1.1165, 1.11683, 1.11683, 1.11666, 1.11677, 1.11687, 1.11691, 1.11685, 1.11661, 1.11646, 1.11646, 1.11645, 1.11651, 1.11672, 1.11677, 1.11672, 1.11688, 1.11714, 1.11716, 1.11697, 1.11668, 1.11664, 1.11644, 1.11651, 1.11658, 1.11656, 1.11654, 1.11635, 1.11632, 1.11611, 1.11612, 1.11621, 1.11642, 1.11656, 1.11662, 1.11672, 1.11677, 1.11703, 1.11705, 1.11805, 1.1182, 1.11805, 1.11897, 1.11944, 1.1196, 1.12002, 1.11989, 1.11984, 1.12058, 1.12059, 1.12061, 1.12059, 1.12049, 1.1199, 1.1199, 1.12003, 1.12008, 1.11978, 1.12038, 1.12007, 1.12007, 1.11977, 1.11968, 1.11904, 1.11888, 1.11886, 1.11908, 1.11906, 1.11903, 1.11881, 1.11885, 1.1188, 1.11942, 1.11967], \"low\": [1.11713, 1.11711, 1.11705, 1.11669, 1.11666, 1.11646, 1.11618, 1.11623, 1.1163, 1.11636, 1.11622, 1.11608, 1.11607, 1.11586, 1.11585, 1.11579, 1.1153, 1.11615, 1.11659, 1.11659, 1.11666, 1.11666, 1.11693, 1.11618, 1.116, 1.11619, 1.11607, 1.11602, 1.11642, 1.11645, 1.1161, 1.11607, 1.11645, 1.1166, 1.11635, 1.11625, 1.11628, 1.1162, 1.11623, 1.11632, 1.1163, 1.11658, 1.11651, 1.1166, 1.1168, 1.11673, 1.11663, 1.11654, 1.11631, 1.11629, 1.11623, 1.11644, 1.11646, 1.11634, 1.11611, 1.1159, 1.11578, 1.1158, 1.11595, 1.1161, 1.11602, 1.11623, 1.11651, 1.1164, 1.11637, 1.11659, 1.11683, 1.11773, 1.11758, 1.11791, 1.11881, 1.11906, 1.11938, 1.1193, 1.11959, 1.11968, 1.11996, 1.12019, 1.12016, 1.11976, 1.11964, 1.11957, 1.11973, 1.11941, 1.11917, 1.11957, 1.1197, 1.11956, 1.11937, 1.1189, 1.11831, 1.11833, 1.11832, 1.11833, 1.11828, 1.11816, 1.11816, 1.1186, 1.11853, 1.11847, 1.11928], \"open\": [1.11718, 1.11728, 1.11732, 1.11708, 1.11689, 1.11679, 1.11672, 1.11635, 1.11633, 1.1168, 1.11641, 1.11624, 1.1162, 1.11621, 1.11591, 1.11608, 1.11581, 1.11615, 1.11702, 1.11659, 1.11666, 1.11666, 1.11693, 1.11719, 1.11643, 1.11626, 1.11632, 1.11607, 1.11645, 1.11681, 1.11665, 1.1161, 1.11646, 1.11682, 1.11681, 1.11642, 1.11634, 1.11641, 1.11629, 1.11635, 1.11637, 1.1167, 1.11666, 1.11661, 1.11681, 1.1171, 1.11683, 1.11664, 1.11659, 1.1164, 1.11635, 1.1165, 1.11648, 1.11651, 1.11635, 1.11629, 1.1159, 1.1161, 1.11595, 1.11615, 1.11625, 1.11636, 1.11655, 1.11653, 1.11646, 1.11672, 1.11699, 1.11793, 1.11789, 1.11797, 1.11897, 1.11939, 1.11948, 1.11968, 1.1196, 1.11969, 1.12037, 1.1203, 1.12023, 1.12038, 1.1198, 1.11987, 1.11987, 1.11986, 1.11941, 1.11965, 1.12005, 1.11982, 1.11957, 1.11954, 1.11902, 1.11837, 1.11868, 1.11881, 1.11836, 1.11892, 1.11818, 1.11863, 1.11873, 1.11879, 1.11928], \"showlegend\": false, \"type\": \"candlestick\", \"x\": [\"2020-01-03T17:45:00\", \"2020-01-03T18:00:00\", \"2020-01-03T18:15:00\", \"2020-01-03T18:30:00\", \"2020-01-03T18:45:00\", \"2020-01-03T19:00:00\", \"2020-01-03T19:15:00\", \"2020-01-03T19:30:00\", \"2020-01-03T19:45:00\", \"2020-01-03T20:00:00\", \"2020-01-03T20:15:00\", \"2020-01-03T20:30:00\", \"2020-01-03T20:45:00\", \"2020-01-03T21:00:00\", \"2020-01-03T21:15:00\", \"2020-01-03T21:30:00\", \"2020-01-03T21:45:00\", \"2020-01-05T19:30:00\", \"2020-01-05T20:15:00\", \"2020-01-05T21:00:00\", \"2020-01-05T21:15:00\", \"2020-01-05T21:30:00\", \"2020-01-05T21:45:00\", \"2020-01-05T22:00:00\", \"2020-01-05T22:15:00\", \"2020-01-05T22:30:00\", \"2020-01-05T22:45:00\", \"2020-01-05T23:00:00\", \"2020-01-05T23:15:00\", \"2020-01-05T23:30:00\", \"2020-01-05T23:45:00\", \"2020-01-06T00:00:00\", \"2020-01-06T00:15:00\", \"2020-01-06T00:30:00\", \"2020-01-06T00:45:00\", \"2020-01-06T01:00:00\", \"2020-01-06T01:15:00\", \"2020-01-06T01:30:00\", \"2020-01-06T01:45:00\", \"2020-01-06T02:00:00\", \"2020-01-06T02:15:00\", \"2020-01-06T02:30:00\", \"2020-01-06T02:45:00\", \"2020-01-06T03:00:00\", \"2020-01-06T03:15:00\", \"2020-01-06T03:30:00\", \"2020-01-06T03:45:00\", \"2020-01-06T04:00:00\", \"2020-01-06T04:15:00\", \"2020-01-06T04:30:00\", \"2020-01-06T04:45:00\", \"2020-01-06T05:00:00\", \"2020-01-06T05:15:00\", \"2020-01-06T05:30:00\", \"2020-01-06T05:45:00\", \"2020-01-06T06:00:00\", \"2020-01-06T06:15:00\", \"2020-01-06T06:30:00\", \"2020-01-06T06:45:00\", \"2020-01-06T07:00:00\", \"2020-01-06T07:15:00\", \"2020-01-06T07:30:00\", \"2020-01-06T07:45:00\", \"2020-01-06T08:00:00\", \"2020-01-06T08:15:00\", \"2020-01-06T08:30:00\", \"2020-01-06T08:45:00\", \"2020-01-06T09:00:00\", \"2020-01-06T09:15:00\", \"2020-01-06T09:30:00\", \"2020-01-06T09:45:00\", \"2020-01-06T10:00:00\", \"2020-01-06T10:15:00\", \"2020-01-06T10:30:00\", \"2020-01-06T10:45:00\", \"2020-01-06T11:00:00\", \"2020-01-06T11:15:00\", \"2020-01-06T11:30:00\", \"2020-01-06T11:45:00\", \"2020-01-06T12:00:00\", \"2020-01-06T12:15:00\", \"2020-01-06T12:30:00\", \"2020-01-06T12:45:00\", \"2020-01-06T13:00:00\", \"2020-01-06T13:15:00\", \"2020-01-06T13:30:00\", \"2020-01-06T13:45:00\", \"2020-01-06T14:00:00\", \"2020-01-06T14:15:00\", \"2020-01-06T14:30:00\", \"2020-01-06T14:45:00\", \"2020-01-06T15:00:00\", \"2020-01-06T15:15:00\", \"2020-01-06T15:30:00\", \"2020-01-06T15:45:00\", \"2020-01-06T16:00:00\", \"2020-01-06T16:15:00\", \"2020-01-06T16:30:00\", \"2020-01-06T16:45:00\", \"2020-01-06T17:00:00\", \"2020-01-06T17:15:00\"], \"xaxis\": \"x\", \"yaxis\": \"y\"}, {\"marker\": {\"color\": \"MediumPurple\", \"size\": 8}, \"mode\": \"markers\", \"showlegend\": false, \"type\": \"scatter\", \"x\": [\"2020-01-03T19:45:00\", \"2020-01-05T21:45:00\", \"2020-01-06T03:30:00\", \"2020-01-06T11:30:00\"], \"xaxis\": \"x\", \"y\": [1.11685, 1.11719, 1.11716, 1.12061], \"yaxis\": \"y\"}, {\"marker\": {\"color\": \"mediumblue\", \"size\": 8}, \"mode\": \"markers\", \"showlegend\": false, \"type\": \"scatter\", \"x\": [\"2020-01-03T19:15:00\", \"2020-01-03T21:45:00\", \"2020-01-06T01:30:00\", \"2020-01-06T06:15:00\", \"2020-01-06T16:15:00\"], \"xaxis\": \"x\", \"y\": [1.11618, 1.1153, 1.1162, 1.11578, 1.11816], \"yaxis\": \"y\"}, {\"close\": [1.1938, 1.19387, 1.19415, 1.19439, 1.19439, 1.19439, 1.19442, 1.1946, 1.195, 1.195, 1.19541, 1.19546, 1.19566, 1.19587, 1.1959, 1.19589, 1.19583, 1.19602, 1.19588, 1.19579, 1.19581, 1.19582, 1.19576, 1.19573, 1.19576, 1.19578, 1.19594, 1.1956, 1.19577, 1.19625, 1.19679, 1.19717, 1.19693, 1.19657, 1.19724, 1.19828, 1.19807, 1.19769, 1.19802, 1.19773, 1.19813, 1.19749, 1.1969, 1.19715, 1.19693, 1.19638, 1.1962, 1.19636, 1.19706, 1.19679, 1.19698, 1.19681, 1.19678, 1.19685, 1.19826, 1.19768, 1.1993, 1.19864, 1.19837, 1.19906, 1.19955, 1.19955, 1.2016, 1.20258, 1.2032, 1.20488, 1.20429, 1.20408, 1.20385, 1.20417, 1.20404, 1.20468, 1.20458, 1.20483, 1.20503, 1.20482, 1.20442, 1.20469, 1.20469, 1.20479, 1.20485, 1.2051, 1.20541, 1.20617, 1.20723, 1.20699, 1.20708, 1.20733, 1.20748, 1.2074, 1.20754, 1.20741, 1.20739, 1.20715, 1.20717, 1.20721, 1.20713, 1.20686, 1.20709, 1.20681, 1.20674], \"high\": [1.19394, 1.194, 1.19425, 1.19463, 1.19456, 1.19457, 1.19448, 1.19466, 1.19508, 1.19505, 1.19546, 1.19568, 1.19583, 1.19593, 1.19602, 1.19602, 1.19596, 1.19607, 1.19604, 1.19592, 1.19584, 1.19587, 1.196, 1.19578, 1.19581, 1.19587, 1.19595, 1.19596, 1.19581, 1.19638, 1.19688, 1.19736, 1.19736, 1.19726, 1.19732, 1.19863, 1.19837, 1.19819, 1.1981, 1.19809, 1.19834, 1.19824, 1.19764, 1.19724, 1.1972, 1.19714, 1.19655, 1.19658, 1.19709, 1.19733, 1.19724, 1.19698, 1.197, 1.197, 1.1983, 1.19826, 1.19945, 1.1995, 1.19904, 1.19914, 1.20013, 1.20015, 1.20186, 1.20291, 1.20425, 1.2049, 1.20551, 1.20502, 1.20444, 1.20444, 1.20432, 1.20493, 1.20522, 1.20498, 1.20509, 1.20528, 1.20496, 1.20469, 1.20491, 1.20505, 1.20515, 1.20525, 1.20544, 1.20626, 1.20762, 1.20774, 1.2073, 1.20738, 1.20748, 1.20784, 1.20766, 1.20755, 1.20752, 1.20745, 1.20736, 1.20722, 1.20737, 1.20716, 1.20717, 1.2073, 1.20691], \"low\": [1.19362, 1.1936, 1.19374, 1.19411, 1.19429, 1.19414, 1.19422, 1.19433, 1.1946, 1.19485, 1.19491, 1.19535, 1.19539, 1.19565, 1.19569, 1.1958, 1.1957, 1.19582, 1.1958, 1.19567, 1.19571, 1.1957, 1.19575, 1.19558, 1.19561, 1.19567, 1.19555, 1.19554, 1.19556, 1.19547, 1.1961, 1.19663, 1.19682, 1.19642, 1.19637, 1.19716, 1.19777, 1.19739, 1.19724, 1.19729, 1.19742, 1.19744, 1.19681, 1.19677, 1.19663, 1.19625, 1.1961, 1.19609, 1.19618, 1.19657, 1.19665, 1.19659, 1.19649, 1.19661, 1.19675, 1.19753, 1.19756, 1.19856, 1.19837, 1.19758, 1.199, 1.19845, 1.19937, 1.20078, 1.20237, 1.2032, 1.20382, 1.2036, 1.2037, 1.2038, 1.20388, 1.20401, 1.20454, 1.20452, 1.20476, 1.20477, 1.20436, 1.20433, 1.20456, 1.20455, 1.20476, 1.20482, 1.20493, 1.20525, 1.20607, 1.20678, 1.20689, 1.20705, 1.20688, 1.20694, 1.2072, 1.20736, 1.20691, 1.20706, 1.20705, 1.20691, 1.20712, 1.20671, 1.20665, 1.20677, 1.20658], \"open\": [1.19367, 1.1938, 1.19387, 1.19415, 1.19439, 1.19439, 1.19439, 1.19442, 1.1946, 1.195, 1.195, 1.19541, 1.19546, 1.19566, 1.19587, 1.1959, 1.19589, 1.19583, 1.19602, 1.19588, 1.19579, 1.19581, 1.19582, 1.19576, 1.19573, 1.19576, 1.19578, 1.19594, 1.1956, 1.19577, 1.19625, 1.19679, 1.19717, 1.19693, 1.19657, 1.19724, 1.19828, 1.19807, 1.19769, 1.19802, 1.19773, 1.19813, 1.19749, 1.1969, 1.19715, 1.19693, 1.19638, 1.1962, 1.19636, 1.19706, 1.19679, 1.19698, 1.19681, 1.19678, 1.19685, 1.19826, 1.19768, 1.1993, 1.19864, 1.19837, 1.19906, 1.19955, 1.19955, 1.2016, 1.20258, 1.2032, 1.20488, 1.20429, 1.20408, 1.20385, 1.20417, 1.20404, 1.20468, 1.20458, 1.20483, 1.20503, 1.20482, 1.20442, 1.20469, 1.20469, 1.20479, 1.20485, 1.2051, 1.20541, 1.20617, 1.20723, 1.20699, 1.20708, 1.20733, 1.20748, 1.2074, 1.20754, 1.20741, 1.20739, 1.20715, 1.20717, 1.20721, 1.20713, 1.20686, 1.20709, 1.20681], \"showlegend\": false, \"type\": \"candlestick\", \"x\": [\"2020-11-30T23:45:00\", \"2020-12-01T00:00:00\", \"2020-12-01T00:15:00\", \"2020-12-01T00:30:00\", \"2020-12-01T00:45:00\", \"2020-12-01T01:00:00\", \"2020-12-01T01:15:00\", \"2020-12-01T01:30:00\", \"2020-12-01T01:45:00\", \"2020-12-01T02:00:00\", \"2020-12-01T02:15:00\", \"2020-12-01T02:30:00\", \"2020-12-01T02:45:00\", \"2020-12-01T03:00:00\", \"2020-12-01T03:15:00\", \"2020-12-01T03:30:00\", \"2020-12-01T03:45:00\", \"2020-12-01T04:00:00\", \"2020-12-01T04:15:00\", \"2020-12-01T04:30:00\", \"2020-12-01T04:45:00\", \"2020-12-01T05:00:00\", \"2020-12-01T05:15:00\", \"2020-12-01T05:30:00\", \"2020-12-01T05:45:00\", \"2020-12-01T06:00:00\", \"2020-12-01T06:15:00\", \"2020-12-01T06:30:00\", \"2020-12-01T06:45:00\", \"2020-12-01T07:00:00\", \"2020-12-01T07:15:00\", \"2020-12-01T07:30:00\", \"2020-12-01T07:45:00\", \"2020-12-01T08:00:00\", \"2020-12-01T08:15:00\", \"2020-12-01T08:30:00\", \"2020-12-01T08:45:00\", \"2020-12-01T09:00:00\", \"2020-12-01T09:15:00\", \"2020-12-01T09:30:00\", \"2020-12-01T09:45:00\", \"2020-12-01T10:00:00\", \"2020-12-01T10:15:00\", \"2020-12-01T10:30:00\", \"2020-12-01T10:45:00\", \"2020-12-01T11:00:00\", \"2020-12-01T11:15:00\", \"2020-12-01T11:30:00\", \"2020-12-01T11:45:00\", \"2020-12-01T12:00:00\", \"2020-12-01T12:15:00\", \"2020-12-01T12:30:00\", \"2020-12-01T12:45:00\", \"2020-12-01T13:00:00\", \"2020-12-01T13:15:00\", \"2020-12-01T13:30:00\", \"2020-12-01T13:45:00\", \"2020-12-01T14:00:00\", \"2020-12-01T14:15:00\", \"2020-12-01T14:30:00\", \"2020-12-01T14:45:00\", \"2020-12-01T15:00:00\", \"2020-12-01T15:15:00\", \"2020-12-01T15:30:00\", \"2020-12-01T15:45:00\", \"2020-12-01T16:00:00\", \"2020-12-01T16:15:00\", \"2020-12-01T16:30:00\", \"2020-12-01T16:45:00\", \"2020-12-01T17:00:00\", \"2020-12-01T17:15:00\", \"2020-12-01T17:30:00\", \"2020-12-01T17:45:00\", \"2020-12-01T18:00:00\", \"2020-12-01T18:15:00\", \"2020-12-01T18:30:00\", \"2020-12-01T18:45:00\", \"2020-12-01T19:00:00\", \"2020-12-01T19:15:00\", \"2020-12-01T19:30:00\", \"2020-12-01T19:45:00\", \"2020-12-01T20:00:00\", \"2020-12-01T20:15:00\", \"2020-12-01T20:30:00\", \"2020-12-01T20:45:00\", \"2020-12-01T21:00:00\", \"2020-12-01T21:15:00\", \"2020-12-01T21:30:00\", \"2020-12-01T21:45:00\", \"2020-12-01T22:00:00\", \"2020-12-01T22:15:00\", \"2020-12-01T22:30:00\", \"2020-12-01T22:45:00\", \"2020-12-01T23:00:00\", \"2020-12-01T23:15:00\", \"2020-12-01T23:30:00\", \"2020-12-01T23:45:00\", \"2020-12-02T00:00:00\", \"2020-12-02T00:15:00\", \"2020-12-02T00:30:00\", \"2020-12-02T00:45:00\"], \"xaxis\": \"x2\", \"yaxis\": \"y2\"}, {\"marker\": {\"color\": \"MediumPurple\", \"size\": 8}, \"mode\": \"markers\", \"showlegend\": false, \"type\": \"scatter\", \"x\": [\"2020-12-01T04:00:00\", \"2020-12-01T08:30:00\", \"2020-12-01T14:00:00\", \"2020-12-01T16:15:00\", \"2020-12-01T22:00:00\"], \"xaxis\": \"x2\", \"y\": [1.19607, 1.19863, 1.1995, 1.20551, 1.20784], \"yaxis\": \"y2\"}, {\"marker\": {\"color\": \"mediumblue\", \"size\": 8}, \"mode\": \"markers\", \"showlegend\": false, \"type\": \"scatter\", \"x\": [\"2020-12-01T00:00:00\", \"2020-12-01T07:00:00\", \"2020-12-01T11:30:00\", \"2020-12-01T14:30:00\", \"2020-12-01T19:00:00\", \"2020-12-02T00:15:00\"], \"xaxis\": \"x2\", \"y\": [1.1936, 1.19547, 1.19609, 1.19758, 1.20433, 1.20665], \"yaxis\": \"y2\"}],                        {\"template\": {\"data\": {\"bar\": [{\"error_x\": {\"color\": \"#2a3f5f\"}, \"error_y\": {\"color\": \"#2a3f5f\"}, \"marker\": {\"line\": {\"color\": \"#E5ECF6\", \"width\": 0.5}}, \"type\": \"bar\"}], \"barpolar\": [{\"marker\": {\"line\": {\"color\": \"#E5ECF6\", \"width\": 0.5}}, \"type\": \"barpolar\"}], \"carpet\": [{\"aaxis\": {\"endlinecolor\": \"#2a3f5f\", \"gridcolor\": \"white\", \"linecolor\": \"white\", \"minorgridcolor\": \"white\", \"startlinecolor\": \"#2a3f5f\"}, \"baxis\": {\"endlinecolor\": \"#2a3f5f\", \"gridcolor\": \"white\", \"linecolor\": \"white\", \"minorgridcolor\": \"white\", \"startlinecolor\": \"#2a3f5f\"}, \"type\": \"carpet\"}], \"choropleth\": [{\"colorbar\": {\"outlinewidth\": 0, \"ticks\": \"\"}, \"type\": \"choropleth\"}], \"contour\": [{\"colorbar\": {\"outlinewidth\": 0, \"ticks\": \"\"}, \"colorscale\": [[0.0, \"#0d0887\"], [0.1111111111111111, \"#46039f\"], [0.2222222222222222, \"#7201a8\"], [0.3333333333333333, \"#9c179e\"], [0.4444444444444444, \"#bd3786\"], [0.5555555555555556, \"#d8576b\"], [0.6666666666666666, \"#ed7953\"], [0.7777777777777778, \"#fb9f3a\"], [0.8888888888888888, \"#fdca26\"], [1.0, \"#f0f921\"]], \"type\": \"contour\"}], \"contourcarpet\": [{\"colorbar\": {\"outlinewidth\": 0, \"ticks\": \"\"}, \"type\": \"contourcarpet\"}], \"heatmap\": [{\"colorbar\": {\"outlinewidth\": 0, \"ticks\": \"\"}, \"colorscale\": [[0.0, \"#0d0887\"], [0.1111111111111111, \"#46039f\"], [0.2222222222222222, \"#7201a8\"], [0.3333333333333333, \"#9c179e\"], [0.4444444444444444, \"#bd3786\"], [0.5555555555555556, \"#d8576b\"], [0.6666666666666666, \"#ed7953\"], [0.7777777777777778, \"#fb9f3a\"], [0.8888888888888888, \"#fdca26\"], [1.0, \"#f0f921\"]], \"type\": \"heatmap\"}], \"heatmapgl\": [{\"colorbar\": {\"outlinewidth\": 0, \"ticks\": \"\"}, \"colorscale\": [[0.0, \"#0d0887\"], [0.1111111111111111, \"#46039f\"], [0.2222222222222222, \"#7201a8\"], [0.3333333333333333, \"#9c179e\"], [0.4444444444444444, \"#bd3786\"], [0.5555555555555556, \"#d8576b\"], [0.6666666666666666, \"#ed7953\"], [0.7777777777777778, \"#fb9f3a\"], [0.8888888888888888, \"#fdca26\"], [1.0, \"#f0f921\"]], \"type\": \"heatmapgl\"}], \"histogram\": [{\"marker\": {\"colorbar\": {\"outlinewidth\": 0, \"ticks\": \"\"}}, \"type\": \"histogram\"}], \"histogram2d\": [{\"colorbar\": {\"outlinewidth\": 0, \"ticks\": \"\"}, \"colorscale\": [[0.0, \"#0d0887\"], [0.1111111111111111, \"#46039f\"], [0.2222222222222222, \"#7201a8\"], [0.3333333333333333, \"#9c179e\"], [0.4444444444444444, \"#bd3786\"], [0.5555555555555556, \"#d8576b\"], [0.6666666666666666, \"#ed7953\"], [0.7777777777777778, \"#fb9f3a\"], [0.8888888888888888, \"#fdca26\"], [1.0, \"#f0f921\"]], \"type\": \"histogram2d\"}], \"histogram2dcontour\": [{\"colorbar\": {\"outlinewidth\": 0, \"ticks\": \"\"}, \"colorscale\": [[0.0, \"#0d0887\"], [0.1111111111111111, \"#46039f\"], [0.2222222222222222, \"#7201a8\"], [0.3333333333333333, \"#9c179e\"], [0.4444444444444444, \"#bd3786\"], [0.5555555555555556, \"#d8576b\"], [0.6666666666666666, \"#ed7953\"], [0.7777777777777778, \"#fb9f3a\"], [0.8888888888888888, \"#fdca26\"], [1.0, \"#f0f921\"]], \"type\": \"histogram2dcontour\"}], \"mesh3d\": [{\"colorbar\": {\"outlinewidth\": 0, \"ticks\": \"\"}, \"type\": \"mesh3d\"}], \"parcoords\": [{\"line\": {\"colorbar\": {\"outlinewidth\": 0, \"ticks\": \"\"}}, \"type\": \"parcoords\"}], \"pie\": [{\"automargin\": true, \"type\": \"pie\"}], \"scatter\": [{\"marker\": {\"colorbar\": {\"outlinewidth\": 0, \"ticks\": \"\"}}, \"type\": \"scatter\"}], \"scatter3d\": [{\"line\": {\"colorbar\": {\"outlinewidth\": 0, \"ticks\": \"\"}}, \"marker\": {\"colorbar\": {\"outlinewidth\": 0, \"ticks\": \"\"}}, \"type\": \"scatter3d\"}], \"scattercarpet\": [{\"marker\": {\"colorbar\": {\"outlinewidth\": 0, \"ticks\": \"\"}}, \"type\": \"scattercarpet\"}], \"scattergeo\": [{\"marker\": {\"colorbar\": {\"outlinewidth\": 0, \"ticks\": \"\"}}, \"type\": \"scattergeo\"}], \"scattergl\": [{\"marker\": {\"colorbar\": {\"outlinewidth\": 0, \"ticks\": \"\"}}, \"type\": \"scattergl\"}], \"scattermapbox\": [{\"marker\": {\"colorbar\": {\"outlinewidth\": 0, \"ticks\": \"\"}}, \"type\": \"scattermapbox\"}], \"scatterpolar\": [{\"marker\": {\"colorbar\": {\"outlinewidth\": 0, \"ticks\": \"\"}}, \"type\": \"scatterpolar\"}], \"scatterpolargl\": [{\"marker\": {\"colorbar\": {\"outlinewidth\": 0, \"ticks\": \"\"}}, \"type\": \"scatterpolargl\"}], \"scatterternary\": [{\"marker\": {\"colorbar\": {\"outlinewidth\": 0, \"ticks\": \"\"}}, \"type\": \"scatterternary\"}], \"surface\": [{\"colorbar\": {\"outlinewidth\": 0, \"ticks\": \"\"}, \"colorscale\": [[0.0, \"#0d0887\"], [0.1111111111111111, \"#46039f\"], [0.2222222222222222, \"#7201a8\"], [0.3333333333333333, \"#9c179e\"], [0.4444444444444444, \"#bd3786\"], [0.5555555555555556, \"#d8576b\"], [0.6666666666666666, \"#ed7953\"], [0.7777777777777778, \"#fb9f3a\"], [0.8888888888888888, \"#fdca26\"], [1.0, \"#f0f921\"]], \"type\": \"surface\"}], \"table\": [{\"cells\": {\"fill\": {\"color\": \"#EBF0F8\"}, \"line\": {\"color\": \"white\"}}, \"header\": {\"fill\": {\"color\": \"#C8D4E3\"}, \"line\": {\"color\": \"white\"}}, \"type\": \"table\"}]}, \"layout\": {\"annotationdefaults\": {\"arrowcolor\": \"#2a3f5f\", \"arrowhead\": 0, \"arrowwidth\": 1}, \"coloraxis\": {\"colorbar\": {\"outlinewidth\": 0, \"ticks\": \"\"}}, \"colorscale\": {\"diverging\": [[0, \"#8e0152\"], [0.1, \"#c51b7d\"], [0.2, \"#de77ae\"], [0.3, \"#f1b6da\"], [0.4, \"#fde0ef\"], [0.5, \"#f7f7f7\"], [0.6, \"#e6f5d0\"], [0.7, \"#b8e186\"], [0.8, \"#7fbc41\"], [0.9, \"#4d9221\"], [1, \"#276419\"]], \"sequential\": [[0.0, \"#0d0887\"], [0.1111111111111111, \"#46039f\"], [0.2222222222222222, \"#7201a8\"], [0.3333333333333333, \"#9c179e\"], [0.4444444444444444, \"#bd3786\"], [0.5555555555555556, \"#d8576b\"], [0.6666666666666666, \"#ed7953\"], [0.7777777777777778, \"#fb9f3a\"], [0.8888888888888888, \"#fdca26\"], [1.0, \"#f0f921\"]], \"sequentialminus\": [[0.0, \"#0d0887\"], [0.1111111111111111, \"#46039f\"], [0.2222222222222222, \"#7201a8\"], [0.3333333333333333, \"#9c179e\"], [0.4444444444444444, \"#bd3786\"], [0.5555555555555556, \"#d8576b\"], [0.6666666666666666, \"#ed7953\"], [0.7777777777777778, \"#fb9f3a\"], [0.8888888888888888, \"#fdca26\"], [1.0, \"#f0f921\"]]}, \"colorway\": [\"#636efa\", \"#EF553B\", \"#00cc96\", \"#ab63fa\", \"#FFA15A\", \"#19d3f3\", \"#FF6692\", \"#B6E880\", \"#FF97FF\", \"#FECB52\"], \"font\": {\"color\": \"#2a3f5f\"}, \"geo\": {\"bgcolor\": \"white\", \"lakecolor\": \"white\", \"landcolor\": \"#E5ECF6\", \"showlakes\": true, \"showland\": true, \"subunitcolor\": \"white\"}, \"hoverlabel\": {\"align\": \"left\"}, \"hovermode\": \"closest\", \"mapbox\": {\"style\": \"light\"}, \"paper_bgcolor\": \"white\", \"plot_bgcolor\": \"#E5ECF6\", \"polar\": {\"angularaxis\": {\"gridcolor\": \"white\", \"linecolor\": \"white\", \"ticks\": \"\"}, \"bgcolor\": \"#E5ECF6\", \"radialaxis\": {\"gridcolor\": \"white\", \"linecolor\": \"white\", \"ticks\": \"\"}}, \"scene\": {\"xaxis\": {\"backgroundcolor\": \"#E5ECF6\", \"gridcolor\": \"white\", \"gridwidth\": 2, \"linecolor\": \"white\", \"showbackground\": true, \"ticks\": \"\", \"zerolinecolor\": \"white\"}, \"yaxis\": {\"backgroundcolor\": \"#E5ECF6\", \"gridcolor\": \"white\", \"gridwidth\": 2, \"linecolor\": \"white\", \"showbackground\": true, \"ticks\": \"\", \"zerolinecolor\": \"white\"}, \"zaxis\": {\"backgroundcolor\": \"#E5ECF6\", \"gridcolor\": \"white\", \"gridwidth\": 2, \"linecolor\": \"white\", \"showbackground\": true, \"ticks\": \"\", \"zerolinecolor\": \"white\"}}, \"shapedefaults\": {\"line\": {\"color\": \"#2a3f5f\"}}, \"ternary\": {\"aaxis\": {\"gridcolor\": \"white\", \"linecolor\": \"white\", \"ticks\": \"\"}, \"baxis\": {\"gridcolor\": \"white\", \"linecolor\": \"white\", \"ticks\": \"\"}, \"bgcolor\": \"#E5ECF6\", \"caxis\": {\"gridcolor\": \"white\", \"linecolor\": \"white\", \"ticks\": \"\"}}, \"title\": {\"x\": 0.05}, \"xaxis\": {\"automargin\": true, \"gridcolor\": \"white\", \"linecolor\": \"white\", \"ticks\": \"\", \"title\": {\"standoff\": 15}, \"zerolinecolor\": \"white\", \"zerolinewidth\": 2}, \"yaxis\": {\"automargin\": true, \"gridcolor\": \"white\", \"linecolor\": \"white\", \"ticks\": \"\", \"title\": {\"standoff\": 15}, \"zerolinecolor\": \"white\", \"zerolinewidth\": 2}}}, \"xaxis\": {\"anchor\": \"y\", \"domain\": [0.0, 0.45], \"rangeslider\": {\"visible\": false}}, \"xaxis2\": {\"anchor\": \"y2\", \"domain\": [0.55, 1.0], \"rangeslider\": {\"visible\": false}}, \"yaxis\": {\"anchor\": \"x\", \"domain\": [0.0, 1.0]}, \"yaxis2\": {\"anchor\": \"x2\", \"domain\": [0.0, 1.0]}},                        {\"responsive\": true}                    ).then(function(){\n",
       "                            \n",
       "var gd = document.getElementById('51aa147c-e4ef-412d-8f17-2d4c5f17a6c4');\n",
       "var x = new MutationObserver(function (mutations, observer) {{\n",
       "        var display = window.getComputedStyle(gd).display;\n",
       "        if (!display || display === 'none') {{\n",
       "            console.log([gd, 'removed!']);\n",
       "            Plotly.purge(gd);\n",
       "            observer.disconnect();\n",
       "        }}\n",
       "}});\n",
       "\n",
       "// Listen for the removal of the full notebook cells\n",
       "var notebookContainer = gd.closest('#notebook-container');\n",
       "if (notebookContainer) {{\n",
       "    x.observe(notebookContainer, {childList: true});\n",
       "}}\n",
       "\n",
       "// Listen for the clearing of the current output cell\n",
       "var outputEl = gd.closest('.output');\n",
       "if (outputEl) {{\n",
       "    x.observe(outputEl, {childList: true});\n",
       "}}\n",
       "\n",
       "                        })                };                });            </script>        </div>"
      ]
     },
     "metadata": {},
     "output_type": "display_data"
    },
    {
     "data": {
      "application/vnd.plotly.v1+json": {
       "config": {
        "plotlyServerURL": "https://plot.ly"
       },
       "data": [
        {
         "close": [
          1.17653,
          1.17675,
          1.17625,
          1.17587,
          1.17588,
          1.17615,
          1.17679,
          1.17688,
          1.17724,
          1.17731,
          1.17731,
          1.17738,
          1.17773,
          1.1779,
          1.17813,
          1.17788,
          1.178,
          1.17779,
          1.17769,
          1.17742,
          1.17752,
          1.17759,
          1.1776,
          1.17773,
          1.17753,
          1.17729,
          1.17724,
          1.17753,
          1.17704,
          1.17746,
          1.17761,
          1.17752,
          1.1775,
          1.17775,
          1.17894,
          1.17935,
          1.17947,
          1.18024,
          1.1798,
          1.17976,
          1.17942,
          1.17972,
          1.18031,
          1.17997,
          1.18024,
          1.18034,
          1.18004,
          1.18023,
          1.18029,
          1.17996,
          1.17953,
          1.17974,
          1.18045,
          1.18097,
          1.18166,
          1.18143,
          1.1812,
          1.18072,
          1.18113,
          1.18145,
          1.18193,
          1.18155,
          1.18115,
          1.18195,
          1.18198,
          1.18193,
          1.18218,
          1.18229,
          1.18264,
          1.18238,
          1.18244,
          1.18188,
          1.18245,
          1.18237,
          1.1825,
          1.18277,
          1.18276,
          1.18256,
          1.18249,
          1.18268,
          1.18252,
          1.18261,
          1.18247,
          1.18284,
          1.18288,
          1.18325,
          1.18018,
          1.18042,
          1.18104,
          1.18124,
          1.18102,
          1.18102,
          1.18152,
          1.18152,
          1.18155,
          1.18149,
          1.18202,
          1.18199,
          1.18168,
          1.18158,
          1.18127
         ],
         "high": [
          1.17653,
          1.17677,
          1.1768,
          1.17627,
          1.17619,
          1.17628,
          1.17683,
          1.17733,
          1.17734,
          1.17747,
          1.17738,
          1.17753,
          1.17779,
          1.17797,
          1.17814,
          1.17814,
          1.17815,
          1.17801,
          1.17784,
          1.17771,
          1.17775,
          1.17764,
          1.17783,
          1.17782,
          1.1778,
          1.17758,
          1.17749,
          1.17769,
          1.17774,
          1.17746,
          1.17792,
          1.17765,
          1.17758,
          1.17781,
          1.17975,
          1.17938,
          1.17981,
          1.18049,
          1.18038,
          1.17991,
          1.18,
          1.17975,
          1.18036,
          1.18032,
          1.18034,
          1.18094,
          1.18059,
          1.18064,
          1.18079,
          1.1804,
          1.18022,
          1.18007,
          1.18046,
          1.18105,
          1.1819,
          1.18166,
          1.18178,
          1.18122,
          1.18146,
          1.18153,
          1.18215,
          1.18243,
          1.18199,
          1.18198,
          1.18257,
          1.18225,
          1.18218,
          1.18271,
          1.18287,
          1.18272,
          1.18264,
          1.18248,
          1.18252,
          1.18285,
          1.18259,
          1.18285,
          1.18282,
          1.18281,
          1.18273,
          1.18268,
          1.1827,
          1.18272,
          1.18269,
          1.18287,
          1.18297,
          1.18326,
          1.18325,
          1.18084,
          1.1811,
          1.18139,
          1.18124,
          1.18128,
          1.18152,
          1.18186,
          1.18156,
          1.18185,
          1.18245,
          1.18257,
          1.18228,
          1.18168,
          1.18205
         ],
         "low": [
          1.17639,
          1.1765,
          1.1762,
          1.17581,
          1.17583,
          1.17588,
          1.17607,
          1.17661,
          1.17679,
          1.17704,
          1.17708,
          1.17725,
          1.17732,
          1.17762,
          1.17786,
          1.17783,
          1.17785,
          1.17774,
          1.17766,
          1.17742,
          1.17742,
          1.17746,
          1.17757,
          1.1776,
          1.17742,
          1.17723,
          1.17708,
          1.17721,
          1.17692,
          1.17673,
          1.17742,
          1.17712,
          1.17721,
          1.17712,
          1.17775,
          1.17868,
          1.17917,
          1.17946,
          1.17971,
          1.17943,
          1.1792,
          1.1793,
          1.17931,
          1.17983,
          1.17988,
          1.18009,
          1.17977,
          1.17995,
          1.18017,
          1.17983,
          1.17937,
          1.17948,
          1.17973,
          1.18034,
          1.18091,
          1.18108,
          1.1812,
          1.18016,
          1.18055,
          1.18067,
          1.18118,
          1.18137,
          1.18115,
          1.18083,
          1.18176,
          1.18185,
          1.18151,
          1.18202,
          1.18225,
          1.18226,
          1.18227,
          1.18188,
          1.18187,
          1.18224,
          1.18204,
          1.18246,
          1.18252,
          1.18243,
          1.18238,
          1.18238,
          1.18242,
          1.18235,
          1.18231,
          1.18244,
          1.18283,
          1.18278,
          1.17978,
          1.18006,
          1.18042,
          1.18103,
          1.18102,
          1.18102,
          1.18102,
          1.18152,
          1.18078,
          1.18137,
          1.18147,
          1.18197,
          1.18149,
          1.1814,
          1.18118
         ],
         "open": [
          1.17646,
          1.17653,
          1.17675,
          1.17625,
          1.17587,
          1.17588,
          1.17615,
          1.17679,
          1.17688,
          1.17724,
          1.17731,
          1.17731,
          1.17738,
          1.17773,
          1.1779,
          1.17813,
          1.17788,
          1.178,
          1.17779,
          1.17769,
          1.17742,
          1.17752,
          1.17759,
          1.1776,
          1.17773,
          1.17753,
          1.17729,
          1.17724,
          1.17753,
          1.17704,
          1.17746,
          1.17761,
          1.17752,
          1.1775,
          1.17775,
          1.17894,
          1.17935,
          1.17947,
          1.18024,
          1.1798,
          1.17976,
          1.17942,
          1.17972,
          1.18031,
          1.17997,
          1.18024,
          1.18034,
          1.18004,
          1.18023,
          1.18029,
          1.17996,
          1.17953,
          1.17974,
          1.18045,
          1.18097,
          1.18166,
          1.18143,
          1.1812,
          1.18072,
          1.18113,
          1.18145,
          1.18193,
          1.18155,
          1.18115,
          1.18195,
          1.18198,
          1.18193,
          1.18218,
          1.18229,
          1.18264,
          1.18238,
          1.18244,
          1.18188,
          1.18245,
          1.18237,
          1.1825,
          1.18277,
          1.18276,
          1.18256,
          1.18249,
          1.18268,
          1.18252,
          1.18261,
          1.18247,
          1.18284,
          1.18288,
          1.18325,
          1.18018,
          1.18042,
          1.18104,
          1.18124,
          1.18102,
          1.18102,
          1.18152,
          1.18152,
          1.18155,
          1.18149,
          1.18202,
          1.18199,
          1.18168,
          1.18158
         ],
         "showlegend": false,
         "type": "candlestick",
         "x": [
          "2020-10-08T23:30:00",
          "2020-10-08T23:45:00",
          "2020-10-09T00:00:00",
          "2020-10-09T00:15:00",
          "2020-10-09T00:30:00",
          "2020-10-09T00:45:00",
          "2020-10-09T01:00:00",
          "2020-10-09T01:15:00",
          "2020-10-09T01:30:00",
          "2020-10-09T01:45:00",
          "2020-10-09T02:00:00",
          "2020-10-09T02:15:00",
          "2020-10-09T02:30:00",
          "2020-10-09T02:45:00",
          "2020-10-09T03:00:00",
          "2020-10-09T03:15:00",
          "2020-10-09T03:30:00",
          "2020-10-09T03:45:00",
          "2020-10-09T04:00:00",
          "2020-10-09T04:15:00",
          "2020-10-09T04:30:00",
          "2020-10-09T04:45:00",
          "2020-10-09T05:00:00",
          "2020-10-09T05:15:00",
          "2020-10-09T05:30:00",
          "2020-10-09T05:45:00",
          "2020-10-09T06:00:00",
          "2020-10-09T06:15:00",
          "2020-10-09T06:30:00",
          "2020-10-09T06:45:00",
          "2020-10-09T07:00:00",
          "2020-10-09T07:15:00",
          "2020-10-09T07:30:00",
          "2020-10-09T07:45:00",
          "2020-10-09T08:00:00",
          "2020-10-09T08:15:00",
          "2020-10-09T08:30:00",
          "2020-10-09T08:45:00",
          "2020-10-09T09:00:00",
          "2020-10-09T09:15:00",
          "2020-10-09T09:30:00",
          "2020-10-09T09:45:00",
          "2020-10-09T10:00:00",
          "2020-10-09T10:15:00",
          "2020-10-09T10:30:00",
          "2020-10-09T10:45:00",
          "2020-10-09T11:00:00",
          "2020-10-09T11:15:00",
          "2020-10-09T11:30:00",
          "2020-10-09T11:45:00",
          "2020-10-09T12:00:00",
          "2020-10-09T12:15:00",
          "2020-10-09T12:30:00",
          "2020-10-09T12:45:00",
          "2020-10-09T13:00:00",
          "2020-10-09T13:15:00",
          "2020-10-09T13:30:00",
          "2020-10-09T13:45:00",
          "2020-10-09T14:00:00",
          "2020-10-09T14:15:00",
          "2020-10-09T14:30:00",
          "2020-10-09T14:45:00",
          "2020-10-09T15:00:00",
          "2020-10-09T15:15:00",
          "2020-10-09T15:30:00",
          "2020-10-09T15:45:00",
          "2020-10-09T16:00:00",
          "2020-10-09T16:15:00",
          "2020-10-09T16:30:00",
          "2020-10-09T16:45:00",
          "2020-10-09T17:00:00",
          "2020-10-09T17:15:00",
          "2020-10-09T17:30:00",
          "2020-10-09T17:45:00",
          "2020-10-09T18:00:00",
          "2020-10-09T18:15:00",
          "2020-10-09T18:30:00",
          "2020-10-09T18:45:00",
          "2020-10-09T19:00:00",
          "2020-10-09T19:15:00",
          "2020-10-09T19:30:00",
          "2020-10-09T19:45:00",
          "2020-10-09T20:00:00",
          "2020-10-09T20:15:00",
          "2020-10-09T20:30:00",
          "2020-10-09T20:45:00",
          "2020-10-11T18:30:00",
          "2020-10-11T18:45:00",
          "2020-10-11T19:00:00",
          "2020-10-11T19:15:00",
          "2020-10-11T19:30:00",
          "2020-10-11T19:45:00",
          "2020-10-11T20:00:00",
          "2020-10-11T20:15:00",
          "2020-10-11T20:30:00",
          "2020-10-11T20:45:00",
          "2020-10-11T21:00:00",
          "2020-10-11T21:15:00",
          "2020-10-11T21:30:00",
          "2020-10-11T21:45:00",
          "2020-10-11T22:00:00"
         ],
         "xaxis": "x",
         "yaxis": "y"
        },
        {
         "marker": {
          "color": "MediumPurple",
          "size": 8
         },
         "mode": "markers",
         "showlegend": false,
         "type": "scatter",
         "x": [
          "2020-10-09T00:00:00",
          "2020-10-09T03:30:00",
          "2020-10-09T08:45:00",
          "2020-10-09T10:45:00",
          "2020-10-09T13:00:00",
          "2020-10-09T20:45:00",
          "2020-10-11T21:15:00"
         ],
         "xaxis": "x",
         "y": [
          1.1768,
          1.17815,
          1.18049,
          1.18094,
          1.1819,
          1.18326,
          1.18257
         ],
         "yaxis": "y"
        },
        {
         "marker": {
          "color": "mediumblue",
          "size": 8
         },
         "mode": "markers",
         "showlegend": false,
         "type": "scatter",
         "x": [
          "2020-10-09T00:15:00",
          "2020-10-09T06:45:00",
          "2020-10-09T09:30:00",
          "2020-10-09T12:00:00",
          "2020-10-09T13:45:00",
          "2020-10-11T20:00:00"
         ],
         "xaxis": "x",
         "y": [
          1.17581,
          1.17673,
          1.1792,
          1.17937,
          1.18016,
          1.18102
         ],
         "yaxis": "y"
        },
        {
         "close": [
          1.18037,
          1.17989,
          1.17967,
          1.17982,
          1.1799,
          1.17955,
          1.1802,
          1.18044,
          1.18025,
          1.18039,
          1.18051,
          1.18025,
          1.17988,
          1.17918,
          1.17946,
          1.17933,
          1.17857,
          1.17884,
          1.17913,
          1.17924,
          1.17942,
          1.17951,
          1.17925,
          1.1795,
          1.17989,
          1.18043,
          1.17999,
          1.18027,
          1.1803,
          1.18065,
          1.18131,
          1.18056,
          1.18091,
          1.18147,
          1.18129,
          1.18151,
          1.18161,
          1.18227,
          1.18224,
          1.18306,
          1.18382,
          1.18341,
          1.18342,
          1.18384,
          1.18312,
          1.18328,
          1.18407,
          1.18408,
          1.18379,
          1.18438,
          1.18467,
          1.18431,
          1.18371,
          1.18428,
          1.18379,
          1.18394,
          1.18311,
          1.18265,
          1.18266,
          1.18212,
          1.18198,
          1.18139,
          1.18017,
          1.17983,
          1.18028,
          1.18036,
          1.18063,
          1.18028,
          1.17954,
          1.18001,
          1.18017,
          1.18025,
          1.17969,
          1.17983,
          1.17984,
          1.17977,
          1.17974,
          1.17927,
          1.17887,
          1.17913,
          1.17857,
          1.17925,
          1.1787,
          1.17878,
          1.17868,
          1.17887,
          1.17918,
          1.17928,
          1.17926,
          1.17932,
          1.17925,
          1.1794,
          1.17945,
          1.17945,
          1.17933,
          1.1792,
          1.17935,
          1.17942,
          1.17906,
          1.17916,
          1.17984
         ],
         "high": [
          1.18066,
          1.18037,
          1.18,
          1.18009,
          1.17996,
          1.18,
          1.18021,
          1.18073,
          1.18066,
          1.18041,
          1.18054,
          1.18051,
          1.18036,
          1.17988,
          1.1796,
          1.17959,
          1.17936,
          1.17906,
          1.17927,
          1.1793,
          1.17955,
          1.17951,
          1.17961,
          1.17951,
          1.18,
          1.18044,
          1.18058,
          1.18034,
          1.18045,
          1.18094,
          1.18151,
          1.18141,
          1.1816,
          1.18157,
          1.18183,
          1.18184,
          1.18203,
          1.18257,
          1.18258,
          1.18319,
          1.18405,
          1.18392,
          1.1838,
          1.18388,
          1.18447,
          1.18356,
          1.18415,
          1.18436,
          1.18431,
          1.18468,
          1.18501,
          1.18494,
          1.18435,
          1.18455,
          1.18457,
          1.18436,
          1.18397,
          1.18387,
          1.18288,
          1.18269,
          1.18252,
          1.18278,
          1.18151,
          1.18061,
          1.18041,
          1.18045,
          1.18074,
          1.1807,
          1.18031,
          1.18007,
          1.18062,
          1.18026,
          1.18026,
          1.17994,
          1.18002,
          1.17994,
          1.17998,
          1.17981,
          1.17934,
          1.17924,
          1.17935,
          1.17928,
          1.17925,
          1.17888,
          1.17888,
          1.17889,
          1.17953,
          1.17947,
          1.1794,
          1.17935,
          1.17935,
          1.17957,
          1.1795,
          1.17946,
          1.17952,
          1.17937,
          1.1794,
          1.1796,
          1.17961,
          1.17927,
          1.17989
         ],
         "low": [
          1.18034,
          1.17974,
          1.17913,
          1.17962,
          1.17942,
          1.17952,
          1.17941,
          1.1802,
          1.18022,
          1.18004,
          1.18011,
          1.18014,
          1.17984,
          1.17912,
          1.17918,
          1.17926,
          1.17853,
          1.17854,
          1.17879,
          1.17906,
          1.17924,
          1.17917,
          1.17916,
          1.17918,
          1.1795,
          1.17979,
          1.17999,
          1.17953,
          1.1797,
          1.1802,
          1.18065,
          1.18043,
          1.18039,
          1.18076,
          1.18116,
          1.18093,
          1.1812,
          1.18159,
          1.18222,
          1.18223,
          1.18278,
          1.18337,
          1.18327,
          1.18331,
          1.18296,
          1.18285,
          1.18288,
          1.18387,
          1.18372,
          1.18373,
          1.18428,
          1.18414,
          1.18336,
          1.18351,
          1.18367,
          1.18376,
          1.18283,
          1.1826,
          1.18221,
          1.18203,
          1.18156,
          1.18114,
          1.18008,
          1.17932,
          1.17978,
          1.18001,
          1.17966,
          1.18008,
          1.1792,
          1.17947,
          1.17997,
          1.17958,
          1.17967,
          1.17941,
          1.17961,
          1.17949,
          1.17948,
          1.17923,
          1.17884,
          1.17866,
          1.17856,
          1.17849,
          1.1787,
          1.17862,
          1.17858,
          1.17864,
          1.17887,
          1.1789,
          1.17911,
          1.17906,
          1.17906,
          1.17917,
          1.17936,
          1.1793,
          1.17929,
          1.17918,
          1.17919,
          1.17928,
          1.17876,
          1.17848,
          1.17916
         ],
         "open": [
          1.18066,
          1.18037,
          1.17989,
          1.17967,
          1.17982,
          1.1799,
          1.17955,
          1.1802,
          1.18044,
          1.18025,
          1.18039,
          1.18051,
          1.18025,
          1.17988,
          1.17918,
          1.17946,
          1.17933,
          1.17857,
          1.17884,
          1.17913,
          1.17924,
          1.17942,
          1.17951,
          1.17925,
          1.1795,
          1.17989,
          1.18043,
          1.17999,
          1.18027,
          1.1803,
          1.18065,
          1.18131,
          1.18056,
          1.18091,
          1.18147,
          1.18129,
          1.18151,
          1.18161,
          1.18227,
          1.18224,
          1.18306,
          1.18382,
          1.18341,
          1.18342,
          1.18384,
          1.18312,
          1.18328,
          1.18407,
          1.18408,
          1.18379,
          1.18438,
          1.18467,
          1.18431,
          1.18371,
          1.18428,
          1.18379,
          1.18394,
          1.18311,
          1.18265,
          1.18266,
          1.18212,
          1.18198,
          1.18139,
          1.18017,
          1.17983,
          1.18028,
          1.18036,
          1.18063,
          1.18028,
          1.17954,
          1.18001,
          1.18017,
          1.18025,
          1.17969,
          1.17983,
          1.17984,
          1.17977,
          1.17974,
          1.17927,
          1.17887,
          1.17913,
          1.17857,
          1.17925,
          1.1787,
          1.17878,
          1.17868,
          1.17887,
          1.17918,
          1.17928,
          1.17926,
          1.17932,
          1.17925,
          1.1794,
          1.17945,
          1.17945,
          1.17933,
          1.1792,
          1.17935,
          1.17942,
          1.17906,
          1.17916
         ],
         "showlegend": false,
         "type": "candlestick",
         "x": [
          "2020-08-23T23:30:00",
          "2020-08-23T23:45:00",
          "2020-08-24T00:00:00",
          "2020-08-24T00:15:00",
          "2020-08-24T00:30:00",
          "2020-08-24T00:45:00",
          "2020-08-24T01:00:00",
          "2020-08-24T01:15:00",
          "2020-08-24T01:30:00",
          "2020-08-24T01:45:00",
          "2020-08-24T02:00:00",
          "2020-08-24T02:15:00",
          "2020-08-24T02:30:00",
          "2020-08-24T02:45:00",
          "2020-08-24T03:00:00",
          "2020-08-24T03:15:00",
          "2020-08-24T03:30:00",
          "2020-08-24T03:45:00",
          "2020-08-24T04:00:00",
          "2020-08-24T04:15:00",
          "2020-08-24T04:30:00",
          "2020-08-24T04:45:00",
          "2020-08-24T05:00:00",
          "2020-08-24T05:15:00",
          "2020-08-24T05:30:00",
          "2020-08-24T05:45:00",
          "2020-08-24T06:00:00",
          "2020-08-24T06:15:00",
          "2020-08-24T06:30:00",
          "2020-08-24T06:45:00",
          "2020-08-24T07:00:00",
          "2020-08-24T07:15:00",
          "2020-08-24T07:30:00",
          "2020-08-24T07:45:00",
          "2020-08-24T08:00:00",
          "2020-08-24T08:15:00",
          "2020-08-24T08:30:00",
          "2020-08-24T08:45:00",
          "2020-08-24T09:00:00",
          "2020-08-24T09:15:00",
          "2020-08-24T09:30:00",
          "2020-08-24T09:45:00",
          "2020-08-24T10:00:00",
          "2020-08-24T10:15:00",
          "2020-08-24T10:30:00",
          "2020-08-24T10:45:00",
          "2020-08-24T11:00:00",
          "2020-08-24T11:15:00",
          "2020-08-24T11:30:00",
          "2020-08-24T11:45:00",
          "2020-08-24T12:00:00",
          "2020-08-24T12:15:00",
          "2020-08-24T12:30:00",
          "2020-08-24T12:45:00",
          "2020-08-24T13:00:00",
          "2020-08-24T13:15:00",
          "2020-08-24T13:30:00",
          "2020-08-24T13:45:00",
          "2020-08-24T14:00:00",
          "2020-08-24T14:15:00",
          "2020-08-24T14:30:00",
          "2020-08-24T14:45:00",
          "2020-08-24T15:00:00",
          "2020-08-24T15:15:00",
          "2020-08-24T15:30:00",
          "2020-08-24T15:45:00",
          "2020-08-24T16:00:00",
          "2020-08-24T16:15:00",
          "2020-08-24T16:30:00",
          "2020-08-24T16:45:00",
          "2020-08-24T17:00:00",
          "2020-08-24T17:15:00",
          "2020-08-24T17:30:00",
          "2020-08-24T17:45:00",
          "2020-08-24T18:00:00",
          "2020-08-24T18:15:00",
          "2020-08-24T18:30:00",
          "2020-08-24T18:45:00",
          "2020-08-24T19:00:00",
          "2020-08-24T19:15:00",
          "2020-08-24T19:30:00",
          "2020-08-24T19:45:00",
          "2020-08-24T20:00:00",
          "2020-08-24T20:15:00",
          "2020-08-24T20:30:00",
          "2020-08-24T20:45:00",
          "2020-08-24T21:00:00",
          "2020-08-24T21:15:00",
          "2020-08-24T21:30:00",
          "2020-08-24T21:45:00",
          "2020-08-24T22:00:00",
          "2020-08-24T22:15:00",
          "2020-08-24T22:30:00",
          "2020-08-24T22:45:00",
          "2020-08-24T23:00:00",
          "2020-08-24T23:15:00",
          "2020-08-24T23:30:00",
          "2020-08-24T23:45:00",
          "2020-08-25T00:00:00",
          "2020-08-25T00:15:00",
          "2020-08-25T00:30:00"
         ],
         "xaxis": "x2",
         "yaxis": "y2"
        },
        {
         "marker": {
          "color": "MediumPurple",
          "size": 8
         },
         "mode": "markers",
         "showlegend": false,
         "type": "scatter",
         "x": [
          "2020-08-24T01:15:00",
          "2020-08-24T07:30:00",
          "2020-08-24T12:00:00",
          "2020-08-24T19:30:00",
          "2020-08-25T00:00:00"
         ],
         "xaxis": "x2",
         "y": [
          1.18073,
          1.1816,
          1.18501,
          1.17935,
          1.17961
         ],
         "yaxis": "y2"
        },
        {
         "marker": {
          "color": "mediumblue",
          "size": 8
         },
         "mode": "markers",
         "showlegend": false,
         "type": "scatter",
         "x": [
          "2020-08-24T00:00:00",
          "2020-08-24T03:30:00",
          "2020-08-24T10:45:00",
          "2020-08-24T17:45:00",
          "2020-08-24T19:45:00",
          "2020-08-25T00:15:00"
         ],
         "xaxis": "x2",
         "y": [
          1.17913,
          1.17853,
          1.18285,
          1.17941,
          1.17849,
          1.17848
         ],
         "yaxis": "y2"
        }
       ],
       "layout": {
        "autosize": true,
        "template": {
         "data": {
          "bar": [
           {
            "error_x": {
             "color": "#2a3f5f"
            },
            "error_y": {
             "color": "#2a3f5f"
            },
            "marker": {
             "line": {
              "color": "#E5ECF6",
              "width": 0.5
             }
            },
            "type": "bar"
           }
          ],
          "barpolar": [
           {
            "marker": {
             "line": {
              "color": "#E5ECF6",
              "width": 0.5
             }
            },
            "type": "barpolar"
           }
          ],
          "carpet": [
           {
            "aaxis": {
             "endlinecolor": "#2a3f5f",
             "gridcolor": "white",
             "linecolor": "white",
             "minorgridcolor": "white",
             "startlinecolor": "#2a3f5f"
            },
            "baxis": {
             "endlinecolor": "#2a3f5f",
             "gridcolor": "white",
             "linecolor": "white",
             "minorgridcolor": "white",
             "startlinecolor": "#2a3f5f"
            },
            "type": "carpet"
           }
          ],
          "choropleth": [
           {
            "colorbar": {
             "outlinewidth": 0,
             "ticks": ""
            },
            "type": "choropleth"
           }
          ],
          "contour": [
           {
            "colorbar": {
             "outlinewidth": 0,
             "ticks": ""
            },
            "colorscale": [
             [
              0,
              "#0d0887"
             ],
             [
              0.1111111111111111,
              "#46039f"
             ],
             [
              0.2222222222222222,
              "#7201a8"
             ],
             [
              0.3333333333333333,
              "#9c179e"
             ],
             [
              0.4444444444444444,
              "#bd3786"
             ],
             [
              0.5555555555555556,
              "#d8576b"
             ],
             [
              0.6666666666666666,
              "#ed7953"
             ],
             [
              0.7777777777777778,
              "#fb9f3a"
             ],
             [
              0.8888888888888888,
              "#fdca26"
             ],
             [
              1,
              "#f0f921"
             ]
            ],
            "type": "contour"
           }
          ],
          "contourcarpet": [
           {
            "colorbar": {
             "outlinewidth": 0,
             "ticks": ""
            },
            "type": "contourcarpet"
           }
          ],
          "heatmap": [
           {
            "colorbar": {
             "outlinewidth": 0,
             "ticks": ""
            },
            "colorscale": [
             [
              0,
              "#0d0887"
             ],
             [
              0.1111111111111111,
              "#46039f"
             ],
             [
              0.2222222222222222,
              "#7201a8"
             ],
             [
              0.3333333333333333,
              "#9c179e"
             ],
             [
              0.4444444444444444,
              "#bd3786"
             ],
             [
              0.5555555555555556,
              "#d8576b"
             ],
             [
              0.6666666666666666,
              "#ed7953"
             ],
             [
              0.7777777777777778,
              "#fb9f3a"
             ],
             [
              0.8888888888888888,
              "#fdca26"
             ],
             [
              1,
              "#f0f921"
             ]
            ],
            "type": "heatmap"
           }
          ],
          "heatmapgl": [
           {
            "colorbar": {
             "outlinewidth": 0,
             "ticks": ""
            },
            "colorscale": [
             [
              0,
              "#0d0887"
             ],
             [
              0.1111111111111111,
              "#46039f"
             ],
             [
              0.2222222222222222,
              "#7201a8"
             ],
             [
              0.3333333333333333,
              "#9c179e"
             ],
             [
              0.4444444444444444,
              "#bd3786"
             ],
             [
              0.5555555555555556,
              "#d8576b"
             ],
             [
              0.6666666666666666,
              "#ed7953"
             ],
             [
              0.7777777777777778,
              "#fb9f3a"
             ],
             [
              0.8888888888888888,
              "#fdca26"
             ],
             [
              1,
              "#f0f921"
             ]
            ],
            "type": "heatmapgl"
           }
          ],
          "histogram": [
           {
            "marker": {
             "colorbar": {
              "outlinewidth": 0,
              "ticks": ""
             }
            },
            "type": "histogram"
           }
          ],
          "histogram2d": [
           {
            "colorbar": {
             "outlinewidth": 0,
             "ticks": ""
            },
            "colorscale": [
             [
              0,
              "#0d0887"
             ],
             [
              0.1111111111111111,
              "#46039f"
             ],
             [
              0.2222222222222222,
              "#7201a8"
             ],
             [
              0.3333333333333333,
              "#9c179e"
             ],
             [
              0.4444444444444444,
              "#bd3786"
             ],
             [
              0.5555555555555556,
              "#d8576b"
             ],
             [
              0.6666666666666666,
              "#ed7953"
             ],
             [
              0.7777777777777778,
              "#fb9f3a"
             ],
             [
              0.8888888888888888,
              "#fdca26"
             ],
             [
              1,
              "#f0f921"
             ]
            ],
            "type": "histogram2d"
           }
          ],
          "histogram2dcontour": [
           {
            "colorbar": {
             "outlinewidth": 0,
             "ticks": ""
            },
            "colorscale": [
             [
              0,
              "#0d0887"
             ],
             [
              0.1111111111111111,
              "#46039f"
             ],
             [
              0.2222222222222222,
              "#7201a8"
             ],
             [
              0.3333333333333333,
              "#9c179e"
             ],
             [
              0.4444444444444444,
              "#bd3786"
             ],
             [
              0.5555555555555556,
              "#d8576b"
             ],
             [
              0.6666666666666666,
              "#ed7953"
             ],
             [
              0.7777777777777778,
              "#fb9f3a"
             ],
             [
              0.8888888888888888,
              "#fdca26"
             ],
             [
              1,
              "#f0f921"
             ]
            ],
            "type": "histogram2dcontour"
           }
          ],
          "mesh3d": [
           {
            "colorbar": {
             "outlinewidth": 0,
             "ticks": ""
            },
            "type": "mesh3d"
           }
          ],
          "parcoords": [
           {
            "line": {
             "colorbar": {
              "outlinewidth": 0,
              "ticks": ""
             }
            },
            "type": "parcoords"
           }
          ],
          "pie": [
           {
            "automargin": true,
            "type": "pie"
           }
          ],
          "scatter": [
           {
            "marker": {
             "colorbar": {
              "outlinewidth": 0,
              "ticks": ""
             }
            },
            "type": "scatter"
           }
          ],
          "scatter3d": [
           {
            "line": {
             "colorbar": {
              "outlinewidth": 0,
              "ticks": ""
             }
            },
            "marker": {
             "colorbar": {
              "outlinewidth": 0,
              "ticks": ""
             }
            },
            "type": "scatter3d"
           }
          ],
          "scattercarpet": [
           {
            "marker": {
             "colorbar": {
              "outlinewidth": 0,
              "ticks": ""
             }
            },
            "type": "scattercarpet"
           }
          ],
          "scattergeo": [
           {
            "marker": {
             "colorbar": {
              "outlinewidth": 0,
              "ticks": ""
             }
            },
            "type": "scattergeo"
           }
          ],
          "scattergl": [
           {
            "marker": {
             "colorbar": {
              "outlinewidth": 0,
              "ticks": ""
             }
            },
            "type": "scattergl"
           }
          ],
          "scattermapbox": [
           {
            "marker": {
             "colorbar": {
              "outlinewidth": 0,
              "ticks": ""
             }
            },
            "type": "scattermapbox"
           }
          ],
          "scatterpolar": [
           {
            "marker": {
             "colorbar": {
              "outlinewidth": 0,
              "ticks": ""
             }
            },
            "type": "scatterpolar"
           }
          ],
          "scatterpolargl": [
           {
            "marker": {
             "colorbar": {
              "outlinewidth": 0,
              "ticks": ""
             }
            },
            "type": "scatterpolargl"
           }
          ],
          "scatterternary": [
           {
            "marker": {
             "colorbar": {
              "outlinewidth": 0,
              "ticks": ""
             }
            },
            "type": "scatterternary"
           }
          ],
          "surface": [
           {
            "colorbar": {
             "outlinewidth": 0,
             "ticks": ""
            },
            "colorscale": [
             [
              0,
              "#0d0887"
             ],
             [
              0.1111111111111111,
              "#46039f"
             ],
             [
              0.2222222222222222,
              "#7201a8"
             ],
             [
              0.3333333333333333,
              "#9c179e"
             ],
             [
              0.4444444444444444,
              "#bd3786"
             ],
             [
              0.5555555555555556,
              "#d8576b"
             ],
             [
              0.6666666666666666,
              "#ed7953"
             ],
             [
              0.7777777777777778,
              "#fb9f3a"
             ],
             [
              0.8888888888888888,
              "#fdca26"
             ],
             [
              1,
              "#f0f921"
             ]
            ],
            "type": "surface"
           }
          ],
          "table": [
           {
            "cells": {
             "fill": {
              "color": "#EBF0F8"
             },
             "line": {
              "color": "white"
             }
            },
            "header": {
             "fill": {
              "color": "#C8D4E3"
             },
             "line": {
              "color": "white"
             }
            },
            "type": "table"
           }
          ]
         },
         "layout": {
          "annotationdefaults": {
           "arrowcolor": "#2a3f5f",
           "arrowhead": 0,
           "arrowwidth": 1
          },
          "coloraxis": {
           "colorbar": {
            "outlinewidth": 0,
            "ticks": ""
           }
          },
          "colorscale": {
           "diverging": [
            [
             0,
             "#8e0152"
            ],
            [
             0.1,
             "#c51b7d"
            ],
            [
             0.2,
             "#de77ae"
            ],
            [
             0.3,
             "#f1b6da"
            ],
            [
             0.4,
             "#fde0ef"
            ],
            [
             0.5,
             "#f7f7f7"
            ],
            [
             0.6,
             "#e6f5d0"
            ],
            [
             0.7,
             "#b8e186"
            ],
            [
             0.8,
             "#7fbc41"
            ],
            [
             0.9,
             "#4d9221"
            ],
            [
             1,
             "#276419"
            ]
           ],
           "sequential": [
            [
             0,
             "#0d0887"
            ],
            [
             0.1111111111111111,
             "#46039f"
            ],
            [
             0.2222222222222222,
             "#7201a8"
            ],
            [
             0.3333333333333333,
             "#9c179e"
            ],
            [
             0.4444444444444444,
             "#bd3786"
            ],
            [
             0.5555555555555556,
             "#d8576b"
            ],
            [
             0.6666666666666666,
             "#ed7953"
            ],
            [
             0.7777777777777778,
             "#fb9f3a"
            ],
            [
             0.8888888888888888,
             "#fdca26"
            ],
            [
             1,
             "#f0f921"
            ]
           ],
           "sequentialminus": [
            [
             0,
             "#0d0887"
            ],
            [
             0.1111111111111111,
             "#46039f"
            ],
            [
             0.2222222222222222,
             "#7201a8"
            ],
            [
             0.3333333333333333,
             "#9c179e"
            ],
            [
             0.4444444444444444,
             "#bd3786"
            ],
            [
             0.5555555555555556,
             "#d8576b"
            ],
            [
             0.6666666666666666,
             "#ed7953"
            ],
            [
             0.7777777777777778,
             "#fb9f3a"
            ],
            [
             0.8888888888888888,
             "#fdca26"
            ],
            [
             1,
             "#f0f921"
            ]
           ]
          },
          "colorway": [
           "#636efa",
           "#EF553B",
           "#00cc96",
           "#ab63fa",
           "#FFA15A",
           "#19d3f3",
           "#FF6692",
           "#B6E880",
           "#FF97FF",
           "#FECB52"
          ],
          "font": {
           "color": "#2a3f5f"
          },
          "geo": {
           "bgcolor": "white",
           "lakecolor": "white",
           "landcolor": "#E5ECF6",
           "showlakes": true,
           "showland": true,
           "subunitcolor": "white"
          },
          "hoverlabel": {
           "align": "left"
          },
          "hovermode": "closest",
          "mapbox": {
           "style": "light"
          },
          "paper_bgcolor": "white",
          "plot_bgcolor": "#E5ECF6",
          "polar": {
           "angularaxis": {
            "gridcolor": "white",
            "linecolor": "white",
            "ticks": ""
           },
           "bgcolor": "#E5ECF6",
           "radialaxis": {
            "gridcolor": "white",
            "linecolor": "white",
            "ticks": ""
           }
          },
          "scene": {
           "xaxis": {
            "backgroundcolor": "#E5ECF6",
            "gridcolor": "white",
            "gridwidth": 2,
            "linecolor": "white",
            "showbackground": true,
            "ticks": "",
            "zerolinecolor": "white"
           },
           "yaxis": {
            "backgroundcolor": "#E5ECF6",
            "gridcolor": "white",
            "gridwidth": 2,
            "linecolor": "white",
            "showbackground": true,
            "ticks": "",
            "zerolinecolor": "white"
           },
           "zaxis": {
            "backgroundcolor": "#E5ECF6",
            "gridcolor": "white",
            "gridwidth": 2,
            "linecolor": "white",
            "showbackground": true,
            "ticks": "",
            "zerolinecolor": "white"
           }
          },
          "shapedefaults": {
           "line": {
            "color": "#2a3f5f"
           }
          },
          "ternary": {
           "aaxis": {
            "gridcolor": "white",
            "linecolor": "white",
            "ticks": ""
           },
           "baxis": {
            "gridcolor": "white",
            "linecolor": "white",
            "ticks": ""
           },
           "bgcolor": "#E5ECF6",
           "caxis": {
            "gridcolor": "white",
            "linecolor": "white",
            "ticks": ""
           }
          },
          "title": {
           "x": 0.05
          },
          "xaxis": {
           "automargin": true,
           "gridcolor": "white",
           "linecolor": "white",
           "ticks": "",
           "title": {
            "standoff": 15
           },
           "zerolinecolor": "white",
           "zerolinewidth": 2
          },
          "yaxis": {
           "automargin": true,
           "gridcolor": "white",
           "linecolor": "white",
           "ticks": "",
           "title": {
            "standoff": 15
           },
           "zerolinecolor": "white",
           "zerolinewidth": 2
          }
         }
        },
        "xaxis": {
         "anchor": "y",
         "autorange": true,
         "domain": [
          0,
          0.45
         ],
         "range": [
          "2020-10-08 19:24:38.962",
          "2020-10-12 01:50:21.038"
         ],
         "rangeslider": {
          "visible": false,
          "yaxis": {}
         },
         "type": "date"
        },
        "xaxis2": {
         "anchor": "y2",
         "autorange": true,
         "domain": [
          0.55,
          1
         ],
         "range": [
          "2020-08-23 22:23:34.6545",
          "2020-08-25 01:51:25.3455"
         ],
         "rangeslider": {
          "visible": false,
          "yaxis2": {}
         },
         "type": "date"
        },
        "yaxis": {
         "anchor": "x",
         "autorange": true,
         "domain": [
          0,
          1
         ],
         "range": [
          1.1752177875915555,
          1.1838522124084445
         ],
         "type": "linear"
        },
        "yaxis2": {
         "anchor": "x2",
         "autorange": true,
         "domain": [
          0,
          1
         ],
         "range": [
          1.1779609198621284,
          1.1855290801378715
         ],
         "type": "linear"
        }
       }
      },
      "image/png": "[encoded data removed]",
      "text/html": [
       "<div>                            <div id=\"728388a2-2c4a-402a-8657-16cc657ca5f8\" class=\"plotly-graph-div\" style=\"height:525px; width:100%;\"></div>            <script type=\"text/javascript\">                require([\"plotly\"], function(Plotly) {                    window.PLOTLYENV=window.PLOTLYENV || {};                                    if (document.getElementById(\"728388a2-2c4a-402a-8657-16cc657ca5f8\")) {                    Plotly.newPlot(                        \"728388a2-2c4a-402a-8657-16cc657ca5f8\",                        [{\"close\": [1.17653, 1.17675, 1.17625, 1.17587, 1.17588, 1.17615, 1.17679, 1.17688, 1.17724, 1.17731, 1.17731, 1.17738, 1.17773, 1.1779, 1.17813, 1.17788, 1.178, 1.17779, 1.17769, 1.17742, 1.17752, 1.17759, 1.1776, 1.17773, 1.17753, 1.17729, 1.17724, 1.17753, 1.17704, 1.17746, 1.17761, 1.17752, 1.1775, 1.17775, 1.17894, 1.17935, 1.17947, 1.18024, 1.1798, 1.17976, 1.17942, 1.17972, 1.18031, 1.17997, 1.18024, 1.18034, 1.18004, 1.18023, 1.18029, 1.17996, 1.17953, 1.17974, 1.18045, 1.18097, 1.18166, 1.18143, 1.1812, 1.18072, 1.18113, 1.18145, 1.18193, 1.18155, 1.18115, 1.18195, 1.18198, 1.18193, 1.18218, 1.18229, 1.18264, 1.18238, 1.18244, 1.18188, 1.18245, 1.18237, 1.1825, 1.18277, 1.18276, 1.18256, 1.18249, 1.18268, 1.18252, 1.18261, 1.18247, 1.18284, 1.18288, 1.18325, 1.18018, 1.18042, 1.18104, 1.18124, 1.18102, 1.18102, 1.18152, 1.18152, 1.18155, 1.18149, 1.18202, 1.18199, 1.18168, 1.18158, 1.18127], \"high\": [1.17653, 1.17677, 1.1768, 1.17627, 1.17619, 1.17628, 1.17683, 1.17733, 1.17734, 1.17747, 1.17738, 1.17753, 1.17779, 1.17797, 1.17814, 1.17814, 1.17815, 1.17801, 1.17784, 1.17771, 1.17775, 1.17764, 1.17783, 1.17782, 1.1778, 1.17758, 1.17749, 1.17769, 1.17774, 1.17746, 1.17792, 1.17765, 1.17758, 1.17781, 1.17975, 1.17938, 1.17981, 1.18049, 1.18038, 1.17991, 1.18, 1.17975, 1.18036, 1.18032, 1.18034, 1.18094, 1.18059, 1.18064, 1.18079, 1.1804, 1.18022, 1.18007, 1.18046, 1.18105, 1.1819, 1.18166, 1.18178, 1.18122, 1.18146, 1.18153, 1.18215, 1.18243, 1.18199, 1.18198, 1.18257, 1.18225, 1.18218, 1.18271, 1.18287, 1.18272, 1.18264, 1.18248, 1.18252, 1.18285, 1.18259, 1.18285, 1.18282, 1.18281, 1.18273, 1.18268, 1.1827, 1.18272, 1.18269, 1.18287, 1.18297, 1.18326, 1.18325, 1.18084, 1.1811, 1.18139, 1.18124, 1.18128, 1.18152, 1.18186, 1.18156, 1.18185, 1.18245, 1.18257, 1.18228, 1.18168, 1.18205], \"low\": [1.17639, 1.1765, 1.1762, 1.17581, 1.17583, 1.17588, 1.17607, 1.17661, 1.17679, 1.17704, 1.17708, 1.17725, 1.17732, 1.17762, 1.17786, 1.17783, 1.17785, 1.17774, 1.17766, 1.17742, 1.17742, 1.17746, 1.17757, 1.1776, 1.17742, 1.17723, 1.17708, 1.17721, 1.17692, 1.17673, 1.17742, 1.17712, 1.17721, 1.17712, 1.17775, 1.17868, 1.17917, 1.17946, 1.17971, 1.17943, 1.1792, 1.1793, 1.17931, 1.17983, 1.17988, 1.18009, 1.17977, 1.17995, 1.18017, 1.17983, 1.17937, 1.17948, 1.17973, 1.18034, 1.18091, 1.18108, 1.1812, 1.18016, 1.18055, 1.18067, 1.18118, 1.18137, 1.18115, 1.18083, 1.18176, 1.18185, 1.18151, 1.18202, 1.18225, 1.18226, 1.18227, 1.18188, 1.18187, 1.18224, 1.18204, 1.18246, 1.18252, 1.18243, 1.18238, 1.18238, 1.18242, 1.18235, 1.18231, 1.18244, 1.18283, 1.18278, 1.17978, 1.18006, 1.18042, 1.18103, 1.18102, 1.18102, 1.18102, 1.18152, 1.18078, 1.18137, 1.18147, 1.18197, 1.18149, 1.1814, 1.18118], \"open\": [1.17646, 1.17653, 1.17675, 1.17625, 1.17587, 1.17588, 1.17615, 1.17679, 1.17688, 1.17724, 1.17731, 1.17731, 1.17738, 1.17773, 1.1779, 1.17813, 1.17788, 1.178, 1.17779, 1.17769, 1.17742, 1.17752, 1.17759, 1.1776, 1.17773, 1.17753, 1.17729, 1.17724, 1.17753, 1.17704, 1.17746, 1.17761, 1.17752, 1.1775, 1.17775, 1.17894, 1.17935, 1.17947, 1.18024, 1.1798, 1.17976, 1.17942, 1.17972, 1.18031, 1.17997, 1.18024, 1.18034, 1.18004, 1.18023, 1.18029, 1.17996, 1.17953, 1.17974, 1.18045, 1.18097, 1.18166, 1.18143, 1.1812, 1.18072, 1.18113, 1.18145, 1.18193, 1.18155, 1.18115, 1.18195, 1.18198, 1.18193, 1.18218, 1.18229, 1.18264, 1.18238, 1.18244, 1.18188, 1.18245, 1.18237, 1.1825, 1.18277, 1.18276, 1.18256, 1.18249, 1.18268, 1.18252, 1.18261, 1.18247, 1.18284, 1.18288, 1.18325, 1.18018, 1.18042, 1.18104, 1.18124, 1.18102, 1.18102, 1.18152, 1.18152, 1.18155, 1.18149, 1.18202, 1.18199, 1.18168, 1.18158], \"showlegend\": false, \"type\": \"candlestick\", \"x\": [\"2020-10-08T23:30:00\", \"2020-10-08T23:45:00\", \"2020-10-09T00:00:00\", \"2020-10-09T00:15:00\", \"2020-10-09T00:30:00\", \"2020-10-09T00:45:00\", \"2020-10-09T01:00:00\", \"2020-10-09T01:15:00\", \"2020-10-09T01:30:00\", \"2020-10-09T01:45:00\", \"2020-10-09T02:00:00\", \"2020-10-09T02:15:00\", \"2020-10-09T02:30:00\", \"2020-10-09T02:45:00\", \"2020-10-09T03:00:00\", \"2020-10-09T03:15:00\", \"2020-10-09T03:30:00\", \"2020-10-09T03:45:00\", \"2020-10-09T04:00:00\", \"2020-10-09T04:15:00\", \"2020-10-09T04:30:00\", \"2020-10-09T04:45:00\", \"2020-10-09T05:00:00\", \"2020-10-09T05:15:00\", \"2020-10-09T05:30:00\", \"2020-10-09T05:45:00\", \"2020-10-09T06:00:00\", \"2020-10-09T06:15:00\", \"2020-10-09T06:30:00\", \"2020-10-09T06:45:00\", \"2020-10-09T07:00:00\", \"2020-10-09T07:15:00\", \"2020-10-09T07:30:00\", \"2020-10-09T07:45:00\", \"2020-10-09T08:00:00\", \"2020-10-09T08:15:00\", \"2020-10-09T08:30:00\", \"2020-10-09T08:45:00\", \"2020-10-09T09:00:00\", \"2020-10-09T09:15:00\", \"2020-10-09T09:30:00\", \"2020-10-09T09:45:00\", \"2020-10-09T10:00:00\", \"2020-10-09T10:15:00\", \"2020-10-09T10:30:00\", \"2020-10-09T10:45:00\", \"2020-10-09T11:00:00\", \"2020-10-09T11:15:00\", \"2020-10-09T11:30:00\", \"2020-10-09T11:45:00\", \"2020-10-09T12:00:00\", \"2020-10-09T12:15:00\", \"2020-10-09T12:30:00\", \"2020-10-09T12:45:00\", \"2020-10-09T13:00:00\", \"2020-10-09T13:15:00\", \"2020-10-09T13:30:00\", \"2020-10-09T13:45:00\", \"2020-10-09T14:00:00\", \"2020-10-09T14:15:00\", \"2020-10-09T14:30:00\", \"2020-10-09T14:45:00\", \"2020-10-09T15:00:00\", \"2020-10-09T15:15:00\", \"2020-10-09T15:30:00\", \"2020-10-09T15:45:00\", \"2020-10-09T16:00:00\", \"2020-10-09T16:15:00\", \"2020-10-09T16:30:00\", \"2020-10-09T16:45:00\", \"2020-10-09T17:00:00\", \"2020-10-09T17:15:00\", \"2020-10-09T17:30:00\", \"2020-10-09T17:45:00\", \"2020-10-09T18:00:00\", \"2020-10-09T18:15:00\", \"2020-10-09T18:30:00\", \"2020-10-09T18:45:00\", \"2020-10-09T19:00:00\", \"2020-10-09T19:15:00\", \"2020-10-09T19:30:00\", \"2020-10-09T19:45:00\", \"2020-10-09T20:00:00\", \"2020-10-09T20:15:00\", \"2020-10-09T20:30:00\", \"2020-10-09T20:45:00\", \"2020-10-11T18:30:00\", \"2020-10-11T18:45:00\", \"2020-10-11T19:00:00\", \"2020-10-11T19:15:00\", \"2020-10-11T19:30:00\", \"2020-10-11T19:45:00\", \"2020-10-11T20:00:00\", \"2020-10-11T20:15:00\", \"2020-10-11T20:30:00\", \"2020-10-11T20:45:00\", \"2020-10-11T21:00:00\", \"2020-10-11T21:15:00\", \"2020-10-11T21:30:00\", \"2020-10-11T21:45:00\", \"2020-10-11T22:00:00\"], \"xaxis\": \"x\", \"yaxis\": \"y\"}, {\"marker\": {\"color\": \"MediumPurple\", \"size\": 8}, \"mode\": \"markers\", \"showlegend\": false, \"type\": \"scatter\", \"x\": [\"2020-10-09T00:00:00\", \"2020-10-09T03:30:00\", \"2020-10-09T08:45:00\", \"2020-10-09T10:45:00\", \"2020-10-09T13:00:00\", \"2020-10-09T20:45:00\", \"2020-10-11T21:15:00\"], \"xaxis\": \"x\", \"y\": [1.1768, 1.17815, 1.18049, 1.18094, 1.1819, 1.18326, 1.18257], \"yaxis\": \"y\"}, {\"marker\": {\"color\": \"mediumblue\", \"size\": 8}, \"mode\": \"markers\", \"showlegend\": false, \"type\": \"scatter\", \"x\": [\"2020-10-09T00:15:00\", \"2020-10-09T06:45:00\", \"2020-10-09T09:30:00\", \"2020-10-09T12:00:00\", \"2020-10-09T13:45:00\", \"2020-10-11T20:00:00\"], \"xaxis\": \"x\", \"y\": [1.17581, 1.17673, 1.1792, 1.17937, 1.18016, 1.18102], \"yaxis\": \"y\"}, {\"close\": [1.18037, 1.17989, 1.17967, 1.17982, 1.1799, 1.17955, 1.1802, 1.18044, 1.18025, 1.18039, 1.18051, 1.18025, 1.17988, 1.17918, 1.17946, 1.17933, 1.17857, 1.17884, 1.17913, 1.17924, 1.17942, 1.17951, 1.17925, 1.1795, 1.17989, 1.18043, 1.17999, 1.18027, 1.1803, 1.18065, 1.18131, 1.18056, 1.18091, 1.18147, 1.18129, 1.18151, 1.18161, 1.18227, 1.18224, 1.18306, 1.18382, 1.18341, 1.18342, 1.18384, 1.18312, 1.18328, 1.18407, 1.18408, 1.18379, 1.18438, 1.18467, 1.18431, 1.18371, 1.18428, 1.18379, 1.18394, 1.18311, 1.18265, 1.18266, 1.18212, 1.18198, 1.18139, 1.18017, 1.17983, 1.18028, 1.18036, 1.18063, 1.18028, 1.17954, 1.18001, 1.18017, 1.18025, 1.17969, 1.17983, 1.17984, 1.17977, 1.17974, 1.17927, 1.17887, 1.17913, 1.17857, 1.17925, 1.1787, 1.17878, 1.17868, 1.17887, 1.17918, 1.17928, 1.17926, 1.17932, 1.17925, 1.1794, 1.17945, 1.17945, 1.17933, 1.1792, 1.17935, 1.17942, 1.17906, 1.17916, 1.17984], \"high\": [1.18066, 1.18037, 1.18, 1.18009, 1.17996, 1.18, 1.18021, 1.18073, 1.18066, 1.18041, 1.18054, 1.18051, 1.18036, 1.17988, 1.1796, 1.17959, 1.17936, 1.17906, 1.17927, 1.1793, 1.17955, 1.17951, 1.17961, 1.17951, 1.18, 1.18044, 1.18058, 1.18034, 1.18045, 1.18094, 1.18151, 1.18141, 1.1816, 1.18157, 1.18183, 1.18184, 1.18203, 1.18257, 1.18258, 1.18319, 1.18405, 1.18392, 1.1838, 1.18388, 1.18447, 1.18356, 1.18415, 1.18436, 1.18431, 1.18468, 1.18501, 1.18494, 1.18435, 1.18455, 1.18457, 1.18436, 1.18397, 1.18387, 1.18288, 1.18269, 1.18252, 1.18278, 1.18151, 1.18061, 1.18041, 1.18045, 1.18074, 1.1807, 1.18031, 1.18007, 1.18062, 1.18026, 1.18026, 1.17994, 1.18002, 1.17994, 1.17998, 1.17981, 1.17934, 1.17924, 1.17935, 1.17928, 1.17925, 1.17888, 1.17888, 1.17889, 1.17953, 1.17947, 1.1794, 1.17935, 1.17935, 1.17957, 1.1795, 1.17946, 1.17952, 1.17937, 1.1794, 1.1796, 1.17961, 1.17927, 1.17989], \"low\": [1.18034, 1.17974, 1.17913, 1.17962, 1.17942, 1.17952, 1.17941, 1.1802, 1.18022, 1.18004, 1.18011, 1.18014, 1.17984, 1.17912, 1.17918, 1.17926, 1.17853, 1.17854, 1.17879, 1.17906, 1.17924, 1.17917, 1.17916, 1.17918, 1.1795, 1.17979, 1.17999, 1.17953, 1.1797, 1.1802, 1.18065, 1.18043, 1.18039, 1.18076, 1.18116, 1.18093, 1.1812, 1.18159, 1.18222, 1.18223, 1.18278, 1.18337, 1.18327, 1.18331, 1.18296, 1.18285, 1.18288, 1.18387, 1.18372, 1.18373, 1.18428, 1.18414, 1.18336, 1.18351, 1.18367, 1.18376, 1.18283, 1.1826, 1.18221, 1.18203, 1.18156, 1.18114, 1.18008, 1.17932, 1.17978, 1.18001, 1.17966, 1.18008, 1.1792, 1.17947, 1.17997, 1.17958, 1.17967, 1.17941, 1.17961, 1.17949, 1.17948, 1.17923, 1.17884, 1.17866, 1.17856, 1.17849, 1.1787, 1.17862, 1.17858, 1.17864, 1.17887, 1.1789, 1.17911, 1.17906, 1.17906, 1.17917, 1.17936, 1.1793, 1.17929, 1.17918, 1.17919, 1.17928, 1.17876, 1.17848, 1.17916], \"open\": [1.18066, 1.18037, 1.17989, 1.17967, 1.17982, 1.1799, 1.17955, 1.1802, 1.18044, 1.18025, 1.18039, 1.18051, 1.18025, 1.17988, 1.17918, 1.17946, 1.17933, 1.17857, 1.17884, 1.17913, 1.17924, 1.17942, 1.17951, 1.17925, 1.1795, 1.17989, 1.18043, 1.17999, 1.18027, 1.1803, 1.18065, 1.18131, 1.18056, 1.18091, 1.18147, 1.18129, 1.18151, 1.18161, 1.18227, 1.18224, 1.18306, 1.18382, 1.18341, 1.18342, 1.18384, 1.18312, 1.18328, 1.18407, 1.18408, 1.18379, 1.18438, 1.18467, 1.18431, 1.18371, 1.18428, 1.18379, 1.18394, 1.18311, 1.18265, 1.18266, 1.18212, 1.18198, 1.18139, 1.18017, 1.17983, 1.18028, 1.18036, 1.18063, 1.18028, 1.17954, 1.18001, 1.18017, 1.18025, 1.17969, 1.17983, 1.17984, 1.17977, 1.17974, 1.17927, 1.17887, 1.17913, 1.17857, 1.17925, 1.1787, 1.17878, 1.17868, 1.17887, 1.17918, 1.17928, 1.17926, 1.17932, 1.17925, 1.1794, 1.17945, 1.17945, 1.17933, 1.1792, 1.17935, 1.17942, 1.17906, 1.17916], \"showlegend\": false, \"type\": \"candlestick\", \"x\": [\"2020-08-23T23:30:00\", \"2020-08-23T23:45:00\", \"2020-08-24T00:00:00\", \"2020-08-24T00:15:00\", \"2020-08-24T00:30:00\", \"2020-08-24T00:45:00\", \"2020-08-24T01:00:00\", \"2020-08-24T01:15:00\", \"2020-08-24T01:30:00\", \"2020-08-24T01:45:00\", \"2020-08-24T02:00:00\", \"2020-08-24T02:15:00\", \"2020-08-24T02:30:00\", \"2020-08-24T02:45:00\", \"2020-08-24T03:00:00\", \"2020-08-24T03:15:00\", \"2020-08-24T03:30:00\", \"2020-08-24T03:45:00\", \"2020-08-24T04:00:00\", \"2020-08-24T04:15:00\", \"2020-08-24T04:30:00\", \"2020-08-24T04:45:00\", \"2020-08-24T05:00:00\", \"2020-08-24T05:15:00\", \"2020-08-24T05:30:00\", \"2020-08-24T05:45:00\", \"2020-08-24T06:00:00\", \"2020-08-24T06:15:00\", \"2020-08-24T06:30:00\", \"2020-08-24T06:45:00\", \"2020-08-24T07:00:00\", \"2020-08-24T07:15:00\", \"2020-08-24T07:30:00\", \"2020-08-24T07:45:00\", \"2020-08-24T08:00:00\", \"2020-08-24T08:15:00\", \"2020-08-24T08:30:00\", \"2020-08-24T08:45:00\", \"2020-08-24T09:00:00\", \"2020-08-24T09:15:00\", \"2020-08-24T09:30:00\", \"2020-08-24T09:45:00\", \"2020-08-24T10:00:00\", \"2020-08-24T10:15:00\", \"2020-08-24T10:30:00\", \"2020-08-24T10:45:00\", \"2020-08-24T11:00:00\", \"2020-08-24T11:15:00\", \"2020-08-24T11:30:00\", \"2020-08-24T11:45:00\", \"2020-08-24T12:00:00\", \"2020-08-24T12:15:00\", \"2020-08-24T12:30:00\", \"2020-08-24T12:45:00\", \"2020-08-24T13:00:00\", \"2020-08-24T13:15:00\", \"2020-08-24T13:30:00\", \"2020-08-24T13:45:00\", \"2020-08-24T14:00:00\", \"2020-08-24T14:15:00\", \"2020-08-24T14:30:00\", \"2020-08-24T14:45:00\", \"2020-08-24T15:00:00\", \"2020-08-24T15:15:00\", \"2020-08-24T15:30:00\", \"2020-08-24T15:45:00\", \"2020-08-24T16:00:00\", \"2020-08-24T16:15:00\", \"2020-08-24T16:30:00\", \"2020-08-24T16:45:00\", \"2020-08-24T17:00:00\", \"2020-08-24T17:15:00\", \"2020-08-24T17:30:00\", \"2020-08-24T17:45:00\", \"2020-08-24T18:00:00\", \"2020-08-24T18:15:00\", \"2020-08-24T18:30:00\", \"2020-08-24T18:45:00\", \"2020-08-24T19:00:00\", \"2020-08-24T19:15:00\", \"2020-08-24T19:30:00\", \"2020-08-24T19:45:00\", \"2020-08-24T20:00:00\", \"2020-08-24T20:15:00\", \"2020-08-24T20:30:00\", \"2020-08-24T20:45:00\", \"2020-08-24T21:00:00\", \"2020-08-24T21:15:00\", \"2020-08-24T21:30:00\", \"2020-08-24T21:45:00\", \"2020-08-24T22:00:00\", \"2020-08-24T22:15:00\", \"2020-08-24T22:30:00\", \"2020-08-24T22:45:00\", \"2020-08-24T23:00:00\", \"2020-08-24T23:15:00\", \"2020-08-24T23:30:00\", \"2020-08-24T23:45:00\", \"2020-08-25T00:00:00\", \"2020-08-25T00:15:00\", \"2020-08-25T00:30:00\"], \"xaxis\": \"x2\", \"yaxis\": \"y2\"}, {\"marker\": {\"color\": \"MediumPurple\", \"size\": 8}, \"mode\": \"markers\", \"showlegend\": false, \"type\": \"scatter\", \"x\": [\"2020-08-24T01:15:00\", \"2020-08-24T07:30:00\", \"2020-08-24T12:00:00\", \"2020-08-24T19:30:00\", \"2020-08-25T00:00:00\"], \"xaxis\": \"x2\", \"y\": [1.18073, 1.1816, 1.18501, 1.17935, 1.17961], \"yaxis\": \"y2\"}, {\"marker\": {\"color\": \"mediumblue\", \"size\": 8}, \"mode\": \"markers\", \"showlegend\": false, \"type\": \"scatter\", \"x\": [\"2020-08-24T00:00:00\", \"2020-08-24T03:30:00\", \"2020-08-24T10:45:00\", \"2020-08-24T17:45:00\", \"2020-08-24T19:45:00\", \"2020-08-25T00:15:00\"], \"xaxis\": \"x2\", \"y\": [1.17913, 1.17853, 1.18285, 1.17941, 1.17849, 1.17848], \"yaxis\": \"y2\"}],                        {\"template\": {\"data\": {\"bar\": [{\"error_x\": {\"color\": \"#2a3f5f\"}, \"error_y\": {\"color\": \"#2a3f5f\"}, \"marker\": {\"line\": {\"color\": \"#E5ECF6\", \"width\": 0.5}}, \"type\": \"bar\"}], \"barpolar\": [{\"marker\": {\"line\": {\"color\": \"#E5ECF6\", \"width\": 0.5}}, \"type\": \"barpolar\"}], \"carpet\": [{\"aaxis\": {\"endlinecolor\": \"#2a3f5f\", \"gridcolor\": \"white\", \"linecolor\": \"white\", \"minorgridcolor\": \"white\", \"startlinecolor\": \"#2a3f5f\"}, \"baxis\": {\"endlinecolor\": \"#2a3f5f\", \"gridcolor\": \"white\", \"linecolor\": \"white\", \"minorgridcolor\": \"white\", \"startlinecolor\": \"#2a3f5f\"}, \"type\": \"carpet\"}], \"choropleth\": [{\"colorbar\": {\"outlinewidth\": 0, \"ticks\": \"\"}, \"type\": \"choropleth\"}], \"contour\": [{\"colorbar\": {\"outlinewidth\": 0, \"ticks\": \"\"}, \"colorscale\": [[0.0, \"#0d0887\"], [0.1111111111111111, \"#46039f\"], [0.2222222222222222, \"#7201a8\"], [0.3333333333333333, \"#9c179e\"], [0.4444444444444444, \"#bd3786\"], [0.5555555555555556, \"#d8576b\"], [0.6666666666666666, \"#ed7953\"], [0.7777777777777778, \"#fb9f3a\"], [0.8888888888888888, \"#fdca26\"], [1.0, \"#f0f921\"]], \"type\": \"contour\"}], \"contourcarpet\": [{\"colorbar\": {\"outlinewidth\": 0, \"ticks\": \"\"}, \"type\": \"contourcarpet\"}], \"heatmap\": [{\"colorbar\": {\"outlinewidth\": 0, \"ticks\": \"\"}, \"colorscale\": [[0.0, \"#0d0887\"], [0.1111111111111111, \"#46039f\"], [0.2222222222222222, \"#7201a8\"], [0.3333333333333333, \"#9c179e\"], [0.4444444444444444, \"#bd3786\"], [0.5555555555555556, \"#d8576b\"], [0.6666666666666666, \"#ed7953\"], [0.7777777777777778, \"#fb9f3a\"], [0.8888888888888888, \"#fdca26\"], [1.0, \"#f0f921\"]], \"type\": \"heatmap\"}], \"heatmapgl\": [{\"colorbar\": {\"outlinewidth\": 0, \"ticks\": \"\"}, \"colorscale\": [[0.0, \"#0d0887\"], [0.1111111111111111, \"#46039f\"], [0.2222222222222222, \"#7201a8\"], [0.3333333333333333, \"#9c179e\"], [0.4444444444444444, \"#bd3786\"], [0.5555555555555556, \"#d8576b\"], [0.6666666666666666, \"#ed7953\"], [0.7777777777777778, \"#fb9f3a\"], [0.8888888888888888, \"#fdca26\"], [1.0, \"#f0f921\"]], \"type\": \"heatmapgl\"}], \"histogram\": [{\"marker\": {\"colorbar\": {\"outlinewidth\": 0, \"ticks\": \"\"}}, \"type\": \"histogram\"}], \"histogram2d\": [{\"colorbar\": {\"outlinewidth\": 0, \"ticks\": \"\"}, \"colorscale\": [[0.0, \"#0d0887\"], [0.1111111111111111, \"#46039f\"], [0.2222222222222222, \"#7201a8\"], [0.3333333333333333, \"#9c179e\"], [0.4444444444444444, \"#bd3786\"], [0.5555555555555556, \"#d8576b\"], [0.6666666666666666, \"#ed7953\"], [0.7777777777777778, \"#fb9f3a\"], [0.8888888888888888, \"#fdca26\"], [1.0, \"#f0f921\"]], \"type\": \"histogram2d\"}], \"histogram2dcontour\": [{\"colorbar\": {\"outlinewidth\": 0, \"ticks\": \"\"}, \"colorscale\": [[0.0, \"#0d0887\"], [0.1111111111111111, \"#46039f\"], [0.2222222222222222, \"#7201a8\"], [0.3333333333333333, \"#9c179e\"], [0.4444444444444444, \"#bd3786\"], [0.5555555555555556, \"#d8576b\"], [0.6666666666666666, \"#ed7953\"], [0.7777777777777778, \"#fb9f3a\"], [0.8888888888888888, \"#fdca26\"], [1.0, \"#f0f921\"]], \"type\": \"histogram2dcontour\"}], \"mesh3d\": [{\"colorbar\": {\"outlinewidth\": 0, \"ticks\": \"\"}, \"type\": \"mesh3d\"}], \"parcoords\": [{\"line\": {\"colorbar\": {\"outlinewidth\": 0, \"ticks\": \"\"}}, \"type\": \"parcoords\"}], \"pie\": [{\"automargin\": true, \"type\": \"pie\"}], \"scatter\": [{\"marker\": {\"colorbar\": {\"outlinewidth\": 0, \"ticks\": \"\"}}, \"type\": \"scatter\"}], \"scatter3d\": [{\"line\": {\"colorbar\": {\"outlinewidth\": 0, \"ticks\": \"\"}}, \"marker\": {\"colorbar\": {\"outlinewidth\": 0, \"ticks\": \"\"}}, \"type\": \"scatter3d\"}], \"scattercarpet\": [{\"marker\": {\"colorbar\": {\"outlinewidth\": 0, \"ticks\": \"\"}}, \"type\": \"scattercarpet\"}], \"scattergeo\": [{\"marker\": {\"colorbar\": {\"outlinewidth\": 0, \"ticks\": \"\"}}, \"type\": \"scattergeo\"}], \"scattergl\": [{\"marker\": {\"colorbar\": {\"outlinewidth\": 0, \"ticks\": \"\"}}, \"type\": \"scattergl\"}], \"scattermapbox\": [{\"marker\": {\"colorbar\": {\"outlinewidth\": 0, \"ticks\": \"\"}}, \"type\": \"scattermapbox\"}], \"scatterpolar\": [{\"marker\": {\"colorbar\": {\"outlinewidth\": 0, \"ticks\": \"\"}}, \"type\": \"scatterpolar\"}], \"scatterpolargl\": [{\"marker\": {\"colorbar\": {\"outlinewidth\": 0, \"ticks\": \"\"}}, \"type\": \"scatterpolargl\"}], \"scatterternary\": [{\"marker\": {\"colorbar\": {\"outlinewidth\": 0, \"ticks\": \"\"}}, \"type\": \"scatterternary\"}], \"surface\": [{\"colorbar\": {\"outlinewidth\": 0, \"ticks\": \"\"}, \"colorscale\": [[0.0, \"#0d0887\"], [0.1111111111111111, \"#46039f\"], [0.2222222222222222, \"#7201a8\"], [0.3333333333333333, \"#9c179e\"], [0.4444444444444444, \"#bd3786\"], [0.5555555555555556, \"#d8576b\"], [0.6666666666666666, \"#ed7953\"], [0.7777777777777778, \"#fb9f3a\"], [0.8888888888888888, \"#fdca26\"], [1.0, \"#f0f921\"]], \"type\": \"surface\"}], \"table\": [{\"cells\": {\"fill\": {\"color\": \"#EBF0F8\"}, \"line\": {\"color\": \"white\"}}, \"header\": {\"fill\": {\"color\": \"#C8D4E3\"}, \"line\": {\"color\": \"white\"}}, \"type\": \"table\"}]}, \"layout\": {\"annotationdefaults\": {\"arrowcolor\": \"#2a3f5f\", \"arrowhead\": 0, \"arrowwidth\": 1}, \"coloraxis\": {\"colorbar\": {\"outlinewidth\": 0, \"ticks\": \"\"}}, \"colorscale\": {\"diverging\": [[0, \"#8e0152\"], [0.1, \"#c51b7d\"], [0.2, \"#de77ae\"], [0.3, \"#f1b6da\"], [0.4, \"#fde0ef\"], [0.5, \"#f7f7f7\"], [0.6, \"#e6f5d0\"], [0.7, \"#b8e186\"], [0.8, \"#7fbc41\"], [0.9, \"#4d9221\"], [1, \"#276419\"]], \"sequential\": [[0.0, \"#0d0887\"], [0.1111111111111111, \"#46039f\"], [0.2222222222222222, \"#7201a8\"], [0.3333333333333333, \"#9c179e\"], [0.4444444444444444, \"#bd3786\"], [0.5555555555555556, \"#d8576b\"], [0.6666666666666666, \"#ed7953\"], [0.7777777777777778, \"#fb9f3a\"], [0.8888888888888888, \"#fdca26\"], [1.0, \"#f0f921\"]], \"sequentialminus\": [[0.0, \"#0d0887\"], [0.1111111111111111, \"#46039f\"], [0.2222222222222222, \"#7201a8\"], [0.3333333333333333, \"#9c179e\"], [0.4444444444444444, \"#bd3786\"], [0.5555555555555556, \"#d8576b\"], [0.6666666666666666, \"#ed7953\"], [0.7777777777777778, \"#fb9f3a\"], [0.8888888888888888, \"#fdca26\"], [1.0, \"#f0f921\"]]}, \"colorway\": [\"#636efa\", \"#EF553B\", \"#00cc96\", \"#ab63fa\", \"#FFA15A\", \"#19d3f3\", \"#FF6692\", \"#B6E880\", \"#FF97FF\", \"#FECB52\"], \"font\": {\"color\": \"#2a3f5f\"}, \"geo\": {\"bgcolor\": \"white\", \"lakecolor\": \"white\", \"landcolor\": \"#E5ECF6\", \"showlakes\": true, \"showland\": true, \"subunitcolor\": \"white\"}, \"hoverlabel\": {\"align\": \"left\"}, \"hovermode\": \"closest\", \"mapbox\": {\"style\": \"light\"}, \"paper_bgcolor\": \"white\", \"plot_bgcolor\": \"#E5ECF6\", \"polar\": {\"angularaxis\": {\"gridcolor\": \"white\", \"linecolor\": \"white\", \"ticks\": \"\"}, \"bgcolor\": \"#E5ECF6\", \"radialaxis\": {\"gridcolor\": \"white\", \"linecolor\": \"white\", \"ticks\": \"\"}}, \"scene\": {\"xaxis\": {\"backgroundcolor\": \"#E5ECF6\", \"gridcolor\": \"white\", \"gridwidth\": 2, \"linecolor\": \"white\", \"showbackground\": true, \"ticks\": \"\", \"zerolinecolor\": \"white\"}, \"yaxis\": {\"backgroundcolor\": \"#E5ECF6\", \"gridcolor\": \"white\", \"gridwidth\": 2, \"linecolor\": \"white\", \"showbackground\": true, \"ticks\": \"\", \"zerolinecolor\": \"white\"}, \"zaxis\": {\"backgroundcolor\": \"#E5ECF6\", \"gridcolor\": \"white\", \"gridwidth\": 2, \"linecolor\": \"white\", \"showbackground\": true, \"ticks\": \"\", \"zerolinecolor\": \"white\"}}, \"shapedefaults\": {\"line\": {\"color\": \"#2a3f5f\"}}, \"ternary\": {\"aaxis\": {\"gridcolor\": \"white\", \"linecolor\": \"white\", \"ticks\": \"\"}, \"baxis\": {\"gridcolor\": \"white\", \"linecolor\": \"white\", \"ticks\": \"\"}, \"bgcolor\": \"#E5ECF6\", \"caxis\": {\"gridcolor\": \"white\", \"linecolor\": \"white\", \"ticks\": \"\"}}, \"title\": {\"x\": 0.05}, \"xaxis\": {\"automargin\": true, \"gridcolor\": \"white\", \"linecolor\": \"white\", \"ticks\": \"\", \"title\": {\"standoff\": 15}, \"zerolinecolor\": \"white\", \"zerolinewidth\": 2}, \"yaxis\": {\"automargin\": true, \"gridcolor\": \"white\", \"linecolor\": \"white\", \"ticks\": \"\", \"title\": {\"standoff\": 15}, \"zerolinecolor\": \"white\", \"zerolinewidth\": 2}}}, \"xaxis\": {\"anchor\": \"y\", \"domain\": [0.0, 0.45], \"rangeslider\": {\"visible\": false}}, \"xaxis2\": {\"anchor\": \"y2\", \"domain\": [0.55, 1.0], \"rangeslider\": {\"visible\": false}}, \"yaxis\": {\"anchor\": \"x\", \"domain\": [0.0, 1.0]}, \"yaxis2\": {\"anchor\": \"x2\", \"domain\": [0.0, 1.0]}},                        {\"responsive\": true}                    ).then(function(){\n",
       "                            \n",
       "var gd = document.getElementById('728388a2-2c4a-402a-8657-16cc657ca5f8');\n",
       "var x = new MutationObserver(function (mutations, observer) {{\n",
       "        var display = window.getComputedStyle(gd).display;\n",
       "        if (!display || display === 'none') {{\n",
       "            console.log([gd, 'removed!']);\n",
       "            Plotly.purge(gd);\n",
       "            observer.disconnect();\n",
       "        }}\n",
       "}});\n",
       "\n",
       "// Listen for the removal of the full notebook cells\n",
       "var notebookContainer = gd.closest('#notebook-container');\n",
       "if (notebookContainer) {{\n",
       "    x.observe(notebookContainer, {childList: true});\n",
       "}}\n",
       "\n",
       "// Listen for the clearing of the current output cell\n",
       "var outputEl = gd.closest('.output');\n",
       "if (outputEl) {{\n",
       "    x.observe(outputEl, {childList: true});\n",
       "}}\n",
       "\n",
       "                        })                };                });            </script>        </div>"
      ]
     },
     "metadata": {},
     "output_type": "display_data"
    },
    {
     "data": {
      "application/vnd.plotly.v1+json": {
       "config": {
        "plotlyServerURL": "https://plot.ly"
       },
       "data": [
        {
         "close": [
          1.17834,
          1.17877,
          1.17788,
          1.17797,
          1.17903,
          1.17977,
          1.17965,
          1.17958,
          1.18043,
          1.17908,
          1.1792,
          1.18005,
          1.17987,
          1.17962,
          1.17808,
          1.17872,
          1.179,
          1.17811,
          1.17917,
          1.17912,
          1.17863,
          1.17868,
          1.17785,
          1.17818,
          1.17768,
          1.17797,
          1.17816,
          1.17813,
          1.17782,
          1.17747,
          1.17794,
          1.1782,
          1.17867,
          1.17896,
          1.17561,
          1.17517,
          1.17604,
          1.17562,
          1.17507,
          1.1745,
          1.17486,
          1.17384,
          1.17356,
          1.17361,
          1.17356,
          1.17342,
          1.17341,
          1.17345,
          1.17381,
          1.17374,
          1.17347,
          1.17347,
          1.17362,
          1.1736,
          1.17379,
          1.17381,
          1.17402,
          1.1737,
          1.1736,
          1.17317,
          1.17278,
          1.17265,
          1.17271,
          1.17326,
          1.17341,
          1.1732,
          1.17319,
          1.17295,
          1.1729,
          1.17305,
          1.1729,
          1.17322,
          1.17352,
          1.17336,
          1.17344,
          1.17342,
          1.17309,
          1.17384,
          1.1739,
          1.17372,
          1.1742,
          1.17525,
          1.17554,
          1.17558,
          1.17594,
          1.17592,
          1.17671,
          1.1754,
          1.1759,
          1.17583,
          1.17586,
          1.17594,
          1.17533,
          1.17636,
          1.17604,
          1.17569,
          1.17535,
          1.17533,
          1.17594,
          1.17616,
          1.17745
         ],
         "high": [
          1.17849,
          1.17888,
          1.17894,
          1.17831,
          1.17911,
          1.17987,
          1.17983,
          1.17983,
          1.18084,
          1.18046,
          1.17952,
          1.18011,
          1.18033,
          1.18031,
          1.17971,
          1.17903,
          1.17902,
          1.17907,
          1.17958,
          1.17949,
          1.17945,
          1.17895,
          1.1787,
          1.17818,
          1.1782,
          1.17806,
          1.17833,
          1.17816,
          1.17822,
          1.17783,
          1.17815,
          1.1782,
          1.17872,
          1.17906,
          1.1791,
          1.17564,
          1.1761,
          1.17612,
          1.17573,
          1.17539,
          1.17487,
          1.17487,
          1.17387,
          1.17385,
          1.17375,
          1.17363,
          1.17357,
          1.17356,
          1.17387,
          1.17385,
          1.17377,
          1.17366,
          1.17378,
          1.1737,
          1.17383,
          1.17383,
          1.17413,
          1.17402,
          1.17385,
          1.1736,
          1.17336,
          1.17278,
          1.17335,
          1.17341,
          1.17349,
          1.17344,
          1.17341,
          1.17322,
          1.17307,
          1.17317,
          1.17325,
          1.17333,
          1.17355,
          1.17354,
          1.17355,
          1.17346,
          1.1736,
          1.17395,
          1.17418,
          1.17395,
          1.17439,
          1.17545,
          1.17558,
          1.17614,
          1.17605,
          1.1762,
          1.17677,
          1.17676,
          1.17607,
          1.1764,
          1.17625,
          1.17627,
          1.17611,
          1.17656,
          1.17639,
          1.17642,
          1.17577,
          1.17547,
          1.17623,
          1.17656,
          1.17749
         ],
         "low": [
          1.17779,
          1.17828,
          1.17759,
          1.17756,
          1.17797,
          1.17891,
          1.17932,
          1.17933,
          1.17949,
          1.17894,
          1.1788,
          1.17907,
          1.17944,
          1.17932,
          1.17788,
          1.17803,
          1.17838,
          1.17811,
          1.17802,
          1.17895,
          1.17848,
          1.1783,
          1.17768,
          1.17738,
          1.17768,
          1.17734,
          1.17795,
          1.17773,
          1.17768,
          1.17729,
          1.17743,
          1.17789,
          1.1781,
          1.17865,
          1.17361,
          1.17363,
          1.17462,
          1.17532,
          1.17465,
          1.17444,
          1.17424,
          1.17382,
          1.17325,
          1.17342,
          1.17343,
          1.1733,
          1.17333,
          1.1731,
          1.1734,
          1.17348,
          1.1732,
          1.1733,
          1.17334,
          1.17341,
          1.17357,
          1.17355,
          1.17365,
          1.17358,
          1.17313,
          1.17306,
          1.1727,
          1.17257,
          1.17256,
          1.17271,
          1.17315,
          1.17315,
          1.17317,
          1.17279,
          1.17281,
          1.17286,
          1.17288,
          1.17283,
          1.17318,
          1.17326,
          1.17334,
          1.17303,
          1.17305,
          1.17306,
          1.17357,
          1.17354,
          1.17354,
          1.17394,
          1.17501,
          1.17526,
          1.17556,
          1.17534,
          1.1758,
          1.17534,
          1.17504,
          1.17574,
          1.17569,
          1.17571,
          1.17524,
          1.17526,
          1.17563,
          1.17563,
          1.17531,
          1.17498,
          1.17514,
          1.17593,
          1.17602
         ],
         "open": [
          1.17845,
          1.17834,
          1.17877,
          1.17788,
          1.17797,
          1.17903,
          1.17977,
          1.17965,
          1.17958,
          1.18043,
          1.17908,
          1.1792,
          1.18005,
          1.17987,
          1.17962,
          1.17808,
          1.17872,
          1.179,
          1.17811,
          1.17917,
          1.17912,
          1.17863,
          1.17868,
          1.17785,
          1.17818,
          1.17768,
          1.17797,
          1.17816,
          1.17813,
          1.17782,
          1.17747,
          1.17794,
          1.1782,
          1.17867,
          1.17896,
          1.17561,
          1.17517,
          1.17604,
          1.17562,
          1.17507,
          1.1745,
          1.17486,
          1.17384,
          1.17356,
          1.17361,
          1.17356,
          1.17342,
          1.17341,
          1.17345,
          1.17381,
          1.17374,
          1.17347,
          1.17347,
          1.17362,
          1.1736,
          1.17379,
          1.17381,
          1.17402,
          1.1737,
          1.1736,
          1.17317,
          1.17278,
          1.17265,
          1.17271,
          1.17326,
          1.17341,
          1.1732,
          1.17319,
          1.17295,
          1.1729,
          1.17305,
          1.1729,
          1.17322,
          1.17352,
          1.17336,
          1.17344,
          1.17342,
          1.17309,
          1.17384,
          1.1739,
          1.17372,
          1.1742,
          1.17525,
          1.17554,
          1.17558,
          1.17594,
          1.17592,
          1.17671,
          1.1754,
          1.1759,
          1.17583,
          1.17586,
          1.17594,
          1.17533,
          1.17636,
          1.17604,
          1.17569,
          1.17535,
          1.17533,
          1.17594,
          1.17616
         ],
         "showlegend": false,
         "type": "candlestick",
         "x": [
          "2020-10-06T10:15:00",
          "2020-10-06T10:30:00",
          "2020-10-06T10:45:00",
          "2020-10-06T11:00:00",
          "2020-10-06T11:15:00",
          "2020-10-06T11:30:00",
          "2020-10-06T11:45:00",
          "2020-10-06T12:00:00",
          "2020-10-06T12:15:00",
          "2020-10-06T12:30:00",
          "2020-10-06T12:45:00",
          "2020-10-06T13:00:00",
          "2020-10-06T13:15:00",
          "2020-10-06T13:30:00",
          "2020-10-06T13:45:00",
          "2020-10-06T14:00:00",
          "2020-10-06T14:15:00",
          "2020-10-06T14:30:00",
          "2020-10-06T14:45:00",
          "2020-10-06T15:00:00",
          "2020-10-06T15:15:00",
          "2020-10-06T15:30:00",
          "2020-10-06T15:45:00",
          "2020-10-06T16:00:00",
          "2020-10-06T16:15:00",
          "2020-10-06T16:30:00",
          "2020-10-06T16:45:00",
          "2020-10-06T17:00:00",
          "2020-10-06T17:15:00",
          "2020-10-06T17:30:00",
          "2020-10-06T17:45:00",
          "2020-10-06T18:00:00",
          "2020-10-06T18:15:00",
          "2020-10-06T18:30:00",
          "2020-10-06T18:45:00",
          "2020-10-06T19:00:00",
          "2020-10-06T19:15:00",
          "2020-10-06T19:30:00",
          "2020-10-06T19:45:00",
          "2020-10-06T20:00:00",
          "2020-10-06T20:15:00",
          "2020-10-06T20:30:00",
          "2020-10-06T20:45:00",
          "2020-10-06T21:00:00",
          "2020-10-06T21:15:00",
          "2020-10-06T21:30:00",
          "2020-10-06T21:45:00",
          "2020-10-06T22:00:00",
          "2020-10-06T22:15:00",
          "2020-10-06T22:30:00",
          "2020-10-06T22:45:00",
          "2020-10-06T23:00:00",
          "2020-10-06T23:15:00",
          "2020-10-06T23:30:00",
          "2020-10-06T23:45:00",
          "2020-10-07T00:00:00",
          "2020-10-07T00:15:00",
          "2020-10-07T00:30:00",
          "2020-10-07T00:45:00",
          "2020-10-07T01:00:00",
          "2020-10-07T01:15:00",
          "2020-10-07T01:30:00",
          "2020-10-07T01:45:00",
          "2020-10-07T02:00:00",
          "2020-10-07T02:15:00",
          "2020-10-07T02:30:00",
          "2020-10-07T02:45:00",
          "2020-10-07T03:00:00",
          "2020-10-07T03:15:00",
          "2020-10-07T03:30:00",
          "2020-10-07T03:45:00",
          "2020-10-07T04:00:00",
          "2020-10-07T04:15:00",
          "2020-10-07T04:30:00",
          "2020-10-07T04:45:00",
          "2020-10-07T05:00:00",
          "2020-10-07T05:15:00",
          "2020-10-07T05:30:00",
          "2020-10-07T05:45:00",
          "2020-10-07T06:00:00",
          "2020-10-07T06:15:00",
          "2020-10-07T06:30:00",
          "2020-10-07T06:45:00",
          "2020-10-07T07:00:00",
          "2020-10-07T07:15:00",
          "2020-10-07T07:30:00",
          "2020-10-07T07:45:00",
          "2020-10-07T08:00:00",
          "2020-10-07T08:15:00",
          "2020-10-07T08:30:00",
          "2020-10-07T08:45:00",
          "2020-10-07T09:00:00",
          "2020-10-07T09:15:00",
          "2020-10-07T09:30:00",
          "2020-10-07T09:45:00",
          "2020-10-07T10:00:00",
          "2020-10-07T10:15:00",
          "2020-10-07T10:30:00",
          "2020-10-07T10:45:00",
          "2020-10-07T11:00:00",
          "2020-10-07T11:15:00"
         ],
         "xaxis": "x",
         "yaxis": "y"
        },
        {
         "marker": {
          "color": "MediumPurple",
          "size": 8
         },
         "mode": "markers",
         "showlegend": false,
         "type": "scatter",
         "x": [
          "2020-10-06T12:15:00",
          "2020-10-06T18:45:00",
          "2020-10-07T00:15:00",
          "2020-10-07T07:45:00"
         ],
         "xaxis": "x",
         "y": [
          1.18084,
          1.1791,
          1.17413,
          1.17677
         ],
         "yaxis": "y"
        },
        {
         "marker": {
          "color": "mediumblue",
          "size": 8
         },
         "mode": "markers",
         "showlegend": false,
         "type": "scatter",
         "x": [
          "2020-10-06T11:00:00",
          "2020-10-06T17:30:00",
          "2020-10-06T22:00:00",
          "2020-10-07T03:00:00",
          "2020-10-07T10:30:00"
         ],
         "xaxis": "x",
         "y": [
          1.17756,
          1.17729,
          1.1731,
          1.17279,
          1.17498
         ],
         "yaxis": "y"
        },
        {
         "close": [
          1.12449,
          1.12497,
          1.12511,
          1.12534,
          1.12524,
          1.12517,
          1.12522,
          1.12526,
          1.12502,
          1.12491,
          1.12498,
          1.12523,
          1.12528,
          1.12527,
          1.12523,
          1.1251,
          1.1249,
          1.12531,
          1.12521,
          1.125,
          1.12473,
          1.12501,
          1.12547,
          1.12547,
          1.1256,
          1.12577,
          1.12555,
          1.12546,
          1.12555,
          1.12544,
          1.12549,
          1.12535,
          1.12555,
          1.12566,
          1.1256,
          1.12565,
          1.12577,
          1.12569,
          1.12591,
          1.12605,
          1.1257,
          1.12588,
          1.12578,
          1.12555,
          1.12392,
          1.12358,
          1.12403,
          1.12466,
          1.1253,
          1.12576,
          1.1256,
          1.1253,
          1.12558,
          1.12564,
          1.12561,
          1.125,
          1.12526,
          1.12419,
          1.12319,
          1.12284,
          1.12264,
          1.12271,
          1.12326,
          1.12245,
          1.12222,
          1.1219,
          1.12258,
          1.12153,
          1.12181,
          1.12267,
          1.12362,
          1.12318,
          1.12349,
          1.12372,
          1.12329,
          1.12312,
          1.12363,
          1.1223,
          1.12246,
          1.12176,
          1.12281,
          1.12359,
          1.12323,
          1.12326,
          1.12362,
          1.12296,
          1.12321,
          1.12268,
          1.12273,
          1.1228,
          1.12215,
          1.12252,
          1.1224,
          1.12261,
          1.12251,
          1.12271,
          1.12235,
          1.12279,
          1.12268,
          1.12245,
          1.12279
         ],
         "high": [
          1.12473,
          1.125,
          1.12515,
          1.12535,
          1.12579,
          1.12528,
          1.12529,
          1.12537,
          1.12527,
          1.12509,
          1.12508,
          1.12524,
          1.12533,
          1.12548,
          1.12528,
          1.12526,
          1.12526,
          1.12532,
          1.12534,
          1.12542,
          1.125,
          1.12503,
          1.12548,
          1.12558,
          1.12561,
          1.12578,
          1.12583,
          1.12556,
          1.12562,
          1.12555,
          1.1256,
          1.1255,
          1.12555,
          1.12567,
          1.12568,
          1.12585,
          1.12589,
          1.12588,
          1.12601,
          1.12609,
          1.1262,
          1.12609,
          1.12615,
          1.12586,
          1.12557,
          1.12434,
          1.12421,
          1.12475,
          1.12556,
          1.12577,
          1.12596,
          1.1257,
          1.12569,
          1.12572,
          1.12591,
          1.12568,
          1.12536,
          1.12527,
          1.12445,
          1.12319,
          1.12307,
          1.1234,
          1.12326,
          1.12346,
          1.1232,
          1.12315,
          1.12263,
          1.12292,
          1.12246,
          1.12324,
          1.12376,
          1.12378,
          1.12372,
          1.12394,
          1.1238,
          1.12345,
          1.12381,
          1.12367,
          1.1229,
          1.12259,
          1.123,
          1.12363,
          1.12359,
          1.12372,
          1.12363,
          1.12386,
          1.12346,
          1.12325,
          1.12293,
          1.12294,
          1.12282,
          1.12261,
          1.12257,
          1.12264,
          1.12263,
          1.12279,
          1.12281,
          1.12306,
          1.12314,
          1.12272,
          1.12283
         ],
         "low": [
          1.12443,
          1.12446,
          1.12484,
          1.12506,
          1.12524,
          1.12502,
          1.12502,
          1.12511,
          1.12499,
          1.1249,
          1.12486,
          1.12492,
          1.12512,
          1.12479,
          1.12491,
          1.12504,
          1.12482,
          1.12474,
          1.12487,
          1.12492,
          1.12441,
          1.12472,
          1.12498,
          1.12514,
          1.12532,
          1.12534,
          1.12552,
          1.12537,
          1.12542,
          1.1253,
          1.12538,
          1.1253,
          1.12529,
          1.12542,
          1.12547,
          1.12549,
          1.12559,
          1.12559,
          1.12569,
          1.12578,
          1.12565,
          1.12562,
          1.12558,
          1.12538,
          1.12375,
          1.12348,
          1.12349,
          1.12396,
          1.12446,
          1.12513,
          1.12528,
          1.12524,
          1.12507,
          1.1251,
          1.12534,
          1.12476,
          1.1248,
          1.12391,
          1.12312,
          1.12253,
          1.1225,
          1.12263,
          1.12248,
          1.12219,
          1.12215,
          1.12183,
          1.12177,
          1.12148,
          1.12143,
          1.12181,
          1.12248,
          1.12312,
          1.12268,
          1.12324,
          1.12271,
          1.12223,
          1.12293,
          1.12223,
          1.12188,
          1.12161,
          1.12175,
          1.12253,
          1.1231,
          1.12314,
          1.1228,
          1.12285,
          1.12295,
          1.12266,
          1.12257,
          1.12257,
          1.12215,
          1.12215,
          1.12209,
          1.12222,
          1.12248,
          1.12241,
          1.12235,
          1.12235,
          1.12251,
          1.12242,
          1.12242
         ],
         "open": [
          1.12458,
          1.12449,
          1.12497,
          1.12511,
          1.12534,
          1.12524,
          1.12517,
          1.12522,
          1.12526,
          1.12502,
          1.12491,
          1.12498,
          1.12523,
          1.12528,
          1.12527,
          1.12523,
          1.1251,
          1.1249,
          1.12531,
          1.12521,
          1.125,
          1.12473,
          1.12501,
          1.12547,
          1.12547,
          1.1256,
          1.12577,
          1.12555,
          1.12546,
          1.12555,
          1.12544,
          1.12549,
          1.12535,
          1.12555,
          1.12566,
          1.1256,
          1.12565,
          1.12577,
          1.12569,
          1.12591,
          1.12605,
          1.1257,
          1.12588,
          1.12578,
          1.12555,
          1.12392,
          1.12358,
          1.12403,
          1.12466,
          1.1253,
          1.12576,
          1.1256,
          1.1253,
          1.12558,
          1.12564,
          1.12561,
          1.125,
          1.12526,
          1.12419,
          1.12319,
          1.12284,
          1.12264,
          1.12271,
          1.12326,
          1.12245,
          1.12222,
          1.1219,
          1.12258,
          1.12153,
          1.12181,
          1.12267,
          1.12362,
          1.12318,
          1.12349,
          1.12372,
          1.12329,
          1.12312,
          1.12363,
          1.1223,
          1.12246,
          1.12176,
          1.12281,
          1.12359,
          1.12323,
          1.12326,
          1.12362,
          1.12296,
          1.12321,
          1.12268,
          1.12273,
          1.1228,
          1.12215,
          1.12252,
          1.1224,
          1.12261,
          1.12251,
          1.12271,
          1.12235,
          1.12279,
          1.12268,
          1.12245
         ],
         "showlegend": false,
         "type": "candlestick",
         "x": [
          "2019-03-27T20:45:00",
          "2019-03-27T21:00:00",
          "2019-03-27T21:15:00",
          "2019-03-27T21:30:00",
          "2019-03-27T21:45:00",
          "2019-03-27T22:00:00",
          "2019-03-27T22:15:00",
          "2019-03-27T22:30:00",
          "2019-03-27T22:45:00",
          "2019-03-27T23:00:00",
          "2019-03-27T23:15:00",
          "2019-03-27T23:30:00",
          "2019-03-27T23:45:00",
          "2019-03-28T00:00:00",
          "2019-03-28T00:15:00",
          "2019-03-28T00:30:00",
          "2019-03-28T00:45:00",
          "2019-03-28T01:00:00",
          "2019-03-28T01:15:00",
          "2019-03-28T01:30:00",
          "2019-03-28T01:45:00",
          "2019-03-28T02:00:00",
          "2019-03-28T02:15:00",
          "2019-03-28T02:30:00",
          "2019-03-28T02:45:00",
          "2019-03-28T03:00:00",
          "2019-03-28T03:15:00",
          "2019-03-28T03:30:00",
          "2019-03-28T03:45:00",
          "2019-03-28T04:00:00",
          "2019-03-28T04:15:00",
          "2019-03-28T04:30:00",
          "2019-03-28T04:45:00",
          "2019-03-28T05:00:00",
          "2019-03-28T05:15:00",
          "2019-03-28T05:30:00",
          "2019-03-28T05:45:00",
          "2019-03-28T06:00:00",
          "2019-03-28T06:15:00",
          "2019-03-28T06:30:00",
          "2019-03-28T06:45:00",
          "2019-03-28T07:00:00",
          "2019-03-28T07:15:00",
          "2019-03-28T07:30:00",
          "2019-03-28T07:45:00",
          "2019-03-28T08:00:00",
          "2019-03-28T08:15:00",
          "2019-03-28T08:30:00",
          "2019-03-28T08:45:00",
          "2019-03-28T09:00:00",
          "2019-03-28T09:15:00",
          "2019-03-28T09:30:00",
          "2019-03-28T09:45:00",
          "2019-03-28T10:00:00",
          "2019-03-28T10:15:00",
          "2019-03-28T10:30:00",
          "2019-03-28T10:45:00",
          "2019-03-28T11:00:00",
          "2019-03-28T11:15:00",
          "2019-03-28T11:30:00",
          "2019-03-28T11:45:00",
          "2019-03-28T12:00:00",
          "2019-03-28T12:15:00",
          "2019-03-28T12:30:00",
          "2019-03-28T12:45:00",
          "2019-03-28T13:00:00",
          "2019-03-28T13:15:00",
          "2019-03-28T13:30:00",
          "2019-03-28T13:45:00",
          "2019-03-28T14:00:00",
          "2019-03-28T14:15:00",
          "2019-03-28T14:30:00",
          "2019-03-28T14:45:00",
          "2019-03-28T15:00:00",
          "2019-03-28T15:15:00",
          "2019-03-28T15:30:00",
          "2019-03-28T15:45:00",
          "2019-03-28T16:00:00",
          "2019-03-28T16:15:00",
          "2019-03-28T16:30:00",
          "2019-03-28T16:45:00",
          "2019-03-28T17:00:00",
          "2019-03-28T17:15:00",
          "2019-03-28T17:30:00",
          "2019-03-28T17:45:00",
          "2019-03-28T18:00:00",
          "2019-03-28T18:15:00",
          "2019-03-28T18:30:00",
          "2019-03-28T18:45:00",
          "2019-03-28T19:00:00",
          "2019-03-28T19:15:00",
          "2019-03-28T19:30:00",
          "2019-03-28T19:45:00",
          "2019-03-28T20:00:00",
          "2019-03-28T20:15:00",
          "2019-03-28T20:30:00",
          "2019-03-28T20:45:00",
          "2019-03-28T21:00:00",
          "2019-03-28T21:15:00",
          "2019-03-28T21:30:00",
          "2019-03-28T21:45:00"
         ],
         "xaxis": "x2",
         "yaxis": "y2"
        },
        {
         "marker": {
          "color": "MediumPurple",
          "size": 8
         },
         "mode": "markers",
         "showlegend": false,
         "type": "scatter",
         "x": [
          "2019-03-27T21:45:00",
          "2019-03-28T06:45:00",
          "2019-03-28T09:15:00",
          "2019-03-28T15:00:00",
          "2019-03-28T18:00:00",
          "2019-03-28T21:15:00"
         ],
         "xaxis": "x2",
         "y": [
          1.12579,
          1.1262,
          1.12596,
          1.12394,
          1.12386,
          1.12314
         ],
         "yaxis": "y2"
        },
        {
         "marker": {
          "color": "mediumblue",
          "size": 8
         },
         "mode": "markers",
         "showlegend": false,
         "type": "scatter",
         "x": [
          "2019-03-28T01:45:00",
          "2019-03-28T08:00:00",
          "2019-03-28T13:45:00",
          "2019-03-28T16:30:00",
          "2019-03-28T19:45:00"
         ],
         "xaxis": "x2",
         "y": [
          1.12441,
          1.12348,
          1.12143,
          1.12161,
          1.12209
         ],
         "yaxis": "y2"
        }
       ],
       "layout": {
        "autosize": true,
        "template": {
         "data": {
          "bar": [
           {
            "error_x": {
             "color": "#2a3f5f"
            },
            "error_y": {
             "color": "#2a3f5f"
            },
            "marker": {
             "line": {
              "color": "#E5ECF6",
              "width": 0.5
             }
            },
            "type": "bar"
           }
          ],
          "barpolar": [
           {
            "marker": {
             "line": {
              "color": "#E5ECF6",
              "width": 0.5
             }
            },
            "type": "barpolar"
           }
          ],
          "carpet": [
           {
            "aaxis": {
             "endlinecolor": "#2a3f5f",
             "gridcolor": "white",
             "linecolor": "white",
             "minorgridcolor": "white",
             "startlinecolor": "#2a3f5f"
            },
            "baxis": {
             "endlinecolor": "#2a3f5f",
             "gridcolor": "white",
             "linecolor": "white",
             "minorgridcolor": "white",
             "startlinecolor": "#2a3f5f"
            },
            "type": "carpet"
           }
          ],
          "choropleth": [
           {
            "colorbar": {
             "outlinewidth": 0,
             "ticks": ""
            },
            "type": "choropleth"
           }
          ],
          "contour": [
           {
            "colorbar": {
             "outlinewidth": 0,
             "ticks": ""
            },
            "colorscale": [
             [
              0,
              "#0d0887"
             ],
             [
              0.1111111111111111,
              "#46039f"
             ],
             [
              0.2222222222222222,
              "#7201a8"
             ],
             [
              0.3333333333333333,
              "#9c179e"
             ],
             [
              0.4444444444444444,
              "#bd3786"
             ],
             [
              0.5555555555555556,
              "#d8576b"
             ],
             [
              0.6666666666666666,
              "#ed7953"
             ],
             [
              0.7777777777777778,
              "#fb9f3a"
             ],
             [
              0.8888888888888888,
              "#fdca26"
             ],
             [
              1,
              "#f0f921"
             ]
            ],
            "type": "contour"
           }
          ],
          "contourcarpet": [
           {
            "colorbar": {
             "outlinewidth": 0,
             "ticks": ""
            },
            "type": "contourcarpet"
           }
          ],
          "heatmap": [
           {
            "colorbar": {
             "outlinewidth": 0,
             "ticks": ""
            },
            "colorscale": [
             [
              0,
              "#0d0887"
             ],
             [
              0.1111111111111111,
              "#46039f"
             ],
             [
              0.2222222222222222,
              "#7201a8"
             ],
             [
              0.3333333333333333,
              "#9c179e"
             ],
             [
              0.4444444444444444,
              "#bd3786"
             ],
             [
              0.5555555555555556,
              "#d8576b"
             ],
             [
              0.6666666666666666,
              "#ed7953"
             ],
             [
              0.7777777777777778,
              "#fb9f3a"
             ],
             [
              0.8888888888888888,
              "#fdca26"
             ],
             [
              1,
              "#f0f921"
             ]
            ],
            "type": "heatmap"
           }
          ],
          "heatmapgl": [
           {
            "colorbar": {
             "outlinewidth": 0,
             "ticks": ""
            },
            "colorscale": [
             [
              0,
              "#0d0887"
             ],
             [
              0.1111111111111111,
              "#46039f"
             ],
             [
              0.2222222222222222,
              "#7201a8"
             ],
             [
              0.3333333333333333,
              "#9c179e"
             ],
             [
              0.4444444444444444,
              "#bd3786"
             ],
             [
              0.5555555555555556,
              "#d8576b"
             ],
             [
              0.6666666666666666,
              "#ed7953"
             ],
             [
              0.7777777777777778,
              "#fb9f3a"
             ],
             [
              0.8888888888888888,
              "#fdca26"
             ],
             [
              1,
              "#f0f921"
             ]
            ],
            "type": "heatmapgl"
           }
          ],
          "histogram": [
           {
            "marker": {
             "colorbar": {
              "outlinewidth": 0,
              "ticks": ""
             }
            },
            "type": "histogram"
           }
          ],
          "histogram2d": [
           {
            "colorbar": {
             "outlinewidth": 0,
             "ticks": ""
            },
            "colorscale": [
             [
              0,
              "#0d0887"
             ],
             [
              0.1111111111111111,
              "#46039f"
             ],
             [
              0.2222222222222222,
              "#7201a8"
             ],
             [
              0.3333333333333333,
              "#9c179e"
             ],
             [
              0.4444444444444444,
              "#bd3786"
             ],
             [
              0.5555555555555556,
              "#d8576b"
             ],
             [
              0.6666666666666666,
              "#ed7953"
             ],
             [
              0.7777777777777778,
              "#fb9f3a"
             ],
             [
              0.8888888888888888,
              "#fdca26"
             ],
             [
              1,
              "#f0f921"
             ]
            ],
            "type": "histogram2d"
           }
          ],
          "histogram2dcontour": [
           {
            "colorbar": {
             "outlinewidth": 0,
             "ticks": ""
            },
            "colorscale": [
             [
              0,
              "#0d0887"
             ],
             [
              0.1111111111111111,
              "#46039f"
             ],
             [
              0.2222222222222222,
              "#7201a8"
             ],
             [
              0.3333333333333333,
              "#9c179e"
             ],
             [
              0.4444444444444444,
              "#bd3786"
             ],
             [
              0.5555555555555556,
              "#d8576b"
             ],
             [
              0.6666666666666666,
              "#ed7953"
             ],
             [
              0.7777777777777778,
              "#fb9f3a"
             ],
             [
              0.8888888888888888,
              "#fdca26"
             ],
             [
              1,
              "#f0f921"
             ]
            ],
            "type": "histogram2dcontour"
           }
          ],
          "mesh3d": [
           {
            "colorbar": {
             "outlinewidth": 0,
             "ticks": ""
            },
            "type": "mesh3d"
           }
          ],
          "parcoords": [
           {
            "line": {
             "colorbar": {
              "outlinewidth": 0,
              "ticks": ""
             }
            },
            "type": "parcoords"
           }
          ],
          "pie": [
           {
            "automargin": true,
            "type": "pie"
           }
          ],
          "scatter": [
           {
            "marker": {
             "colorbar": {
              "outlinewidth": 0,
              "ticks": ""
             }
            },
            "type": "scatter"
           }
          ],
          "scatter3d": [
           {
            "line": {
             "colorbar": {
              "outlinewidth": 0,
              "ticks": ""
             }
            },
            "marker": {
             "colorbar": {
              "outlinewidth": 0,
              "ticks": ""
             }
            },
            "type": "scatter3d"
           }
          ],
          "scattercarpet": [
           {
            "marker": {
             "colorbar": {
              "outlinewidth": 0,
              "ticks": ""
             }
            },
            "type": "scattercarpet"
           }
          ],
          "scattergeo": [
           {
            "marker": {
             "colorbar": {
              "outlinewidth": 0,
              "ticks": ""
             }
            },
            "type": "scattergeo"
           }
          ],
          "scattergl": [
           {
            "marker": {
             "colorbar": {
              "outlinewidth": 0,
              "ticks": ""
             }
            },
            "type": "scattergl"
           }
          ],
          "scattermapbox": [
           {
            "marker": {
             "colorbar": {
              "outlinewidth": 0,
              "ticks": ""
             }
            },
            "type": "scattermapbox"
           }
          ],
          "scatterpolar": [
           {
            "marker": {
             "colorbar": {
              "outlinewidth": 0,
              "ticks": ""
             }
            },
            "type": "scatterpolar"
           }
          ],
          "scatterpolargl": [
           {
            "marker": {
             "colorbar": {
              "outlinewidth": 0,
              "ticks": ""
             }
            },
            "type": "scatterpolargl"
           }
          ],
          "scatterternary": [
           {
            "marker": {
             "colorbar": {
              "outlinewidth": 0,
              "ticks": ""
             }
            },
            "type": "scatterternary"
           }
          ],
          "surface": [
           {
            "colorbar": {
             "outlinewidth": 0,
             "ticks": ""
            },
            "colorscale": [
             [
              0,
              "#0d0887"
             ],
             [
              0.1111111111111111,
              "#46039f"
             ],
             [
              0.2222222222222222,
              "#7201a8"
             ],
             [
              0.3333333333333333,
              "#9c179e"
             ],
             [
              0.4444444444444444,
              "#bd3786"
             ],
             [
              0.5555555555555556,
              "#d8576b"
             ],
             [
              0.6666666666666666,
              "#ed7953"
             ],
             [
              0.7777777777777778,
              "#fb9f3a"
             ],
             [
              0.8888888888888888,
              "#fdca26"
             ],
             [
              1,
              "#f0f921"
             ]
            ],
            "type": "surface"
           }
          ],
          "table": [
           {
            "cells": {
             "fill": {
              "color": "#EBF0F8"
             },
             "line": {
              "color": "white"
             }
            },
            "header": {
             "fill": {
              "color": "#C8D4E3"
             },
             "line": {
              "color": "white"
             }
            },
            "type": "table"
           }
          ]
         },
         "layout": {
          "annotationdefaults": {
           "arrowcolor": "#2a3f5f",
           "arrowhead": 0,
           "arrowwidth": 1
          },
          "coloraxis": {
           "colorbar": {
            "outlinewidth": 0,
            "ticks": ""
           }
          },
          "colorscale": {
           "diverging": [
            [
             0,
             "#8e0152"
            ],
            [
             0.1,
             "#c51b7d"
            ],
            [
             0.2,
             "#de77ae"
            ],
            [
             0.3,
             "#f1b6da"
            ],
            [
             0.4,
             "#fde0ef"
            ],
            [
             0.5,
             "#f7f7f7"
            ],
            [
             0.6,
             "#e6f5d0"
            ],
            [
             0.7,
             "#b8e186"
            ],
            [
             0.8,
             "#7fbc41"
            ],
            [
             0.9,
             "#4d9221"
            ],
            [
             1,
             "#276419"
            ]
           ],
           "sequential": [
            [
             0,
             "#0d0887"
            ],
            [
             0.1111111111111111,
             "#46039f"
            ],
            [
             0.2222222222222222,
             "#7201a8"
            ],
            [
             0.3333333333333333,
             "#9c179e"
            ],
            [
             0.4444444444444444,
             "#bd3786"
            ],
            [
             0.5555555555555556,
             "#d8576b"
            ],
            [
             0.6666666666666666,
             "#ed7953"
            ],
            [
             0.7777777777777778,
             "#fb9f3a"
            ],
            [
             0.8888888888888888,
             "#fdca26"
            ],
            [
             1,
             "#f0f921"
            ]
           ],
           "sequentialminus": [
            [
             0,
             "#0d0887"
            ],
            [
             0.1111111111111111,
             "#46039f"
            ],
            [
             0.2222222222222222,
             "#7201a8"
            ],
            [
             0.3333333333333333,
             "#9c179e"
            ],
            [
             0.4444444444444444,
             "#bd3786"
            ],
            [
             0.5555555555555556,
             "#d8576b"
            ],
            [
             0.6666666666666666,
             "#ed7953"
            ],
            [
             0.7777777777777778,
             "#fb9f3a"
            ],
            [
             0.8888888888888888,
             "#fdca26"
            ],
            [
             1,
             "#f0f921"
            ]
           ]
          },
          "colorway": [
           "#636efa",
           "#EF553B",
           "#00cc96",
           "#ab63fa",
           "#FFA15A",
           "#19d3f3",
           "#FF6692",
           "#B6E880",
           "#FF97FF",
           "#FECB52"
          ],
          "font": {
           "color": "#2a3f5f"
          },
          "geo": {
           "bgcolor": "white",
           "lakecolor": "white",
           "landcolor": "#E5ECF6",
           "showlakes": true,
           "showland": true,
           "subunitcolor": "white"
          },
          "hoverlabel": {
           "align": "left"
          },
          "hovermode": "closest",
          "mapbox": {
           "style": "light"
          },
          "paper_bgcolor": "white",
          "plot_bgcolor": "#E5ECF6",
          "polar": {
           "angularaxis": {
            "gridcolor": "white",
            "linecolor": "white",
            "ticks": ""
           },
           "bgcolor": "#E5ECF6",
           "radialaxis": {
            "gridcolor": "white",
            "linecolor": "white",
            "ticks": ""
           }
          },
          "scene": {
           "xaxis": {
            "backgroundcolor": "#E5ECF6",
            "gridcolor": "white",
            "gridwidth": 2,
            "linecolor": "white",
            "showbackground": true,
            "ticks": "",
            "zerolinecolor": "white"
           },
           "yaxis": {
            "backgroundcolor": "#E5ECF6",
            "gridcolor": "white",
            "gridwidth": 2,
            "linecolor": "white",
            "showbackground": true,
            "ticks": "",
            "zerolinecolor": "white"
           },
           "zaxis": {
            "backgroundcolor": "#E5ECF6",
            "gridcolor": "white",
            "gridwidth": 2,
            "linecolor": "white",
            "showbackground": true,
            "ticks": "",
            "zerolinecolor": "white"
           }
          },
          "shapedefaults": {
           "line": {
            "color": "#2a3f5f"
           }
          },
          "ternary": {
           "aaxis": {
            "gridcolor": "white",
            "linecolor": "white",
            "ticks": ""
           },
           "baxis": {
            "gridcolor": "white",
            "linecolor": "white",
            "ticks": ""
           },
           "bgcolor": "#E5ECF6",
           "caxis": {
            "gridcolor": "white",
            "linecolor": "white",
            "ticks": ""
           }
          },
          "title": {
           "x": 0.05
          },
          "xaxis": {
           "automargin": true,
           "gridcolor": "white",
           "linecolor": "white",
           "ticks": "",
           "title": {
            "standoff": 15
           },
           "zerolinecolor": "white",
           "zerolinewidth": 2
          },
          "yaxis": {
           "automargin": true,
           "gridcolor": "white",
           "linecolor": "white",
           "ticks": "",
           "title": {
            "standoff": 15
           },
           "zerolinecolor": "white",
           "zerolinewidth": 2
          }
         }
        },
        "xaxis": {
         "anchor": "y",
         "autorange": true,
         "domain": [
          0,
          0.45
         ],
         "range": [
          "2020-10-06 09:26:33.5828",
          "2020-10-07 12:03:26.4172"
         ],
         "rangeslider": {
          "visible": false,
          "yaxis": {}
         },
         "type": "date"
        },
        "xaxis2": {
         "anchor": "y2",
         "autorange": true,
         "domain": [
          0.55,
          1
         ],
         "range": [
          "2019-03-27 20:11:33.5828",
          "2019-03-28 22:48:26.4172"
         ],
         "rangeslider": {
          "visible": false,
          "yaxis2": {}
         },
         "type": "date"
        },
        "yaxis": {
         "anchor": "x",
         "autorange": true,
         "domain": [
          0,
          1
         ],
         "range": [
          1.1720902994517082,
          1.1814843104175452
         ],
         "type": "linear"
        },
        "yaxis2": {
         "anchor": "x2",
         "autorange": true,
         "domain": [
          0,
          1
         ],
         "range": [
          1.1210508250753985,
          1.1265791749246015
         ],
         "type": "linear"
        }
       }
      },
      "image/png": "[encoded data removed]",
      "text/html": [
       "<div>                            <div id=\"d3404d00-1cf5-4927-84d7-ebc27a41b7c6\" class=\"plotly-graph-div\" style=\"height:525px; width:100%;\"></div>            <script type=\"text/javascript\">                require([\"plotly\"], function(Plotly) {                    window.PLOTLYENV=window.PLOTLYENV || {};                                    if (document.getElementById(\"d3404d00-1cf5-4927-84d7-ebc27a41b7c6\")) {                    Plotly.newPlot(                        \"d3404d00-1cf5-4927-84d7-ebc27a41b7c6\",                        [{\"close\": [1.17834, 1.17877, 1.17788, 1.17797, 1.17903, 1.17977, 1.17965, 1.17958, 1.18043, 1.17908, 1.1792, 1.18005, 1.17987, 1.17962, 1.17808, 1.17872, 1.179, 1.17811, 1.17917, 1.17912, 1.17863, 1.17868, 1.17785, 1.17818, 1.17768, 1.17797, 1.17816, 1.17813, 1.17782, 1.17747, 1.17794, 1.1782, 1.17867, 1.17896, 1.17561, 1.17517, 1.17604, 1.17562, 1.17507, 1.1745, 1.17486, 1.17384, 1.17356, 1.17361, 1.17356, 1.17342, 1.17341, 1.17345, 1.17381, 1.17374, 1.17347, 1.17347, 1.17362, 1.1736, 1.17379, 1.17381, 1.17402, 1.1737, 1.1736, 1.17317, 1.17278, 1.17265, 1.17271, 1.17326, 1.17341, 1.1732, 1.17319, 1.17295, 1.1729, 1.17305, 1.1729, 1.17322, 1.17352, 1.17336, 1.17344, 1.17342, 1.17309, 1.17384, 1.1739, 1.17372, 1.1742, 1.17525, 1.17554, 1.17558, 1.17594, 1.17592, 1.17671, 1.1754, 1.1759, 1.17583, 1.17586, 1.17594, 1.17533, 1.17636, 1.17604, 1.17569, 1.17535, 1.17533, 1.17594, 1.17616, 1.17745], \"high\": [1.17849, 1.17888, 1.17894, 1.17831, 1.17911, 1.17987, 1.17983, 1.17983, 1.18084, 1.18046, 1.17952, 1.18011, 1.18033, 1.18031, 1.17971, 1.17903, 1.17902, 1.17907, 1.17958, 1.17949, 1.17945, 1.17895, 1.1787, 1.17818, 1.1782, 1.17806, 1.17833, 1.17816, 1.17822, 1.17783, 1.17815, 1.1782, 1.17872, 1.17906, 1.1791, 1.17564, 1.1761, 1.17612, 1.17573, 1.17539, 1.17487, 1.17487, 1.17387, 1.17385, 1.17375, 1.17363, 1.17357, 1.17356, 1.17387, 1.17385, 1.17377, 1.17366, 1.17378, 1.1737, 1.17383, 1.17383, 1.17413, 1.17402, 1.17385, 1.1736, 1.17336, 1.17278, 1.17335, 1.17341, 1.17349, 1.17344, 1.17341, 1.17322, 1.17307, 1.17317, 1.17325, 1.17333, 1.17355, 1.17354, 1.17355, 1.17346, 1.1736, 1.17395, 1.17418, 1.17395, 1.17439, 1.17545, 1.17558, 1.17614, 1.17605, 1.1762, 1.17677, 1.17676, 1.17607, 1.1764, 1.17625, 1.17627, 1.17611, 1.17656, 1.17639, 1.17642, 1.17577, 1.17547, 1.17623, 1.17656, 1.17749], \"low\": [1.17779, 1.17828, 1.17759, 1.17756, 1.17797, 1.17891, 1.17932, 1.17933, 1.17949, 1.17894, 1.1788, 1.17907, 1.17944, 1.17932, 1.17788, 1.17803, 1.17838, 1.17811, 1.17802, 1.17895, 1.17848, 1.1783, 1.17768, 1.17738, 1.17768, 1.17734, 1.17795, 1.17773, 1.17768, 1.17729, 1.17743, 1.17789, 1.1781, 1.17865, 1.17361, 1.17363, 1.17462, 1.17532, 1.17465, 1.17444, 1.17424, 1.17382, 1.17325, 1.17342, 1.17343, 1.1733, 1.17333, 1.1731, 1.1734, 1.17348, 1.1732, 1.1733, 1.17334, 1.17341, 1.17357, 1.17355, 1.17365, 1.17358, 1.17313, 1.17306, 1.1727, 1.17257, 1.17256, 1.17271, 1.17315, 1.17315, 1.17317, 1.17279, 1.17281, 1.17286, 1.17288, 1.17283, 1.17318, 1.17326, 1.17334, 1.17303, 1.17305, 1.17306, 1.17357, 1.17354, 1.17354, 1.17394, 1.17501, 1.17526, 1.17556, 1.17534, 1.1758, 1.17534, 1.17504, 1.17574, 1.17569, 1.17571, 1.17524, 1.17526, 1.17563, 1.17563, 1.17531, 1.17498, 1.17514, 1.17593, 1.17602], \"open\": [1.17845, 1.17834, 1.17877, 1.17788, 1.17797, 1.17903, 1.17977, 1.17965, 1.17958, 1.18043, 1.17908, 1.1792, 1.18005, 1.17987, 1.17962, 1.17808, 1.17872, 1.179, 1.17811, 1.17917, 1.17912, 1.17863, 1.17868, 1.17785, 1.17818, 1.17768, 1.17797, 1.17816, 1.17813, 1.17782, 1.17747, 1.17794, 1.1782, 1.17867, 1.17896, 1.17561, 1.17517, 1.17604, 1.17562, 1.17507, 1.1745, 1.17486, 1.17384, 1.17356, 1.17361, 1.17356, 1.17342, 1.17341, 1.17345, 1.17381, 1.17374, 1.17347, 1.17347, 1.17362, 1.1736, 1.17379, 1.17381, 1.17402, 1.1737, 1.1736, 1.17317, 1.17278, 1.17265, 1.17271, 1.17326, 1.17341, 1.1732, 1.17319, 1.17295, 1.1729, 1.17305, 1.1729, 1.17322, 1.17352, 1.17336, 1.17344, 1.17342, 1.17309, 1.17384, 1.1739, 1.17372, 1.1742, 1.17525, 1.17554, 1.17558, 1.17594, 1.17592, 1.17671, 1.1754, 1.1759, 1.17583, 1.17586, 1.17594, 1.17533, 1.17636, 1.17604, 1.17569, 1.17535, 1.17533, 1.17594, 1.17616], \"showlegend\": false, \"type\": \"candlestick\", \"x\": [\"2020-10-06T10:15:00\", \"2020-10-06T10:30:00\", \"2020-10-06T10:45:00\", \"2020-10-06T11:00:00\", \"2020-10-06T11:15:00\", \"2020-10-06T11:30:00\", \"2020-10-06T11:45:00\", \"2020-10-06T12:00:00\", \"2020-10-06T12:15:00\", \"2020-10-06T12:30:00\", \"2020-10-06T12:45:00\", \"2020-10-06T13:00:00\", \"2020-10-06T13:15:00\", \"2020-10-06T13:30:00\", \"2020-10-06T13:45:00\", \"2020-10-06T14:00:00\", \"2020-10-06T14:15:00\", \"2020-10-06T14:30:00\", \"2020-10-06T14:45:00\", \"2020-10-06T15:00:00\", \"2020-10-06T15:15:00\", \"2020-10-06T15:30:00\", \"2020-10-06T15:45:00\", \"2020-10-06T16:00:00\", \"2020-10-06T16:15:00\", \"2020-10-06T16:30:00\", \"2020-10-06T16:45:00\", \"2020-10-06T17:00:00\", \"2020-10-06T17:15:00\", \"2020-10-06T17:30:00\", \"2020-10-06T17:45:00\", \"2020-10-06T18:00:00\", \"2020-10-06T18:15:00\", \"2020-10-06T18:30:00\", \"2020-10-06T18:45:00\", \"2020-10-06T19:00:00\", \"2020-10-06T19:15:00\", \"2020-10-06T19:30:00\", \"2020-10-06T19:45:00\", \"2020-10-06T20:00:00\", \"2020-10-06T20:15:00\", \"2020-10-06T20:30:00\", \"2020-10-06T20:45:00\", \"2020-10-06T21:00:00\", \"2020-10-06T21:15:00\", \"2020-10-06T21:30:00\", \"2020-10-06T21:45:00\", \"2020-10-06T22:00:00\", \"2020-10-06T22:15:00\", \"2020-10-06T22:30:00\", \"2020-10-06T22:45:00\", \"2020-10-06T23:00:00\", \"2020-10-06T23:15:00\", \"2020-10-06T23:30:00\", \"2020-10-06T23:45:00\", \"2020-10-07T00:00:00\", \"2020-10-07T00:15:00\", \"2020-10-07T00:30:00\", \"2020-10-07T00:45:00\", \"2020-10-07T01:00:00\", \"2020-10-07T01:15:00\", \"2020-10-07T01:30:00\", \"2020-10-07T01:45:00\", \"2020-10-07T02:00:00\", \"2020-10-07T02:15:00\", \"2020-10-07T02:30:00\", \"2020-10-07T02:45:00\", \"2020-10-07T03:00:00\", \"2020-10-07T03:15:00\", \"2020-10-07T03:30:00\", \"2020-10-07T03:45:00\", \"2020-10-07T04:00:00\", \"2020-10-07T04:15:00\", \"2020-10-07T04:30:00\", \"2020-10-07T04:45:00\", \"2020-10-07T05:00:00\", \"2020-10-07T05:15:00\", \"2020-10-07T05:30:00\", \"2020-10-07T05:45:00\", \"2020-10-07T06:00:00\", \"2020-10-07T06:15:00\", \"2020-10-07T06:30:00\", \"2020-10-07T06:45:00\", \"2020-10-07T07:00:00\", \"2020-10-07T07:15:00\", \"2020-10-07T07:30:00\", \"2020-10-07T07:45:00\", \"2020-10-07T08:00:00\", \"2020-10-07T08:15:00\", \"2020-10-07T08:30:00\", \"2020-10-07T08:45:00\", \"2020-10-07T09:00:00\", \"2020-10-07T09:15:00\", \"2020-10-07T09:30:00\", \"2020-10-07T09:45:00\", \"2020-10-07T10:00:00\", \"2020-10-07T10:15:00\", \"2020-10-07T10:30:00\", \"2020-10-07T10:45:00\", \"2020-10-07T11:00:00\", \"2020-10-07T11:15:00\"], \"xaxis\": \"x\", \"yaxis\": \"y\"}, {\"marker\": {\"color\": \"MediumPurple\", \"size\": 8}, \"mode\": \"markers\", \"showlegend\": false, \"type\": \"scatter\", \"x\": [\"2020-10-06T12:15:00\", \"2020-10-06T18:45:00\", \"2020-10-07T00:15:00\", \"2020-10-07T07:45:00\"], \"xaxis\": \"x\", \"y\": [1.18084, 1.1791, 1.17413, 1.17677], \"yaxis\": \"y\"}, {\"marker\": {\"color\": \"mediumblue\", \"size\": 8}, \"mode\": \"markers\", \"showlegend\": false, \"type\": \"scatter\", \"x\": [\"2020-10-06T11:00:00\", \"2020-10-06T17:30:00\", \"2020-10-06T22:00:00\", \"2020-10-07T03:00:00\", \"2020-10-07T10:30:00\"], \"xaxis\": \"x\", \"y\": [1.17756, 1.17729, 1.1731, 1.17279, 1.17498], \"yaxis\": \"y\"}, {\"close\": [1.12449, 1.12497, 1.12511, 1.12534, 1.12524, 1.12517, 1.12522, 1.12526, 1.12502, 1.12491, 1.12498, 1.12523, 1.12528, 1.12527, 1.12523, 1.1251, 1.1249, 1.12531, 1.12521, 1.125, 1.12473, 1.12501, 1.12547, 1.12547, 1.1256, 1.12577, 1.12555, 1.12546, 1.12555, 1.12544, 1.12549, 1.12535, 1.12555, 1.12566, 1.1256, 1.12565, 1.12577, 1.12569, 1.12591, 1.12605, 1.1257, 1.12588, 1.12578, 1.12555, 1.12392, 1.12358, 1.12403, 1.12466, 1.1253, 1.12576, 1.1256, 1.1253, 1.12558, 1.12564, 1.12561, 1.125, 1.12526, 1.12419, 1.12319, 1.12284, 1.12264, 1.12271, 1.12326, 1.12245, 1.12222, 1.1219, 1.12258, 1.12153, 1.12181, 1.12267, 1.12362, 1.12318, 1.12349, 1.12372, 1.12329, 1.12312, 1.12363, 1.1223, 1.12246, 1.12176, 1.12281, 1.12359, 1.12323, 1.12326, 1.12362, 1.12296, 1.12321, 1.12268, 1.12273, 1.1228, 1.12215, 1.12252, 1.1224, 1.12261, 1.12251, 1.12271, 1.12235, 1.12279, 1.12268, 1.12245, 1.12279], \"high\": [1.12473, 1.125, 1.12515, 1.12535, 1.12579, 1.12528, 1.12529, 1.12537, 1.12527, 1.12509, 1.12508, 1.12524, 1.12533, 1.12548, 1.12528, 1.12526, 1.12526, 1.12532, 1.12534, 1.12542, 1.125, 1.12503, 1.12548, 1.12558, 1.12561, 1.12578, 1.12583, 1.12556, 1.12562, 1.12555, 1.1256, 1.1255, 1.12555, 1.12567, 1.12568, 1.12585, 1.12589, 1.12588, 1.12601, 1.12609, 1.1262, 1.12609, 1.12615, 1.12586, 1.12557, 1.12434, 1.12421, 1.12475, 1.12556, 1.12577, 1.12596, 1.1257, 1.12569, 1.12572, 1.12591, 1.12568, 1.12536, 1.12527, 1.12445, 1.12319, 1.12307, 1.1234, 1.12326, 1.12346, 1.1232, 1.12315, 1.12263, 1.12292, 1.12246, 1.12324, 1.12376, 1.12378, 1.12372, 1.12394, 1.1238, 1.12345, 1.12381, 1.12367, 1.1229, 1.12259, 1.123, 1.12363, 1.12359, 1.12372, 1.12363, 1.12386, 1.12346, 1.12325, 1.12293, 1.12294, 1.12282, 1.12261, 1.12257, 1.12264, 1.12263, 1.12279, 1.12281, 1.12306, 1.12314, 1.12272, 1.12283], \"low\": [1.12443, 1.12446, 1.12484, 1.12506, 1.12524, 1.12502, 1.12502, 1.12511, 1.12499, 1.1249, 1.12486, 1.12492, 1.12512, 1.12479, 1.12491, 1.12504, 1.12482, 1.12474, 1.12487, 1.12492, 1.12441, 1.12472, 1.12498, 1.12514, 1.12532, 1.12534, 1.12552, 1.12537, 1.12542, 1.1253, 1.12538, 1.1253, 1.12529, 1.12542, 1.12547, 1.12549, 1.12559, 1.12559, 1.12569, 1.12578, 1.12565, 1.12562, 1.12558, 1.12538, 1.12375, 1.12348, 1.12349, 1.12396, 1.12446, 1.12513, 1.12528, 1.12524, 1.12507, 1.1251, 1.12534, 1.12476, 1.1248, 1.12391, 1.12312, 1.12253, 1.1225, 1.12263, 1.12248, 1.12219, 1.12215, 1.12183, 1.12177, 1.12148, 1.12143, 1.12181, 1.12248, 1.12312, 1.12268, 1.12324, 1.12271, 1.12223, 1.12293, 1.12223, 1.12188, 1.12161, 1.12175, 1.12253, 1.1231, 1.12314, 1.1228, 1.12285, 1.12295, 1.12266, 1.12257, 1.12257, 1.12215, 1.12215, 1.12209, 1.12222, 1.12248, 1.12241, 1.12235, 1.12235, 1.12251, 1.12242, 1.12242], \"open\": [1.12458, 1.12449, 1.12497, 1.12511, 1.12534, 1.12524, 1.12517, 1.12522, 1.12526, 1.12502, 1.12491, 1.12498, 1.12523, 1.12528, 1.12527, 1.12523, 1.1251, 1.1249, 1.12531, 1.12521, 1.125, 1.12473, 1.12501, 1.12547, 1.12547, 1.1256, 1.12577, 1.12555, 1.12546, 1.12555, 1.12544, 1.12549, 1.12535, 1.12555, 1.12566, 1.1256, 1.12565, 1.12577, 1.12569, 1.12591, 1.12605, 1.1257, 1.12588, 1.12578, 1.12555, 1.12392, 1.12358, 1.12403, 1.12466, 1.1253, 1.12576, 1.1256, 1.1253, 1.12558, 1.12564, 1.12561, 1.125, 1.12526, 1.12419, 1.12319, 1.12284, 1.12264, 1.12271, 1.12326, 1.12245, 1.12222, 1.1219, 1.12258, 1.12153, 1.12181, 1.12267, 1.12362, 1.12318, 1.12349, 1.12372, 1.12329, 1.12312, 1.12363, 1.1223, 1.12246, 1.12176, 1.12281, 1.12359, 1.12323, 1.12326, 1.12362, 1.12296, 1.12321, 1.12268, 1.12273, 1.1228, 1.12215, 1.12252, 1.1224, 1.12261, 1.12251, 1.12271, 1.12235, 1.12279, 1.12268, 1.12245], \"showlegend\": false, \"type\": \"candlestick\", \"x\": [\"2019-03-27T20:45:00\", \"2019-03-27T21:00:00\", \"2019-03-27T21:15:00\", \"2019-03-27T21:30:00\", \"2019-03-27T21:45:00\", \"2019-03-27T22:00:00\", \"2019-03-27T22:15:00\", \"2019-03-27T22:30:00\", \"2019-03-27T22:45:00\", \"2019-03-27T23:00:00\", \"2019-03-27T23:15:00\", \"2019-03-27T23:30:00\", \"2019-03-27T23:45:00\", \"2019-03-28T00:00:00\", \"2019-03-28T00:15:00\", \"2019-03-28T00:30:00\", \"2019-03-28T00:45:00\", \"2019-03-28T01:00:00\", \"2019-03-28T01:15:00\", \"2019-03-28T01:30:00\", \"2019-03-28T01:45:00\", \"2019-03-28T02:00:00\", \"2019-03-28T02:15:00\", \"2019-03-28T02:30:00\", \"2019-03-28T02:45:00\", \"2019-03-28T03:00:00\", \"2019-03-28T03:15:00\", \"2019-03-28T03:30:00\", \"2019-03-28T03:45:00\", \"2019-03-28T04:00:00\", \"2019-03-28T04:15:00\", \"2019-03-28T04:30:00\", \"2019-03-28T04:45:00\", \"2019-03-28T05:00:00\", \"2019-03-28T05:15:00\", \"2019-03-28T05:30:00\", \"2019-03-28T05:45:00\", \"2019-03-28T06:00:00\", \"2019-03-28T06:15:00\", \"2019-03-28T06:30:00\", \"2019-03-28T06:45:00\", \"2019-03-28T07:00:00\", \"2019-03-28T07:15:00\", \"2019-03-28T07:30:00\", \"2019-03-28T07:45:00\", \"2019-03-28T08:00:00\", \"2019-03-28T08:15:00\", \"2019-03-28T08:30:00\", \"2019-03-28T08:45:00\", \"2019-03-28T09:00:00\", \"2019-03-28T09:15:00\", \"2019-03-28T09:30:00\", \"2019-03-28T09:45:00\", \"2019-03-28T10:00:00\", \"2019-03-28T10:15:00\", \"2019-03-28T10:30:00\", \"2019-03-28T10:45:00\", \"2019-03-28T11:00:00\", \"2019-03-28T11:15:00\", \"2019-03-28T11:30:00\", \"2019-03-28T11:45:00\", \"2019-03-28T12:00:00\", \"2019-03-28T12:15:00\", \"2019-03-28T12:30:00\", \"2019-03-28T12:45:00\", \"2019-03-28T13:00:00\", \"2019-03-28T13:15:00\", \"2019-03-28T13:30:00\", \"2019-03-28T13:45:00\", \"2019-03-28T14:00:00\", \"2019-03-28T14:15:00\", \"2019-03-28T14:30:00\", \"2019-03-28T14:45:00\", \"2019-03-28T15:00:00\", \"2019-03-28T15:15:00\", \"2019-03-28T15:30:00\", \"2019-03-28T15:45:00\", \"2019-03-28T16:00:00\", \"2019-03-28T16:15:00\", \"2019-03-28T16:30:00\", \"2019-03-28T16:45:00\", \"2019-03-28T17:00:00\", \"2019-03-28T17:15:00\", \"2019-03-28T17:30:00\", \"2019-03-28T17:45:00\", \"2019-03-28T18:00:00\", \"2019-03-28T18:15:00\", \"2019-03-28T18:30:00\", \"2019-03-28T18:45:00\", \"2019-03-28T19:00:00\", \"2019-03-28T19:15:00\", \"2019-03-28T19:30:00\", \"2019-03-28T19:45:00\", \"2019-03-28T20:00:00\", \"2019-03-28T20:15:00\", \"2019-03-28T20:30:00\", \"2019-03-28T20:45:00\", \"2019-03-28T21:00:00\", \"2019-03-28T21:15:00\", \"2019-03-28T21:30:00\", \"2019-03-28T21:45:00\"], \"xaxis\": \"x2\", \"yaxis\": \"y2\"}, {\"marker\": {\"color\": \"MediumPurple\", \"size\": 8}, \"mode\": \"markers\", \"showlegend\": false, \"type\": \"scatter\", \"x\": [\"2019-03-27T21:45:00\", \"2019-03-28T06:45:00\", \"2019-03-28T09:15:00\", \"2019-03-28T15:00:00\", \"2019-03-28T18:00:00\", \"2019-03-28T21:15:00\"], \"xaxis\": \"x2\", \"y\": [1.12579, 1.1262, 1.12596, 1.12394, 1.12386, 1.12314], \"yaxis\": \"y2\"}, {\"marker\": {\"color\": \"mediumblue\", \"size\": 8}, \"mode\": \"markers\", \"showlegend\": false, \"type\": \"scatter\", \"x\": [\"2019-03-28T01:45:00\", \"2019-03-28T08:00:00\", \"2019-03-28T13:45:00\", \"2019-03-28T16:30:00\", \"2019-03-28T19:45:00\"], \"xaxis\": \"x2\", \"y\": [1.12441, 1.12348, 1.12143, 1.12161, 1.12209], \"yaxis\": \"y2\"}],                        {\"template\": {\"data\": {\"bar\": [{\"error_x\": {\"color\": \"#2a3f5f\"}, \"error_y\": {\"color\": \"#2a3f5f\"}, \"marker\": {\"line\": {\"color\": \"#E5ECF6\", \"width\": 0.5}}, \"type\": \"bar\"}], \"barpolar\": [{\"marker\": {\"line\": {\"color\": \"#E5ECF6\", \"width\": 0.5}}, \"type\": \"barpolar\"}], \"carpet\": [{\"aaxis\": {\"endlinecolor\": \"#2a3f5f\", \"gridcolor\": \"white\", \"linecolor\": \"white\", \"minorgridcolor\": \"white\", \"startlinecolor\": \"#2a3f5f\"}, \"baxis\": {\"endlinecolor\": \"#2a3f5f\", \"gridcolor\": \"white\", \"linecolor\": \"white\", \"minorgridcolor\": \"white\", \"startlinecolor\": \"#2a3f5f\"}, \"type\": \"carpet\"}], \"choropleth\": [{\"colorbar\": {\"outlinewidth\": 0, \"ticks\": \"\"}, \"type\": \"choropleth\"}], \"contour\": [{\"colorbar\": {\"outlinewidth\": 0, \"ticks\": \"\"}, \"colorscale\": [[0.0, \"#0d0887\"], [0.1111111111111111, \"#46039f\"], [0.2222222222222222, \"#7201a8\"], [0.3333333333333333, \"#9c179e\"], [0.4444444444444444, \"#bd3786\"], [0.5555555555555556, \"#d8576b\"], [0.6666666666666666, \"#ed7953\"], [0.7777777777777778, \"#fb9f3a\"], [0.8888888888888888, \"#fdca26\"], [1.0, \"#f0f921\"]], \"type\": \"contour\"}], \"contourcarpet\": [{\"colorbar\": {\"outlinewidth\": 0, \"ticks\": \"\"}, \"type\": \"contourcarpet\"}], \"heatmap\": [{\"colorbar\": {\"outlinewidth\": 0, \"ticks\": \"\"}, \"colorscale\": [[0.0, \"#0d0887\"], [0.1111111111111111, \"#46039f\"], [0.2222222222222222, \"#7201a8\"], [0.3333333333333333, \"#9c179e\"], [0.4444444444444444, \"#bd3786\"], [0.5555555555555556, \"#d8576b\"], [0.6666666666666666, \"#ed7953\"], [0.7777777777777778, \"#fb9f3a\"], [0.8888888888888888, \"#fdca26\"], [1.0, \"#f0f921\"]], \"type\": \"heatmap\"}], \"heatmapgl\": [{\"colorbar\": {\"outlinewidth\": 0, \"ticks\": \"\"}, \"colorscale\": [[0.0, \"#0d0887\"], [0.1111111111111111, \"#46039f\"], [0.2222222222222222, \"#7201a8\"], [0.3333333333333333, \"#9c179e\"], [0.4444444444444444, \"#bd3786\"], [0.5555555555555556, \"#d8576b\"], [0.6666666666666666, \"#ed7953\"], [0.7777777777777778, \"#fb9f3a\"], [0.8888888888888888, \"#fdca26\"], [1.0, \"#f0f921\"]], \"type\": \"heatmapgl\"}], \"histogram\": [{\"marker\": {\"colorbar\": {\"outlinewidth\": 0, \"ticks\": \"\"}}, \"type\": \"histogram\"}], \"histogram2d\": [{\"colorbar\": {\"outlinewidth\": 0, \"ticks\": \"\"}, \"colorscale\": [[0.0, \"#0d0887\"], [0.1111111111111111, \"#46039f\"], [0.2222222222222222, \"#7201a8\"], [0.3333333333333333, \"#9c179e\"], [0.4444444444444444, \"#bd3786\"], [0.5555555555555556, \"#d8576b\"], [0.6666666666666666, \"#ed7953\"], [0.7777777777777778, \"#fb9f3a\"], [0.8888888888888888, \"#fdca26\"], [1.0, \"#f0f921\"]], \"type\": \"histogram2d\"}], \"histogram2dcontour\": [{\"colorbar\": {\"outlinewidth\": 0, \"ticks\": \"\"}, \"colorscale\": [[0.0, \"#0d0887\"], [0.1111111111111111, \"#46039f\"], [0.2222222222222222, \"#7201a8\"], [0.3333333333333333, \"#9c179e\"], [0.4444444444444444, \"#bd3786\"], [0.5555555555555556, \"#d8576b\"], [0.6666666666666666, \"#ed7953\"], [0.7777777777777778, \"#fb9f3a\"], [0.8888888888888888, \"#fdca26\"], [1.0, \"#f0f921\"]], \"type\": \"histogram2dcontour\"}], \"mesh3d\": [{\"colorbar\": {\"outlinewidth\": 0, \"ticks\": \"\"}, \"type\": \"mesh3d\"}], \"parcoords\": [{\"line\": {\"colorbar\": {\"outlinewidth\": 0, \"ticks\": \"\"}}, \"type\": \"parcoords\"}], \"pie\": [{\"automargin\": true, \"type\": \"pie\"}], \"scatter\": [{\"marker\": {\"colorbar\": {\"outlinewidth\": 0, \"ticks\": \"\"}}, \"type\": \"scatter\"}], \"scatter3d\": [{\"line\": {\"colorbar\": {\"outlinewidth\": 0, \"ticks\": \"\"}}, \"marker\": {\"colorbar\": {\"outlinewidth\": 0, \"ticks\": \"\"}}, \"type\": \"scatter3d\"}], \"scattercarpet\": [{\"marker\": {\"colorbar\": {\"outlinewidth\": 0, \"ticks\": \"\"}}, \"type\": \"scattercarpet\"}], \"scattergeo\": [{\"marker\": {\"colorbar\": {\"outlinewidth\": 0, \"ticks\": \"\"}}, \"type\": \"scattergeo\"}], \"scattergl\": [{\"marker\": {\"colorbar\": {\"outlinewidth\": 0, \"ticks\": \"\"}}, \"type\": \"scattergl\"}], \"scattermapbox\": [{\"marker\": {\"colorbar\": {\"outlinewidth\": 0, \"ticks\": \"\"}}, \"type\": \"scattermapbox\"}], \"scatterpolar\": [{\"marker\": {\"colorbar\": {\"outlinewidth\": 0, \"ticks\": \"\"}}, \"type\": \"scatterpolar\"}], \"scatterpolargl\": [{\"marker\": {\"colorbar\": {\"outlinewidth\": 0, \"ticks\": \"\"}}, \"type\": \"scatterpolargl\"}], \"scatterternary\": [{\"marker\": {\"colorbar\": {\"outlinewidth\": 0, \"ticks\": \"\"}}, \"type\": \"scatterternary\"}], \"surface\": [{\"colorbar\": {\"outlinewidth\": 0, \"ticks\": \"\"}, \"colorscale\": [[0.0, \"#0d0887\"], [0.1111111111111111, \"#46039f\"], [0.2222222222222222, \"#7201a8\"], [0.3333333333333333, \"#9c179e\"], [0.4444444444444444, \"#bd3786\"], [0.5555555555555556, \"#d8576b\"], [0.6666666666666666, \"#ed7953\"], [0.7777777777777778, \"#fb9f3a\"], [0.8888888888888888, \"#fdca26\"], [1.0, \"#f0f921\"]], \"type\": \"surface\"}], \"table\": [{\"cells\": {\"fill\": {\"color\": \"#EBF0F8\"}, \"line\": {\"color\": \"white\"}}, \"header\": {\"fill\": {\"color\": \"#C8D4E3\"}, \"line\": {\"color\": \"white\"}}, \"type\": \"table\"}]}, \"layout\": {\"annotationdefaults\": {\"arrowcolor\": \"#2a3f5f\", \"arrowhead\": 0, \"arrowwidth\": 1}, \"coloraxis\": {\"colorbar\": {\"outlinewidth\": 0, \"ticks\": \"\"}}, \"colorscale\": {\"diverging\": [[0, \"#8e0152\"], [0.1, \"#c51b7d\"], [0.2, \"#de77ae\"], [0.3, \"#f1b6da\"], [0.4, \"#fde0ef\"], [0.5, \"#f7f7f7\"], [0.6, \"#e6f5d0\"], [0.7, \"#b8e186\"], [0.8, \"#7fbc41\"], [0.9, \"#4d9221\"], [1, \"#276419\"]], \"sequential\": [[0.0, \"#0d0887\"], [0.1111111111111111, \"#46039f\"], [0.2222222222222222, \"#7201a8\"], [0.3333333333333333, \"#9c179e\"], [0.4444444444444444, \"#bd3786\"], [0.5555555555555556, \"#d8576b\"], [0.6666666666666666, \"#ed7953\"], [0.7777777777777778, \"#fb9f3a\"], [0.8888888888888888, \"#fdca26\"], [1.0, \"#f0f921\"]], \"sequentialminus\": [[0.0, \"#0d0887\"], [0.1111111111111111, \"#46039f\"], [0.2222222222222222, \"#7201a8\"], [0.3333333333333333, \"#9c179e\"], [0.4444444444444444, \"#bd3786\"], [0.5555555555555556, \"#d8576b\"], [0.6666666666666666, \"#ed7953\"], [0.7777777777777778, \"#fb9f3a\"], [0.8888888888888888, \"#fdca26\"], [1.0, \"#f0f921\"]]}, \"colorway\": [\"#636efa\", \"#EF553B\", \"#00cc96\", \"#ab63fa\", \"#FFA15A\", \"#19d3f3\", \"#FF6692\", \"#B6E880\", \"#FF97FF\", \"#FECB52\"], \"font\": {\"color\": \"#2a3f5f\"}, \"geo\": {\"bgcolor\": \"white\", \"lakecolor\": \"white\", \"landcolor\": \"#E5ECF6\", \"showlakes\": true, \"showland\": true, \"subunitcolor\": \"white\"}, \"hoverlabel\": {\"align\": \"left\"}, \"hovermode\": \"closest\", \"mapbox\": {\"style\": \"light\"}, \"paper_bgcolor\": \"white\", \"plot_bgcolor\": \"#E5ECF6\", \"polar\": {\"angularaxis\": {\"gridcolor\": \"white\", \"linecolor\": \"white\", \"ticks\": \"\"}, \"bgcolor\": \"#E5ECF6\", \"radialaxis\": {\"gridcolor\": \"white\", \"linecolor\": \"white\", \"ticks\": \"\"}}, \"scene\": {\"xaxis\": {\"backgroundcolor\": \"#E5ECF6\", \"gridcolor\": \"white\", \"gridwidth\": 2, \"linecolor\": \"white\", \"showbackground\": true, \"ticks\": \"\", \"zerolinecolor\": \"white\"}, \"yaxis\": {\"backgroundcolor\": \"#E5ECF6\", \"gridcolor\": \"white\", \"gridwidth\": 2, \"linecolor\": \"white\", \"showbackground\": true, \"ticks\": \"\", \"zerolinecolor\": \"white\"}, \"zaxis\": {\"backgroundcolor\": \"#E5ECF6\", \"gridcolor\": \"white\", \"gridwidth\": 2, \"linecolor\": \"white\", \"showbackground\": true, \"ticks\": \"\", \"zerolinecolor\": \"white\"}}, \"shapedefaults\": {\"line\": {\"color\": \"#2a3f5f\"}}, \"ternary\": {\"aaxis\": {\"gridcolor\": \"white\", \"linecolor\": \"white\", \"ticks\": \"\"}, \"baxis\": {\"gridcolor\": \"white\", \"linecolor\": \"white\", \"ticks\": \"\"}, \"bgcolor\": \"#E5ECF6\", \"caxis\": {\"gridcolor\": \"white\", \"linecolor\": \"white\", \"ticks\": \"\"}}, \"title\": {\"x\": 0.05}, \"xaxis\": {\"automargin\": true, \"gridcolor\": \"white\", \"linecolor\": \"white\", \"ticks\": \"\", \"title\": {\"standoff\": 15}, \"zerolinecolor\": \"white\", \"zerolinewidth\": 2}, \"yaxis\": {\"automargin\": true, \"gridcolor\": \"white\", \"linecolor\": \"white\", \"ticks\": \"\", \"title\": {\"standoff\": 15}, \"zerolinecolor\": \"white\", \"zerolinewidth\": 2}}}, \"xaxis\": {\"anchor\": \"y\", \"domain\": [0.0, 0.45], \"rangeslider\": {\"visible\": false}}, \"xaxis2\": {\"anchor\": \"y2\", \"domain\": [0.55, 1.0], \"rangeslider\": {\"visible\": false}}, \"yaxis\": {\"anchor\": \"x\", \"domain\": [0.0, 1.0]}, \"yaxis2\": {\"anchor\": \"x2\", \"domain\": [0.0, 1.0]}},                        {\"responsive\": true}                    ).then(function(){\n",
       "                            \n",
       "var gd = document.getElementById('d3404d00-1cf5-4927-84d7-ebc27a41b7c6');\n",
       "var x = new MutationObserver(function (mutations, observer) {{\n",
       "        var display = window.getComputedStyle(gd).display;\n",
       "        if (!display || display === 'none') {{\n",
       "            console.log([gd, 'removed!']);\n",
       "            Plotly.purge(gd);\n",
       "            observer.disconnect();\n",
       "        }}\n",
       "}});\n",
       "\n",
       "// Listen for the removal of the full notebook cells\n",
       "var notebookContainer = gd.closest('#notebook-container');\n",
       "if (notebookContainer) {{\n",
       "    x.observe(notebookContainer, {childList: true});\n",
       "}}\n",
       "\n",
       "// Listen for the clearing of the current output cell\n",
       "var outputEl = gd.closest('.output');\n",
       "if (outputEl) {{\n",
       "    x.observe(outputEl, {childList: true});\n",
       "}}\n",
       "\n",
       "                        })                };                });            </script>        </div>"
      ]
     },
     "metadata": {},
     "output_type": "display_data"
    },
    {
     "data": {
      "application/vnd.plotly.v1+json": {
       "config": {
        "plotlyServerURL": "https://plot.ly"
       },
       "data": [
        {
         "close": [
          1.14054,
          1.14042,
          1.14065,
          1.14068,
          1.14036,
          1.14026,
          1.14033,
          1.14019,
          1.13984,
          1.13976,
          1.13921,
          1.13805,
          1.13749,
          1.1377,
          1.13643,
          1.13621,
          1.1368,
          1.13585,
          1.13577,
          1.13653,
          1.13629,
          1.13606,
          1.13615,
          1.13591,
          1.1359,
          1.1366,
          1.13686,
          1.13666,
          1.1366,
          1.13666,
          1.13658,
          1.13725,
          1.13706,
          1.1365,
          1.13645,
          1.13649,
          1.13658,
          1.13658,
          1.13656,
          1.13654,
          1.13662,
          1.137,
          1.13692,
          1.13651,
          1.13699,
          1.13636,
          1.13642,
          1.13672,
          1.13681,
          1.1367,
          1.13668,
          1.13691,
          1.13666,
          1.13659,
          1.13768,
          1.13751,
          1.1375,
          1.13751,
          1.13733,
          1.13742,
          1.13762,
          1.13781,
          1.1377,
          1.13785,
          1.13801,
          1.13775,
          1.13771,
          1.13766,
          1.13765,
          1.13759,
          1.13752,
          1.13756,
          1.13761,
          1.13796,
          1.13754,
          1.13766,
          1.13776,
          1.13786,
          1.13775,
          1.13788,
          1.13812,
          1.13805,
          1.13846,
          1.1385,
          1.13844,
          1.13854,
          1.13852,
          1.13811,
          1.1377,
          1.13755,
          1.13761,
          1.13741,
          1.13697,
          1.1372,
          1.13755,
          1.13761,
          1.13798,
          1.13778,
          1.13737,
          1.13704,
          1.1369
         ],
         "high": [
          1.14108,
          1.14068,
          1.14066,
          1.14119,
          1.141,
          1.14071,
          1.14053,
          1.14051,
          1.14034,
          1.14014,
          1.1398,
          1.13934,
          1.13843,
          1.13814,
          1.13831,
          1.13701,
          1.13687,
          1.13686,
          1.13608,
          1.13654,
          1.1367,
          1.13646,
          1.13626,
          1.13619,
          1.13608,
          1.1366,
          1.13688,
          1.13691,
          1.1369,
          1.13669,
          1.1368,
          1.13729,
          1.13726,
          1.13707,
          1.13662,
          1.13652,
          1.13659,
          1.13667,
          1.13669,
          1.13664,
          1.13665,
          1.137,
          1.137,
          1.13702,
          1.13703,
          1.13699,
          1.13656,
          1.13714,
          1.13704,
          1.13703,
          1.13675,
          1.13691,
          1.13691,
          1.13681,
          1.1377,
          1.13783,
          1.13763,
          1.13766,
          1.13766,
          1.13765,
          1.13781,
          1.138,
          1.13792,
          1.13789,
          1.13806,
          1.1381,
          1.1378,
          1.13771,
          1.13776,
          1.13777,
          1.13762,
          1.1376,
          1.13764,
          1.13796,
          1.13796,
          1.1377,
          1.13789,
          1.13796,
          1.13795,
          1.138,
          1.13813,
          1.13814,
          1.13922,
          1.13866,
          1.13857,
          1.13882,
          1.13875,
          1.13867,
          1.13816,
          1.13775,
          1.13771,
          1.13764,
          1.13741,
          1.13731,
          1.13757,
          1.13785,
          1.13809,
          1.13801,
          1.13783,
          1.13757,
          1.13721
         ],
         "low": [
          1.14049,
          1.14019,
          1.1403,
          1.14055,
          1.14021,
          1.14009,
          1.14019,
          1.14012,
          1.13971,
          1.13969,
          1.13903,
          1.1375,
          1.13747,
          1.13674,
          1.13643,
          1.13612,
          1.13612,
          1.13577,
          1.1354,
          1.13567,
          1.13576,
          1.13582,
          1.13575,
          1.13574,
          1.13575,
          1.13586,
          1.13627,
          1.13666,
          1.13652,
          1.13638,
          1.1365,
          1.13655,
          1.13701,
          1.13648,
          1.13635,
          1.1363,
          1.13629,
          1.13643,
          1.13654,
          1.13649,
          1.13615,
          1.13662,
          1.13685,
          1.13638,
          1.13651,
          1.13631,
          1.1363,
          1.13637,
          1.1366,
          1.13668,
          1.13657,
          1.13662,
          1.13655,
          1.13654,
          1.13654,
          1.13742,
          1.13733,
          1.13729,
          1.13728,
          1.13733,
          1.13719,
          1.13761,
          1.13761,
          1.13765,
          1.13779,
          1.13771,
          1.13759,
          1.13743,
          1.1376,
          1.13754,
          1.13739,
          1.1374,
          1.13743,
          1.13749,
          1.13747,
          1.13745,
          1.1376,
          1.13762,
          1.13759,
          1.13759,
          1.13788,
          1.13797,
          1.13766,
          1.13807,
          1.13814,
          1.13812,
          1.13811,
          1.13793,
          1.13746,
          1.13731,
          1.13715,
          1.13704,
          1.13667,
          1.13689,
          1.13717,
          1.13744,
          1.13759,
          1.13772,
          1.13734,
          1.13704,
          1.13683
         ],
         "open": [
          1.14103,
          1.14054,
          1.14042,
          1.14065,
          1.14068,
          1.14036,
          1.14026,
          1.14033,
          1.14019,
          1.13984,
          1.13976,
          1.13921,
          1.13805,
          1.13749,
          1.1377,
          1.13643,
          1.13621,
          1.1368,
          1.13585,
          1.13577,
          1.13653,
          1.13629,
          1.13606,
          1.13615,
          1.13591,
          1.1359,
          1.1366,
          1.13686,
          1.13666,
          1.1366,
          1.13666,
          1.13658,
          1.13725,
          1.13706,
          1.1365,
          1.13645,
          1.13649,
          1.13658,
          1.13658,
          1.13656,
          1.13654,
          1.13662,
          1.137,
          1.13692,
          1.13651,
          1.13699,
          1.13636,
          1.13642,
          1.13672,
          1.13681,
          1.1367,
          1.13668,
          1.13691,
          1.13666,
          1.13659,
          1.13768,
          1.13751,
          1.1375,
          1.13751,
          1.13733,
          1.13742,
          1.13762,
          1.13781,
          1.1377,
          1.13785,
          1.13801,
          1.13775,
          1.13771,
          1.13766,
          1.13765,
          1.13759,
          1.13752,
          1.13756,
          1.13761,
          1.13796,
          1.13754,
          1.13766,
          1.13776,
          1.13786,
          1.13775,
          1.13788,
          1.13812,
          1.13805,
          1.13846,
          1.1385,
          1.13844,
          1.13854,
          1.13852,
          1.13811,
          1.1377,
          1.13755,
          1.13761,
          1.13741,
          1.13697,
          1.1372,
          1.13755,
          1.13761,
          1.13798,
          1.13778,
          1.13737,
          1.13704
         ],
         "showlegend": false,
         "type": "candlestick",
         "x": [
          "2019-01-18T11:45:00",
          "2019-01-18T12:00:00",
          "2019-01-18T12:15:00",
          "2019-01-18T12:30:00",
          "2019-01-18T12:45:00",
          "2019-01-18T13:00:00",
          "2019-01-18T13:15:00",
          "2019-01-18T13:30:00",
          "2019-01-18T13:45:00",
          "2019-01-18T14:00:00",
          "2019-01-18T14:15:00",
          "2019-01-18T14:30:00",
          "2019-01-18T14:45:00",
          "2019-01-18T15:00:00",
          "2019-01-18T15:15:00",
          "2019-01-18T15:30:00",
          "2019-01-18T15:45:00",
          "2019-01-18T16:00:00",
          "2019-01-18T16:15:00",
          "2019-01-18T16:30:00",
          "2019-01-18T16:45:00",
          "2019-01-18T17:00:00",
          "2019-01-18T17:15:00",
          "2019-01-18T17:30:00",
          "2019-01-18T17:45:00",
          "2019-01-18T18:00:00",
          "2019-01-18T18:15:00",
          "2019-01-18T18:30:00",
          "2019-01-18T18:45:00",
          "2019-01-18T19:00:00",
          "2019-01-18T19:15:00",
          "2019-01-18T19:30:00",
          "2019-01-18T19:45:00",
          "2019-01-18T20:00:00",
          "2019-01-18T20:15:00",
          "2019-01-18T20:30:00",
          "2019-01-18T20:45:00",
          "2019-01-18T21:00:00",
          "2019-01-18T21:15:00",
          "2019-01-18T21:30:00",
          "2019-01-18T21:45:00",
          "2019-01-20T19:30:00",
          "2019-01-20T19:45:00",
          "2019-01-20T20:00:00",
          "2019-01-20T20:30:00",
          "2019-01-20T21:45:00",
          "2019-01-20T22:00:00",
          "2019-01-20T22:15:00",
          "2019-01-20T22:30:00",
          "2019-01-20T22:45:00",
          "2019-01-20T23:00:00",
          "2019-01-20T23:15:00",
          "2019-01-20T23:30:00",
          "2019-01-20T23:45:00",
          "2019-01-21T00:00:00",
          "2019-01-21T00:15:00",
          "2019-01-21T00:30:00",
          "2019-01-21T00:45:00",
          "2019-01-21T01:00:00",
          "2019-01-21T01:15:00",
          "2019-01-21T01:30:00",
          "2019-01-21T01:45:00",
          "2019-01-21T02:00:00",
          "2019-01-21T02:15:00",
          "2019-01-21T02:30:00",
          "2019-01-21T02:45:00",
          "2019-01-21T03:00:00",
          "2019-01-21T03:15:00",
          "2019-01-21T03:30:00",
          "2019-01-21T03:45:00",
          "2019-01-21T04:00:00",
          "2019-01-21T04:15:00",
          "2019-01-21T04:30:00",
          "2019-01-21T04:45:00",
          "2019-01-21T05:00:00",
          "2019-01-21T05:15:00",
          "2019-01-21T05:30:00",
          "2019-01-21T05:45:00",
          "2019-01-21T06:00:00",
          "2019-01-21T06:15:00",
          "2019-01-21T06:30:00",
          "2019-01-21T06:45:00",
          "2019-01-21T07:00:00",
          "2019-01-21T07:15:00",
          "2019-01-21T07:30:00",
          "2019-01-21T07:45:00",
          "2019-01-21T08:00:00",
          "2019-01-21T08:15:00",
          "2019-01-21T08:30:00",
          "2019-01-21T08:45:00",
          "2019-01-21T09:00:00",
          "2019-01-21T09:15:00",
          "2019-01-21T09:30:00",
          "2019-01-21T09:45:00",
          "2019-01-21T10:00:00",
          "2019-01-21T10:15:00",
          "2019-01-21T10:30:00",
          "2019-01-21T10:45:00",
          "2019-01-21T11:00:00",
          "2019-01-21T11:15:00",
          "2019-01-21T11:30:00"
         ],
         "xaxis": "x",
         "yaxis": "y"
        },
        {
         "marker": {
          "color": "MediumPurple",
          "size": 8
         },
         "mode": "markers",
         "showlegend": false,
         "type": "scatter",
         "x": [
          "2019-01-18T12:30:00",
          "2019-01-18T15:15:00",
          "2019-01-18T19:30:00",
          "2019-01-21T02:45:00",
          "2019-01-21T07:00:00",
          "2019-01-21T10:30:00"
         ],
         "xaxis": "x",
         "y": [
          1.14119,
          1.13831,
          1.13729,
          1.1381,
          1.13922,
          1.13809
         ],
         "yaxis": "y"
        },
        {
         "marker": {
          "color": "mediumblue",
          "size": 8
         },
         "mode": "markers",
         "showlegend": false,
         "type": "scatter",
         "x": [
          "2019-01-18T13:00:00",
          "2019-01-18T16:15:00",
          "2019-01-18T20:45:00",
          "2019-01-21T04:00:00",
          "2019-01-21T09:30:00"
         ],
         "xaxis": "x",
         "y": [
          1.14009,
          1.1354,
          1.13629,
          1.13739,
          1.13667
         ],
         "yaxis": "y"
        },
        {
         "close": [
          1.12215,
          1.12196,
          1.1224,
          1.12165,
          1.1225,
          1.12315,
          1.12381,
          1.12405,
          1.1236,
          1.1241,
          1.1244,
          1.12443,
          1.12464,
          1.12518,
          1.12487,
          1.1247,
          1.12471,
          1.12477,
          1.12439,
          1.12469,
          1.1249,
          1.12465,
          1.1247,
          1.12442,
          1.12423,
          1.12396,
          1.12351,
          1.12353,
          1.12331,
          1.12305,
          1.12338,
          1.12349,
          1.12268,
          1.12298,
          1.12303,
          1.12419,
          1.12351,
          1.12376,
          1.12425,
          1.12415,
          1.12481,
          1.12455,
          1.12451,
          1.12467,
          1.12436,
          1.12466,
          1.12467,
          1.12421,
          1.12418,
          1.12441,
          1.12398,
          1.1241,
          1.12417,
          1.12397,
          1.12392,
          1.12361,
          1.12359,
          1.12343,
          1.12333,
          1.12386,
          1.12381,
          1.12392,
          1.1239,
          1.12404,
          1.12415,
          1.12414,
          1.12428,
          1.12461,
          1.12457,
          1.12461,
          1.12455,
          1.12468,
          1.12478,
          1.12464,
          1.12452,
          1.1246,
          1.12455,
          1.12452,
          1.1245,
          1.12446,
          1.12432,
          1.12416,
          1.12388,
          1.12397,
          1.12401,
          1.12422,
          1.12429,
          1.12431,
          1.1243,
          1.12422,
          1.12417,
          1.12419,
          1.12421,
          1.12437,
          1.12483,
          1.12396,
          1.1241,
          1.1241,
          1.12397,
          1.12358,
          1.1244
         ],
         "high": [
          1.12278,
          1.12253,
          1.12241,
          1.12262,
          1.12256,
          1.12317,
          1.12435,
          1.12437,
          1.12414,
          1.12424,
          1.12457,
          1.1247,
          1.12537,
          1.12518,
          1.12554,
          1.12489,
          1.125,
          1.12489,
          1.12479,
          1.12489,
          1.12511,
          1.12506,
          1.12479,
          1.12474,
          1.12511,
          1.1244,
          1.12398,
          1.12364,
          1.12378,
          1.1234,
          1.12346,
          1.12436,
          1.12368,
          1.12349,
          1.12343,
          1.12432,
          1.12426,
          1.12382,
          1.12436,
          1.12445,
          1.12499,
          1.12485,
          1.12476,
          1.1249,
          1.12467,
          1.12471,
          1.12482,
          1.12476,
          1.12426,
          1.1245,
          1.12446,
          1.12423,
          1.12419,
          1.12418,
          1.12408,
          1.12392,
          1.12365,
          1.12359,
          1.12345,
          1.12411,
          1.12397,
          1.12395,
          1.12399,
          1.12416,
          1.12419,
          1.12418,
          1.12432,
          1.12462,
          1.12466,
          1.12463,
          1.12462,
          1.12478,
          1.12482,
          1.12482,
          1.12472,
          1.1246,
          1.12462,
          1.12459,
          1.12457,
          1.12451,
          1.12458,
          1.12436,
          1.12418,
          1.12399,
          1.12408,
          1.12425,
          1.12432,
          1.12434,
          1.12439,
          1.12431,
          1.12428,
          1.12422,
          1.12438,
          1.12439,
          1.12484,
          1.12483,
          1.12438,
          1.12433,
          1.12421,
          1.12397,
          1.12449
         ],
         "low": [
          1.12214,
          1.12187,
          1.12181,
          1.12159,
          1.12163,
          1.12234,
          1.12314,
          1.12377,
          1.12349,
          1.1233,
          1.12405,
          1.12395,
          1.12438,
          1.12456,
          1.12486,
          1.12454,
          1.12459,
          1.12467,
          1.12439,
          1.12428,
          1.12457,
          1.12455,
          1.12439,
          1.12422,
          1.12414,
          1.12387,
          1.12347,
          1.12318,
          1.12318,
          1.12283,
          1.12293,
          1.12338,
          1.12257,
          1.12259,
          1.12275,
          1.1229,
          1.12347,
          1.12313,
          1.12372,
          1.12398,
          1.12405,
          1.12445,
          1.12445,
          1.12449,
          1.12433,
          1.12422,
          1.12457,
          1.12421,
          1.12391,
          1.12417,
          1.12397,
          1.12397,
          1.12403,
          1.12383,
          1.12387,
          1.12359,
          1.12357,
          1.12341,
          1.12331,
          1.12333,
          1.12354,
          1.1236,
          1.12377,
          1.12377,
          1.12397,
          1.1241,
          1.12411,
          1.12426,
          1.12453,
          1.12454,
          1.12452,
          1.12451,
          1.12467,
          1.12457,
          1.12446,
          1.12443,
          1.12451,
          1.12446,
          1.12446,
          1.12436,
          1.12431,
          1.12406,
          1.12382,
          1.12375,
          1.12389,
          1.12401,
          1.12416,
          1.12412,
          1.12421,
          1.12421,
          1.12411,
          1.12406,
          1.12412,
          1.12418,
          1.12437,
          1.12352,
          1.1239,
          1.124,
          1.12395,
          1.12341,
          1.12352
         ],
         "open": [
          1.12265,
          1.12215,
          1.12196,
          1.1224,
          1.12165,
          1.1225,
          1.12315,
          1.12381,
          1.12405,
          1.1236,
          1.1241,
          1.1244,
          1.12443,
          1.12464,
          1.12518,
          1.12487,
          1.1247,
          1.12471,
          1.12477,
          1.12439,
          1.12469,
          1.1249,
          1.12465,
          1.1247,
          1.12442,
          1.12423,
          1.12396,
          1.12351,
          1.12353,
          1.12331,
          1.12305,
          1.12338,
          1.12349,
          1.12268,
          1.12298,
          1.12303,
          1.12419,
          1.12351,
          1.12376,
          1.12425,
          1.12415,
          1.12481,
          1.12455,
          1.12451,
          1.12467,
          1.12436,
          1.12466,
          1.12467,
          1.12421,
          1.12418,
          1.12441,
          1.12398,
          1.1241,
          1.12417,
          1.12397,
          1.12392,
          1.12361,
          1.12359,
          1.12343,
          1.12333,
          1.12386,
          1.12381,
          1.12392,
          1.1239,
          1.12404,
          1.12415,
          1.12414,
          1.12428,
          1.12461,
          1.12457,
          1.12461,
          1.12455,
          1.12468,
          1.12478,
          1.12464,
          1.12452,
          1.1246,
          1.12455,
          1.12452,
          1.1245,
          1.12446,
          1.12432,
          1.12416,
          1.12388,
          1.12397,
          1.12401,
          1.12422,
          1.12429,
          1.12431,
          1.1243,
          1.12422,
          1.12417,
          1.12419,
          1.12421,
          1.12437,
          1.12483,
          1.12396,
          1.1241,
          1.1241,
          1.12397,
          1.12358
         ],
         "showlegend": false,
         "type": "candlestick",
         "x": [
          "2019-04-03T06:15:00",
          "2019-04-03T06:30:00",
          "2019-04-03T06:45:00",
          "2019-04-03T07:00:00",
          "2019-04-03T07:15:00",
          "2019-04-03T07:30:00",
          "2019-04-03T07:45:00",
          "2019-04-03T08:00:00",
          "2019-04-03T08:15:00",
          "2019-04-03T08:30:00",
          "2019-04-03T08:45:00",
          "2019-04-03T09:00:00",
          "2019-04-03T09:15:00",
          "2019-04-03T09:30:00",
          "2019-04-03T09:45:00",
          "2019-04-03T10:00:00",
          "2019-04-03T10:15:00",
          "2019-04-03T10:30:00",
          "2019-04-03T10:45:00",
          "2019-04-03T11:00:00",
          "2019-04-03T11:15:00",
          "2019-04-03T11:30:00",
          "2019-04-03T11:45:00",
          "2019-04-03T12:00:00",
          "2019-04-03T12:15:00",
          "2019-04-03T12:30:00",
          "2019-04-03T12:45:00",
          "2019-04-03T13:00:00",
          "2019-04-03T13:15:00",
          "2019-04-03T13:30:00",
          "2019-04-03T13:45:00",
          "2019-04-03T14:00:00",
          "2019-04-03T14:15:00",
          "2019-04-03T14:30:00",
          "2019-04-03T14:45:00",
          "2019-04-03T15:00:00",
          "2019-04-03T15:15:00",
          "2019-04-03T15:30:00",
          "2019-04-03T15:45:00",
          "2019-04-03T16:00:00",
          "2019-04-03T16:15:00",
          "2019-04-03T16:30:00",
          "2019-04-03T16:45:00",
          "2019-04-03T17:00:00",
          "2019-04-03T17:15:00",
          "2019-04-03T17:30:00",
          "2019-04-03T17:45:00",
          "2019-04-03T18:00:00",
          "2019-04-03T18:15:00",
          "2019-04-03T18:30:00",
          "2019-04-03T18:45:00",
          "2019-04-03T19:00:00",
          "2019-04-03T19:15:00",
          "2019-04-03T19:30:00",
          "2019-04-03T19:45:00",
          "2019-04-03T20:00:00",
          "2019-04-03T20:15:00",
          "2019-04-03T20:30:00",
          "2019-04-03T20:45:00",
          "2019-04-03T21:00:00",
          "2019-04-03T21:15:00",
          "2019-04-03T21:30:00",
          "2019-04-03T21:45:00",
          "2019-04-03T22:00:00",
          "2019-04-03T22:15:00",
          "2019-04-03T22:30:00",
          "2019-04-03T22:45:00",
          "2019-04-03T23:00:00",
          "2019-04-03T23:15:00",
          "2019-04-03T23:30:00",
          "2019-04-03T23:45:00",
          "2019-04-04T00:00:00",
          "2019-04-04T00:15:00",
          "2019-04-04T00:30:00",
          "2019-04-04T00:45:00",
          "2019-04-04T01:00:00",
          "2019-04-04T01:15:00",
          "2019-04-04T01:30:00",
          "2019-04-04T01:45:00",
          "2019-04-04T02:00:00",
          "2019-04-04T02:15:00",
          "2019-04-04T02:30:00",
          "2019-04-04T02:45:00",
          "2019-04-04T03:00:00",
          "2019-04-04T03:15:00",
          "2019-04-04T03:30:00",
          "2019-04-04T03:45:00",
          "2019-04-04T04:00:00",
          "2019-04-04T04:15:00",
          "2019-04-04T04:30:00",
          "2019-04-04T04:45:00",
          "2019-04-04T05:00:00",
          "2019-04-04T05:15:00",
          "2019-04-04T05:30:00",
          "2019-04-04T05:45:00",
          "2019-04-04T06:00:00",
          "2019-04-04T06:15:00",
          "2019-04-04T06:30:00",
          "2019-04-04T06:45:00",
          "2019-04-04T07:00:00",
          "2019-04-04T07:15:00"
         ],
         "xaxis": "x2",
         "yaxis": "y2"
        },
        {
         "marker": {
          "color": "MediumPurple",
          "size": 8
         },
         "mode": "markers",
         "showlegend": false,
         "type": "scatter",
         "x": [
          "2019-04-03T09:45:00",
          "2019-04-03T16:15:00",
          "2019-04-04T00:15:00",
          "2019-04-04T05:45:00"
         ],
         "xaxis": "x2",
         "y": [
          1.12554,
          1.12499,
          1.12482,
          1.12484
         ],
         "yaxis": "y2"
        },
        {
         "marker": {
          "color": "mediumblue",
          "size": 8
         },
         "mode": "markers",
         "showlegend": false,
         "type": "scatter",
         "x": [
          "2019-04-03T07:00:00",
          "2019-04-03T13:30:00",
          "2019-04-03T20:45:00",
          "2019-04-04T03:00:00",
          "2019-04-04T07:00:00"
         ],
         "xaxis": "x2",
         "y": [
          1.12159,
          1.12283,
          1.12331,
          1.12375,
          1.12341
         ],
         "yaxis": "y2"
        }
       ],
       "layout": {
        "autosize": true,
        "template": {
         "data": {
          "bar": [
           {
            "error_x": {
             "color": "#2a3f5f"
            },
            "error_y": {
             "color": "#2a3f5f"
            },
            "marker": {
             "line": {
              "color": "#E5ECF6",
              "width": 0.5
             }
            },
            "type": "bar"
           }
          ],
          "barpolar": [
           {
            "marker": {
             "line": {
              "color": "#E5ECF6",
              "width": 0.5
             }
            },
            "type": "barpolar"
           }
          ],
          "carpet": [
           {
            "aaxis": {
             "endlinecolor": "#2a3f5f",
             "gridcolor": "white",
             "linecolor": "white",
             "minorgridcolor": "white",
             "startlinecolor": "#2a3f5f"
            },
            "baxis": {
             "endlinecolor": "#2a3f5f",
             "gridcolor": "white",
             "linecolor": "white",
             "minorgridcolor": "white",
             "startlinecolor": "#2a3f5f"
            },
            "type": "carpet"
           }
          ],
          "choropleth": [
           {
            "colorbar": {
             "outlinewidth": 0,
             "ticks": ""
            },
            "type": "choropleth"
           }
          ],
          "contour": [
           {
            "colorbar": {
             "outlinewidth": 0,
             "ticks": ""
            },
            "colorscale": [
             [
              0,
              "#0d0887"
             ],
             [
              0.1111111111111111,
              "#46039f"
             ],
             [
              0.2222222222222222,
              "#7201a8"
             ],
             [
              0.3333333333333333,
              "#9c179e"
             ],
             [
              0.4444444444444444,
              "#bd3786"
             ],
             [
              0.5555555555555556,
              "#d8576b"
             ],
             [
              0.6666666666666666,
              "#ed7953"
             ],
             [
              0.7777777777777778,
              "#fb9f3a"
             ],
             [
              0.8888888888888888,
              "#fdca26"
             ],
             [
              1,
              "#f0f921"
             ]
            ],
            "type": "contour"
           }
          ],
          "contourcarpet": [
           {
            "colorbar": {
             "outlinewidth": 0,
             "ticks": ""
            },
            "type": "contourcarpet"
           }
          ],
          "heatmap": [
           {
            "colorbar": {
             "outlinewidth": 0,
             "ticks": ""
            },
            "colorscale": [
             [
              0,
              "#0d0887"
             ],
             [
              0.1111111111111111,
              "#46039f"
             ],
             [
              0.2222222222222222,
              "#7201a8"
             ],
             [
              0.3333333333333333,
              "#9c179e"
             ],
             [
              0.4444444444444444,
              "#bd3786"
             ],
             [
              0.5555555555555556,
              "#d8576b"
             ],
             [
              0.6666666666666666,
              "#ed7953"
             ],
             [
              0.7777777777777778,
              "#fb9f3a"
             ],
             [
              0.8888888888888888,
              "#fdca26"
             ],
             [
              1,
              "#f0f921"
             ]
            ],
            "type": "heatmap"
           }
          ],
          "heatmapgl": [
           {
            "colorbar": {
             "outlinewidth": 0,
             "ticks": ""
            },
            "colorscale": [
             [
              0,
              "#0d0887"
             ],
             [
              0.1111111111111111,
              "#46039f"
             ],
             [
              0.2222222222222222,
              "#7201a8"
             ],
             [
              0.3333333333333333,
              "#9c179e"
             ],
             [
              0.4444444444444444,
              "#bd3786"
             ],
             [
              0.5555555555555556,
              "#d8576b"
             ],
             [
              0.6666666666666666,
              "#ed7953"
             ],
             [
              0.7777777777777778,
              "#fb9f3a"
             ],
             [
              0.8888888888888888,
              "#fdca26"
             ],
             [
              1,
              "#f0f921"
             ]
            ],
            "type": "heatmapgl"
           }
          ],
          "histogram": [
           {
            "marker": {
             "colorbar": {
              "outlinewidth": 0,
              "ticks": ""
             }
            },
            "type": "histogram"
           }
          ],
          "histogram2d": [
           {
            "colorbar": {
             "outlinewidth": 0,
             "ticks": ""
            },
            "colorscale": [
             [
              0,
              "#0d0887"
             ],
             [
              0.1111111111111111,
              "#46039f"
             ],
             [
              0.2222222222222222,
              "#7201a8"
             ],
             [
              0.3333333333333333,
              "#9c179e"
             ],
             [
              0.4444444444444444,
              "#bd3786"
             ],
             [
              0.5555555555555556,
              "#d8576b"
             ],
             [
              0.6666666666666666,
              "#ed7953"
             ],
             [
              0.7777777777777778,
              "#fb9f3a"
             ],
             [
              0.8888888888888888,
              "#fdca26"
             ],
             [
              1,
              "#f0f921"
             ]
            ],
            "type": "histogram2d"
           }
          ],
          "histogram2dcontour": [
           {
            "colorbar": {
             "outlinewidth": 0,
             "ticks": ""
            },
            "colorscale": [
             [
              0,
              "#0d0887"
             ],
             [
              0.1111111111111111,
              "#46039f"
             ],
             [
              0.2222222222222222,
              "#7201a8"
             ],
             [
              0.3333333333333333,
              "#9c179e"
             ],
             [
              0.4444444444444444,
              "#bd3786"
             ],
             [
              0.5555555555555556,
              "#d8576b"
             ],
             [
              0.6666666666666666,
              "#ed7953"
             ],
             [
              0.7777777777777778,
              "#fb9f3a"
             ],
             [
              0.8888888888888888,
              "#fdca26"
             ],
             [
              1,
              "#f0f921"
             ]
            ],
            "type": "histogram2dcontour"
           }
          ],
          "mesh3d": [
           {
            "colorbar": {
             "outlinewidth": 0,
             "ticks": ""
            },
            "type": "mesh3d"
           }
          ],
          "parcoords": [
           {
            "line": {
             "colorbar": {
              "outlinewidth": 0,
              "ticks": ""
             }
            },
            "type": "parcoords"
           }
          ],
          "pie": [
           {
            "automargin": true,
            "type": "pie"
           }
          ],
          "scatter": [
           {
            "marker": {
             "colorbar": {
              "outlinewidth": 0,
              "ticks": ""
             }
            },
            "type": "scatter"
           }
          ],
          "scatter3d": [
           {
            "line": {
             "colorbar": {
              "outlinewidth": 0,
              "ticks": ""
             }
            },
            "marker": {
             "colorbar": {
              "outlinewidth": 0,
              "ticks": ""
             }
            },
            "type": "scatter3d"
           }
          ],
          "scattercarpet": [
           {
            "marker": {
             "colorbar": {
              "outlinewidth": 0,
              "ticks": ""
             }
            },
            "type": "scattercarpet"
           }
          ],
          "scattergeo": [
           {
            "marker": {
             "colorbar": {
              "outlinewidth": 0,
              "ticks": ""
             }
            },
            "type": "scattergeo"
           }
          ],
          "scattergl": [
           {
            "marker": {
             "colorbar": {
              "outlinewidth": 0,
              "ticks": ""
             }
            },
            "type": "scattergl"
           }
          ],
          "scattermapbox": [
           {
            "marker": {
             "colorbar": {
              "outlinewidth": 0,
              "ticks": ""
             }
            },
            "type": "scattermapbox"
           }
          ],
          "scatterpolar": [
           {
            "marker": {
             "colorbar": {
              "outlinewidth": 0,
              "ticks": ""
             }
            },
            "type": "scatterpolar"
           }
          ],
          "scatterpolargl": [
           {
            "marker": {
             "colorbar": {
              "outlinewidth": 0,
              "ticks": ""
             }
            },
            "type": "scatterpolargl"
           }
          ],
          "scatterternary": [
           {
            "marker": {
             "colorbar": {
              "outlinewidth": 0,
              "ticks": ""
             }
            },
            "type": "scatterternary"
           }
          ],
          "surface": [
           {
            "colorbar": {
             "outlinewidth": 0,
             "ticks": ""
            },
            "colorscale": [
             [
              0,
              "#0d0887"
             ],
             [
              0.1111111111111111,
              "#46039f"
             ],
             [
              0.2222222222222222,
              "#7201a8"
             ],
             [
              0.3333333333333333,
              "#9c179e"
             ],
             [
              0.4444444444444444,
              "#bd3786"
             ],
             [
              0.5555555555555556,
              "#d8576b"
             ],
             [
              0.6666666666666666,
              "#ed7953"
             ],
             [
              0.7777777777777778,
              "#fb9f3a"
             ],
             [
              0.8888888888888888,
              "#fdca26"
             ],
             [
              1,
              "#f0f921"
             ]
            ],
            "type": "surface"
           }
          ],
          "table": [
           {
            "cells": {
             "fill": {
              "color": "#EBF0F8"
             },
             "line": {
              "color": "white"
             }
            },
            "header": {
             "fill": {
              "color": "#C8D4E3"
             },
             "line": {
              "color": "white"
             }
            },
            "type": "table"
           }
          ]
         },
         "layout": {
          "annotationdefaults": {
           "arrowcolor": "#2a3f5f",
           "arrowhead": 0,
           "arrowwidth": 1
          },
          "coloraxis": {
           "colorbar": {
            "outlinewidth": 0,
            "ticks": ""
           }
          },
          "colorscale": {
           "diverging": [
            [
             0,
             "#8e0152"
            ],
            [
             0.1,
             "#c51b7d"
            ],
            [
             0.2,
             "#de77ae"
            ],
            [
             0.3,
             "#f1b6da"
            ],
            [
             0.4,
             "#fde0ef"
            ],
            [
             0.5,
             "#f7f7f7"
            ],
            [
             0.6,
             "#e6f5d0"
            ],
            [
             0.7,
             "#b8e186"
            ],
            [
             0.8,
             "#7fbc41"
            ],
            [
             0.9,
             "#4d9221"
            ],
            [
             1,
             "#276419"
            ]
           ],
           "sequential": [
            [
             0,
             "#0d0887"
            ],
            [
             0.1111111111111111,
             "#46039f"
            ],
            [
             0.2222222222222222,
             "#7201a8"
            ],
            [
             0.3333333333333333,
             "#9c179e"
            ],
            [
             0.4444444444444444,
             "#bd3786"
            ],
            [
             0.5555555555555556,
             "#d8576b"
            ],
            [
             0.6666666666666666,
             "#ed7953"
            ],
            [
             0.7777777777777778,
             "#fb9f3a"
            ],
            [
             0.8888888888888888,
             "#fdca26"
            ],
            [
             1,
             "#f0f921"
            ]
           ],
           "sequentialminus": [
            [
             0,
             "#0d0887"
            ],
            [
             0.1111111111111111,
             "#46039f"
            ],
            [
             0.2222222222222222,
             "#7201a8"
            ],
            [
             0.3333333333333333,
             "#9c179e"
            ],
            [
             0.4444444444444444,
             "#bd3786"
            ],
            [
             0.5555555555555556,
             "#d8576b"
            ],
            [
             0.6666666666666666,
             "#ed7953"
            ],
            [
             0.7777777777777778,
             "#fb9f3a"
            ],
            [
             0.8888888888888888,
             "#fdca26"
            ],
            [
             1,
             "#f0f921"
            ]
           ]
          },
          "colorway": [
           "#636efa",
           "#EF553B",
           "#00cc96",
           "#ab63fa",
           "#FFA15A",
           "#19d3f3",
           "#FF6692",
           "#B6E880",
           "#FF97FF",
           "#FECB52"
          ],
          "font": {
           "color": "#2a3f5f"
          },
          "geo": {
           "bgcolor": "white",
           "lakecolor": "white",
           "landcolor": "#E5ECF6",
           "showlakes": true,
           "showland": true,
           "subunitcolor": "white"
          },
          "hoverlabel": {
           "align": "left"
          },
          "hovermode": "closest",
          "mapbox": {
           "style": "light"
          },
          "paper_bgcolor": "white",
          "plot_bgcolor": "#E5ECF6",
          "polar": {
           "angularaxis": {
            "gridcolor": "white",
            "linecolor": "white",
            "ticks": ""
           },
           "bgcolor": "#E5ECF6",
           "radialaxis": {
            "gridcolor": "white",
            "linecolor": "white",
            "ticks": ""
           }
          },
          "scene": {
           "xaxis": {
            "backgroundcolor": "#E5ECF6",
            "gridcolor": "white",
            "gridwidth": 2,
            "linecolor": "white",
            "showbackground": true,
            "ticks": "",
            "zerolinecolor": "white"
           },
           "yaxis": {
            "backgroundcolor": "#E5ECF6",
            "gridcolor": "white",
            "gridwidth": 2,
            "linecolor": "white",
            "showbackground": true,
            "ticks": "",
            "zerolinecolor": "white"
           },
           "zaxis": {
            "backgroundcolor": "#E5ECF6",
            "gridcolor": "white",
            "gridwidth": 2,
            "linecolor": "white",
            "showbackground": true,
            "ticks": "",
            "zerolinecolor": "white"
           }
          },
          "shapedefaults": {
           "line": {
            "color": "#2a3f5f"
           }
          },
          "ternary": {
           "aaxis": {
            "gridcolor": "white",
            "linecolor": "white",
            "ticks": ""
           },
           "baxis": {
            "gridcolor": "white",
            "linecolor": "white",
            "ticks": ""
           },
           "bgcolor": "#E5ECF6",
           "caxis": {
            "gridcolor": "white",
            "linecolor": "white",
            "ticks": ""
           }
          },
          "title": {
           "x": 0.05
          },
          "xaxis": {
           "automargin": true,
           "gridcolor": "white",
           "linecolor": "white",
           "ticks": "",
           "title": {
            "standoff": 15
           },
           "zerolinecolor": "white",
           "zerolinewidth": 2
          },
          "yaxis": {
           "automargin": true,
           "gridcolor": "white",
           "linecolor": "white",
           "ticks": "",
           "title": {
            "standoff": 15
           },
           "zerolinecolor": "white",
           "zerolinewidth": 2
          }
         }
        },
        "xaxis": {
         "anchor": "y",
         "autorange": true,
         "domain": [
          0,
          0.45
         ],
         "range": [
          "2019-01-18 07:51:40.0337",
          "2019-01-21 15:08:19.9663"
         ],
         "rangeslider": {
          "visible": false,
          "yaxis": {}
         },
         "type": "date"
        },
        "xaxis2": {
         "anchor": "y2",
         "autorange": true,
         "domain": [
          0.55,
          1
         ],
         "range": [
          "2019-04-03 05:24:34.2973",
          "2019-04-04 08:35:25.7027"
         ],
         "rangeslider": {
          "visible": false,
          "yaxis2": {}
         },
         "type": "date"
        },
        "yaxis": {
         "anchor": "x",
         "autorange": true,
         "domain": [
          0,
          1
         ],
         "range": [
          1.134940278969957,
          1.141649721030043
         ],
         "type": "linear"
        },
        "yaxis2": {
         "anchor": "x2",
         "autorange": true,
         "domain": [
          0,
          1
         ],
         "range": [
          1.121276373390558,
          1.125853626609442
         ],
         "type": "linear"
        }
       }
      },
      "image/png": "[encoded data removed]",
      "text/html": [
       "<div>                            <div id=\"cd4ca063-7940-4bfe-accc-6a775dbfac63\" class=\"plotly-graph-div\" style=\"height:525px; width:100%;\"></div>            <script type=\"text/javascript\">                require([\"plotly\"], function(Plotly) {                    window.PLOTLYENV=window.PLOTLYENV || {};                                    if (document.getElementById(\"cd4ca063-7940-4bfe-accc-6a775dbfac63\")) {                    Plotly.newPlot(                        \"cd4ca063-7940-4bfe-accc-6a775dbfac63\",                        [{\"close\": [1.14054, 1.14042, 1.14065, 1.14068, 1.14036, 1.14026, 1.14033, 1.14019, 1.13984, 1.13976, 1.13921, 1.13805, 1.13749, 1.1377, 1.13643, 1.13621, 1.1368, 1.13585, 1.13577, 1.13653, 1.13629, 1.13606, 1.13615, 1.13591, 1.1359, 1.1366, 1.13686, 1.13666, 1.1366, 1.13666, 1.13658, 1.13725, 1.13706, 1.1365, 1.13645, 1.13649, 1.13658, 1.13658, 1.13656, 1.13654, 1.13662, 1.137, 1.13692, 1.13651, 1.13699, 1.13636, 1.13642, 1.13672, 1.13681, 1.1367, 1.13668, 1.13691, 1.13666, 1.13659, 1.13768, 1.13751, 1.1375, 1.13751, 1.13733, 1.13742, 1.13762, 1.13781, 1.1377, 1.13785, 1.13801, 1.13775, 1.13771, 1.13766, 1.13765, 1.13759, 1.13752, 1.13756, 1.13761, 1.13796, 1.13754, 1.13766, 1.13776, 1.13786, 1.13775, 1.13788, 1.13812, 1.13805, 1.13846, 1.1385, 1.13844, 1.13854, 1.13852, 1.13811, 1.1377, 1.13755, 1.13761, 1.13741, 1.13697, 1.1372, 1.13755, 1.13761, 1.13798, 1.13778, 1.13737, 1.13704, 1.1369], \"high\": [1.14108, 1.14068, 1.14066, 1.14119, 1.141, 1.14071, 1.14053, 1.14051, 1.14034, 1.14014, 1.1398, 1.13934, 1.13843, 1.13814, 1.13831, 1.13701, 1.13687, 1.13686, 1.13608, 1.13654, 1.1367, 1.13646, 1.13626, 1.13619, 1.13608, 1.1366, 1.13688, 1.13691, 1.1369, 1.13669, 1.1368, 1.13729, 1.13726, 1.13707, 1.13662, 1.13652, 1.13659, 1.13667, 1.13669, 1.13664, 1.13665, 1.137, 1.137, 1.13702, 1.13703, 1.13699, 1.13656, 1.13714, 1.13704, 1.13703, 1.13675, 1.13691, 1.13691, 1.13681, 1.1377, 1.13783, 1.13763, 1.13766, 1.13766, 1.13765, 1.13781, 1.138, 1.13792, 1.13789, 1.13806, 1.1381, 1.1378, 1.13771, 1.13776, 1.13777, 1.13762, 1.1376, 1.13764, 1.13796, 1.13796, 1.1377, 1.13789, 1.13796, 1.13795, 1.138, 1.13813, 1.13814, 1.13922, 1.13866, 1.13857, 1.13882, 1.13875, 1.13867, 1.13816, 1.13775, 1.13771, 1.13764, 1.13741, 1.13731, 1.13757, 1.13785, 1.13809, 1.13801, 1.13783, 1.13757, 1.13721], \"low\": [1.14049, 1.14019, 1.1403, 1.14055, 1.14021, 1.14009, 1.14019, 1.14012, 1.13971, 1.13969, 1.13903, 1.1375, 1.13747, 1.13674, 1.13643, 1.13612, 1.13612, 1.13577, 1.1354, 1.13567, 1.13576, 1.13582, 1.13575, 1.13574, 1.13575, 1.13586, 1.13627, 1.13666, 1.13652, 1.13638, 1.1365, 1.13655, 1.13701, 1.13648, 1.13635, 1.1363, 1.13629, 1.13643, 1.13654, 1.13649, 1.13615, 1.13662, 1.13685, 1.13638, 1.13651, 1.13631, 1.1363, 1.13637, 1.1366, 1.13668, 1.13657, 1.13662, 1.13655, 1.13654, 1.13654, 1.13742, 1.13733, 1.13729, 1.13728, 1.13733, 1.13719, 1.13761, 1.13761, 1.13765, 1.13779, 1.13771, 1.13759, 1.13743, 1.1376, 1.13754, 1.13739, 1.1374, 1.13743, 1.13749, 1.13747, 1.13745, 1.1376, 1.13762, 1.13759, 1.13759, 1.13788, 1.13797, 1.13766, 1.13807, 1.13814, 1.13812, 1.13811, 1.13793, 1.13746, 1.13731, 1.13715, 1.13704, 1.13667, 1.13689, 1.13717, 1.13744, 1.13759, 1.13772, 1.13734, 1.13704, 1.13683], \"open\": [1.14103, 1.14054, 1.14042, 1.14065, 1.14068, 1.14036, 1.14026, 1.14033, 1.14019, 1.13984, 1.13976, 1.13921, 1.13805, 1.13749, 1.1377, 1.13643, 1.13621, 1.1368, 1.13585, 1.13577, 1.13653, 1.13629, 1.13606, 1.13615, 1.13591, 1.1359, 1.1366, 1.13686, 1.13666, 1.1366, 1.13666, 1.13658, 1.13725, 1.13706, 1.1365, 1.13645, 1.13649, 1.13658, 1.13658, 1.13656, 1.13654, 1.13662, 1.137, 1.13692, 1.13651, 1.13699, 1.13636, 1.13642, 1.13672, 1.13681, 1.1367, 1.13668, 1.13691, 1.13666, 1.13659, 1.13768, 1.13751, 1.1375, 1.13751, 1.13733, 1.13742, 1.13762, 1.13781, 1.1377, 1.13785, 1.13801, 1.13775, 1.13771, 1.13766, 1.13765, 1.13759, 1.13752, 1.13756, 1.13761, 1.13796, 1.13754, 1.13766, 1.13776, 1.13786, 1.13775, 1.13788, 1.13812, 1.13805, 1.13846, 1.1385, 1.13844, 1.13854, 1.13852, 1.13811, 1.1377, 1.13755, 1.13761, 1.13741, 1.13697, 1.1372, 1.13755, 1.13761, 1.13798, 1.13778, 1.13737, 1.13704], \"showlegend\": false, \"type\": \"candlestick\", \"x\": [\"2019-01-18T11:45:00\", \"2019-01-18T12:00:00\", \"2019-01-18T12:15:00\", \"2019-01-18T12:30:00\", \"2019-01-18T12:45:00\", \"2019-01-18T13:00:00\", \"2019-01-18T13:15:00\", \"2019-01-18T13:30:00\", \"2019-01-18T13:45:00\", \"2019-01-18T14:00:00\", \"2019-01-18T14:15:00\", \"2019-01-18T14:30:00\", \"2019-01-18T14:45:00\", \"2019-01-18T15:00:00\", \"2019-01-18T15:15:00\", \"2019-01-18T15:30:00\", \"2019-01-18T15:45:00\", \"2019-01-18T16:00:00\", \"2019-01-18T16:15:00\", \"2019-01-18T16:30:00\", \"2019-01-18T16:45:00\", \"2019-01-18T17:00:00\", \"2019-01-18T17:15:00\", \"2019-01-18T17:30:00\", \"2019-01-18T17:45:00\", \"2019-01-18T18:00:00\", \"2019-01-18T18:15:00\", \"2019-01-18T18:30:00\", \"2019-01-18T18:45:00\", \"2019-01-18T19:00:00\", \"2019-01-18T19:15:00\", \"2019-01-18T19:30:00\", \"2019-01-18T19:45:00\", \"2019-01-18T20:00:00\", \"2019-01-18T20:15:00\", \"2019-01-18T20:30:00\", \"2019-01-18T20:45:00\", \"2019-01-18T21:00:00\", \"2019-01-18T21:15:00\", \"2019-01-18T21:30:00\", \"2019-01-18T21:45:00\", \"2019-01-20T19:30:00\", \"2019-01-20T19:45:00\", \"2019-01-20T20:00:00\", \"2019-01-20T20:30:00\", \"2019-01-20T21:45:00\", \"2019-01-20T22:00:00\", \"2019-01-20T22:15:00\", \"2019-01-20T22:30:00\", \"2019-01-20T22:45:00\", \"2019-01-20T23:00:00\", \"2019-01-20T23:15:00\", \"2019-01-20T23:30:00\", \"2019-01-20T23:45:00\", \"2019-01-21T00:00:00\", \"2019-01-21T00:15:00\", \"2019-01-21T00:30:00\", \"2019-01-21T00:45:00\", \"2019-01-21T01:00:00\", \"2019-01-21T01:15:00\", \"2019-01-21T01:30:00\", \"2019-01-21T01:45:00\", \"2019-01-21T02:00:00\", \"2019-01-21T02:15:00\", \"2019-01-21T02:30:00\", \"2019-01-21T02:45:00\", \"2019-01-21T03:00:00\", \"2019-01-21T03:15:00\", \"2019-01-21T03:30:00\", \"2019-01-21T03:45:00\", \"2019-01-21T04:00:00\", \"2019-01-21T04:15:00\", \"2019-01-21T04:30:00\", \"2019-01-21T04:45:00\", \"2019-01-21T05:00:00\", \"2019-01-21T05:15:00\", \"2019-01-21T05:30:00\", \"2019-01-21T05:45:00\", \"2019-01-21T06:00:00\", \"2019-01-21T06:15:00\", \"2019-01-21T06:30:00\", \"2019-01-21T06:45:00\", \"2019-01-21T07:00:00\", \"2019-01-21T07:15:00\", \"2019-01-21T07:30:00\", \"2019-01-21T07:45:00\", \"2019-01-21T08:00:00\", \"2019-01-21T08:15:00\", \"2019-01-21T08:30:00\", \"2019-01-21T08:45:00\", \"2019-01-21T09:00:00\", \"2019-01-21T09:15:00\", \"2019-01-21T09:30:00\", \"2019-01-21T09:45:00\", \"2019-01-21T10:00:00\", \"2019-01-21T10:15:00\", \"2019-01-21T10:30:00\", \"2019-01-21T10:45:00\", \"2019-01-21T11:00:00\", \"2019-01-21T11:15:00\", \"2019-01-21T11:30:00\"], \"xaxis\": \"x\", \"yaxis\": \"y\"}, {\"marker\": {\"color\": \"MediumPurple\", \"size\": 8}, \"mode\": \"markers\", \"showlegend\": false, \"type\": \"scatter\", \"x\": [\"2019-01-18T12:30:00\", \"2019-01-18T15:15:00\", \"2019-01-18T19:30:00\", \"2019-01-21T02:45:00\", \"2019-01-21T07:00:00\", \"2019-01-21T10:30:00\"], \"xaxis\": \"x\", \"y\": [1.14119, 1.13831, 1.13729, 1.1381, 1.13922, 1.13809], \"yaxis\": \"y\"}, {\"marker\": {\"color\": \"mediumblue\", \"size\": 8}, \"mode\": \"markers\", \"showlegend\": false, \"type\": \"scatter\", \"x\": [\"2019-01-18T13:00:00\", \"2019-01-18T16:15:00\", \"2019-01-18T20:45:00\", \"2019-01-21T04:00:00\", \"2019-01-21T09:30:00\"], \"xaxis\": \"x\", \"y\": [1.14009, 1.1354, 1.13629, 1.13739, 1.13667], \"yaxis\": \"y\"}, {\"close\": [1.12215, 1.12196, 1.1224, 1.12165, 1.1225, 1.12315, 1.12381, 1.12405, 1.1236, 1.1241, 1.1244, 1.12443, 1.12464, 1.12518, 1.12487, 1.1247, 1.12471, 1.12477, 1.12439, 1.12469, 1.1249, 1.12465, 1.1247, 1.12442, 1.12423, 1.12396, 1.12351, 1.12353, 1.12331, 1.12305, 1.12338, 1.12349, 1.12268, 1.12298, 1.12303, 1.12419, 1.12351, 1.12376, 1.12425, 1.12415, 1.12481, 1.12455, 1.12451, 1.12467, 1.12436, 1.12466, 1.12467, 1.12421, 1.12418, 1.12441, 1.12398, 1.1241, 1.12417, 1.12397, 1.12392, 1.12361, 1.12359, 1.12343, 1.12333, 1.12386, 1.12381, 1.12392, 1.1239, 1.12404, 1.12415, 1.12414, 1.12428, 1.12461, 1.12457, 1.12461, 1.12455, 1.12468, 1.12478, 1.12464, 1.12452, 1.1246, 1.12455, 1.12452, 1.1245, 1.12446, 1.12432, 1.12416, 1.12388, 1.12397, 1.12401, 1.12422, 1.12429, 1.12431, 1.1243, 1.12422, 1.12417, 1.12419, 1.12421, 1.12437, 1.12483, 1.12396, 1.1241, 1.1241, 1.12397, 1.12358, 1.1244], \"high\": [1.12278, 1.12253, 1.12241, 1.12262, 1.12256, 1.12317, 1.12435, 1.12437, 1.12414, 1.12424, 1.12457, 1.1247, 1.12537, 1.12518, 1.12554, 1.12489, 1.125, 1.12489, 1.12479, 1.12489, 1.12511, 1.12506, 1.12479, 1.12474, 1.12511, 1.1244, 1.12398, 1.12364, 1.12378, 1.1234, 1.12346, 1.12436, 1.12368, 1.12349, 1.12343, 1.12432, 1.12426, 1.12382, 1.12436, 1.12445, 1.12499, 1.12485, 1.12476, 1.1249, 1.12467, 1.12471, 1.12482, 1.12476, 1.12426, 1.1245, 1.12446, 1.12423, 1.12419, 1.12418, 1.12408, 1.12392, 1.12365, 1.12359, 1.12345, 1.12411, 1.12397, 1.12395, 1.12399, 1.12416, 1.12419, 1.12418, 1.12432, 1.12462, 1.12466, 1.12463, 1.12462, 1.12478, 1.12482, 1.12482, 1.12472, 1.1246, 1.12462, 1.12459, 1.12457, 1.12451, 1.12458, 1.12436, 1.12418, 1.12399, 1.12408, 1.12425, 1.12432, 1.12434, 1.12439, 1.12431, 1.12428, 1.12422, 1.12438, 1.12439, 1.12484, 1.12483, 1.12438, 1.12433, 1.12421, 1.12397, 1.12449], \"low\": [1.12214, 1.12187, 1.12181, 1.12159, 1.12163, 1.12234, 1.12314, 1.12377, 1.12349, 1.1233, 1.12405, 1.12395, 1.12438, 1.12456, 1.12486, 1.12454, 1.12459, 1.12467, 1.12439, 1.12428, 1.12457, 1.12455, 1.12439, 1.12422, 1.12414, 1.12387, 1.12347, 1.12318, 1.12318, 1.12283, 1.12293, 1.12338, 1.12257, 1.12259, 1.12275, 1.1229, 1.12347, 1.12313, 1.12372, 1.12398, 1.12405, 1.12445, 1.12445, 1.12449, 1.12433, 1.12422, 1.12457, 1.12421, 1.12391, 1.12417, 1.12397, 1.12397, 1.12403, 1.12383, 1.12387, 1.12359, 1.12357, 1.12341, 1.12331, 1.12333, 1.12354, 1.1236, 1.12377, 1.12377, 1.12397, 1.1241, 1.12411, 1.12426, 1.12453, 1.12454, 1.12452, 1.12451, 1.12467, 1.12457, 1.12446, 1.12443, 1.12451, 1.12446, 1.12446, 1.12436, 1.12431, 1.12406, 1.12382, 1.12375, 1.12389, 1.12401, 1.12416, 1.12412, 1.12421, 1.12421, 1.12411, 1.12406, 1.12412, 1.12418, 1.12437, 1.12352, 1.1239, 1.124, 1.12395, 1.12341, 1.12352], \"open\": [1.12265, 1.12215, 1.12196, 1.1224, 1.12165, 1.1225, 1.12315, 1.12381, 1.12405, 1.1236, 1.1241, 1.1244, 1.12443, 1.12464, 1.12518, 1.12487, 1.1247, 1.12471, 1.12477, 1.12439, 1.12469, 1.1249, 1.12465, 1.1247, 1.12442, 1.12423, 1.12396, 1.12351, 1.12353, 1.12331, 1.12305, 1.12338, 1.12349, 1.12268, 1.12298, 1.12303, 1.12419, 1.12351, 1.12376, 1.12425, 1.12415, 1.12481, 1.12455, 1.12451, 1.12467, 1.12436, 1.12466, 1.12467, 1.12421, 1.12418, 1.12441, 1.12398, 1.1241, 1.12417, 1.12397, 1.12392, 1.12361, 1.12359, 1.12343, 1.12333, 1.12386, 1.12381, 1.12392, 1.1239, 1.12404, 1.12415, 1.12414, 1.12428, 1.12461, 1.12457, 1.12461, 1.12455, 1.12468, 1.12478, 1.12464, 1.12452, 1.1246, 1.12455, 1.12452, 1.1245, 1.12446, 1.12432, 1.12416, 1.12388, 1.12397, 1.12401, 1.12422, 1.12429, 1.12431, 1.1243, 1.12422, 1.12417, 1.12419, 1.12421, 1.12437, 1.12483, 1.12396, 1.1241, 1.1241, 1.12397, 1.12358], \"showlegend\": false, \"type\": \"candlestick\", \"x\": [\"2019-04-03T06:15:00\", \"2019-04-03T06:30:00\", \"2019-04-03T06:45:00\", \"2019-04-03T07:00:00\", \"2019-04-03T07:15:00\", \"2019-04-03T07:30:00\", \"2019-04-03T07:45:00\", \"2019-04-03T08:00:00\", \"2019-04-03T08:15:00\", \"2019-04-03T08:30:00\", \"2019-04-03T08:45:00\", \"2019-04-03T09:00:00\", \"2019-04-03T09:15:00\", \"2019-04-03T09:30:00\", \"2019-04-03T09:45:00\", \"2019-04-03T10:00:00\", \"2019-04-03T10:15:00\", \"2019-04-03T10:30:00\", \"2019-04-03T10:45:00\", \"2019-04-03T11:00:00\", \"2019-04-03T11:15:00\", \"2019-04-03T11:30:00\", \"2019-04-03T11:45:00\", \"2019-04-03T12:00:00\", \"2019-04-03T12:15:00\", \"2019-04-03T12:30:00\", \"2019-04-03T12:45:00\", \"2019-04-03T13:00:00\", \"2019-04-03T13:15:00\", \"2019-04-03T13:30:00\", \"2019-04-03T13:45:00\", \"2019-04-03T14:00:00\", \"2019-04-03T14:15:00\", \"2019-04-03T14:30:00\", \"2019-04-03T14:45:00\", \"2019-04-03T15:00:00\", \"2019-04-03T15:15:00\", \"2019-04-03T15:30:00\", \"2019-04-03T15:45:00\", \"2019-04-03T16:00:00\", \"2019-04-03T16:15:00\", \"2019-04-03T16:30:00\", \"2019-04-03T16:45:00\", \"2019-04-03T17:00:00\", \"2019-04-03T17:15:00\", \"2019-04-03T17:30:00\", \"2019-04-03T17:45:00\", \"2019-04-03T18:00:00\", \"2019-04-03T18:15:00\", \"2019-04-03T18:30:00\", \"2019-04-03T18:45:00\", \"2019-04-03T19:00:00\", \"2019-04-03T19:15:00\", \"2019-04-03T19:30:00\", \"2019-04-03T19:45:00\", \"2019-04-03T20:00:00\", \"2019-04-03T20:15:00\", \"2019-04-03T20:30:00\", \"2019-04-03T20:45:00\", \"2019-04-03T21:00:00\", \"2019-04-03T21:15:00\", \"2019-04-03T21:30:00\", \"2019-04-03T21:45:00\", \"2019-04-03T22:00:00\", \"2019-04-03T22:15:00\", \"2019-04-03T22:30:00\", \"2019-04-03T22:45:00\", \"2019-04-03T23:00:00\", \"2019-04-03T23:15:00\", \"2019-04-03T23:30:00\", \"2019-04-03T23:45:00\", \"2019-04-04T00:00:00\", \"2019-04-04T00:15:00\", \"2019-04-04T00:30:00\", \"2019-04-04T00:45:00\", \"2019-04-04T01:00:00\", \"2019-04-04T01:15:00\", \"2019-04-04T01:30:00\", \"2019-04-04T01:45:00\", \"2019-04-04T02:00:00\", \"2019-04-04T02:15:00\", \"2019-04-04T02:30:00\", \"2019-04-04T02:45:00\", \"2019-04-04T03:00:00\", \"2019-04-04T03:15:00\", \"2019-04-04T03:30:00\", \"2019-04-04T03:45:00\", \"2019-04-04T04:00:00\", \"2019-04-04T04:15:00\", \"2019-04-04T04:30:00\", \"2019-04-04T04:45:00\", \"2019-04-04T05:00:00\", \"2019-04-04T05:15:00\", \"2019-04-04T05:30:00\", \"2019-04-04T05:45:00\", \"2019-04-04T06:00:00\", \"2019-04-04T06:15:00\", \"2019-04-04T06:30:00\", \"2019-04-04T06:45:00\", \"2019-04-04T07:00:00\", \"2019-04-04T07:15:00\"], \"xaxis\": \"x2\", \"yaxis\": \"y2\"}, {\"marker\": {\"color\": \"MediumPurple\", \"size\": 8}, \"mode\": \"markers\", \"showlegend\": false, \"type\": \"scatter\", \"x\": [\"2019-04-03T09:45:00\", \"2019-04-03T16:15:00\", \"2019-04-04T00:15:00\", \"2019-04-04T05:45:00\"], \"xaxis\": \"x2\", \"y\": [1.12554, 1.12499, 1.12482, 1.12484], \"yaxis\": \"y2\"}, {\"marker\": {\"color\": \"mediumblue\", \"size\": 8}, \"mode\": \"markers\", \"showlegend\": false, \"type\": \"scatter\", \"x\": [\"2019-04-03T07:00:00\", \"2019-04-03T13:30:00\", \"2019-04-03T20:45:00\", \"2019-04-04T03:00:00\", \"2019-04-04T07:00:00\"], \"xaxis\": \"x2\", \"y\": [1.12159, 1.12283, 1.12331, 1.12375, 1.12341], \"yaxis\": \"y2\"}],                        {\"template\": {\"data\": {\"bar\": [{\"error_x\": {\"color\": \"#2a3f5f\"}, \"error_y\": {\"color\": \"#2a3f5f\"}, \"marker\": {\"line\": {\"color\": \"#E5ECF6\", \"width\": 0.5}}, \"type\": \"bar\"}], \"barpolar\": [{\"marker\": {\"line\": {\"color\": \"#E5ECF6\", \"width\": 0.5}}, \"type\": \"barpolar\"}], \"carpet\": [{\"aaxis\": {\"endlinecolor\": \"#2a3f5f\", \"gridcolor\": \"white\", \"linecolor\": \"white\", \"minorgridcolor\": \"white\", \"startlinecolor\": \"#2a3f5f\"}, \"baxis\": {\"endlinecolor\": \"#2a3f5f\", \"gridcolor\": \"white\", \"linecolor\": \"white\", \"minorgridcolor\": \"white\", \"startlinecolor\": \"#2a3f5f\"}, \"type\": \"carpet\"}], \"choropleth\": [{\"colorbar\": {\"outlinewidth\": 0, \"ticks\": \"\"}, \"type\": \"choropleth\"}], \"contour\": [{\"colorbar\": {\"outlinewidth\": 0, \"ticks\": \"\"}, \"colorscale\": [[0.0, \"#0d0887\"], [0.1111111111111111, \"#46039f\"], [0.2222222222222222, \"#7201a8\"], [0.3333333333333333, \"#9c179e\"], [0.4444444444444444, \"#bd3786\"], [0.5555555555555556, \"#d8576b\"], [0.6666666666666666, \"#ed7953\"], [0.7777777777777778, \"#fb9f3a\"], [0.8888888888888888, \"#fdca26\"], [1.0, \"#f0f921\"]], \"type\": \"contour\"}], \"contourcarpet\": [{\"colorbar\": {\"outlinewidth\": 0, \"ticks\": \"\"}, \"type\": \"contourcarpet\"}], \"heatmap\": [{\"colorbar\": {\"outlinewidth\": 0, \"ticks\": \"\"}, \"colorscale\": [[0.0, \"#0d0887\"], [0.1111111111111111, \"#46039f\"], [0.2222222222222222, \"#7201a8\"], [0.3333333333333333, \"#9c179e\"], [0.4444444444444444, \"#bd3786\"], [0.5555555555555556, \"#d8576b\"], [0.6666666666666666, \"#ed7953\"], [0.7777777777777778, \"#fb9f3a\"], [0.8888888888888888, \"#fdca26\"], [1.0, \"#f0f921\"]], \"type\": \"heatmap\"}], \"heatmapgl\": [{\"colorbar\": {\"outlinewidth\": 0, \"ticks\": \"\"}, \"colorscale\": [[0.0, \"#0d0887\"], [0.1111111111111111, \"#46039f\"], [0.2222222222222222, \"#7201a8\"], [0.3333333333333333, \"#9c179e\"], [0.4444444444444444, \"#bd3786\"], [0.5555555555555556, \"#d8576b\"], [0.6666666666666666, \"#ed7953\"], [0.7777777777777778, \"#fb9f3a\"], [0.8888888888888888, \"#fdca26\"], [1.0, \"#f0f921\"]], \"type\": \"heatmapgl\"}], \"histogram\": [{\"marker\": {\"colorbar\": {\"outlinewidth\": 0, \"ticks\": \"\"}}, \"type\": \"histogram\"}], \"histogram2d\": [{\"colorbar\": {\"outlinewidth\": 0, \"ticks\": \"\"}, \"colorscale\": [[0.0, \"#0d0887\"], [0.1111111111111111, \"#46039f\"], [0.2222222222222222, \"#7201a8\"], [0.3333333333333333, \"#9c179e\"], [0.4444444444444444, \"#bd3786\"], [0.5555555555555556, \"#d8576b\"], [0.6666666666666666, \"#ed7953\"], [0.7777777777777778, \"#fb9f3a\"], [0.8888888888888888, \"#fdca26\"], [1.0, \"#f0f921\"]], \"type\": \"histogram2d\"}], \"histogram2dcontour\": [{\"colorbar\": {\"outlinewidth\": 0, \"ticks\": \"\"}, \"colorscale\": [[0.0, \"#0d0887\"], [0.1111111111111111, \"#46039f\"], [0.2222222222222222, \"#7201a8\"], [0.3333333333333333, \"#9c179e\"], [0.4444444444444444, \"#bd3786\"], [0.5555555555555556, \"#d8576b\"], [0.6666666666666666, \"#ed7953\"], [0.7777777777777778, \"#fb9f3a\"], [0.8888888888888888, \"#fdca26\"], [1.0, \"#f0f921\"]], \"type\": \"histogram2dcontour\"}], \"mesh3d\": [{\"colorbar\": {\"outlinewidth\": 0, \"ticks\": \"\"}, \"type\": \"mesh3d\"}], \"parcoords\": [{\"line\": {\"colorbar\": {\"outlinewidth\": 0, \"ticks\": \"\"}}, \"type\": \"parcoords\"}], \"pie\": [{\"automargin\": true, \"type\": \"pie\"}], \"scatter\": [{\"marker\": {\"colorbar\": {\"outlinewidth\": 0, \"ticks\": \"\"}}, \"type\": \"scatter\"}], \"scatter3d\": [{\"line\": {\"colorbar\": {\"outlinewidth\": 0, \"ticks\": \"\"}}, \"marker\": {\"colorbar\": {\"outlinewidth\": 0, \"ticks\": \"\"}}, \"type\": \"scatter3d\"}], \"scattercarpet\": [{\"marker\": {\"colorbar\": {\"outlinewidth\": 0, \"ticks\": \"\"}}, \"type\": \"scattercarpet\"}], \"scattergeo\": [{\"marker\": {\"colorbar\": {\"outlinewidth\": 0, \"ticks\": \"\"}}, \"type\": \"scattergeo\"}], \"scattergl\": [{\"marker\": {\"colorbar\": {\"outlinewidth\": 0, \"ticks\": \"\"}}, \"type\": \"scattergl\"}], \"scattermapbox\": [{\"marker\": {\"colorbar\": {\"outlinewidth\": 0, \"ticks\": \"\"}}, \"type\": \"scattermapbox\"}], \"scatterpolar\": [{\"marker\": {\"colorbar\": {\"outlinewidth\": 0, \"ticks\": \"\"}}, \"type\": \"scatterpolar\"}], \"scatterpolargl\": [{\"marker\": {\"colorbar\": {\"outlinewidth\": 0, \"ticks\": \"\"}}, \"type\": \"scatterpolargl\"}], \"scatterternary\": [{\"marker\": {\"colorbar\": {\"outlinewidth\": 0, \"ticks\": \"\"}}, \"type\": \"scatterternary\"}], \"surface\": [{\"colorbar\": {\"outlinewidth\": 0, \"ticks\": \"\"}, \"colorscale\": [[0.0, \"#0d0887\"], [0.1111111111111111, \"#46039f\"], [0.2222222222222222, \"#7201a8\"], [0.3333333333333333, \"#9c179e\"], [0.4444444444444444, \"#bd3786\"], [0.5555555555555556, \"#d8576b\"], [0.6666666666666666, \"#ed7953\"], [0.7777777777777778, \"#fb9f3a\"], [0.8888888888888888, \"#fdca26\"], [1.0, \"#f0f921\"]], \"type\": \"surface\"}], \"table\": [{\"cells\": {\"fill\": {\"color\": \"#EBF0F8\"}, \"line\": {\"color\": \"white\"}}, \"header\": {\"fill\": {\"color\": \"#C8D4E3\"}, \"line\": {\"color\": \"white\"}}, \"type\": \"table\"}]}, \"layout\": {\"annotationdefaults\": {\"arrowcolor\": \"#2a3f5f\", \"arrowhead\": 0, \"arrowwidth\": 1}, \"coloraxis\": {\"colorbar\": {\"outlinewidth\": 0, \"ticks\": \"\"}}, \"colorscale\": {\"diverging\": [[0, \"#8e0152\"], [0.1, \"#c51b7d\"], [0.2, \"#de77ae\"], [0.3, \"#f1b6da\"], [0.4, \"#fde0ef\"], [0.5, \"#f7f7f7\"], [0.6, \"#e6f5d0\"], [0.7, \"#b8e186\"], [0.8, \"#7fbc41\"], [0.9, \"#4d9221\"], [1, \"#276419\"]], \"sequential\": [[0.0, \"#0d0887\"], [0.1111111111111111, \"#46039f\"], [0.2222222222222222, \"#7201a8\"], [0.3333333333333333, \"#9c179e\"], [0.4444444444444444, \"#bd3786\"], [0.5555555555555556, \"#d8576b\"], [0.6666666666666666, \"#ed7953\"], [0.7777777777777778, \"#fb9f3a\"], [0.8888888888888888, \"#fdca26\"], [1.0, \"#f0f921\"]], \"sequentialminus\": [[0.0, \"#0d0887\"], [0.1111111111111111, \"#46039f\"], [0.2222222222222222, \"#7201a8\"], [0.3333333333333333, \"#9c179e\"], [0.4444444444444444, \"#bd3786\"], [0.5555555555555556, \"#d8576b\"], [0.6666666666666666, \"#ed7953\"], [0.7777777777777778, \"#fb9f3a\"], [0.8888888888888888, \"#fdca26\"], [1.0, \"#f0f921\"]]}, \"colorway\": [\"#636efa\", \"#EF553B\", \"#00cc96\", \"#ab63fa\", \"#FFA15A\", \"#19d3f3\", \"#FF6692\", \"#B6E880\", \"#FF97FF\", \"#FECB52\"], \"font\": {\"color\": \"#2a3f5f\"}, \"geo\": {\"bgcolor\": \"white\", \"lakecolor\": \"white\", \"landcolor\": \"#E5ECF6\", \"showlakes\": true, \"showland\": true, \"subunitcolor\": \"white\"}, \"hoverlabel\": {\"align\": \"left\"}, \"hovermode\": \"closest\", \"mapbox\": {\"style\": \"light\"}, \"paper_bgcolor\": \"white\", \"plot_bgcolor\": \"#E5ECF6\", \"polar\": {\"angularaxis\": {\"gridcolor\": \"white\", \"linecolor\": \"white\", \"ticks\": \"\"}, \"bgcolor\": \"#E5ECF6\", \"radialaxis\": {\"gridcolor\": \"white\", \"linecolor\": \"white\", \"ticks\": \"\"}}, \"scene\": {\"xaxis\": {\"backgroundcolor\": \"#E5ECF6\", \"gridcolor\": \"white\", \"gridwidth\": 2, \"linecolor\": \"white\", \"showbackground\": true, \"ticks\": \"\", \"zerolinecolor\": \"white\"}, \"yaxis\": {\"backgroundcolor\": \"#E5ECF6\", \"gridcolor\": \"white\", \"gridwidth\": 2, \"linecolor\": \"white\", \"showbackground\": true, \"ticks\": \"\", \"zerolinecolor\": \"white\"}, \"zaxis\": {\"backgroundcolor\": \"#E5ECF6\", \"gridcolor\": \"white\", \"gridwidth\": 2, \"linecolor\": \"white\", \"showbackground\": true, \"ticks\": \"\", \"zerolinecolor\": \"white\"}}, \"shapedefaults\": {\"line\": {\"color\": \"#2a3f5f\"}}, \"ternary\": {\"aaxis\": {\"gridcolor\": \"white\", \"linecolor\": \"white\", \"ticks\": \"\"}, \"baxis\": {\"gridcolor\": \"white\", \"linecolor\": \"white\", \"ticks\": \"\"}, \"bgcolor\": \"#E5ECF6\", \"caxis\": {\"gridcolor\": \"white\", \"linecolor\": \"white\", \"ticks\": \"\"}}, \"title\": {\"x\": 0.05}, \"xaxis\": {\"automargin\": true, \"gridcolor\": \"white\", \"linecolor\": \"white\", \"ticks\": \"\", \"title\": {\"standoff\": 15}, \"zerolinecolor\": \"white\", \"zerolinewidth\": 2}, \"yaxis\": {\"automargin\": true, \"gridcolor\": \"white\", \"linecolor\": \"white\", \"ticks\": \"\", \"title\": {\"standoff\": 15}, \"zerolinecolor\": \"white\", \"zerolinewidth\": 2}}}, \"xaxis\": {\"anchor\": \"y\", \"domain\": [0.0, 0.45], \"rangeslider\": {\"visible\": false}}, \"xaxis2\": {\"anchor\": \"y2\", \"domain\": [0.55, 1.0], \"rangeslider\": {\"visible\": false}}, \"yaxis\": {\"anchor\": \"x\", \"domain\": [0.0, 1.0]}, \"yaxis2\": {\"anchor\": \"x2\", \"domain\": [0.0, 1.0]}},                        {\"responsive\": true}                    ).then(function(){\n",
       "                            \n",
       "var gd = document.getElementById('cd4ca063-7940-4bfe-accc-6a775dbfac63');\n",
       "var x = new MutationObserver(function (mutations, observer) {{\n",
       "        var display = window.getComputedStyle(gd).display;\n",
       "        if (!display || display === 'none') {{\n",
       "            console.log([gd, 'removed!']);\n",
       "            Plotly.purge(gd);\n",
       "            observer.disconnect();\n",
       "        }}\n",
       "}});\n",
       "\n",
       "// Listen for the removal of the full notebook cells\n",
       "var notebookContainer = gd.closest('#notebook-container');\n",
       "if (notebookContainer) {{\n",
       "    x.observe(notebookContainer, {childList: true});\n",
       "}}\n",
       "\n",
       "// Listen for the clearing of the current output cell\n",
       "var outputEl = gd.closest('.output');\n",
       "if (outputEl) {{\n",
       "    x.observe(outputEl, {childList: true});\n",
       "}}\n",
       "\n",
       "                        })                };                });            </script>        </div>"
      ]
     },
     "metadata": {},
     "output_type": "display_data"
    }
   ],
   "source": [
    "show_random_cases(candles_to_show, nb_examples_to_show=10, nb_candles_to_show=100)"
   ]
  },
  {
   "cell_type": "code",
   "execution_count": null,
   "metadata": {},
   "outputs": [],
   "source": []
  },
  {
   "cell_type": "code",
   "execution_count": null,
   "metadata": {},
   "outputs": [],
   "source": []
  }
 ],
 "metadata": {
  "kernelspec": {
   "display_name": "Python 3",
   "language": "python",
   "name": "python3"
  },
  "language_info": {
   "codemirror_mode": {
    "name": "ipython",
    "version": 3
   },
   "file_extension": ".py",
   "mimetype": "text/x-python",
   "name": "python",
   "nbconvert_exporter": "python",
   "pygments_lexer": "ipython3",
   "version": "3.8.6"
  }
 },
 "nbformat": 4,
 "nbformat_minor": 4
}
