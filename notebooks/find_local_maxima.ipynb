{
 "cells": [
  {
   "cell_type": "code",
   "execution_count": 1,
   "metadata": {},
   "outputs": [],
   "source": [
    "import sys\n",
    "sys.path.append('/Users/laurenthericourt/projets/trading/trading')\n",
    "import warnings\n",
    "warnings.filterwarnings('ignore')\n",
    "import random\n",
    "from datetime import datetime, timedelta\n",
    "from dateutil.rrule import rrule, WEEKLY, FR, SU\n",
    "\n",
    "import pandas as pd\n",
    "import numpy as np\n",
    "pd.set_option('display.max_rows', 500)\n",
    "from jupyter_dash import JupyterDash\n",
    "import dash_core_components as dcc\n",
    "import dash_html_components as html\n",
    "from dash.dependencies import Input, Output\n",
    "from plotly.subplots import make_subplots\n",
    "import plotly.graph_objects as go\n",
    "\n",
    "from config.load import load_conf\n",
    "from db.utils import get_uri_db\n",
    "from utils.utils import get_candles\n",
    "from indicator.trend import ExponentialMovingAverage\n",
    "from notebooks.compute_indicators import moyenne_mobile_features\n",
    "from utils.utils import compute_sign_changement\n",
    "from notebooks.display_indicators import show_candle, add_indicator\n",
    "from indicator.trend import BollingerBands, Slope\n",
    "from indicator.oscillator import Atr, Obv\n",
    "from indicator.trend import ExponentialMovingAverage, MovingAverage"
   ]
  },
  {
   "cell_type": "markdown",
   "metadata": {},
   "source": [
    "# Get data"
   ]
  },
  {
   "cell_type": "code",
   "execution_count": 2,
   "metadata": {},
   "outputs": [],
   "source": [
    "load_conf('../config/configuration.yaml')\n",
    "dsn = get_uri_db()\n",
    "schema = 'trading'"
   ]
  },
  {
   "cell_type": "code",
   "execution_count": 3,
   "metadata": {},
   "outputs": [],
   "source": [
    "start_date = '2019-01-01'\n",
    "end_date = '2021-01-01'\n",
    "\n",
    "candles = get_candles(dsn, schema, start_date, end_date)"
   ]
  },
  {
   "cell_type": "code",
   "execution_count": 383,
   "metadata": {},
   "outputs": [],
   "source": [
    "table = 'candle'\n",
    "symbol = 'EUR/USD'\n",
    "\n",
    "candles_to_show = candles[(candles['table'] == table) & (candles['symbol'] == symbol)].reset_index(drop=True)"
   ]
  },
  {
   "cell_type": "markdown",
   "metadata": {},
   "source": [
    "# Find maxima"
   ]
  },
  {
   "cell_type": "code",
   "execution_count": 384,
   "metadata": {},
   "outputs": [],
   "source": [
    "candles_to_show['atr'], _ = Atr(candles_to_show).compute(span=5, avg_type = 'ma')\n",
    "candles_to_show.dropna(inplace=True)"
   ]
  },
  {
   "cell_type": "code",
   "execution_count": 385,
   "metadata": {},
   "outputs": [],
   "source": [
    "from scipy.signal import argrelextrema\n",
    "\n",
    "class Extrema(object):\n",
    "    def __init__(self, candles, max_, atr_weight, atr_weight2, min_range, min_variance, ratio_pic_size):\n",
    "        self.candles = candles.reset_index(drop=True)\n",
    "        self.max = max_\n",
    "        self.atr_weight = atr_weight\n",
    "        self.atr_weight = atr_weight2\n",
    "        self.min_range = min_range\n",
    "        self.min_variance = min_variance\n",
    "        self.ratio_pic_size = ratio_pic_size\n",
    "    \n",
    "    def _filter_by_atr(self, local_max_idx, local_max_values):\n",
    "        local_max_idx_to_remove = list()\n",
    "        for prev_idx, prev_val, idx, val in zip(local_max_idx[:-1], local_max_values[:-1], local_max_idx[1:], local_max_values[1:]):\n",
    "            atr = self.candles.loc[idx, 'atr']\n",
    "            #print(idx)\n",
    "            if abs(val - prev_val) < self.atr_weight * atr and val > prev_val:\n",
    "                #print(atr)\n",
    "                local_max_idx_to_remove.append(prev_idx)\n",
    "            elif abs(val - prev_val) < self.atr_weight * atr and val <= prev_val:\n",
    "                #print(atr)\n",
    "                local_max_idx_to_remove.append(idx)\n",
    "        local_max_idx_filtered = [x for x in local_max_idx if x not in local_max_idx_to_remove]\n",
    "        return local_max_idx_filtered\n",
    "    \n",
    "    def _filter_by_variance(self, local_max_idx, local_max_values):\n",
    "        local_max_idx_to_remove = list()\n",
    "        for prev_idx, prev_val, idx, val in zip(local_max_idx[:-1], local_max_values[:-1], local_max_idx[1:], local_max_values[1:]):\n",
    "            candles_tmp = self.candles.loc[prev_idx : idx].copy()\n",
    "            max_high = candles_tmp['high'].max()\n",
    "            min_low = candles_tmp['low'].min()\n",
    "            candles_tmp['range'] = candles_tmp['high'] - candles_tmp['low']\n",
    "            max_range = max_high - min_low\n",
    "            mean_range = candles_tmp['range'].mean()\n",
    "            \n",
    "            first_pic_range = candles_tmp.loc[prev_idx, 'range']\n",
    "            last_pic_range = candles_tmp.loc[idx, 'range']\n",
    "            if self.max and max_range < mean_range * self.min_variance and val > prev_val:\n",
    "                local_max_idx_to_remove.append(prev_idx)\n",
    "            elif self.max and max_range < mean_range * self.min_variance and val <= prev_val:\n",
    "                local_max_idx_to_remove.append(idx)\n",
    "            elif not self.max and max_range < mean_range * self.min_variance and val > prev_val:\n",
    "                local_max_idx_to_remove.append(idx)\n",
    "            elif not self.max and max_range < mean_range * self.min_variance and val <= prev_val:\n",
    "                local_max_idx_to_remove.append(prev_idx)\n",
    "            #elif (first_pic_range > max_range * self.ratio_pic_size or last_pic_range > max_range * self.ratio_pic_size) and val > prev_val:\n",
    "            #    local_max_idx_to_remove.append(prev_idx)\n",
    "            #elif (first_pic_range > max_range * self.ratio_pic_size or last_pic_range > max_range * self.ratio_pic_size) and val <= prev_val:\n",
    "            #    local_max_idx_to_remove.append(idx)            \n",
    "        local_max_idx_filtered = [x for x in local_max_idx if x not in local_max_idx_to_remove]\n",
    "        return local_max_idx_filtered\n",
    "\n",
    "\n",
    "    def _filter_close_values(self, local_max_idx, local_max_values):\n",
    "        local_max_idx_to_remove = list()\n",
    "        for prev_idx, prev_val, idx, val in zip(local_max_idx[:-1], local_max_values[:-1], local_max_idx[1:], local_max_values[1:]):\n",
    "            if self.max and idx - prev_idx <= self.min_range and val > prev_val:\n",
    "                local_max_idx_to_remove.append(prev_idx)\n",
    "            elif self.max and idx - prev_idx <= self.min_range and val <= prev_val:\n",
    "                local_max_idx_to_remove.append(idx)\n",
    "            elif not self.max and idx - prev_idx <= self.min_range and val > prev_val:\n",
    "                local_max_idx_to_remove.append(idx)\n",
    "            elif not self.max and idx - prev_idx <= self.min_range and val <= prev_val:\n",
    "                local_max_idx_to_remove.append(prev_idx)\n",
    "\n",
    "        local_max_idx_filtered = [x for x in local_max_idx if x not in local_max_idx_to_remove]\n",
    "        return local_max_idx_filtered\n",
    "\n",
    "\n",
    "    def _filter_by_pattern(self, local_max_idx, local_max_values):\n",
    "        local_max_idx_to_remove = list()\n",
    "        for prev_idx, prev_val, idx, val, next_idx, next_val in zip(local_max_idx[:-2], local_max_values[:-2], local_max_idx[1:-1], local_max_values[1:-1], local_max_idx[2:], local_max_values[2:]):\n",
    "            atr = self.candles.loc[idx, 'atr']\n",
    "            if self.max and val < prev_val and val < next_val and prev_val - val > self.atr_weight * atr and next_val - val > self.atr_weight * atr:\n",
    "                local_max_idx_to_remove.append(idx)\n",
    "            elif not self.max and val > prev_val and val > next_val and val - prev_val > self.atr_weight * atr and val - prev_val > self.atr_weight * atr:\n",
    "                local_max_idx_to_remove.append(idx)\n",
    "\n",
    "        local_max_idx_filtered = [x for x in local_max_idx if x not in local_max_idx_to_remove]\n",
    "        return local_max_idx_filtered\n",
    "    \n",
    "    \n",
    "    def _get_all_extrema(self):\n",
    "        idx_maxima = list()\n",
    "        prev_rows = list()\n",
    "        historic_len = 2\n",
    "        for row in self.candles.itertuples():\n",
    "            if int(row.Index) < historic_len:\n",
    "                prev_rows.append(row)\n",
    "                continue\n",
    "            if self.max and prev_rows[-1].high >= row.high and prev_rows[-1].high >= prev_rows[-2].high:\n",
    "                idx_maxima.append(int(prev_rows[-1].Index))\n",
    "            elif not self.max and prev_rows[-1].low <= row.low and prev_rows[-1].low <= prev_rows[-2].low:\n",
    "                idx_maxima.append(int(prev_rows[-1].Index))\n",
    "\n",
    "            del prev_rows[0]\n",
    "            prev_rows.append(row)\n",
    "        \n",
    "        return idx_maxima\n",
    "                \n",
    "            \n",
    "            \n",
    "    def get_max_extrema(self):\n",
    "\n",
    "        #local_max_idx = argrelextrema(self.candles['high'].values, np.greater)[0]\n",
    "        local_max_idx = self._get_all_extrema()\n",
    "        local_max_values = self.candles.loc[local_max_idx, 'high'].values if self.max else self.candles.loc[local_max_idx, 'low'].values\n",
    "\n",
    "        local_max_idx_filtered = self._filter_by_variance(local_max_idx, local_max_values)\n",
    "        local_max_values_filtered = self.candles.loc[local_max_idx_filtered, 'high'].values\n",
    "\n",
    "        local_max_idx_filtered = self._filter_close_values(local_max_idx_filtered, local_max_values_filtered)\n",
    "        local_max_values_filtered = self.candles.loc[local_max_idx_filtered, 'high'].values\n",
    "        \n",
    "        local_max_idx_filtered = self._filter_by_variance(local_max_idx_filtered, local_max_values_filtered)\n",
    "        local_max_values_filtered = self.candles.loc[local_max_idx_filtered, 'high'].values\n",
    "\n",
    "        local_max_idx_filtered = self._filter_by_pattern(local_max_idx_filtered, local_max_values_filtered)\n",
    "        local_max_values_filtered = self.candles.loc[local_max_idx_filtered, 'high'].values\n",
    "\n",
    "        res = local_max_idx_filtered\n",
    "\n",
    "        return res"
   ]
  },
  {
   "cell_type": "code",
   "execution_count": 386,
   "metadata": {},
   "outputs": [],
   "source": [
    "def alternate_max_and_min(candles, idx_maxs, idx_mins):\n",
    "    \n",
    "    def _choose_between_two_indexes(candles, idx1, idx2, col):\n",
    "        idx_to_remove = None\n",
    "        if candles.loc[idx1, col] > candles.loc[idx2, col] and col == 'high':\n",
    "            idx_to_remove = idx2\n",
    "        elif candles.loc[idx1, col] < candles.loc[idx2, col] and col == 'low':\n",
    "            idx_to_remove = idx2\n",
    "        else:\n",
    "            idx_to_remove = idx1\n",
    "        return idx_to_remove\n",
    "    \n",
    "    def _detect_indexes_to_remove_one_way(candles, idxs1, idxs2, begin):\n",
    "        col = 'high' if begin == 'max' else 'low'\n",
    "        idxs1_to_remove = list()\n",
    "        idxs2_for_loop = idxs2.copy()\n",
    "        for prev_idx, idx in zip(idxs1[:-1], idxs1[1:]):\n",
    "            if idxs2_for_loop and idx < idxs2_for_loop[0]:\n",
    "                idxs1_to_remove.append(_choose_between_two_indexes(candles, prev_idx, idx, col))\n",
    "            elif idxs2_for_loop:\n",
    "                idxs2_for_loop = [x for x in idxs2_for_loop if x > idx]\n",
    "            else:\n",
    "                idxs1_to_remove.append(_choose_between_two_indexes(candles, prev_idx, idx, col))\n",
    "        return idxs1_to_remove\n",
    "    \n",
    "    def _detect_indexes_to_remove_two_ways(candles, idxs1, idxs2, begin):\n",
    "        idxs1_to_remove = _detect_indexes_to_remove_one_way(candles, idxs1, idxs2, begin)\n",
    "        new_idxs1 = [x for x in idxs1 if x not in idxs1_to_remove]\n",
    "        \n",
    "        begin = 'max' if begin == 'min' else 'min'\n",
    "        idxs2_to_remove = _detect_indexes_to_remove_one_way(candles, idxs2, new_idxs1[1:], begin)\n",
    "        new_idxs2 = [x for x in idxs2 if x not in idxs2_to_remove]\n",
    "                                       \n",
    "        return new_idxs1, new_idxs2\n",
    "    \n",
    "    def _clean_commun_min_and_max_idxs(idxs_max, idxs_min):\n",
    "        commun_idxs = set(idxs_max).intersection(set(idxs_min))\n",
    "        idx_mins_to_remove = list()\n",
    "        idx_maxs_to_remove = list()\n",
    "        for idx in commun_idxs:\n",
    "            idx_max_commun = idxs_max.index(idx)\n",
    "            idx_min_commun = idxs_min.index(idx)\n",
    "            if idx_max_commun > 0 and idx_min_commun > 0 and idxs_max[idx_max_commun - 1] > idxs_min[idx_min_commun - 1]:\n",
    "                idx_maxs_to_remove.append(idx)\n",
    "            elif idx_max_commun > 0 and idx_min_commun > 0 and idxs_max[idx_max_commun - 1] < idxs_min[idx_min_commun - 1]:\n",
    "                idx_mins_to_remove.append(idx)\n",
    "        new_idxs_max = [x for x in idxs_max if x not in idx_maxs_to_remove]\n",
    "        new_idxs_min = [x for x in idxs_min if x not in idx_mins_to_remove]\n",
    "        return new_idxs_max, new_idxs_min\n",
    "    \n",
    "    if idx_maxs[0] < idx_mins[0]:\n",
    "        idx_maxs_new, idx_mins_new = _detect_indexes_to_remove_two_ways(candles, idx_maxs, idx_mins, begin='max')\n",
    "    else:\n",
    "        idx_mins_new, idx_maxs_new = _detect_indexes_to_remove_two_ways(candles, idx_mins, idx_maxs, begin='min')\n",
    "    \n",
    "    idx_maxs_new, idx_mins_new = _clean_commun_min_and_max_idxs(idx_maxs_new, idx_mins_new)\n",
    "    \n",
    "    return idx_maxs_new, idx_mins_new"
   ]
  },
  {
   "cell_type": "markdown",
   "metadata": {},
   "source": [
    "# Show result"
   ]
  },
  {
   "cell_type": "code",
   "execution_count": 387,
   "metadata": {},
   "outputs": [],
   "source": [
    "def detect_trends(candles, high_idxs, low_idxs):\n",
    "    bullish_idx = list()\n",
    "    bearish_idx = list()\n",
    "    if len(high_idxs) < 2 or len(high_idxs) < 2:\n",
    "        return bullish_idx, bearish_idx\n",
    "    if high_idxs[0] < low_idxs[0]:\n",
    "        new_high_idxs = high_idxs if len(high_idxs) <= len(low_idxs) else high_idxs[:-1]\n",
    "        new_low_idxs = low_idxs\n",
    "    elif high_idxs[0] > low_idxs[0]:\n",
    "        new_low_idxs = low_idxs if len(low_idxs) <= len(high_idxs) else low_idxs[:-1]\n",
    "        new_high_idxs = high_idxs\n",
    "        \n",
    "    for prev_high_idx, prev_low_idx, high_idx, low_idx in zip(new_high_idxs[:-1], new_low_idxs[:-1], new_high_idxs[1:], new_low_idxs[1:]):\n",
    "        range1 = candles.loc[prev_high_idx, 'high'] - candles.loc[prev_low_idx, 'low']\n",
    "        range2 = candles.loc[high_idx, 'high'] - candles.loc[low_idx, 'low']\n",
    "\n",
    "        if 0.5 <= range1 / range2 <= 2 and candles.loc[prev_high_idx, 'high'] < candles.loc[high_idx, 'high'] and candles.loc[prev_low_idx, 'low'] < candles.loc[low_idx, 'low']:\n",
    "        #if candles.loc[prev_high_idx, 'high'] < candles.loc[high_idx, 'high'] and candles.loc[prev_low_idx, 'low'] < candles.loc[low_idx, 'low']:\n",
    "            bullish_idx.append(max([prev_high_idx, prev_low_idx, high_idx, low_idx]))\n",
    "        \n",
    "        elif 0.5 <= range1 / range2 <= 2 and candles.loc[prev_high_idx, 'high'] > candles.loc[high_idx, 'high'] and candles.loc[prev_low_idx, 'low'] > candles.loc[low_idx, 'low']:\n",
    "        #elif candles.loc[prev_high_idx, 'high'] > candles.loc[high_idx, 'high'] and candles.loc[prev_low_idx, 'low'] > candles.loc[low_idx, 'low']:\n",
    "            bearish_idx.append(max([prev_high_idx, prev_low_idx, high_idx, low_idx]))\n",
    "    \n",
    "    return bullish_idx, bearish_idx\n",
    "\n"
   ]
  },
  {
   "cell_type": "code",
   "execution_count": 388,
   "metadata": {},
   "outputs": [],
   "source": [
    "def show_random_cases(candles, nb_examples_to_show=30, nb_candles_to_show=50):\n",
    "    cd = candles.copy().reset_index(drop=True)\n",
    "    idx = cd.index.tolist()\n",
    "    #random.seed(21)\n",
    "    random.shuffle(idx)\n",
    "\n",
    "    idx_to_show = idx[:nb_examples_to_show]\n",
    "    \n",
    "    for i, idx_candle in enumerate(idx_to_show):\n",
    "        candles_to_show = cd.loc[idx_candle - nb_candles_to_show // 2 : idx_candle + nb_candles_to_show // 2].reset_index(drop=True)\n",
    "        #idx_maxs = get_max_extrema(candles_to_show, atr_weight=0.2, atr_weight2=1, min_range=10)\n",
    "        max_extrema = Extrema(candles_to_show, max_=True, atr_weight=0.2, atr_weight2=0.5, min_range=6, min_variance=2, ratio_pic_size=0.6)\n",
    "        idx_maxs = max_extrema.get_max_extrema()\n",
    "        min_extrema = Extrema(candles_to_show, max_=False, atr_weight=0.2, atr_weight2=0.5, min_range=6, min_variance=2, ratio_pic_size=0.6)\n",
    "        idx_mins = min_extrema.get_max_extrema()\n",
    "        idx_maxs, idx_mins = alternate_max_and_min(candles_to_show, idx_maxs, idx_mins)\n",
    "        bullish_idx, bearish_idx = detect_trends(candles_to_show, idx_maxs, idx_mins)\n",
    "\n",
    "        if i % 2 == 0:\n",
    "            fig = make_subplots(rows=1, cols=2)\n",
    "        \n",
    "        fig.update_layout(xaxis1_rangeslider_visible=False, xaxis2_rangeslider_visible=False)\n",
    "\n",
    "        width = 2\n",
    "        color = 'rgba(46, 134, 193, 0.5)'\n",
    "        fig.add_trace(go.Candlestick(x=candles_to_show['date'],\n",
    "                                     open=candles_to_show['open'],\n",
    "                                     high=candles_to_show['high'],\n",
    "                                     low=candles_to_show['low'],\n",
    "                                     close=candles_to_show['close'],\n",
    "                                     showlegend=False),\n",
    "                      row=1, col= i % 2 + 1)\n",
    "        \n",
    "        fig.add_trace(\n",
    "            go.Scatter(\n",
    "                mode='markers',\n",
    "                x=candles_to_show.loc[idx_maxs, 'date'],\n",
    "                y=candles_to_show.loc[idx_maxs, 'high'],\n",
    "                marker=dict(\n",
    "                    color='mediumpurple',\n",
    "                    size=8,\n",
    "                ),\n",
    "                showlegend=False,\n",
    "            ),\n",
    "            row=1, col= i % 2 + 1\n",
    "        )\n",
    "        \n",
    "                \n",
    "        fig.add_trace(\n",
    "            go.Scatter(\n",
    "                mode='markers',\n",
    "                x=candles_to_show.loc[idx_mins, 'date'],\n",
    "                y=candles_to_show.loc[idx_mins, 'low'],\n",
    "                marker=dict(\n",
    "                    color='mediumblue',\n",
    "                    size=8,\n",
    "                ),\n",
    "                showlegend=False,\n",
    "            ),\n",
    "            row=1, col= i % 2 + 1\n",
    "        )\n",
    "        \n",
    "        fig.add_trace(\n",
    "            go.Scatter(\n",
    "                mode='markers',\n",
    "                x=candles_to_show.loc[bullish_idx, 'date'],\n",
    "                y=candles_to_show.loc[bullish_idx, 'close'],\n",
    "                marker=dict(\n",
    "                    color='green',\n",
    "                    size=10,\n",
    "                    symbol='triangle-up',\n",
    "                    line=dict(width=2, color='black')\n",
    "                ),\n",
    "                showlegend=False,\n",
    "            ),\n",
    "            row=1, col= i % 2 + 1\n",
    "        )\n",
    "        \n",
    "        fig.add_trace(\n",
    "            go.Scatter(\n",
    "                mode='markers',\n",
    "                x=candles_to_show.loc[bearish_idx, 'date'],\n",
    "                y=candles_to_show.loc[bearish_idx, 'close'],\n",
    "                marker=dict(\n",
    "                    color='red',\n",
    "                    size=10,\n",
    "                    symbol='triangle-down',\n",
    "                    line=dict(width=2, color='black')\n",
    "                ),\n",
    "                showlegend=False,\n",
    "            ),\n",
    "            row=1, col= i % 2 + 1\n",
    "        )\n",
    "\n",
    "        if i % 2 == 1:\n",
    "            fig.show()"
   ]
  },
  {
   "cell_type": "code",
   "execution_count": 392,
   "metadata": {},
   "outputs": [
    {
     "data": {
      "application/vnd.plotly.v1+json": {
       "config": {
        "plotlyServerURL": "https://plot.ly"
       },
       "data": [
        {
         "close": [
          1.12533,
          1.12547,
          1.12565,
          1.12584,
          1.12598,
          1.12618,
          1.126,
          1.12613,
          1.12619,
          1.12581,
          1.12589,
          1.12575,
          1.12613,
          1.12594,
          1.12596,
          1.12566,
          1.12569,
          1.1255,
          1.12535,
          1.12481,
          1.12553,
          1.12488,
          1.12523,
          1.12545,
          1.12551,
          1.12545,
          1.12533,
          1.12536,
          1.12545,
          1.12505,
          1.12483,
          1.12485,
          1.12583,
          1.12514,
          1.12472,
          1.12512,
          1.12522,
          1.12537,
          1.12547,
          1.12561,
          1.12556,
          1.12568,
          1.12563,
          1.12578,
          1.12575,
          1.12587,
          1.12568,
          1.12572,
          1.12581,
          1.12586,
          1.12592,
          1.12593,
          1.12601,
          1.12594,
          1.12607,
          1.12611,
          1.12608,
          1.12589,
          1.12574,
          1.12567,
          1.12575,
          1.12559,
          1.12555,
          1.12552,
          1.12553,
          1.12549,
          1.1254,
          1.12529,
          1.12527,
          1.12535,
          1.12537,
          1.12546,
          1.12546,
          1.12548,
          1.1256,
          1.12561,
          1.12568,
          1.12596,
          1.12578,
          1.12559,
          1.12542,
          1.12541,
          1.12546,
          1.12555,
          1.12547,
          1.12559,
          1.12569,
          1.12574,
          1.12581,
          1.1259,
          1.12594,
          1.12584,
          1.12579,
          1.12573,
          1.12573,
          1.12569,
          1.12569,
          1.12568,
          1.12569,
          1.12564,
          1.12565,
          1.12569,
          1.12567,
          1.12557,
          1.12555,
          1.1255,
          1.12539,
          1.12519,
          1.12503,
          1.12531,
          1.12529,
          1.12535,
          1.12524,
          1.12514,
          1.12524,
          1.12543,
          1.12543,
          1.12549,
          1.12571,
          1.12599,
          1.12592
         ],
         "high": [
          1.12592,
          1.1255,
          1.12566,
          1.1259,
          1.12616,
          1.12625,
          1.12625,
          1.1262,
          1.12632,
          1.12624,
          1.1259,
          1.12589,
          1.12613,
          1.12622,
          1.12606,
          1.12596,
          1.12583,
          1.1257,
          1.12553,
          1.12544,
          1.12561,
          1.12556,
          1.12525,
          1.12551,
          1.1256,
          1.12559,
          1.12553,
          1.12551,
          1.12562,
          1.12545,
          1.12508,
          1.12493,
          1.12587,
          1.12584,
          1.12514,
          1.12518,
          1.12532,
          1.12551,
          1.12549,
          1.12561,
          1.12572,
          1.12573,
          1.12568,
          1.12582,
          1.1258,
          1.12596,
          1.12589,
          1.12576,
          1.12591,
          1.12591,
          1.126,
          1.12602,
          1.12603,
          1.12601,
          1.12609,
          1.12617,
          1.12615,
          1.12608,
          1.1259,
          1.12579,
          1.12582,
          1.12575,
          1.12564,
          1.12555,
          1.12553,
          1.12554,
          1.12549,
          1.1254,
          1.12531,
          1.12535,
          1.12544,
          1.12546,
          1.12567,
          1.12549,
          1.1256,
          1.12564,
          1.12572,
          1.1262,
          1.12619,
          1.12578,
          1.12568,
          1.12545,
          1.12546,
          1.12557,
          1.12555,
          1.1257,
          1.1257,
          1.12581,
          1.12584,
          1.12594,
          1.12594,
          1.12594,
          1.12584,
          1.12579,
          1.12579,
          1.12577,
          1.12573,
          1.12573,
          1.12573,
          1.1257,
          1.12569,
          1.1257,
          1.1257,
          1.12567,
          1.1256,
          1.12555,
          1.12556,
          1.12539,
          1.1252,
          1.12533,
          1.12531,
          1.12535,
          1.12535,
          1.12524,
          1.12524,
          1.12543,
          1.12544,
          1.1255,
          1.12573,
          1.12609,
          1.126
         ],
         "low": [
          1.12526,
          1.12516,
          1.1254,
          1.12564,
          1.12582,
          1.12591,
          1.12594,
          1.12586,
          1.126,
          1.12576,
          1.1257,
          1.12565,
          1.12572,
          1.12583,
          1.12588,
          1.1255,
          1.12566,
          1.12524,
          1.12519,
          1.12458,
          1.12481,
          1.12484,
          1.12486,
          1.12523,
          1.1253,
          1.12493,
          1.12519,
          1.12526,
          1.12534,
          1.125,
          1.12472,
          1.12471,
          1.12485,
          1.1251,
          1.12463,
          1.12471,
          1.12507,
          1.12522,
          1.12521,
          1.12546,
          1.1254,
          1.1255,
          1.1256,
          1.12561,
          1.12565,
          1.12575,
          1.12567,
          1.12561,
          1.12565,
          1.12577,
          1.12581,
          1.1258,
          1.12588,
          1.12576,
          1.12591,
          1.12603,
          1.12594,
          1.12586,
          1.12572,
          1.12564,
          1.12554,
          1.12557,
          1.12553,
          1.12547,
          1.12549,
          1.12546,
          1.12538,
          1.12526,
          1.1252,
          1.12521,
          1.12533,
          1.12532,
          1.12535,
          1.12546,
          1.12548,
          1.12558,
          1.12556,
          1.12565,
          1.1257,
          1.12558,
          1.12542,
          1.12536,
          1.12538,
          1.12542,
          1.12543,
          1.12546,
          1.12558,
          1.12568,
          1.12573,
          1.1258,
          1.12589,
          1.12581,
          1.12579,
          1.12572,
          1.12572,
          1.12568,
          1.12568,
          1.12563,
          1.12566,
          1.12561,
          1.12563,
          1.12565,
          1.12565,
          1.12554,
          1.12554,
          1.1255,
          1.12539,
          1.12518,
          1.12499,
          1.125,
          1.1252,
          1.12529,
          1.12521,
          1.12509,
          1.12512,
          1.12523,
          1.12535,
          1.12543,
          1.1254,
          1.12562,
          1.12579
         ],
         "open": [
          1.1258,
          1.12533,
          1.12547,
          1.12565,
          1.12584,
          1.12598,
          1.12618,
          1.126,
          1.12613,
          1.12619,
          1.12581,
          1.12589,
          1.12575,
          1.12613,
          1.12594,
          1.12596,
          1.12566,
          1.12569,
          1.1255,
          1.12535,
          1.12481,
          1.12553,
          1.12488,
          1.12523,
          1.12545,
          1.12551,
          1.12545,
          1.12533,
          1.12536,
          1.12545,
          1.12505,
          1.12483,
          1.12485,
          1.12583,
          1.12514,
          1.12472,
          1.12512,
          1.12522,
          1.12537,
          1.12547,
          1.12561,
          1.12556,
          1.12568,
          1.12563,
          1.12578,
          1.12575,
          1.12587,
          1.12568,
          1.12572,
          1.12581,
          1.12586,
          1.12592,
          1.12593,
          1.12601,
          1.12594,
          1.12607,
          1.12611,
          1.12608,
          1.12589,
          1.12574,
          1.12567,
          1.12575,
          1.12559,
          1.12555,
          1.12552,
          1.12553,
          1.12549,
          1.1254,
          1.12529,
          1.12527,
          1.12535,
          1.12537,
          1.12546,
          1.12546,
          1.12548,
          1.1256,
          1.12561,
          1.12568,
          1.12596,
          1.12578,
          1.12559,
          1.12542,
          1.12541,
          1.12546,
          1.12555,
          1.12547,
          1.12559,
          1.12569,
          1.12574,
          1.12581,
          1.1259,
          1.12594,
          1.12584,
          1.12579,
          1.12573,
          1.12573,
          1.12569,
          1.12569,
          1.12568,
          1.12569,
          1.12564,
          1.12565,
          1.12569,
          1.12567,
          1.12557,
          1.12555,
          1.1255,
          1.12539,
          1.12519,
          1.12503,
          1.12531,
          1.12529,
          1.12535,
          1.12524,
          1.12514,
          1.12524,
          1.12543,
          1.12543,
          1.12549,
          1.12571,
          1.12599
         ],
         "showlegend": false,
         "type": "candlestick",
         "x": [
          "2019-07-11T14:55:00",
          "2019-07-11T15:00:00",
          "2019-07-11T15:05:00",
          "2019-07-11T15:10:00",
          "2019-07-11T15:15:00",
          "2019-07-11T15:20:00",
          "2019-07-11T15:25:00",
          "2019-07-11T15:30:00",
          "2019-07-11T15:35:00",
          "2019-07-11T15:40:00",
          "2019-07-11T15:45:00",
          "2019-07-11T15:50:00",
          "2019-07-11T15:55:00",
          "2019-07-11T16:00:00",
          "2019-07-11T16:05:00",
          "2019-07-11T16:10:00",
          "2019-07-11T16:15:00",
          "2019-07-11T16:20:00",
          "2019-07-11T16:25:00",
          "2019-07-11T16:30:00",
          "2019-07-11T16:35:00",
          "2019-07-11T16:40:00",
          "2019-07-11T16:45:00",
          "2019-07-11T16:50:00",
          "2019-07-11T16:55:00",
          "2019-07-11T17:00:00",
          "2019-07-11T17:05:00",
          "2019-07-11T17:10:00",
          "2019-07-11T17:15:00",
          "2019-07-11T17:20:00",
          "2019-07-11T17:25:00",
          "2019-07-11T17:30:00",
          "2019-07-11T17:35:00",
          "2019-07-11T17:40:00",
          "2019-07-11T17:45:00",
          "2019-07-11T17:50:00",
          "2019-07-11T17:55:00",
          "2019-07-11T18:00:00",
          "2019-07-11T18:05:00",
          "2019-07-11T18:10:00",
          "2019-07-11T18:15:00",
          "2019-07-11T18:20:00",
          "2019-07-11T18:25:00",
          "2019-07-11T18:30:00",
          "2019-07-11T18:35:00",
          "2019-07-11T18:40:00",
          "2019-07-11T18:45:00",
          "2019-07-11T18:50:00",
          "2019-07-11T18:55:00",
          "2019-07-11T19:00:00",
          "2019-07-11T19:05:00",
          "2019-07-11T19:10:00",
          "2019-07-11T19:15:00",
          "2019-07-11T19:20:00",
          "2019-07-11T19:25:00",
          "2019-07-11T19:30:00",
          "2019-07-11T19:35:00",
          "2019-07-11T19:40:00",
          "2019-07-11T19:45:00",
          "2019-07-11T19:50:00",
          "2019-07-11T19:55:00",
          "2019-07-11T20:00:00",
          "2019-07-11T20:05:00",
          "2019-07-11T20:10:00",
          "2019-07-11T20:15:00",
          "2019-07-11T20:20:00",
          "2019-07-11T20:25:00",
          "2019-07-11T20:30:00",
          "2019-07-11T20:35:00",
          "2019-07-11T20:40:00",
          "2019-07-11T20:45:00",
          "2019-07-11T20:50:00",
          "2019-07-11T20:55:00",
          "2019-07-11T21:00:00",
          "2019-07-11T21:05:00",
          "2019-07-11T21:10:00",
          "2019-07-11T21:15:00",
          "2019-07-11T21:20:00",
          "2019-07-11T21:25:00",
          "2019-07-11T21:30:00",
          "2019-07-11T21:35:00",
          "2019-07-11T21:40:00",
          "2019-07-11T21:45:00",
          "2019-07-11T21:50:00",
          "2019-07-11T21:55:00",
          "2019-07-11T22:00:00",
          "2019-07-11T22:05:00",
          "2019-07-11T22:10:00",
          "2019-07-11T22:15:00",
          "2019-07-11T22:20:00",
          "2019-07-11T22:25:00",
          "2019-07-11T22:30:00",
          "2019-07-11T22:35:00",
          "2019-07-11T22:40:00",
          "2019-07-11T22:45:00",
          "2019-07-11T22:50:00",
          "2019-07-11T22:55:00",
          "2019-07-11T23:00:00",
          "2019-07-11T23:05:00",
          "2019-07-11T23:10:00",
          "2019-07-11T23:15:00",
          "2019-07-11T23:20:00",
          "2019-07-11T23:25:00",
          "2019-07-11T23:30:00",
          "2019-07-11T23:35:00",
          "2019-07-11T23:40:00",
          "2019-07-11T23:45:00",
          "2019-07-11T23:50:00",
          "2019-07-11T23:55:00",
          "2019-07-12T00:00:00",
          "2019-07-12T00:05:00",
          "2019-07-12T00:10:00",
          "2019-07-12T00:15:00",
          "2019-07-12T00:20:00",
          "2019-07-12T00:25:00",
          "2019-07-12T00:30:00",
          "2019-07-12T00:35:00",
          "2019-07-12T00:40:00",
          "2019-07-12T00:45:00",
          "2019-07-12T00:50:00",
          "2019-07-12T00:55:00"
         ],
         "xaxis": "x",
         "yaxis": "y"
        },
        {
         "marker": {
          "color": "mediumpurple",
          "size": 8
         },
         "mode": "markers",
         "showlegend": false,
         "type": "scatter",
         "x": [
          "2019-07-11T15:35:00",
          "2019-07-11T17:35:00",
          "2019-07-11T19:30:00",
          "2019-07-11T21:20:00",
          "2019-07-11T22:20:00",
          "2019-07-12T00:50:00"
         ],
         "xaxis": "x",
         "y": [
          1.12632,
          1.12587,
          1.12617,
          1.1262,
          1.12594,
          1.12609
         ],
         "yaxis": "y"
        },
        {
         "marker": {
          "color": "mediumblue",
          "size": 8
         },
         "mode": "markers",
         "showlegend": false,
         "type": "scatter",
         "x": [
          "2019-07-11T15:00:00",
          "2019-07-11T16:30:00",
          "2019-07-11T17:45:00",
          "2019-07-11T20:35:00",
          "2019-07-11T21:40:00",
          "2019-07-11T23:55:00"
         ],
         "xaxis": "x",
         "y": [
          1.12516,
          1.12458,
          1.12463,
          1.1252,
          1.12536,
          1.12499
         ],
         "yaxis": "y"
        },
        {
         "marker": {
          "color": "green",
          "line": {
           "color": "black",
           "width": 2
          },
          "size": 10,
          "symbol": "triangle-up"
         },
         "mode": "markers",
         "showlegend": false,
         "type": "scatter",
         "x": [
          "2019-07-11T19:30:00",
          "2019-07-11T21:20:00"
         ],
         "xaxis": "x",
         "y": [
          1.12611,
          1.12596
         ],
         "yaxis": "y"
        },
        {
         "marker": {
          "color": "red",
          "line": {
           "color": "black",
           "width": 2
          },
          "size": 10,
          "symbol": "triangle-down"
         },
         "mode": "markers",
         "showlegend": false,
         "type": "scatter",
         "x": [
          "2019-07-11T17:35:00"
         ],
         "xaxis": "x",
         "y": [
          1.12583
         ],
         "yaxis": "y"
        },
        {
         "close": [
          1.16943,
          1.16976,
          1.16955,
          1.16959,
          1.16953,
          1.16978,
          1.16947,
          1.16969,
          1.16958,
          1.1698,
          1.16984,
          1.16973,
          1.17005,
          1.17015,
          1.17038,
          1.17047,
          1.17128,
          1.17143,
          1.17142,
          1.17108,
          1.17101,
          1.17075,
          1.17103,
          1.17087,
          1.17062,
          1.17043,
          1.17087,
          1.17072,
          1.17032,
          1.17023,
          1.17038,
          1.17052,
          1.1704,
          1.16999,
          1.17024,
          1.17045,
          1.17029,
          1.17048,
          1.1704,
          1.17089,
          1.17128,
          1.17096,
          1.17053,
          1.17058,
          1.17043,
          1.17051,
          1.17087,
          1.17074,
          1.17054,
          1.17065,
          1.17122,
          1.17185,
          1.17209,
          1.17183,
          1.1718,
          1.1714,
          1.17151,
          1.1712,
          1.17194,
          1.1721,
          1.17212,
          1.17215,
          1.17228,
          1.17188,
          1.17229,
          1.1721,
          1.17218,
          1.17233,
          1.17339,
          1.17302,
          1.17273,
          1.17343,
          1.17346,
          1.17361,
          1.17328,
          1.17297,
          1.17282,
          1.17289,
          1.17241,
          1.17227,
          1.17241,
          1.17241,
          1.17238,
          1.17268,
          1.17263,
          1.17274,
          1.17282,
          1.17284,
          1.17235,
          1.17232,
          1.17215,
          1.17177,
          1.17153,
          1.17102,
          1.1711,
          1.17085,
          1.17085,
          1.17081,
          1.17046,
          1.17052,
          1.17061,
          1.17056,
          1.17056,
          1.17038,
          1.17051,
          1.17003,
          1.17032,
          1.16998,
          1.17008,
          1.17018,
          1.17031,
          1.17043,
          1.17043,
          1.17033,
          1.17038,
          1.1704,
          1.17028,
          1.17056,
          1.17033,
          1.17039,
          1.1703
         ],
         "high": [
          1.1698,
          1.16976,
          1.16989,
          1.16973,
          1.16972,
          1.16992,
          1.16981,
          1.1699,
          1.16981,
          1.16985,
          1.16987,
          1.17032,
          1.1701,
          1.17023,
          1.17058,
          1.17062,
          1.17149,
          1.17179,
          1.17188,
          1.17142,
          1.17117,
          1.17122,
          1.1711,
          1.17109,
          1.17091,
          1.17062,
          1.17123,
          1.17103,
          1.17073,
          1.17039,
          1.17049,
          1.17061,
          1.17065,
          1.17054,
          1.17034,
          1.17059,
          1.17047,
          1.17055,
          1.17057,
          1.17098,
          1.1714,
          1.17137,
          1.17132,
          1.17076,
          1.1706,
          1.17084,
          1.17098,
          1.17099,
          1.17085,
          1.17074,
          1.17129,
          1.17187,
          1.17216,
          1.17227,
          1.17187,
          1.17183,
          1.17183,
          1.17165,
          1.172,
          1.17245,
          1.17222,
          1.17224,
          1.17254,
          1.17228,
          1.17255,
          1.17243,
          1.17234,
          1.17252,
          1.1734,
          1.17358,
          1.17315,
          1.17345,
          1.17363,
          1.17404,
          1.17363,
          1.17333,
          1.17302,
          1.17293,
          1.17308,
          1.17254,
          1.17255,
          1.17252,
          1.17267,
          1.1727,
          1.17292,
          1.17275,
          1.17285,
          1.17298,
          1.17287,
          1.17242,
          1.17248,
          1.17217,
          1.17178,
          1.17165,
          1.17133,
          1.1711,
          1.17094,
          1.17099,
          1.17086,
          1.17059,
          1.17067,
          1.17066,
          1.17076,
          1.17059,
          1.17057,
          1.17058,
          1.17035,
          1.17033,
          1.17019,
          1.17023,
          1.17032,
          1.17043,
          1.1705,
          1.1705,
          1.17044,
          1.17045,
          1.1704,
          1.17065,
          1.17064,
          1.17054,
          1.17041
         ],
         "low": [
          1.16943,
          1.16936,
          1.1695,
          1.16949,
          1.16947,
          1.16953,
          1.1694,
          1.16947,
          1.16956,
          1.16955,
          1.16963,
          1.16968,
          1.16973,
          1.16985,
          1.17015,
          1.17028,
          1.17046,
          1.17127,
          1.1714,
          1.17103,
          1.17082,
          1.17063,
          1.17073,
          1.17069,
          1.17062,
          1.17028,
          1.17031,
          1.17062,
          1.17032,
          1.17017,
          1.17021,
          1.17038,
          1.17038,
          1.16992,
          1.16998,
          1.17024,
          1.17011,
          1.17014,
          1.1703,
          1.1704,
          1.17077,
          1.17094,
          1.1705,
          1.1705,
          1.17029,
          1.1704,
          1.17049,
          1.17073,
          1.1703,
          1.17032,
          1.17065,
          1.17117,
          1.17163,
          1.17179,
          1.17156,
          1.17139,
          1.17132,
          1.17118,
          1.1712,
          1.17185,
          1.17194,
          1.17172,
          1.17206,
          1.17182,
          1.17188,
          1.17191,
          1.17193,
          1.17206,
          1.17233,
          1.173,
          1.17271,
          1.17273,
          1.17319,
          1.17331,
          1.17317,
          1.17295,
          1.17276,
          1.17261,
          1.17236,
          1.17225,
          1.17218,
          1.1722,
          1.17237,
          1.17236,
          1.17261,
          1.17253,
          1.17266,
          1.17276,
          1.17235,
          1.17228,
          1.17209,
          1.17173,
          1.17151,
          1.17087,
          1.17102,
          1.17077,
          1.17077,
          1.17081,
          1.17044,
          1.17027,
          1.17045,
          1.17043,
          1.17046,
          1.17036,
          1.17036,
          1.17002,
          1.17,
          1.16994,
          1.16998,
          1.16995,
          1.17017,
          1.17024,
          1.17026,
          1.17027,
          1.17022,
          1.17016,
          1.17013,
          1.17027,
          1.17029,
          1.17029,
          1.17028
         ],
         "open": [
          1.16979,
          1.16943,
          1.16976,
          1.16955,
          1.16959,
          1.16953,
          1.16978,
          1.16947,
          1.16969,
          1.16958,
          1.1698,
          1.16984,
          1.16973,
          1.17005,
          1.17015,
          1.17038,
          1.17047,
          1.17128,
          1.17143,
          1.17142,
          1.17108,
          1.17101,
          1.17075,
          1.17103,
          1.17087,
          1.17062,
          1.17043,
          1.17087,
          1.17072,
          1.17032,
          1.17023,
          1.17038,
          1.17052,
          1.1704,
          1.16999,
          1.17024,
          1.17045,
          1.17029,
          1.17048,
          1.1704,
          1.17089,
          1.17128,
          1.17096,
          1.17053,
          1.17058,
          1.17043,
          1.17051,
          1.17087,
          1.17074,
          1.17054,
          1.17065,
          1.17122,
          1.17185,
          1.17209,
          1.17183,
          1.1718,
          1.1714,
          1.17151,
          1.1712,
          1.17194,
          1.1721,
          1.17212,
          1.17215,
          1.17228,
          1.17188,
          1.17229,
          1.1721,
          1.17218,
          1.17233,
          1.17339,
          1.17302,
          1.17273,
          1.17343,
          1.17346,
          1.17361,
          1.17328,
          1.17297,
          1.17282,
          1.17289,
          1.17241,
          1.17227,
          1.17241,
          1.17241,
          1.17238,
          1.17268,
          1.17263,
          1.17274,
          1.17282,
          1.17284,
          1.17235,
          1.17232,
          1.17215,
          1.17177,
          1.17153,
          1.17102,
          1.1711,
          1.17085,
          1.17085,
          1.17081,
          1.17046,
          1.17052,
          1.17061,
          1.17056,
          1.17056,
          1.17038,
          1.17051,
          1.17003,
          1.17032,
          1.16998,
          1.17008,
          1.17018,
          1.17031,
          1.17043,
          1.17043,
          1.17033,
          1.17038,
          1.1704,
          1.17028,
          1.17056,
          1.17033,
          1.17039
         ],
         "showlegend": false,
         "type": "candlestick",
         "x": [
          "2020-11-03T10:10:00",
          "2020-11-03T10:15:00",
          "2020-11-03T10:20:00",
          "2020-11-03T10:25:00",
          "2020-11-03T10:30:00",
          "2020-11-03T10:35:00",
          "2020-11-03T10:40:00",
          "2020-11-03T10:45:00",
          "2020-11-03T10:50:00",
          "2020-11-03T10:55:00",
          "2020-11-03T11:00:00",
          "2020-11-03T11:05:00",
          "2020-11-03T11:10:00",
          "2020-11-03T11:15:00",
          "2020-11-03T11:20:00",
          "2020-11-03T11:25:00",
          "2020-11-03T11:30:00",
          "2020-11-03T11:35:00",
          "2020-11-03T11:40:00",
          "2020-11-03T11:45:00",
          "2020-11-03T11:50:00",
          "2020-11-03T11:55:00",
          "2020-11-03T12:00:00",
          "2020-11-03T12:05:00",
          "2020-11-03T12:10:00",
          "2020-11-03T12:15:00",
          "2020-11-03T12:20:00",
          "2020-11-03T12:25:00",
          "2020-11-03T12:30:00",
          "2020-11-03T12:35:00",
          "2020-11-03T12:40:00",
          "2020-11-03T12:45:00",
          "2020-11-03T12:50:00",
          "2020-11-03T12:55:00",
          "2020-11-03T13:00:00",
          "2020-11-03T13:05:00",
          "2020-11-03T13:10:00",
          "2020-11-03T13:15:00",
          "2020-11-03T13:20:00",
          "2020-11-03T13:25:00",
          "2020-11-03T13:30:00",
          "2020-11-03T13:35:00",
          "2020-11-03T13:40:00",
          "2020-11-03T13:45:00",
          "2020-11-03T13:50:00",
          "2020-11-03T13:55:00",
          "2020-11-03T14:00:00",
          "2020-11-03T14:05:00",
          "2020-11-03T14:10:00",
          "2020-11-03T14:15:00",
          "2020-11-03T14:20:00",
          "2020-11-03T14:25:00",
          "2020-11-03T14:30:00",
          "2020-11-03T14:35:00",
          "2020-11-03T14:40:00",
          "2020-11-03T14:45:00",
          "2020-11-03T14:50:00",
          "2020-11-03T14:55:00",
          "2020-11-03T15:00:00",
          "2020-11-03T15:05:00",
          "2020-11-03T15:10:00",
          "2020-11-03T15:15:00",
          "2020-11-03T15:20:00",
          "2020-11-03T15:25:00",
          "2020-11-03T15:30:00",
          "2020-11-03T15:35:00",
          "2020-11-03T15:40:00",
          "2020-11-03T15:45:00",
          "2020-11-03T15:50:00",
          "2020-11-03T15:55:00",
          "2020-11-03T16:00:00",
          "2020-11-03T16:05:00",
          "2020-11-03T16:10:00",
          "2020-11-03T16:15:00",
          "2020-11-03T16:20:00",
          "2020-11-03T16:25:00",
          "2020-11-03T16:30:00",
          "2020-11-03T16:35:00",
          "2020-11-03T16:40:00",
          "2020-11-03T16:45:00",
          "2020-11-03T16:50:00",
          "2020-11-03T16:55:00",
          "2020-11-03T17:00:00",
          "2020-11-03T17:05:00",
          "2020-11-03T17:10:00",
          "2020-11-03T17:15:00",
          "2020-11-03T17:20:00",
          "2020-11-03T17:25:00",
          "2020-11-03T17:30:00",
          "2020-11-03T17:35:00",
          "2020-11-03T17:40:00",
          "2020-11-03T17:45:00",
          "2020-11-03T17:50:00",
          "2020-11-03T17:55:00",
          "2020-11-03T18:00:00",
          "2020-11-03T18:05:00",
          "2020-11-03T18:10:00",
          "2020-11-03T18:15:00",
          "2020-11-03T18:20:00",
          "2020-11-03T18:25:00",
          "2020-11-03T18:30:00",
          "2020-11-03T18:35:00",
          "2020-11-03T18:40:00",
          "2020-11-03T18:45:00",
          "2020-11-03T18:50:00",
          "2020-11-03T18:55:00",
          "2020-11-03T19:00:00",
          "2020-11-03T19:05:00",
          "2020-11-03T19:10:00",
          "2020-11-03T19:15:00",
          "2020-11-03T19:20:00",
          "2020-11-03T19:25:00",
          "2020-11-03T19:30:00",
          "2020-11-03T19:35:00",
          "2020-11-03T19:40:00",
          "2020-11-03T19:45:00",
          "2020-11-03T19:50:00",
          "2020-11-03T19:55:00",
          "2020-11-03T20:00:00",
          "2020-11-03T20:05:00",
          "2020-11-03T20:10:00"
         ],
         "xaxis": "x2",
         "yaxis": "y2"
        },
        {
         "marker": {
          "color": "mediumpurple",
          "size": 8
         },
         "mode": "markers",
         "showlegend": false,
         "type": "scatter",
         "x": [
          "2020-11-03T11:40:00",
          "2020-11-03T13:30:00",
          "2020-11-03T14:35:00",
          "2020-11-03T16:15:00",
          "2020-11-03T17:25:00",
          "2020-11-03T19:55:00"
         ],
         "xaxis": "x2",
         "y": [
          1.17188,
          1.1714,
          1.17227,
          1.17404,
          1.17298,
          1.17065
         ],
         "yaxis": "y2"
        },
        {
         "marker": {
          "color": "mediumblue",
          "size": 8
         },
         "mode": "markers",
         "showlegend": false,
         "type": "scatter",
         "x": [
          "2020-11-03T10:15:00",
          "2020-11-03T12:35:00",
          "2020-11-03T13:50:00",
          "2020-11-03T14:55:00",
          "2020-11-03T16:50:00",
          "2020-11-03T19:05:00"
         ],
         "xaxis": "x2",
         "y": [
          1.16936,
          1.17017,
          1.17029,
          1.17118,
          1.17218,
          1.16994
         ],
         "yaxis": "y2"
        },
        {
         "marker": {
          "color": "green",
          "line": {
           "color": "black",
           "width": 2
          },
          "size": 10,
          "symbol": "triangle-up"
         },
         "mode": "markers",
         "showlegend": false,
         "type": "scatter",
         "x": [
          "2020-11-03T14:35:00",
          "2020-11-03T16:15:00"
         ],
         "xaxis": "x2",
         "y": [
          1.17183,
          1.17361
         ],
         "yaxis": "y2"
        },
        {
         "marker": {
          "color": "red",
          "line": {
           "color": "black",
           "width": 2
          },
          "size": 10,
          "symbol": "triangle-down"
         },
         "mode": "markers",
         "showlegend": false,
         "type": "scatter",
         "x": [
          "2020-11-03T19:55:00"
         ],
         "xaxis": "x2",
         "y": [
          1.17056
         ],
         "yaxis": "y2"
        }
       ],
       "layout": {
        "autosize": true,
        "template": {
         "data": {
          "bar": [
           {
            "error_x": {
             "color": "#2a3f5f"
            },
            "error_y": {
             "color": "#2a3f5f"
            },
            "marker": {
             "line": {
              "color": "#E5ECF6",
              "width": 0.5
             }
            },
            "type": "bar"
           }
          ],
          "barpolar": [
           {
            "marker": {
             "line": {
              "color": "#E5ECF6",
              "width": 0.5
             }
            },
            "type": "barpolar"
           }
          ],
          "carpet": [
           {
            "aaxis": {
             "endlinecolor": "#2a3f5f",
             "gridcolor": "white",
             "linecolor": "white",
             "minorgridcolor": "white",
             "startlinecolor": "#2a3f5f"
            },
            "baxis": {
             "endlinecolor": "#2a3f5f",
             "gridcolor": "white",
             "linecolor": "white",
             "minorgridcolor": "white",
             "startlinecolor": "#2a3f5f"
            },
            "type": "carpet"
           }
          ],
          "choropleth": [
           {
            "colorbar": {
             "outlinewidth": 0,
             "ticks": ""
            },
            "type": "choropleth"
           }
          ],
          "contour": [
           {
            "colorbar": {
             "outlinewidth": 0,
             "ticks": ""
            },
            "colorscale": [
             [
              0,
              "#0d0887"
             ],
             [
              0.1111111111111111,
              "#46039f"
             ],
             [
              0.2222222222222222,
              "#7201a8"
             ],
             [
              0.3333333333333333,
              "#9c179e"
             ],
             [
              0.4444444444444444,
              "#bd3786"
             ],
             [
              0.5555555555555556,
              "#d8576b"
             ],
             [
              0.6666666666666666,
              "#ed7953"
             ],
             [
              0.7777777777777778,
              "#fb9f3a"
             ],
             [
              0.8888888888888888,
              "#fdca26"
             ],
             [
              1,
              "#f0f921"
             ]
            ],
            "type": "contour"
           }
          ],
          "contourcarpet": [
           {
            "colorbar": {
             "outlinewidth": 0,
             "ticks": ""
            },
            "type": "contourcarpet"
           }
          ],
          "heatmap": [
           {
            "colorbar": {
             "outlinewidth": 0,
             "ticks": ""
            },
            "colorscale": [
             [
              0,
              "#0d0887"
             ],
             [
              0.1111111111111111,
              "#46039f"
             ],
             [
              0.2222222222222222,
              "#7201a8"
             ],
             [
              0.3333333333333333,
              "#9c179e"
             ],
             [
              0.4444444444444444,
              "#bd3786"
             ],
             [
              0.5555555555555556,
              "#d8576b"
             ],
             [
              0.6666666666666666,
              "#ed7953"
             ],
             [
              0.7777777777777778,
              "#fb9f3a"
             ],
             [
              0.8888888888888888,
              "#fdca26"
             ],
             [
              1,
              "#f0f921"
             ]
            ],
            "type": "heatmap"
           }
          ],
          "heatmapgl": [
           {
            "colorbar": {
             "outlinewidth": 0,
             "ticks": ""
            },
            "colorscale": [
             [
              0,
              "#0d0887"
             ],
             [
              0.1111111111111111,
              "#46039f"
             ],
             [
              0.2222222222222222,
              "#7201a8"
             ],
             [
              0.3333333333333333,
              "#9c179e"
             ],
             [
              0.4444444444444444,
              "#bd3786"
             ],
             [
              0.5555555555555556,
              "#d8576b"
             ],
             [
              0.6666666666666666,
              "#ed7953"
             ],
             [
              0.7777777777777778,
              "#fb9f3a"
             ],
             [
              0.8888888888888888,
              "#fdca26"
             ],
             [
              1,
              "#f0f921"
             ]
            ],
            "type": "heatmapgl"
           }
          ],
          "histogram": [
           {
            "marker": {
             "colorbar": {
              "outlinewidth": 0,
              "ticks": ""
             }
            },
            "type": "histogram"
           }
          ],
          "histogram2d": [
           {
            "colorbar": {
             "outlinewidth": 0,
             "ticks": ""
            },
            "colorscale": [
             [
              0,
              "#0d0887"
             ],
             [
              0.1111111111111111,
              "#46039f"
             ],
             [
              0.2222222222222222,
              "#7201a8"
             ],
             [
              0.3333333333333333,
              "#9c179e"
             ],
             [
              0.4444444444444444,
              "#bd3786"
             ],
             [
              0.5555555555555556,
              "#d8576b"
             ],
             [
              0.6666666666666666,
              "#ed7953"
             ],
             [
              0.7777777777777778,
              "#fb9f3a"
             ],
             [
              0.8888888888888888,
              "#fdca26"
             ],
             [
              1,
              "#f0f921"
             ]
            ],
            "type": "histogram2d"
           }
          ],
          "histogram2dcontour": [
           {
            "colorbar": {
             "outlinewidth": 0,
             "ticks": ""
            },
            "colorscale": [
             [
              0,
              "#0d0887"
             ],
             [
              0.1111111111111111,
              "#46039f"
             ],
             [
              0.2222222222222222,
              "#7201a8"
             ],
             [
              0.3333333333333333,
              "#9c179e"
             ],
             [
              0.4444444444444444,
              "#bd3786"
             ],
             [
              0.5555555555555556,
              "#d8576b"
             ],
             [
              0.6666666666666666,
              "#ed7953"
             ],
             [
              0.7777777777777778,
              "#fb9f3a"
             ],
             [
              0.8888888888888888,
              "#fdca26"
             ],
             [
              1,
              "#f0f921"
             ]
            ],
            "type": "histogram2dcontour"
           }
          ],
          "mesh3d": [
           {
            "colorbar": {
             "outlinewidth": 0,
             "ticks": ""
            },
            "type": "mesh3d"
           }
          ],
          "parcoords": [
           {
            "line": {
             "colorbar": {
              "outlinewidth": 0,
              "ticks": ""
             }
            },
            "type": "parcoords"
           }
          ],
          "pie": [
           {
            "automargin": true,
            "type": "pie"
           }
          ],
          "scatter": [
           {
            "marker": {
             "colorbar": {
              "outlinewidth": 0,
              "ticks": ""
             }
            },
            "type": "scatter"
           }
          ],
          "scatter3d": [
           {
            "line": {
             "colorbar": {
              "outlinewidth": 0,
              "ticks": ""
             }
            },
            "marker": {
             "colorbar": {
              "outlinewidth": 0,
              "ticks": ""
             }
            },
            "type": "scatter3d"
           }
          ],
          "scattercarpet": [
           {
            "marker": {
             "colorbar": {
              "outlinewidth": 0,
              "ticks": ""
             }
            },
            "type": "scattercarpet"
           }
          ],
          "scattergeo": [
           {
            "marker": {
             "colorbar": {
              "outlinewidth": 0,
              "ticks": ""
             }
            },
            "type": "scattergeo"
           }
          ],
          "scattergl": [
           {
            "marker": {
             "colorbar": {
              "outlinewidth": 0,
              "ticks": ""
             }
            },
            "type": "scattergl"
           }
          ],
          "scattermapbox": [
           {
            "marker": {
             "colorbar": {
              "outlinewidth": 0,
              "ticks": ""
             }
            },
            "type": "scattermapbox"
           }
          ],
          "scatterpolar": [
           {
            "marker": {
             "colorbar": {
              "outlinewidth": 0,
              "ticks": ""
             }
            },
            "type": "scatterpolar"
           }
          ],
          "scatterpolargl": [
           {
            "marker": {
             "colorbar": {
              "outlinewidth": 0,
              "ticks": ""
             }
            },
            "type": "scatterpolargl"
           }
          ],
          "scatterternary": [
           {
            "marker": {
             "colorbar": {
              "outlinewidth": 0,
              "ticks": ""
             }
            },
            "type": "scatterternary"
           }
          ],
          "surface": [
           {
            "colorbar": {
             "outlinewidth": 0,
             "ticks": ""
            },
            "colorscale": [
             [
              0,
              "#0d0887"
             ],
             [
              0.1111111111111111,
              "#46039f"
             ],
             [
              0.2222222222222222,
              "#7201a8"
             ],
             [
              0.3333333333333333,
              "#9c179e"
             ],
             [
              0.4444444444444444,
              "#bd3786"
             ],
             [
              0.5555555555555556,
              "#d8576b"
             ],
             [
              0.6666666666666666,
              "#ed7953"
             ],
             [
              0.7777777777777778,
              "#fb9f3a"
             ],
             [
              0.8888888888888888,
              "#fdca26"
             ],
             [
              1,
              "#f0f921"
             ]
            ],
            "type": "surface"
           }
          ],
          "table": [
           {
            "cells": {
             "fill": {
              "color": "#EBF0F8"
             },
             "line": {
              "color": "white"
             }
            },
            "header": {
             "fill": {
              "color": "#C8D4E3"
             },
             "line": {
              "color": "white"
             }
            },
            "type": "table"
           }
          ]
         },
         "layout": {
          "annotationdefaults": {
           "arrowcolor": "#2a3f5f",
           "arrowhead": 0,
           "arrowwidth": 1
          },
          "coloraxis": {
           "colorbar": {
            "outlinewidth": 0,
            "ticks": ""
           }
          },
          "colorscale": {
           "diverging": [
            [
             0,
             "#8e0152"
            ],
            [
             0.1,
             "#c51b7d"
            ],
            [
             0.2,
             "#de77ae"
            ],
            [
             0.3,
             "#f1b6da"
            ],
            [
             0.4,
             "#fde0ef"
            ],
            [
             0.5,
             "#f7f7f7"
            ],
            [
             0.6,
             "#e6f5d0"
            ],
            [
             0.7,
             "#b8e186"
            ],
            [
             0.8,
             "#7fbc41"
            ],
            [
             0.9,
             "#4d9221"
            ],
            [
             1,
             "#276419"
            ]
           ],
           "sequential": [
            [
             0,
             "#0d0887"
            ],
            [
             0.1111111111111111,
             "#46039f"
            ],
            [
             0.2222222222222222,
             "#7201a8"
            ],
            [
             0.3333333333333333,
             "#9c179e"
            ],
            [
             0.4444444444444444,
             "#bd3786"
            ],
            [
             0.5555555555555556,
             "#d8576b"
            ],
            [
             0.6666666666666666,
             "#ed7953"
            ],
            [
             0.7777777777777778,
             "#fb9f3a"
            ],
            [
             0.8888888888888888,
             "#fdca26"
            ],
            [
             1,
             "#f0f921"
            ]
           ],
           "sequentialminus": [
            [
             0,
             "#0d0887"
            ],
            [
             0.1111111111111111,
             "#46039f"
            ],
            [
             0.2222222222222222,
             "#7201a8"
            ],
            [
             0.3333333333333333,
             "#9c179e"
            ],
            [
             0.4444444444444444,
             "#bd3786"
            ],
            [
             0.5555555555555556,
             "#d8576b"
            ],
            [
             0.6666666666666666,
             "#ed7953"
            ],
            [
             0.7777777777777778,
             "#fb9f3a"
            ],
            [
             0.8888888888888888,
             "#fdca26"
            ],
            [
             1,
             "#f0f921"
            ]
           ]
          },
          "colorway": [
           "#636efa",
           "#EF553B",
           "#00cc96",
           "#ab63fa",
           "#FFA15A",
           "#19d3f3",
           "#FF6692",
           "#B6E880",
           "#FF97FF",
           "#FECB52"
          ],
          "font": {
           "color": "#2a3f5f"
          },
          "geo": {
           "bgcolor": "white",
           "lakecolor": "white",
           "landcolor": "#E5ECF6",
           "showlakes": true,
           "showland": true,
           "subunitcolor": "white"
          },
          "hoverlabel": {
           "align": "left"
          },
          "hovermode": "closest",
          "mapbox": {
           "style": "light"
          },
          "paper_bgcolor": "white",
          "plot_bgcolor": "#E5ECF6",
          "polar": {
           "angularaxis": {
            "gridcolor": "white",
            "linecolor": "white",
            "ticks": ""
           },
           "bgcolor": "#E5ECF6",
           "radialaxis": {
            "gridcolor": "white",
            "linecolor": "white",
            "ticks": ""
           }
          },
          "scene": {
           "xaxis": {
            "backgroundcolor": "#E5ECF6",
            "gridcolor": "white",
            "gridwidth": 2,
            "linecolor": "white",
            "showbackground": true,
            "ticks": "",
            "zerolinecolor": "white"
           },
           "yaxis": {
            "backgroundcolor": "#E5ECF6",
            "gridcolor": "white",
            "gridwidth": 2,
            "linecolor": "white",
            "showbackground": true,
            "ticks": "",
            "zerolinecolor": "white"
           },
           "zaxis": {
            "backgroundcolor": "#E5ECF6",
            "gridcolor": "white",
            "gridwidth": 2,
            "linecolor": "white",
            "showbackground": true,
            "ticks": "",
            "zerolinecolor": "white"
           }
          },
          "shapedefaults": {
           "line": {
            "color": "#2a3f5f"
           }
          },
          "ternary": {
           "aaxis": {
            "gridcolor": "white",
            "linecolor": "white",
            "ticks": ""
           },
           "baxis": {
            "gridcolor": "white",
            "linecolor": "white",
            "ticks": ""
           },
           "bgcolor": "#E5ECF6",
           "caxis": {
            "gridcolor": "white",
            "linecolor": "white",
            "ticks": ""
           }
          },
          "title": {
           "x": 0.05
          },
          "xaxis": {
           "automargin": true,
           "gridcolor": "white",
           "linecolor": "white",
           "ticks": "",
           "title": {
            "standoff": 15
           },
           "zerolinecolor": "white",
           "zerolinewidth": 2
          },
          "yaxis": {
           "automargin": true,
           "gridcolor": "white",
           "linecolor": "white",
           "ticks": "",
           "title": {
            "standoff": 15
           },
           "zerolinecolor": "white",
           "zerolinewidth": 2
          }
         }
        },
        "xaxis": {
         "anchor": "y",
         "autorange": true,
         "domain": [
          0,
          0.45
         ],
         "range": [
          "2019-07-11 14:20:14.8268",
          "2019-07-12 01:29:45.1732"
         ],
         "rangeslider": {
          "visible": false,
          "yaxis": {}
         },
         "type": "date"
        },
        "xaxis2": {
         "anchor": "y2",
         "autorange": true,
         "domain": [
          0.55,
          1
         ],
         "range": [
          "2020-11-03 09:35:48.9998",
          "2020-11-03 20:35:43.815"
         ],
         "rangeslider": {
          "visible": false,
          "yaxis2": {}
         },
         "type": "date"
        },
        "yaxis": {
         "anchor": "x",
         "autorange": true,
         "domain": [
          0,
          1
         ],
         "range": [
          1.124441845493562,
          1.1264581545064378
         ],
         "type": "linear"
        },
        "yaxis2": {
         "anchor": "x2",
         "autorange": true,
         "domain": [
          0,
          1
         ],
         "range": [
          1.1689884120171674,
          1.1744115879828325
         ],
         "type": "linear"
        }
       }
      },
      "image/png": "[encoded data removed]",
      "text/html": [
       "<div>                            <div id=\"a52d941f-bfe1-499d-8b5a-2a76716a8f7b\" class=\"plotly-graph-div\" style=\"height:525px; width:100%;\"></div>            <script type=\"text/javascript\">                require([\"plotly\"], function(Plotly) {                    window.PLOTLYENV=window.PLOTLYENV || {};                                    if (document.getElementById(\"a52d941f-bfe1-499d-8b5a-2a76716a8f7b\")) {                    Plotly.newPlot(                        \"a52d941f-bfe1-499d-8b5a-2a76716a8f7b\",                        [{\"close\": [1.12533, 1.12547, 1.12565, 1.12584, 1.12598, 1.12618, 1.126, 1.12613, 1.12619, 1.12581, 1.12589, 1.12575, 1.12613, 1.12594, 1.12596, 1.12566, 1.12569, 1.1255, 1.12535, 1.12481, 1.12553, 1.12488, 1.12523, 1.12545, 1.12551, 1.12545, 1.12533, 1.12536, 1.12545, 1.12505, 1.12483, 1.12485, 1.12583, 1.12514, 1.12472, 1.12512, 1.12522, 1.12537, 1.12547, 1.12561, 1.12556, 1.12568, 1.12563, 1.12578, 1.12575, 1.12587, 1.12568, 1.12572, 1.12581, 1.12586, 1.12592, 1.12593, 1.12601, 1.12594, 1.12607, 1.12611, 1.12608, 1.12589, 1.12574, 1.12567, 1.12575, 1.12559, 1.12555, 1.12552, 1.12553, 1.12549, 1.1254, 1.12529, 1.12527, 1.12535, 1.12537, 1.12546, 1.12546, 1.12548, 1.1256, 1.12561, 1.12568, 1.12596, 1.12578, 1.12559, 1.12542, 1.12541, 1.12546, 1.12555, 1.12547, 1.12559, 1.12569, 1.12574, 1.12581, 1.1259, 1.12594, 1.12584, 1.12579, 1.12573, 1.12573, 1.12569, 1.12569, 1.12568, 1.12569, 1.12564, 1.12565, 1.12569, 1.12567, 1.12557, 1.12555, 1.1255, 1.12539, 1.12519, 1.12503, 1.12531, 1.12529, 1.12535, 1.12524, 1.12514, 1.12524, 1.12543, 1.12543, 1.12549, 1.12571, 1.12599, 1.12592], \"high\": [1.12592, 1.1255, 1.12566, 1.1259, 1.12616, 1.12625, 1.12625, 1.1262, 1.12632, 1.12624, 1.1259, 1.12589, 1.12613, 1.12622, 1.12606, 1.12596, 1.12583, 1.1257, 1.12553, 1.12544, 1.12561, 1.12556, 1.12525, 1.12551, 1.1256, 1.12559, 1.12553, 1.12551, 1.12562, 1.12545, 1.12508, 1.12493, 1.12587, 1.12584, 1.12514, 1.12518, 1.12532, 1.12551, 1.12549, 1.12561, 1.12572, 1.12573, 1.12568, 1.12582, 1.1258, 1.12596, 1.12589, 1.12576, 1.12591, 1.12591, 1.126, 1.12602, 1.12603, 1.12601, 1.12609, 1.12617, 1.12615, 1.12608, 1.1259, 1.12579, 1.12582, 1.12575, 1.12564, 1.12555, 1.12553, 1.12554, 1.12549, 1.1254, 1.12531, 1.12535, 1.12544, 1.12546, 1.12567, 1.12549, 1.1256, 1.12564, 1.12572, 1.1262, 1.12619, 1.12578, 1.12568, 1.12545, 1.12546, 1.12557, 1.12555, 1.1257, 1.1257, 1.12581, 1.12584, 1.12594, 1.12594, 1.12594, 1.12584, 1.12579, 1.12579, 1.12577, 1.12573, 1.12573, 1.12573, 1.1257, 1.12569, 1.1257, 1.1257, 1.12567, 1.1256, 1.12555, 1.12556, 1.12539, 1.1252, 1.12533, 1.12531, 1.12535, 1.12535, 1.12524, 1.12524, 1.12543, 1.12544, 1.1255, 1.12573, 1.12609, 1.126], \"low\": [1.12526, 1.12516, 1.1254, 1.12564, 1.12582, 1.12591, 1.12594, 1.12586, 1.126, 1.12576, 1.1257, 1.12565, 1.12572, 1.12583, 1.12588, 1.1255, 1.12566, 1.12524, 1.12519, 1.12458, 1.12481, 1.12484, 1.12486, 1.12523, 1.1253, 1.12493, 1.12519, 1.12526, 1.12534, 1.125, 1.12472, 1.12471, 1.12485, 1.1251, 1.12463, 1.12471, 1.12507, 1.12522, 1.12521, 1.12546, 1.1254, 1.1255, 1.1256, 1.12561, 1.12565, 1.12575, 1.12567, 1.12561, 1.12565, 1.12577, 1.12581, 1.1258, 1.12588, 1.12576, 1.12591, 1.12603, 1.12594, 1.12586, 1.12572, 1.12564, 1.12554, 1.12557, 1.12553, 1.12547, 1.12549, 1.12546, 1.12538, 1.12526, 1.1252, 1.12521, 1.12533, 1.12532, 1.12535, 1.12546, 1.12548, 1.12558, 1.12556, 1.12565, 1.1257, 1.12558, 1.12542, 1.12536, 1.12538, 1.12542, 1.12543, 1.12546, 1.12558, 1.12568, 1.12573, 1.1258, 1.12589, 1.12581, 1.12579, 1.12572, 1.12572, 1.12568, 1.12568, 1.12563, 1.12566, 1.12561, 1.12563, 1.12565, 1.12565, 1.12554, 1.12554, 1.1255, 1.12539, 1.12518, 1.12499, 1.125, 1.1252, 1.12529, 1.12521, 1.12509, 1.12512, 1.12523, 1.12535, 1.12543, 1.1254, 1.12562, 1.12579], \"open\": [1.1258, 1.12533, 1.12547, 1.12565, 1.12584, 1.12598, 1.12618, 1.126, 1.12613, 1.12619, 1.12581, 1.12589, 1.12575, 1.12613, 1.12594, 1.12596, 1.12566, 1.12569, 1.1255, 1.12535, 1.12481, 1.12553, 1.12488, 1.12523, 1.12545, 1.12551, 1.12545, 1.12533, 1.12536, 1.12545, 1.12505, 1.12483, 1.12485, 1.12583, 1.12514, 1.12472, 1.12512, 1.12522, 1.12537, 1.12547, 1.12561, 1.12556, 1.12568, 1.12563, 1.12578, 1.12575, 1.12587, 1.12568, 1.12572, 1.12581, 1.12586, 1.12592, 1.12593, 1.12601, 1.12594, 1.12607, 1.12611, 1.12608, 1.12589, 1.12574, 1.12567, 1.12575, 1.12559, 1.12555, 1.12552, 1.12553, 1.12549, 1.1254, 1.12529, 1.12527, 1.12535, 1.12537, 1.12546, 1.12546, 1.12548, 1.1256, 1.12561, 1.12568, 1.12596, 1.12578, 1.12559, 1.12542, 1.12541, 1.12546, 1.12555, 1.12547, 1.12559, 1.12569, 1.12574, 1.12581, 1.1259, 1.12594, 1.12584, 1.12579, 1.12573, 1.12573, 1.12569, 1.12569, 1.12568, 1.12569, 1.12564, 1.12565, 1.12569, 1.12567, 1.12557, 1.12555, 1.1255, 1.12539, 1.12519, 1.12503, 1.12531, 1.12529, 1.12535, 1.12524, 1.12514, 1.12524, 1.12543, 1.12543, 1.12549, 1.12571, 1.12599], \"showlegend\": false, \"type\": \"candlestick\", \"x\": [\"2019-07-11T14:55:00\", \"2019-07-11T15:00:00\", \"2019-07-11T15:05:00\", \"2019-07-11T15:10:00\", \"2019-07-11T15:15:00\", \"2019-07-11T15:20:00\", \"2019-07-11T15:25:00\", \"2019-07-11T15:30:00\", \"2019-07-11T15:35:00\", \"2019-07-11T15:40:00\", \"2019-07-11T15:45:00\", \"2019-07-11T15:50:00\", \"2019-07-11T15:55:00\", \"2019-07-11T16:00:00\", \"2019-07-11T16:05:00\", \"2019-07-11T16:10:00\", \"2019-07-11T16:15:00\", \"2019-07-11T16:20:00\", \"2019-07-11T16:25:00\", \"2019-07-11T16:30:00\", \"2019-07-11T16:35:00\", \"2019-07-11T16:40:00\", \"2019-07-11T16:45:00\", \"2019-07-11T16:50:00\", \"2019-07-11T16:55:00\", \"2019-07-11T17:00:00\", \"2019-07-11T17:05:00\", \"2019-07-11T17:10:00\", \"2019-07-11T17:15:00\", \"2019-07-11T17:20:00\", \"2019-07-11T17:25:00\", \"2019-07-11T17:30:00\", \"2019-07-11T17:35:00\", \"2019-07-11T17:40:00\", \"2019-07-11T17:45:00\", \"2019-07-11T17:50:00\", \"2019-07-11T17:55:00\", \"2019-07-11T18:00:00\", \"2019-07-11T18:05:00\", \"2019-07-11T18:10:00\", \"2019-07-11T18:15:00\", \"2019-07-11T18:20:00\", \"2019-07-11T18:25:00\", \"2019-07-11T18:30:00\", \"2019-07-11T18:35:00\", \"2019-07-11T18:40:00\", \"2019-07-11T18:45:00\", \"2019-07-11T18:50:00\", \"2019-07-11T18:55:00\", \"2019-07-11T19:00:00\", \"2019-07-11T19:05:00\", \"2019-07-11T19:10:00\", \"2019-07-11T19:15:00\", \"2019-07-11T19:20:00\", \"2019-07-11T19:25:00\", \"2019-07-11T19:30:00\", \"2019-07-11T19:35:00\", \"2019-07-11T19:40:00\", \"2019-07-11T19:45:00\", \"2019-07-11T19:50:00\", \"2019-07-11T19:55:00\", \"2019-07-11T20:00:00\", \"2019-07-11T20:05:00\", \"2019-07-11T20:10:00\", \"2019-07-11T20:15:00\", \"2019-07-11T20:20:00\", \"2019-07-11T20:25:00\", \"2019-07-11T20:30:00\", \"2019-07-11T20:35:00\", \"2019-07-11T20:40:00\", \"2019-07-11T20:45:00\", \"2019-07-11T20:50:00\", \"2019-07-11T20:55:00\", \"2019-07-11T21:00:00\", \"2019-07-11T21:05:00\", \"2019-07-11T21:10:00\", \"2019-07-11T21:15:00\", \"2019-07-11T21:20:00\", \"2019-07-11T21:25:00\", \"2019-07-11T21:30:00\", \"2019-07-11T21:35:00\", \"2019-07-11T21:40:00\", \"2019-07-11T21:45:00\", \"2019-07-11T21:50:00\", \"2019-07-11T21:55:00\", \"2019-07-11T22:00:00\", \"2019-07-11T22:05:00\", \"2019-07-11T22:10:00\", \"2019-07-11T22:15:00\", \"2019-07-11T22:20:00\", \"2019-07-11T22:25:00\", \"2019-07-11T22:30:00\", \"2019-07-11T22:35:00\", \"2019-07-11T22:40:00\", \"2019-07-11T22:45:00\", \"2019-07-11T22:50:00\", \"2019-07-11T22:55:00\", \"2019-07-11T23:00:00\", \"2019-07-11T23:05:00\", \"2019-07-11T23:10:00\", \"2019-07-11T23:15:00\", \"2019-07-11T23:20:00\", \"2019-07-11T23:25:00\", \"2019-07-11T23:30:00\", \"2019-07-11T23:35:00\", \"2019-07-11T23:40:00\", \"2019-07-11T23:45:00\", \"2019-07-11T23:50:00\", \"2019-07-11T23:55:00\", \"2019-07-12T00:00:00\", \"2019-07-12T00:05:00\", \"2019-07-12T00:10:00\", \"2019-07-12T00:15:00\", \"2019-07-12T00:20:00\", \"2019-07-12T00:25:00\", \"2019-07-12T00:30:00\", \"2019-07-12T00:35:00\", \"2019-07-12T00:40:00\", \"2019-07-12T00:45:00\", \"2019-07-12T00:50:00\", \"2019-07-12T00:55:00\"], \"xaxis\": \"x\", \"yaxis\": \"y\"}, {\"marker\": {\"color\": \"mediumpurple\", \"size\": 8}, \"mode\": \"markers\", \"showlegend\": false, \"type\": \"scatter\", \"x\": [\"2019-07-11T15:35:00\", \"2019-07-11T17:35:00\", \"2019-07-11T19:30:00\", \"2019-07-11T21:20:00\", \"2019-07-11T22:20:00\", \"2019-07-12T00:50:00\"], \"xaxis\": \"x\", \"y\": [1.12632, 1.12587, 1.12617, 1.1262, 1.12594, 1.12609], \"yaxis\": \"y\"}, {\"marker\": {\"color\": \"mediumblue\", \"size\": 8}, \"mode\": \"markers\", \"showlegend\": false, \"type\": \"scatter\", \"x\": [\"2019-07-11T15:00:00\", \"2019-07-11T16:30:00\", \"2019-07-11T17:45:00\", \"2019-07-11T20:35:00\", \"2019-07-11T21:40:00\", \"2019-07-11T23:55:00\"], \"xaxis\": \"x\", \"y\": [1.12516, 1.12458, 1.12463, 1.1252, 1.12536, 1.12499], \"yaxis\": \"y\"}, {\"marker\": {\"color\": \"green\", \"line\": {\"color\": \"black\", \"width\": 2}, \"size\": 10, \"symbol\": \"triangle-up\"}, \"mode\": \"markers\", \"showlegend\": false, \"type\": \"scatter\", \"x\": [\"2019-07-11T19:30:00\", \"2019-07-11T21:20:00\"], \"xaxis\": \"x\", \"y\": [1.12611, 1.12596], \"yaxis\": \"y\"}, {\"marker\": {\"color\": \"red\", \"line\": {\"color\": \"black\", \"width\": 2}, \"size\": 10, \"symbol\": \"triangle-down\"}, \"mode\": \"markers\", \"showlegend\": false, \"type\": \"scatter\", \"x\": [\"2019-07-11T17:35:00\"], \"xaxis\": \"x\", \"y\": [1.12583], \"yaxis\": \"y\"}, {\"close\": [1.16943, 1.16976, 1.16955, 1.16959, 1.16953, 1.16978, 1.16947, 1.16969, 1.16958, 1.1698, 1.16984, 1.16973, 1.17005, 1.17015, 1.17038, 1.17047, 1.17128, 1.17143, 1.17142, 1.17108, 1.17101, 1.17075, 1.17103, 1.17087, 1.17062, 1.17043, 1.17087, 1.17072, 1.17032, 1.17023, 1.17038, 1.17052, 1.1704, 1.16999, 1.17024, 1.17045, 1.17029, 1.17048, 1.1704, 1.17089, 1.17128, 1.17096, 1.17053, 1.17058, 1.17043, 1.17051, 1.17087, 1.17074, 1.17054, 1.17065, 1.17122, 1.17185, 1.17209, 1.17183, 1.1718, 1.1714, 1.17151, 1.1712, 1.17194, 1.1721, 1.17212, 1.17215, 1.17228, 1.17188, 1.17229, 1.1721, 1.17218, 1.17233, 1.17339, 1.17302, 1.17273, 1.17343, 1.17346, 1.17361, 1.17328, 1.17297, 1.17282, 1.17289, 1.17241, 1.17227, 1.17241, 1.17241, 1.17238, 1.17268, 1.17263, 1.17274, 1.17282, 1.17284, 1.17235, 1.17232, 1.17215, 1.17177, 1.17153, 1.17102, 1.1711, 1.17085, 1.17085, 1.17081, 1.17046, 1.17052, 1.17061, 1.17056, 1.17056, 1.17038, 1.17051, 1.17003, 1.17032, 1.16998, 1.17008, 1.17018, 1.17031, 1.17043, 1.17043, 1.17033, 1.17038, 1.1704, 1.17028, 1.17056, 1.17033, 1.17039, 1.1703], \"high\": [1.1698, 1.16976, 1.16989, 1.16973, 1.16972, 1.16992, 1.16981, 1.1699, 1.16981, 1.16985, 1.16987, 1.17032, 1.1701, 1.17023, 1.17058, 1.17062, 1.17149, 1.17179, 1.17188, 1.17142, 1.17117, 1.17122, 1.1711, 1.17109, 1.17091, 1.17062, 1.17123, 1.17103, 1.17073, 1.17039, 1.17049, 1.17061, 1.17065, 1.17054, 1.17034, 1.17059, 1.17047, 1.17055, 1.17057, 1.17098, 1.1714, 1.17137, 1.17132, 1.17076, 1.1706, 1.17084, 1.17098, 1.17099, 1.17085, 1.17074, 1.17129, 1.17187, 1.17216, 1.17227, 1.17187, 1.17183, 1.17183, 1.17165, 1.172, 1.17245, 1.17222, 1.17224, 1.17254, 1.17228, 1.17255, 1.17243, 1.17234, 1.17252, 1.1734, 1.17358, 1.17315, 1.17345, 1.17363, 1.17404, 1.17363, 1.17333, 1.17302, 1.17293, 1.17308, 1.17254, 1.17255, 1.17252, 1.17267, 1.1727, 1.17292, 1.17275, 1.17285, 1.17298, 1.17287, 1.17242, 1.17248, 1.17217, 1.17178, 1.17165, 1.17133, 1.1711, 1.17094, 1.17099, 1.17086, 1.17059, 1.17067, 1.17066, 1.17076, 1.17059, 1.17057, 1.17058, 1.17035, 1.17033, 1.17019, 1.17023, 1.17032, 1.17043, 1.1705, 1.1705, 1.17044, 1.17045, 1.1704, 1.17065, 1.17064, 1.17054, 1.17041], \"low\": [1.16943, 1.16936, 1.1695, 1.16949, 1.16947, 1.16953, 1.1694, 1.16947, 1.16956, 1.16955, 1.16963, 1.16968, 1.16973, 1.16985, 1.17015, 1.17028, 1.17046, 1.17127, 1.1714, 1.17103, 1.17082, 1.17063, 1.17073, 1.17069, 1.17062, 1.17028, 1.17031, 1.17062, 1.17032, 1.17017, 1.17021, 1.17038, 1.17038, 1.16992, 1.16998, 1.17024, 1.17011, 1.17014, 1.1703, 1.1704, 1.17077, 1.17094, 1.1705, 1.1705, 1.17029, 1.1704, 1.17049, 1.17073, 1.1703, 1.17032, 1.17065, 1.17117, 1.17163, 1.17179, 1.17156, 1.17139, 1.17132, 1.17118, 1.1712, 1.17185, 1.17194, 1.17172, 1.17206, 1.17182, 1.17188, 1.17191, 1.17193, 1.17206, 1.17233, 1.173, 1.17271, 1.17273, 1.17319, 1.17331, 1.17317, 1.17295, 1.17276, 1.17261, 1.17236, 1.17225, 1.17218, 1.1722, 1.17237, 1.17236, 1.17261, 1.17253, 1.17266, 1.17276, 1.17235, 1.17228, 1.17209, 1.17173, 1.17151, 1.17087, 1.17102, 1.17077, 1.17077, 1.17081, 1.17044, 1.17027, 1.17045, 1.17043, 1.17046, 1.17036, 1.17036, 1.17002, 1.17, 1.16994, 1.16998, 1.16995, 1.17017, 1.17024, 1.17026, 1.17027, 1.17022, 1.17016, 1.17013, 1.17027, 1.17029, 1.17029, 1.17028], \"open\": [1.16979, 1.16943, 1.16976, 1.16955, 1.16959, 1.16953, 1.16978, 1.16947, 1.16969, 1.16958, 1.1698, 1.16984, 1.16973, 1.17005, 1.17015, 1.17038, 1.17047, 1.17128, 1.17143, 1.17142, 1.17108, 1.17101, 1.17075, 1.17103, 1.17087, 1.17062, 1.17043, 1.17087, 1.17072, 1.17032, 1.17023, 1.17038, 1.17052, 1.1704, 1.16999, 1.17024, 1.17045, 1.17029, 1.17048, 1.1704, 1.17089, 1.17128, 1.17096, 1.17053, 1.17058, 1.17043, 1.17051, 1.17087, 1.17074, 1.17054, 1.17065, 1.17122, 1.17185, 1.17209, 1.17183, 1.1718, 1.1714, 1.17151, 1.1712, 1.17194, 1.1721, 1.17212, 1.17215, 1.17228, 1.17188, 1.17229, 1.1721, 1.17218, 1.17233, 1.17339, 1.17302, 1.17273, 1.17343, 1.17346, 1.17361, 1.17328, 1.17297, 1.17282, 1.17289, 1.17241, 1.17227, 1.17241, 1.17241, 1.17238, 1.17268, 1.17263, 1.17274, 1.17282, 1.17284, 1.17235, 1.17232, 1.17215, 1.17177, 1.17153, 1.17102, 1.1711, 1.17085, 1.17085, 1.17081, 1.17046, 1.17052, 1.17061, 1.17056, 1.17056, 1.17038, 1.17051, 1.17003, 1.17032, 1.16998, 1.17008, 1.17018, 1.17031, 1.17043, 1.17043, 1.17033, 1.17038, 1.1704, 1.17028, 1.17056, 1.17033, 1.17039], \"showlegend\": false, \"type\": \"candlestick\", \"x\": [\"2020-11-03T10:10:00\", \"2020-11-03T10:15:00\", \"2020-11-03T10:20:00\", \"2020-11-03T10:25:00\", \"2020-11-03T10:30:00\", \"2020-11-03T10:35:00\", \"2020-11-03T10:40:00\", \"2020-11-03T10:45:00\", \"2020-11-03T10:50:00\", \"2020-11-03T10:55:00\", \"2020-11-03T11:00:00\", \"2020-11-03T11:05:00\", \"2020-11-03T11:10:00\", \"2020-11-03T11:15:00\", \"2020-11-03T11:20:00\", \"2020-11-03T11:25:00\", \"2020-11-03T11:30:00\", \"2020-11-03T11:35:00\", \"2020-11-03T11:40:00\", \"2020-11-03T11:45:00\", \"2020-11-03T11:50:00\", \"2020-11-03T11:55:00\", \"2020-11-03T12:00:00\", \"2020-11-03T12:05:00\", \"2020-11-03T12:10:00\", \"2020-11-03T12:15:00\", \"2020-11-03T12:20:00\", \"2020-11-03T12:25:00\", \"2020-11-03T12:30:00\", \"2020-11-03T12:35:00\", \"2020-11-03T12:40:00\", \"2020-11-03T12:45:00\", \"2020-11-03T12:50:00\", \"2020-11-03T12:55:00\", \"2020-11-03T13:00:00\", \"2020-11-03T13:05:00\", \"2020-11-03T13:10:00\", \"2020-11-03T13:15:00\", \"2020-11-03T13:20:00\", \"2020-11-03T13:25:00\", \"2020-11-03T13:30:00\", \"2020-11-03T13:35:00\", \"2020-11-03T13:40:00\", \"2020-11-03T13:45:00\", \"2020-11-03T13:50:00\", \"2020-11-03T13:55:00\", \"2020-11-03T14:00:00\", \"2020-11-03T14:05:00\", \"2020-11-03T14:10:00\", \"2020-11-03T14:15:00\", \"2020-11-03T14:20:00\", \"2020-11-03T14:25:00\", \"2020-11-03T14:30:00\", \"2020-11-03T14:35:00\", \"2020-11-03T14:40:00\", \"2020-11-03T14:45:00\", \"2020-11-03T14:50:00\", \"2020-11-03T14:55:00\", \"2020-11-03T15:00:00\", \"2020-11-03T15:05:00\", \"2020-11-03T15:10:00\", \"2020-11-03T15:15:00\", \"2020-11-03T15:20:00\", \"2020-11-03T15:25:00\", \"2020-11-03T15:30:00\", \"2020-11-03T15:35:00\", \"2020-11-03T15:40:00\", \"2020-11-03T15:45:00\", \"2020-11-03T15:50:00\", \"2020-11-03T15:55:00\", \"2020-11-03T16:00:00\", \"2020-11-03T16:05:00\", \"2020-11-03T16:10:00\", \"2020-11-03T16:15:00\", \"2020-11-03T16:20:00\", \"2020-11-03T16:25:00\", \"2020-11-03T16:30:00\", \"2020-11-03T16:35:00\", \"2020-11-03T16:40:00\", \"2020-11-03T16:45:00\", \"2020-11-03T16:50:00\", \"2020-11-03T16:55:00\", \"2020-11-03T17:00:00\", \"2020-11-03T17:05:00\", \"2020-11-03T17:10:00\", \"2020-11-03T17:15:00\", \"2020-11-03T17:20:00\", \"2020-11-03T17:25:00\", \"2020-11-03T17:30:00\", \"2020-11-03T17:35:00\", \"2020-11-03T17:40:00\", \"2020-11-03T17:45:00\", \"2020-11-03T17:50:00\", \"2020-11-03T17:55:00\", \"2020-11-03T18:00:00\", \"2020-11-03T18:05:00\", \"2020-11-03T18:10:00\", \"2020-11-03T18:15:00\", \"2020-11-03T18:20:00\", \"2020-11-03T18:25:00\", \"2020-11-03T18:30:00\", \"2020-11-03T18:35:00\", \"2020-11-03T18:40:00\", \"2020-11-03T18:45:00\", \"2020-11-03T18:50:00\", \"2020-11-03T18:55:00\", \"2020-11-03T19:00:00\", \"2020-11-03T19:05:00\", \"2020-11-03T19:10:00\", \"2020-11-03T19:15:00\", \"2020-11-03T19:20:00\", \"2020-11-03T19:25:00\", \"2020-11-03T19:30:00\", \"2020-11-03T19:35:00\", \"2020-11-03T19:40:00\", \"2020-11-03T19:45:00\", \"2020-11-03T19:50:00\", \"2020-11-03T19:55:00\", \"2020-11-03T20:00:00\", \"2020-11-03T20:05:00\", \"2020-11-03T20:10:00\"], \"xaxis\": \"x2\", \"yaxis\": \"y2\"}, {\"marker\": {\"color\": \"mediumpurple\", \"size\": 8}, \"mode\": \"markers\", \"showlegend\": false, \"type\": \"scatter\", \"x\": [\"2020-11-03T11:40:00\", \"2020-11-03T13:30:00\", \"2020-11-03T14:35:00\", \"2020-11-03T16:15:00\", \"2020-11-03T17:25:00\", \"2020-11-03T19:55:00\"], \"xaxis\": \"x2\", \"y\": [1.17188, 1.1714, 1.17227, 1.17404, 1.17298, 1.17065], \"yaxis\": \"y2\"}, {\"marker\": {\"color\": \"mediumblue\", \"size\": 8}, \"mode\": \"markers\", \"showlegend\": false, \"type\": \"scatter\", \"x\": [\"2020-11-03T10:15:00\", \"2020-11-03T12:35:00\", \"2020-11-03T13:50:00\", \"2020-11-03T14:55:00\", \"2020-11-03T16:50:00\", \"2020-11-03T19:05:00\"], \"xaxis\": \"x2\", \"y\": [1.16936, 1.17017, 1.17029, 1.17118, 1.17218, 1.16994], \"yaxis\": \"y2\"}, {\"marker\": {\"color\": \"green\", \"line\": {\"color\": \"black\", \"width\": 2}, \"size\": 10, \"symbol\": \"triangle-up\"}, \"mode\": \"markers\", \"showlegend\": false, \"type\": \"scatter\", \"x\": [\"2020-11-03T14:35:00\", \"2020-11-03T16:15:00\"], \"xaxis\": \"x2\", \"y\": [1.17183, 1.17361], \"yaxis\": \"y2\"}, {\"marker\": {\"color\": \"red\", \"line\": {\"color\": \"black\", \"width\": 2}, \"size\": 10, \"symbol\": \"triangle-down\"}, \"mode\": \"markers\", \"showlegend\": false, \"type\": \"scatter\", \"x\": [\"2020-11-03T19:55:00\"], \"xaxis\": \"x2\", \"y\": [1.17056], \"yaxis\": \"y2\"}],                        {\"template\": {\"data\": {\"bar\": [{\"error_x\": {\"color\": \"#2a3f5f\"}, \"error_y\": {\"color\": \"#2a3f5f\"}, \"marker\": {\"line\": {\"color\": \"#E5ECF6\", \"width\": 0.5}}, \"type\": \"bar\"}], \"barpolar\": [{\"marker\": {\"line\": {\"color\": \"#E5ECF6\", \"width\": 0.5}}, \"type\": \"barpolar\"}], \"carpet\": [{\"aaxis\": {\"endlinecolor\": \"#2a3f5f\", \"gridcolor\": \"white\", \"linecolor\": \"white\", \"minorgridcolor\": \"white\", \"startlinecolor\": \"#2a3f5f\"}, \"baxis\": {\"endlinecolor\": \"#2a3f5f\", \"gridcolor\": \"white\", \"linecolor\": \"white\", \"minorgridcolor\": \"white\", \"startlinecolor\": \"#2a3f5f\"}, \"type\": \"carpet\"}], \"choropleth\": [{\"colorbar\": {\"outlinewidth\": 0, \"ticks\": \"\"}, \"type\": \"choropleth\"}], \"contour\": [{\"colorbar\": {\"outlinewidth\": 0, \"ticks\": \"\"}, \"colorscale\": [[0.0, \"#0d0887\"], [0.1111111111111111, \"#46039f\"], [0.2222222222222222, \"#7201a8\"], [0.3333333333333333, \"#9c179e\"], [0.4444444444444444, \"#bd3786\"], [0.5555555555555556, \"#d8576b\"], [0.6666666666666666, \"#ed7953\"], [0.7777777777777778, \"#fb9f3a\"], [0.8888888888888888, \"#fdca26\"], [1.0, \"#f0f921\"]], \"type\": \"contour\"}], \"contourcarpet\": [{\"colorbar\": {\"outlinewidth\": 0, \"ticks\": \"\"}, \"type\": \"contourcarpet\"}], \"heatmap\": [{\"colorbar\": {\"outlinewidth\": 0, \"ticks\": \"\"}, \"colorscale\": [[0.0, \"#0d0887\"], [0.1111111111111111, \"#46039f\"], [0.2222222222222222, \"#7201a8\"], [0.3333333333333333, \"#9c179e\"], [0.4444444444444444, \"#bd3786\"], [0.5555555555555556, \"#d8576b\"], [0.6666666666666666, \"#ed7953\"], [0.7777777777777778, \"#fb9f3a\"], [0.8888888888888888, \"#fdca26\"], [1.0, \"#f0f921\"]], \"type\": \"heatmap\"}], \"heatmapgl\": [{\"colorbar\": {\"outlinewidth\": 0, \"ticks\": \"\"}, \"colorscale\": [[0.0, \"#0d0887\"], [0.1111111111111111, \"#46039f\"], [0.2222222222222222, \"#7201a8\"], [0.3333333333333333, \"#9c179e\"], [0.4444444444444444, \"#bd3786\"], [0.5555555555555556, \"#d8576b\"], [0.6666666666666666, \"#ed7953\"], [0.7777777777777778, \"#fb9f3a\"], [0.8888888888888888, \"#fdca26\"], [1.0, \"#f0f921\"]], \"type\": \"heatmapgl\"}], \"histogram\": [{\"marker\": {\"colorbar\": {\"outlinewidth\": 0, \"ticks\": \"\"}}, \"type\": \"histogram\"}], \"histogram2d\": [{\"colorbar\": {\"outlinewidth\": 0, \"ticks\": \"\"}, \"colorscale\": [[0.0, \"#0d0887\"], [0.1111111111111111, \"#46039f\"], [0.2222222222222222, \"#7201a8\"], [0.3333333333333333, \"#9c179e\"], [0.4444444444444444, \"#bd3786\"], [0.5555555555555556, \"#d8576b\"], [0.6666666666666666, \"#ed7953\"], [0.7777777777777778, \"#fb9f3a\"], [0.8888888888888888, \"#fdca26\"], [1.0, \"#f0f921\"]], \"type\": \"histogram2d\"}], \"histogram2dcontour\": [{\"colorbar\": {\"outlinewidth\": 0, \"ticks\": \"\"}, \"colorscale\": [[0.0, \"#0d0887\"], [0.1111111111111111, \"#46039f\"], [0.2222222222222222, \"#7201a8\"], [0.3333333333333333, \"#9c179e\"], [0.4444444444444444, \"#bd3786\"], [0.5555555555555556, \"#d8576b\"], [0.6666666666666666, \"#ed7953\"], [0.7777777777777778, \"#fb9f3a\"], [0.8888888888888888, \"#fdca26\"], [1.0, \"#f0f921\"]], \"type\": \"histogram2dcontour\"}], \"mesh3d\": [{\"colorbar\": {\"outlinewidth\": 0, \"ticks\": \"\"}, \"type\": \"mesh3d\"}], \"parcoords\": [{\"line\": {\"colorbar\": {\"outlinewidth\": 0, \"ticks\": \"\"}}, \"type\": \"parcoords\"}], \"pie\": [{\"automargin\": true, \"type\": \"pie\"}], \"scatter\": [{\"marker\": {\"colorbar\": {\"outlinewidth\": 0, \"ticks\": \"\"}}, \"type\": \"scatter\"}], \"scatter3d\": [{\"line\": {\"colorbar\": {\"outlinewidth\": 0, \"ticks\": \"\"}}, \"marker\": {\"colorbar\": {\"outlinewidth\": 0, \"ticks\": \"\"}}, \"type\": \"scatter3d\"}], \"scattercarpet\": [{\"marker\": {\"colorbar\": {\"outlinewidth\": 0, \"ticks\": \"\"}}, \"type\": \"scattercarpet\"}], \"scattergeo\": [{\"marker\": {\"colorbar\": {\"outlinewidth\": 0, \"ticks\": \"\"}}, \"type\": \"scattergeo\"}], \"scattergl\": [{\"marker\": {\"colorbar\": {\"outlinewidth\": 0, \"ticks\": \"\"}}, \"type\": \"scattergl\"}], \"scattermapbox\": [{\"marker\": {\"colorbar\": {\"outlinewidth\": 0, \"ticks\": \"\"}}, \"type\": \"scattermapbox\"}], \"scatterpolar\": [{\"marker\": {\"colorbar\": {\"outlinewidth\": 0, \"ticks\": \"\"}}, \"type\": \"scatterpolar\"}], \"scatterpolargl\": [{\"marker\": {\"colorbar\": {\"outlinewidth\": 0, \"ticks\": \"\"}}, \"type\": \"scatterpolargl\"}], \"scatterternary\": [{\"marker\": {\"colorbar\": {\"outlinewidth\": 0, \"ticks\": \"\"}}, \"type\": \"scatterternary\"}], \"surface\": [{\"colorbar\": {\"outlinewidth\": 0, \"ticks\": \"\"}, \"colorscale\": [[0.0, \"#0d0887\"], [0.1111111111111111, \"#46039f\"], [0.2222222222222222, \"#7201a8\"], [0.3333333333333333, \"#9c179e\"], [0.4444444444444444, \"#bd3786\"], [0.5555555555555556, \"#d8576b\"], [0.6666666666666666, \"#ed7953\"], [0.7777777777777778, \"#fb9f3a\"], [0.8888888888888888, \"#fdca26\"], [1.0, \"#f0f921\"]], \"type\": \"surface\"}], \"table\": [{\"cells\": {\"fill\": {\"color\": \"#EBF0F8\"}, \"line\": {\"color\": \"white\"}}, \"header\": {\"fill\": {\"color\": \"#C8D4E3\"}, \"line\": {\"color\": \"white\"}}, \"type\": \"table\"}]}, \"layout\": {\"annotationdefaults\": {\"arrowcolor\": \"#2a3f5f\", \"arrowhead\": 0, \"arrowwidth\": 1}, \"coloraxis\": {\"colorbar\": {\"outlinewidth\": 0, \"ticks\": \"\"}}, \"colorscale\": {\"diverging\": [[0, \"#8e0152\"], [0.1, \"#c51b7d\"], [0.2, \"#de77ae\"], [0.3, \"#f1b6da\"], [0.4, \"#fde0ef\"], [0.5, \"#f7f7f7\"], [0.6, \"#e6f5d0\"], [0.7, \"#b8e186\"], [0.8, \"#7fbc41\"], [0.9, \"#4d9221\"], [1, \"#276419\"]], \"sequential\": [[0.0, \"#0d0887\"], [0.1111111111111111, \"#46039f\"], [0.2222222222222222, \"#7201a8\"], [0.3333333333333333, \"#9c179e\"], [0.4444444444444444, \"#bd3786\"], [0.5555555555555556, \"#d8576b\"], [0.6666666666666666, \"#ed7953\"], [0.7777777777777778, \"#fb9f3a\"], [0.8888888888888888, \"#fdca26\"], [1.0, \"#f0f921\"]], \"sequentialminus\": [[0.0, \"#0d0887\"], [0.1111111111111111, \"#46039f\"], [0.2222222222222222, \"#7201a8\"], [0.3333333333333333, \"#9c179e\"], [0.4444444444444444, \"#bd3786\"], [0.5555555555555556, \"#d8576b\"], [0.6666666666666666, \"#ed7953\"], [0.7777777777777778, \"#fb9f3a\"], [0.8888888888888888, \"#fdca26\"], [1.0, \"#f0f921\"]]}, \"colorway\": [\"#636efa\", \"#EF553B\", \"#00cc96\", \"#ab63fa\", \"#FFA15A\", \"#19d3f3\", \"#FF6692\", \"#B6E880\", \"#FF97FF\", \"#FECB52\"], \"font\": {\"color\": \"#2a3f5f\"}, \"geo\": {\"bgcolor\": \"white\", \"lakecolor\": \"white\", \"landcolor\": \"#E5ECF6\", \"showlakes\": true, \"showland\": true, \"subunitcolor\": \"white\"}, \"hoverlabel\": {\"align\": \"left\"}, \"hovermode\": \"closest\", \"mapbox\": {\"style\": \"light\"}, \"paper_bgcolor\": \"white\", \"plot_bgcolor\": \"#E5ECF6\", \"polar\": {\"angularaxis\": {\"gridcolor\": \"white\", \"linecolor\": \"white\", \"ticks\": \"\"}, \"bgcolor\": \"#E5ECF6\", \"radialaxis\": {\"gridcolor\": \"white\", \"linecolor\": \"white\", \"ticks\": \"\"}}, \"scene\": {\"xaxis\": {\"backgroundcolor\": \"#E5ECF6\", \"gridcolor\": \"white\", \"gridwidth\": 2, \"linecolor\": \"white\", \"showbackground\": true, \"ticks\": \"\", \"zerolinecolor\": \"white\"}, \"yaxis\": {\"backgroundcolor\": \"#E5ECF6\", \"gridcolor\": \"white\", \"gridwidth\": 2, \"linecolor\": \"white\", \"showbackground\": true, \"ticks\": \"\", \"zerolinecolor\": \"white\"}, \"zaxis\": {\"backgroundcolor\": \"#E5ECF6\", \"gridcolor\": \"white\", \"gridwidth\": 2, \"linecolor\": \"white\", \"showbackground\": true, \"ticks\": \"\", \"zerolinecolor\": \"white\"}}, \"shapedefaults\": {\"line\": {\"color\": \"#2a3f5f\"}}, \"ternary\": {\"aaxis\": {\"gridcolor\": \"white\", \"linecolor\": \"white\", \"ticks\": \"\"}, \"baxis\": {\"gridcolor\": \"white\", \"linecolor\": \"white\", \"ticks\": \"\"}, \"bgcolor\": \"#E5ECF6\", \"caxis\": {\"gridcolor\": \"white\", \"linecolor\": \"white\", \"ticks\": \"\"}}, \"title\": {\"x\": 0.05}, \"xaxis\": {\"automargin\": true, \"gridcolor\": \"white\", \"linecolor\": \"white\", \"ticks\": \"\", \"title\": {\"standoff\": 15}, \"zerolinecolor\": \"white\", \"zerolinewidth\": 2}, \"yaxis\": {\"automargin\": true, \"gridcolor\": \"white\", \"linecolor\": \"white\", \"ticks\": \"\", \"title\": {\"standoff\": 15}, \"zerolinecolor\": \"white\", \"zerolinewidth\": 2}}}, \"xaxis\": {\"anchor\": \"y\", \"domain\": [0.0, 0.45], \"rangeslider\": {\"visible\": false}}, \"xaxis2\": {\"anchor\": \"y2\", \"domain\": [0.55, 1.0], \"rangeslider\": {\"visible\": false}}, \"yaxis\": {\"anchor\": \"x\", \"domain\": [0.0, 1.0]}, \"yaxis2\": {\"anchor\": \"x2\", \"domain\": [0.0, 1.0]}},                        {\"responsive\": true}                    ).then(function(){\n",
       "                            \n",
       "var gd = document.getElementById('a52d941f-bfe1-499d-8b5a-2a76716a8f7b');\n",
       "var x = new MutationObserver(function (mutations, observer) {{\n",
       "        var display = window.getComputedStyle(gd).display;\n",
       "        if (!display || display === 'none') {{\n",
       "            console.log([gd, 'removed!']);\n",
       "            Plotly.purge(gd);\n",
       "            observer.disconnect();\n",
       "        }}\n",
       "}});\n",
       "\n",
       "// Listen for the removal of the full notebook cells\n",
       "var notebookContainer = gd.closest('#notebook-container');\n",
       "if (notebookContainer) {{\n",
       "    x.observe(notebookContainer, {childList: true});\n",
       "}}\n",
       "\n",
       "// Listen for the clearing of the current output cell\n",
       "var outputEl = gd.closest('.output');\n",
       "if (outputEl) {{\n",
       "    x.observe(outputEl, {childList: true});\n",
       "}}\n",
       "\n",
       "                        })                };                });            </script>        </div>"
      ]
     },
     "metadata": {},
     "output_type": "display_data"
    },
    {
     "data": {
      "application/vnd.plotly.v1+json": {
       "config": {
        "plotlyServerURL": "https://plot.ly"
       },
       "data": [
        {
         "close": [
          1.10039,
          1.10028,
          1.10039,
          1.10028,
          1.10033,
          1.10007,
          1.10027,
          1.10006,
          1.09987,
          1.09987,
          1.10013,
          1.10027,
          1.10036,
          1.1003,
          1.10042,
          1.10039,
          1.10042,
          1.10017,
          1.10032,
          1.10044,
          1.10046,
          1.10048,
          1.10044,
          1.10037,
          1.10035,
          1.10032,
          1.10035,
          1.10039,
          1.10044,
          1.10051,
          1.10032,
          1.10033,
          1.10028,
          1.10023,
          1.10019,
          1.10016,
          1.10006,
          1.10006,
          1.10013,
          1.10003,
          1.09992,
          1.10017,
          1.10017,
          1.10021,
          1.10017,
          1.10013,
          1.10013,
          1.10012,
          1.10012,
          1.10001,
          1.10002,
          1.10003,
          1.09991,
          1.10001,
          1.10036,
          1.10035,
          1.10016,
          1.10096,
          1.10073,
          1.10067,
          1.10065,
          1.10093,
          1.10068,
          1.10047,
          1.1006,
          1.10068,
          1.10063,
          1.10052,
          1.10048,
          1.10059,
          1.10061,
          1.10048,
          1.10053,
          1.10057,
          1.10062,
          1.10063,
          1.10062,
          1.10056,
          1.1004,
          1.10062,
          1.10057,
          1.10056,
          1.10064,
          1.10065,
          1.10057,
          1.10062,
          1.10067,
          1.10062,
          1.10073,
          1.10073,
          1.10072,
          1.10076,
          1.10063,
          1.10061,
          1.10067,
          1.10075,
          1.10052,
          1.10051,
          1.10066,
          1.10061,
          1.10062,
          1.1008,
          1.10065,
          1.10071,
          1.10072,
          1.10079,
          1.10077,
          1.10067,
          1.10073,
          1.10068,
          1.10068,
          1.10072,
          1.10067,
          1.10078,
          1.10071,
          1.10073,
          1.10072,
          1.1007,
          1.10072,
          1.10072,
          1.10069
         ],
         "high": [
          1.10039,
          1.1004,
          1.1004,
          1.10039,
          1.10034,
          1.10033,
          1.10032,
          1.10048,
          1.10012,
          1.10002,
          1.10013,
          1.10029,
          1.10039,
          1.10037,
          1.10042,
          1.10054,
          1.10047,
          1.10047,
          1.10035,
          1.10044,
          1.10054,
          1.10056,
          1.10054,
          1.10049,
          1.10041,
          1.10035,
          1.10043,
          1.10043,
          1.10047,
          1.10081,
          1.10053,
          1.10048,
          1.10033,
          1.10028,
          1.10028,
          1.10023,
          1.10022,
          1.10011,
          1.10014,
          1.10013,
          1.10008,
          1.10018,
          1.10018,
          1.10025,
          1.10025,
          1.10018,
          1.10024,
          1.10023,
          1.10014,
          1.10012,
          1.10003,
          1.1001,
          1.10009,
          1.10002,
          1.10102,
          1.10045,
          1.10049,
          1.10098,
          1.10122,
          1.10079,
          1.10068,
          1.101,
          1.10093,
          1.10072,
          1.10062,
          1.1008,
          1.1007,
          1.10068,
          1.10052,
          1.10059,
          1.10063,
          1.10061,
          1.10053,
          1.10057,
          1.10063,
          1.10063,
          1.10063,
          1.10062,
          1.10071,
          1.10062,
          1.10067,
          1.10058,
          1.10068,
          1.10072,
          1.10067,
          1.10068,
          1.10067,
          1.10074,
          1.10075,
          1.10077,
          1.10078,
          1.10079,
          1.10077,
          1.10063,
          1.10068,
          1.10087,
          1.10076,
          1.10057,
          1.10067,
          1.10072,
          1.10066,
          1.10082,
          1.1008,
          1.10073,
          1.10079,
          1.10079,
          1.10083,
          1.10077,
          1.10077,
          1.10076,
          1.10078,
          1.10075,
          1.10072,
          1.10078,
          1.10078,
          1.10077,
          1.10074,
          1.10074,
          1.10072,
          1.10073,
          1.10074
         ],
         "low": [
          1.10024,
          1.10023,
          1.1002,
          1.10022,
          1.1002,
          1.10007,
          1.09993,
          1.10003,
          1.09978,
          1.09976,
          1.09987,
          1.10009,
          1.10018,
          1.10027,
          1.1003,
          1.10039,
          1.10038,
          1.10013,
          1.10013,
          1.10027,
          1.10038,
          1.10043,
          1.10041,
          1.10028,
          1.10028,
          1.10013,
          1.10028,
          1.10029,
          1.10028,
          1.10034,
          1.10024,
          1.10028,
          1.10018,
          1.1002,
          1.10014,
          1.10005,
          1.10006,
          1.09997,
          1.10002,
          1.10001,
          1.0999,
          1.0999,
          1.10009,
          1.10015,
          1.10016,
          1.10003,
          1.10012,
          1.1001,
          1.1001,
          1.1,
          1.09995,
          1.1,
          1.09988,
          1.09984,
          1.10001,
          1.10021,
          1.10013,
          1.10016,
          1.10072,
          1.10061,
          1.1006,
          1.1006,
          1.10068,
          1.10044,
          1.10047,
          1.10058,
          1.10045,
          1.10052,
          1.10042,
          1.10046,
          1.10057,
          1.10047,
          1.10043,
          1.10052,
          1.10056,
          1.10052,
          1.10057,
          1.10051,
          1.1004,
          1.10039,
          1.10052,
          1.10044,
          1.10055,
          1.1006,
          1.10055,
          1.10057,
          1.1006,
          1.10058,
          1.10057,
          1.10071,
          1.10071,
          1.10071,
          1.1006,
          1.1006,
          1.10057,
          1.10066,
          1.10049,
          1.10044,
          1.1005,
          1.10061,
          1.10057,
          1.10062,
          1.10063,
          1.10062,
          1.10067,
          1.10067,
          1.10077,
          1.10066,
          1.10067,
          1.10066,
          1.10068,
          1.10068,
          1.10067,
          1.10067,
          1.10067,
          1.1007,
          1.10067,
          1.10068,
          1.10067,
          1.10071,
          1.10067
         ],
         "open": [
          1.1003,
          1.10039,
          1.10028,
          1.10039,
          1.10028,
          1.10033,
          1.10007,
          1.10027,
          1.10006,
          1.09987,
          1.09987,
          1.10013,
          1.10027,
          1.10036,
          1.1003,
          1.10042,
          1.10039,
          1.10042,
          1.10017,
          1.10032,
          1.10044,
          1.10046,
          1.10048,
          1.10044,
          1.10037,
          1.10035,
          1.10032,
          1.10035,
          1.10039,
          1.10044,
          1.10051,
          1.10032,
          1.10033,
          1.10028,
          1.10023,
          1.10019,
          1.10016,
          1.10006,
          1.10006,
          1.10013,
          1.10003,
          1.09992,
          1.10017,
          1.10017,
          1.10021,
          1.10017,
          1.10013,
          1.10013,
          1.10012,
          1.10012,
          1.10001,
          1.10002,
          1.10003,
          1.09991,
          1.10001,
          1.10036,
          1.10035,
          1.10016,
          1.10096,
          1.10073,
          1.10067,
          1.10065,
          1.10093,
          1.10068,
          1.10047,
          1.1006,
          1.10068,
          1.10063,
          1.10052,
          1.10048,
          1.10059,
          1.10061,
          1.10048,
          1.10053,
          1.10057,
          1.10062,
          1.10063,
          1.10062,
          1.10056,
          1.1004,
          1.10062,
          1.10057,
          1.10056,
          1.10064,
          1.10065,
          1.10057,
          1.10062,
          1.10067,
          1.10062,
          1.10073,
          1.10073,
          1.10072,
          1.10076,
          1.10063,
          1.10061,
          1.10067,
          1.10075,
          1.10052,
          1.10051,
          1.10066,
          1.10061,
          1.10062,
          1.1008,
          1.10065,
          1.10071,
          1.10072,
          1.10079,
          1.10077,
          1.10067,
          1.10073,
          1.10068,
          1.10068,
          1.10072,
          1.10067,
          1.10078,
          1.10071,
          1.10073,
          1.10072,
          1.1007,
          1.10072,
          1.10072
         ],
         "showlegend": false,
         "type": "candlestick",
         "x": [
          "2019-11-27T17:30:00",
          "2019-11-27T17:35:00",
          "2019-11-27T17:40:00",
          "2019-11-27T17:45:00",
          "2019-11-27T17:50:00",
          "2019-11-27T17:55:00",
          "2019-11-27T18:00:00",
          "2019-11-27T18:05:00",
          "2019-11-27T18:10:00",
          "2019-11-27T18:15:00",
          "2019-11-27T18:20:00",
          "2019-11-27T18:25:00",
          "2019-11-27T18:30:00",
          "2019-11-27T18:35:00",
          "2019-11-27T18:40:00",
          "2019-11-27T18:45:00",
          "2019-11-27T18:50:00",
          "2019-11-27T18:55:00",
          "2019-11-27T19:00:00",
          "2019-11-27T19:05:00",
          "2019-11-27T19:10:00",
          "2019-11-27T19:15:00",
          "2019-11-27T19:20:00",
          "2019-11-27T19:25:00",
          "2019-11-27T19:30:00",
          "2019-11-27T19:35:00",
          "2019-11-27T19:40:00",
          "2019-11-27T19:45:00",
          "2019-11-27T19:50:00",
          "2019-11-27T19:55:00",
          "2019-11-27T20:00:00",
          "2019-11-27T20:05:00",
          "2019-11-27T20:10:00",
          "2019-11-27T20:15:00",
          "2019-11-27T20:20:00",
          "2019-11-27T20:25:00",
          "2019-11-27T20:30:00",
          "2019-11-27T20:35:00",
          "2019-11-27T20:40:00",
          "2019-11-27T20:45:00",
          "2019-11-27T20:50:00",
          "2019-11-27T20:55:00",
          "2019-11-27T21:00:00",
          "2019-11-27T21:05:00",
          "2019-11-27T21:10:00",
          "2019-11-27T21:15:00",
          "2019-11-27T21:20:00",
          "2019-11-27T21:25:00",
          "2019-11-27T21:30:00",
          "2019-11-27T21:35:00",
          "2019-11-27T21:40:00",
          "2019-11-27T21:45:00",
          "2019-11-27T21:50:00",
          "2019-11-27T21:55:00",
          "2019-11-27T22:00:00",
          "2019-11-27T22:05:00",
          "2019-11-27T22:10:00",
          "2019-11-27T22:15:00",
          "2019-11-27T22:20:00",
          "2019-11-27T22:25:00",
          "2019-11-27T22:30:00",
          "2019-11-27T22:35:00",
          "2019-11-27T22:40:00",
          "2019-11-27T22:45:00",
          "2019-11-27T22:50:00",
          "2019-11-27T22:55:00",
          "2019-11-27T23:00:00",
          "2019-11-27T23:05:00",
          "2019-11-27T23:10:00",
          "2019-11-27T23:15:00",
          "2019-11-27T23:20:00",
          "2019-11-27T23:25:00",
          "2019-11-27T23:30:00",
          "2019-11-27T23:35:00",
          "2019-11-27T23:40:00",
          "2019-11-27T23:45:00",
          "2019-11-27T23:50:00",
          "2019-11-27T23:55:00",
          "2019-11-28T00:00:00",
          "2019-11-28T00:05:00",
          "2019-11-28T00:10:00",
          "2019-11-28T00:15:00",
          "2019-11-28T00:20:00",
          "2019-11-28T00:25:00",
          "2019-11-28T00:30:00",
          "2019-11-28T00:35:00",
          "2019-11-28T00:40:00",
          "2019-11-28T00:45:00",
          "2019-11-28T00:50:00",
          "2019-11-28T00:55:00",
          "2019-11-28T01:00:00",
          "2019-11-28T01:05:00",
          "2019-11-28T01:10:00",
          "2019-11-28T01:15:00",
          "2019-11-28T01:20:00",
          "2019-11-28T01:25:00",
          "2019-11-28T01:30:00",
          "2019-11-28T01:35:00",
          "2019-11-28T01:40:00",
          "2019-11-28T01:45:00",
          "2019-11-28T01:50:00",
          "2019-11-28T01:55:00",
          "2019-11-28T02:00:00",
          "2019-11-28T02:05:00",
          "2019-11-28T02:10:00",
          "2019-11-28T02:15:00",
          "2019-11-28T02:20:00",
          "2019-11-28T02:25:00",
          "2019-11-28T02:30:00",
          "2019-11-28T02:35:00",
          "2019-11-28T02:40:00",
          "2019-11-28T02:45:00",
          "2019-11-28T02:50:00",
          "2019-11-28T02:55:00",
          "2019-11-28T03:00:00",
          "2019-11-28T03:05:00",
          "2019-11-28T03:10:00",
          "2019-11-28T03:15:00",
          "2019-11-28T03:20:00",
          "2019-11-28T03:25:00",
          "2019-11-28T03:30:00"
         ],
         "xaxis": "x",
         "yaxis": "y"
        },
        {
         "marker": {
          "color": "mediumpurple",
          "size": 8
         },
         "mode": "markers",
         "showlegend": false,
         "type": "scatter",
         "x": [
          "2019-11-27T18:05:00",
          "2019-11-27T18:45:00",
          "2019-11-27T19:15:00",
          "2019-11-27T19:55:00",
          "2019-11-27T22:20:00",
          "2019-11-28T01:25:00",
          "2019-11-28T02:20:00"
         ],
         "xaxis": "x",
         "y": [
          1.10048,
          1.10054,
          1.10056,
          1.10081,
          1.10122,
          1.10087,
          1.10083
         ],
         "yaxis": "y"
        },
        {
         "marker": {
          "color": "mediumblue",
          "size": 8
         },
         "mode": "markers",
         "showlegend": false,
         "type": "scatter",
         "x": [
          "2019-11-27T18:15:00",
          "2019-11-27T19:00:00",
          "2019-11-27T19:35:00",
          "2019-11-27T21:55:00",
          "2019-11-27T23:10:00",
          "2019-11-28T01:35:00",
          "2019-11-28T03:20:00"
         ],
         "xaxis": "x",
         "y": [
          1.09976,
          1.10013,
          1.10013,
          1.09984,
          1.10042,
          1.10044,
          1.10067
         ],
         "yaxis": "y"
        },
        {
         "marker": {
          "color": "green",
          "line": {
           "color": "black",
           "width": 2
          },
          "size": 10,
          "symbol": "triangle-up"
         },
         "mode": "markers",
         "showlegend": false,
         "type": "scatter",
         "x": [
          "2019-11-27T19:00:00",
          "2019-11-27T23:10:00"
         ],
         "xaxis": "x",
         "y": [
          1.10032,
          1.10048
         ],
         "yaxis": "y"
        },
        {
         "marker": {
          "color": "red",
          "line": {
           "color": "black",
           "width": 2
          },
          "size": 10,
          "symbol": "triangle-down"
         },
         "mode": "markers",
         "showlegend": false,
         "type": "scatter",
         "x": [],
         "xaxis": "x",
         "y": [],
         "yaxis": "y"
        },
        {
         "close": [
          1.12034,
          1.1206,
          1.12072,
          1.12173,
          1.12112,
          1.12161,
          1.12171,
          1.1214,
          1.12168,
          1.12218,
          1.12196,
          1.12161,
          1.12151,
          1.12208,
          1.1219,
          1.1219,
          1.12163,
          1.12184,
          1.12144,
          1.12135,
          1.12078,
          1.12117,
          1.12066,
          1.12056,
          1.12059,
          1.1208,
          1.12071,
          1.12066,
          1.1208,
          1.12077,
          1.1207,
          1.12086,
          1.1206,
          1.12046,
          1.1207,
          1.12081,
          1.1206,
          1.12062,
          1.12055,
          1.12052,
          1.12062,
          1.1206,
          1.12056,
          1.12073,
          1.12061,
          1.12076,
          1.12052,
          1.12054,
          1.1207,
          1.12068,
          1.12069,
          1.12071,
          1.12074,
          1.12056,
          1.12054,
          1.1206,
          1.1205,
          1.12034,
          1.12029,
          1.12034,
          1.12024,
          1.12027,
          1.12037,
          1.12036,
          1.12031,
          1.12038,
          1.12035,
          1.12023,
          1.12018,
          1.12014,
          1.12042,
          1.12046,
          1.12047,
          1.12029,
          1.12029,
          1.1199,
          1.11965,
          1.11963,
          1.11985,
          1.11994,
          1.11991,
          1.11991,
          1.11991,
          1.11991,
          1.11991,
          1.11994,
          1.11997,
          1.11997,
          1.12,
          1.12019,
          1.12025,
          1.12023,
          1.12015,
          1.12055,
          1.12042,
          1.12046,
          1.12019,
          1.12008,
          1.12028,
          1.12035,
          1.12047,
          1.1203,
          1.12035,
          1.12035,
          1.12033,
          1.12031,
          1.12033,
          1.12035,
          1.12021,
          1.12025,
          1.12026,
          1.12029,
          1.1203,
          1.12029,
          1.1203,
          1.12034,
          1.12032,
          1.12029,
          1.12024,
          1.12016,
          1.12052
         ],
         "high": [
          1.12037,
          1.12068,
          1.12072,
          1.1218,
          1.12174,
          1.12166,
          1.12188,
          1.12181,
          1.12174,
          1.12224,
          1.12222,
          1.12202,
          1.1219,
          1.12212,
          1.12209,
          1.12235,
          1.122,
          1.12194,
          1.12192,
          1.12152,
          1.12137,
          1.12126,
          1.12131,
          1.12075,
          1.12072,
          1.12082,
          1.12087,
          1.12078,
          1.12084,
          1.12083,
          1.12082,
          1.12091,
          1.12097,
          1.12066,
          1.12071,
          1.12084,
          1.12083,
          1.1207,
          1.12069,
          1.12057,
          1.12062,
          1.12072,
          1.12063,
          1.12074,
          1.12074,
          1.12077,
          1.12076,
          1.1206,
          1.12071,
          1.12074,
          1.1208,
          1.12074,
          1.1208,
          1.12079,
          1.1206,
          1.12063,
          1.1207,
          1.12055,
          1.12041,
          1.12036,
          1.12034,
          1.12031,
          1.12039,
          1.12038,
          1.12036,
          1.12038,
          1.12038,
          1.12037,
          1.12032,
          1.12035,
          1.12045,
          1.12046,
          1.12047,
          1.12052,
          1.12029,
          1.12029,
          1.1199,
          1.11965,
          1.11985,
          1.12,
          1.11995,
          1.11991,
          1.11991,
          1.11991,
          1.11991,
          1.11994,
          1.12011,
          1.11997,
          1.12,
          1.12019,
          1.12025,
          1.12026,
          1.12047,
          1.12057,
          1.12055,
          1.12057,
          1.12046,
          1.12036,
          1.1204,
          1.12038,
          1.12058,
          1.12048,
          1.12049,
          1.12048,
          1.12042,
          1.12039,
          1.12037,
          1.12037,
          1.12035,
          1.12026,
          1.12036,
          1.1203,
          1.12033,
          1.12032,
          1.1203,
          1.12034,
          1.12042,
          1.12033,
          1.12031,
          1.1203,
          1.12056
         ],
         "low": [
          1.12017,
          1.12031,
          1.12035,
          1.12071,
          1.1211,
          1.12104,
          1.1215,
          1.12124,
          1.12132,
          1.12168,
          1.12189,
          1.12153,
          1.12148,
          1.12148,
          1.1217,
          1.12189,
          1.12159,
          1.1216,
          1.12141,
          1.12134,
          1.12051,
          1.12056,
          1.12066,
          1.12041,
          1.12053,
          1.12043,
          1.12065,
          1.1204,
          1.12057,
          1.1207,
          1.12065,
          1.1207,
          1.12059,
          1.12046,
          1.12043,
          1.12055,
          1.12055,
          1.12059,
          1.1205,
          1.1204,
          1.12046,
          1.1205,
          1.12045,
          1.12056,
          1.12049,
          1.1205,
          1.1205,
          1.12046,
          1.12054,
          1.1206,
          1.12066,
          1.12062,
          1.1207,
          1.12039,
          1.1204,
          1.12048,
          1.12049,
          1.12033,
          1.12022,
          1.12025,
          1.12024,
          1.12022,
          1.12027,
          1.12032,
          1.12026,
          1.12025,
          1.1202,
          1.12018,
          1.12009,
          1.12012,
          1.12014,
          1.12042,
          1.12018,
          1.12029,
          1.12028,
          1.1199,
          1.11965,
          1.11958,
          1.1195,
          1.11983,
          1.11991,
          1.11991,
          1.11991,
          1.11991,
          1.11991,
          1.11991,
          1.11994,
          1.11997,
          1.11997,
          1.11997,
          1.12005,
          1.12017,
          1.1201,
          1.12014,
          1.12036,
          1.12042,
          1.12019,
          1.12004,
          1.12008,
          1.12021,
          1.12032,
          1.12026,
          1.11998,
          1.12034,
          1.12029,
          1.12028,
          1.12031,
          1.12033,
          1.1202,
          1.12014,
          1.12024,
          1.12024,
          1.12029,
          1.12029,
          1.12023,
          1.12028,
          1.1203,
          1.12029,
          1.12024,
          1.12013,
          1.12012
         ],
         "open": [
          1.1203,
          1.12034,
          1.1206,
          1.12072,
          1.12173,
          1.12112,
          1.12161,
          1.12171,
          1.1214,
          1.12168,
          1.12218,
          1.12196,
          1.12161,
          1.12151,
          1.12208,
          1.1219,
          1.1219,
          1.12163,
          1.12184,
          1.12144,
          1.12135,
          1.12078,
          1.12117,
          1.12066,
          1.12056,
          1.12059,
          1.1208,
          1.12071,
          1.12066,
          1.1208,
          1.12077,
          1.1207,
          1.12086,
          1.1206,
          1.12046,
          1.1207,
          1.12081,
          1.1206,
          1.12062,
          1.12055,
          1.12052,
          1.12062,
          1.1206,
          1.12056,
          1.12073,
          1.12061,
          1.12076,
          1.12052,
          1.12054,
          1.1207,
          1.12068,
          1.12069,
          1.12071,
          1.12074,
          1.12056,
          1.12054,
          1.1206,
          1.1205,
          1.12034,
          1.12029,
          1.12034,
          1.12024,
          1.12027,
          1.12037,
          1.12036,
          1.12031,
          1.12038,
          1.12035,
          1.12023,
          1.12018,
          1.12014,
          1.12042,
          1.12046,
          1.12047,
          1.12029,
          1.12029,
          1.1199,
          1.11965,
          1.11963,
          1.11985,
          1.11994,
          1.11991,
          1.11991,
          1.11991,
          1.11991,
          1.11991,
          1.11994,
          1.11997,
          1.11997,
          1.12,
          1.12019,
          1.12025,
          1.12023,
          1.12015,
          1.12055,
          1.12042,
          1.12046,
          1.12019,
          1.12008,
          1.12028,
          1.12035,
          1.12047,
          1.1203,
          1.12035,
          1.12035,
          1.12033,
          1.12031,
          1.12033,
          1.12035,
          1.12021,
          1.12025,
          1.12026,
          1.12029,
          1.1203,
          1.12029,
          1.1203,
          1.12034,
          1.12032,
          1.12029,
          1.12024,
          1.12016
         ],
         "showlegend": false,
         "type": "candlestick",
         "x": [
          "2019-08-09T15:10:00",
          "2019-08-09T15:15:00",
          "2019-08-09T15:20:00",
          "2019-08-09T15:25:00",
          "2019-08-09T15:30:00",
          "2019-08-09T15:35:00",
          "2019-08-09T15:40:00",
          "2019-08-09T15:45:00",
          "2019-08-09T15:50:00",
          "2019-08-09T15:55:00",
          "2019-08-09T16:00:00",
          "2019-08-09T16:05:00",
          "2019-08-09T16:10:00",
          "2019-08-09T16:15:00",
          "2019-08-09T16:20:00",
          "2019-08-09T16:25:00",
          "2019-08-09T16:30:00",
          "2019-08-09T16:35:00",
          "2019-08-09T16:40:00",
          "2019-08-09T16:45:00",
          "2019-08-09T16:50:00",
          "2019-08-09T16:55:00",
          "2019-08-09T17:00:00",
          "2019-08-09T17:05:00",
          "2019-08-09T17:10:00",
          "2019-08-09T17:15:00",
          "2019-08-09T17:20:00",
          "2019-08-09T17:25:00",
          "2019-08-09T17:30:00",
          "2019-08-09T17:35:00",
          "2019-08-09T17:40:00",
          "2019-08-09T17:45:00",
          "2019-08-09T17:50:00",
          "2019-08-09T17:55:00",
          "2019-08-09T18:00:00",
          "2019-08-09T18:05:00",
          "2019-08-09T18:10:00",
          "2019-08-09T18:15:00",
          "2019-08-09T18:20:00",
          "2019-08-09T18:25:00",
          "2019-08-09T18:30:00",
          "2019-08-09T18:35:00",
          "2019-08-09T18:40:00",
          "2019-08-09T18:45:00",
          "2019-08-09T18:50:00",
          "2019-08-09T18:55:00",
          "2019-08-09T19:00:00",
          "2019-08-09T19:05:00",
          "2019-08-09T19:10:00",
          "2019-08-09T19:15:00",
          "2019-08-09T19:20:00",
          "2019-08-09T19:25:00",
          "2019-08-09T19:30:00",
          "2019-08-09T19:35:00",
          "2019-08-09T19:40:00",
          "2019-08-09T19:45:00",
          "2019-08-09T19:50:00",
          "2019-08-09T19:55:00",
          "2019-08-09T20:00:00",
          "2019-08-09T20:05:00",
          "2019-08-09T20:10:00",
          "2019-08-09T20:15:00",
          "2019-08-09T20:20:00",
          "2019-08-09T20:25:00",
          "2019-08-09T20:30:00",
          "2019-08-09T20:35:00",
          "2019-08-09T20:40:00",
          "2019-08-09T20:45:00",
          "2019-08-09T20:50:00",
          "2019-08-09T20:55:00",
          "2019-08-11T19:15:00",
          "2019-08-11T19:20:00",
          "2019-08-11T19:25:00",
          "2019-08-11T19:30:00",
          "2019-08-11T19:35:00",
          "2019-08-11T19:40:00",
          "2019-08-11T19:45:00",
          "2019-08-11T19:50:00",
          "2019-08-11T19:55:00",
          "2019-08-11T20:00:00",
          "2019-08-11T20:05:00",
          "2019-08-11T20:10:00",
          "2019-08-11T20:15:00",
          "2019-08-11T20:20:00",
          "2019-08-11T20:30:00",
          "2019-08-11T20:35:00",
          "2019-08-11T20:40:00",
          "2019-08-11T20:45:00",
          "2019-08-11T20:50:00",
          "2019-08-11T20:55:00",
          "2019-08-11T21:00:00",
          "2019-08-11T21:05:00",
          "2019-08-11T21:10:00",
          "2019-08-11T21:15:00",
          "2019-08-11T21:20:00",
          "2019-08-11T21:25:00",
          "2019-08-11T21:30:00",
          "2019-08-11T21:35:00",
          "2019-08-11T21:40:00",
          "2019-08-11T21:45:00",
          "2019-08-11T21:50:00",
          "2019-08-11T21:55:00",
          "2019-08-11T22:00:00",
          "2019-08-11T22:05:00",
          "2019-08-11T22:10:00",
          "2019-08-11T22:15:00",
          "2019-08-11T22:20:00",
          "2019-08-11T22:25:00",
          "2019-08-11T22:30:00",
          "2019-08-11T22:35:00",
          "2019-08-11T22:40:00",
          "2019-08-11T22:45:00",
          "2019-08-11T22:50:00",
          "2019-08-11T22:55:00",
          "2019-08-11T23:00:00",
          "2019-08-11T23:05:00",
          "2019-08-11T23:10:00",
          "2019-08-11T23:15:00",
          "2019-08-11T23:20:00",
          "2019-08-11T23:25:00",
          "2019-08-11T23:30:00"
         ],
         "xaxis": "x2",
         "yaxis": "y2"
        },
        {
         "marker": {
          "color": "mediumpurple",
          "size": 8
         },
         "mode": "markers",
         "showlegend": false,
         "type": "scatter",
         "x": [
          "2019-08-09T16:25:00",
          "2019-08-09T17:50:00",
          "2019-08-09T19:20:00",
          "2019-08-11T19:30:00",
          "2019-08-11T21:50:00",
          "2019-08-11T23:10:00"
         ],
         "xaxis": "x2",
         "y": [
          1.12235,
          1.12097,
          1.1208,
          1.12052,
          1.12058,
          1.12042
         ],
         "yaxis": "y2"
        },
        {
         "marker": {
          "color": "mediumblue",
          "size": 8
         },
         "mode": "markers",
         "showlegend": false,
         "type": "scatter",
         "x": [
          "2019-08-09T15:35:00",
          "2019-08-09T17:05:00",
          "2019-08-09T18:25:00",
          "2019-08-09T20:50:00",
          "2019-08-11T19:55:00",
          "2019-08-11T22:35:00"
         ],
         "xaxis": "x2",
         "y": [
          1.12104,
          1.12041,
          1.1204,
          1.12009,
          1.1195,
          1.12014
         ],
         "yaxis": "y2"
        },
        {
         "marker": {
          "color": "green",
          "line": {
           "color": "black",
           "width": 2
          },
          "size": 10,
          "symbol": "triangle-up"
         },
         "mode": "markers",
         "showlegend": false,
         "type": "scatter",
         "x": [],
         "xaxis": "x2",
         "y": [],
         "yaxis": "y2"
        },
        {
         "marker": {
          "color": "red",
          "line": {
           "color": "black",
           "width": 2
          },
          "size": 10,
          "symbol": "triangle-down"
         },
         "mode": "markers",
         "showlegend": false,
         "type": "scatter",
         "x": [
          "2019-08-09T19:20:00",
          "2019-08-11T19:30:00"
         ],
         "xaxis": "x2",
         "y": [
          1.12069,
          1.12029
         ],
         "yaxis": "y2"
        }
       ],
       "layout": {
        "autosize": true,
        "template": {
         "data": {
          "bar": [
           {
            "error_x": {
             "color": "#2a3f5f"
            },
            "error_y": {
             "color": "#2a3f5f"
            },
            "marker": {
             "line": {
              "color": "#E5ECF6",
              "width": 0.5
             }
            },
            "type": "bar"
           }
          ],
          "barpolar": [
           {
            "marker": {
             "line": {
              "color": "#E5ECF6",
              "width": 0.5
             }
            },
            "type": "barpolar"
           }
          ],
          "carpet": [
           {
            "aaxis": {
             "endlinecolor": "#2a3f5f",
             "gridcolor": "white",
             "linecolor": "white",
             "minorgridcolor": "white",
             "startlinecolor": "#2a3f5f"
            },
            "baxis": {
             "endlinecolor": "#2a3f5f",
             "gridcolor": "white",
             "linecolor": "white",
             "minorgridcolor": "white",
             "startlinecolor": "#2a3f5f"
            },
            "type": "carpet"
           }
          ],
          "choropleth": [
           {
            "colorbar": {
             "outlinewidth": 0,
             "ticks": ""
            },
            "type": "choropleth"
           }
          ],
          "contour": [
           {
            "colorbar": {
             "outlinewidth": 0,
             "ticks": ""
            },
            "colorscale": [
             [
              0,
              "#0d0887"
             ],
             [
              0.1111111111111111,
              "#46039f"
             ],
             [
              0.2222222222222222,
              "#7201a8"
             ],
             [
              0.3333333333333333,
              "#9c179e"
             ],
             [
              0.4444444444444444,
              "#bd3786"
             ],
             [
              0.5555555555555556,
              "#d8576b"
             ],
             [
              0.6666666666666666,
              "#ed7953"
             ],
             [
              0.7777777777777778,
              "#fb9f3a"
             ],
             [
              0.8888888888888888,
              "#fdca26"
             ],
             [
              1,
              "#f0f921"
             ]
            ],
            "type": "contour"
           }
          ],
          "contourcarpet": [
           {
            "colorbar": {
             "outlinewidth": 0,
             "ticks": ""
            },
            "type": "contourcarpet"
           }
          ],
          "heatmap": [
           {
            "colorbar": {
             "outlinewidth": 0,
             "ticks": ""
            },
            "colorscale": [
             [
              0,
              "#0d0887"
             ],
             [
              0.1111111111111111,
              "#46039f"
             ],
             [
              0.2222222222222222,
              "#7201a8"
             ],
             [
              0.3333333333333333,
              "#9c179e"
             ],
             [
              0.4444444444444444,
              "#bd3786"
             ],
             [
              0.5555555555555556,
              "#d8576b"
             ],
             [
              0.6666666666666666,
              "#ed7953"
             ],
             [
              0.7777777777777778,
              "#fb9f3a"
             ],
             [
              0.8888888888888888,
              "#fdca26"
             ],
             [
              1,
              "#f0f921"
             ]
            ],
            "type": "heatmap"
           }
          ],
          "heatmapgl": [
           {
            "colorbar": {
             "outlinewidth": 0,
             "ticks": ""
            },
            "colorscale": [
             [
              0,
              "#0d0887"
             ],
             [
              0.1111111111111111,
              "#46039f"
             ],
             [
              0.2222222222222222,
              "#7201a8"
             ],
             [
              0.3333333333333333,
              "#9c179e"
             ],
             [
              0.4444444444444444,
              "#bd3786"
             ],
             [
              0.5555555555555556,
              "#d8576b"
             ],
             [
              0.6666666666666666,
              "#ed7953"
             ],
             [
              0.7777777777777778,
              "#fb9f3a"
             ],
             [
              0.8888888888888888,
              "#fdca26"
             ],
             [
              1,
              "#f0f921"
             ]
            ],
            "type": "heatmapgl"
           }
          ],
          "histogram": [
           {
            "marker": {
             "colorbar": {
              "outlinewidth": 0,
              "ticks": ""
             }
            },
            "type": "histogram"
           }
          ],
          "histogram2d": [
           {
            "colorbar": {
             "outlinewidth": 0,
             "ticks": ""
            },
            "colorscale": [
             [
              0,
              "#0d0887"
             ],
             [
              0.1111111111111111,
              "#46039f"
             ],
             [
              0.2222222222222222,
              "#7201a8"
             ],
             [
              0.3333333333333333,
              "#9c179e"
             ],
             [
              0.4444444444444444,
              "#bd3786"
             ],
             [
              0.5555555555555556,
              "#d8576b"
             ],
             [
              0.6666666666666666,
              "#ed7953"
             ],
             [
              0.7777777777777778,
              "#fb9f3a"
             ],
             [
              0.8888888888888888,
              "#fdca26"
             ],
             [
              1,
              "#f0f921"
             ]
            ],
            "type": "histogram2d"
           }
          ],
          "histogram2dcontour": [
           {
            "colorbar": {
             "outlinewidth": 0,
             "ticks": ""
            },
            "colorscale": [
             [
              0,
              "#0d0887"
             ],
             [
              0.1111111111111111,
              "#46039f"
             ],
             [
              0.2222222222222222,
              "#7201a8"
             ],
             [
              0.3333333333333333,
              "#9c179e"
             ],
             [
              0.4444444444444444,
              "#bd3786"
             ],
             [
              0.5555555555555556,
              "#d8576b"
             ],
             [
              0.6666666666666666,
              "#ed7953"
             ],
             [
              0.7777777777777778,
              "#fb9f3a"
             ],
             [
              0.8888888888888888,
              "#fdca26"
             ],
             [
              1,
              "#f0f921"
             ]
            ],
            "type": "histogram2dcontour"
           }
          ],
          "mesh3d": [
           {
            "colorbar": {
             "outlinewidth": 0,
             "ticks": ""
            },
            "type": "mesh3d"
           }
          ],
          "parcoords": [
           {
            "line": {
             "colorbar": {
              "outlinewidth": 0,
              "ticks": ""
             }
            },
            "type": "parcoords"
           }
          ],
          "pie": [
           {
            "automargin": true,
            "type": "pie"
           }
          ],
          "scatter": [
           {
            "marker": {
             "colorbar": {
              "outlinewidth": 0,
              "ticks": ""
             }
            },
            "type": "scatter"
           }
          ],
          "scatter3d": [
           {
            "line": {
             "colorbar": {
              "outlinewidth": 0,
              "ticks": ""
             }
            },
            "marker": {
             "colorbar": {
              "outlinewidth": 0,
              "ticks": ""
             }
            },
            "type": "scatter3d"
           }
          ],
          "scattercarpet": [
           {
            "marker": {
             "colorbar": {
              "outlinewidth": 0,
              "ticks": ""
             }
            },
            "type": "scattercarpet"
           }
          ],
          "scattergeo": [
           {
            "marker": {
             "colorbar": {
              "outlinewidth": 0,
              "ticks": ""
             }
            },
            "type": "scattergeo"
           }
          ],
          "scattergl": [
           {
            "marker": {
             "colorbar": {
              "outlinewidth": 0,
              "ticks": ""
             }
            },
            "type": "scattergl"
           }
          ],
          "scattermapbox": [
           {
            "marker": {
             "colorbar": {
              "outlinewidth": 0,
              "ticks": ""
             }
            },
            "type": "scattermapbox"
           }
          ],
          "scatterpolar": [
           {
            "marker": {
             "colorbar": {
              "outlinewidth": 0,
              "ticks": ""
             }
            },
            "type": "scatterpolar"
           }
          ],
          "scatterpolargl": [
           {
            "marker": {
             "colorbar": {
              "outlinewidth": 0,
              "ticks": ""
             }
            },
            "type": "scatterpolargl"
           }
          ],
          "scatterternary": [
           {
            "marker": {
             "colorbar": {
              "outlinewidth": 0,
              "ticks": ""
             }
            },
            "type": "scatterternary"
           }
          ],
          "surface": [
           {
            "colorbar": {
             "outlinewidth": 0,
             "ticks": ""
            },
            "colorscale": [
             [
              0,
              "#0d0887"
             ],
             [
              0.1111111111111111,
              "#46039f"
             ],
             [
              0.2222222222222222,
              "#7201a8"
             ],
             [
              0.3333333333333333,
              "#9c179e"
             ],
             [
              0.4444444444444444,
              "#bd3786"
             ],
             [
              0.5555555555555556,
              "#d8576b"
             ],
             [
              0.6666666666666666,
              "#ed7953"
             ],
             [
              0.7777777777777778,
              "#fb9f3a"
             ],
             [
              0.8888888888888888,
              "#fdca26"
             ],
             [
              1,
              "#f0f921"
             ]
            ],
            "type": "surface"
           }
          ],
          "table": [
           {
            "cells": {
             "fill": {
              "color": "#EBF0F8"
             },
             "line": {
              "color": "white"
             }
            },
            "header": {
             "fill": {
              "color": "#C8D4E3"
             },
             "line": {
              "color": "white"
             }
            },
            "type": "table"
           }
          ]
         },
         "layout": {
          "annotationdefaults": {
           "arrowcolor": "#2a3f5f",
           "arrowhead": 0,
           "arrowwidth": 1
          },
          "coloraxis": {
           "colorbar": {
            "outlinewidth": 0,
            "ticks": ""
           }
          },
          "colorscale": {
           "diverging": [
            [
             0,
             "#8e0152"
            ],
            [
             0.1,
             "#c51b7d"
            ],
            [
             0.2,
             "#de77ae"
            ],
            [
             0.3,
             "#f1b6da"
            ],
            [
             0.4,
             "#fde0ef"
            ],
            [
             0.5,
             "#f7f7f7"
            ],
            [
             0.6,
             "#e6f5d0"
            ],
            [
             0.7,
             "#b8e186"
            ],
            [
             0.8,
             "#7fbc41"
            ],
            [
             0.9,
             "#4d9221"
            ],
            [
             1,
             "#276419"
            ]
           ],
           "sequential": [
            [
             0,
             "#0d0887"
            ],
            [
             0.1111111111111111,
             "#46039f"
            ],
            [
             0.2222222222222222,
             "#7201a8"
            ],
            [
             0.3333333333333333,
             "#9c179e"
            ],
            [
             0.4444444444444444,
             "#bd3786"
            ],
            [
             0.5555555555555556,
             "#d8576b"
            ],
            [
             0.6666666666666666,
             "#ed7953"
            ],
            [
             0.7777777777777778,
             "#fb9f3a"
            ],
            [
             0.8888888888888888,
             "#fdca26"
            ],
            [
             1,
             "#f0f921"
            ]
           ],
           "sequentialminus": [
            [
             0,
             "#0d0887"
            ],
            [
             0.1111111111111111,
             "#46039f"
            ],
            [
             0.2222222222222222,
             "#7201a8"
            ],
            [
             0.3333333333333333,
             "#9c179e"
            ],
            [
             0.4444444444444444,
             "#bd3786"
            ],
            [
             0.5555555555555556,
             "#d8576b"
            ],
            [
             0.6666666666666666,
             "#ed7953"
            ],
            [
             0.7777777777777778,
             "#fb9f3a"
            ],
            [
             0.8888888888888888,
             "#fdca26"
            ],
            [
             1,
             "#f0f921"
            ]
           ]
          },
          "colorway": [
           "#636efa",
           "#EF553B",
           "#00cc96",
           "#ab63fa",
           "#FFA15A",
           "#19d3f3",
           "#FF6692",
           "#B6E880",
           "#FF97FF",
           "#FECB52"
          ],
          "font": {
           "color": "#2a3f5f"
          },
          "geo": {
           "bgcolor": "white",
           "lakecolor": "white",
           "landcolor": "#E5ECF6",
           "showlakes": true,
           "showland": true,
           "subunitcolor": "white"
          },
          "hoverlabel": {
           "align": "left"
          },
          "hovermode": "closest",
          "mapbox": {
           "style": "light"
          },
          "paper_bgcolor": "white",
          "plot_bgcolor": "#E5ECF6",
          "polar": {
           "angularaxis": {
            "gridcolor": "white",
            "linecolor": "white",
            "ticks": ""
           },
           "bgcolor": "#E5ECF6",
           "radialaxis": {
            "gridcolor": "white",
            "linecolor": "white",
            "ticks": ""
           }
          },
          "scene": {
           "xaxis": {
            "backgroundcolor": "#E5ECF6",
            "gridcolor": "white",
            "gridwidth": 2,
            "linecolor": "white",
            "showbackground": true,
            "ticks": "",
            "zerolinecolor": "white"
           },
           "yaxis": {
            "backgroundcolor": "#E5ECF6",
            "gridcolor": "white",
            "gridwidth": 2,
            "linecolor": "white",
            "showbackground": true,
            "ticks": "",
            "zerolinecolor": "white"
           },
           "zaxis": {
            "backgroundcolor": "#E5ECF6",
            "gridcolor": "white",
            "gridwidth": 2,
            "linecolor": "white",
            "showbackground": true,
            "ticks": "",
            "zerolinecolor": "white"
           }
          },
          "shapedefaults": {
           "line": {
            "color": "#2a3f5f"
           }
          },
          "ternary": {
           "aaxis": {
            "gridcolor": "white",
            "linecolor": "white",
            "ticks": ""
           },
           "baxis": {
            "gridcolor": "white",
            "linecolor": "white",
            "ticks": ""
           },
           "bgcolor": "#E5ECF6",
           "caxis": {
            "gridcolor": "white",
            "linecolor": "white",
            "ticks": ""
           }
          },
          "title": {
           "x": 0.05
          },
          "xaxis": {
           "automargin": true,
           "gridcolor": "white",
           "linecolor": "white",
           "ticks": "",
           "title": {
            "standoff": 15
           },
           "zerolinecolor": "white",
           "zerolinewidth": 2
          },
          "yaxis": {
           "automargin": true,
           "gridcolor": "white",
           "linecolor": "white",
           "ticks": "",
           "title": {
            "standoff": 15
           },
           "zerolinecolor": "white",
           "zerolinewidth": 2
          }
         }
        },
        "xaxis": {
         "anchor": "y",
         "autorange": true,
         "domain": [
          0,
          0.45
         ],
         "range": [
          "2019-11-27 17:27:30",
          "2019-11-28 03:57:24.0788"
         ],
         "rangeslider": {
          "visible": false,
          "yaxis": {}
         },
         "type": "date"
        },
        "xaxis2": {
         "anchor": "y2",
         "autorange": true,
         "domain": [
          0.55,
          1
         ],
         "range": [
          "2019-08-09 11:50:17.7076",
          "2019-08-12 02:54:42.2924"
         ],
         "rangeslider": {
          "visible": false,
          "yaxis2": {}
         },
         "type": "date"
        },
        "yaxis": {
         "anchor": "x",
         "autorange": true,
         "domain": [
          0,
          1
         ],
         "range": [
          1.099644077253219,
          1.1013359227467812
         ],
         "type": "linear"
        },
        "yaxis2": {
         "anchor": "x2",
         "autorange": true,
         "domain": [
          0,
          1
         ],
         "range": [
          1.1192737124463519,
          1.122576287553648
         ],
         "type": "linear"
        }
       }
      },
      "image/png": "[encoded data removed]",
      "text/html": [
       "<div>                            <div id=\"9c3b9394-e601-44c9-a2b8-10dfcde88aa6\" class=\"plotly-graph-div\" style=\"height:525px; width:100%;\"></div>            <script type=\"text/javascript\">                require([\"plotly\"], function(Plotly) {                    window.PLOTLYENV=window.PLOTLYENV || {};                                    if (document.getElementById(\"9c3b9394-e601-44c9-a2b8-10dfcde88aa6\")) {                    Plotly.newPlot(                        \"9c3b9394-e601-44c9-a2b8-10dfcde88aa6\",                        [{\"close\": [1.10039, 1.10028, 1.10039, 1.10028, 1.10033, 1.10007, 1.10027, 1.10006, 1.09987, 1.09987, 1.10013, 1.10027, 1.10036, 1.1003, 1.10042, 1.10039, 1.10042, 1.10017, 1.10032, 1.10044, 1.10046, 1.10048, 1.10044, 1.10037, 1.10035, 1.10032, 1.10035, 1.10039, 1.10044, 1.10051, 1.10032, 1.10033, 1.10028, 1.10023, 1.10019, 1.10016, 1.10006, 1.10006, 1.10013, 1.10003, 1.09992, 1.10017, 1.10017, 1.10021, 1.10017, 1.10013, 1.10013, 1.10012, 1.10012, 1.10001, 1.10002, 1.10003, 1.09991, 1.10001, 1.10036, 1.10035, 1.10016, 1.10096, 1.10073, 1.10067, 1.10065, 1.10093, 1.10068, 1.10047, 1.1006, 1.10068, 1.10063, 1.10052, 1.10048, 1.10059, 1.10061, 1.10048, 1.10053, 1.10057, 1.10062, 1.10063, 1.10062, 1.10056, 1.1004, 1.10062, 1.10057, 1.10056, 1.10064, 1.10065, 1.10057, 1.10062, 1.10067, 1.10062, 1.10073, 1.10073, 1.10072, 1.10076, 1.10063, 1.10061, 1.10067, 1.10075, 1.10052, 1.10051, 1.10066, 1.10061, 1.10062, 1.1008, 1.10065, 1.10071, 1.10072, 1.10079, 1.10077, 1.10067, 1.10073, 1.10068, 1.10068, 1.10072, 1.10067, 1.10078, 1.10071, 1.10073, 1.10072, 1.1007, 1.10072, 1.10072, 1.10069], \"high\": [1.10039, 1.1004, 1.1004, 1.10039, 1.10034, 1.10033, 1.10032, 1.10048, 1.10012, 1.10002, 1.10013, 1.10029, 1.10039, 1.10037, 1.10042, 1.10054, 1.10047, 1.10047, 1.10035, 1.10044, 1.10054, 1.10056, 1.10054, 1.10049, 1.10041, 1.10035, 1.10043, 1.10043, 1.10047, 1.10081, 1.10053, 1.10048, 1.10033, 1.10028, 1.10028, 1.10023, 1.10022, 1.10011, 1.10014, 1.10013, 1.10008, 1.10018, 1.10018, 1.10025, 1.10025, 1.10018, 1.10024, 1.10023, 1.10014, 1.10012, 1.10003, 1.1001, 1.10009, 1.10002, 1.10102, 1.10045, 1.10049, 1.10098, 1.10122, 1.10079, 1.10068, 1.101, 1.10093, 1.10072, 1.10062, 1.1008, 1.1007, 1.10068, 1.10052, 1.10059, 1.10063, 1.10061, 1.10053, 1.10057, 1.10063, 1.10063, 1.10063, 1.10062, 1.10071, 1.10062, 1.10067, 1.10058, 1.10068, 1.10072, 1.10067, 1.10068, 1.10067, 1.10074, 1.10075, 1.10077, 1.10078, 1.10079, 1.10077, 1.10063, 1.10068, 1.10087, 1.10076, 1.10057, 1.10067, 1.10072, 1.10066, 1.10082, 1.1008, 1.10073, 1.10079, 1.10079, 1.10083, 1.10077, 1.10077, 1.10076, 1.10078, 1.10075, 1.10072, 1.10078, 1.10078, 1.10077, 1.10074, 1.10074, 1.10072, 1.10073, 1.10074], \"low\": [1.10024, 1.10023, 1.1002, 1.10022, 1.1002, 1.10007, 1.09993, 1.10003, 1.09978, 1.09976, 1.09987, 1.10009, 1.10018, 1.10027, 1.1003, 1.10039, 1.10038, 1.10013, 1.10013, 1.10027, 1.10038, 1.10043, 1.10041, 1.10028, 1.10028, 1.10013, 1.10028, 1.10029, 1.10028, 1.10034, 1.10024, 1.10028, 1.10018, 1.1002, 1.10014, 1.10005, 1.10006, 1.09997, 1.10002, 1.10001, 1.0999, 1.0999, 1.10009, 1.10015, 1.10016, 1.10003, 1.10012, 1.1001, 1.1001, 1.1, 1.09995, 1.1, 1.09988, 1.09984, 1.10001, 1.10021, 1.10013, 1.10016, 1.10072, 1.10061, 1.1006, 1.1006, 1.10068, 1.10044, 1.10047, 1.10058, 1.10045, 1.10052, 1.10042, 1.10046, 1.10057, 1.10047, 1.10043, 1.10052, 1.10056, 1.10052, 1.10057, 1.10051, 1.1004, 1.10039, 1.10052, 1.10044, 1.10055, 1.1006, 1.10055, 1.10057, 1.1006, 1.10058, 1.10057, 1.10071, 1.10071, 1.10071, 1.1006, 1.1006, 1.10057, 1.10066, 1.10049, 1.10044, 1.1005, 1.10061, 1.10057, 1.10062, 1.10063, 1.10062, 1.10067, 1.10067, 1.10077, 1.10066, 1.10067, 1.10066, 1.10068, 1.10068, 1.10067, 1.10067, 1.10067, 1.1007, 1.10067, 1.10068, 1.10067, 1.10071, 1.10067], \"open\": [1.1003, 1.10039, 1.10028, 1.10039, 1.10028, 1.10033, 1.10007, 1.10027, 1.10006, 1.09987, 1.09987, 1.10013, 1.10027, 1.10036, 1.1003, 1.10042, 1.10039, 1.10042, 1.10017, 1.10032, 1.10044, 1.10046, 1.10048, 1.10044, 1.10037, 1.10035, 1.10032, 1.10035, 1.10039, 1.10044, 1.10051, 1.10032, 1.10033, 1.10028, 1.10023, 1.10019, 1.10016, 1.10006, 1.10006, 1.10013, 1.10003, 1.09992, 1.10017, 1.10017, 1.10021, 1.10017, 1.10013, 1.10013, 1.10012, 1.10012, 1.10001, 1.10002, 1.10003, 1.09991, 1.10001, 1.10036, 1.10035, 1.10016, 1.10096, 1.10073, 1.10067, 1.10065, 1.10093, 1.10068, 1.10047, 1.1006, 1.10068, 1.10063, 1.10052, 1.10048, 1.10059, 1.10061, 1.10048, 1.10053, 1.10057, 1.10062, 1.10063, 1.10062, 1.10056, 1.1004, 1.10062, 1.10057, 1.10056, 1.10064, 1.10065, 1.10057, 1.10062, 1.10067, 1.10062, 1.10073, 1.10073, 1.10072, 1.10076, 1.10063, 1.10061, 1.10067, 1.10075, 1.10052, 1.10051, 1.10066, 1.10061, 1.10062, 1.1008, 1.10065, 1.10071, 1.10072, 1.10079, 1.10077, 1.10067, 1.10073, 1.10068, 1.10068, 1.10072, 1.10067, 1.10078, 1.10071, 1.10073, 1.10072, 1.1007, 1.10072, 1.10072], \"showlegend\": false, \"type\": \"candlestick\", \"x\": [\"2019-11-27T17:30:00\", \"2019-11-27T17:35:00\", \"2019-11-27T17:40:00\", \"2019-11-27T17:45:00\", \"2019-11-27T17:50:00\", \"2019-11-27T17:55:00\", \"2019-11-27T18:00:00\", \"2019-11-27T18:05:00\", \"2019-11-27T18:10:00\", \"2019-11-27T18:15:00\", \"2019-11-27T18:20:00\", \"2019-11-27T18:25:00\", \"2019-11-27T18:30:00\", \"2019-11-27T18:35:00\", \"2019-11-27T18:40:00\", \"2019-11-27T18:45:00\", \"2019-11-27T18:50:00\", \"2019-11-27T18:55:00\", \"2019-11-27T19:00:00\", \"2019-11-27T19:05:00\", \"2019-11-27T19:10:00\", \"2019-11-27T19:15:00\", \"2019-11-27T19:20:00\", \"2019-11-27T19:25:00\", \"2019-11-27T19:30:00\", \"2019-11-27T19:35:00\", \"2019-11-27T19:40:00\", \"2019-11-27T19:45:00\", \"2019-11-27T19:50:00\", \"2019-11-27T19:55:00\", \"2019-11-27T20:00:00\", \"2019-11-27T20:05:00\", \"2019-11-27T20:10:00\", \"2019-11-27T20:15:00\", \"2019-11-27T20:20:00\", \"2019-11-27T20:25:00\", \"2019-11-27T20:30:00\", \"2019-11-27T20:35:00\", \"2019-11-27T20:40:00\", \"2019-11-27T20:45:00\", \"2019-11-27T20:50:00\", \"2019-11-27T20:55:00\", \"2019-11-27T21:00:00\", \"2019-11-27T21:05:00\", \"2019-11-27T21:10:00\", \"2019-11-27T21:15:00\", \"2019-11-27T21:20:00\", \"2019-11-27T21:25:00\", \"2019-11-27T21:30:00\", \"2019-11-27T21:35:00\", \"2019-11-27T21:40:00\", \"2019-11-27T21:45:00\", \"2019-11-27T21:50:00\", \"2019-11-27T21:55:00\", \"2019-11-27T22:00:00\", \"2019-11-27T22:05:00\", \"2019-11-27T22:10:00\", \"2019-11-27T22:15:00\", \"2019-11-27T22:20:00\", \"2019-11-27T22:25:00\", \"2019-11-27T22:30:00\", \"2019-11-27T22:35:00\", \"2019-11-27T22:40:00\", \"2019-11-27T22:45:00\", \"2019-11-27T22:50:00\", \"2019-11-27T22:55:00\", \"2019-11-27T23:00:00\", \"2019-11-27T23:05:00\", \"2019-11-27T23:10:00\", \"2019-11-27T23:15:00\", \"2019-11-27T23:20:00\", \"2019-11-27T23:25:00\", \"2019-11-27T23:30:00\", \"2019-11-27T23:35:00\", \"2019-11-27T23:40:00\", \"2019-11-27T23:45:00\", \"2019-11-27T23:50:00\", \"2019-11-27T23:55:00\", \"2019-11-28T00:00:00\", \"2019-11-28T00:05:00\", \"2019-11-28T00:10:00\", \"2019-11-28T00:15:00\", \"2019-11-28T00:20:00\", \"2019-11-28T00:25:00\", \"2019-11-28T00:30:00\", \"2019-11-28T00:35:00\", \"2019-11-28T00:40:00\", \"2019-11-28T00:45:00\", \"2019-11-28T00:50:00\", \"2019-11-28T00:55:00\", \"2019-11-28T01:00:00\", \"2019-11-28T01:05:00\", \"2019-11-28T01:10:00\", \"2019-11-28T01:15:00\", \"2019-11-28T01:20:00\", \"2019-11-28T01:25:00\", \"2019-11-28T01:30:00\", \"2019-11-28T01:35:00\", \"2019-11-28T01:40:00\", \"2019-11-28T01:45:00\", \"2019-11-28T01:50:00\", \"2019-11-28T01:55:00\", \"2019-11-28T02:00:00\", \"2019-11-28T02:05:00\", \"2019-11-28T02:10:00\", \"2019-11-28T02:15:00\", \"2019-11-28T02:20:00\", \"2019-11-28T02:25:00\", \"2019-11-28T02:30:00\", \"2019-11-28T02:35:00\", \"2019-11-28T02:40:00\", \"2019-11-28T02:45:00\", \"2019-11-28T02:50:00\", \"2019-11-28T02:55:00\", \"2019-11-28T03:00:00\", \"2019-11-28T03:05:00\", \"2019-11-28T03:10:00\", \"2019-11-28T03:15:00\", \"2019-11-28T03:20:00\", \"2019-11-28T03:25:00\", \"2019-11-28T03:30:00\"], \"xaxis\": \"x\", \"yaxis\": \"y\"}, {\"marker\": {\"color\": \"mediumpurple\", \"size\": 8}, \"mode\": \"markers\", \"showlegend\": false, \"type\": \"scatter\", \"x\": [\"2019-11-27T18:05:00\", \"2019-11-27T18:45:00\", \"2019-11-27T19:15:00\", \"2019-11-27T19:55:00\", \"2019-11-27T22:20:00\", \"2019-11-28T01:25:00\", \"2019-11-28T02:20:00\"], \"xaxis\": \"x\", \"y\": [1.10048, 1.10054, 1.10056, 1.10081, 1.10122, 1.10087, 1.10083], \"yaxis\": \"y\"}, {\"marker\": {\"color\": \"mediumblue\", \"size\": 8}, \"mode\": \"markers\", \"showlegend\": false, \"type\": \"scatter\", \"x\": [\"2019-11-27T18:15:00\", \"2019-11-27T19:00:00\", \"2019-11-27T19:35:00\", \"2019-11-27T21:55:00\", \"2019-11-27T23:10:00\", \"2019-11-28T01:35:00\", \"2019-11-28T03:20:00\"], \"xaxis\": \"x\", \"y\": [1.09976, 1.10013, 1.10013, 1.09984, 1.10042, 1.10044, 1.10067], \"yaxis\": \"y\"}, {\"marker\": {\"color\": \"green\", \"line\": {\"color\": \"black\", \"width\": 2}, \"size\": 10, \"symbol\": \"triangle-up\"}, \"mode\": \"markers\", \"showlegend\": false, \"type\": \"scatter\", \"x\": [\"2019-11-27T19:00:00\", \"2019-11-27T23:10:00\"], \"xaxis\": \"x\", \"y\": [1.10032, 1.10048], \"yaxis\": \"y\"}, {\"marker\": {\"color\": \"red\", \"line\": {\"color\": \"black\", \"width\": 2}, \"size\": 10, \"symbol\": \"triangle-down\"}, \"mode\": \"markers\", \"showlegend\": false, \"type\": \"scatter\", \"x\": [], \"xaxis\": \"x\", \"y\": [], \"yaxis\": \"y\"}, {\"close\": [1.12034, 1.1206, 1.12072, 1.12173, 1.12112, 1.12161, 1.12171, 1.1214, 1.12168, 1.12218, 1.12196, 1.12161, 1.12151, 1.12208, 1.1219, 1.1219, 1.12163, 1.12184, 1.12144, 1.12135, 1.12078, 1.12117, 1.12066, 1.12056, 1.12059, 1.1208, 1.12071, 1.12066, 1.1208, 1.12077, 1.1207, 1.12086, 1.1206, 1.12046, 1.1207, 1.12081, 1.1206, 1.12062, 1.12055, 1.12052, 1.12062, 1.1206, 1.12056, 1.12073, 1.12061, 1.12076, 1.12052, 1.12054, 1.1207, 1.12068, 1.12069, 1.12071, 1.12074, 1.12056, 1.12054, 1.1206, 1.1205, 1.12034, 1.12029, 1.12034, 1.12024, 1.12027, 1.12037, 1.12036, 1.12031, 1.12038, 1.12035, 1.12023, 1.12018, 1.12014, 1.12042, 1.12046, 1.12047, 1.12029, 1.12029, 1.1199, 1.11965, 1.11963, 1.11985, 1.11994, 1.11991, 1.11991, 1.11991, 1.11991, 1.11991, 1.11994, 1.11997, 1.11997, 1.12, 1.12019, 1.12025, 1.12023, 1.12015, 1.12055, 1.12042, 1.12046, 1.12019, 1.12008, 1.12028, 1.12035, 1.12047, 1.1203, 1.12035, 1.12035, 1.12033, 1.12031, 1.12033, 1.12035, 1.12021, 1.12025, 1.12026, 1.12029, 1.1203, 1.12029, 1.1203, 1.12034, 1.12032, 1.12029, 1.12024, 1.12016, 1.12052], \"high\": [1.12037, 1.12068, 1.12072, 1.1218, 1.12174, 1.12166, 1.12188, 1.12181, 1.12174, 1.12224, 1.12222, 1.12202, 1.1219, 1.12212, 1.12209, 1.12235, 1.122, 1.12194, 1.12192, 1.12152, 1.12137, 1.12126, 1.12131, 1.12075, 1.12072, 1.12082, 1.12087, 1.12078, 1.12084, 1.12083, 1.12082, 1.12091, 1.12097, 1.12066, 1.12071, 1.12084, 1.12083, 1.1207, 1.12069, 1.12057, 1.12062, 1.12072, 1.12063, 1.12074, 1.12074, 1.12077, 1.12076, 1.1206, 1.12071, 1.12074, 1.1208, 1.12074, 1.1208, 1.12079, 1.1206, 1.12063, 1.1207, 1.12055, 1.12041, 1.12036, 1.12034, 1.12031, 1.12039, 1.12038, 1.12036, 1.12038, 1.12038, 1.12037, 1.12032, 1.12035, 1.12045, 1.12046, 1.12047, 1.12052, 1.12029, 1.12029, 1.1199, 1.11965, 1.11985, 1.12, 1.11995, 1.11991, 1.11991, 1.11991, 1.11991, 1.11994, 1.12011, 1.11997, 1.12, 1.12019, 1.12025, 1.12026, 1.12047, 1.12057, 1.12055, 1.12057, 1.12046, 1.12036, 1.1204, 1.12038, 1.12058, 1.12048, 1.12049, 1.12048, 1.12042, 1.12039, 1.12037, 1.12037, 1.12035, 1.12026, 1.12036, 1.1203, 1.12033, 1.12032, 1.1203, 1.12034, 1.12042, 1.12033, 1.12031, 1.1203, 1.12056], \"low\": [1.12017, 1.12031, 1.12035, 1.12071, 1.1211, 1.12104, 1.1215, 1.12124, 1.12132, 1.12168, 1.12189, 1.12153, 1.12148, 1.12148, 1.1217, 1.12189, 1.12159, 1.1216, 1.12141, 1.12134, 1.12051, 1.12056, 1.12066, 1.12041, 1.12053, 1.12043, 1.12065, 1.1204, 1.12057, 1.1207, 1.12065, 1.1207, 1.12059, 1.12046, 1.12043, 1.12055, 1.12055, 1.12059, 1.1205, 1.1204, 1.12046, 1.1205, 1.12045, 1.12056, 1.12049, 1.1205, 1.1205, 1.12046, 1.12054, 1.1206, 1.12066, 1.12062, 1.1207, 1.12039, 1.1204, 1.12048, 1.12049, 1.12033, 1.12022, 1.12025, 1.12024, 1.12022, 1.12027, 1.12032, 1.12026, 1.12025, 1.1202, 1.12018, 1.12009, 1.12012, 1.12014, 1.12042, 1.12018, 1.12029, 1.12028, 1.1199, 1.11965, 1.11958, 1.1195, 1.11983, 1.11991, 1.11991, 1.11991, 1.11991, 1.11991, 1.11991, 1.11994, 1.11997, 1.11997, 1.11997, 1.12005, 1.12017, 1.1201, 1.12014, 1.12036, 1.12042, 1.12019, 1.12004, 1.12008, 1.12021, 1.12032, 1.12026, 1.11998, 1.12034, 1.12029, 1.12028, 1.12031, 1.12033, 1.1202, 1.12014, 1.12024, 1.12024, 1.12029, 1.12029, 1.12023, 1.12028, 1.1203, 1.12029, 1.12024, 1.12013, 1.12012], \"open\": [1.1203, 1.12034, 1.1206, 1.12072, 1.12173, 1.12112, 1.12161, 1.12171, 1.1214, 1.12168, 1.12218, 1.12196, 1.12161, 1.12151, 1.12208, 1.1219, 1.1219, 1.12163, 1.12184, 1.12144, 1.12135, 1.12078, 1.12117, 1.12066, 1.12056, 1.12059, 1.1208, 1.12071, 1.12066, 1.1208, 1.12077, 1.1207, 1.12086, 1.1206, 1.12046, 1.1207, 1.12081, 1.1206, 1.12062, 1.12055, 1.12052, 1.12062, 1.1206, 1.12056, 1.12073, 1.12061, 1.12076, 1.12052, 1.12054, 1.1207, 1.12068, 1.12069, 1.12071, 1.12074, 1.12056, 1.12054, 1.1206, 1.1205, 1.12034, 1.12029, 1.12034, 1.12024, 1.12027, 1.12037, 1.12036, 1.12031, 1.12038, 1.12035, 1.12023, 1.12018, 1.12014, 1.12042, 1.12046, 1.12047, 1.12029, 1.12029, 1.1199, 1.11965, 1.11963, 1.11985, 1.11994, 1.11991, 1.11991, 1.11991, 1.11991, 1.11991, 1.11994, 1.11997, 1.11997, 1.12, 1.12019, 1.12025, 1.12023, 1.12015, 1.12055, 1.12042, 1.12046, 1.12019, 1.12008, 1.12028, 1.12035, 1.12047, 1.1203, 1.12035, 1.12035, 1.12033, 1.12031, 1.12033, 1.12035, 1.12021, 1.12025, 1.12026, 1.12029, 1.1203, 1.12029, 1.1203, 1.12034, 1.12032, 1.12029, 1.12024, 1.12016], \"showlegend\": false, \"type\": \"candlestick\", \"x\": [\"2019-08-09T15:10:00\", \"2019-08-09T15:15:00\", \"2019-08-09T15:20:00\", \"2019-08-09T15:25:00\", \"2019-08-09T15:30:00\", \"2019-08-09T15:35:00\", \"2019-08-09T15:40:00\", \"2019-08-09T15:45:00\", \"2019-08-09T15:50:00\", \"2019-08-09T15:55:00\", \"2019-08-09T16:00:00\", \"2019-08-09T16:05:00\", \"2019-08-09T16:10:00\", \"2019-08-09T16:15:00\", \"2019-08-09T16:20:00\", \"2019-08-09T16:25:00\", \"2019-08-09T16:30:00\", \"2019-08-09T16:35:00\", \"2019-08-09T16:40:00\", \"2019-08-09T16:45:00\", \"2019-08-09T16:50:00\", \"2019-08-09T16:55:00\", \"2019-08-09T17:00:00\", \"2019-08-09T17:05:00\", \"2019-08-09T17:10:00\", \"2019-08-09T17:15:00\", \"2019-08-09T17:20:00\", \"2019-08-09T17:25:00\", \"2019-08-09T17:30:00\", \"2019-08-09T17:35:00\", \"2019-08-09T17:40:00\", \"2019-08-09T17:45:00\", \"2019-08-09T17:50:00\", \"2019-08-09T17:55:00\", \"2019-08-09T18:00:00\", \"2019-08-09T18:05:00\", \"2019-08-09T18:10:00\", \"2019-08-09T18:15:00\", \"2019-08-09T18:20:00\", \"2019-08-09T18:25:00\", \"2019-08-09T18:30:00\", \"2019-08-09T18:35:00\", \"2019-08-09T18:40:00\", \"2019-08-09T18:45:00\", \"2019-08-09T18:50:00\", \"2019-08-09T18:55:00\", \"2019-08-09T19:00:00\", \"2019-08-09T19:05:00\", \"2019-08-09T19:10:00\", \"2019-08-09T19:15:00\", \"2019-08-09T19:20:00\", \"2019-08-09T19:25:00\", \"2019-08-09T19:30:00\", \"2019-08-09T19:35:00\", \"2019-08-09T19:40:00\", \"2019-08-09T19:45:00\", \"2019-08-09T19:50:00\", \"2019-08-09T19:55:00\", \"2019-08-09T20:00:00\", \"2019-08-09T20:05:00\", \"2019-08-09T20:10:00\", \"2019-08-09T20:15:00\", \"2019-08-09T20:20:00\", \"2019-08-09T20:25:00\", \"2019-08-09T20:30:00\", \"2019-08-09T20:35:00\", \"2019-08-09T20:40:00\", \"2019-08-09T20:45:00\", \"2019-08-09T20:50:00\", \"2019-08-09T20:55:00\", \"2019-08-11T19:15:00\", \"2019-08-11T19:20:00\", \"2019-08-11T19:25:00\", \"2019-08-11T19:30:00\", \"2019-08-11T19:35:00\", \"2019-08-11T19:40:00\", \"2019-08-11T19:45:00\", \"2019-08-11T19:50:00\", \"2019-08-11T19:55:00\", \"2019-08-11T20:00:00\", \"2019-08-11T20:05:00\", \"2019-08-11T20:10:00\", \"2019-08-11T20:15:00\", \"2019-08-11T20:20:00\", \"2019-08-11T20:30:00\", \"2019-08-11T20:35:00\", \"2019-08-11T20:40:00\", \"2019-08-11T20:45:00\", \"2019-08-11T20:50:00\", \"2019-08-11T20:55:00\", \"2019-08-11T21:00:00\", \"2019-08-11T21:05:00\", \"2019-08-11T21:10:00\", \"2019-08-11T21:15:00\", \"2019-08-11T21:20:00\", \"2019-08-11T21:25:00\", \"2019-08-11T21:30:00\", \"2019-08-11T21:35:00\", \"2019-08-11T21:40:00\", \"2019-08-11T21:45:00\", \"2019-08-11T21:50:00\", \"2019-08-11T21:55:00\", \"2019-08-11T22:00:00\", \"2019-08-11T22:05:00\", \"2019-08-11T22:10:00\", \"2019-08-11T22:15:00\", \"2019-08-11T22:20:00\", \"2019-08-11T22:25:00\", \"2019-08-11T22:30:00\", \"2019-08-11T22:35:00\", \"2019-08-11T22:40:00\", \"2019-08-11T22:45:00\", \"2019-08-11T22:50:00\", \"2019-08-11T22:55:00\", \"2019-08-11T23:00:00\", \"2019-08-11T23:05:00\", \"2019-08-11T23:10:00\", \"2019-08-11T23:15:00\", \"2019-08-11T23:20:00\", \"2019-08-11T23:25:00\", \"2019-08-11T23:30:00\"], \"xaxis\": \"x2\", \"yaxis\": \"y2\"}, {\"marker\": {\"color\": \"mediumpurple\", \"size\": 8}, \"mode\": \"markers\", \"showlegend\": false, \"type\": \"scatter\", \"x\": [\"2019-08-09T16:25:00\", \"2019-08-09T17:50:00\", \"2019-08-09T19:20:00\", \"2019-08-11T19:30:00\", \"2019-08-11T21:50:00\", \"2019-08-11T23:10:00\"], \"xaxis\": \"x2\", \"y\": [1.12235, 1.12097, 1.1208, 1.12052, 1.12058, 1.12042], \"yaxis\": \"y2\"}, {\"marker\": {\"color\": \"mediumblue\", \"size\": 8}, \"mode\": \"markers\", \"showlegend\": false, \"type\": \"scatter\", \"x\": [\"2019-08-09T15:35:00\", \"2019-08-09T17:05:00\", \"2019-08-09T18:25:00\", \"2019-08-09T20:50:00\", \"2019-08-11T19:55:00\", \"2019-08-11T22:35:00\"], \"xaxis\": \"x2\", \"y\": [1.12104, 1.12041, 1.1204, 1.12009, 1.1195, 1.12014], \"yaxis\": \"y2\"}, {\"marker\": {\"color\": \"green\", \"line\": {\"color\": \"black\", \"width\": 2}, \"size\": 10, \"symbol\": \"triangle-up\"}, \"mode\": \"markers\", \"showlegend\": false, \"type\": \"scatter\", \"x\": [], \"xaxis\": \"x2\", \"y\": [], \"yaxis\": \"y2\"}, {\"marker\": {\"color\": \"red\", \"line\": {\"color\": \"black\", \"width\": 2}, \"size\": 10, \"symbol\": \"triangle-down\"}, \"mode\": \"markers\", \"showlegend\": false, \"type\": \"scatter\", \"x\": [\"2019-08-09T19:20:00\", \"2019-08-11T19:30:00\"], \"xaxis\": \"x2\", \"y\": [1.12069, 1.12029], \"yaxis\": \"y2\"}],                        {\"template\": {\"data\": {\"bar\": [{\"error_x\": {\"color\": \"#2a3f5f\"}, \"error_y\": {\"color\": \"#2a3f5f\"}, \"marker\": {\"line\": {\"color\": \"#E5ECF6\", \"width\": 0.5}}, \"type\": \"bar\"}], \"barpolar\": [{\"marker\": {\"line\": {\"color\": \"#E5ECF6\", \"width\": 0.5}}, \"type\": \"barpolar\"}], \"carpet\": [{\"aaxis\": {\"endlinecolor\": \"#2a3f5f\", \"gridcolor\": \"white\", \"linecolor\": \"white\", \"minorgridcolor\": \"white\", \"startlinecolor\": \"#2a3f5f\"}, \"baxis\": {\"endlinecolor\": \"#2a3f5f\", \"gridcolor\": \"white\", \"linecolor\": \"white\", \"minorgridcolor\": \"white\", \"startlinecolor\": \"#2a3f5f\"}, \"type\": \"carpet\"}], \"choropleth\": [{\"colorbar\": {\"outlinewidth\": 0, \"ticks\": \"\"}, \"type\": \"choropleth\"}], \"contour\": [{\"colorbar\": {\"outlinewidth\": 0, \"ticks\": \"\"}, \"colorscale\": [[0.0, \"#0d0887\"], [0.1111111111111111, \"#46039f\"], [0.2222222222222222, \"#7201a8\"], [0.3333333333333333, \"#9c179e\"], [0.4444444444444444, \"#bd3786\"], [0.5555555555555556, \"#d8576b\"], [0.6666666666666666, \"#ed7953\"], [0.7777777777777778, \"#fb9f3a\"], [0.8888888888888888, \"#fdca26\"], [1.0, \"#f0f921\"]], \"type\": \"contour\"}], \"contourcarpet\": [{\"colorbar\": {\"outlinewidth\": 0, \"ticks\": \"\"}, \"type\": \"contourcarpet\"}], \"heatmap\": [{\"colorbar\": {\"outlinewidth\": 0, \"ticks\": \"\"}, \"colorscale\": [[0.0, \"#0d0887\"], [0.1111111111111111, \"#46039f\"], [0.2222222222222222, \"#7201a8\"], [0.3333333333333333, \"#9c179e\"], [0.4444444444444444, \"#bd3786\"], [0.5555555555555556, \"#d8576b\"], [0.6666666666666666, \"#ed7953\"], [0.7777777777777778, \"#fb9f3a\"], [0.8888888888888888, \"#fdca26\"], [1.0, \"#f0f921\"]], \"type\": \"heatmap\"}], \"heatmapgl\": [{\"colorbar\": {\"outlinewidth\": 0, \"ticks\": \"\"}, \"colorscale\": [[0.0, \"#0d0887\"], [0.1111111111111111, \"#46039f\"], [0.2222222222222222, \"#7201a8\"], [0.3333333333333333, \"#9c179e\"], [0.4444444444444444, \"#bd3786\"], [0.5555555555555556, \"#d8576b\"], [0.6666666666666666, \"#ed7953\"], [0.7777777777777778, \"#fb9f3a\"], [0.8888888888888888, \"#fdca26\"], [1.0, \"#f0f921\"]], \"type\": \"heatmapgl\"}], \"histogram\": [{\"marker\": {\"colorbar\": {\"outlinewidth\": 0, \"ticks\": \"\"}}, \"type\": \"histogram\"}], \"histogram2d\": [{\"colorbar\": {\"outlinewidth\": 0, \"ticks\": \"\"}, \"colorscale\": [[0.0, \"#0d0887\"], [0.1111111111111111, \"#46039f\"], [0.2222222222222222, \"#7201a8\"], [0.3333333333333333, \"#9c179e\"], [0.4444444444444444, \"#bd3786\"], [0.5555555555555556, \"#d8576b\"], [0.6666666666666666, \"#ed7953\"], [0.7777777777777778, \"#fb9f3a\"], [0.8888888888888888, \"#fdca26\"], [1.0, \"#f0f921\"]], \"type\": \"histogram2d\"}], \"histogram2dcontour\": [{\"colorbar\": {\"outlinewidth\": 0, \"ticks\": \"\"}, \"colorscale\": [[0.0, \"#0d0887\"], [0.1111111111111111, \"#46039f\"], [0.2222222222222222, \"#7201a8\"], [0.3333333333333333, \"#9c179e\"], [0.4444444444444444, \"#bd3786\"], [0.5555555555555556, \"#d8576b\"], [0.6666666666666666, \"#ed7953\"], [0.7777777777777778, \"#fb9f3a\"], [0.8888888888888888, \"#fdca26\"], [1.0, \"#f0f921\"]], \"type\": \"histogram2dcontour\"}], \"mesh3d\": [{\"colorbar\": {\"outlinewidth\": 0, \"ticks\": \"\"}, \"type\": \"mesh3d\"}], \"parcoords\": [{\"line\": {\"colorbar\": {\"outlinewidth\": 0, \"ticks\": \"\"}}, \"type\": \"parcoords\"}], \"pie\": [{\"automargin\": true, \"type\": \"pie\"}], \"scatter\": [{\"marker\": {\"colorbar\": {\"outlinewidth\": 0, \"ticks\": \"\"}}, \"type\": \"scatter\"}], \"scatter3d\": [{\"line\": {\"colorbar\": {\"outlinewidth\": 0, \"ticks\": \"\"}}, \"marker\": {\"colorbar\": {\"outlinewidth\": 0, \"ticks\": \"\"}}, \"type\": \"scatter3d\"}], \"scattercarpet\": [{\"marker\": {\"colorbar\": {\"outlinewidth\": 0, \"ticks\": \"\"}}, \"type\": \"scattercarpet\"}], \"scattergeo\": [{\"marker\": {\"colorbar\": {\"outlinewidth\": 0, \"ticks\": \"\"}}, \"type\": \"scattergeo\"}], \"scattergl\": [{\"marker\": {\"colorbar\": {\"outlinewidth\": 0, \"ticks\": \"\"}}, \"type\": \"scattergl\"}], \"scattermapbox\": [{\"marker\": {\"colorbar\": {\"outlinewidth\": 0, \"ticks\": \"\"}}, \"type\": \"scattermapbox\"}], \"scatterpolar\": [{\"marker\": {\"colorbar\": {\"outlinewidth\": 0, \"ticks\": \"\"}}, \"type\": \"scatterpolar\"}], \"scatterpolargl\": [{\"marker\": {\"colorbar\": {\"outlinewidth\": 0, \"ticks\": \"\"}}, \"type\": \"scatterpolargl\"}], \"scatterternary\": [{\"marker\": {\"colorbar\": {\"outlinewidth\": 0, \"ticks\": \"\"}}, \"type\": \"scatterternary\"}], \"surface\": [{\"colorbar\": {\"outlinewidth\": 0, \"ticks\": \"\"}, \"colorscale\": [[0.0, \"#0d0887\"], [0.1111111111111111, \"#46039f\"], [0.2222222222222222, \"#7201a8\"], [0.3333333333333333, \"#9c179e\"], [0.4444444444444444, \"#bd3786\"], [0.5555555555555556, \"#d8576b\"], [0.6666666666666666, \"#ed7953\"], [0.7777777777777778, \"#fb9f3a\"], [0.8888888888888888, \"#fdca26\"], [1.0, \"#f0f921\"]], \"type\": \"surface\"}], \"table\": [{\"cells\": {\"fill\": {\"color\": \"#EBF0F8\"}, \"line\": {\"color\": \"white\"}}, \"header\": {\"fill\": {\"color\": \"#C8D4E3\"}, \"line\": {\"color\": \"white\"}}, \"type\": \"table\"}]}, \"layout\": {\"annotationdefaults\": {\"arrowcolor\": \"#2a3f5f\", \"arrowhead\": 0, \"arrowwidth\": 1}, \"coloraxis\": {\"colorbar\": {\"outlinewidth\": 0, \"ticks\": \"\"}}, \"colorscale\": {\"diverging\": [[0, \"#8e0152\"], [0.1, \"#c51b7d\"], [0.2, \"#de77ae\"], [0.3, \"#f1b6da\"], [0.4, \"#fde0ef\"], [0.5, \"#f7f7f7\"], [0.6, \"#e6f5d0\"], [0.7, \"#b8e186\"], [0.8, \"#7fbc41\"], [0.9, \"#4d9221\"], [1, \"#276419\"]], \"sequential\": [[0.0, \"#0d0887\"], [0.1111111111111111, \"#46039f\"], [0.2222222222222222, \"#7201a8\"], [0.3333333333333333, \"#9c179e\"], [0.4444444444444444, \"#bd3786\"], [0.5555555555555556, \"#d8576b\"], [0.6666666666666666, \"#ed7953\"], [0.7777777777777778, \"#fb9f3a\"], [0.8888888888888888, \"#fdca26\"], [1.0, \"#f0f921\"]], \"sequentialminus\": [[0.0, \"#0d0887\"], [0.1111111111111111, \"#46039f\"], [0.2222222222222222, \"#7201a8\"], [0.3333333333333333, \"#9c179e\"], [0.4444444444444444, \"#bd3786\"], [0.5555555555555556, \"#d8576b\"], [0.6666666666666666, \"#ed7953\"], [0.7777777777777778, \"#fb9f3a\"], [0.8888888888888888, \"#fdca26\"], [1.0, \"#f0f921\"]]}, \"colorway\": [\"#636efa\", \"#EF553B\", \"#00cc96\", \"#ab63fa\", \"#FFA15A\", \"#19d3f3\", \"#FF6692\", \"#B6E880\", \"#FF97FF\", \"#FECB52\"], \"font\": {\"color\": \"#2a3f5f\"}, \"geo\": {\"bgcolor\": \"white\", \"lakecolor\": \"white\", \"landcolor\": \"#E5ECF6\", \"showlakes\": true, \"showland\": true, \"subunitcolor\": \"white\"}, \"hoverlabel\": {\"align\": \"left\"}, \"hovermode\": \"closest\", \"mapbox\": {\"style\": \"light\"}, \"paper_bgcolor\": \"white\", \"plot_bgcolor\": \"#E5ECF6\", \"polar\": {\"angularaxis\": {\"gridcolor\": \"white\", \"linecolor\": \"white\", \"ticks\": \"\"}, \"bgcolor\": \"#E5ECF6\", \"radialaxis\": {\"gridcolor\": \"white\", \"linecolor\": \"white\", \"ticks\": \"\"}}, \"scene\": {\"xaxis\": {\"backgroundcolor\": \"#E5ECF6\", \"gridcolor\": \"white\", \"gridwidth\": 2, \"linecolor\": \"white\", \"showbackground\": true, \"ticks\": \"\", \"zerolinecolor\": \"white\"}, \"yaxis\": {\"backgroundcolor\": \"#E5ECF6\", \"gridcolor\": \"white\", \"gridwidth\": 2, \"linecolor\": \"white\", \"showbackground\": true, \"ticks\": \"\", \"zerolinecolor\": \"white\"}, \"zaxis\": {\"backgroundcolor\": \"#E5ECF6\", \"gridcolor\": \"white\", \"gridwidth\": 2, \"linecolor\": \"white\", \"showbackground\": true, \"ticks\": \"\", \"zerolinecolor\": \"white\"}}, \"shapedefaults\": {\"line\": {\"color\": \"#2a3f5f\"}}, \"ternary\": {\"aaxis\": {\"gridcolor\": \"white\", \"linecolor\": \"white\", \"ticks\": \"\"}, \"baxis\": {\"gridcolor\": \"white\", \"linecolor\": \"white\", \"ticks\": \"\"}, \"bgcolor\": \"#E5ECF6\", \"caxis\": {\"gridcolor\": \"white\", \"linecolor\": \"white\", \"ticks\": \"\"}}, \"title\": {\"x\": 0.05}, \"xaxis\": {\"automargin\": true, \"gridcolor\": \"white\", \"linecolor\": \"white\", \"ticks\": \"\", \"title\": {\"standoff\": 15}, \"zerolinecolor\": \"white\", \"zerolinewidth\": 2}, \"yaxis\": {\"automargin\": true, \"gridcolor\": \"white\", \"linecolor\": \"white\", \"ticks\": \"\", \"title\": {\"standoff\": 15}, \"zerolinecolor\": \"white\", \"zerolinewidth\": 2}}}, \"xaxis\": {\"anchor\": \"y\", \"domain\": [0.0, 0.45], \"rangeslider\": {\"visible\": false}}, \"xaxis2\": {\"anchor\": \"y2\", \"domain\": [0.55, 1.0], \"rangeslider\": {\"visible\": false}}, \"yaxis\": {\"anchor\": \"x\", \"domain\": [0.0, 1.0]}, \"yaxis2\": {\"anchor\": \"x2\", \"domain\": [0.0, 1.0]}},                        {\"responsive\": true}                    ).then(function(){\n",
       "                            \n",
       "var gd = document.getElementById('9c3b9394-e601-44c9-a2b8-10dfcde88aa6');\n",
       "var x = new MutationObserver(function (mutations, observer) {{\n",
       "        var display = window.getComputedStyle(gd).display;\n",
       "        if (!display || display === 'none') {{\n",
       "            console.log([gd, 'removed!']);\n",
       "            Plotly.purge(gd);\n",
       "            observer.disconnect();\n",
       "        }}\n",
       "}});\n",
       "\n",
       "// Listen for the removal of the full notebook cells\n",
       "var notebookContainer = gd.closest('#notebook-container');\n",
       "if (notebookContainer) {{\n",
       "    x.observe(notebookContainer, {childList: true});\n",
       "}}\n",
       "\n",
       "// Listen for the clearing of the current output cell\n",
       "var outputEl = gd.closest('.output');\n",
       "if (outputEl) {{\n",
       "    x.observe(outputEl, {childList: true});\n",
       "}}\n",
       "\n",
       "                        })                };                });            </script>        </div>"
      ]
     },
     "metadata": {},
     "output_type": "display_data"
    },
    {
     "data": {
      "application/vnd.plotly.v1+json": {
       "config": {
        "plotlyServerURL": "https://plot.ly"
       },
       "data": [
        {
         "close": [
          1.13156,
          1.13183,
          1.13167,
          1.13161,
          1.13089,
          1.13123,
          1.13112,
          1.13157,
          1.13164,
          1.1316,
          1.13162,
          1.13158,
          1.13141,
          1.13129,
          1.13133,
          1.13108,
          1.13095,
          1.13033,
          1.1301,
          1.1298,
          1.13048,
          1.13043,
          1.1303,
          1.13043,
          1.13005,
          1.12998,
          1.13034,
          1.13034,
          1.13046,
          1.13048,
          1.13064,
          1.13081,
          1.13095,
          1.13112,
          1.13109,
          1.13159,
          1.13166,
          1.13208,
          1.13166,
          1.13163,
          1.1315,
          1.13145,
          1.13142,
          1.13102,
          1.13108,
          1.13077,
          1.13091,
          1.13073,
          1.13068,
          1.13071,
          1.13087,
          1.13072,
          1.13082,
          1.13131,
          1.13088,
          1.13103,
          1.13091,
          1.13118,
          1.13082,
          1.13083,
          1.13109,
          1.13128,
          1.13108,
          1.13115,
          1.13082,
          1.13111,
          1.13108,
          1.13123,
          1.13067,
          1.1289,
          1.12867,
          1.12874,
          1.12903,
          1.12926,
          1.12946,
          1.12941,
          1.12931,
          1.12923,
          1.12927,
          1.12965,
          1.12952,
          1.12969,
          1.13003,
          1.12955,
          1.12841,
          1.12757,
          1.12762,
          1.12796,
          1.12774,
          1.12767,
          1.12767,
          1.12789,
          1.12784,
          1.12784,
          1.12824,
          1.12807,
          1.12813,
          1.12807,
          1.12809,
          1.12818,
          1.12767,
          1.12768,
          1.12784,
          1.12766,
          1.1278,
          1.12781,
          1.12771,
          1.12772,
          1.12762,
          1.12757,
          1.12741,
          1.12722,
          1.12727,
          1.12713,
          1.12722,
          1.12693,
          1.12711,
          1.12704,
          1.12703,
          1.1271,
          1.12711
         ],
         "high": [
          1.13159,
          1.13197,
          1.13186,
          1.13176,
          1.13171,
          1.13123,
          1.13138,
          1.13161,
          1.13173,
          1.13164,
          1.13168,
          1.13166,
          1.13162,
          1.13146,
          1.13149,
          1.13141,
          1.13112,
          1.13099,
          1.13044,
          1.13015,
          1.13048,
          1.13065,
          1.13052,
          1.13044,
          1.13044,
          1.1302,
          1.13045,
          1.13039,
          1.1305,
          1.13059,
          1.13083,
          1.1309,
          1.131,
          1.13116,
          1.13118,
          1.13164,
          1.13178,
          1.13224,
          1.13214,
          1.13181,
          1.13163,
          1.13163,
          1.13147,
          1.13144,
          1.13113,
          1.13108,
          1.13094,
          1.13094,
          1.13078,
          1.13073,
          1.13089,
          1.13088,
          1.13097,
          1.13132,
          1.13135,
          1.13103,
          1.13116,
          1.13154,
          1.13131,
          1.13089,
          1.13122,
          1.1313,
          1.13128,
          1.13125,
          1.13115,
          1.13117,
          1.13113,
          1.13127,
          1.13123,
          1.13073,
          1.12893,
          1.12878,
          1.12907,
          1.1294,
          1.12955,
          1.12958,
          1.12944,
          1.12963,
          1.12934,
          1.12965,
          1.12969,
          1.12975,
          1.13023,
          1.13004,
          1.12967,
          1.12849,
          1.12768,
          1.12807,
          1.12802,
          1.12775,
          1.12794,
          1.12798,
          1.12805,
          1.1279,
          1.12826,
          1.12842,
          1.12815,
          1.12834,
          1.12814,
          1.1283,
          1.1283,
          1.12778,
          1.12798,
          1.12797,
          1.12783,
          1.12798,
          1.12783,
          1.12789,
          1.12775,
          1.12769,
          1.12757,
          1.12744,
          1.12736,
          1.12729,
          1.12729,
          1.12729,
          1.12713,
          1.12717,
          1.12708,
          1.12726,
          1.12719
         ],
         "low": [
          1.13133,
          1.13156,
          1.13165,
          1.1315,
          1.13089,
          1.13089,
          1.13108,
          1.13104,
          1.13154,
          1.13143,
          1.13156,
          1.13155,
          1.13136,
          1.13125,
          1.13126,
          1.13108,
          1.13095,
          1.13027,
          1.13009,
          1.12975,
          1.12978,
          1.13034,
          1.13025,
          1.13025,
          1.13003,
          1.12985,
          1.12996,
          1.13022,
          1.13024,
          1.13033,
          1.13044,
          1.13061,
          1.1307,
          1.13089,
          1.13102,
          1.13106,
          1.13154,
          1.13161,
          1.13166,
          1.13158,
          1.13134,
          1.13135,
          1.13133,
          1.13091,
          1.13096,
          1.13068,
          1.13071,
          1.13072,
          1.1304,
          1.13044,
          1.13063,
          1.13066,
          1.13072,
          1.1308,
          1.13086,
          1.13066,
          1.1309,
          1.13076,
          1.13078,
          1.13069,
          1.13082,
          1.13108,
          1.13082,
          1.13097,
          1.13063,
          1.13073,
          1.13086,
          1.13097,
          1.13064,
          1.12868,
          1.12836,
          1.12833,
          1.12874,
          1.12886,
          1.12917,
          1.12923,
          1.12909,
          1.12913,
          1.12903,
          1.1292,
          1.12949,
          1.12947,
          1.12962,
          1.12955,
          1.12841,
          1.12755,
          1.12744,
          1.12754,
          1.12768,
          1.12729,
          1.12755,
          1.12764,
          1.12783,
          1.1276,
          1.12778,
          1.12806,
          1.12791,
          1.12804,
          1.12788,
          1.12804,
          1.12764,
          1.12754,
          1.12768,
          1.12764,
          1.12752,
          1.12779,
          1.12763,
          1.1276,
          1.1276,
          1.12755,
          1.12723,
          1.12713,
          1.12721,
          1.12696,
          1.12681,
          1.12691,
          1.12692,
          1.12693,
          1.1269,
          1.12702,
          1.12706
         ],
         "open": [
          1.13144,
          1.13156,
          1.13183,
          1.13167,
          1.13161,
          1.13089,
          1.13123,
          1.13112,
          1.13157,
          1.13164,
          1.1316,
          1.13162,
          1.13158,
          1.13141,
          1.13129,
          1.13133,
          1.13108,
          1.13095,
          1.13033,
          1.1301,
          1.1298,
          1.13048,
          1.13043,
          1.1303,
          1.13043,
          1.13005,
          1.12998,
          1.13034,
          1.13034,
          1.13046,
          1.13048,
          1.13064,
          1.13081,
          1.13095,
          1.13112,
          1.13109,
          1.13159,
          1.13166,
          1.13208,
          1.13166,
          1.13163,
          1.1315,
          1.13145,
          1.13142,
          1.13102,
          1.13108,
          1.13077,
          1.13091,
          1.13073,
          1.13068,
          1.13071,
          1.13087,
          1.13072,
          1.13082,
          1.13131,
          1.13088,
          1.13103,
          1.13091,
          1.13118,
          1.13082,
          1.13083,
          1.13109,
          1.13128,
          1.13108,
          1.13115,
          1.13082,
          1.13111,
          1.13108,
          1.13123,
          1.13067,
          1.1289,
          1.12867,
          1.12874,
          1.12903,
          1.12926,
          1.12946,
          1.12941,
          1.12931,
          1.12923,
          1.12927,
          1.12965,
          1.12952,
          1.12969,
          1.13003,
          1.12955,
          1.12841,
          1.12757,
          1.12762,
          1.12796,
          1.12774,
          1.12767,
          1.12767,
          1.12789,
          1.12784,
          1.12784,
          1.12824,
          1.12807,
          1.12813,
          1.12807,
          1.12809,
          1.12818,
          1.12767,
          1.12768,
          1.12784,
          1.12766,
          1.1278,
          1.12781,
          1.12771,
          1.12772,
          1.12762,
          1.12757,
          1.12741,
          1.12722,
          1.12727,
          1.12713,
          1.12722,
          1.12693,
          1.12711,
          1.12704,
          1.12703,
          1.1271
         ],
         "showlegend": false,
         "type": "candlestick",
         "x": [
          "2019-02-11T08:30:00",
          "2019-02-11T08:35:00",
          "2019-02-11T08:40:00",
          "2019-02-11T08:45:00",
          "2019-02-11T08:50:00",
          "2019-02-11T08:55:00",
          "2019-02-11T09:00:00",
          "2019-02-11T09:05:00",
          "2019-02-11T09:10:00",
          "2019-02-11T09:15:00",
          "2019-02-11T09:20:00",
          "2019-02-11T09:25:00",
          "2019-02-11T09:30:00",
          "2019-02-11T09:35:00",
          "2019-02-11T09:40:00",
          "2019-02-11T09:45:00",
          "2019-02-11T09:50:00",
          "2019-02-11T09:55:00",
          "2019-02-11T10:00:00",
          "2019-02-11T10:05:00",
          "2019-02-11T10:10:00",
          "2019-02-11T10:15:00",
          "2019-02-11T10:20:00",
          "2019-02-11T10:25:00",
          "2019-02-11T10:30:00",
          "2019-02-11T10:35:00",
          "2019-02-11T10:40:00",
          "2019-02-11T10:45:00",
          "2019-02-11T10:50:00",
          "2019-02-11T10:55:00",
          "2019-02-11T11:00:00",
          "2019-02-11T11:05:00",
          "2019-02-11T11:10:00",
          "2019-02-11T11:15:00",
          "2019-02-11T11:20:00",
          "2019-02-11T11:25:00",
          "2019-02-11T11:30:00",
          "2019-02-11T11:35:00",
          "2019-02-11T11:40:00",
          "2019-02-11T11:45:00",
          "2019-02-11T11:50:00",
          "2019-02-11T11:55:00",
          "2019-02-11T12:00:00",
          "2019-02-11T12:05:00",
          "2019-02-11T12:10:00",
          "2019-02-11T12:15:00",
          "2019-02-11T12:20:00",
          "2019-02-11T12:25:00",
          "2019-02-11T12:30:00",
          "2019-02-11T12:35:00",
          "2019-02-11T12:40:00",
          "2019-02-11T12:45:00",
          "2019-02-11T12:50:00",
          "2019-02-11T12:55:00",
          "2019-02-11T13:00:00",
          "2019-02-11T13:05:00",
          "2019-02-11T13:10:00",
          "2019-02-11T13:15:00",
          "2019-02-11T13:20:00",
          "2019-02-11T13:25:00",
          "2019-02-11T13:30:00",
          "2019-02-11T13:35:00",
          "2019-02-11T13:40:00",
          "2019-02-11T13:45:00",
          "2019-02-11T13:50:00",
          "2019-02-11T13:55:00",
          "2019-02-11T14:00:00",
          "2019-02-11T14:05:00",
          "2019-02-11T14:10:00",
          "2019-02-11T14:15:00",
          "2019-02-11T14:20:00",
          "2019-02-11T14:25:00",
          "2019-02-11T14:30:00",
          "2019-02-11T14:35:00",
          "2019-02-11T14:40:00",
          "2019-02-11T14:45:00",
          "2019-02-11T14:50:00",
          "2019-02-11T14:55:00",
          "2019-02-11T15:00:00",
          "2019-02-11T15:05:00",
          "2019-02-11T15:10:00",
          "2019-02-11T15:15:00",
          "2019-02-11T15:20:00",
          "2019-02-11T15:25:00",
          "2019-02-11T15:30:00",
          "2019-02-11T15:35:00",
          "2019-02-11T15:40:00",
          "2019-02-11T15:45:00",
          "2019-02-11T15:50:00",
          "2019-02-11T15:55:00",
          "2019-02-11T16:00:00",
          "2019-02-11T16:05:00",
          "2019-02-11T16:10:00",
          "2019-02-11T16:15:00",
          "2019-02-11T16:20:00",
          "2019-02-11T16:25:00",
          "2019-02-11T16:30:00",
          "2019-02-11T16:35:00",
          "2019-02-11T16:40:00",
          "2019-02-11T16:45:00",
          "2019-02-11T16:50:00",
          "2019-02-11T16:55:00",
          "2019-02-11T17:00:00",
          "2019-02-11T17:05:00",
          "2019-02-11T17:10:00",
          "2019-02-11T17:15:00",
          "2019-02-11T17:20:00",
          "2019-02-11T17:25:00",
          "2019-02-11T17:30:00",
          "2019-02-11T17:35:00",
          "2019-02-11T17:40:00",
          "2019-02-11T17:45:00",
          "2019-02-11T17:50:00",
          "2019-02-11T17:55:00",
          "2019-02-11T18:00:00",
          "2019-02-11T18:05:00",
          "2019-02-11T18:10:00",
          "2019-02-11T18:15:00",
          "2019-02-11T18:20:00",
          "2019-02-11T18:25:00",
          "2019-02-11T18:30:00"
         ],
         "xaxis": "x",
         "yaxis": "y"
        },
        {
         "marker": {
          "color": "mediumpurple",
          "size": 8
         },
         "mode": "markers",
         "showlegend": false,
         "type": "scatter",
         "x": [
          "2019-02-11T08:35:00",
          "2019-02-11T09:10:00",
          "2019-02-11T11:35:00",
          "2019-02-11T13:15:00",
          "2019-02-11T14:05:00",
          "2019-02-11T15:20:00",
          "2019-02-11T16:25:00",
          "2019-02-11T18:00:00"
         ],
         "xaxis": "x",
         "y": [
          1.13197,
          1.13173,
          1.13224,
          1.13154,
          1.13127,
          1.13023,
          1.12842,
          1.12729
         ],
         "yaxis": "y"
        },
        {
         "marker": {
          "color": "mediumblue",
          "size": 8
         },
         "mode": "markers",
         "showlegend": false,
         "type": "scatter",
         "x": [
          "2019-02-11T08:55:00",
          "2019-02-11T10:05:00",
          "2019-02-11T12:30:00",
          "2019-02-11T13:25:00",
          "2019-02-11T14:25:00",
          "2019-02-11T15:55:00",
          "2019-02-11T17:10:00"
         ],
         "xaxis": "x",
         "y": [
          1.13089,
          1.12975,
          1.1304,
          1.13069,
          1.12833,
          1.12729,
          1.12752
         ],
         "yaxis": "y"
        },
        {
         "marker": {
          "color": "green",
          "line": {
           "color": "black",
           "width": 2
          },
          "size": 10,
          "symbol": "triangle-up"
         },
         "mode": "markers",
         "showlegend": false,
         "type": "scatter",
         "x": [
          "2019-02-11T12:30:00"
         ],
         "xaxis": "x",
         "y": [
          1.13068
         ],
         "yaxis": "y"
        },
        {
         "marker": {
          "color": "red",
          "line": {
           "color": "black",
           "width": 2
          },
          "size": 10,
          "symbol": "triangle-down"
         },
         "mode": "markers",
         "showlegend": false,
         "type": "scatter",
         "x": [
          "2019-02-11T10:05:00",
          "2019-02-11T15:55:00"
         ],
         "xaxis": "x",
         "y": [
          1.1298,
          1.12767
         ],
         "yaxis": "y"
        },
        {
         "close": [
          1.11836,
          1.11848,
          1.11888,
          1.11894,
          1.11924,
          1.11922,
          1.1197,
          1.1196,
          1.11969,
          1.11952,
          1.11989,
          1.12018,
          1.12013,
          1.12015,
          1.12039,
          1.12044,
          1.12038,
          1.1205,
          1.1211,
          1.12084,
          1.12095,
          1.1209,
          1.12086,
          1.12068,
          1.12048,
          1.12065,
          1.12056,
          1.12041,
          1.12037,
          1.1205,
          1.12039,
          1.12038,
          1.12036,
          1.12042,
          1.121,
          1.12114,
          1.12088,
          1.1205,
          1.12056,
          1.12073,
          1.12046,
          1.12019,
          1.12035,
          1.12047,
          1.12072,
          1.12094,
          1.12061,
          1.12056,
          1.12081,
          1.12078,
          1.12095,
          1.12112,
          1.12077,
          1.12107,
          1.12092,
          1.12096,
          1.12181,
          1.1215,
          1.12129,
          1.12243,
          1.12261,
          1.12238,
          1.12183,
          1.12141,
          1.12085,
          1.12147,
          1.12197,
          1.12172,
          1.12157,
          1.12024,
          1.11971,
          1.12044,
          1.12089,
          1.12125,
          1.12128,
          1.12096,
          1.12109,
          1.12093,
          1.12103,
          1.12114,
          1.12165,
          1.12219,
          1.1217,
          1.12166,
          1.12149,
          1.12181,
          1.1219,
          1.1216,
          1.1217,
          1.1218,
          1.12232,
          1.12179,
          1.12153,
          1.1213,
          1.12115,
          1.12074,
          1.12093,
          1.12101,
          1.12082,
          1.12068,
          1.12103,
          1.12063,
          1.12058,
          1.12007,
          1.12063,
          1.12033,
          1.11947,
          1.11971,
          1.11951,
          1.11901,
          1.11914,
          1.11922,
          1.11925,
          1.11955,
          1.11995,
          1.11949,
          1.11937,
          1.11944,
          1.11953,
          1.11945,
          1.11992
         ],
         "high": [
          1.11863,
          1.11859,
          1.11894,
          1.11896,
          1.11936,
          1.1194,
          1.11973,
          1.11974,
          1.1197,
          1.1197,
          1.11989,
          1.12051,
          1.12019,
          1.12016,
          1.12053,
          1.12051,
          1.12045,
          1.12052,
          1.12117,
          1.12114,
          1.12098,
          1.12099,
          1.12095,
          1.12093,
          1.1207,
          1.12065,
          1.1207,
          1.12069,
          1.12042,
          1.1206,
          1.12051,
          1.12049,
          1.1204,
          1.12044,
          1.12105,
          1.12126,
          1.12114,
          1.12093,
          1.12071,
          1.1208,
          1.12075,
          1.1205,
          1.1204,
          1.12055,
          1.12141,
          1.12101,
          1.12114,
          1.12069,
          1.12094,
          1.12095,
          1.12095,
          1.12131,
          1.12144,
          1.12136,
          1.12129,
          1.12125,
          1.12184,
          1.12203,
          1.12159,
          1.12243,
          1.12266,
          1.12283,
          1.12245,
          1.12183,
          1.12154,
          1.12149,
          1.12203,
          1.12201,
          1.12176,
          1.12189,
          1.1208,
          1.12046,
          1.12096,
          1.12126,
          1.12165,
          1.12135,
          1.12113,
          1.12126,
          1.12127,
          1.12125,
          1.1218,
          1.12223,
          1.1223,
          1.12185,
          1.12184,
          1.12189,
          1.12195,
          1.12219,
          1.12181,
          1.12204,
          1.12275,
          1.12233,
          1.12185,
          1.1217,
          1.12157,
          1.12124,
          1.12133,
          1.12112,
          1.12113,
          1.12082,
          1.12109,
          1.12109,
          1.12075,
          1.12075,
          1.12067,
          1.12064,
          1.12034,
          1.11981,
          1.11972,
          1.1196,
          1.11923,
          1.11923,
          1.11932,
          1.11968,
          1.11995,
          1.12027,
          1.11965,
          1.11964,
          1.11979,
          1.11973,
          1.11992
         ],
         "low": [
          1.11833,
          1.11833,
          1.11848,
          1.11883,
          1.11873,
          1.11913,
          1.11918,
          1.11958,
          1.11949,
          1.11944,
          1.1195,
          1.11982,
          1.11993,
          1.11993,
          1.12008,
          1.12014,
          1.12024,
          1.12036,
          1.12048,
          1.12067,
          1.12073,
          1.12083,
          1.12077,
          1.12057,
          1.12044,
          1.12043,
          1.12051,
          1.12039,
          1.12029,
          1.12035,
          1.1203,
          1.12032,
          1.12024,
          1.12026,
          1.12042,
          1.12098,
          1.12075,
          1.1205,
          1.12034,
          1.12053,
          1.12037,
          1.12014,
          1.12002,
          1.12017,
          1.12045,
          1.12058,
          1.12057,
          1.12036,
          1.12048,
          1.12064,
          1.12067,
          1.12089,
          1.12077,
          1.12061,
          1.1208,
          1.12078,
          1.12066,
          1.12132,
          1.12118,
          1.12128,
          1.12221,
          1.12235,
          1.12161,
          1.12117,
          1.12072,
          1.12085,
          1.12143,
          1.1216,
          1.12098,
          1.1202,
          1.11962,
          1.11916,
          1.12035,
          1.12078,
          1.12096,
          1.12076,
          1.12057,
          1.12093,
          1.12057,
          1.12083,
          1.1211,
          1.1214,
          1.12162,
          1.12154,
          1.12135,
          1.12148,
          1.1215,
          1.1215,
          1.12145,
          1.12167,
          1.1218,
          1.12156,
          1.12124,
          1.12128,
          1.12105,
          1.12072,
          1.1207,
          1.12065,
          1.12061,
          1.12041,
          1.12061,
          1.12055,
          1.12043,
          1.12004,
          1.11997,
          1.12005,
          1.11942,
          1.1194,
          1.11945,
          1.1189,
          1.11845,
          1.11865,
          1.11874,
          1.11914,
          1.11953,
          1.11932,
          1.11926,
          1.11935,
          1.11938,
          1.11924,
          1.11881
         ],
         "open": [
          1.11859,
          1.11836,
          1.11848,
          1.11888,
          1.11894,
          1.11924,
          1.11922,
          1.1197,
          1.1196,
          1.11969,
          1.11952,
          1.11989,
          1.12018,
          1.12013,
          1.12015,
          1.12039,
          1.12044,
          1.12038,
          1.1205,
          1.1211,
          1.12084,
          1.12095,
          1.1209,
          1.12086,
          1.12068,
          1.12048,
          1.12065,
          1.12056,
          1.12041,
          1.12037,
          1.1205,
          1.12039,
          1.12038,
          1.12036,
          1.12042,
          1.121,
          1.12114,
          1.12088,
          1.1205,
          1.12056,
          1.12073,
          1.12046,
          1.12019,
          1.12035,
          1.12047,
          1.12072,
          1.12094,
          1.12061,
          1.12056,
          1.12081,
          1.12078,
          1.12095,
          1.12112,
          1.12077,
          1.12107,
          1.12092,
          1.12096,
          1.12181,
          1.1215,
          1.12129,
          1.12243,
          1.12261,
          1.12238,
          1.12183,
          1.12141,
          1.12085,
          1.12147,
          1.12197,
          1.12172,
          1.12157,
          1.12024,
          1.11971,
          1.12044,
          1.12089,
          1.12125,
          1.12128,
          1.12096,
          1.12109,
          1.12093,
          1.12103,
          1.12114,
          1.12165,
          1.12219,
          1.1217,
          1.12166,
          1.12149,
          1.12181,
          1.1219,
          1.1216,
          1.1217,
          1.1218,
          1.12232,
          1.12179,
          1.12153,
          1.1213,
          1.12115,
          1.12074,
          1.12093,
          1.12101,
          1.12082,
          1.12068,
          1.12103,
          1.12063,
          1.12058,
          1.12007,
          1.12063,
          1.12033,
          1.11947,
          1.11971,
          1.11951,
          1.11901,
          1.11914,
          1.11922,
          1.11925,
          1.11955,
          1.11995,
          1.11949,
          1.11937,
          1.11944,
          1.11953,
          1.11945
         ],
         "showlegend": false,
         "type": "candlestick",
         "x": [
          "2020-06-03T02:20:00",
          "2020-06-03T02:25:00",
          "2020-06-03T02:30:00",
          "2020-06-03T02:35:00",
          "2020-06-03T02:40:00",
          "2020-06-03T02:45:00",
          "2020-06-03T02:50:00",
          "2020-06-03T02:55:00",
          "2020-06-03T03:00:00",
          "2020-06-03T03:05:00",
          "2020-06-03T03:10:00",
          "2020-06-03T03:15:00",
          "2020-06-03T03:20:00",
          "2020-06-03T03:25:00",
          "2020-06-03T03:30:00",
          "2020-06-03T03:35:00",
          "2020-06-03T03:40:00",
          "2020-06-03T03:45:00",
          "2020-06-03T03:50:00",
          "2020-06-03T03:55:00",
          "2020-06-03T04:00:00",
          "2020-06-03T04:05:00",
          "2020-06-03T04:10:00",
          "2020-06-03T04:15:00",
          "2020-06-03T04:20:00",
          "2020-06-03T04:25:00",
          "2020-06-03T04:30:00",
          "2020-06-03T04:35:00",
          "2020-06-03T04:40:00",
          "2020-06-03T04:45:00",
          "2020-06-03T04:50:00",
          "2020-06-03T04:55:00",
          "2020-06-03T05:00:00",
          "2020-06-03T05:05:00",
          "2020-06-03T05:10:00",
          "2020-06-03T05:15:00",
          "2020-06-03T05:20:00",
          "2020-06-03T05:25:00",
          "2020-06-03T05:30:00",
          "2020-06-03T05:35:00",
          "2020-06-03T05:40:00",
          "2020-06-03T05:45:00",
          "2020-06-03T05:50:00",
          "2020-06-03T05:55:00",
          "2020-06-03T06:00:00",
          "2020-06-03T06:05:00",
          "2020-06-03T06:10:00",
          "2020-06-03T06:15:00",
          "2020-06-03T06:20:00",
          "2020-06-03T06:25:00",
          "2020-06-03T06:30:00",
          "2020-06-03T06:35:00",
          "2020-06-03T06:40:00",
          "2020-06-03T06:45:00",
          "2020-06-03T06:50:00",
          "2020-06-03T06:55:00",
          "2020-06-03T07:00:00",
          "2020-06-03T07:05:00",
          "2020-06-03T07:10:00",
          "2020-06-03T07:15:00",
          "2020-06-03T07:20:00",
          "2020-06-03T07:25:00",
          "2020-06-03T07:30:00",
          "2020-06-03T07:35:00",
          "2020-06-03T07:40:00",
          "2020-06-03T07:45:00",
          "2020-06-03T07:50:00",
          "2020-06-03T07:55:00",
          "2020-06-03T08:00:00",
          "2020-06-03T08:05:00",
          "2020-06-03T08:10:00",
          "2020-06-03T08:15:00",
          "2020-06-03T08:20:00",
          "2020-06-03T08:25:00",
          "2020-06-03T08:30:00",
          "2020-06-03T08:35:00",
          "2020-06-03T08:40:00",
          "2020-06-03T08:45:00",
          "2020-06-03T08:50:00",
          "2020-06-03T08:55:00",
          "2020-06-03T09:00:00",
          "2020-06-03T09:05:00",
          "2020-06-03T09:10:00",
          "2020-06-03T09:15:00",
          "2020-06-03T09:20:00",
          "2020-06-03T09:25:00",
          "2020-06-03T09:30:00",
          "2020-06-03T09:35:00",
          "2020-06-03T09:40:00",
          "2020-06-03T09:45:00",
          "2020-06-03T09:50:00",
          "2020-06-03T09:55:00",
          "2020-06-03T10:00:00",
          "2020-06-03T10:05:00",
          "2020-06-03T10:10:00",
          "2020-06-03T10:15:00",
          "2020-06-03T10:20:00",
          "2020-06-03T10:25:00",
          "2020-06-03T10:30:00",
          "2020-06-03T10:35:00",
          "2020-06-03T10:40:00",
          "2020-06-03T10:45:00",
          "2020-06-03T10:50:00",
          "2020-06-03T10:55:00",
          "2020-06-03T11:00:00",
          "2020-06-03T11:05:00",
          "2020-06-03T11:10:00",
          "2020-06-03T11:15:00",
          "2020-06-03T11:20:00",
          "2020-06-03T11:25:00",
          "2020-06-03T11:30:00",
          "2020-06-03T11:35:00",
          "2020-06-03T11:40:00",
          "2020-06-03T11:45:00",
          "2020-06-03T11:50:00",
          "2020-06-03T11:55:00",
          "2020-06-03T12:00:00",
          "2020-06-03T12:05:00",
          "2020-06-03T12:10:00",
          "2020-06-03T12:15:00",
          "2020-06-03T12:20:00"
         ],
         "xaxis": "x2",
         "yaxis": "y2"
        },
        {
         "marker": {
          "color": "mediumpurple",
          "size": 8
         },
         "mode": "markers",
         "showlegend": false,
         "type": "scatter",
         "x": [
          "2020-06-03T03:50:00",
          "2020-06-03T05:15:00",
          "2020-06-03T07:25:00",
          "2020-06-03T09:50:00",
          "2020-06-03T10:55:00",
          "2020-06-03T11:55:00"
         ],
         "xaxis": "x2",
         "y": [
          1.12117,
          1.12126,
          1.12283,
          1.12275,
          1.12075,
          1.12027
         ],
         "yaxis": "y2"
        },
        {
         "marker": {
          "color": "mediumblue",
          "size": 8
         },
         "mode": "markers",
         "showlegend": false,
         "type": "scatter",
         "x": [
          "2020-06-03T02:25:00",
          "2020-06-03T05:00:00",
          "2020-06-03T05:50:00",
          "2020-06-03T08:15:00",
          "2020-06-03T10:35:00",
          "2020-06-03T11:30:00"
         ],
         "xaxis": "x2",
         "y": [
          1.11833,
          1.12024,
          1.12002,
          1.11916,
          1.12041,
          1.11845
         ],
         "yaxis": "y2"
        },
        {
         "marker": {
          "color": "green",
          "line": {
           "color": "black",
           "width": 2
          },
          "size": 10,
          "symbol": "triangle-up"
         },
         "mode": "markers",
         "showlegend": false,
         "type": "scatter",
         "x": [],
         "xaxis": "x2",
         "y": [],
         "yaxis": "y2"
        },
        {
         "marker": {
          "color": "red",
          "line": {
           "color": "black",
           "width": 2
          },
          "size": 10,
          "symbol": "triangle-down"
         },
         "mode": "markers",
         "showlegend": false,
         "type": "scatter",
         "x": [
          "2020-06-03T09:50:00"
         ],
         "xaxis": "x2",
         "y": [
          1.12232
         ],
         "yaxis": "y2"
        }
       ],
       "layout": {
        "autosize": true,
        "template": {
         "data": {
          "bar": [
           {
            "error_x": {
             "color": "#2a3f5f"
            },
            "error_y": {
             "color": "#2a3f5f"
            },
            "marker": {
             "line": {
              "color": "#E5ECF6",
              "width": 0.5
             }
            },
            "type": "bar"
           }
          ],
          "barpolar": [
           {
            "marker": {
             "line": {
              "color": "#E5ECF6",
              "width": 0.5
             }
            },
            "type": "barpolar"
           }
          ],
          "carpet": [
           {
            "aaxis": {
             "endlinecolor": "#2a3f5f",
             "gridcolor": "white",
             "linecolor": "white",
             "minorgridcolor": "white",
             "startlinecolor": "#2a3f5f"
            },
            "baxis": {
             "endlinecolor": "#2a3f5f",
             "gridcolor": "white",
             "linecolor": "white",
             "minorgridcolor": "white",
             "startlinecolor": "#2a3f5f"
            },
            "type": "carpet"
           }
          ],
          "choropleth": [
           {
            "colorbar": {
             "outlinewidth": 0,
             "ticks": ""
            },
            "type": "choropleth"
           }
          ],
          "contour": [
           {
            "colorbar": {
             "outlinewidth": 0,
             "ticks": ""
            },
            "colorscale": [
             [
              0,
              "#0d0887"
             ],
             [
              0.1111111111111111,
              "#46039f"
             ],
             [
              0.2222222222222222,
              "#7201a8"
             ],
             [
              0.3333333333333333,
              "#9c179e"
             ],
             [
              0.4444444444444444,
              "#bd3786"
             ],
             [
              0.5555555555555556,
              "#d8576b"
             ],
             [
              0.6666666666666666,
              "#ed7953"
             ],
             [
              0.7777777777777778,
              "#fb9f3a"
             ],
             [
              0.8888888888888888,
              "#fdca26"
             ],
             [
              1,
              "#f0f921"
             ]
            ],
            "type": "contour"
           }
          ],
          "contourcarpet": [
           {
            "colorbar": {
             "outlinewidth": 0,
             "ticks": ""
            },
            "type": "contourcarpet"
           }
          ],
          "heatmap": [
           {
            "colorbar": {
             "outlinewidth": 0,
             "ticks": ""
            },
            "colorscale": [
             [
              0,
              "#0d0887"
             ],
             [
              0.1111111111111111,
              "#46039f"
             ],
             [
              0.2222222222222222,
              "#7201a8"
             ],
             [
              0.3333333333333333,
              "#9c179e"
             ],
             [
              0.4444444444444444,
              "#bd3786"
             ],
             [
              0.5555555555555556,
              "#d8576b"
             ],
             [
              0.6666666666666666,
              "#ed7953"
             ],
             [
              0.7777777777777778,
              "#fb9f3a"
             ],
             [
              0.8888888888888888,
              "#fdca26"
             ],
             [
              1,
              "#f0f921"
             ]
            ],
            "type": "heatmap"
           }
          ],
          "heatmapgl": [
           {
            "colorbar": {
             "outlinewidth": 0,
             "ticks": ""
            },
            "colorscale": [
             [
              0,
              "#0d0887"
             ],
             [
              0.1111111111111111,
              "#46039f"
             ],
             [
              0.2222222222222222,
              "#7201a8"
             ],
             [
              0.3333333333333333,
              "#9c179e"
             ],
             [
              0.4444444444444444,
              "#bd3786"
             ],
             [
              0.5555555555555556,
              "#d8576b"
             ],
             [
              0.6666666666666666,
              "#ed7953"
             ],
             [
              0.7777777777777778,
              "#fb9f3a"
             ],
             [
              0.8888888888888888,
              "#fdca26"
             ],
             [
              1,
              "#f0f921"
             ]
            ],
            "type": "heatmapgl"
           }
          ],
          "histogram": [
           {
            "marker": {
             "colorbar": {
              "outlinewidth": 0,
              "ticks": ""
             }
            },
            "type": "histogram"
           }
          ],
          "histogram2d": [
           {
            "colorbar": {
             "outlinewidth": 0,
             "ticks": ""
            },
            "colorscale": [
             [
              0,
              "#0d0887"
             ],
             [
              0.1111111111111111,
              "#46039f"
             ],
             [
              0.2222222222222222,
              "#7201a8"
             ],
             [
              0.3333333333333333,
              "#9c179e"
             ],
             [
              0.4444444444444444,
              "#bd3786"
             ],
             [
              0.5555555555555556,
              "#d8576b"
             ],
             [
              0.6666666666666666,
              "#ed7953"
             ],
             [
              0.7777777777777778,
              "#fb9f3a"
             ],
             [
              0.8888888888888888,
              "#fdca26"
             ],
             [
              1,
              "#f0f921"
             ]
            ],
            "type": "histogram2d"
           }
          ],
          "histogram2dcontour": [
           {
            "colorbar": {
             "outlinewidth": 0,
             "ticks": ""
            },
            "colorscale": [
             [
              0,
              "#0d0887"
             ],
             [
              0.1111111111111111,
              "#46039f"
             ],
             [
              0.2222222222222222,
              "#7201a8"
             ],
             [
              0.3333333333333333,
              "#9c179e"
             ],
             [
              0.4444444444444444,
              "#bd3786"
             ],
             [
              0.5555555555555556,
              "#d8576b"
             ],
             [
              0.6666666666666666,
              "#ed7953"
             ],
             [
              0.7777777777777778,
              "#fb9f3a"
             ],
             [
              0.8888888888888888,
              "#fdca26"
             ],
             [
              1,
              "#f0f921"
             ]
            ],
            "type": "histogram2dcontour"
           }
          ],
          "mesh3d": [
           {
            "colorbar": {
             "outlinewidth": 0,
             "ticks": ""
            },
            "type": "mesh3d"
           }
          ],
          "parcoords": [
           {
            "line": {
             "colorbar": {
              "outlinewidth": 0,
              "ticks": ""
             }
            },
            "type": "parcoords"
           }
          ],
          "pie": [
           {
            "automargin": true,
            "type": "pie"
           }
          ],
          "scatter": [
           {
            "marker": {
             "colorbar": {
              "outlinewidth": 0,
              "ticks": ""
             }
            },
            "type": "scatter"
           }
          ],
          "scatter3d": [
           {
            "line": {
             "colorbar": {
              "outlinewidth": 0,
              "ticks": ""
             }
            },
            "marker": {
             "colorbar": {
              "outlinewidth": 0,
              "ticks": ""
             }
            },
            "type": "scatter3d"
           }
          ],
          "scattercarpet": [
           {
            "marker": {
             "colorbar": {
              "outlinewidth": 0,
              "ticks": ""
             }
            },
            "type": "scattercarpet"
           }
          ],
          "scattergeo": [
           {
            "marker": {
             "colorbar": {
              "outlinewidth": 0,
              "ticks": ""
             }
            },
            "type": "scattergeo"
           }
          ],
          "scattergl": [
           {
            "marker": {
             "colorbar": {
              "outlinewidth": 0,
              "ticks": ""
             }
            },
            "type": "scattergl"
           }
          ],
          "scattermapbox": [
           {
            "marker": {
             "colorbar": {
              "outlinewidth": 0,
              "ticks": ""
             }
            },
            "type": "scattermapbox"
           }
          ],
          "scatterpolar": [
           {
            "marker": {
             "colorbar": {
              "outlinewidth": 0,
              "ticks": ""
             }
            },
            "type": "scatterpolar"
           }
          ],
          "scatterpolargl": [
           {
            "marker": {
             "colorbar": {
              "outlinewidth": 0,
              "ticks": ""
             }
            },
            "type": "scatterpolargl"
           }
          ],
          "scatterternary": [
           {
            "marker": {
             "colorbar": {
              "outlinewidth": 0,
              "ticks": ""
             }
            },
            "type": "scatterternary"
           }
          ],
          "surface": [
           {
            "colorbar": {
             "outlinewidth": 0,
             "ticks": ""
            },
            "colorscale": [
             [
              0,
              "#0d0887"
             ],
             [
              0.1111111111111111,
              "#46039f"
             ],
             [
              0.2222222222222222,
              "#7201a8"
             ],
             [
              0.3333333333333333,
              "#9c179e"
             ],
             [
              0.4444444444444444,
              "#bd3786"
             ],
             [
              0.5555555555555556,
              "#d8576b"
             ],
             [
              0.6666666666666666,
              "#ed7953"
             ],
             [
              0.7777777777777778,
              "#fb9f3a"
             ],
             [
              0.8888888888888888,
              "#fdca26"
             ],
             [
              1,
              "#f0f921"
             ]
            ],
            "type": "surface"
           }
          ],
          "table": [
           {
            "cells": {
             "fill": {
              "color": "#EBF0F8"
             },
             "line": {
              "color": "white"
             }
            },
            "header": {
             "fill": {
              "color": "#C8D4E3"
             },
             "line": {
              "color": "white"
             }
            },
            "type": "table"
           }
          ]
         },
         "layout": {
          "annotationdefaults": {
           "arrowcolor": "#2a3f5f",
           "arrowhead": 0,
           "arrowwidth": 1
          },
          "coloraxis": {
           "colorbar": {
            "outlinewidth": 0,
            "ticks": ""
           }
          },
          "colorscale": {
           "diverging": [
            [
             0,
             "#8e0152"
            ],
            [
             0.1,
             "#c51b7d"
            ],
            [
             0.2,
             "#de77ae"
            ],
            [
             0.3,
             "#f1b6da"
            ],
            [
             0.4,
             "#fde0ef"
            ],
            [
             0.5,
             "#f7f7f7"
            ],
            [
             0.6,
             "#e6f5d0"
            ],
            [
             0.7,
             "#b8e186"
            ],
            [
             0.8,
             "#7fbc41"
            ],
            [
             0.9,
             "#4d9221"
            ],
            [
             1,
             "#276419"
            ]
           ],
           "sequential": [
            [
             0,
             "#0d0887"
            ],
            [
             0.1111111111111111,
             "#46039f"
            ],
            [
             0.2222222222222222,
             "#7201a8"
            ],
            [
             0.3333333333333333,
             "#9c179e"
            ],
            [
             0.4444444444444444,
             "#bd3786"
            ],
            [
             0.5555555555555556,
             "#d8576b"
            ],
            [
             0.6666666666666666,
             "#ed7953"
            ],
            [
             0.7777777777777778,
             "#fb9f3a"
            ],
            [
             0.8888888888888888,
             "#fdca26"
            ],
            [
             1,
             "#f0f921"
            ]
           ],
           "sequentialminus": [
            [
             0,
             "#0d0887"
            ],
            [
             0.1111111111111111,
             "#46039f"
            ],
            [
             0.2222222222222222,
             "#7201a8"
            ],
            [
             0.3333333333333333,
             "#9c179e"
            ],
            [
             0.4444444444444444,
             "#bd3786"
            ],
            [
             0.5555555555555556,
             "#d8576b"
            ],
            [
             0.6666666666666666,
             "#ed7953"
            ],
            [
             0.7777777777777778,
             "#fb9f3a"
            ],
            [
             0.8888888888888888,
             "#fdca26"
            ],
            [
             1,
             "#f0f921"
            ]
           ]
          },
          "colorway": [
           "#636efa",
           "#EF553B",
           "#00cc96",
           "#ab63fa",
           "#FFA15A",
           "#19d3f3",
           "#FF6692",
           "#B6E880",
           "#FF97FF",
           "#FECB52"
          ],
          "font": {
           "color": "#2a3f5f"
          },
          "geo": {
           "bgcolor": "white",
           "lakecolor": "white",
           "landcolor": "#E5ECF6",
           "showlakes": true,
           "showland": true,
           "subunitcolor": "white"
          },
          "hoverlabel": {
           "align": "left"
          },
          "hovermode": "closest",
          "mapbox": {
           "style": "light"
          },
          "paper_bgcolor": "white",
          "plot_bgcolor": "#E5ECF6",
          "polar": {
           "angularaxis": {
            "gridcolor": "white",
            "linecolor": "white",
            "ticks": ""
           },
           "bgcolor": "#E5ECF6",
           "radialaxis": {
            "gridcolor": "white",
            "linecolor": "white",
            "ticks": ""
           }
          },
          "scene": {
           "xaxis": {
            "backgroundcolor": "#E5ECF6",
            "gridcolor": "white",
            "gridwidth": 2,
            "linecolor": "white",
            "showbackground": true,
            "ticks": "",
            "zerolinecolor": "white"
           },
           "yaxis": {
            "backgroundcolor": "#E5ECF6",
            "gridcolor": "white",
            "gridwidth": 2,
            "linecolor": "white",
            "showbackground": true,
            "ticks": "",
            "zerolinecolor": "white"
           },
           "zaxis": {
            "backgroundcolor": "#E5ECF6",
            "gridcolor": "white",
            "gridwidth": 2,
            "linecolor": "white",
            "showbackground": true,
            "ticks": "",
            "zerolinecolor": "white"
           }
          },
          "shapedefaults": {
           "line": {
            "color": "#2a3f5f"
           }
          },
          "ternary": {
           "aaxis": {
            "gridcolor": "white",
            "linecolor": "white",
            "ticks": ""
           },
           "baxis": {
            "gridcolor": "white",
            "linecolor": "white",
            "ticks": ""
           },
           "bgcolor": "#E5ECF6",
           "caxis": {
            "gridcolor": "white",
            "linecolor": "white",
            "ticks": ""
           }
          },
          "title": {
           "x": 0.05
          },
          "xaxis": {
           "automargin": true,
           "gridcolor": "white",
           "linecolor": "white",
           "ticks": "",
           "title": {
            "standoff": 15
           },
           "zerolinecolor": "white",
           "zerolinewidth": 2
          },
          "yaxis": {
           "automargin": true,
           "gridcolor": "white",
           "linecolor": "white",
           "ticks": "",
           "title": {
            "standoff": 15
           },
           "zerolinecolor": "white",
           "zerolinewidth": 2
          }
         }
        },
        "xaxis": {
         "anchor": "y",
         "autorange": true,
         "domain": [
          0,
          0.45
         ],
         "range": [
          "2019-02-11 07:56:55.8935",
          "2019-02-11 18:38:04.1065"
         ],
         "rangeslider": {
          "visible": false,
          "yaxis": {}
         },
         "type": "date"
        },
        "xaxis2": {
         "anchor": "y2",
         "autorange": true,
         "domain": [
          0.55,
          1
         ],
         "range": [
          "2020-06-03 01:46:35.6802",
          "2020-06-03 12:33:24.3198"
         ],
         "rangeslider": {
          "visible": false,
          "yaxis2": {}
         },
         "type": "date"
        },
        "yaxis": {
         "anchor": "x",
         "autorange": true,
         "domain": [
          0,
          1
         ],
         "range": [
          1.1265019957983193,
          1.1326620798319327
         ],
         "type": "linear"
        },
        "yaxis2": {
         "anchor": "x2",
         "autorange": true,
         "domain": [
          0,
          1
         ],
         "range": [
          1.117972703862661,
          1.123187296137339
         ],
         "type": "linear"
        }
       }
      },
      "image/png": "[encoded data removed]",
      "text/html": [
       "<div>                            <div id=\"ecd6d16e-1e40-4fda-bb47-527ea65f1f85\" class=\"plotly-graph-div\" style=\"height:525px; width:100%;\"></div>            <script type=\"text/javascript\">                require([\"plotly\"], function(Plotly) {                    window.PLOTLYENV=window.PLOTLYENV || {};                                    if (document.getElementById(\"ecd6d16e-1e40-4fda-bb47-527ea65f1f85\")) {                    Plotly.newPlot(                        \"ecd6d16e-1e40-4fda-bb47-527ea65f1f85\",                        [{\"close\": [1.13156, 1.13183, 1.13167, 1.13161, 1.13089, 1.13123, 1.13112, 1.13157, 1.13164, 1.1316, 1.13162, 1.13158, 1.13141, 1.13129, 1.13133, 1.13108, 1.13095, 1.13033, 1.1301, 1.1298, 1.13048, 1.13043, 1.1303, 1.13043, 1.13005, 1.12998, 1.13034, 1.13034, 1.13046, 1.13048, 1.13064, 1.13081, 1.13095, 1.13112, 1.13109, 1.13159, 1.13166, 1.13208, 1.13166, 1.13163, 1.1315, 1.13145, 1.13142, 1.13102, 1.13108, 1.13077, 1.13091, 1.13073, 1.13068, 1.13071, 1.13087, 1.13072, 1.13082, 1.13131, 1.13088, 1.13103, 1.13091, 1.13118, 1.13082, 1.13083, 1.13109, 1.13128, 1.13108, 1.13115, 1.13082, 1.13111, 1.13108, 1.13123, 1.13067, 1.1289, 1.12867, 1.12874, 1.12903, 1.12926, 1.12946, 1.12941, 1.12931, 1.12923, 1.12927, 1.12965, 1.12952, 1.12969, 1.13003, 1.12955, 1.12841, 1.12757, 1.12762, 1.12796, 1.12774, 1.12767, 1.12767, 1.12789, 1.12784, 1.12784, 1.12824, 1.12807, 1.12813, 1.12807, 1.12809, 1.12818, 1.12767, 1.12768, 1.12784, 1.12766, 1.1278, 1.12781, 1.12771, 1.12772, 1.12762, 1.12757, 1.12741, 1.12722, 1.12727, 1.12713, 1.12722, 1.12693, 1.12711, 1.12704, 1.12703, 1.1271, 1.12711], \"high\": [1.13159, 1.13197, 1.13186, 1.13176, 1.13171, 1.13123, 1.13138, 1.13161, 1.13173, 1.13164, 1.13168, 1.13166, 1.13162, 1.13146, 1.13149, 1.13141, 1.13112, 1.13099, 1.13044, 1.13015, 1.13048, 1.13065, 1.13052, 1.13044, 1.13044, 1.1302, 1.13045, 1.13039, 1.1305, 1.13059, 1.13083, 1.1309, 1.131, 1.13116, 1.13118, 1.13164, 1.13178, 1.13224, 1.13214, 1.13181, 1.13163, 1.13163, 1.13147, 1.13144, 1.13113, 1.13108, 1.13094, 1.13094, 1.13078, 1.13073, 1.13089, 1.13088, 1.13097, 1.13132, 1.13135, 1.13103, 1.13116, 1.13154, 1.13131, 1.13089, 1.13122, 1.1313, 1.13128, 1.13125, 1.13115, 1.13117, 1.13113, 1.13127, 1.13123, 1.13073, 1.12893, 1.12878, 1.12907, 1.1294, 1.12955, 1.12958, 1.12944, 1.12963, 1.12934, 1.12965, 1.12969, 1.12975, 1.13023, 1.13004, 1.12967, 1.12849, 1.12768, 1.12807, 1.12802, 1.12775, 1.12794, 1.12798, 1.12805, 1.1279, 1.12826, 1.12842, 1.12815, 1.12834, 1.12814, 1.1283, 1.1283, 1.12778, 1.12798, 1.12797, 1.12783, 1.12798, 1.12783, 1.12789, 1.12775, 1.12769, 1.12757, 1.12744, 1.12736, 1.12729, 1.12729, 1.12729, 1.12713, 1.12717, 1.12708, 1.12726, 1.12719], \"low\": [1.13133, 1.13156, 1.13165, 1.1315, 1.13089, 1.13089, 1.13108, 1.13104, 1.13154, 1.13143, 1.13156, 1.13155, 1.13136, 1.13125, 1.13126, 1.13108, 1.13095, 1.13027, 1.13009, 1.12975, 1.12978, 1.13034, 1.13025, 1.13025, 1.13003, 1.12985, 1.12996, 1.13022, 1.13024, 1.13033, 1.13044, 1.13061, 1.1307, 1.13089, 1.13102, 1.13106, 1.13154, 1.13161, 1.13166, 1.13158, 1.13134, 1.13135, 1.13133, 1.13091, 1.13096, 1.13068, 1.13071, 1.13072, 1.1304, 1.13044, 1.13063, 1.13066, 1.13072, 1.1308, 1.13086, 1.13066, 1.1309, 1.13076, 1.13078, 1.13069, 1.13082, 1.13108, 1.13082, 1.13097, 1.13063, 1.13073, 1.13086, 1.13097, 1.13064, 1.12868, 1.12836, 1.12833, 1.12874, 1.12886, 1.12917, 1.12923, 1.12909, 1.12913, 1.12903, 1.1292, 1.12949, 1.12947, 1.12962, 1.12955, 1.12841, 1.12755, 1.12744, 1.12754, 1.12768, 1.12729, 1.12755, 1.12764, 1.12783, 1.1276, 1.12778, 1.12806, 1.12791, 1.12804, 1.12788, 1.12804, 1.12764, 1.12754, 1.12768, 1.12764, 1.12752, 1.12779, 1.12763, 1.1276, 1.1276, 1.12755, 1.12723, 1.12713, 1.12721, 1.12696, 1.12681, 1.12691, 1.12692, 1.12693, 1.1269, 1.12702, 1.12706], \"open\": [1.13144, 1.13156, 1.13183, 1.13167, 1.13161, 1.13089, 1.13123, 1.13112, 1.13157, 1.13164, 1.1316, 1.13162, 1.13158, 1.13141, 1.13129, 1.13133, 1.13108, 1.13095, 1.13033, 1.1301, 1.1298, 1.13048, 1.13043, 1.1303, 1.13043, 1.13005, 1.12998, 1.13034, 1.13034, 1.13046, 1.13048, 1.13064, 1.13081, 1.13095, 1.13112, 1.13109, 1.13159, 1.13166, 1.13208, 1.13166, 1.13163, 1.1315, 1.13145, 1.13142, 1.13102, 1.13108, 1.13077, 1.13091, 1.13073, 1.13068, 1.13071, 1.13087, 1.13072, 1.13082, 1.13131, 1.13088, 1.13103, 1.13091, 1.13118, 1.13082, 1.13083, 1.13109, 1.13128, 1.13108, 1.13115, 1.13082, 1.13111, 1.13108, 1.13123, 1.13067, 1.1289, 1.12867, 1.12874, 1.12903, 1.12926, 1.12946, 1.12941, 1.12931, 1.12923, 1.12927, 1.12965, 1.12952, 1.12969, 1.13003, 1.12955, 1.12841, 1.12757, 1.12762, 1.12796, 1.12774, 1.12767, 1.12767, 1.12789, 1.12784, 1.12784, 1.12824, 1.12807, 1.12813, 1.12807, 1.12809, 1.12818, 1.12767, 1.12768, 1.12784, 1.12766, 1.1278, 1.12781, 1.12771, 1.12772, 1.12762, 1.12757, 1.12741, 1.12722, 1.12727, 1.12713, 1.12722, 1.12693, 1.12711, 1.12704, 1.12703, 1.1271], \"showlegend\": false, \"type\": \"candlestick\", \"x\": [\"2019-02-11T08:30:00\", \"2019-02-11T08:35:00\", \"2019-02-11T08:40:00\", \"2019-02-11T08:45:00\", \"2019-02-11T08:50:00\", \"2019-02-11T08:55:00\", \"2019-02-11T09:00:00\", \"2019-02-11T09:05:00\", \"2019-02-11T09:10:00\", \"2019-02-11T09:15:00\", \"2019-02-11T09:20:00\", \"2019-02-11T09:25:00\", \"2019-02-11T09:30:00\", \"2019-02-11T09:35:00\", \"2019-02-11T09:40:00\", \"2019-02-11T09:45:00\", \"2019-02-11T09:50:00\", \"2019-02-11T09:55:00\", \"2019-02-11T10:00:00\", \"2019-02-11T10:05:00\", \"2019-02-11T10:10:00\", \"2019-02-11T10:15:00\", \"2019-02-11T10:20:00\", \"2019-02-11T10:25:00\", \"2019-02-11T10:30:00\", \"2019-02-11T10:35:00\", \"2019-02-11T10:40:00\", \"2019-02-11T10:45:00\", \"2019-02-11T10:50:00\", \"2019-02-11T10:55:00\", \"2019-02-11T11:00:00\", \"2019-02-11T11:05:00\", \"2019-02-11T11:10:00\", \"2019-02-11T11:15:00\", \"2019-02-11T11:20:00\", \"2019-02-11T11:25:00\", \"2019-02-11T11:30:00\", \"2019-02-11T11:35:00\", \"2019-02-11T11:40:00\", \"2019-02-11T11:45:00\", \"2019-02-11T11:50:00\", \"2019-02-11T11:55:00\", \"2019-02-11T12:00:00\", \"2019-02-11T12:05:00\", \"2019-02-11T12:10:00\", \"2019-02-11T12:15:00\", \"2019-02-11T12:20:00\", \"2019-02-11T12:25:00\", \"2019-02-11T12:30:00\", \"2019-02-11T12:35:00\", \"2019-02-11T12:40:00\", \"2019-02-11T12:45:00\", \"2019-02-11T12:50:00\", \"2019-02-11T12:55:00\", \"2019-02-11T13:00:00\", \"2019-02-11T13:05:00\", \"2019-02-11T13:10:00\", \"2019-02-11T13:15:00\", \"2019-02-11T13:20:00\", \"2019-02-11T13:25:00\", \"2019-02-11T13:30:00\", \"2019-02-11T13:35:00\", \"2019-02-11T13:40:00\", \"2019-02-11T13:45:00\", \"2019-02-11T13:50:00\", \"2019-02-11T13:55:00\", \"2019-02-11T14:00:00\", \"2019-02-11T14:05:00\", \"2019-02-11T14:10:00\", \"2019-02-11T14:15:00\", \"2019-02-11T14:20:00\", \"2019-02-11T14:25:00\", \"2019-02-11T14:30:00\", \"2019-02-11T14:35:00\", \"2019-02-11T14:40:00\", \"2019-02-11T14:45:00\", \"2019-02-11T14:50:00\", \"2019-02-11T14:55:00\", \"2019-02-11T15:00:00\", \"2019-02-11T15:05:00\", \"2019-02-11T15:10:00\", \"2019-02-11T15:15:00\", \"2019-02-11T15:20:00\", \"2019-02-11T15:25:00\", \"2019-02-11T15:30:00\", \"2019-02-11T15:35:00\", \"2019-02-11T15:40:00\", \"2019-02-11T15:45:00\", \"2019-02-11T15:50:00\", \"2019-02-11T15:55:00\", \"2019-02-11T16:00:00\", \"2019-02-11T16:05:00\", \"2019-02-11T16:10:00\", \"2019-02-11T16:15:00\", \"2019-02-11T16:20:00\", \"2019-02-11T16:25:00\", \"2019-02-11T16:30:00\", \"2019-02-11T16:35:00\", \"2019-02-11T16:40:00\", \"2019-02-11T16:45:00\", \"2019-02-11T16:50:00\", \"2019-02-11T16:55:00\", \"2019-02-11T17:00:00\", \"2019-02-11T17:05:00\", \"2019-02-11T17:10:00\", \"2019-02-11T17:15:00\", \"2019-02-11T17:20:00\", \"2019-02-11T17:25:00\", \"2019-02-11T17:30:00\", \"2019-02-11T17:35:00\", \"2019-02-11T17:40:00\", \"2019-02-11T17:45:00\", \"2019-02-11T17:50:00\", \"2019-02-11T17:55:00\", \"2019-02-11T18:00:00\", \"2019-02-11T18:05:00\", \"2019-02-11T18:10:00\", \"2019-02-11T18:15:00\", \"2019-02-11T18:20:00\", \"2019-02-11T18:25:00\", \"2019-02-11T18:30:00\"], \"xaxis\": \"x\", \"yaxis\": \"y\"}, {\"marker\": {\"color\": \"mediumpurple\", \"size\": 8}, \"mode\": \"markers\", \"showlegend\": false, \"type\": \"scatter\", \"x\": [\"2019-02-11T08:35:00\", \"2019-02-11T09:10:00\", \"2019-02-11T11:35:00\", \"2019-02-11T13:15:00\", \"2019-02-11T14:05:00\", \"2019-02-11T15:20:00\", \"2019-02-11T16:25:00\", \"2019-02-11T18:00:00\"], \"xaxis\": \"x\", \"y\": [1.13197, 1.13173, 1.13224, 1.13154, 1.13127, 1.13023, 1.12842, 1.12729], \"yaxis\": \"y\"}, {\"marker\": {\"color\": \"mediumblue\", \"size\": 8}, \"mode\": \"markers\", \"showlegend\": false, \"type\": \"scatter\", \"x\": [\"2019-02-11T08:55:00\", \"2019-02-11T10:05:00\", \"2019-02-11T12:30:00\", \"2019-02-11T13:25:00\", \"2019-02-11T14:25:00\", \"2019-02-11T15:55:00\", \"2019-02-11T17:10:00\"], \"xaxis\": \"x\", \"y\": [1.13089, 1.12975, 1.1304, 1.13069, 1.12833, 1.12729, 1.12752], \"yaxis\": \"y\"}, {\"marker\": {\"color\": \"green\", \"line\": {\"color\": \"black\", \"width\": 2}, \"size\": 10, \"symbol\": \"triangle-up\"}, \"mode\": \"markers\", \"showlegend\": false, \"type\": \"scatter\", \"x\": [\"2019-02-11T12:30:00\"], \"xaxis\": \"x\", \"y\": [1.13068], \"yaxis\": \"y\"}, {\"marker\": {\"color\": \"red\", \"line\": {\"color\": \"black\", \"width\": 2}, \"size\": 10, \"symbol\": \"triangle-down\"}, \"mode\": \"markers\", \"showlegend\": false, \"type\": \"scatter\", \"x\": [\"2019-02-11T10:05:00\", \"2019-02-11T15:55:00\"], \"xaxis\": \"x\", \"y\": [1.1298, 1.12767], \"yaxis\": \"y\"}, {\"close\": [1.11836, 1.11848, 1.11888, 1.11894, 1.11924, 1.11922, 1.1197, 1.1196, 1.11969, 1.11952, 1.11989, 1.12018, 1.12013, 1.12015, 1.12039, 1.12044, 1.12038, 1.1205, 1.1211, 1.12084, 1.12095, 1.1209, 1.12086, 1.12068, 1.12048, 1.12065, 1.12056, 1.12041, 1.12037, 1.1205, 1.12039, 1.12038, 1.12036, 1.12042, 1.121, 1.12114, 1.12088, 1.1205, 1.12056, 1.12073, 1.12046, 1.12019, 1.12035, 1.12047, 1.12072, 1.12094, 1.12061, 1.12056, 1.12081, 1.12078, 1.12095, 1.12112, 1.12077, 1.12107, 1.12092, 1.12096, 1.12181, 1.1215, 1.12129, 1.12243, 1.12261, 1.12238, 1.12183, 1.12141, 1.12085, 1.12147, 1.12197, 1.12172, 1.12157, 1.12024, 1.11971, 1.12044, 1.12089, 1.12125, 1.12128, 1.12096, 1.12109, 1.12093, 1.12103, 1.12114, 1.12165, 1.12219, 1.1217, 1.12166, 1.12149, 1.12181, 1.1219, 1.1216, 1.1217, 1.1218, 1.12232, 1.12179, 1.12153, 1.1213, 1.12115, 1.12074, 1.12093, 1.12101, 1.12082, 1.12068, 1.12103, 1.12063, 1.12058, 1.12007, 1.12063, 1.12033, 1.11947, 1.11971, 1.11951, 1.11901, 1.11914, 1.11922, 1.11925, 1.11955, 1.11995, 1.11949, 1.11937, 1.11944, 1.11953, 1.11945, 1.11992], \"high\": [1.11863, 1.11859, 1.11894, 1.11896, 1.11936, 1.1194, 1.11973, 1.11974, 1.1197, 1.1197, 1.11989, 1.12051, 1.12019, 1.12016, 1.12053, 1.12051, 1.12045, 1.12052, 1.12117, 1.12114, 1.12098, 1.12099, 1.12095, 1.12093, 1.1207, 1.12065, 1.1207, 1.12069, 1.12042, 1.1206, 1.12051, 1.12049, 1.1204, 1.12044, 1.12105, 1.12126, 1.12114, 1.12093, 1.12071, 1.1208, 1.12075, 1.1205, 1.1204, 1.12055, 1.12141, 1.12101, 1.12114, 1.12069, 1.12094, 1.12095, 1.12095, 1.12131, 1.12144, 1.12136, 1.12129, 1.12125, 1.12184, 1.12203, 1.12159, 1.12243, 1.12266, 1.12283, 1.12245, 1.12183, 1.12154, 1.12149, 1.12203, 1.12201, 1.12176, 1.12189, 1.1208, 1.12046, 1.12096, 1.12126, 1.12165, 1.12135, 1.12113, 1.12126, 1.12127, 1.12125, 1.1218, 1.12223, 1.1223, 1.12185, 1.12184, 1.12189, 1.12195, 1.12219, 1.12181, 1.12204, 1.12275, 1.12233, 1.12185, 1.1217, 1.12157, 1.12124, 1.12133, 1.12112, 1.12113, 1.12082, 1.12109, 1.12109, 1.12075, 1.12075, 1.12067, 1.12064, 1.12034, 1.11981, 1.11972, 1.1196, 1.11923, 1.11923, 1.11932, 1.11968, 1.11995, 1.12027, 1.11965, 1.11964, 1.11979, 1.11973, 1.11992], \"low\": [1.11833, 1.11833, 1.11848, 1.11883, 1.11873, 1.11913, 1.11918, 1.11958, 1.11949, 1.11944, 1.1195, 1.11982, 1.11993, 1.11993, 1.12008, 1.12014, 1.12024, 1.12036, 1.12048, 1.12067, 1.12073, 1.12083, 1.12077, 1.12057, 1.12044, 1.12043, 1.12051, 1.12039, 1.12029, 1.12035, 1.1203, 1.12032, 1.12024, 1.12026, 1.12042, 1.12098, 1.12075, 1.1205, 1.12034, 1.12053, 1.12037, 1.12014, 1.12002, 1.12017, 1.12045, 1.12058, 1.12057, 1.12036, 1.12048, 1.12064, 1.12067, 1.12089, 1.12077, 1.12061, 1.1208, 1.12078, 1.12066, 1.12132, 1.12118, 1.12128, 1.12221, 1.12235, 1.12161, 1.12117, 1.12072, 1.12085, 1.12143, 1.1216, 1.12098, 1.1202, 1.11962, 1.11916, 1.12035, 1.12078, 1.12096, 1.12076, 1.12057, 1.12093, 1.12057, 1.12083, 1.1211, 1.1214, 1.12162, 1.12154, 1.12135, 1.12148, 1.1215, 1.1215, 1.12145, 1.12167, 1.1218, 1.12156, 1.12124, 1.12128, 1.12105, 1.12072, 1.1207, 1.12065, 1.12061, 1.12041, 1.12061, 1.12055, 1.12043, 1.12004, 1.11997, 1.12005, 1.11942, 1.1194, 1.11945, 1.1189, 1.11845, 1.11865, 1.11874, 1.11914, 1.11953, 1.11932, 1.11926, 1.11935, 1.11938, 1.11924, 1.11881], \"open\": [1.11859, 1.11836, 1.11848, 1.11888, 1.11894, 1.11924, 1.11922, 1.1197, 1.1196, 1.11969, 1.11952, 1.11989, 1.12018, 1.12013, 1.12015, 1.12039, 1.12044, 1.12038, 1.1205, 1.1211, 1.12084, 1.12095, 1.1209, 1.12086, 1.12068, 1.12048, 1.12065, 1.12056, 1.12041, 1.12037, 1.1205, 1.12039, 1.12038, 1.12036, 1.12042, 1.121, 1.12114, 1.12088, 1.1205, 1.12056, 1.12073, 1.12046, 1.12019, 1.12035, 1.12047, 1.12072, 1.12094, 1.12061, 1.12056, 1.12081, 1.12078, 1.12095, 1.12112, 1.12077, 1.12107, 1.12092, 1.12096, 1.12181, 1.1215, 1.12129, 1.12243, 1.12261, 1.12238, 1.12183, 1.12141, 1.12085, 1.12147, 1.12197, 1.12172, 1.12157, 1.12024, 1.11971, 1.12044, 1.12089, 1.12125, 1.12128, 1.12096, 1.12109, 1.12093, 1.12103, 1.12114, 1.12165, 1.12219, 1.1217, 1.12166, 1.12149, 1.12181, 1.1219, 1.1216, 1.1217, 1.1218, 1.12232, 1.12179, 1.12153, 1.1213, 1.12115, 1.12074, 1.12093, 1.12101, 1.12082, 1.12068, 1.12103, 1.12063, 1.12058, 1.12007, 1.12063, 1.12033, 1.11947, 1.11971, 1.11951, 1.11901, 1.11914, 1.11922, 1.11925, 1.11955, 1.11995, 1.11949, 1.11937, 1.11944, 1.11953, 1.11945], \"showlegend\": false, \"type\": \"candlestick\", \"x\": [\"2020-06-03T02:20:00\", \"2020-06-03T02:25:00\", \"2020-06-03T02:30:00\", \"2020-06-03T02:35:00\", \"2020-06-03T02:40:00\", \"2020-06-03T02:45:00\", \"2020-06-03T02:50:00\", \"2020-06-03T02:55:00\", \"2020-06-03T03:00:00\", \"2020-06-03T03:05:00\", \"2020-06-03T03:10:00\", \"2020-06-03T03:15:00\", \"2020-06-03T03:20:00\", \"2020-06-03T03:25:00\", \"2020-06-03T03:30:00\", \"2020-06-03T03:35:00\", \"2020-06-03T03:40:00\", \"2020-06-03T03:45:00\", \"2020-06-03T03:50:00\", \"2020-06-03T03:55:00\", \"2020-06-03T04:00:00\", \"2020-06-03T04:05:00\", \"2020-06-03T04:10:00\", \"2020-06-03T04:15:00\", \"2020-06-03T04:20:00\", \"2020-06-03T04:25:00\", \"2020-06-03T04:30:00\", \"2020-06-03T04:35:00\", \"2020-06-03T04:40:00\", \"2020-06-03T04:45:00\", \"2020-06-03T04:50:00\", \"2020-06-03T04:55:00\", \"2020-06-03T05:00:00\", \"2020-06-03T05:05:00\", \"2020-06-03T05:10:00\", \"2020-06-03T05:15:00\", \"2020-06-03T05:20:00\", \"2020-06-03T05:25:00\", \"2020-06-03T05:30:00\", \"2020-06-03T05:35:00\", \"2020-06-03T05:40:00\", \"2020-06-03T05:45:00\", \"2020-06-03T05:50:00\", \"2020-06-03T05:55:00\", \"2020-06-03T06:00:00\", \"2020-06-03T06:05:00\", \"2020-06-03T06:10:00\", \"2020-06-03T06:15:00\", \"2020-06-03T06:20:00\", \"2020-06-03T06:25:00\", \"2020-06-03T06:30:00\", \"2020-06-03T06:35:00\", \"2020-06-03T06:40:00\", \"2020-06-03T06:45:00\", \"2020-06-03T06:50:00\", \"2020-06-03T06:55:00\", \"2020-06-03T07:00:00\", \"2020-06-03T07:05:00\", \"2020-06-03T07:10:00\", \"2020-06-03T07:15:00\", \"2020-06-03T07:20:00\", \"2020-06-03T07:25:00\", \"2020-06-03T07:30:00\", \"2020-06-03T07:35:00\", \"2020-06-03T07:40:00\", \"2020-06-03T07:45:00\", \"2020-06-03T07:50:00\", \"2020-06-03T07:55:00\", \"2020-06-03T08:00:00\", \"2020-06-03T08:05:00\", \"2020-06-03T08:10:00\", \"2020-06-03T08:15:00\", \"2020-06-03T08:20:00\", \"2020-06-03T08:25:00\", \"2020-06-03T08:30:00\", \"2020-06-03T08:35:00\", \"2020-06-03T08:40:00\", \"2020-06-03T08:45:00\", \"2020-06-03T08:50:00\", \"2020-06-03T08:55:00\", \"2020-06-03T09:00:00\", \"2020-06-03T09:05:00\", \"2020-06-03T09:10:00\", \"2020-06-03T09:15:00\", \"2020-06-03T09:20:00\", \"2020-06-03T09:25:00\", \"2020-06-03T09:30:00\", \"2020-06-03T09:35:00\", \"2020-06-03T09:40:00\", \"2020-06-03T09:45:00\", \"2020-06-03T09:50:00\", \"2020-06-03T09:55:00\", \"2020-06-03T10:00:00\", \"2020-06-03T10:05:00\", \"2020-06-03T10:10:00\", \"2020-06-03T10:15:00\", \"2020-06-03T10:20:00\", \"2020-06-03T10:25:00\", \"2020-06-03T10:30:00\", \"2020-06-03T10:35:00\", \"2020-06-03T10:40:00\", \"2020-06-03T10:45:00\", \"2020-06-03T10:50:00\", \"2020-06-03T10:55:00\", \"2020-06-03T11:00:00\", \"2020-06-03T11:05:00\", \"2020-06-03T11:10:00\", \"2020-06-03T11:15:00\", \"2020-06-03T11:20:00\", \"2020-06-03T11:25:00\", \"2020-06-03T11:30:00\", \"2020-06-03T11:35:00\", \"2020-06-03T11:40:00\", \"2020-06-03T11:45:00\", \"2020-06-03T11:50:00\", \"2020-06-03T11:55:00\", \"2020-06-03T12:00:00\", \"2020-06-03T12:05:00\", \"2020-06-03T12:10:00\", \"2020-06-03T12:15:00\", \"2020-06-03T12:20:00\"], \"xaxis\": \"x2\", \"yaxis\": \"y2\"}, {\"marker\": {\"color\": \"mediumpurple\", \"size\": 8}, \"mode\": \"markers\", \"showlegend\": false, \"type\": \"scatter\", \"x\": [\"2020-06-03T03:50:00\", \"2020-06-03T05:15:00\", \"2020-06-03T07:25:00\", \"2020-06-03T09:50:00\", \"2020-06-03T10:55:00\", \"2020-06-03T11:55:00\"], \"xaxis\": \"x2\", \"y\": [1.12117, 1.12126, 1.12283, 1.12275, 1.12075, 1.12027], \"yaxis\": \"y2\"}, {\"marker\": {\"color\": \"mediumblue\", \"size\": 8}, \"mode\": \"markers\", \"showlegend\": false, \"type\": \"scatter\", \"x\": [\"2020-06-03T02:25:00\", \"2020-06-03T05:00:00\", \"2020-06-03T05:50:00\", \"2020-06-03T08:15:00\", \"2020-06-03T10:35:00\", \"2020-06-03T11:30:00\"], \"xaxis\": \"x2\", \"y\": [1.11833, 1.12024, 1.12002, 1.11916, 1.12041, 1.11845], \"yaxis\": \"y2\"}, {\"marker\": {\"color\": \"green\", \"line\": {\"color\": \"black\", \"width\": 2}, \"size\": 10, \"symbol\": \"triangle-up\"}, \"mode\": \"markers\", \"showlegend\": false, \"type\": \"scatter\", \"x\": [], \"xaxis\": \"x2\", \"y\": [], \"yaxis\": \"y2\"}, {\"marker\": {\"color\": \"red\", \"line\": {\"color\": \"black\", \"width\": 2}, \"size\": 10, \"symbol\": \"triangle-down\"}, \"mode\": \"markers\", \"showlegend\": false, \"type\": \"scatter\", \"x\": [\"2020-06-03T09:50:00\"], \"xaxis\": \"x2\", \"y\": [1.12232], \"yaxis\": \"y2\"}],                        {\"template\": {\"data\": {\"bar\": [{\"error_x\": {\"color\": \"#2a3f5f\"}, \"error_y\": {\"color\": \"#2a3f5f\"}, \"marker\": {\"line\": {\"color\": \"#E5ECF6\", \"width\": 0.5}}, \"type\": \"bar\"}], \"barpolar\": [{\"marker\": {\"line\": {\"color\": \"#E5ECF6\", \"width\": 0.5}}, \"type\": \"barpolar\"}], \"carpet\": [{\"aaxis\": {\"endlinecolor\": \"#2a3f5f\", \"gridcolor\": \"white\", \"linecolor\": \"white\", \"minorgridcolor\": \"white\", \"startlinecolor\": \"#2a3f5f\"}, \"baxis\": {\"endlinecolor\": \"#2a3f5f\", \"gridcolor\": \"white\", \"linecolor\": \"white\", \"minorgridcolor\": \"white\", \"startlinecolor\": \"#2a3f5f\"}, \"type\": \"carpet\"}], \"choropleth\": [{\"colorbar\": {\"outlinewidth\": 0, \"ticks\": \"\"}, \"type\": \"choropleth\"}], \"contour\": [{\"colorbar\": {\"outlinewidth\": 0, \"ticks\": \"\"}, \"colorscale\": [[0.0, \"#0d0887\"], [0.1111111111111111, \"#46039f\"], [0.2222222222222222, \"#7201a8\"], [0.3333333333333333, \"#9c179e\"], [0.4444444444444444, \"#bd3786\"], [0.5555555555555556, \"#d8576b\"], [0.6666666666666666, \"#ed7953\"], [0.7777777777777778, \"#fb9f3a\"], [0.8888888888888888, \"#fdca26\"], [1.0, \"#f0f921\"]], \"type\": \"contour\"}], \"contourcarpet\": [{\"colorbar\": {\"outlinewidth\": 0, \"ticks\": \"\"}, \"type\": \"contourcarpet\"}], \"heatmap\": [{\"colorbar\": {\"outlinewidth\": 0, \"ticks\": \"\"}, \"colorscale\": [[0.0, \"#0d0887\"], [0.1111111111111111, \"#46039f\"], [0.2222222222222222, \"#7201a8\"], [0.3333333333333333, \"#9c179e\"], [0.4444444444444444, \"#bd3786\"], [0.5555555555555556, \"#d8576b\"], [0.6666666666666666, \"#ed7953\"], [0.7777777777777778, \"#fb9f3a\"], [0.8888888888888888, \"#fdca26\"], [1.0, \"#f0f921\"]], \"type\": \"heatmap\"}], \"heatmapgl\": [{\"colorbar\": {\"outlinewidth\": 0, \"ticks\": \"\"}, \"colorscale\": [[0.0, \"#0d0887\"], [0.1111111111111111, \"#46039f\"], [0.2222222222222222, \"#7201a8\"], [0.3333333333333333, \"#9c179e\"], [0.4444444444444444, \"#bd3786\"], [0.5555555555555556, \"#d8576b\"], [0.6666666666666666, \"#ed7953\"], [0.7777777777777778, \"#fb9f3a\"], [0.8888888888888888, \"#fdca26\"], [1.0, \"#f0f921\"]], \"type\": \"heatmapgl\"}], \"histogram\": [{\"marker\": {\"colorbar\": {\"outlinewidth\": 0, \"ticks\": \"\"}}, \"type\": \"histogram\"}], \"histogram2d\": [{\"colorbar\": {\"outlinewidth\": 0, \"ticks\": \"\"}, \"colorscale\": [[0.0, \"#0d0887\"], [0.1111111111111111, \"#46039f\"], [0.2222222222222222, \"#7201a8\"], [0.3333333333333333, \"#9c179e\"], [0.4444444444444444, \"#bd3786\"], [0.5555555555555556, \"#d8576b\"], [0.6666666666666666, \"#ed7953\"], [0.7777777777777778, \"#fb9f3a\"], [0.8888888888888888, \"#fdca26\"], [1.0, \"#f0f921\"]], \"type\": \"histogram2d\"}], \"histogram2dcontour\": [{\"colorbar\": {\"outlinewidth\": 0, \"ticks\": \"\"}, \"colorscale\": [[0.0, \"#0d0887\"], [0.1111111111111111, \"#46039f\"], [0.2222222222222222, \"#7201a8\"], [0.3333333333333333, \"#9c179e\"], [0.4444444444444444, \"#bd3786\"], [0.5555555555555556, \"#d8576b\"], [0.6666666666666666, \"#ed7953\"], [0.7777777777777778, \"#fb9f3a\"], [0.8888888888888888, \"#fdca26\"], [1.0, \"#f0f921\"]], \"type\": \"histogram2dcontour\"}], \"mesh3d\": [{\"colorbar\": {\"outlinewidth\": 0, \"ticks\": \"\"}, \"type\": \"mesh3d\"}], \"parcoords\": [{\"line\": {\"colorbar\": {\"outlinewidth\": 0, \"ticks\": \"\"}}, \"type\": \"parcoords\"}], \"pie\": [{\"automargin\": true, \"type\": \"pie\"}], \"scatter\": [{\"marker\": {\"colorbar\": {\"outlinewidth\": 0, \"ticks\": \"\"}}, \"type\": \"scatter\"}], \"scatter3d\": [{\"line\": {\"colorbar\": {\"outlinewidth\": 0, \"ticks\": \"\"}}, \"marker\": {\"colorbar\": {\"outlinewidth\": 0, \"ticks\": \"\"}}, \"type\": \"scatter3d\"}], \"scattercarpet\": [{\"marker\": {\"colorbar\": {\"outlinewidth\": 0, \"ticks\": \"\"}}, \"type\": \"scattercarpet\"}], \"scattergeo\": [{\"marker\": {\"colorbar\": {\"outlinewidth\": 0, \"ticks\": \"\"}}, \"type\": \"scattergeo\"}], \"scattergl\": [{\"marker\": {\"colorbar\": {\"outlinewidth\": 0, \"ticks\": \"\"}}, \"type\": \"scattergl\"}], \"scattermapbox\": [{\"marker\": {\"colorbar\": {\"outlinewidth\": 0, \"ticks\": \"\"}}, \"type\": \"scattermapbox\"}], \"scatterpolar\": [{\"marker\": {\"colorbar\": {\"outlinewidth\": 0, \"ticks\": \"\"}}, \"type\": \"scatterpolar\"}], \"scatterpolargl\": [{\"marker\": {\"colorbar\": {\"outlinewidth\": 0, \"ticks\": \"\"}}, \"type\": \"scatterpolargl\"}], \"scatterternary\": [{\"marker\": {\"colorbar\": {\"outlinewidth\": 0, \"ticks\": \"\"}}, \"type\": \"scatterternary\"}], \"surface\": [{\"colorbar\": {\"outlinewidth\": 0, \"ticks\": \"\"}, \"colorscale\": [[0.0, \"#0d0887\"], [0.1111111111111111, \"#46039f\"], [0.2222222222222222, \"#7201a8\"], [0.3333333333333333, \"#9c179e\"], [0.4444444444444444, \"#bd3786\"], [0.5555555555555556, \"#d8576b\"], [0.6666666666666666, \"#ed7953\"], [0.7777777777777778, \"#fb9f3a\"], [0.8888888888888888, \"#fdca26\"], [1.0, \"#f0f921\"]], \"type\": \"surface\"}], \"table\": [{\"cells\": {\"fill\": {\"color\": \"#EBF0F8\"}, \"line\": {\"color\": \"white\"}}, \"header\": {\"fill\": {\"color\": \"#C8D4E3\"}, \"line\": {\"color\": \"white\"}}, \"type\": \"table\"}]}, \"layout\": {\"annotationdefaults\": {\"arrowcolor\": \"#2a3f5f\", \"arrowhead\": 0, \"arrowwidth\": 1}, \"coloraxis\": {\"colorbar\": {\"outlinewidth\": 0, \"ticks\": \"\"}}, \"colorscale\": {\"diverging\": [[0, \"#8e0152\"], [0.1, \"#c51b7d\"], [0.2, \"#de77ae\"], [0.3, \"#f1b6da\"], [0.4, \"#fde0ef\"], [0.5, \"#f7f7f7\"], [0.6, \"#e6f5d0\"], [0.7, \"#b8e186\"], [0.8, \"#7fbc41\"], [0.9, \"#4d9221\"], [1, \"#276419\"]], \"sequential\": [[0.0, \"#0d0887\"], [0.1111111111111111, \"#46039f\"], [0.2222222222222222, \"#7201a8\"], [0.3333333333333333, \"#9c179e\"], [0.4444444444444444, \"#bd3786\"], [0.5555555555555556, \"#d8576b\"], [0.6666666666666666, \"#ed7953\"], [0.7777777777777778, \"#fb9f3a\"], [0.8888888888888888, \"#fdca26\"], [1.0, \"#f0f921\"]], \"sequentialminus\": [[0.0, \"#0d0887\"], [0.1111111111111111, \"#46039f\"], [0.2222222222222222, \"#7201a8\"], [0.3333333333333333, \"#9c179e\"], [0.4444444444444444, \"#bd3786\"], [0.5555555555555556, \"#d8576b\"], [0.6666666666666666, \"#ed7953\"], [0.7777777777777778, \"#fb9f3a\"], [0.8888888888888888, \"#fdca26\"], [1.0, \"#f0f921\"]]}, \"colorway\": [\"#636efa\", \"#EF553B\", \"#00cc96\", \"#ab63fa\", \"#FFA15A\", \"#19d3f3\", \"#FF6692\", \"#B6E880\", \"#FF97FF\", \"#FECB52\"], \"font\": {\"color\": \"#2a3f5f\"}, \"geo\": {\"bgcolor\": \"white\", \"lakecolor\": \"white\", \"landcolor\": \"#E5ECF6\", \"showlakes\": true, \"showland\": true, \"subunitcolor\": \"white\"}, \"hoverlabel\": {\"align\": \"left\"}, \"hovermode\": \"closest\", \"mapbox\": {\"style\": \"light\"}, \"paper_bgcolor\": \"white\", \"plot_bgcolor\": \"#E5ECF6\", \"polar\": {\"angularaxis\": {\"gridcolor\": \"white\", \"linecolor\": \"white\", \"ticks\": \"\"}, \"bgcolor\": \"#E5ECF6\", \"radialaxis\": {\"gridcolor\": \"white\", \"linecolor\": \"white\", \"ticks\": \"\"}}, \"scene\": {\"xaxis\": {\"backgroundcolor\": \"#E5ECF6\", \"gridcolor\": \"white\", \"gridwidth\": 2, \"linecolor\": \"white\", \"showbackground\": true, \"ticks\": \"\", \"zerolinecolor\": \"white\"}, \"yaxis\": {\"backgroundcolor\": \"#E5ECF6\", \"gridcolor\": \"white\", \"gridwidth\": 2, \"linecolor\": \"white\", \"showbackground\": true, \"ticks\": \"\", \"zerolinecolor\": \"white\"}, \"zaxis\": {\"backgroundcolor\": \"#E5ECF6\", \"gridcolor\": \"white\", \"gridwidth\": 2, \"linecolor\": \"white\", \"showbackground\": true, \"ticks\": \"\", \"zerolinecolor\": \"white\"}}, \"shapedefaults\": {\"line\": {\"color\": \"#2a3f5f\"}}, \"ternary\": {\"aaxis\": {\"gridcolor\": \"white\", \"linecolor\": \"white\", \"ticks\": \"\"}, \"baxis\": {\"gridcolor\": \"white\", \"linecolor\": \"white\", \"ticks\": \"\"}, \"bgcolor\": \"#E5ECF6\", \"caxis\": {\"gridcolor\": \"white\", \"linecolor\": \"white\", \"ticks\": \"\"}}, \"title\": {\"x\": 0.05}, \"xaxis\": {\"automargin\": true, \"gridcolor\": \"white\", \"linecolor\": \"white\", \"ticks\": \"\", \"title\": {\"standoff\": 15}, \"zerolinecolor\": \"white\", \"zerolinewidth\": 2}, \"yaxis\": {\"automargin\": true, \"gridcolor\": \"white\", \"linecolor\": \"white\", \"ticks\": \"\", \"title\": {\"standoff\": 15}, \"zerolinecolor\": \"white\", \"zerolinewidth\": 2}}}, \"xaxis\": {\"anchor\": \"y\", \"domain\": [0.0, 0.45], \"rangeslider\": {\"visible\": false}}, \"xaxis2\": {\"anchor\": \"y2\", \"domain\": [0.55, 1.0], \"rangeslider\": {\"visible\": false}}, \"yaxis\": {\"anchor\": \"x\", \"domain\": [0.0, 1.0]}, \"yaxis2\": {\"anchor\": \"x2\", \"domain\": [0.0, 1.0]}},                        {\"responsive\": true}                    ).then(function(){\n",
       "                            \n",
       "var gd = document.getElementById('ecd6d16e-1e40-4fda-bb47-527ea65f1f85');\n",
       "var x = new MutationObserver(function (mutations, observer) {{\n",
       "        var display = window.getComputedStyle(gd).display;\n",
       "        if (!display || display === 'none') {{\n",
       "            console.log([gd, 'removed!']);\n",
       "            Plotly.purge(gd);\n",
       "            observer.disconnect();\n",
       "        }}\n",
       "}});\n",
       "\n",
       "// Listen for the removal of the full notebook cells\n",
       "var notebookContainer = gd.closest('#notebook-container');\n",
       "if (notebookContainer) {{\n",
       "    x.observe(notebookContainer, {childList: true});\n",
       "}}\n",
       "\n",
       "// Listen for the clearing of the current output cell\n",
       "var outputEl = gd.closest('.output');\n",
       "if (outputEl) {{\n",
       "    x.observe(outputEl, {childList: true});\n",
       "}}\n",
       "\n",
       "                        })                };                });            </script>        </div>"
      ]
     },
     "metadata": {},
     "output_type": "display_data"
    },
    {
     "data": {
      "application/vnd.plotly.v1+json": {
       "config": {
        "plotlyServerURL": "https://plot.ly"
       },
       "data": [
        {
         "close": [
          1.10974,
          1.10952,
          1.10926,
          1.10914,
          1.10924,
          1.10879,
          1.10868,
          1.10858,
          1.10873,
          1.10878,
          1.10902,
          1.10918,
          1.10915,
          1.10933,
          1.10933,
          1.10951,
          1.10936,
          1.10947,
          1.10951,
          1.10947,
          1.10946,
          1.10945,
          1.10958,
          1.10971,
          1.10948,
          1.10939,
          1.10939,
          1.10919,
          1.10933,
          1.10921,
          1.10891,
          1.10873,
          1.10892,
          1.10891,
          1.10895,
          1.10886,
          1.10924,
          1.10914,
          1.10907,
          1.10942,
          1.10932,
          1.10938,
          1.10941,
          1.10968,
          1.10947,
          1.10954,
          1.10968,
          1.10967,
          1.10976,
          1.10974,
          1.10974,
          1.10968,
          1.10983,
          1.10992,
          1.10978,
          1.10985,
          1.11005,
          1.10998,
          1.10995,
          1.1103,
          1.11019,
          1.11016,
          1.11013,
          1.10999,
          1.11017,
          1.11028,
          1.11002,
          1.10993,
          1.10993,
          1.10981,
          1.10986,
          1.10994,
          1.10992,
          1.10984,
          1.10979,
          1.10984,
          1.1098,
          1.10983,
          1.11014,
          1.11009,
          1.11013,
          1.11007,
          1.11015,
          1.11009,
          1.11003,
          1.11004,
          1.11,
          1.11012,
          1.11014,
          1.11035,
          1.11008,
          1.11018,
          1.11015,
          1.11005,
          1.11007,
          1.11004,
          1.11004,
          1.11003,
          1.11005,
          1.11005,
          1.1101,
          1.11003,
          1.11001,
          1.11005,
          1.11005,
          1.11013,
          1.11009,
          1.11013,
          1.11013,
          1.1101,
          1.11012,
          1.11011,
          1.11013,
          1.11006,
          1.1101,
          1.11004,
          1.11004,
          1.11004,
          1.11001,
          1.10997,
          1.11
         ],
         "high": [
          1.11001,
          1.10979,
          1.10954,
          1.10945,
          1.10927,
          1.10935,
          1.10885,
          1.10868,
          1.1088,
          1.1088,
          1.10903,
          1.10924,
          1.10923,
          1.10951,
          1.10937,
          1.10975,
          1.10958,
          1.10963,
          1.10964,
          1.10955,
          1.10952,
          1.10955,
          1.10959,
          1.10984,
          1.10973,
          1.10962,
          1.10947,
          1.10939,
          1.10937,
          1.10941,
          1.10924,
          1.10894,
          1.10903,
          1.10902,
          1.10907,
          1.109,
          1.10925,
          1.10934,
          1.10925,
          1.10945,
          1.10947,
          1.1094,
          1.10948,
          1.1097,
          1.10968,
          1.10955,
          1.10969,
          1.10978,
          1.10979,
          1.10988,
          1.10979,
          1.10984,
          1.10983,
          1.10994,
          1.10996,
          1.1099,
          1.11009,
          1.11023,
          1.10998,
          1.11035,
          1.11035,
          1.1102,
          1.11028,
          1.11018,
          1.11018,
          1.11028,
          1.11028,
          1.11002,
          1.10998,
          1.10993,
          1.10986,
          1.10996,
          1.10999,
          1.10998,
          1.1099,
          1.10993,
          1.10994,
          1.10994,
          1.11016,
          1.11017,
          1.11017,
          1.11016,
          1.11016,
          1.11018,
          1.1101,
          1.11008,
          1.11017,
          1.11013,
          1.11015,
          1.11039,
          1.11036,
          1.11018,
          1.11019,
          1.11015,
          1.11007,
          1.11007,
          1.11008,
          1.11006,
          1.11005,
          1.11006,
          1.11015,
          1.11013,
          1.11011,
          1.11005,
          1.11006,
          1.11014,
          1.11014,
          1.11033,
          1.11014,
          1.11013,
          1.11013,
          1.11013,
          1.11024,
          1.11013,
          1.11015,
          1.1101,
          1.11006,
          1.11005,
          1.11005,
          1.11002,
          1.11001
         ],
         "low": [
          1.10971,
          1.10952,
          1.10917,
          1.10907,
          1.10907,
          1.10876,
          1.10848,
          1.10852,
          1.10854,
          1.10865,
          1.10878,
          1.10901,
          1.10912,
          1.10914,
          1.10914,
          1.1093,
          1.10931,
          1.10922,
          1.10936,
          1.10932,
          1.10921,
          1.10933,
          1.10916,
          1.10948,
          1.10933,
          1.10938,
          1.10928,
          1.10915,
          1.10919,
          1.10908,
          1.10884,
          1.10872,
          1.10869,
          1.10885,
          1.10885,
          1.10886,
          1.10886,
          1.10907,
          1.10907,
          1.10902,
          1.10926,
          1.10916,
          1.10925,
          1.10935,
          1.10944,
          1.10932,
          1.10936,
          1.10961,
          1.10952,
          1.10969,
          1.10966,
          1.10966,
          1.10967,
          1.10978,
          1.10978,
          1.10975,
          1.10983,
          1.10991,
          1.10988,
          1.10995,
          1.11018,
          1.11008,
          1.11011,
          1.1099,
          1.10989,
          1.1101,
          1.11002,
          1.10988,
          1.10983,
          1.10975,
          1.10977,
          1.10978,
          1.1098,
          1.10983,
          1.10975,
          1.10978,
          1.10979,
          1.10979,
          1.10972,
          1.11005,
          1.11008,
          1.11004,
          1.11007,
          1.11004,
          1.10998,
          1.10998,
          1.10998,
          1.10998,
          1.1101,
          1.11002,
          1.11005,
          1.11003,
          1.11014,
          1.11003,
          1.11001,
          1.11002,
          1.11002,
          1.11003,
          1.11,
          1.11002,
          1.11005,
          1.11002,
          1.10998,
          1.11001,
          1.11002,
          1.11004,
          1.11009,
          1.11009,
          1.11,
          1.11006,
          1.11006,
          1.11008,
          1.11011,
          1.11001,
          1.10999,
          1.11001,
          1.11003,
          1.11003,
          1.10998,
          1.10997,
          1.10994
         ],
         "open": [
          1.1099,
          1.10974,
          1.10952,
          1.10926,
          1.10914,
          1.10924,
          1.10879,
          1.10868,
          1.10858,
          1.10873,
          1.10878,
          1.10902,
          1.10918,
          1.10915,
          1.10933,
          1.10933,
          1.10951,
          1.10936,
          1.10947,
          1.10951,
          1.10947,
          1.10946,
          1.10945,
          1.10958,
          1.10971,
          1.10948,
          1.10939,
          1.10939,
          1.10919,
          1.10933,
          1.10921,
          1.10891,
          1.10873,
          1.10892,
          1.10891,
          1.10895,
          1.10886,
          1.10924,
          1.10914,
          1.10907,
          1.10942,
          1.10932,
          1.10938,
          1.10941,
          1.10968,
          1.10947,
          1.10954,
          1.10968,
          1.10967,
          1.10976,
          1.10974,
          1.10974,
          1.10968,
          1.10983,
          1.10992,
          1.10978,
          1.10985,
          1.11005,
          1.10998,
          1.10995,
          1.1103,
          1.11019,
          1.11016,
          1.11013,
          1.10999,
          1.11017,
          1.11028,
          1.11002,
          1.10993,
          1.10993,
          1.10981,
          1.10986,
          1.10994,
          1.10992,
          1.10984,
          1.10979,
          1.10984,
          1.1098,
          1.10983,
          1.11014,
          1.11009,
          1.11013,
          1.11007,
          1.11015,
          1.11009,
          1.11003,
          1.11004,
          1.11,
          1.11012,
          1.11014,
          1.11035,
          1.11008,
          1.11018,
          1.11015,
          1.11005,
          1.11007,
          1.11004,
          1.11004,
          1.11003,
          1.11005,
          1.11005,
          1.1101,
          1.11003,
          1.11001,
          1.11005,
          1.11005,
          1.11013,
          1.11009,
          1.11013,
          1.11013,
          1.1101,
          1.11012,
          1.11011,
          1.11013,
          1.11006,
          1.1101,
          1.11004,
          1.11004,
          1.11004,
          1.11001,
          1.10997
         ],
         "showlegend": false,
         "type": "candlestick",
         "x": [
          "2019-10-28T12:30:00",
          "2019-10-28T12:35:00",
          "2019-10-28T12:40:00",
          "2019-10-28T12:45:00",
          "2019-10-28T12:50:00",
          "2019-10-28T12:55:00",
          "2019-10-28T13:00:00",
          "2019-10-28T13:05:00",
          "2019-10-28T13:10:00",
          "2019-10-28T13:15:00",
          "2019-10-28T13:20:00",
          "2019-10-28T13:25:00",
          "2019-10-28T13:30:00",
          "2019-10-28T13:35:00",
          "2019-10-28T13:40:00",
          "2019-10-28T13:45:00",
          "2019-10-28T13:50:00",
          "2019-10-28T13:55:00",
          "2019-10-28T14:00:00",
          "2019-10-28T14:05:00",
          "2019-10-28T14:10:00",
          "2019-10-28T14:15:00",
          "2019-10-28T14:20:00",
          "2019-10-28T14:25:00",
          "2019-10-28T14:30:00",
          "2019-10-28T14:35:00",
          "2019-10-28T14:40:00",
          "2019-10-28T14:45:00",
          "2019-10-28T14:50:00",
          "2019-10-28T14:55:00",
          "2019-10-28T15:00:00",
          "2019-10-28T15:05:00",
          "2019-10-28T15:10:00",
          "2019-10-28T15:15:00",
          "2019-10-28T15:20:00",
          "2019-10-28T15:25:00",
          "2019-10-28T15:30:00",
          "2019-10-28T15:35:00",
          "2019-10-28T15:40:00",
          "2019-10-28T15:45:00",
          "2019-10-28T15:50:00",
          "2019-10-28T15:55:00",
          "2019-10-28T16:00:00",
          "2019-10-28T16:05:00",
          "2019-10-28T16:10:00",
          "2019-10-28T16:15:00",
          "2019-10-28T16:20:00",
          "2019-10-28T16:25:00",
          "2019-10-28T16:30:00",
          "2019-10-28T16:35:00",
          "2019-10-28T16:40:00",
          "2019-10-28T16:45:00",
          "2019-10-28T16:50:00",
          "2019-10-28T16:55:00",
          "2019-10-28T17:00:00",
          "2019-10-28T17:05:00",
          "2019-10-28T17:10:00",
          "2019-10-28T17:15:00",
          "2019-10-28T17:20:00",
          "2019-10-28T17:25:00",
          "2019-10-28T17:30:00",
          "2019-10-28T17:35:00",
          "2019-10-28T17:40:00",
          "2019-10-28T17:45:00",
          "2019-10-28T17:50:00",
          "2019-10-28T17:55:00",
          "2019-10-28T18:00:00",
          "2019-10-28T18:05:00",
          "2019-10-28T18:10:00",
          "2019-10-28T18:15:00",
          "2019-10-28T18:20:00",
          "2019-10-28T18:25:00",
          "2019-10-28T18:30:00",
          "2019-10-28T18:35:00",
          "2019-10-28T18:40:00",
          "2019-10-28T18:45:00",
          "2019-10-28T18:50:00",
          "2019-10-28T18:55:00",
          "2019-10-28T19:00:00",
          "2019-10-28T19:05:00",
          "2019-10-28T19:10:00",
          "2019-10-28T19:15:00",
          "2019-10-28T19:20:00",
          "2019-10-28T19:25:00",
          "2019-10-28T19:30:00",
          "2019-10-28T19:35:00",
          "2019-10-28T19:40:00",
          "2019-10-28T19:45:00",
          "2019-10-28T19:50:00",
          "2019-10-28T19:55:00",
          "2019-10-28T20:00:00",
          "2019-10-28T20:05:00",
          "2019-10-28T20:10:00",
          "2019-10-28T20:15:00",
          "2019-10-28T20:20:00",
          "2019-10-28T20:25:00",
          "2019-10-28T20:30:00",
          "2019-10-28T20:35:00",
          "2019-10-28T20:40:00",
          "2019-10-28T20:45:00",
          "2019-10-28T20:50:00",
          "2019-10-28T20:55:00",
          "2019-10-28T21:00:00",
          "2019-10-28T21:05:00",
          "2019-10-28T21:10:00",
          "2019-10-28T21:15:00",
          "2019-10-28T21:20:00",
          "2019-10-28T21:25:00",
          "2019-10-28T21:30:00",
          "2019-10-28T21:35:00",
          "2019-10-28T21:40:00",
          "2019-10-28T21:45:00",
          "2019-10-28T21:50:00",
          "2019-10-28T21:55:00",
          "2019-10-28T22:00:00",
          "2019-10-28T22:05:00",
          "2019-10-28T22:10:00",
          "2019-10-28T22:15:00",
          "2019-10-28T22:20:00",
          "2019-10-28T22:25:00",
          "2019-10-28T22:30:00"
         ],
         "xaxis": "x",
         "yaxis": "y"
        },
        {
         "marker": {
          "color": "mediumpurple",
          "size": 8
         },
         "mode": "markers",
         "showlegend": false,
         "type": "scatter",
         "x": [
          "2019-10-28T12:55:00",
          "2019-10-28T14:25:00",
          "2019-10-28T17:25:00",
          "2019-10-28T19:55:00",
          "2019-10-28T21:25:00"
         ],
         "xaxis": "x",
         "y": [
          1.10935,
          1.10984,
          1.11035,
          1.11039,
          1.11033
         ],
         "yaxis": "y"
        },
        {
         "marker": {
          "color": "mediumblue",
          "size": 8
         },
         "mode": "markers",
         "showlegend": false,
         "type": "scatter",
         "x": [
          "2019-10-28T13:00:00",
          "2019-10-28T15:10:00",
          "2019-10-28T18:40:00",
          "2019-10-28T21:00:00"
         ],
         "xaxis": "x",
         "y": [
          1.10848,
          1.10869,
          1.10975,
          1.10998
         ],
         "yaxis": "y"
        },
        {
         "marker": {
          "color": "green",
          "line": {
           "color": "black",
           "width": 2
          },
          "size": 10,
          "symbol": "triangle-up"
         },
         "mode": "markers",
         "showlegend": false,
         "type": "scatter",
         "x": [
          "2019-10-28T15:10:00",
          "2019-10-28T18:40:00",
          "2019-10-28T21:00:00"
         ],
         "xaxis": "x",
         "y": [
          1.10892,
          1.10979,
          1.11001
         ],
         "yaxis": "y"
        },
        {
         "marker": {
          "color": "red",
          "line": {
           "color": "black",
           "width": 2
          },
          "size": 10,
          "symbol": "triangle-down"
         },
         "mode": "markers",
         "showlegend": false,
         "type": "scatter",
         "x": [],
         "xaxis": "x",
         "y": [],
         "yaxis": "y"
        },
        {
         "close": [
          1.18846,
          1.18795,
          1.18815,
          1.18739,
          1.18664,
          1.18715,
          1.18761,
          1.1879,
          1.18747,
          1.18746,
          1.1871,
          1.18699,
          1.18672,
          1.18693,
          1.18719,
          1.18648,
          1.18602,
          1.18667,
          1.18648,
          1.18594,
          1.18569,
          1.18579,
          1.18625,
          1.18646,
          1.18643,
          1.1869,
          1.18642,
          1.1866,
          1.18689,
          1.18698,
          1.18693,
          1.18672,
          1.18683,
          1.18718,
          1.18743,
          1.18762,
          1.18732,
          1.18673,
          1.18628,
          1.18594,
          1.18701,
          1.18666,
          1.18593,
          1.18605,
          1.18651,
          1.18621,
          1.1863,
          1.18625,
          1.1864,
          1.18634,
          1.18528,
          1.1851,
          1.18471,
          1.18507,
          1.18525,
          1.18493,
          1.18473,
          1.18567,
          1.18584,
          1.18544,
          1.18616,
          1.18755,
          1.18659,
          1.18679,
          1.18623,
          1.18578,
          1.18592,
          1.18603,
          1.18558,
          1.18598,
          1.18572,
          1.18537,
          1.18554,
          1.18429,
          1.18401,
          1.1836,
          1.1835,
          1.18359,
          1.18395,
          1.18398,
          1.18314,
          1.18359,
          1.18363,
          1.18296,
          1.18276,
          1.18307,
          1.18392,
          1.18385,
          1.18451,
          1.18405,
          1.18367,
          1.18423,
          1.18353,
          1.18408,
          1.18391,
          1.18339,
          1.18345,
          1.18297,
          1.18317,
          1.18297,
          1.1837,
          1.18292,
          1.18288,
          1.1831,
          1.18331,
          1.18399,
          1.18329,
          1.18293,
          1.18314,
          1.18359,
          1.18332,
          1.18327,
          1.18365,
          1.18375,
          1.18404,
          1.1842,
          1.18429,
          1.18485,
          1.18424,
          1.18418,
          1.18446
         ],
         "high": [
          1.18871,
          1.18855,
          1.18832,
          1.18815,
          1.1875,
          1.18731,
          1.18771,
          1.18805,
          1.1879,
          1.18758,
          1.18765,
          1.18753,
          1.18726,
          1.18696,
          1.18742,
          1.18724,
          1.18649,
          1.18675,
          1.18674,
          1.1867,
          1.18598,
          1.18581,
          1.18639,
          1.18655,
          1.18666,
          1.18695,
          1.1869,
          1.18675,
          1.18695,
          1.18704,
          1.18712,
          1.187,
          1.18723,
          1.18727,
          1.18749,
          1.18783,
          1.18765,
          1.1874,
          1.18677,
          1.18632,
          1.18703,
          1.18703,
          1.18672,
          1.18611,
          1.18658,
          1.18658,
          1.18635,
          1.18647,
          1.1865,
          1.18648,
          1.18636,
          1.18581,
          1.18547,
          1.18521,
          1.18536,
          1.18552,
          1.18508,
          1.1857,
          1.18604,
          1.18605,
          1.18634,
          1.18757,
          1.1877,
          1.18685,
          1.18683,
          1.18668,
          1.18603,
          1.18607,
          1.18603,
          1.18621,
          1.18611,
          1.18585,
          1.18565,
          1.18554,
          1.18473,
          1.1841,
          1.18396,
          1.1837,
          1.18408,
          1.1842,
          1.18398,
          1.18363,
          1.18369,
          1.18378,
          1.183,
          1.1831,
          1.18396,
          1.18402,
          1.18478,
          1.18463,
          1.18434,
          1.18438,
          1.18436,
          1.18427,
          1.18438,
          1.18403,
          1.18369,
          1.18346,
          1.18357,
          1.18329,
          1.18381,
          1.18372,
          1.18337,
          1.18337,
          1.18345,
          1.18402,
          1.18416,
          1.18335,
          1.1832,
          1.18367,
          1.18379,
          1.1834,
          1.18371,
          1.18381,
          1.18413,
          1.18437,
          1.18468,
          1.18501,
          1.18487,
          1.18444,
          1.18455
         ],
         "low": [
          1.18809,
          1.18757,
          1.18781,
          1.18727,
          1.18647,
          1.1865,
          1.18714,
          1.18756,
          1.18731,
          1.1873,
          1.18701,
          1.18682,
          1.1867,
          1.18663,
          1.18685,
          1.18645,
          1.18591,
          1.18588,
          1.18647,
          1.18591,
          1.1853,
          1.18542,
          1.18551,
          1.18619,
          1.18612,
          1.18643,
          1.18615,
          1.18642,
          1.18627,
          1.1867,
          1.18678,
          1.18638,
          1.18671,
          1.18673,
          1.18707,
          1.18738,
          1.18727,
          1.18648,
          1.18618,
          1.18577,
          1.18585,
          1.18658,
          1.18585,
          1.18571,
          1.18594,
          1.18597,
          1.18594,
          1.18604,
          1.18595,
          1.18606,
          1.1852,
          1.18507,
          1.18459,
          1.18465,
          1.18492,
          1.18461,
          1.18461,
          1.18466,
          1.1856,
          1.18533,
          1.18527,
          1.18611,
          1.18643,
          1.18633,
          1.18608,
          1.18578,
          1.18552,
          1.18553,
          1.18539,
          1.18554,
          1.18528,
          1.18529,
          1.18518,
          1.18417,
          1.18353,
          1.18339,
          1.18276,
          1.183,
          1.18348,
          1.18343,
          1.18314,
          1.18244,
          1.18303,
          1.18277,
          1.18226,
          1.18252,
          1.18297,
          1.18353,
          1.18376,
          1.18402,
          1.18361,
          1.18337,
          1.18349,
          1.18337,
          1.18373,
          1.18336,
          1.1833,
          1.18275,
          1.1829,
          1.18292,
          1.18291,
          1.1829,
          1.18281,
          1.18283,
          1.183,
          1.1833,
          1.18319,
          1.18286,
          1.18277,
          1.18314,
          1.18305,
          1.18303,
          1.18327,
          1.18334,
          1.18357,
          1.18399,
          1.18414,
          1.18424,
          1.18423,
          1.18397,
          1.18388
         ],
         "open": [
          1.18852,
          1.18846,
          1.18795,
          1.18815,
          1.18739,
          1.18664,
          1.18715,
          1.18761,
          1.1879,
          1.18747,
          1.18746,
          1.1871,
          1.18699,
          1.18672,
          1.18693,
          1.18719,
          1.18648,
          1.18602,
          1.18667,
          1.18648,
          1.18594,
          1.18569,
          1.18579,
          1.18625,
          1.18646,
          1.18643,
          1.1869,
          1.18642,
          1.1866,
          1.18689,
          1.18698,
          1.18693,
          1.18672,
          1.18683,
          1.18718,
          1.18743,
          1.18762,
          1.18732,
          1.18673,
          1.18628,
          1.18594,
          1.18701,
          1.18666,
          1.18593,
          1.18605,
          1.18651,
          1.18621,
          1.1863,
          1.18625,
          1.1864,
          1.18634,
          1.18528,
          1.1851,
          1.18471,
          1.18507,
          1.18525,
          1.18493,
          1.18473,
          1.18567,
          1.18584,
          1.18544,
          1.18616,
          1.18755,
          1.18659,
          1.18679,
          1.18623,
          1.18578,
          1.18592,
          1.18603,
          1.18558,
          1.18598,
          1.18572,
          1.18537,
          1.18554,
          1.18429,
          1.18401,
          1.1836,
          1.1835,
          1.18359,
          1.18395,
          1.18398,
          1.18314,
          1.18359,
          1.18363,
          1.18296,
          1.18276,
          1.18307,
          1.18392,
          1.18385,
          1.18451,
          1.18405,
          1.18367,
          1.18423,
          1.18353,
          1.18408,
          1.18391,
          1.18339,
          1.18345,
          1.18297,
          1.18317,
          1.18297,
          1.1837,
          1.18292,
          1.18288,
          1.1831,
          1.18331,
          1.18399,
          1.18329,
          1.18293,
          1.18314,
          1.18359,
          1.18332,
          1.18327,
          1.18365,
          1.18375,
          1.18404,
          1.1842,
          1.18429,
          1.18485,
          1.18424,
          1.18418
         ],
         "showlegend": false,
         "type": "candlestick",
         "x": [
          "2020-09-02T07:10:00",
          "2020-09-02T07:15:00",
          "2020-09-02T07:20:00",
          "2020-09-02T07:25:00",
          "2020-09-02T07:30:00",
          "2020-09-02T07:35:00",
          "2020-09-02T07:40:00",
          "2020-09-02T07:45:00",
          "2020-09-02T07:50:00",
          "2020-09-02T07:55:00",
          "2020-09-02T08:00:00",
          "2020-09-02T08:05:00",
          "2020-09-02T08:10:00",
          "2020-09-02T08:15:00",
          "2020-09-02T08:20:00",
          "2020-09-02T08:25:00",
          "2020-09-02T08:30:00",
          "2020-09-02T08:35:00",
          "2020-09-02T08:40:00",
          "2020-09-02T08:45:00",
          "2020-09-02T08:50:00",
          "2020-09-02T08:55:00",
          "2020-09-02T09:00:00",
          "2020-09-02T09:05:00",
          "2020-09-02T09:10:00",
          "2020-09-02T09:15:00",
          "2020-09-02T09:20:00",
          "2020-09-02T09:25:00",
          "2020-09-02T09:30:00",
          "2020-09-02T09:35:00",
          "2020-09-02T09:40:00",
          "2020-09-02T09:45:00",
          "2020-09-02T09:50:00",
          "2020-09-02T09:55:00",
          "2020-09-02T10:00:00",
          "2020-09-02T10:05:00",
          "2020-09-02T10:10:00",
          "2020-09-02T10:15:00",
          "2020-09-02T10:20:00",
          "2020-09-02T10:25:00",
          "2020-09-02T10:30:00",
          "2020-09-02T10:35:00",
          "2020-09-02T10:40:00",
          "2020-09-02T10:45:00",
          "2020-09-02T10:50:00",
          "2020-09-02T10:55:00",
          "2020-09-02T11:00:00",
          "2020-09-02T11:05:00",
          "2020-09-02T11:10:00",
          "2020-09-02T11:15:00",
          "2020-09-02T11:20:00",
          "2020-09-02T11:25:00",
          "2020-09-02T11:30:00",
          "2020-09-02T11:35:00",
          "2020-09-02T11:40:00",
          "2020-09-02T11:45:00",
          "2020-09-02T11:50:00",
          "2020-09-02T11:55:00",
          "2020-09-02T12:00:00",
          "2020-09-02T12:05:00",
          "2020-09-02T12:10:00",
          "2020-09-02T12:15:00",
          "2020-09-02T12:20:00",
          "2020-09-02T12:25:00",
          "2020-09-02T12:30:00",
          "2020-09-02T12:35:00",
          "2020-09-02T12:40:00",
          "2020-09-02T12:45:00",
          "2020-09-02T12:50:00",
          "2020-09-02T12:55:00",
          "2020-09-02T13:00:00",
          "2020-09-02T13:05:00",
          "2020-09-02T13:10:00",
          "2020-09-02T13:15:00",
          "2020-09-02T13:20:00",
          "2020-09-02T13:25:00",
          "2020-09-02T13:30:00",
          "2020-09-02T13:35:00",
          "2020-09-02T13:40:00",
          "2020-09-02T13:45:00",
          "2020-09-02T13:50:00",
          "2020-09-02T13:55:00",
          "2020-09-02T14:00:00",
          "2020-09-02T14:05:00",
          "2020-09-02T14:10:00",
          "2020-09-02T14:15:00",
          "2020-09-02T14:20:00",
          "2020-09-02T14:25:00",
          "2020-09-02T14:30:00",
          "2020-09-02T14:35:00",
          "2020-09-02T14:40:00",
          "2020-09-02T14:45:00",
          "2020-09-02T14:50:00",
          "2020-09-02T14:55:00",
          "2020-09-02T15:00:00",
          "2020-09-02T15:05:00",
          "2020-09-02T15:10:00",
          "2020-09-02T15:15:00",
          "2020-09-02T15:20:00",
          "2020-09-02T15:25:00",
          "2020-09-02T15:30:00",
          "2020-09-02T15:35:00",
          "2020-09-02T15:40:00",
          "2020-09-02T15:45:00",
          "2020-09-02T15:50:00",
          "2020-09-02T15:55:00",
          "2020-09-02T16:00:00",
          "2020-09-02T16:05:00",
          "2020-09-02T16:10:00",
          "2020-09-02T16:15:00",
          "2020-09-02T16:20:00",
          "2020-09-02T16:25:00",
          "2020-09-02T16:30:00",
          "2020-09-02T16:35:00",
          "2020-09-02T16:40:00",
          "2020-09-02T16:45:00",
          "2020-09-02T16:50:00",
          "2020-09-02T16:55:00",
          "2020-09-02T17:00:00",
          "2020-09-02T17:05:00",
          "2020-09-02T17:10:00"
         ],
         "xaxis": "x2",
         "yaxis": "y2"
        },
        {
         "marker": {
          "color": "mediumpurple",
          "size": 8
         },
         "mode": "markers",
         "showlegend": false,
         "type": "scatter",
         "x": [
          "2020-09-02T07:45:00",
          "2020-09-02T10:05:00",
          "2020-09-02T12:20:00",
          "2020-09-02T14:30:00",
          "2020-09-02T16:55:00"
         ],
         "xaxis": "x2",
         "y": [
          1.18805,
          1.18783,
          1.1877,
          1.18478,
          1.18501
         ],
         "yaxis": "y2"
        },
        {
         "marker": {
          "color": "mediumblue",
          "size": 8
         },
         "mode": "markers",
         "showlegend": false,
         "type": "scatter",
         "x": [
          "2020-09-02T07:30:00",
          "2020-09-02T08:50:00",
          "2020-09-02T11:50:00",
          "2020-09-02T14:10:00",
          "2020-09-02T16:10:00"
         ],
         "xaxis": "x2",
         "y": [
          1.18647,
          1.1853,
          1.18461,
          1.18226,
          1.18277
         ],
         "yaxis": "y2"
        },
        {
         "marker": {
          "color": "green",
          "line": {
           "color": "black",
           "width": 2
          },
          "size": 10,
          "symbol": "triangle-up"
         },
         "mode": "markers",
         "showlegend": false,
         "type": "scatter",
         "x": [
          "2020-09-02T16:55:00"
         ],
         "xaxis": "x2",
         "y": [
          1.18485
         ],
         "yaxis": "y2"
        },
        {
         "marker": {
          "color": "red",
          "line": {
           "color": "black",
           "width": 2
          },
          "size": 10,
          "symbol": "triangle-down"
         },
         "mode": "markers",
         "showlegend": false,
         "type": "scatter",
         "x": [
          "2020-09-02T10:05:00",
          "2020-09-02T12:20:00",
          "2020-09-02T14:30:00"
         ],
         "xaxis": "x2",
         "y": [
          1.18762,
          1.18659,
          1.18451
         ],
         "yaxis": "y2"
        }
       ],
       "layout": {
        "autosize": true,
        "template": {
         "data": {
          "bar": [
           {
            "error_x": {
             "color": "#2a3f5f"
            },
            "error_y": {
             "color": "#2a3f5f"
            },
            "marker": {
             "line": {
              "color": "#E5ECF6",
              "width": 0.5
             }
            },
            "type": "bar"
           }
          ],
          "barpolar": [
           {
            "marker": {
             "line": {
              "color": "#E5ECF6",
              "width": 0.5
             }
            },
            "type": "barpolar"
           }
          ],
          "carpet": [
           {
            "aaxis": {
             "endlinecolor": "#2a3f5f",
             "gridcolor": "white",
             "linecolor": "white",
             "minorgridcolor": "white",
             "startlinecolor": "#2a3f5f"
            },
            "baxis": {
             "endlinecolor": "#2a3f5f",
             "gridcolor": "white",
             "linecolor": "white",
             "minorgridcolor": "white",
             "startlinecolor": "#2a3f5f"
            },
            "type": "carpet"
           }
          ],
          "choropleth": [
           {
            "colorbar": {
             "outlinewidth": 0,
             "ticks": ""
            },
            "type": "choropleth"
           }
          ],
          "contour": [
           {
            "colorbar": {
             "outlinewidth": 0,
             "ticks": ""
            },
            "colorscale": [
             [
              0,
              "#0d0887"
             ],
             [
              0.1111111111111111,
              "#46039f"
             ],
             [
              0.2222222222222222,
              "#7201a8"
             ],
             [
              0.3333333333333333,
              "#9c179e"
             ],
             [
              0.4444444444444444,
              "#bd3786"
             ],
             [
              0.5555555555555556,
              "#d8576b"
             ],
             [
              0.6666666666666666,
              "#ed7953"
             ],
             [
              0.7777777777777778,
              "#fb9f3a"
             ],
             [
              0.8888888888888888,
              "#fdca26"
             ],
             [
              1,
              "#f0f921"
             ]
            ],
            "type": "contour"
           }
          ],
          "contourcarpet": [
           {
            "colorbar": {
             "outlinewidth": 0,
             "ticks": ""
            },
            "type": "contourcarpet"
           }
          ],
          "heatmap": [
           {
            "colorbar": {
             "outlinewidth": 0,
             "ticks": ""
            },
            "colorscale": [
             [
              0,
              "#0d0887"
             ],
             [
              0.1111111111111111,
              "#46039f"
             ],
             [
              0.2222222222222222,
              "#7201a8"
             ],
             [
              0.3333333333333333,
              "#9c179e"
             ],
             [
              0.4444444444444444,
              "#bd3786"
             ],
             [
              0.5555555555555556,
              "#d8576b"
             ],
             [
              0.6666666666666666,
              "#ed7953"
             ],
             [
              0.7777777777777778,
              "#fb9f3a"
             ],
             [
              0.8888888888888888,
              "#fdca26"
             ],
             [
              1,
              "#f0f921"
             ]
            ],
            "type": "heatmap"
           }
          ],
          "heatmapgl": [
           {
            "colorbar": {
             "outlinewidth": 0,
             "ticks": ""
            },
            "colorscale": [
             [
              0,
              "#0d0887"
             ],
             [
              0.1111111111111111,
              "#46039f"
             ],
             [
              0.2222222222222222,
              "#7201a8"
             ],
             [
              0.3333333333333333,
              "#9c179e"
             ],
             [
              0.4444444444444444,
              "#bd3786"
             ],
             [
              0.5555555555555556,
              "#d8576b"
             ],
             [
              0.6666666666666666,
              "#ed7953"
             ],
             [
              0.7777777777777778,
              "#fb9f3a"
             ],
             [
              0.8888888888888888,
              "#fdca26"
             ],
             [
              1,
              "#f0f921"
             ]
            ],
            "type": "heatmapgl"
           }
          ],
          "histogram": [
           {
            "marker": {
             "colorbar": {
              "outlinewidth": 0,
              "ticks": ""
             }
            },
            "type": "histogram"
           }
          ],
          "histogram2d": [
           {
            "colorbar": {
             "outlinewidth": 0,
             "ticks": ""
            },
            "colorscale": [
             [
              0,
              "#0d0887"
             ],
             [
              0.1111111111111111,
              "#46039f"
             ],
             [
              0.2222222222222222,
              "#7201a8"
             ],
             [
              0.3333333333333333,
              "#9c179e"
             ],
             [
              0.4444444444444444,
              "#bd3786"
             ],
             [
              0.5555555555555556,
              "#d8576b"
             ],
             [
              0.6666666666666666,
              "#ed7953"
             ],
             [
              0.7777777777777778,
              "#fb9f3a"
             ],
             [
              0.8888888888888888,
              "#fdca26"
             ],
             [
              1,
              "#f0f921"
             ]
            ],
            "type": "histogram2d"
           }
          ],
          "histogram2dcontour": [
           {
            "colorbar": {
             "outlinewidth": 0,
             "ticks": ""
            },
            "colorscale": [
             [
              0,
              "#0d0887"
             ],
             [
              0.1111111111111111,
              "#46039f"
             ],
             [
              0.2222222222222222,
              "#7201a8"
             ],
             [
              0.3333333333333333,
              "#9c179e"
             ],
             [
              0.4444444444444444,
              "#bd3786"
             ],
             [
              0.5555555555555556,
              "#d8576b"
             ],
             [
              0.6666666666666666,
              "#ed7953"
             ],
             [
              0.7777777777777778,
              "#fb9f3a"
             ],
             [
              0.8888888888888888,
              "#fdca26"
             ],
             [
              1,
              "#f0f921"
             ]
            ],
            "type": "histogram2dcontour"
           }
          ],
          "mesh3d": [
           {
            "colorbar": {
             "outlinewidth": 0,
             "ticks": ""
            },
            "type": "mesh3d"
           }
          ],
          "parcoords": [
           {
            "line": {
             "colorbar": {
              "outlinewidth": 0,
              "ticks": ""
             }
            },
            "type": "parcoords"
           }
          ],
          "pie": [
           {
            "automargin": true,
            "type": "pie"
           }
          ],
          "scatter": [
           {
            "marker": {
             "colorbar": {
              "outlinewidth": 0,
              "ticks": ""
             }
            },
            "type": "scatter"
           }
          ],
          "scatter3d": [
           {
            "line": {
             "colorbar": {
              "outlinewidth": 0,
              "ticks": ""
             }
            },
            "marker": {
             "colorbar": {
              "outlinewidth": 0,
              "ticks": ""
             }
            },
            "type": "scatter3d"
           }
          ],
          "scattercarpet": [
           {
            "marker": {
             "colorbar": {
              "outlinewidth": 0,
              "ticks": ""
             }
            },
            "type": "scattercarpet"
           }
          ],
          "scattergeo": [
           {
            "marker": {
             "colorbar": {
              "outlinewidth": 0,
              "ticks": ""
             }
            },
            "type": "scattergeo"
           }
          ],
          "scattergl": [
           {
            "marker": {
             "colorbar": {
              "outlinewidth": 0,
              "ticks": ""
             }
            },
            "type": "scattergl"
           }
          ],
          "scattermapbox": [
           {
            "marker": {
             "colorbar": {
              "outlinewidth": 0,
              "ticks": ""
             }
            },
            "type": "scattermapbox"
           }
          ],
          "scatterpolar": [
           {
            "marker": {
             "colorbar": {
              "outlinewidth": 0,
              "ticks": ""
             }
            },
            "type": "scatterpolar"
           }
          ],
          "scatterpolargl": [
           {
            "marker": {
             "colorbar": {
              "outlinewidth": 0,
              "ticks": ""
             }
            },
            "type": "scatterpolargl"
           }
          ],
          "scatterternary": [
           {
            "marker": {
             "colorbar": {
              "outlinewidth": 0,
              "ticks": ""
             }
            },
            "type": "scatterternary"
           }
          ],
          "surface": [
           {
            "colorbar": {
             "outlinewidth": 0,
             "ticks": ""
            },
            "colorscale": [
             [
              0,
              "#0d0887"
             ],
             [
              0.1111111111111111,
              "#46039f"
             ],
             [
              0.2222222222222222,
              "#7201a8"
             ],
             [
              0.3333333333333333,
              "#9c179e"
             ],
             [
              0.4444444444444444,
              "#bd3786"
             ],
             [
              0.5555555555555556,
              "#d8576b"
             ],
             [
              0.6666666666666666,
              "#ed7953"
             ],
             [
              0.7777777777777778,
              "#fb9f3a"
             ],
             [
              0.8888888888888888,
              "#fdca26"
             ],
             [
              1,
              "#f0f921"
             ]
            ],
            "type": "surface"
           }
          ],
          "table": [
           {
            "cells": {
             "fill": {
              "color": "#EBF0F8"
             },
             "line": {
              "color": "white"
             }
            },
            "header": {
             "fill": {
              "color": "#C8D4E3"
             },
             "line": {
              "color": "white"
             }
            },
            "type": "table"
           }
          ]
         },
         "layout": {
          "annotationdefaults": {
           "arrowcolor": "#2a3f5f",
           "arrowhead": 0,
           "arrowwidth": 1
          },
          "coloraxis": {
           "colorbar": {
            "outlinewidth": 0,
            "ticks": ""
           }
          },
          "colorscale": {
           "diverging": [
            [
             0,
             "#8e0152"
            ],
            [
             0.1,
             "#c51b7d"
            ],
            [
             0.2,
             "#de77ae"
            ],
            [
             0.3,
             "#f1b6da"
            ],
            [
             0.4,
             "#fde0ef"
            ],
            [
             0.5,
             "#f7f7f7"
            ],
            [
             0.6,
             "#e6f5d0"
            ],
            [
             0.7,
             "#b8e186"
            ],
            [
             0.8,
             "#7fbc41"
            ],
            [
             0.9,
             "#4d9221"
            ],
            [
             1,
             "#276419"
            ]
           ],
           "sequential": [
            [
             0,
             "#0d0887"
            ],
            [
             0.1111111111111111,
             "#46039f"
            ],
            [
             0.2222222222222222,
             "#7201a8"
            ],
            [
             0.3333333333333333,
             "#9c179e"
            ],
            [
             0.4444444444444444,
             "#bd3786"
            ],
            [
             0.5555555555555556,
             "#d8576b"
            ],
            [
             0.6666666666666666,
             "#ed7953"
            ],
            [
             0.7777777777777778,
             "#fb9f3a"
            ],
            [
             0.8888888888888888,
             "#fdca26"
            ],
            [
             1,
             "#f0f921"
            ]
           ],
           "sequentialminus": [
            [
             0,
             "#0d0887"
            ],
            [
             0.1111111111111111,
             "#46039f"
            ],
            [
             0.2222222222222222,
             "#7201a8"
            ],
            [
             0.3333333333333333,
             "#9c179e"
            ],
            [
             0.4444444444444444,
             "#bd3786"
            ],
            [
             0.5555555555555556,
             "#d8576b"
            ],
            [
             0.6666666666666666,
             "#ed7953"
            ],
            [
             0.7777777777777778,
             "#fb9f3a"
            ],
            [
             0.8888888888888888,
             "#fdca26"
            ],
            [
             1,
             "#f0f921"
            ]
           ]
          },
          "colorway": [
           "#636efa",
           "#EF553B",
           "#00cc96",
           "#ab63fa",
           "#FFA15A",
           "#19d3f3",
           "#FF6692",
           "#B6E880",
           "#FF97FF",
           "#FECB52"
          ],
          "font": {
           "color": "#2a3f5f"
          },
          "geo": {
           "bgcolor": "white",
           "lakecolor": "white",
           "landcolor": "#E5ECF6",
           "showlakes": true,
           "showland": true,
           "subunitcolor": "white"
          },
          "hoverlabel": {
           "align": "left"
          },
          "hovermode": "closest",
          "mapbox": {
           "style": "light"
          },
          "paper_bgcolor": "white",
          "plot_bgcolor": "#E5ECF6",
          "polar": {
           "angularaxis": {
            "gridcolor": "white",
            "linecolor": "white",
            "ticks": ""
           },
           "bgcolor": "#E5ECF6",
           "radialaxis": {
            "gridcolor": "white",
            "linecolor": "white",
            "ticks": ""
           }
          },
          "scene": {
           "xaxis": {
            "backgroundcolor": "#E5ECF6",
            "gridcolor": "white",
            "gridwidth": 2,
            "linecolor": "white",
            "showbackground": true,
            "ticks": "",
            "zerolinecolor": "white"
           },
           "yaxis": {
            "backgroundcolor": "#E5ECF6",
            "gridcolor": "white",
            "gridwidth": 2,
            "linecolor": "white",
            "showbackground": true,
            "ticks": "",
            "zerolinecolor": "white"
           },
           "zaxis": {
            "backgroundcolor": "#E5ECF6",
            "gridcolor": "white",
            "gridwidth": 2,
            "linecolor": "white",
            "showbackground": true,
            "ticks": "",
            "zerolinecolor": "white"
           }
          },
          "shapedefaults": {
           "line": {
            "color": "#2a3f5f"
           }
          },
          "ternary": {
           "aaxis": {
            "gridcolor": "white",
            "linecolor": "white",
            "ticks": ""
           },
           "baxis": {
            "gridcolor": "white",
            "linecolor": "white",
            "ticks": ""
           },
           "bgcolor": "#E5ECF6",
           "caxis": {
            "gridcolor": "white",
            "linecolor": "white",
            "ticks": ""
           }
          },
          "title": {
           "x": 0.05
          },
          "xaxis": {
           "automargin": true,
           "gridcolor": "white",
           "linecolor": "white",
           "ticks": "",
           "title": {
            "standoff": 15
           },
           "zerolinecolor": "white",
           "zerolinewidth": 2
          },
          "yaxis": {
           "automargin": true,
           "gridcolor": "white",
           "linecolor": "white",
           "ticks": "",
           "title": {
            "standoff": 15
           },
           "zerolinecolor": "white",
           "zerolinewidth": 2
          }
         }
        },
        "xaxis": {
         "anchor": "y",
         "autorange": true,
         "domain": [
          0,
          0.45
         ],
         "range": [
          "2019-10-28 12:18:32.7333",
          "2019-10-28 22:32:30"
         ],
         "rangeslider": {
          "visible": false,
          "yaxis": {}
         },
         "type": "date"
        },
        "xaxis2": {
         "anchor": "y2",
         "autorange": true,
         "domain": [
          0.55,
          1
         ],
         "range": [
          "2020-09-02 06:51:49.8016",
          "2020-09-02 17:34:40.6129"
         ],
         "rangeslider": {
          "visible": false,
          "yaxis2": {}
         },
         "type": "date"
        },
        "yaxis": {
         "anchor": "x",
         "autorange": true,
         "domain": [
          0,
          1
         ],
         "range": [
          1.108328347639485,
          1.110541652360515
         ],
         "type": "linear"
        },
        "yaxis2": {
         "anchor": "x2",
         "autorange": true,
         "domain": [
          0,
          1
         ],
         "range": [
          1.1817586344537816,
          1.1890758613445378
         ],
         "type": "linear"
        }
       }
      },
      "image/png": "[encoded data removed]",
      "text/html": [
       "<div>                            <div id=\"51f009e6-bb75-42fd-bd4a-068e96e57ffb\" class=\"plotly-graph-div\" style=\"height:525px; width:100%;\"></div>            <script type=\"text/javascript\">                require([\"plotly\"], function(Plotly) {                    window.PLOTLYENV=window.PLOTLYENV || {};                                    if (document.getElementById(\"51f009e6-bb75-42fd-bd4a-068e96e57ffb\")) {                    Plotly.newPlot(                        \"51f009e6-bb75-42fd-bd4a-068e96e57ffb\",                        [{\"close\": [1.10974, 1.10952, 1.10926, 1.10914, 1.10924, 1.10879, 1.10868, 1.10858, 1.10873, 1.10878, 1.10902, 1.10918, 1.10915, 1.10933, 1.10933, 1.10951, 1.10936, 1.10947, 1.10951, 1.10947, 1.10946, 1.10945, 1.10958, 1.10971, 1.10948, 1.10939, 1.10939, 1.10919, 1.10933, 1.10921, 1.10891, 1.10873, 1.10892, 1.10891, 1.10895, 1.10886, 1.10924, 1.10914, 1.10907, 1.10942, 1.10932, 1.10938, 1.10941, 1.10968, 1.10947, 1.10954, 1.10968, 1.10967, 1.10976, 1.10974, 1.10974, 1.10968, 1.10983, 1.10992, 1.10978, 1.10985, 1.11005, 1.10998, 1.10995, 1.1103, 1.11019, 1.11016, 1.11013, 1.10999, 1.11017, 1.11028, 1.11002, 1.10993, 1.10993, 1.10981, 1.10986, 1.10994, 1.10992, 1.10984, 1.10979, 1.10984, 1.1098, 1.10983, 1.11014, 1.11009, 1.11013, 1.11007, 1.11015, 1.11009, 1.11003, 1.11004, 1.11, 1.11012, 1.11014, 1.11035, 1.11008, 1.11018, 1.11015, 1.11005, 1.11007, 1.11004, 1.11004, 1.11003, 1.11005, 1.11005, 1.1101, 1.11003, 1.11001, 1.11005, 1.11005, 1.11013, 1.11009, 1.11013, 1.11013, 1.1101, 1.11012, 1.11011, 1.11013, 1.11006, 1.1101, 1.11004, 1.11004, 1.11004, 1.11001, 1.10997, 1.11], \"high\": [1.11001, 1.10979, 1.10954, 1.10945, 1.10927, 1.10935, 1.10885, 1.10868, 1.1088, 1.1088, 1.10903, 1.10924, 1.10923, 1.10951, 1.10937, 1.10975, 1.10958, 1.10963, 1.10964, 1.10955, 1.10952, 1.10955, 1.10959, 1.10984, 1.10973, 1.10962, 1.10947, 1.10939, 1.10937, 1.10941, 1.10924, 1.10894, 1.10903, 1.10902, 1.10907, 1.109, 1.10925, 1.10934, 1.10925, 1.10945, 1.10947, 1.1094, 1.10948, 1.1097, 1.10968, 1.10955, 1.10969, 1.10978, 1.10979, 1.10988, 1.10979, 1.10984, 1.10983, 1.10994, 1.10996, 1.1099, 1.11009, 1.11023, 1.10998, 1.11035, 1.11035, 1.1102, 1.11028, 1.11018, 1.11018, 1.11028, 1.11028, 1.11002, 1.10998, 1.10993, 1.10986, 1.10996, 1.10999, 1.10998, 1.1099, 1.10993, 1.10994, 1.10994, 1.11016, 1.11017, 1.11017, 1.11016, 1.11016, 1.11018, 1.1101, 1.11008, 1.11017, 1.11013, 1.11015, 1.11039, 1.11036, 1.11018, 1.11019, 1.11015, 1.11007, 1.11007, 1.11008, 1.11006, 1.11005, 1.11006, 1.11015, 1.11013, 1.11011, 1.11005, 1.11006, 1.11014, 1.11014, 1.11033, 1.11014, 1.11013, 1.11013, 1.11013, 1.11024, 1.11013, 1.11015, 1.1101, 1.11006, 1.11005, 1.11005, 1.11002, 1.11001], \"low\": [1.10971, 1.10952, 1.10917, 1.10907, 1.10907, 1.10876, 1.10848, 1.10852, 1.10854, 1.10865, 1.10878, 1.10901, 1.10912, 1.10914, 1.10914, 1.1093, 1.10931, 1.10922, 1.10936, 1.10932, 1.10921, 1.10933, 1.10916, 1.10948, 1.10933, 1.10938, 1.10928, 1.10915, 1.10919, 1.10908, 1.10884, 1.10872, 1.10869, 1.10885, 1.10885, 1.10886, 1.10886, 1.10907, 1.10907, 1.10902, 1.10926, 1.10916, 1.10925, 1.10935, 1.10944, 1.10932, 1.10936, 1.10961, 1.10952, 1.10969, 1.10966, 1.10966, 1.10967, 1.10978, 1.10978, 1.10975, 1.10983, 1.10991, 1.10988, 1.10995, 1.11018, 1.11008, 1.11011, 1.1099, 1.10989, 1.1101, 1.11002, 1.10988, 1.10983, 1.10975, 1.10977, 1.10978, 1.1098, 1.10983, 1.10975, 1.10978, 1.10979, 1.10979, 1.10972, 1.11005, 1.11008, 1.11004, 1.11007, 1.11004, 1.10998, 1.10998, 1.10998, 1.10998, 1.1101, 1.11002, 1.11005, 1.11003, 1.11014, 1.11003, 1.11001, 1.11002, 1.11002, 1.11003, 1.11, 1.11002, 1.11005, 1.11002, 1.10998, 1.11001, 1.11002, 1.11004, 1.11009, 1.11009, 1.11, 1.11006, 1.11006, 1.11008, 1.11011, 1.11001, 1.10999, 1.11001, 1.11003, 1.11003, 1.10998, 1.10997, 1.10994], \"open\": [1.1099, 1.10974, 1.10952, 1.10926, 1.10914, 1.10924, 1.10879, 1.10868, 1.10858, 1.10873, 1.10878, 1.10902, 1.10918, 1.10915, 1.10933, 1.10933, 1.10951, 1.10936, 1.10947, 1.10951, 1.10947, 1.10946, 1.10945, 1.10958, 1.10971, 1.10948, 1.10939, 1.10939, 1.10919, 1.10933, 1.10921, 1.10891, 1.10873, 1.10892, 1.10891, 1.10895, 1.10886, 1.10924, 1.10914, 1.10907, 1.10942, 1.10932, 1.10938, 1.10941, 1.10968, 1.10947, 1.10954, 1.10968, 1.10967, 1.10976, 1.10974, 1.10974, 1.10968, 1.10983, 1.10992, 1.10978, 1.10985, 1.11005, 1.10998, 1.10995, 1.1103, 1.11019, 1.11016, 1.11013, 1.10999, 1.11017, 1.11028, 1.11002, 1.10993, 1.10993, 1.10981, 1.10986, 1.10994, 1.10992, 1.10984, 1.10979, 1.10984, 1.1098, 1.10983, 1.11014, 1.11009, 1.11013, 1.11007, 1.11015, 1.11009, 1.11003, 1.11004, 1.11, 1.11012, 1.11014, 1.11035, 1.11008, 1.11018, 1.11015, 1.11005, 1.11007, 1.11004, 1.11004, 1.11003, 1.11005, 1.11005, 1.1101, 1.11003, 1.11001, 1.11005, 1.11005, 1.11013, 1.11009, 1.11013, 1.11013, 1.1101, 1.11012, 1.11011, 1.11013, 1.11006, 1.1101, 1.11004, 1.11004, 1.11004, 1.11001, 1.10997], \"showlegend\": false, \"type\": \"candlestick\", \"x\": [\"2019-10-28T12:30:00\", \"2019-10-28T12:35:00\", \"2019-10-28T12:40:00\", \"2019-10-28T12:45:00\", \"2019-10-28T12:50:00\", \"2019-10-28T12:55:00\", \"2019-10-28T13:00:00\", \"2019-10-28T13:05:00\", \"2019-10-28T13:10:00\", \"2019-10-28T13:15:00\", \"2019-10-28T13:20:00\", \"2019-10-28T13:25:00\", \"2019-10-28T13:30:00\", \"2019-10-28T13:35:00\", \"2019-10-28T13:40:00\", \"2019-10-28T13:45:00\", \"2019-10-28T13:50:00\", \"2019-10-28T13:55:00\", \"2019-10-28T14:00:00\", \"2019-10-28T14:05:00\", \"2019-10-28T14:10:00\", \"2019-10-28T14:15:00\", \"2019-10-28T14:20:00\", \"2019-10-28T14:25:00\", \"2019-10-28T14:30:00\", \"2019-10-28T14:35:00\", \"2019-10-28T14:40:00\", \"2019-10-28T14:45:00\", \"2019-10-28T14:50:00\", \"2019-10-28T14:55:00\", \"2019-10-28T15:00:00\", \"2019-10-28T15:05:00\", \"2019-10-28T15:10:00\", \"2019-10-28T15:15:00\", \"2019-10-28T15:20:00\", \"2019-10-28T15:25:00\", \"2019-10-28T15:30:00\", \"2019-10-28T15:35:00\", \"2019-10-28T15:40:00\", \"2019-10-28T15:45:00\", \"2019-10-28T15:50:00\", \"2019-10-28T15:55:00\", \"2019-10-28T16:00:00\", \"2019-10-28T16:05:00\", \"2019-10-28T16:10:00\", \"2019-10-28T16:15:00\", \"2019-10-28T16:20:00\", \"2019-10-28T16:25:00\", \"2019-10-28T16:30:00\", \"2019-10-28T16:35:00\", \"2019-10-28T16:40:00\", \"2019-10-28T16:45:00\", \"2019-10-28T16:50:00\", \"2019-10-28T16:55:00\", \"2019-10-28T17:00:00\", \"2019-10-28T17:05:00\", \"2019-10-28T17:10:00\", \"2019-10-28T17:15:00\", \"2019-10-28T17:20:00\", \"2019-10-28T17:25:00\", \"2019-10-28T17:30:00\", \"2019-10-28T17:35:00\", \"2019-10-28T17:40:00\", \"2019-10-28T17:45:00\", \"2019-10-28T17:50:00\", \"2019-10-28T17:55:00\", \"2019-10-28T18:00:00\", \"2019-10-28T18:05:00\", \"2019-10-28T18:10:00\", \"2019-10-28T18:15:00\", \"2019-10-28T18:20:00\", \"2019-10-28T18:25:00\", \"2019-10-28T18:30:00\", \"2019-10-28T18:35:00\", \"2019-10-28T18:40:00\", \"2019-10-28T18:45:00\", \"2019-10-28T18:50:00\", \"2019-10-28T18:55:00\", \"2019-10-28T19:00:00\", \"2019-10-28T19:05:00\", \"2019-10-28T19:10:00\", \"2019-10-28T19:15:00\", \"2019-10-28T19:20:00\", \"2019-10-28T19:25:00\", \"2019-10-28T19:30:00\", \"2019-10-28T19:35:00\", \"2019-10-28T19:40:00\", \"2019-10-28T19:45:00\", \"2019-10-28T19:50:00\", \"2019-10-28T19:55:00\", \"2019-10-28T20:00:00\", \"2019-10-28T20:05:00\", \"2019-10-28T20:10:00\", \"2019-10-28T20:15:00\", \"2019-10-28T20:20:00\", \"2019-10-28T20:25:00\", \"2019-10-28T20:30:00\", \"2019-10-28T20:35:00\", \"2019-10-28T20:40:00\", \"2019-10-28T20:45:00\", \"2019-10-28T20:50:00\", \"2019-10-28T20:55:00\", \"2019-10-28T21:00:00\", \"2019-10-28T21:05:00\", \"2019-10-28T21:10:00\", \"2019-10-28T21:15:00\", \"2019-10-28T21:20:00\", \"2019-10-28T21:25:00\", \"2019-10-28T21:30:00\", \"2019-10-28T21:35:00\", \"2019-10-28T21:40:00\", \"2019-10-28T21:45:00\", \"2019-10-28T21:50:00\", \"2019-10-28T21:55:00\", \"2019-10-28T22:00:00\", \"2019-10-28T22:05:00\", \"2019-10-28T22:10:00\", \"2019-10-28T22:15:00\", \"2019-10-28T22:20:00\", \"2019-10-28T22:25:00\", \"2019-10-28T22:30:00\"], \"xaxis\": \"x\", \"yaxis\": \"y\"}, {\"marker\": {\"color\": \"mediumpurple\", \"size\": 8}, \"mode\": \"markers\", \"showlegend\": false, \"type\": \"scatter\", \"x\": [\"2019-10-28T12:55:00\", \"2019-10-28T14:25:00\", \"2019-10-28T17:25:00\", \"2019-10-28T19:55:00\", \"2019-10-28T21:25:00\"], \"xaxis\": \"x\", \"y\": [1.10935, 1.10984, 1.11035, 1.11039, 1.11033], \"yaxis\": \"y\"}, {\"marker\": {\"color\": \"mediumblue\", \"size\": 8}, \"mode\": \"markers\", \"showlegend\": false, \"type\": \"scatter\", \"x\": [\"2019-10-28T13:00:00\", \"2019-10-28T15:10:00\", \"2019-10-28T18:40:00\", \"2019-10-28T21:00:00\"], \"xaxis\": \"x\", \"y\": [1.10848, 1.10869, 1.10975, 1.10998], \"yaxis\": \"y\"}, {\"marker\": {\"color\": \"green\", \"line\": {\"color\": \"black\", \"width\": 2}, \"size\": 10, \"symbol\": \"triangle-up\"}, \"mode\": \"markers\", \"showlegend\": false, \"type\": \"scatter\", \"x\": [\"2019-10-28T15:10:00\", \"2019-10-28T18:40:00\", \"2019-10-28T21:00:00\"], \"xaxis\": \"x\", \"y\": [1.10892, 1.10979, 1.11001], \"yaxis\": \"y\"}, {\"marker\": {\"color\": \"red\", \"line\": {\"color\": \"black\", \"width\": 2}, \"size\": 10, \"symbol\": \"triangle-down\"}, \"mode\": \"markers\", \"showlegend\": false, \"type\": \"scatter\", \"x\": [], \"xaxis\": \"x\", \"y\": [], \"yaxis\": \"y\"}, {\"close\": [1.18846, 1.18795, 1.18815, 1.18739, 1.18664, 1.18715, 1.18761, 1.1879, 1.18747, 1.18746, 1.1871, 1.18699, 1.18672, 1.18693, 1.18719, 1.18648, 1.18602, 1.18667, 1.18648, 1.18594, 1.18569, 1.18579, 1.18625, 1.18646, 1.18643, 1.1869, 1.18642, 1.1866, 1.18689, 1.18698, 1.18693, 1.18672, 1.18683, 1.18718, 1.18743, 1.18762, 1.18732, 1.18673, 1.18628, 1.18594, 1.18701, 1.18666, 1.18593, 1.18605, 1.18651, 1.18621, 1.1863, 1.18625, 1.1864, 1.18634, 1.18528, 1.1851, 1.18471, 1.18507, 1.18525, 1.18493, 1.18473, 1.18567, 1.18584, 1.18544, 1.18616, 1.18755, 1.18659, 1.18679, 1.18623, 1.18578, 1.18592, 1.18603, 1.18558, 1.18598, 1.18572, 1.18537, 1.18554, 1.18429, 1.18401, 1.1836, 1.1835, 1.18359, 1.18395, 1.18398, 1.18314, 1.18359, 1.18363, 1.18296, 1.18276, 1.18307, 1.18392, 1.18385, 1.18451, 1.18405, 1.18367, 1.18423, 1.18353, 1.18408, 1.18391, 1.18339, 1.18345, 1.18297, 1.18317, 1.18297, 1.1837, 1.18292, 1.18288, 1.1831, 1.18331, 1.18399, 1.18329, 1.18293, 1.18314, 1.18359, 1.18332, 1.18327, 1.18365, 1.18375, 1.18404, 1.1842, 1.18429, 1.18485, 1.18424, 1.18418, 1.18446], \"high\": [1.18871, 1.18855, 1.18832, 1.18815, 1.1875, 1.18731, 1.18771, 1.18805, 1.1879, 1.18758, 1.18765, 1.18753, 1.18726, 1.18696, 1.18742, 1.18724, 1.18649, 1.18675, 1.18674, 1.1867, 1.18598, 1.18581, 1.18639, 1.18655, 1.18666, 1.18695, 1.1869, 1.18675, 1.18695, 1.18704, 1.18712, 1.187, 1.18723, 1.18727, 1.18749, 1.18783, 1.18765, 1.1874, 1.18677, 1.18632, 1.18703, 1.18703, 1.18672, 1.18611, 1.18658, 1.18658, 1.18635, 1.18647, 1.1865, 1.18648, 1.18636, 1.18581, 1.18547, 1.18521, 1.18536, 1.18552, 1.18508, 1.1857, 1.18604, 1.18605, 1.18634, 1.18757, 1.1877, 1.18685, 1.18683, 1.18668, 1.18603, 1.18607, 1.18603, 1.18621, 1.18611, 1.18585, 1.18565, 1.18554, 1.18473, 1.1841, 1.18396, 1.1837, 1.18408, 1.1842, 1.18398, 1.18363, 1.18369, 1.18378, 1.183, 1.1831, 1.18396, 1.18402, 1.18478, 1.18463, 1.18434, 1.18438, 1.18436, 1.18427, 1.18438, 1.18403, 1.18369, 1.18346, 1.18357, 1.18329, 1.18381, 1.18372, 1.18337, 1.18337, 1.18345, 1.18402, 1.18416, 1.18335, 1.1832, 1.18367, 1.18379, 1.1834, 1.18371, 1.18381, 1.18413, 1.18437, 1.18468, 1.18501, 1.18487, 1.18444, 1.18455], \"low\": [1.18809, 1.18757, 1.18781, 1.18727, 1.18647, 1.1865, 1.18714, 1.18756, 1.18731, 1.1873, 1.18701, 1.18682, 1.1867, 1.18663, 1.18685, 1.18645, 1.18591, 1.18588, 1.18647, 1.18591, 1.1853, 1.18542, 1.18551, 1.18619, 1.18612, 1.18643, 1.18615, 1.18642, 1.18627, 1.1867, 1.18678, 1.18638, 1.18671, 1.18673, 1.18707, 1.18738, 1.18727, 1.18648, 1.18618, 1.18577, 1.18585, 1.18658, 1.18585, 1.18571, 1.18594, 1.18597, 1.18594, 1.18604, 1.18595, 1.18606, 1.1852, 1.18507, 1.18459, 1.18465, 1.18492, 1.18461, 1.18461, 1.18466, 1.1856, 1.18533, 1.18527, 1.18611, 1.18643, 1.18633, 1.18608, 1.18578, 1.18552, 1.18553, 1.18539, 1.18554, 1.18528, 1.18529, 1.18518, 1.18417, 1.18353, 1.18339, 1.18276, 1.183, 1.18348, 1.18343, 1.18314, 1.18244, 1.18303, 1.18277, 1.18226, 1.18252, 1.18297, 1.18353, 1.18376, 1.18402, 1.18361, 1.18337, 1.18349, 1.18337, 1.18373, 1.18336, 1.1833, 1.18275, 1.1829, 1.18292, 1.18291, 1.1829, 1.18281, 1.18283, 1.183, 1.1833, 1.18319, 1.18286, 1.18277, 1.18314, 1.18305, 1.18303, 1.18327, 1.18334, 1.18357, 1.18399, 1.18414, 1.18424, 1.18423, 1.18397, 1.18388], \"open\": [1.18852, 1.18846, 1.18795, 1.18815, 1.18739, 1.18664, 1.18715, 1.18761, 1.1879, 1.18747, 1.18746, 1.1871, 1.18699, 1.18672, 1.18693, 1.18719, 1.18648, 1.18602, 1.18667, 1.18648, 1.18594, 1.18569, 1.18579, 1.18625, 1.18646, 1.18643, 1.1869, 1.18642, 1.1866, 1.18689, 1.18698, 1.18693, 1.18672, 1.18683, 1.18718, 1.18743, 1.18762, 1.18732, 1.18673, 1.18628, 1.18594, 1.18701, 1.18666, 1.18593, 1.18605, 1.18651, 1.18621, 1.1863, 1.18625, 1.1864, 1.18634, 1.18528, 1.1851, 1.18471, 1.18507, 1.18525, 1.18493, 1.18473, 1.18567, 1.18584, 1.18544, 1.18616, 1.18755, 1.18659, 1.18679, 1.18623, 1.18578, 1.18592, 1.18603, 1.18558, 1.18598, 1.18572, 1.18537, 1.18554, 1.18429, 1.18401, 1.1836, 1.1835, 1.18359, 1.18395, 1.18398, 1.18314, 1.18359, 1.18363, 1.18296, 1.18276, 1.18307, 1.18392, 1.18385, 1.18451, 1.18405, 1.18367, 1.18423, 1.18353, 1.18408, 1.18391, 1.18339, 1.18345, 1.18297, 1.18317, 1.18297, 1.1837, 1.18292, 1.18288, 1.1831, 1.18331, 1.18399, 1.18329, 1.18293, 1.18314, 1.18359, 1.18332, 1.18327, 1.18365, 1.18375, 1.18404, 1.1842, 1.18429, 1.18485, 1.18424, 1.18418], \"showlegend\": false, \"type\": \"candlestick\", \"x\": [\"2020-09-02T07:10:00\", \"2020-09-02T07:15:00\", \"2020-09-02T07:20:00\", \"2020-09-02T07:25:00\", \"2020-09-02T07:30:00\", \"2020-09-02T07:35:00\", \"2020-09-02T07:40:00\", \"2020-09-02T07:45:00\", \"2020-09-02T07:50:00\", \"2020-09-02T07:55:00\", \"2020-09-02T08:00:00\", \"2020-09-02T08:05:00\", \"2020-09-02T08:10:00\", \"2020-09-02T08:15:00\", \"2020-09-02T08:20:00\", \"2020-09-02T08:25:00\", \"2020-09-02T08:30:00\", \"2020-09-02T08:35:00\", \"2020-09-02T08:40:00\", \"2020-09-02T08:45:00\", \"2020-09-02T08:50:00\", \"2020-09-02T08:55:00\", \"2020-09-02T09:00:00\", \"2020-09-02T09:05:00\", \"2020-09-02T09:10:00\", \"2020-09-02T09:15:00\", \"2020-09-02T09:20:00\", \"2020-09-02T09:25:00\", \"2020-09-02T09:30:00\", \"2020-09-02T09:35:00\", \"2020-09-02T09:40:00\", \"2020-09-02T09:45:00\", \"2020-09-02T09:50:00\", \"2020-09-02T09:55:00\", \"2020-09-02T10:00:00\", \"2020-09-02T10:05:00\", \"2020-09-02T10:10:00\", \"2020-09-02T10:15:00\", \"2020-09-02T10:20:00\", \"2020-09-02T10:25:00\", \"2020-09-02T10:30:00\", \"2020-09-02T10:35:00\", \"2020-09-02T10:40:00\", \"2020-09-02T10:45:00\", \"2020-09-02T10:50:00\", \"2020-09-02T10:55:00\", \"2020-09-02T11:00:00\", \"2020-09-02T11:05:00\", \"2020-09-02T11:10:00\", \"2020-09-02T11:15:00\", \"2020-09-02T11:20:00\", \"2020-09-02T11:25:00\", \"2020-09-02T11:30:00\", \"2020-09-02T11:35:00\", \"2020-09-02T11:40:00\", \"2020-09-02T11:45:00\", \"2020-09-02T11:50:00\", \"2020-09-02T11:55:00\", \"2020-09-02T12:00:00\", \"2020-09-02T12:05:00\", \"2020-09-02T12:10:00\", \"2020-09-02T12:15:00\", \"2020-09-02T12:20:00\", \"2020-09-02T12:25:00\", \"2020-09-02T12:30:00\", \"2020-09-02T12:35:00\", \"2020-09-02T12:40:00\", \"2020-09-02T12:45:00\", \"2020-09-02T12:50:00\", \"2020-09-02T12:55:00\", \"2020-09-02T13:00:00\", \"2020-09-02T13:05:00\", \"2020-09-02T13:10:00\", \"2020-09-02T13:15:00\", \"2020-09-02T13:20:00\", \"2020-09-02T13:25:00\", \"2020-09-02T13:30:00\", \"2020-09-02T13:35:00\", \"2020-09-02T13:40:00\", \"2020-09-02T13:45:00\", \"2020-09-02T13:50:00\", \"2020-09-02T13:55:00\", \"2020-09-02T14:00:00\", \"2020-09-02T14:05:00\", \"2020-09-02T14:10:00\", \"2020-09-02T14:15:00\", \"2020-09-02T14:20:00\", \"2020-09-02T14:25:00\", \"2020-09-02T14:30:00\", \"2020-09-02T14:35:00\", \"2020-09-02T14:40:00\", \"2020-09-02T14:45:00\", \"2020-09-02T14:50:00\", \"2020-09-02T14:55:00\", \"2020-09-02T15:00:00\", \"2020-09-02T15:05:00\", \"2020-09-02T15:10:00\", \"2020-09-02T15:15:00\", \"2020-09-02T15:20:00\", \"2020-09-02T15:25:00\", \"2020-09-02T15:30:00\", \"2020-09-02T15:35:00\", \"2020-09-02T15:40:00\", \"2020-09-02T15:45:00\", \"2020-09-02T15:50:00\", \"2020-09-02T15:55:00\", \"2020-09-02T16:00:00\", \"2020-09-02T16:05:00\", \"2020-09-02T16:10:00\", \"2020-09-02T16:15:00\", \"2020-09-02T16:20:00\", \"2020-09-02T16:25:00\", \"2020-09-02T16:30:00\", \"2020-09-02T16:35:00\", \"2020-09-02T16:40:00\", \"2020-09-02T16:45:00\", \"2020-09-02T16:50:00\", \"2020-09-02T16:55:00\", \"2020-09-02T17:00:00\", \"2020-09-02T17:05:00\", \"2020-09-02T17:10:00\"], \"xaxis\": \"x2\", \"yaxis\": \"y2\"}, {\"marker\": {\"color\": \"mediumpurple\", \"size\": 8}, \"mode\": \"markers\", \"showlegend\": false, \"type\": \"scatter\", \"x\": [\"2020-09-02T07:45:00\", \"2020-09-02T10:05:00\", \"2020-09-02T12:20:00\", \"2020-09-02T14:30:00\", \"2020-09-02T16:55:00\"], \"xaxis\": \"x2\", \"y\": [1.18805, 1.18783, 1.1877, 1.18478, 1.18501], \"yaxis\": \"y2\"}, {\"marker\": {\"color\": \"mediumblue\", \"size\": 8}, \"mode\": \"markers\", \"showlegend\": false, \"type\": \"scatter\", \"x\": [\"2020-09-02T07:30:00\", \"2020-09-02T08:50:00\", \"2020-09-02T11:50:00\", \"2020-09-02T14:10:00\", \"2020-09-02T16:10:00\"], \"xaxis\": \"x2\", \"y\": [1.18647, 1.1853, 1.18461, 1.18226, 1.18277], \"yaxis\": \"y2\"}, {\"marker\": {\"color\": \"green\", \"line\": {\"color\": \"black\", \"width\": 2}, \"size\": 10, \"symbol\": \"triangle-up\"}, \"mode\": \"markers\", \"showlegend\": false, \"type\": \"scatter\", \"x\": [\"2020-09-02T16:55:00\"], \"xaxis\": \"x2\", \"y\": [1.18485], \"yaxis\": \"y2\"}, {\"marker\": {\"color\": \"red\", \"line\": {\"color\": \"black\", \"width\": 2}, \"size\": 10, \"symbol\": \"triangle-down\"}, \"mode\": \"markers\", \"showlegend\": false, \"type\": \"scatter\", \"x\": [\"2020-09-02T10:05:00\", \"2020-09-02T12:20:00\", \"2020-09-02T14:30:00\"], \"xaxis\": \"x2\", \"y\": [1.18762, 1.18659, 1.18451], \"yaxis\": \"y2\"}],                        {\"template\": {\"data\": {\"bar\": [{\"error_x\": {\"color\": \"#2a3f5f\"}, \"error_y\": {\"color\": \"#2a3f5f\"}, \"marker\": {\"line\": {\"color\": \"#E5ECF6\", \"width\": 0.5}}, \"type\": \"bar\"}], \"barpolar\": [{\"marker\": {\"line\": {\"color\": \"#E5ECF6\", \"width\": 0.5}}, \"type\": \"barpolar\"}], \"carpet\": [{\"aaxis\": {\"endlinecolor\": \"#2a3f5f\", \"gridcolor\": \"white\", \"linecolor\": \"white\", \"minorgridcolor\": \"white\", \"startlinecolor\": \"#2a3f5f\"}, \"baxis\": {\"endlinecolor\": \"#2a3f5f\", \"gridcolor\": \"white\", \"linecolor\": \"white\", \"minorgridcolor\": \"white\", \"startlinecolor\": \"#2a3f5f\"}, \"type\": \"carpet\"}], \"choropleth\": [{\"colorbar\": {\"outlinewidth\": 0, \"ticks\": \"\"}, \"type\": \"choropleth\"}], \"contour\": [{\"colorbar\": {\"outlinewidth\": 0, \"ticks\": \"\"}, \"colorscale\": [[0.0, \"#0d0887\"], [0.1111111111111111, \"#46039f\"], [0.2222222222222222, \"#7201a8\"], [0.3333333333333333, \"#9c179e\"], [0.4444444444444444, \"#bd3786\"], [0.5555555555555556, \"#d8576b\"], [0.6666666666666666, \"#ed7953\"], [0.7777777777777778, \"#fb9f3a\"], [0.8888888888888888, \"#fdca26\"], [1.0, \"#f0f921\"]], \"type\": \"contour\"}], \"contourcarpet\": [{\"colorbar\": {\"outlinewidth\": 0, \"ticks\": \"\"}, \"type\": \"contourcarpet\"}], \"heatmap\": [{\"colorbar\": {\"outlinewidth\": 0, \"ticks\": \"\"}, \"colorscale\": [[0.0, \"#0d0887\"], [0.1111111111111111, \"#46039f\"], [0.2222222222222222, \"#7201a8\"], [0.3333333333333333, \"#9c179e\"], [0.4444444444444444, \"#bd3786\"], [0.5555555555555556, \"#d8576b\"], [0.6666666666666666, \"#ed7953\"], [0.7777777777777778, \"#fb9f3a\"], [0.8888888888888888, \"#fdca26\"], [1.0, \"#f0f921\"]], \"type\": \"heatmap\"}], \"heatmapgl\": [{\"colorbar\": {\"outlinewidth\": 0, \"ticks\": \"\"}, \"colorscale\": [[0.0, \"#0d0887\"], [0.1111111111111111, \"#46039f\"], [0.2222222222222222, \"#7201a8\"], [0.3333333333333333, \"#9c179e\"], [0.4444444444444444, \"#bd3786\"], [0.5555555555555556, \"#d8576b\"], [0.6666666666666666, \"#ed7953\"], [0.7777777777777778, \"#fb9f3a\"], [0.8888888888888888, \"#fdca26\"], [1.0, \"#f0f921\"]], \"type\": \"heatmapgl\"}], \"histogram\": [{\"marker\": {\"colorbar\": {\"outlinewidth\": 0, \"ticks\": \"\"}}, \"type\": \"histogram\"}], \"histogram2d\": [{\"colorbar\": {\"outlinewidth\": 0, \"ticks\": \"\"}, \"colorscale\": [[0.0, \"#0d0887\"], [0.1111111111111111, \"#46039f\"], [0.2222222222222222, \"#7201a8\"], [0.3333333333333333, \"#9c179e\"], [0.4444444444444444, \"#bd3786\"], [0.5555555555555556, \"#d8576b\"], [0.6666666666666666, \"#ed7953\"], [0.7777777777777778, \"#fb9f3a\"], [0.8888888888888888, \"#fdca26\"], [1.0, \"#f0f921\"]], \"type\": \"histogram2d\"}], \"histogram2dcontour\": [{\"colorbar\": {\"outlinewidth\": 0, \"ticks\": \"\"}, \"colorscale\": [[0.0, \"#0d0887\"], [0.1111111111111111, \"#46039f\"], [0.2222222222222222, \"#7201a8\"], [0.3333333333333333, \"#9c179e\"], [0.4444444444444444, \"#bd3786\"], [0.5555555555555556, \"#d8576b\"], [0.6666666666666666, \"#ed7953\"], [0.7777777777777778, \"#fb9f3a\"], [0.8888888888888888, \"#fdca26\"], [1.0, \"#f0f921\"]], \"type\": \"histogram2dcontour\"}], \"mesh3d\": [{\"colorbar\": {\"outlinewidth\": 0, \"ticks\": \"\"}, \"type\": \"mesh3d\"}], \"parcoords\": [{\"line\": {\"colorbar\": {\"outlinewidth\": 0, \"ticks\": \"\"}}, \"type\": \"parcoords\"}], \"pie\": [{\"automargin\": true, \"type\": \"pie\"}], \"scatter\": [{\"marker\": {\"colorbar\": {\"outlinewidth\": 0, \"ticks\": \"\"}}, \"type\": \"scatter\"}], \"scatter3d\": [{\"line\": {\"colorbar\": {\"outlinewidth\": 0, \"ticks\": \"\"}}, \"marker\": {\"colorbar\": {\"outlinewidth\": 0, \"ticks\": \"\"}}, \"type\": \"scatter3d\"}], \"scattercarpet\": [{\"marker\": {\"colorbar\": {\"outlinewidth\": 0, \"ticks\": \"\"}}, \"type\": \"scattercarpet\"}], \"scattergeo\": [{\"marker\": {\"colorbar\": {\"outlinewidth\": 0, \"ticks\": \"\"}}, \"type\": \"scattergeo\"}], \"scattergl\": [{\"marker\": {\"colorbar\": {\"outlinewidth\": 0, \"ticks\": \"\"}}, \"type\": \"scattergl\"}], \"scattermapbox\": [{\"marker\": {\"colorbar\": {\"outlinewidth\": 0, \"ticks\": \"\"}}, \"type\": \"scattermapbox\"}], \"scatterpolar\": [{\"marker\": {\"colorbar\": {\"outlinewidth\": 0, \"ticks\": \"\"}}, \"type\": \"scatterpolar\"}], \"scatterpolargl\": [{\"marker\": {\"colorbar\": {\"outlinewidth\": 0, \"ticks\": \"\"}}, \"type\": \"scatterpolargl\"}], \"scatterternary\": [{\"marker\": {\"colorbar\": {\"outlinewidth\": 0, \"ticks\": \"\"}}, \"type\": \"scatterternary\"}], \"surface\": [{\"colorbar\": {\"outlinewidth\": 0, \"ticks\": \"\"}, \"colorscale\": [[0.0, \"#0d0887\"], [0.1111111111111111, \"#46039f\"], [0.2222222222222222, \"#7201a8\"], [0.3333333333333333, \"#9c179e\"], [0.4444444444444444, \"#bd3786\"], [0.5555555555555556, \"#d8576b\"], [0.6666666666666666, \"#ed7953\"], [0.7777777777777778, \"#fb9f3a\"], [0.8888888888888888, \"#fdca26\"], [1.0, \"#f0f921\"]], \"type\": \"surface\"}], \"table\": [{\"cells\": {\"fill\": {\"color\": \"#EBF0F8\"}, \"line\": {\"color\": \"white\"}}, \"header\": {\"fill\": {\"color\": \"#C8D4E3\"}, \"line\": {\"color\": \"white\"}}, \"type\": \"table\"}]}, \"layout\": {\"annotationdefaults\": {\"arrowcolor\": \"#2a3f5f\", \"arrowhead\": 0, \"arrowwidth\": 1}, \"coloraxis\": {\"colorbar\": {\"outlinewidth\": 0, \"ticks\": \"\"}}, \"colorscale\": {\"diverging\": [[0, \"#8e0152\"], [0.1, \"#c51b7d\"], [0.2, \"#de77ae\"], [0.3, \"#f1b6da\"], [0.4, \"#fde0ef\"], [0.5, \"#f7f7f7\"], [0.6, \"#e6f5d0\"], [0.7, \"#b8e186\"], [0.8, \"#7fbc41\"], [0.9, \"#4d9221\"], [1, \"#276419\"]], \"sequential\": [[0.0, \"#0d0887\"], [0.1111111111111111, \"#46039f\"], [0.2222222222222222, \"#7201a8\"], [0.3333333333333333, \"#9c179e\"], [0.4444444444444444, \"#bd3786\"], [0.5555555555555556, \"#d8576b\"], [0.6666666666666666, \"#ed7953\"], [0.7777777777777778, \"#fb9f3a\"], [0.8888888888888888, \"#fdca26\"], [1.0, \"#f0f921\"]], \"sequentialminus\": [[0.0, \"#0d0887\"], [0.1111111111111111, \"#46039f\"], [0.2222222222222222, \"#7201a8\"], [0.3333333333333333, \"#9c179e\"], [0.4444444444444444, \"#bd3786\"], [0.5555555555555556, \"#d8576b\"], [0.6666666666666666, \"#ed7953\"], [0.7777777777777778, \"#fb9f3a\"], [0.8888888888888888, \"#fdca26\"], [1.0, \"#f0f921\"]]}, \"colorway\": [\"#636efa\", \"#EF553B\", \"#00cc96\", \"#ab63fa\", \"#FFA15A\", \"#19d3f3\", \"#FF6692\", \"#B6E880\", \"#FF97FF\", \"#FECB52\"], \"font\": {\"color\": \"#2a3f5f\"}, \"geo\": {\"bgcolor\": \"white\", \"lakecolor\": \"white\", \"landcolor\": \"#E5ECF6\", \"showlakes\": true, \"showland\": true, \"subunitcolor\": \"white\"}, \"hoverlabel\": {\"align\": \"left\"}, \"hovermode\": \"closest\", \"mapbox\": {\"style\": \"light\"}, \"paper_bgcolor\": \"white\", \"plot_bgcolor\": \"#E5ECF6\", \"polar\": {\"angularaxis\": {\"gridcolor\": \"white\", \"linecolor\": \"white\", \"ticks\": \"\"}, \"bgcolor\": \"#E5ECF6\", \"radialaxis\": {\"gridcolor\": \"white\", \"linecolor\": \"white\", \"ticks\": \"\"}}, \"scene\": {\"xaxis\": {\"backgroundcolor\": \"#E5ECF6\", \"gridcolor\": \"white\", \"gridwidth\": 2, \"linecolor\": \"white\", \"showbackground\": true, \"ticks\": \"\", \"zerolinecolor\": \"white\"}, \"yaxis\": {\"backgroundcolor\": \"#E5ECF6\", \"gridcolor\": \"white\", \"gridwidth\": 2, \"linecolor\": \"white\", \"showbackground\": true, \"ticks\": \"\", \"zerolinecolor\": \"white\"}, \"zaxis\": {\"backgroundcolor\": \"#E5ECF6\", \"gridcolor\": \"white\", \"gridwidth\": 2, \"linecolor\": \"white\", \"showbackground\": true, \"ticks\": \"\", \"zerolinecolor\": \"white\"}}, \"shapedefaults\": {\"line\": {\"color\": \"#2a3f5f\"}}, \"ternary\": {\"aaxis\": {\"gridcolor\": \"white\", \"linecolor\": \"white\", \"ticks\": \"\"}, \"baxis\": {\"gridcolor\": \"white\", \"linecolor\": \"white\", \"ticks\": \"\"}, \"bgcolor\": \"#E5ECF6\", \"caxis\": {\"gridcolor\": \"white\", \"linecolor\": \"white\", \"ticks\": \"\"}}, \"title\": {\"x\": 0.05}, \"xaxis\": {\"automargin\": true, \"gridcolor\": \"white\", \"linecolor\": \"white\", \"ticks\": \"\", \"title\": {\"standoff\": 15}, \"zerolinecolor\": \"white\", \"zerolinewidth\": 2}, \"yaxis\": {\"automargin\": true, \"gridcolor\": \"white\", \"linecolor\": \"white\", \"ticks\": \"\", \"title\": {\"standoff\": 15}, \"zerolinecolor\": \"white\", \"zerolinewidth\": 2}}}, \"xaxis\": {\"anchor\": \"y\", \"domain\": [0.0, 0.45], \"rangeslider\": {\"visible\": false}}, \"xaxis2\": {\"anchor\": \"y2\", \"domain\": [0.55, 1.0], \"rangeslider\": {\"visible\": false}}, \"yaxis\": {\"anchor\": \"x\", \"domain\": [0.0, 1.0]}, \"yaxis2\": {\"anchor\": \"x2\", \"domain\": [0.0, 1.0]}},                        {\"responsive\": true}                    ).then(function(){\n",
       "                            \n",
       "var gd = document.getElementById('51f009e6-bb75-42fd-bd4a-068e96e57ffb');\n",
       "var x = new MutationObserver(function (mutations, observer) {{\n",
       "        var display = window.getComputedStyle(gd).display;\n",
       "        if (!display || display === 'none') {{\n",
       "            console.log([gd, 'removed!']);\n",
       "            Plotly.purge(gd);\n",
       "            observer.disconnect();\n",
       "        }}\n",
       "}});\n",
       "\n",
       "// Listen for the removal of the full notebook cells\n",
       "var notebookContainer = gd.closest('#notebook-container');\n",
       "if (notebookContainer) {{\n",
       "    x.observe(notebookContainer, {childList: true});\n",
       "}}\n",
       "\n",
       "// Listen for the clearing of the current output cell\n",
       "var outputEl = gd.closest('.output');\n",
       "if (outputEl) {{\n",
       "    x.observe(outputEl, {childList: true});\n",
       "}}\n",
       "\n",
       "                        })                };                });            </script>        </div>"
      ]
     },
     "metadata": {},
     "output_type": "display_data"
    },
    {
     "data": {
      "application/vnd.plotly.v1+json": {
       "config": {
        "plotlyServerURL": "https://plot.ly"
       },
       "data": [
        {
         "close": [
          1.08481,
          1.08478,
          1.08478,
          1.08483,
          1.08492,
          1.08485,
          1.08486,
          1.08488,
          1.08489,
          1.08489,
          1.08488,
          1.08486,
          1.08486,
          1.08488,
          1.08484,
          1.08485,
          1.08473,
          1.08474,
          1.08473,
          1.08474,
          1.08491,
          1.08495,
          1.08495,
          1.08502,
          1.08517,
          1.08491,
          1.08496,
          1.08504,
          1.08515,
          1.08516,
          1.0851,
          1.08524,
          1.08507,
          1.08495,
          1.08492,
          1.08491,
          1.08482,
          1.08484,
          1.08483,
          1.08493,
          1.08492,
          1.08506,
          1.08501,
          1.08463,
          1.08488,
          1.08483,
          1.08485,
          1.08474,
          1.08531,
          1.08543,
          1.08544,
          1.08529,
          1.08573,
          1.08557,
          1.0856,
          1.08556,
          1.08569,
          1.08558,
          1.08548,
          1.08539,
          1.08551,
          1.08549,
          1.08548,
          1.08546,
          1.0853,
          1.08527,
          1.08538,
          1.0856,
          1.08493,
          1.085,
          1.08527,
          1.08525,
          1.0853,
          1.08512,
          1.08502,
          1.08514,
          1.08503,
          1.08504,
          1.08515,
          1.08514,
          1.08524,
          1.08521,
          1.08516,
          1.085,
          1.08494,
          1.08509,
          1.08508,
          1.08516,
          1.08508,
          1.08504,
          1.08505,
          1.08515,
          1.0849,
          1.08476,
          1.08471,
          1.0846,
          1.08448,
          1.08455,
          1.08465,
          1.0847,
          1.08488,
          1.085,
          1.08479,
          1.085,
          1.08494,
          1.0849,
          1.08474,
          1.08477,
          1.08498,
          1.08491,
          1.08524,
          1.08533,
          1.0852,
          1.0851,
          1.08506,
          1.08503,
          1.08508,
          1.08521,
          1.08555,
          1.08544,
          1.0856
         ],
         "high": [
          1.08497,
          1.08487,
          1.08484,
          1.08484,
          1.08493,
          1.08492,
          1.08491,
          1.08495,
          1.08493,
          1.08552,
          1.0849,
          1.08488,
          1.08488,
          1.08488,
          1.08488,
          1.08487,
          1.08495,
          1.08474,
          1.08476,
          1.08476,
          1.08495,
          1.08495,
          1.085,
          1.08511,
          1.08519,
          1.08522,
          1.08499,
          1.08515,
          1.08525,
          1.08525,
          1.08516,
          1.08525,
          1.08525,
          1.0851,
          1.085,
          1.08504,
          1.08491,
          1.08488,
          1.08491,
          1.08494,
          1.08498,
          1.08507,
          1.08508,
          1.08501,
          1.08491,
          1.08505,
          1.08489,
          1.08485,
          1.08538,
          1.08543,
          1.08549,
          1.08544,
          1.08573,
          1.08579,
          1.08571,
          1.0857,
          1.08573,
          1.08574,
          1.08565,
          1.08549,
          1.08555,
          1.0856,
          1.08566,
          1.08556,
          1.08558,
          1.08533,
          1.0856,
          1.08564,
          1.08568,
          1.08512,
          1.08529,
          1.08537,
          1.08531,
          1.08534,
          1.08513,
          1.08516,
          1.08521,
          1.08509,
          1.08516,
          1.08524,
          1.08529,
          1.08529,
          1.08526,
          1.08525,
          1.08504,
          1.08517,
          1.08516,
          1.08519,
          1.08516,
          1.08511,
          1.0851,
          1.08522,
          1.08515,
          1.08503,
          1.08481,
          1.08473,
          1.0846,
          1.08462,
          1.08466,
          1.08476,
          1.08498,
          1.08505,
          1.085,
          1.08507,
          1.08511,
          1.08506,
          1.08494,
          1.08479,
          1.08498,
          1.08502,
          1.08525,
          1.08533,
          1.08547,
          1.08522,
          1.08514,
          1.08509,
          1.08509,
          1.08525,
          1.08562,
          1.08555,
          1.08564
         ],
         "low": [
          1.08478,
          1.08477,
          1.08476,
          1.08476,
          1.08476,
          1.08477,
          1.08478,
          1.08486,
          1.08478,
          1.08486,
          1.08488,
          1.08483,
          1.08479,
          1.08486,
          1.08481,
          1.08481,
          1.08473,
          1.0847,
          1.08473,
          1.08472,
          1.08474,
          1.08487,
          1.08478,
          1.08491,
          1.08502,
          1.08491,
          1.08484,
          1.08494,
          1.085,
          1.08515,
          1.08504,
          1.0851,
          1.08502,
          1.08489,
          1.08491,
          1.0849,
          1.08479,
          1.0848,
          1.08479,
          1.08478,
          1.0849,
          1.08484,
          1.08494,
          1.0846,
          1.08454,
          1.08482,
          1.08481,
          1.08463,
          1.08473,
          1.08521,
          1.08535,
          1.08521,
          1.08529,
          1.08556,
          1.0855,
          1.08551,
          1.0855,
          1.08556,
          1.08546,
          1.08538,
          1.08535,
          1.08541,
          1.08546,
          1.08542,
          1.08529,
          1.08518,
          1.08525,
          1.08535,
          1.08478,
          1.08486,
          1.08495,
          1.08516,
          1.08515,
          1.0851,
          1.08494,
          1.08499,
          1.08503,
          1.08491,
          1.08495,
          1.08506,
          1.08504,
          1.0851,
          1.08511,
          1.085,
          1.08483,
          1.08488,
          1.08503,
          1.08503,
          1.08504,
          1.08503,
          1.08503,
          1.08505,
          1.0849,
          1.08475,
          1.08467,
          1.08446,
          1.08445,
          1.08446,
          1.08451,
          1.08464,
          1.08467,
          1.08477,
          1.08476,
          1.08478,
          1.08494,
          1.0849,
          1.08471,
          1.08455,
          1.08474,
          1.08485,
          1.08488,
          1.0851,
          1.08519,
          1.08508,
          1.08498,
          1.0849,
          1.08455,
          1.085,
          1.0851,
          1.08531,
          1.08535
         ],
         "open": [
          1.08492,
          1.08481,
          1.08478,
          1.08478,
          1.08483,
          1.08492,
          1.08485,
          1.08486,
          1.08488,
          1.08489,
          1.08489,
          1.08488,
          1.08486,
          1.08486,
          1.08488,
          1.08484,
          1.08485,
          1.08473,
          1.08474,
          1.08473,
          1.08474,
          1.08491,
          1.08495,
          1.08495,
          1.08502,
          1.08517,
          1.08491,
          1.08496,
          1.08504,
          1.08515,
          1.08516,
          1.0851,
          1.08524,
          1.08507,
          1.08495,
          1.08492,
          1.08491,
          1.08482,
          1.08484,
          1.08483,
          1.08493,
          1.08492,
          1.08506,
          1.08501,
          1.08463,
          1.08488,
          1.08483,
          1.08485,
          1.08474,
          1.08531,
          1.08543,
          1.08544,
          1.08529,
          1.08573,
          1.08557,
          1.0856,
          1.08556,
          1.08569,
          1.08558,
          1.08548,
          1.08539,
          1.08551,
          1.08549,
          1.08548,
          1.08546,
          1.0853,
          1.08527,
          1.08538,
          1.0856,
          1.08493,
          1.085,
          1.08527,
          1.08525,
          1.0853,
          1.08512,
          1.08502,
          1.08514,
          1.08503,
          1.08504,
          1.08515,
          1.08514,
          1.08524,
          1.08521,
          1.08516,
          1.085,
          1.08494,
          1.08509,
          1.08508,
          1.08516,
          1.08508,
          1.08504,
          1.08505,
          1.08515,
          1.0849,
          1.08476,
          1.08471,
          1.0846,
          1.08448,
          1.08455,
          1.08465,
          1.0847,
          1.08488,
          1.085,
          1.08479,
          1.085,
          1.08494,
          1.0849,
          1.08474,
          1.08477,
          1.08498,
          1.08491,
          1.08524,
          1.08533,
          1.0852,
          1.0851,
          1.08506,
          1.08503,
          1.08508,
          1.08521,
          1.08555,
          1.08544
         ],
         "showlegend": false,
         "type": "candlestick",
         "x": [
          "2020-05-12T20:15:00",
          "2020-05-12T20:20:00",
          "2020-05-12T20:25:00",
          "2020-05-12T20:30:00",
          "2020-05-12T20:35:00",
          "2020-05-12T20:40:00",
          "2020-05-12T20:45:00",
          "2020-05-12T20:50:00",
          "2020-05-12T20:55:00",
          "2020-05-12T21:00:00",
          "2020-05-12T21:10:00",
          "2020-05-12T21:15:00",
          "2020-05-12T21:20:00",
          "2020-05-12T21:25:00",
          "2020-05-12T21:30:00",
          "2020-05-12T21:35:00",
          "2020-05-12T21:40:00",
          "2020-05-12T21:45:00",
          "2020-05-12T21:50:00",
          "2020-05-12T21:55:00",
          "2020-05-12T22:00:00",
          "2020-05-12T22:05:00",
          "2020-05-12T22:10:00",
          "2020-05-12T22:15:00",
          "2020-05-12T22:20:00",
          "2020-05-12T22:25:00",
          "2020-05-12T22:30:00",
          "2020-05-12T22:35:00",
          "2020-05-12T22:40:00",
          "2020-05-12T22:45:00",
          "2020-05-12T22:50:00",
          "2020-05-12T22:55:00",
          "2020-05-12T23:00:00",
          "2020-05-12T23:05:00",
          "2020-05-12T23:10:00",
          "2020-05-12T23:15:00",
          "2020-05-12T23:20:00",
          "2020-05-12T23:25:00",
          "2020-05-12T23:30:00",
          "2020-05-12T23:35:00",
          "2020-05-12T23:40:00",
          "2020-05-12T23:45:00",
          "2020-05-12T23:50:00",
          "2020-05-12T23:55:00",
          "2020-05-13T00:00:00",
          "2020-05-13T00:05:00",
          "2020-05-13T00:10:00",
          "2020-05-13T00:15:00",
          "2020-05-13T00:20:00",
          "2020-05-13T00:25:00",
          "2020-05-13T00:30:00",
          "2020-05-13T00:35:00",
          "2020-05-13T00:40:00",
          "2020-05-13T00:45:00",
          "2020-05-13T00:50:00",
          "2020-05-13T00:55:00",
          "2020-05-13T01:00:00",
          "2020-05-13T01:05:00",
          "2020-05-13T01:10:00",
          "2020-05-13T01:15:00",
          "2020-05-13T01:20:00",
          "2020-05-13T01:25:00",
          "2020-05-13T01:30:00",
          "2020-05-13T01:35:00",
          "2020-05-13T01:40:00",
          "2020-05-13T01:45:00",
          "2020-05-13T01:50:00",
          "2020-05-13T01:55:00",
          "2020-05-13T02:00:00",
          "2020-05-13T02:05:00",
          "2020-05-13T02:10:00",
          "2020-05-13T02:15:00",
          "2020-05-13T02:20:00",
          "2020-05-13T02:25:00",
          "2020-05-13T02:30:00",
          "2020-05-13T02:35:00",
          "2020-05-13T02:40:00",
          "2020-05-13T02:45:00",
          "2020-05-13T02:50:00",
          "2020-05-13T02:55:00",
          "2020-05-13T03:00:00",
          "2020-05-13T03:05:00",
          "2020-05-13T03:10:00",
          "2020-05-13T03:15:00",
          "2020-05-13T03:20:00",
          "2020-05-13T03:25:00",
          "2020-05-13T03:30:00",
          "2020-05-13T03:35:00",
          "2020-05-13T03:40:00",
          "2020-05-13T03:45:00",
          "2020-05-13T03:50:00",
          "2020-05-13T03:55:00",
          "2020-05-13T04:00:00",
          "2020-05-13T04:05:00",
          "2020-05-13T04:10:00",
          "2020-05-13T04:15:00",
          "2020-05-13T04:20:00",
          "2020-05-13T04:25:00",
          "2020-05-13T04:30:00",
          "2020-05-13T04:35:00",
          "2020-05-13T04:40:00",
          "2020-05-13T04:45:00",
          "2020-05-13T04:50:00",
          "2020-05-13T04:55:00",
          "2020-05-13T05:00:00",
          "2020-05-13T05:05:00",
          "2020-05-13T05:10:00",
          "2020-05-13T05:15:00",
          "2020-05-13T05:20:00",
          "2020-05-13T05:25:00",
          "2020-05-13T05:30:00",
          "2020-05-13T05:35:00",
          "2020-05-13T05:40:00",
          "2020-05-13T05:45:00",
          "2020-05-13T05:50:00",
          "2020-05-13T05:55:00",
          "2020-05-13T06:00:00",
          "2020-05-13T06:05:00",
          "2020-05-13T06:10:00",
          "2020-05-13T06:15:00",
          "2020-05-13T06:20:00"
         ],
         "xaxis": "x",
         "yaxis": "y"
        },
        {
         "marker": {
          "color": "mediumpurple",
          "size": 8
         },
         "mode": "markers",
         "showlegend": false,
         "type": "scatter",
         "x": [
          "2020-05-12T21:00:00",
          "2020-05-12T22:40:00",
          "2020-05-12T23:50:00",
          "2020-05-13T00:45:00",
          "2020-05-13T03:00:00",
          "2020-05-13T03:55:00",
          "2020-05-13T05:00:00",
          "2020-05-13T06:10:00"
         ],
         "xaxis": "x",
         "y": [
          1.08552,
          1.08525,
          1.08508,
          1.08579,
          1.08529,
          1.08522,
          1.08511,
          1.08562
         ],
         "yaxis": "y"
        },
        {
         "marker": {
          "color": "mediumblue",
          "size": 8
         },
         "mode": "markers",
         "showlegend": false,
         "type": "scatter",
         "x": [
          "2020-05-12T20:35:00",
          "2020-05-12T21:45:00",
          "2020-05-13T00:15:00",
          "2020-05-13T02:45:00",
          "2020-05-13T03:20:00",
          "2020-05-13T04:20:00",
          "2020-05-13T06:00:00"
         ],
         "xaxis": "x",
         "y": [
          1.08476,
          1.0847,
          1.08463,
          1.08491,
          1.08483,
          1.08445,
          1.08455
         ],
         "yaxis": "y"
        },
        {
         "marker": {
          "color": "green",
          "line": {
           "color": "black",
           "width": 2
          },
          "size": 10,
          "symbol": "triangle-up"
         },
         "mode": "markers",
         "showlegend": false,
         "type": "scatter",
         "x": [
          "2020-05-13T02:45:00"
         ],
         "xaxis": "x",
         "y": [
          1.08504
         ],
         "yaxis": "y"
        },
        {
         "marker": {
          "color": "red",
          "line": {
           "color": "black",
           "width": 2
          },
          "size": 10,
          "symbol": "triangle-down"
         },
         "mode": "markers",
         "showlegend": false,
         "type": "scatter",
         "x": [
          "2020-05-12T22:40:00",
          "2020-05-13T00:15:00",
          "2020-05-13T03:20:00",
          "2020-05-13T04:20:00"
         ],
         "xaxis": "x",
         "y": [
          1.08515,
          1.08474,
          1.08494,
          1.08448
         ],
         "yaxis": "y"
        },
        {
         "close": [
          1.10911,
          1.10909,
          1.10899,
          1.10891,
          1.1089,
          1.10886,
          1.10893,
          1.10894,
          1.10902,
          1.10901,
          1.10895,
          1.10904,
          1.10897,
          1.10882,
          1.10868,
          1.10873,
          1.10858,
          1.10846,
          1.10855,
          1.10865,
          1.10868,
          1.10866,
          1.10856,
          1.10838,
          1.10842,
          1.10849,
          1.10846,
          1.10842,
          1.1084,
          1.10839,
          1.10821,
          1.10804,
          1.10822,
          1.1081,
          1.10836,
          1.1085,
          1.10844,
          1.10854,
          1.10848,
          1.10849,
          1.10845,
          1.10845,
          1.10848,
          1.10849,
          1.10856,
          1.10866,
          1.10852,
          1.10875,
          1.10856,
          1.1084,
          1.10843,
          1.10847,
          1.10857,
          1.10858,
          1.10823,
          1.10824,
          1.10803,
          1.10805,
          1.10794,
          1.10834,
          1.10849,
          1.10824,
          1.10828,
          1.10838,
          1.10825,
          1.10821,
          1.10813,
          1.10827,
          1.10822,
          1.10848,
          1.10838,
          1.10846,
          1.10837,
          1.10835,
          1.10825,
          1.10797,
          1.10801,
          1.10786,
          1.10799,
          1.10798,
          1.10774,
          1.10788,
          1.10787,
          1.10787,
          1.10766,
          1.10737,
          1.10729,
          1.10764,
          1.10748,
          1.10753,
          1.10772,
          1.10811,
          1.10795,
          1.10842,
          1.10871,
          1.10849,
          1.10851,
          1.10891,
          1.10859,
          1.10875,
          1.109,
          1.10932,
          1.10955,
          1.10954,
          1.10944,
          1.10934,
          1.10929,
          1.1095,
          1.10904,
          1.10927,
          1.10915,
          1.10887,
          1.10905,
          1.10922,
          1.10927,
          1.10936,
          1.10932,
          1.10927,
          1.10907,
          1.10863,
          1.10892
         ],
         "high": [
          1.10915,
          1.10911,
          1.10911,
          1.109,
          1.10898,
          1.10896,
          1.10901,
          1.10895,
          1.10902,
          1.10902,
          1.10905,
          1.10904,
          1.10907,
          1.10902,
          1.10884,
          1.1088,
          1.10878,
          1.1086,
          1.10859,
          1.10867,
          1.10873,
          1.10875,
          1.10866,
          1.10857,
          1.10851,
          1.10851,
          1.10851,
          1.10854,
          1.10846,
          1.10845,
          1.10849,
          1.10822,
          1.10824,
          1.1083,
          1.10839,
          1.10862,
          1.10861,
          1.10856,
          1.10858,
          1.10853,
          1.10864,
          1.10852,
          1.1085,
          1.10865,
          1.1086,
          1.10872,
          1.1087,
          1.10876,
          1.10877,
          1.10857,
          1.10847,
          1.10853,
          1.10876,
          1.10863,
          1.10863,
          1.1084,
          1.10824,
          1.10819,
          1.10819,
          1.10834,
          1.1085,
          1.1086,
          1.10844,
          1.10853,
          1.10847,
          1.10829,
          1.10821,
          1.10829,
          1.10833,
          1.10854,
          1.10849,
          1.10858,
          1.10847,
          1.10837,
          1.10835,
          1.10825,
          1.10807,
          1.10804,
          1.10801,
          1.10803,
          1.10799,
          1.10795,
          1.10794,
          1.10793,
          1.10787,
          1.10777,
          1.10742,
          1.10769,
          1.10773,
          1.10755,
          1.10784,
          1.10812,
          1.10825,
          1.10842,
          1.10873,
          1.10877,
          1.1086,
          1.1091,
          1.10896,
          1.10881,
          1.10903,
          1.10935,
          1.10974,
          1.10981,
          1.10955,
          1.10949,
          1.1096,
          1.10958,
          1.10957,
          1.10927,
          1.10942,
          1.1092,
          1.1091,
          1.10929,
          1.10941,
          1.10942,
          1.10954,
          1.10949,
          1.10928,
          1.10912,
          1.109
         ],
         "low": [
          1.10906,
          1.10905,
          1.10887,
          1.10889,
          1.10885,
          1.10885,
          1.10885,
          1.10884,
          1.10893,
          1.10889,
          1.1089,
          1.10889,
          1.10896,
          1.10876,
          1.10862,
          1.10859,
          1.1085,
          1.10844,
          1.10845,
          1.10854,
          1.10859,
          1.10859,
          1.10849,
          1.10834,
          1.10836,
          1.10838,
          1.10833,
          1.10824,
          1.10836,
          1.10833,
          1.10816,
          1.108,
          1.10803,
          1.1081,
          1.1081,
          1.10824,
          1.10841,
          1.10829,
          1.10838,
          1.10827,
          1.10845,
          1.1084,
          1.10833,
          1.10846,
          1.10839,
          1.10855,
          1.10851,
          1.10849,
          1.10856,
          1.10826,
          1.1083,
          1.10829,
          1.10845,
          1.1085,
          1.10822,
          1.1082,
          1.10797,
          1.10798,
          1.10792,
          1.10794,
          1.10829,
          1.10821,
          1.10818,
          1.10819,
          1.10816,
          1.10817,
          1.10803,
          1.1081,
          1.10818,
          1.10822,
          1.10838,
          1.10838,
          1.10835,
          1.10822,
          1.10808,
          1.10795,
          1.10794,
          1.10777,
          1.10783,
          1.10796,
          1.10773,
          1.10772,
          1.10776,
          1.10782,
          1.10765,
          1.10736,
          1.10709,
          1.10729,
          1.10742,
          1.10737,
          1.10753,
          1.10769,
          1.10784,
          1.10791,
          1.10837,
          1.10847,
          1.10843,
          1.1085,
          1.10858,
          1.10859,
          1.10875,
          1.10897,
          1.10929,
          1.10947,
          1.10932,
          1.10928,
          1.10928,
          1.10915,
          1.10898,
          1.10888,
          1.1091,
          1.10876,
          1.10886,
          1.10892,
          1.1091,
          1.10918,
          1.10922,
          1.10927,
          1.109,
          1.10862,
          1.10862
         ],
         "open": [
          1.10911,
          1.10911,
          1.10909,
          1.10899,
          1.10891,
          1.1089,
          1.10886,
          1.10893,
          1.10894,
          1.10902,
          1.10901,
          1.10895,
          1.10904,
          1.10897,
          1.10882,
          1.10868,
          1.10873,
          1.10858,
          1.10846,
          1.10855,
          1.10865,
          1.10868,
          1.10866,
          1.10856,
          1.10838,
          1.10842,
          1.10849,
          1.10846,
          1.10842,
          1.1084,
          1.10839,
          1.10821,
          1.10804,
          1.10822,
          1.1081,
          1.10836,
          1.1085,
          1.10844,
          1.10854,
          1.10848,
          1.10849,
          1.10845,
          1.10845,
          1.10848,
          1.10849,
          1.10856,
          1.10866,
          1.10852,
          1.10875,
          1.10856,
          1.1084,
          1.10843,
          1.10847,
          1.10857,
          1.10858,
          1.10823,
          1.10824,
          1.10803,
          1.10805,
          1.10794,
          1.10834,
          1.10849,
          1.10824,
          1.10828,
          1.10838,
          1.10825,
          1.10821,
          1.10813,
          1.10827,
          1.10822,
          1.10848,
          1.10838,
          1.10846,
          1.10837,
          1.10835,
          1.10825,
          1.10797,
          1.10801,
          1.10786,
          1.10799,
          1.10798,
          1.10774,
          1.10788,
          1.10787,
          1.10787,
          1.10766,
          1.10737,
          1.10729,
          1.10764,
          1.10748,
          1.10753,
          1.10772,
          1.10811,
          1.10795,
          1.10842,
          1.10871,
          1.10849,
          1.10851,
          1.10891,
          1.10859,
          1.10875,
          1.109,
          1.10932,
          1.10955,
          1.10954,
          1.10944,
          1.10934,
          1.10929,
          1.1095,
          1.10904,
          1.10927,
          1.10915,
          1.10887,
          1.10905,
          1.10922,
          1.10927,
          1.10936,
          1.10932,
          1.10927,
          1.10907,
          1.10863
         ],
         "showlegend": false,
         "type": "candlestick",
         "x": [
          "2019-12-11T05:45:00",
          "2019-12-11T05:50:00",
          "2019-12-11T05:55:00",
          "2019-12-11T06:00:00",
          "2019-12-11T06:05:00",
          "2019-12-11T06:10:00",
          "2019-12-11T06:15:00",
          "2019-12-11T06:20:00",
          "2019-12-11T06:25:00",
          "2019-12-11T06:30:00",
          "2019-12-11T06:35:00",
          "2019-12-11T06:40:00",
          "2019-12-11T06:45:00",
          "2019-12-11T06:50:00",
          "2019-12-11T06:55:00",
          "2019-12-11T07:00:00",
          "2019-12-11T07:05:00",
          "2019-12-11T07:10:00",
          "2019-12-11T07:15:00",
          "2019-12-11T07:20:00",
          "2019-12-11T07:25:00",
          "2019-12-11T07:30:00",
          "2019-12-11T07:35:00",
          "2019-12-11T07:40:00",
          "2019-12-11T07:45:00",
          "2019-12-11T07:50:00",
          "2019-12-11T07:55:00",
          "2019-12-11T08:00:00",
          "2019-12-11T08:05:00",
          "2019-12-11T08:10:00",
          "2019-12-11T08:15:00",
          "2019-12-11T08:20:00",
          "2019-12-11T08:25:00",
          "2019-12-11T08:30:00",
          "2019-12-11T08:35:00",
          "2019-12-11T08:40:00",
          "2019-12-11T08:45:00",
          "2019-12-11T08:50:00",
          "2019-12-11T08:55:00",
          "2019-12-11T09:00:00",
          "2019-12-11T09:05:00",
          "2019-12-11T09:10:00",
          "2019-12-11T09:15:00",
          "2019-12-11T09:20:00",
          "2019-12-11T09:25:00",
          "2019-12-11T09:30:00",
          "2019-12-11T09:35:00",
          "2019-12-11T09:40:00",
          "2019-12-11T09:45:00",
          "2019-12-11T09:50:00",
          "2019-12-11T09:55:00",
          "2019-12-11T10:00:00",
          "2019-12-11T10:05:00",
          "2019-12-11T10:10:00",
          "2019-12-11T10:15:00",
          "2019-12-11T10:20:00",
          "2019-12-11T10:25:00",
          "2019-12-11T10:30:00",
          "2019-12-11T10:35:00",
          "2019-12-11T10:40:00",
          "2019-12-11T10:45:00",
          "2019-12-11T10:50:00",
          "2019-12-11T10:55:00",
          "2019-12-11T11:00:00",
          "2019-12-11T11:05:00",
          "2019-12-11T11:10:00",
          "2019-12-11T11:15:00",
          "2019-12-11T11:20:00",
          "2019-12-11T11:25:00",
          "2019-12-11T11:30:00",
          "2019-12-11T11:35:00",
          "2019-12-11T11:40:00",
          "2019-12-11T11:45:00",
          "2019-12-11T11:50:00",
          "2019-12-11T11:55:00",
          "2019-12-11T12:00:00",
          "2019-12-11T12:05:00",
          "2019-12-11T12:10:00",
          "2019-12-11T12:15:00",
          "2019-12-11T12:20:00",
          "2019-12-11T12:25:00",
          "2019-12-11T12:30:00",
          "2019-12-11T12:35:00",
          "2019-12-11T12:40:00",
          "2019-12-11T12:45:00",
          "2019-12-11T12:50:00",
          "2019-12-11T12:55:00",
          "2019-12-11T13:00:00",
          "2019-12-11T13:05:00",
          "2019-12-11T13:10:00",
          "2019-12-11T13:15:00",
          "2019-12-11T13:20:00",
          "2019-12-11T13:25:00",
          "2019-12-11T13:30:00",
          "2019-12-11T13:35:00",
          "2019-12-11T13:40:00",
          "2019-12-11T13:45:00",
          "2019-12-11T13:50:00",
          "2019-12-11T13:55:00",
          "2019-12-11T14:00:00",
          "2019-12-11T14:05:00",
          "2019-12-11T14:10:00",
          "2019-12-11T14:15:00",
          "2019-12-11T14:20:00",
          "2019-12-11T14:25:00",
          "2019-12-11T14:30:00",
          "2019-12-11T14:35:00",
          "2019-12-11T14:40:00",
          "2019-12-11T14:45:00",
          "2019-12-11T14:50:00",
          "2019-12-11T14:55:00",
          "2019-12-11T15:00:00",
          "2019-12-11T15:05:00",
          "2019-12-11T15:10:00",
          "2019-12-11T15:15:00",
          "2019-12-11T15:20:00",
          "2019-12-11T15:25:00",
          "2019-12-11T15:30:00",
          "2019-12-11T15:35:00",
          "2019-12-11T15:40:00",
          "2019-12-11T15:45:00"
         ],
         "xaxis": "x2",
         "yaxis": "y2"
        },
        {
         "marker": {
          "color": "mediumpurple",
          "size": 8
         },
         "mode": "markers",
         "showlegend": false,
         "type": "scatter",
         "x": [
          "2019-12-11T05:55:00",
          "2019-12-11T07:30:00",
          "2019-12-11T08:40:00",
          "2019-12-11T09:45:00",
          "2019-12-11T10:50:00",
          "2019-12-11T11:40:00",
          "2019-12-11T14:20:00"
         ],
         "xaxis": "x2",
         "y": [
          1.10911,
          1.10875,
          1.10862,
          1.10877,
          1.1086,
          1.10858,
          1.10981
         ],
         "yaxis": "y2"
        },
        {
         "marker": {
          "color": "mediumblue",
          "size": 8
         },
         "mode": "markers",
         "showlegend": false,
         "type": "scatter",
         "x": [
          "2019-12-11T07:10:00",
          "2019-12-11T08:20:00",
          "2019-12-11T09:15:00",
          "2019-12-11T10:35:00",
          "2019-12-11T11:15:00",
          "2019-12-11T12:55:00",
          "2019-12-11T15:40:00"
         ],
         "xaxis": "x2",
         "y": [
          1.10844,
          1.108,
          1.10833,
          1.10792,
          1.10803,
          1.10709,
          1.10862
         ],
         "yaxis": "y2"
        },
        {
         "marker": {
          "color": "green",
          "line": {
           "color": "black",
           "width": 2
          },
          "size": 10,
          "symbol": "triangle-up"
         },
         "mode": "markers",
         "showlegend": false,
         "type": "scatter",
         "x": [
          "2019-12-11T15:40:00"
         ],
         "xaxis": "x2",
         "y": [
          1.10863
         ],
         "yaxis": "y2"
        },
        {
         "marker": {
          "color": "red",
          "line": {
           "color": "black",
           "width": 2
          },
          "size": 10,
          "symbol": "triangle-down"
         },
         "mode": "markers",
         "showlegend": false,
         "type": "scatter",
         "x": [
          "2019-12-11T08:20:00"
         ],
         "xaxis": "x2",
         "y": [
          1.10804
         ],
         "yaxis": "y2"
        }
       ],
       "layout": {
        "autosize": true,
        "template": {
         "data": {
          "bar": [
           {
            "error_x": {
             "color": "#2a3f5f"
            },
            "error_y": {
             "color": "#2a3f5f"
            },
            "marker": {
             "line": {
              "color": "#E5ECF6",
              "width": 0.5
             }
            },
            "type": "bar"
           }
          ],
          "barpolar": [
           {
            "marker": {
             "line": {
              "color": "#E5ECF6",
              "width": 0.5
             }
            },
            "type": "barpolar"
           }
          ],
          "carpet": [
           {
            "aaxis": {
             "endlinecolor": "#2a3f5f",
             "gridcolor": "white",
             "linecolor": "white",
             "minorgridcolor": "white",
             "startlinecolor": "#2a3f5f"
            },
            "baxis": {
             "endlinecolor": "#2a3f5f",
             "gridcolor": "white",
             "linecolor": "white",
             "minorgridcolor": "white",
             "startlinecolor": "#2a3f5f"
            },
            "type": "carpet"
           }
          ],
          "choropleth": [
           {
            "colorbar": {
             "outlinewidth": 0,
             "ticks": ""
            },
            "type": "choropleth"
           }
          ],
          "contour": [
           {
            "colorbar": {
             "outlinewidth": 0,
             "ticks": ""
            },
            "colorscale": [
             [
              0,
              "#0d0887"
             ],
             [
              0.1111111111111111,
              "#46039f"
             ],
             [
              0.2222222222222222,
              "#7201a8"
             ],
             [
              0.3333333333333333,
              "#9c179e"
             ],
             [
              0.4444444444444444,
              "#bd3786"
             ],
             [
              0.5555555555555556,
              "#d8576b"
             ],
             [
              0.6666666666666666,
              "#ed7953"
             ],
             [
              0.7777777777777778,
              "#fb9f3a"
             ],
             [
              0.8888888888888888,
              "#fdca26"
             ],
             [
              1,
              "#f0f921"
             ]
            ],
            "type": "contour"
           }
          ],
          "contourcarpet": [
           {
            "colorbar": {
             "outlinewidth": 0,
             "ticks": ""
            },
            "type": "contourcarpet"
           }
          ],
          "heatmap": [
           {
            "colorbar": {
             "outlinewidth": 0,
             "ticks": ""
            },
            "colorscale": [
             [
              0,
              "#0d0887"
             ],
             [
              0.1111111111111111,
              "#46039f"
             ],
             [
              0.2222222222222222,
              "#7201a8"
             ],
             [
              0.3333333333333333,
              "#9c179e"
             ],
             [
              0.4444444444444444,
              "#bd3786"
             ],
             [
              0.5555555555555556,
              "#d8576b"
             ],
             [
              0.6666666666666666,
              "#ed7953"
             ],
             [
              0.7777777777777778,
              "#fb9f3a"
             ],
             [
              0.8888888888888888,
              "#fdca26"
             ],
             [
              1,
              "#f0f921"
             ]
            ],
            "type": "heatmap"
           }
          ],
          "heatmapgl": [
           {
            "colorbar": {
             "outlinewidth": 0,
             "ticks": ""
            },
            "colorscale": [
             [
              0,
              "#0d0887"
             ],
             [
              0.1111111111111111,
              "#46039f"
             ],
             [
              0.2222222222222222,
              "#7201a8"
             ],
             [
              0.3333333333333333,
              "#9c179e"
             ],
             [
              0.4444444444444444,
              "#bd3786"
             ],
             [
              0.5555555555555556,
              "#d8576b"
             ],
             [
              0.6666666666666666,
              "#ed7953"
             ],
             [
              0.7777777777777778,
              "#fb9f3a"
             ],
             [
              0.8888888888888888,
              "#fdca26"
             ],
             [
              1,
              "#f0f921"
             ]
            ],
            "type": "heatmapgl"
           }
          ],
          "histogram": [
           {
            "marker": {
             "colorbar": {
              "outlinewidth": 0,
              "ticks": ""
             }
            },
            "type": "histogram"
           }
          ],
          "histogram2d": [
           {
            "colorbar": {
             "outlinewidth": 0,
             "ticks": ""
            },
            "colorscale": [
             [
              0,
              "#0d0887"
             ],
             [
              0.1111111111111111,
              "#46039f"
             ],
             [
              0.2222222222222222,
              "#7201a8"
             ],
             [
              0.3333333333333333,
              "#9c179e"
             ],
             [
              0.4444444444444444,
              "#bd3786"
             ],
             [
              0.5555555555555556,
              "#d8576b"
             ],
             [
              0.6666666666666666,
              "#ed7953"
             ],
             [
              0.7777777777777778,
              "#fb9f3a"
             ],
             [
              0.8888888888888888,
              "#fdca26"
             ],
             [
              1,
              "#f0f921"
             ]
            ],
            "type": "histogram2d"
           }
          ],
          "histogram2dcontour": [
           {
            "colorbar": {
             "outlinewidth": 0,
             "ticks": ""
            },
            "colorscale": [
             [
              0,
              "#0d0887"
             ],
             [
              0.1111111111111111,
              "#46039f"
             ],
             [
              0.2222222222222222,
              "#7201a8"
             ],
             [
              0.3333333333333333,
              "#9c179e"
             ],
             [
              0.4444444444444444,
              "#bd3786"
             ],
             [
              0.5555555555555556,
              "#d8576b"
             ],
             [
              0.6666666666666666,
              "#ed7953"
             ],
             [
              0.7777777777777778,
              "#fb9f3a"
             ],
             [
              0.8888888888888888,
              "#fdca26"
             ],
             [
              1,
              "#f0f921"
             ]
            ],
            "type": "histogram2dcontour"
           }
          ],
          "mesh3d": [
           {
            "colorbar": {
             "outlinewidth": 0,
             "ticks": ""
            },
            "type": "mesh3d"
           }
          ],
          "parcoords": [
           {
            "line": {
             "colorbar": {
              "outlinewidth": 0,
              "ticks": ""
             }
            },
            "type": "parcoords"
           }
          ],
          "pie": [
           {
            "automargin": true,
            "type": "pie"
           }
          ],
          "scatter": [
           {
            "marker": {
             "colorbar": {
              "outlinewidth": 0,
              "ticks": ""
             }
            },
            "type": "scatter"
           }
          ],
          "scatter3d": [
           {
            "line": {
             "colorbar": {
              "outlinewidth": 0,
              "ticks": ""
             }
            },
            "marker": {
             "colorbar": {
              "outlinewidth": 0,
              "ticks": ""
             }
            },
            "type": "scatter3d"
           }
          ],
          "scattercarpet": [
           {
            "marker": {
             "colorbar": {
              "outlinewidth": 0,
              "ticks": ""
             }
            },
            "type": "scattercarpet"
           }
          ],
          "scattergeo": [
           {
            "marker": {
             "colorbar": {
              "outlinewidth": 0,
              "ticks": ""
             }
            },
            "type": "scattergeo"
           }
          ],
          "scattergl": [
           {
            "marker": {
             "colorbar": {
              "outlinewidth": 0,
              "ticks": ""
             }
            },
            "type": "scattergl"
           }
          ],
          "scattermapbox": [
           {
            "marker": {
             "colorbar": {
              "outlinewidth": 0,
              "ticks": ""
             }
            },
            "type": "scattermapbox"
           }
          ],
          "scatterpolar": [
           {
            "marker": {
             "colorbar": {
              "outlinewidth": 0,
              "ticks": ""
             }
            },
            "type": "scatterpolar"
           }
          ],
          "scatterpolargl": [
           {
            "marker": {
             "colorbar": {
              "outlinewidth": 0,
              "ticks": ""
             }
            },
            "type": "scatterpolargl"
           }
          ],
          "scatterternary": [
           {
            "marker": {
             "colorbar": {
              "outlinewidth": 0,
              "ticks": ""
             }
            },
            "type": "scatterternary"
           }
          ],
          "surface": [
           {
            "colorbar": {
             "outlinewidth": 0,
             "ticks": ""
            },
            "colorscale": [
             [
              0,
              "#0d0887"
             ],
             [
              0.1111111111111111,
              "#46039f"
             ],
             [
              0.2222222222222222,
              "#7201a8"
             ],
             [
              0.3333333333333333,
              "#9c179e"
             ],
             [
              0.4444444444444444,
              "#bd3786"
             ],
             [
              0.5555555555555556,
              "#d8576b"
             ],
             [
              0.6666666666666666,
              "#ed7953"
             ],
             [
              0.7777777777777778,
              "#fb9f3a"
             ],
             [
              0.8888888888888888,
              "#fdca26"
             ],
             [
              1,
              "#f0f921"
             ]
            ],
            "type": "surface"
           }
          ],
          "table": [
           {
            "cells": {
             "fill": {
              "color": "#EBF0F8"
             },
             "line": {
              "color": "white"
             }
            },
            "header": {
             "fill": {
              "color": "#C8D4E3"
             },
             "line": {
              "color": "white"
             }
            },
            "type": "table"
           }
          ]
         },
         "layout": {
          "annotationdefaults": {
           "arrowcolor": "#2a3f5f",
           "arrowhead": 0,
           "arrowwidth": 1
          },
          "coloraxis": {
           "colorbar": {
            "outlinewidth": 0,
            "ticks": ""
           }
          },
          "colorscale": {
           "diverging": [
            [
             0,
             "#8e0152"
            ],
            [
             0.1,
             "#c51b7d"
            ],
            [
             0.2,
             "#de77ae"
            ],
            [
             0.3,
             "#f1b6da"
            ],
            [
             0.4,
             "#fde0ef"
            ],
            [
             0.5,
             "#f7f7f7"
            ],
            [
             0.6,
             "#e6f5d0"
            ],
            [
             0.7,
             "#b8e186"
            ],
            [
             0.8,
             "#7fbc41"
            ],
            [
             0.9,
             "#4d9221"
            ],
            [
             1,
             "#276419"
            ]
           ],
           "sequential": [
            [
             0,
             "#0d0887"
            ],
            [
             0.1111111111111111,
             "#46039f"
            ],
            [
             0.2222222222222222,
             "#7201a8"
            ],
            [
             0.3333333333333333,
             "#9c179e"
            ],
            [
             0.4444444444444444,
             "#bd3786"
            ],
            [
             0.5555555555555556,
             "#d8576b"
            ],
            [
             0.6666666666666666,
             "#ed7953"
            ],
            [
             0.7777777777777778,
             "#fb9f3a"
            ],
            [
             0.8888888888888888,
             "#fdca26"
            ],
            [
             1,
             "#f0f921"
            ]
           ],
           "sequentialminus": [
            [
             0,
             "#0d0887"
            ],
            [
             0.1111111111111111,
             "#46039f"
            ],
            [
             0.2222222222222222,
             "#7201a8"
            ],
            [
             0.3333333333333333,
             "#9c179e"
            ],
            [
             0.4444444444444444,
             "#bd3786"
            ],
            [
             0.5555555555555556,
             "#d8576b"
            ],
            [
             0.6666666666666666,
             "#ed7953"
            ],
            [
             0.7777777777777778,
             "#fb9f3a"
            ],
            [
             0.8888888888888888,
             "#fdca26"
            ],
            [
             1,
             "#f0f921"
            ]
           ]
          },
          "colorway": [
           "#636efa",
           "#EF553B",
           "#00cc96",
           "#ab63fa",
           "#FFA15A",
           "#19d3f3",
           "#FF6692",
           "#B6E880",
           "#FF97FF",
           "#FECB52"
          ],
          "font": {
           "color": "#2a3f5f"
          },
          "geo": {
           "bgcolor": "white",
           "lakecolor": "white",
           "landcolor": "#E5ECF6",
           "showlakes": true,
           "showland": true,
           "subunitcolor": "white"
          },
          "hoverlabel": {
           "align": "left"
          },
          "hovermode": "closest",
          "mapbox": {
           "style": "light"
          },
          "paper_bgcolor": "white",
          "plot_bgcolor": "#E5ECF6",
          "polar": {
           "angularaxis": {
            "gridcolor": "white",
            "linecolor": "white",
            "ticks": ""
           },
           "bgcolor": "#E5ECF6",
           "radialaxis": {
            "gridcolor": "white",
            "linecolor": "white",
            "ticks": ""
           }
          },
          "scene": {
           "xaxis": {
            "backgroundcolor": "#E5ECF6",
            "gridcolor": "white",
            "gridwidth": 2,
            "linecolor": "white",
            "showbackground": true,
            "ticks": "",
            "zerolinecolor": "white"
           },
           "yaxis": {
            "backgroundcolor": "#E5ECF6",
            "gridcolor": "white",
            "gridwidth": 2,
            "linecolor": "white",
            "showbackground": true,
            "ticks": "",
            "zerolinecolor": "white"
           },
           "zaxis": {
            "backgroundcolor": "#E5ECF6",
            "gridcolor": "white",
            "gridwidth": 2,
            "linecolor": "white",
            "showbackground": true,
            "ticks": "",
            "zerolinecolor": "white"
           }
          },
          "shapedefaults": {
           "line": {
            "color": "#2a3f5f"
           }
          },
          "ternary": {
           "aaxis": {
            "gridcolor": "white",
            "linecolor": "white",
            "ticks": ""
           },
           "baxis": {
            "gridcolor": "white",
            "linecolor": "white",
            "ticks": ""
           },
           "bgcolor": "#E5ECF6",
           "caxis": {
            "gridcolor": "white",
            "linecolor": "white",
            "ticks": ""
           }
          },
          "title": {
           "x": 0.05
          },
          "xaxis": {
           "automargin": true,
           "gridcolor": "white",
           "linecolor": "white",
           "ticks": "",
           "title": {
            "standoff": 15
           },
           "zerolinecolor": "white",
           "zerolinewidth": 2
          },
          "yaxis": {
           "automargin": true,
           "gridcolor": "white",
           "linecolor": "white",
           "ticks": "",
           "title": {
            "standoff": 15
           },
           "zerolinecolor": "white",
           "zerolinewidth": 2
          }
         }
        },
        "xaxis": {
         "anchor": "y",
         "autorange": true,
         "domain": [
          0,
          0.45
         ],
         "range": [
          "2020-05-12 19:56:15.4668",
          "2020-05-13 06:48:44.5332"
         ],
         "rangeslider": {
          "visible": false,
          "yaxis": {}
         },
         "type": "date"
        },
        "xaxis2": {
         "anchor": "y2",
         "autorange": true,
         "domain": [
          0.55,
          1
         ],
         "range": [
          "2019-12-11 05:15:28.7326",
          "2019-12-11 16:21:04.8824"
         ],
         "rangeslider": {
          "visible": false,
          "yaxis2": {}
         },
         "type": "date"
        },
        "yaxis": {
         "anchor": "x",
         "autorange": true,
         "domain": [
          0,
          1
         ],
         "range": [
          1.0843436051502144,
          1.0858963948497855
         ],
         "type": "linear"
        },
        "yaxis2": {
         "anchor": "x2",
         "autorange": true,
         "domain": [
          0,
          1
         ],
         "range": [
          1.1068740343347638,
          1.110025965665236
         ],
         "type": "linear"
        }
       }
      },
      "image/png": "[encoded data removed]",
      "text/html": [
       "<div>                            <div id=\"15d85229-b0eb-4258-b554-2d2aca07ab60\" class=\"plotly-graph-div\" style=\"height:525px; width:100%;\"></div>            <script type=\"text/javascript\">                require([\"plotly\"], function(Plotly) {                    window.PLOTLYENV=window.PLOTLYENV || {};                                    if (document.getElementById(\"15d85229-b0eb-4258-b554-2d2aca07ab60\")) {                    Plotly.newPlot(                        \"15d85229-b0eb-4258-b554-2d2aca07ab60\",                        [{\"close\": [1.08481, 1.08478, 1.08478, 1.08483, 1.08492, 1.08485, 1.08486, 1.08488, 1.08489, 1.08489, 1.08488, 1.08486, 1.08486, 1.08488, 1.08484, 1.08485, 1.08473, 1.08474, 1.08473, 1.08474, 1.08491, 1.08495, 1.08495, 1.08502, 1.08517, 1.08491, 1.08496, 1.08504, 1.08515, 1.08516, 1.0851, 1.08524, 1.08507, 1.08495, 1.08492, 1.08491, 1.08482, 1.08484, 1.08483, 1.08493, 1.08492, 1.08506, 1.08501, 1.08463, 1.08488, 1.08483, 1.08485, 1.08474, 1.08531, 1.08543, 1.08544, 1.08529, 1.08573, 1.08557, 1.0856, 1.08556, 1.08569, 1.08558, 1.08548, 1.08539, 1.08551, 1.08549, 1.08548, 1.08546, 1.0853, 1.08527, 1.08538, 1.0856, 1.08493, 1.085, 1.08527, 1.08525, 1.0853, 1.08512, 1.08502, 1.08514, 1.08503, 1.08504, 1.08515, 1.08514, 1.08524, 1.08521, 1.08516, 1.085, 1.08494, 1.08509, 1.08508, 1.08516, 1.08508, 1.08504, 1.08505, 1.08515, 1.0849, 1.08476, 1.08471, 1.0846, 1.08448, 1.08455, 1.08465, 1.0847, 1.08488, 1.085, 1.08479, 1.085, 1.08494, 1.0849, 1.08474, 1.08477, 1.08498, 1.08491, 1.08524, 1.08533, 1.0852, 1.0851, 1.08506, 1.08503, 1.08508, 1.08521, 1.08555, 1.08544, 1.0856], \"high\": [1.08497, 1.08487, 1.08484, 1.08484, 1.08493, 1.08492, 1.08491, 1.08495, 1.08493, 1.08552, 1.0849, 1.08488, 1.08488, 1.08488, 1.08488, 1.08487, 1.08495, 1.08474, 1.08476, 1.08476, 1.08495, 1.08495, 1.085, 1.08511, 1.08519, 1.08522, 1.08499, 1.08515, 1.08525, 1.08525, 1.08516, 1.08525, 1.08525, 1.0851, 1.085, 1.08504, 1.08491, 1.08488, 1.08491, 1.08494, 1.08498, 1.08507, 1.08508, 1.08501, 1.08491, 1.08505, 1.08489, 1.08485, 1.08538, 1.08543, 1.08549, 1.08544, 1.08573, 1.08579, 1.08571, 1.0857, 1.08573, 1.08574, 1.08565, 1.08549, 1.08555, 1.0856, 1.08566, 1.08556, 1.08558, 1.08533, 1.0856, 1.08564, 1.08568, 1.08512, 1.08529, 1.08537, 1.08531, 1.08534, 1.08513, 1.08516, 1.08521, 1.08509, 1.08516, 1.08524, 1.08529, 1.08529, 1.08526, 1.08525, 1.08504, 1.08517, 1.08516, 1.08519, 1.08516, 1.08511, 1.0851, 1.08522, 1.08515, 1.08503, 1.08481, 1.08473, 1.0846, 1.08462, 1.08466, 1.08476, 1.08498, 1.08505, 1.085, 1.08507, 1.08511, 1.08506, 1.08494, 1.08479, 1.08498, 1.08502, 1.08525, 1.08533, 1.08547, 1.08522, 1.08514, 1.08509, 1.08509, 1.08525, 1.08562, 1.08555, 1.08564], \"low\": [1.08478, 1.08477, 1.08476, 1.08476, 1.08476, 1.08477, 1.08478, 1.08486, 1.08478, 1.08486, 1.08488, 1.08483, 1.08479, 1.08486, 1.08481, 1.08481, 1.08473, 1.0847, 1.08473, 1.08472, 1.08474, 1.08487, 1.08478, 1.08491, 1.08502, 1.08491, 1.08484, 1.08494, 1.085, 1.08515, 1.08504, 1.0851, 1.08502, 1.08489, 1.08491, 1.0849, 1.08479, 1.0848, 1.08479, 1.08478, 1.0849, 1.08484, 1.08494, 1.0846, 1.08454, 1.08482, 1.08481, 1.08463, 1.08473, 1.08521, 1.08535, 1.08521, 1.08529, 1.08556, 1.0855, 1.08551, 1.0855, 1.08556, 1.08546, 1.08538, 1.08535, 1.08541, 1.08546, 1.08542, 1.08529, 1.08518, 1.08525, 1.08535, 1.08478, 1.08486, 1.08495, 1.08516, 1.08515, 1.0851, 1.08494, 1.08499, 1.08503, 1.08491, 1.08495, 1.08506, 1.08504, 1.0851, 1.08511, 1.085, 1.08483, 1.08488, 1.08503, 1.08503, 1.08504, 1.08503, 1.08503, 1.08505, 1.0849, 1.08475, 1.08467, 1.08446, 1.08445, 1.08446, 1.08451, 1.08464, 1.08467, 1.08477, 1.08476, 1.08478, 1.08494, 1.0849, 1.08471, 1.08455, 1.08474, 1.08485, 1.08488, 1.0851, 1.08519, 1.08508, 1.08498, 1.0849, 1.08455, 1.085, 1.0851, 1.08531, 1.08535], \"open\": [1.08492, 1.08481, 1.08478, 1.08478, 1.08483, 1.08492, 1.08485, 1.08486, 1.08488, 1.08489, 1.08489, 1.08488, 1.08486, 1.08486, 1.08488, 1.08484, 1.08485, 1.08473, 1.08474, 1.08473, 1.08474, 1.08491, 1.08495, 1.08495, 1.08502, 1.08517, 1.08491, 1.08496, 1.08504, 1.08515, 1.08516, 1.0851, 1.08524, 1.08507, 1.08495, 1.08492, 1.08491, 1.08482, 1.08484, 1.08483, 1.08493, 1.08492, 1.08506, 1.08501, 1.08463, 1.08488, 1.08483, 1.08485, 1.08474, 1.08531, 1.08543, 1.08544, 1.08529, 1.08573, 1.08557, 1.0856, 1.08556, 1.08569, 1.08558, 1.08548, 1.08539, 1.08551, 1.08549, 1.08548, 1.08546, 1.0853, 1.08527, 1.08538, 1.0856, 1.08493, 1.085, 1.08527, 1.08525, 1.0853, 1.08512, 1.08502, 1.08514, 1.08503, 1.08504, 1.08515, 1.08514, 1.08524, 1.08521, 1.08516, 1.085, 1.08494, 1.08509, 1.08508, 1.08516, 1.08508, 1.08504, 1.08505, 1.08515, 1.0849, 1.08476, 1.08471, 1.0846, 1.08448, 1.08455, 1.08465, 1.0847, 1.08488, 1.085, 1.08479, 1.085, 1.08494, 1.0849, 1.08474, 1.08477, 1.08498, 1.08491, 1.08524, 1.08533, 1.0852, 1.0851, 1.08506, 1.08503, 1.08508, 1.08521, 1.08555, 1.08544], \"showlegend\": false, \"type\": \"candlestick\", \"x\": [\"2020-05-12T20:15:00\", \"2020-05-12T20:20:00\", \"2020-05-12T20:25:00\", \"2020-05-12T20:30:00\", \"2020-05-12T20:35:00\", \"2020-05-12T20:40:00\", \"2020-05-12T20:45:00\", \"2020-05-12T20:50:00\", \"2020-05-12T20:55:00\", \"2020-05-12T21:00:00\", \"2020-05-12T21:10:00\", \"2020-05-12T21:15:00\", \"2020-05-12T21:20:00\", \"2020-05-12T21:25:00\", \"2020-05-12T21:30:00\", \"2020-05-12T21:35:00\", \"2020-05-12T21:40:00\", \"2020-05-12T21:45:00\", \"2020-05-12T21:50:00\", \"2020-05-12T21:55:00\", \"2020-05-12T22:00:00\", \"2020-05-12T22:05:00\", \"2020-05-12T22:10:00\", \"2020-05-12T22:15:00\", \"2020-05-12T22:20:00\", \"2020-05-12T22:25:00\", \"2020-05-12T22:30:00\", \"2020-05-12T22:35:00\", \"2020-05-12T22:40:00\", \"2020-05-12T22:45:00\", \"2020-05-12T22:50:00\", \"2020-05-12T22:55:00\", \"2020-05-12T23:00:00\", \"2020-05-12T23:05:00\", \"2020-05-12T23:10:00\", \"2020-05-12T23:15:00\", \"2020-05-12T23:20:00\", \"2020-05-12T23:25:00\", \"2020-05-12T23:30:00\", \"2020-05-12T23:35:00\", \"2020-05-12T23:40:00\", \"2020-05-12T23:45:00\", \"2020-05-12T23:50:00\", \"2020-05-12T23:55:00\", \"2020-05-13T00:00:00\", \"2020-05-13T00:05:00\", \"2020-05-13T00:10:00\", \"2020-05-13T00:15:00\", \"2020-05-13T00:20:00\", \"2020-05-13T00:25:00\", \"2020-05-13T00:30:00\", \"2020-05-13T00:35:00\", \"2020-05-13T00:40:00\", \"2020-05-13T00:45:00\", \"2020-05-13T00:50:00\", \"2020-05-13T00:55:00\", \"2020-05-13T01:00:00\", \"2020-05-13T01:05:00\", \"2020-05-13T01:10:00\", \"2020-05-13T01:15:00\", \"2020-05-13T01:20:00\", \"2020-05-13T01:25:00\", \"2020-05-13T01:30:00\", \"2020-05-13T01:35:00\", \"2020-05-13T01:40:00\", \"2020-05-13T01:45:00\", \"2020-05-13T01:50:00\", \"2020-05-13T01:55:00\", \"2020-05-13T02:00:00\", \"2020-05-13T02:05:00\", \"2020-05-13T02:10:00\", \"2020-05-13T02:15:00\", \"2020-05-13T02:20:00\", \"2020-05-13T02:25:00\", \"2020-05-13T02:30:00\", \"2020-05-13T02:35:00\", \"2020-05-13T02:40:00\", \"2020-05-13T02:45:00\", \"2020-05-13T02:50:00\", \"2020-05-13T02:55:00\", \"2020-05-13T03:00:00\", \"2020-05-13T03:05:00\", \"2020-05-13T03:10:00\", \"2020-05-13T03:15:00\", \"2020-05-13T03:20:00\", \"2020-05-13T03:25:00\", \"2020-05-13T03:30:00\", \"2020-05-13T03:35:00\", \"2020-05-13T03:40:00\", \"2020-05-13T03:45:00\", \"2020-05-13T03:50:00\", \"2020-05-13T03:55:00\", \"2020-05-13T04:00:00\", \"2020-05-13T04:05:00\", \"2020-05-13T04:10:00\", \"2020-05-13T04:15:00\", \"2020-05-13T04:20:00\", \"2020-05-13T04:25:00\", \"2020-05-13T04:30:00\", \"2020-05-13T04:35:00\", \"2020-05-13T04:40:00\", \"2020-05-13T04:45:00\", \"2020-05-13T04:50:00\", \"2020-05-13T04:55:00\", \"2020-05-13T05:00:00\", \"2020-05-13T05:05:00\", \"2020-05-13T05:10:00\", \"2020-05-13T05:15:00\", \"2020-05-13T05:20:00\", \"2020-05-13T05:25:00\", \"2020-05-13T05:30:00\", \"2020-05-13T05:35:00\", \"2020-05-13T05:40:00\", \"2020-05-13T05:45:00\", \"2020-05-13T05:50:00\", \"2020-05-13T05:55:00\", \"2020-05-13T06:00:00\", \"2020-05-13T06:05:00\", \"2020-05-13T06:10:00\", \"2020-05-13T06:15:00\", \"2020-05-13T06:20:00\"], \"xaxis\": \"x\", \"yaxis\": \"y\"}, {\"marker\": {\"color\": \"mediumpurple\", \"size\": 8}, \"mode\": \"markers\", \"showlegend\": false, \"type\": \"scatter\", \"x\": [\"2020-05-12T21:00:00\", \"2020-05-12T22:40:00\", \"2020-05-12T23:50:00\", \"2020-05-13T00:45:00\", \"2020-05-13T03:00:00\", \"2020-05-13T03:55:00\", \"2020-05-13T05:00:00\", \"2020-05-13T06:10:00\"], \"xaxis\": \"x\", \"y\": [1.08552, 1.08525, 1.08508, 1.08579, 1.08529, 1.08522, 1.08511, 1.08562], \"yaxis\": \"y\"}, {\"marker\": {\"color\": \"mediumblue\", \"size\": 8}, \"mode\": \"markers\", \"showlegend\": false, \"type\": \"scatter\", \"x\": [\"2020-05-12T20:35:00\", \"2020-05-12T21:45:00\", \"2020-05-13T00:15:00\", \"2020-05-13T02:45:00\", \"2020-05-13T03:20:00\", \"2020-05-13T04:20:00\", \"2020-05-13T06:00:00\"], \"xaxis\": \"x\", \"y\": [1.08476, 1.0847, 1.08463, 1.08491, 1.08483, 1.08445, 1.08455], \"yaxis\": \"y\"}, {\"marker\": {\"color\": \"green\", \"line\": {\"color\": \"black\", \"width\": 2}, \"size\": 10, \"symbol\": \"triangle-up\"}, \"mode\": \"markers\", \"showlegend\": false, \"type\": \"scatter\", \"x\": [\"2020-05-13T02:45:00\"], \"xaxis\": \"x\", \"y\": [1.08504], \"yaxis\": \"y\"}, {\"marker\": {\"color\": \"red\", \"line\": {\"color\": \"black\", \"width\": 2}, \"size\": 10, \"symbol\": \"triangle-down\"}, \"mode\": \"markers\", \"showlegend\": false, \"type\": \"scatter\", \"x\": [\"2020-05-12T22:40:00\", \"2020-05-13T00:15:00\", \"2020-05-13T03:20:00\", \"2020-05-13T04:20:00\"], \"xaxis\": \"x\", \"y\": [1.08515, 1.08474, 1.08494, 1.08448], \"yaxis\": \"y\"}, {\"close\": [1.10911, 1.10909, 1.10899, 1.10891, 1.1089, 1.10886, 1.10893, 1.10894, 1.10902, 1.10901, 1.10895, 1.10904, 1.10897, 1.10882, 1.10868, 1.10873, 1.10858, 1.10846, 1.10855, 1.10865, 1.10868, 1.10866, 1.10856, 1.10838, 1.10842, 1.10849, 1.10846, 1.10842, 1.1084, 1.10839, 1.10821, 1.10804, 1.10822, 1.1081, 1.10836, 1.1085, 1.10844, 1.10854, 1.10848, 1.10849, 1.10845, 1.10845, 1.10848, 1.10849, 1.10856, 1.10866, 1.10852, 1.10875, 1.10856, 1.1084, 1.10843, 1.10847, 1.10857, 1.10858, 1.10823, 1.10824, 1.10803, 1.10805, 1.10794, 1.10834, 1.10849, 1.10824, 1.10828, 1.10838, 1.10825, 1.10821, 1.10813, 1.10827, 1.10822, 1.10848, 1.10838, 1.10846, 1.10837, 1.10835, 1.10825, 1.10797, 1.10801, 1.10786, 1.10799, 1.10798, 1.10774, 1.10788, 1.10787, 1.10787, 1.10766, 1.10737, 1.10729, 1.10764, 1.10748, 1.10753, 1.10772, 1.10811, 1.10795, 1.10842, 1.10871, 1.10849, 1.10851, 1.10891, 1.10859, 1.10875, 1.109, 1.10932, 1.10955, 1.10954, 1.10944, 1.10934, 1.10929, 1.1095, 1.10904, 1.10927, 1.10915, 1.10887, 1.10905, 1.10922, 1.10927, 1.10936, 1.10932, 1.10927, 1.10907, 1.10863, 1.10892], \"high\": [1.10915, 1.10911, 1.10911, 1.109, 1.10898, 1.10896, 1.10901, 1.10895, 1.10902, 1.10902, 1.10905, 1.10904, 1.10907, 1.10902, 1.10884, 1.1088, 1.10878, 1.1086, 1.10859, 1.10867, 1.10873, 1.10875, 1.10866, 1.10857, 1.10851, 1.10851, 1.10851, 1.10854, 1.10846, 1.10845, 1.10849, 1.10822, 1.10824, 1.1083, 1.10839, 1.10862, 1.10861, 1.10856, 1.10858, 1.10853, 1.10864, 1.10852, 1.1085, 1.10865, 1.1086, 1.10872, 1.1087, 1.10876, 1.10877, 1.10857, 1.10847, 1.10853, 1.10876, 1.10863, 1.10863, 1.1084, 1.10824, 1.10819, 1.10819, 1.10834, 1.1085, 1.1086, 1.10844, 1.10853, 1.10847, 1.10829, 1.10821, 1.10829, 1.10833, 1.10854, 1.10849, 1.10858, 1.10847, 1.10837, 1.10835, 1.10825, 1.10807, 1.10804, 1.10801, 1.10803, 1.10799, 1.10795, 1.10794, 1.10793, 1.10787, 1.10777, 1.10742, 1.10769, 1.10773, 1.10755, 1.10784, 1.10812, 1.10825, 1.10842, 1.10873, 1.10877, 1.1086, 1.1091, 1.10896, 1.10881, 1.10903, 1.10935, 1.10974, 1.10981, 1.10955, 1.10949, 1.1096, 1.10958, 1.10957, 1.10927, 1.10942, 1.1092, 1.1091, 1.10929, 1.10941, 1.10942, 1.10954, 1.10949, 1.10928, 1.10912, 1.109], \"low\": [1.10906, 1.10905, 1.10887, 1.10889, 1.10885, 1.10885, 1.10885, 1.10884, 1.10893, 1.10889, 1.1089, 1.10889, 1.10896, 1.10876, 1.10862, 1.10859, 1.1085, 1.10844, 1.10845, 1.10854, 1.10859, 1.10859, 1.10849, 1.10834, 1.10836, 1.10838, 1.10833, 1.10824, 1.10836, 1.10833, 1.10816, 1.108, 1.10803, 1.1081, 1.1081, 1.10824, 1.10841, 1.10829, 1.10838, 1.10827, 1.10845, 1.1084, 1.10833, 1.10846, 1.10839, 1.10855, 1.10851, 1.10849, 1.10856, 1.10826, 1.1083, 1.10829, 1.10845, 1.1085, 1.10822, 1.1082, 1.10797, 1.10798, 1.10792, 1.10794, 1.10829, 1.10821, 1.10818, 1.10819, 1.10816, 1.10817, 1.10803, 1.1081, 1.10818, 1.10822, 1.10838, 1.10838, 1.10835, 1.10822, 1.10808, 1.10795, 1.10794, 1.10777, 1.10783, 1.10796, 1.10773, 1.10772, 1.10776, 1.10782, 1.10765, 1.10736, 1.10709, 1.10729, 1.10742, 1.10737, 1.10753, 1.10769, 1.10784, 1.10791, 1.10837, 1.10847, 1.10843, 1.1085, 1.10858, 1.10859, 1.10875, 1.10897, 1.10929, 1.10947, 1.10932, 1.10928, 1.10928, 1.10915, 1.10898, 1.10888, 1.1091, 1.10876, 1.10886, 1.10892, 1.1091, 1.10918, 1.10922, 1.10927, 1.109, 1.10862, 1.10862], \"open\": [1.10911, 1.10911, 1.10909, 1.10899, 1.10891, 1.1089, 1.10886, 1.10893, 1.10894, 1.10902, 1.10901, 1.10895, 1.10904, 1.10897, 1.10882, 1.10868, 1.10873, 1.10858, 1.10846, 1.10855, 1.10865, 1.10868, 1.10866, 1.10856, 1.10838, 1.10842, 1.10849, 1.10846, 1.10842, 1.1084, 1.10839, 1.10821, 1.10804, 1.10822, 1.1081, 1.10836, 1.1085, 1.10844, 1.10854, 1.10848, 1.10849, 1.10845, 1.10845, 1.10848, 1.10849, 1.10856, 1.10866, 1.10852, 1.10875, 1.10856, 1.1084, 1.10843, 1.10847, 1.10857, 1.10858, 1.10823, 1.10824, 1.10803, 1.10805, 1.10794, 1.10834, 1.10849, 1.10824, 1.10828, 1.10838, 1.10825, 1.10821, 1.10813, 1.10827, 1.10822, 1.10848, 1.10838, 1.10846, 1.10837, 1.10835, 1.10825, 1.10797, 1.10801, 1.10786, 1.10799, 1.10798, 1.10774, 1.10788, 1.10787, 1.10787, 1.10766, 1.10737, 1.10729, 1.10764, 1.10748, 1.10753, 1.10772, 1.10811, 1.10795, 1.10842, 1.10871, 1.10849, 1.10851, 1.10891, 1.10859, 1.10875, 1.109, 1.10932, 1.10955, 1.10954, 1.10944, 1.10934, 1.10929, 1.1095, 1.10904, 1.10927, 1.10915, 1.10887, 1.10905, 1.10922, 1.10927, 1.10936, 1.10932, 1.10927, 1.10907, 1.10863], \"showlegend\": false, \"type\": \"candlestick\", \"x\": [\"2019-12-11T05:45:00\", \"2019-12-11T05:50:00\", \"2019-12-11T05:55:00\", \"2019-12-11T06:00:00\", \"2019-12-11T06:05:00\", \"2019-12-11T06:10:00\", \"2019-12-11T06:15:00\", \"2019-12-11T06:20:00\", \"2019-12-11T06:25:00\", \"2019-12-11T06:30:00\", \"2019-12-11T06:35:00\", \"2019-12-11T06:40:00\", \"2019-12-11T06:45:00\", \"2019-12-11T06:50:00\", \"2019-12-11T06:55:00\", \"2019-12-11T07:00:00\", \"2019-12-11T07:05:00\", \"2019-12-11T07:10:00\", \"2019-12-11T07:15:00\", \"2019-12-11T07:20:00\", \"2019-12-11T07:25:00\", \"2019-12-11T07:30:00\", \"2019-12-11T07:35:00\", \"2019-12-11T07:40:00\", \"2019-12-11T07:45:00\", \"2019-12-11T07:50:00\", \"2019-12-11T07:55:00\", \"2019-12-11T08:00:00\", \"2019-12-11T08:05:00\", \"2019-12-11T08:10:00\", \"2019-12-11T08:15:00\", \"2019-12-11T08:20:00\", \"2019-12-11T08:25:00\", \"2019-12-11T08:30:00\", \"2019-12-11T08:35:00\", \"2019-12-11T08:40:00\", \"2019-12-11T08:45:00\", \"2019-12-11T08:50:00\", \"2019-12-11T08:55:00\", \"2019-12-11T09:00:00\", \"2019-12-11T09:05:00\", \"2019-12-11T09:10:00\", \"2019-12-11T09:15:00\", \"2019-12-11T09:20:00\", \"2019-12-11T09:25:00\", \"2019-12-11T09:30:00\", \"2019-12-11T09:35:00\", \"2019-12-11T09:40:00\", \"2019-12-11T09:45:00\", \"2019-12-11T09:50:00\", \"2019-12-11T09:55:00\", \"2019-12-11T10:00:00\", \"2019-12-11T10:05:00\", \"2019-12-11T10:10:00\", \"2019-12-11T10:15:00\", \"2019-12-11T10:20:00\", \"2019-12-11T10:25:00\", \"2019-12-11T10:30:00\", \"2019-12-11T10:35:00\", \"2019-12-11T10:40:00\", \"2019-12-11T10:45:00\", \"2019-12-11T10:50:00\", \"2019-12-11T10:55:00\", \"2019-12-11T11:00:00\", \"2019-12-11T11:05:00\", \"2019-12-11T11:10:00\", \"2019-12-11T11:15:00\", \"2019-12-11T11:20:00\", \"2019-12-11T11:25:00\", \"2019-12-11T11:30:00\", \"2019-12-11T11:35:00\", \"2019-12-11T11:40:00\", \"2019-12-11T11:45:00\", \"2019-12-11T11:50:00\", \"2019-12-11T11:55:00\", \"2019-12-11T12:00:00\", \"2019-12-11T12:05:00\", \"2019-12-11T12:10:00\", \"2019-12-11T12:15:00\", \"2019-12-11T12:20:00\", \"2019-12-11T12:25:00\", \"2019-12-11T12:30:00\", \"2019-12-11T12:35:00\", \"2019-12-11T12:40:00\", \"2019-12-11T12:45:00\", \"2019-12-11T12:50:00\", \"2019-12-11T12:55:00\", \"2019-12-11T13:00:00\", \"2019-12-11T13:05:00\", \"2019-12-11T13:10:00\", \"2019-12-11T13:15:00\", \"2019-12-11T13:20:00\", \"2019-12-11T13:25:00\", \"2019-12-11T13:30:00\", \"2019-12-11T13:35:00\", \"2019-12-11T13:40:00\", \"2019-12-11T13:45:00\", \"2019-12-11T13:50:00\", \"2019-12-11T13:55:00\", \"2019-12-11T14:00:00\", \"2019-12-11T14:05:00\", \"2019-12-11T14:10:00\", \"2019-12-11T14:15:00\", \"2019-12-11T14:20:00\", \"2019-12-11T14:25:00\", \"2019-12-11T14:30:00\", \"2019-12-11T14:35:00\", \"2019-12-11T14:40:00\", \"2019-12-11T14:45:00\", \"2019-12-11T14:50:00\", \"2019-12-11T14:55:00\", \"2019-12-11T15:00:00\", \"2019-12-11T15:05:00\", \"2019-12-11T15:10:00\", \"2019-12-11T15:15:00\", \"2019-12-11T15:20:00\", \"2019-12-11T15:25:00\", \"2019-12-11T15:30:00\", \"2019-12-11T15:35:00\", \"2019-12-11T15:40:00\", \"2019-12-11T15:45:00\"], \"xaxis\": \"x2\", \"yaxis\": \"y2\"}, {\"marker\": {\"color\": \"mediumpurple\", \"size\": 8}, \"mode\": \"markers\", \"showlegend\": false, \"type\": \"scatter\", \"x\": [\"2019-12-11T05:55:00\", \"2019-12-11T07:30:00\", \"2019-12-11T08:40:00\", \"2019-12-11T09:45:00\", \"2019-12-11T10:50:00\", \"2019-12-11T11:40:00\", \"2019-12-11T14:20:00\"], \"xaxis\": \"x2\", \"y\": [1.10911, 1.10875, 1.10862, 1.10877, 1.1086, 1.10858, 1.10981], \"yaxis\": \"y2\"}, {\"marker\": {\"color\": \"mediumblue\", \"size\": 8}, \"mode\": \"markers\", \"showlegend\": false, \"type\": \"scatter\", \"x\": [\"2019-12-11T07:10:00\", \"2019-12-11T08:20:00\", \"2019-12-11T09:15:00\", \"2019-12-11T10:35:00\", \"2019-12-11T11:15:00\", \"2019-12-11T12:55:00\", \"2019-12-11T15:40:00\"], \"xaxis\": \"x2\", \"y\": [1.10844, 1.108, 1.10833, 1.10792, 1.10803, 1.10709, 1.10862], \"yaxis\": \"y2\"}, {\"marker\": {\"color\": \"green\", \"line\": {\"color\": \"black\", \"width\": 2}, \"size\": 10, \"symbol\": \"triangle-up\"}, \"mode\": \"markers\", \"showlegend\": false, \"type\": \"scatter\", \"x\": [\"2019-12-11T15:40:00\"], \"xaxis\": \"x2\", \"y\": [1.10863], \"yaxis\": \"y2\"}, {\"marker\": {\"color\": \"red\", \"line\": {\"color\": \"black\", \"width\": 2}, \"size\": 10, \"symbol\": \"triangle-down\"}, \"mode\": \"markers\", \"showlegend\": false, \"type\": \"scatter\", \"x\": [\"2019-12-11T08:20:00\"], \"xaxis\": \"x2\", \"y\": [1.10804], \"yaxis\": \"y2\"}],                        {\"template\": {\"data\": {\"bar\": [{\"error_x\": {\"color\": \"#2a3f5f\"}, \"error_y\": {\"color\": \"#2a3f5f\"}, \"marker\": {\"line\": {\"color\": \"#E5ECF6\", \"width\": 0.5}}, \"type\": \"bar\"}], \"barpolar\": [{\"marker\": {\"line\": {\"color\": \"#E5ECF6\", \"width\": 0.5}}, \"type\": \"barpolar\"}], \"carpet\": [{\"aaxis\": {\"endlinecolor\": \"#2a3f5f\", \"gridcolor\": \"white\", \"linecolor\": \"white\", \"minorgridcolor\": \"white\", \"startlinecolor\": \"#2a3f5f\"}, \"baxis\": {\"endlinecolor\": \"#2a3f5f\", \"gridcolor\": \"white\", \"linecolor\": \"white\", \"minorgridcolor\": \"white\", \"startlinecolor\": \"#2a3f5f\"}, \"type\": \"carpet\"}], \"choropleth\": [{\"colorbar\": {\"outlinewidth\": 0, \"ticks\": \"\"}, \"type\": \"choropleth\"}], \"contour\": [{\"colorbar\": {\"outlinewidth\": 0, \"ticks\": \"\"}, \"colorscale\": [[0.0, \"#0d0887\"], [0.1111111111111111, \"#46039f\"], [0.2222222222222222, \"#7201a8\"], [0.3333333333333333, \"#9c179e\"], [0.4444444444444444, \"#bd3786\"], [0.5555555555555556, \"#d8576b\"], [0.6666666666666666, \"#ed7953\"], [0.7777777777777778, \"#fb9f3a\"], [0.8888888888888888, \"#fdca26\"], [1.0, \"#f0f921\"]], \"type\": \"contour\"}], \"contourcarpet\": [{\"colorbar\": {\"outlinewidth\": 0, \"ticks\": \"\"}, \"type\": \"contourcarpet\"}], \"heatmap\": [{\"colorbar\": {\"outlinewidth\": 0, \"ticks\": \"\"}, \"colorscale\": [[0.0, \"#0d0887\"], [0.1111111111111111, \"#46039f\"], [0.2222222222222222, \"#7201a8\"], [0.3333333333333333, \"#9c179e\"], [0.4444444444444444, \"#bd3786\"], [0.5555555555555556, \"#d8576b\"], [0.6666666666666666, \"#ed7953\"], [0.7777777777777778, \"#fb9f3a\"], [0.8888888888888888, \"#fdca26\"], [1.0, \"#f0f921\"]], \"type\": \"heatmap\"}], \"heatmapgl\": [{\"colorbar\": {\"outlinewidth\": 0, \"ticks\": \"\"}, \"colorscale\": [[0.0, \"#0d0887\"], [0.1111111111111111, \"#46039f\"], [0.2222222222222222, \"#7201a8\"], [0.3333333333333333, \"#9c179e\"], [0.4444444444444444, \"#bd3786\"], [0.5555555555555556, \"#d8576b\"], [0.6666666666666666, \"#ed7953\"], [0.7777777777777778, \"#fb9f3a\"], [0.8888888888888888, \"#fdca26\"], [1.0, \"#f0f921\"]], \"type\": \"heatmapgl\"}], \"histogram\": [{\"marker\": {\"colorbar\": {\"outlinewidth\": 0, \"ticks\": \"\"}}, \"type\": \"histogram\"}], \"histogram2d\": [{\"colorbar\": {\"outlinewidth\": 0, \"ticks\": \"\"}, \"colorscale\": [[0.0, \"#0d0887\"], [0.1111111111111111, \"#46039f\"], [0.2222222222222222, \"#7201a8\"], [0.3333333333333333, \"#9c179e\"], [0.4444444444444444, \"#bd3786\"], [0.5555555555555556, \"#d8576b\"], [0.6666666666666666, \"#ed7953\"], [0.7777777777777778, \"#fb9f3a\"], [0.8888888888888888, \"#fdca26\"], [1.0, \"#f0f921\"]], \"type\": \"histogram2d\"}], \"histogram2dcontour\": [{\"colorbar\": {\"outlinewidth\": 0, \"ticks\": \"\"}, \"colorscale\": [[0.0, \"#0d0887\"], [0.1111111111111111, \"#46039f\"], [0.2222222222222222, \"#7201a8\"], [0.3333333333333333, \"#9c179e\"], [0.4444444444444444, \"#bd3786\"], [0.5555555555555556, \"#d8576b\"], [0.6666666666666666, \"#ed7953\"], [0.7777777777777778, \"#fb9f3a\"], [0.8888888888888888, \"#fdca26\"], [1.0, \"#f0f921\"]], \"type\": \"histogram2dcontour\"}], \"mesh3d\": [{\"colorbar\": {\"outlinewidth\": 0, \"ticks\": \"\"}, \"type\": \"mesh3d\"}], \"parcoords\": [{\"line\": {\"colorbar\": {\"outlinewidth\": 0, \"ticks\": \"\"}}, \"type\": \"parcoords\"}], \"pie\": [{\"automargin\": true, \"type\": \"pie\"}], \"scatter\": [{\"marker\": {\"colorbar\": {\"outlinewidth\": 0, \"ticks\": \"\"}}, \"type\": \"scatter\"}], \"scatter3d\": [{\"line\": {\"colorbar\": {\"outlinewidth\": 0, \"ticks\": \"\"}}, \"marker\": {\"colorbar\": {\"outlinewidth\": 0, \"ticks\": \"\"}}, \"type\": \"scatter3d\"}], \"scattercarpet\": [{\"marker\": {\"colorbar\": {\"outlinewidth\": 0, \"ticks\": \"\"}}, \"type\": \"scattercarpet\"}], \"scattergeo\": [{\"marker\": {\"colorbar\": {\"outlinewidth\": 0, \"ticks\": \"\"}}, \"type\": \"scattergeo\"}], \"scattergl\": [{\"marker\": {\"colorbar\": {\"outlinewidth\": 0, \"ticks\": \"\"}}, \"type\": \"scattergl\"}], \"scattermapbox\": [{\"marker\": {\"colorbar\": {\"outlinewidth\": 0, \"ticks\": \"\"}}, \"type\": \"scattermapbox\"}], \"scatterpolar\": [{\"marker\": {\"colorbar\": {\"outlinewidth\": 0, \"ticks\": \"\"}}, \"type\": \"scatterpolar\"}], \"scatterpolargl\": [{\"marker\": {\"colorbar\": {\"outlinewidth\": 0, \"ticks\": \"\"}}, \"type\": \"scatterpolargl\"}], \"scatterternary\": [{\"marker\": {\"colorbar\": {\"outlinewidth\": 0, \"ticks\": \"\"}}, \"type\": \"scatterternary\"}], \"surface\": [{\"colorbar\": {\"outlinewidth\": 0, \"ticks\": \"\"}, \"colorscale\": [[0.0, \"#0d0887\"], [0.1111111111111111, \"#46039f\"], [0.2222222222222222, \"#7201a8\"], [0.3333333333333333, \"#9c179e\"], [0.4444444444444444, \"#bd3786\"], [0.5555555555555556, \"#d8576b\"], [0.6666666666666666, \"#ed7953\"], [0.7777777777777778, \"#fb9f3a\"], [0.8888888888888888, \"#fdca26\"], [1.0, \"#f0f921\"]], \"type\": \"surface\"}], \"table\": [{\"cells\": {\"fill\": {\"color\": \"#EBF0F8\"}, \"line\": {\"color\": \"white\"}}, \"header\": {\"fill\": {\"color\": \"#C8D4E3\"}, \"line\": {\"color\": \"white\"}}, \"type\": \"table\"}]}, \"layout\": {\"annotationdefaults\": {\"arrowcolor\": \"#2a3f5f\", \"arrowhead\": 0, \"arrowwidth\": 1}, \"coloraxis\": {\"colorbar\": {\"outlinewidth\": 0, \"ticks\": \"\"}}, \"colorscale\": {\"diverging\": [[0, \"#8e0152\"], [0.1, \"#c51b7d\"], [0.2, \"#de77ae\"], [0.3, \"#f1b6da\"], [0.4, \"#fde0ef\"], [0.5, \"#f7f7f7\"], [0.6, \"#e6f5d0\"], [0.7, \"#b8e186\"], [0.8, \"#7fbc41\"], [0.9, \"#4d9221\"], [1, \"#276419\"]], \"sequential\": [[0.0, \"#0d0887\"], [0.1111111111111111, \"#46039f\"], [0.2222222222222222, \"#7201a8\"], [0.3333333333333333, \"#9c179e\"], [0.4444444444444444, \"#bd3786\"], [0.5555555555555556, \"#d8576b\"], [0.6666666666666666, \"#ed7953\"], [0.7777777777777778, \"#fb9f3a\"], [0.8888888888888888, \"#fdca26\"], [1.0, \"#f0f921\"]], \"sequentialminus\": [[0.0, \"#0d0887\"], [0.1111111111111111, \"#46039f\"], [0.2222222222222222, \"#7201a8\"], [0.3333333333333333, \"#9c179e\"], [0.4444444444444444, \"#bd3786\"], [0.5555555555555556, \"#d8576b\"], [0.6666666666666666, \"#ed7953\"], [0.7777777777777778, \"#fb9f3a\"], [0.8888888888888888, \"#fdca26\"], [1.0, \"#f0f921\"]]}, \"colorway\": [\"#636efa\", \"#EF553B\", \"#00cc96\", \"#ab63fa\", \"#FFA15A\", \"#19d3f3\", \"#FF6692\", \"#B6E880\", \"#FF97FF\", \"#FECB52\"], \"font\": {\"color\": \"#2a3f5f\"}, \"geo\": {\"bgcolor\": \"white\", \"lakecolor\": \"white\", \"landcolor\": \"#E5ECF6\", \"showlakes\": true, \"showland\": true, \"subunitcolor\": \"white\"}, \"hoverlabel\": {\"align\": \"left\"}, \"hovermode\": \"closest\", \"mapbox\": {\"style\": \"light\"}, \"paper_bgcolor\": \"white\", \"plot_bgcolor\": \"#E5ECF6\", \"polar\": {\"angularaxis\": {\"gridcolor\": \"white\", \"linecolor\": \"white\", \"ticks\": \"\"}, \"bgcolor\": \"#E5ECF6\", \"radialaxis\": {\"gridcolor\": \"white\", \"linecolor\": \"white\", \"ticks\": \"\"}}, \"scene\": {\"xaxis\": {\"backgroundcolor\": \"#E5ECF6\", \"gridcolor\": \"white\", \"gridwidth\": 2, \"linecolor\": \"white\", \"showbackground\": true, \"ticks\": \"\", \"zerolinecolor\": \"white\"}, \"yaxis\": {\"backgroundcolor\": \"#E5ECF6\", \"gridcolor\": \"white\", \"gridwidth\": 2, \"linecolor\": \"white\", \"showbackground\": true, \"ticks\": \"\", \"zerolinecolor\": \"white\"}, \"zaxis\": {\"backgroundcolor\": \"#E5ECF6\", \"gridcolor\": \"white\", \"gridwidth\": 2, \"linecolor\": \"white\", \"showbackground\": true, \"ticks\": \"\", \"zerolinecolor\": \"white\"}}, \"shapedefaults\": {\"line\": {\"color\": \"#2a3f5f\"}}, \"ternary\": {\"aaxis\": {\"gridcolor\": \"white\", \"linecolor\": \"white\", \"ticks\": \"\"}, \"baxis\": {\"gridcolor\": \"white\", \"linecolor\": \"white\", \"ticks\": \"\"}, \"bgcolor\": \"#E5ECF6\", \"caxis\": {\"gridcolor\": \"white\", \"linecolor\": \"white\", \"ticks\": \"\"}}, \"title\": {\"x\": 0.05}, \"xaxis\": {\"automargin\": true, \"gridcolor\": \"white\", \"linecolor\": \"white\", \"ticks\": \"\", \"title\": {\"standoff\": 15}, \"zerolinecolor\": \"white\", \"zerolinewidth\": 2}, \"yaxis\": {\"automargin\": true, \"gridcolor\": \"white\", \"linecolor\": \"white\", \"ticks\": \"\", \"title\": {\"standoff\": 15}, \"zerolinecolor\": \"white\", \"zerolinewidth\": 2}}}, \"xaxis\": {\"anchor\": \"y\", \"domain\": [0.0, 0.45], \"rangeslider\": {\"visible\": false}}, \"xaxis2\": {\"anchor\": \"y2\", \"domain\": [0.55, 1.0], \"rangeslider\": {\"visible\": false}}, \"yaxis\": {\"anchor\": \"x\", \"domain\": [0.0, 1.0]}, \"yaxis2\": {\"anchor\": \"x2\", \"domain\": [0.0, 1.0]}},                        {\"responsive\": true}                    ).then(function(){\n",
       "                            \n",
       "var gd = document.getElementById('15d85229-b0eb-4258-b554-2d2aca07ab60');\n",
       "var x = new MutationObserver(function (mutations, observer) {{\n",
       "        var display = window.getComputedStyle(gd).display;\n",
       "        if (!display || display === 'none') {{\n",
       "            console.log([gd, 'removed!']);\n",
       "            Plotly.purge(gd);\n",
       "            observer.disconnect();\n",
       "        }}\n",
       "}});\n",
       "\n",
       "// Listen for the removal of the full notebook cells\n",
       "var notebookContainer = gd.closest('#notebook-container');\n",
       "if (notebookContainer) {{\n",
       "    x.observe(notebookContainer, {childList: true});\n",
       "}}\n",
       "\n",
       "// Listen for the clearing of the current output cell\n",
       "var outputEl = gd.closest('.output');\n",
       "if (outputEl) {{\n",
       "    x.observe(outputEl, {childList: true});\n",
       "}}\n",
       "\n",
       "                        })                };                });            </script>        </div>"
      ]
     },
     "metadata": {},
     "output_type": "display_data"
    }
   ],
   "source": [
    "show_random_cases(candles_to_show, nb_examples_to_show=10, nb_candles_to_show=120)"
   ]
  },
  {
   "cell_type": "code",
   "execution_count": null,
   "metadata": {},
   "outputs": [],
   "source": []
  },
  {
   "cell_type": "code",
   "execution_count": null,
   "metadata": {},
   "outputs": [],
   "source": []
  }
 ],
 "metadata": {
  "kernelspec": {
   "display_name": "Python 3",
   "language": "python",
   "name": "python3"
  },
  "language_info": {
   "codemirror_mode": {
    "name": "ipython",
    "version": 3
   },
   "file_extension": ".py",
   "mimetype": "text/x-python",
   "name": "python",
   "nbconvert_exporter": "python",
   "pygments_lexer": "ipython3",
   "version": "3.8.6"
  }
 },
 "nbformat": 4,
 "nbformat_minor": 4
}
