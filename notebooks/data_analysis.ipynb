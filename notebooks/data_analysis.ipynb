{
 "cells": [
  {
   "cell_type": "code",
   "execution_count": 84,
   "metadata": {},
   "outputs": [],
   "source": [
    "import os\n",
    "import sys\n",
    "import re\n",
    "sys.path.append('/Users/laurenthericourt/projets/trading/trading')\n",
    "\n",
    "import psycopg2\n",
    "import pandas as pd\n",
    "from pandas.io.sql import read_sql\n",
    "pd.set_option('display.max_rows', 500)\n",
    "import plotly.graph_objects as go\n",
    "from jupyter_dash import JupyterDash\n",
    "import dash_core_components as dcc\n",
    "import dash_html_components as html\n",
    "from dash.dependencies import Input, Output\n",
    "from stockstats import StockDataFrame\n",
    "\n",
    "from config.load import load_conf\n",
    "from db.utils import get_uri_db\n",
    "from data.candle import SYMBOLS"
   ]
  },
  {
   "cell_type": "code",
   "execution_count": 7,
   "metadata": {},
   "outputs": [],
   "source": [
    "load_conf('../config/configuration.yaml')"
   ]
  },
  {
   "cell_type": "code",
   "execution_count": 8,
   "metadata": {},
   "outputs": [],
   "source": [
    "dsn = get_uri_db()\n",
    "schema = 'trading'"
   ]
  },
  {
   "cell_type": "markdown",
   "metadata": {},
   "source": [
    "# Get data\n",
    "## Candles"
   ]
  },
  {
   "cell_type": "code",
   "execution_count": 9,
   "metadata": {},
   "outputs": [],
   "source": [
    "#SYMBOL = 'EUR/USD'\n",
    "start_date = '2020-11-01'\n",
    "end_date = '2020-12-01'"
   ]
  },
  {
   "cell_type": "code",
   "execution_count": 10,
   "metadata": {},
   "outputs": [],
   "source": [
    "candles = pd.DataFrame()\n",
    "with psycopg2.connect(dsn) as conn:\n",
    "    for table in ['candle', 'candle15m', 'candle30m', 'candle1h', 'candle4h', 'candle1d']:\n",
    "        sql = f'set search_path = {schema};'\n",
    "        sql += f'''\n",
    "            SELECT '{table}' as table, symbol, date, open, close, low, high\n",
    "            FROM {table}\n",
    "            WHERE date >= %(start_date)s\n",
    "              AND date < %(end_date)s\n",
    "            ORDER BY date ASC;\n",
    "        '''\n",
    "        candles_tmp = read_sql(sql, conn, params={'start_date': start_date, 'end_date': end_date})\n",
    "        candles = pd.concat([candles, candles_tmp])"
   ]
  },
  {
   "cell_type": "markdown",
   "metadata": {},
   "source": [
    "## Event"
   ]
  },
  {
   "cell_type": "code",
   "execution_count": 7,
   "metadata": {},
   "outputs": [],
   "source": [
    "COUNTRY_1, COUNTRY_2 = SYMBOL.split('/')"
   ]
  },
  {
   "cell_type": "code",
   "execution_count": 9,
   "metadata": {},
   "outputs": [],
   "source": [
    "with psycopg2.connect(dsn) as conn:\n",
    "    sql = f'set search_path = {schema};'\n",
    "    sql += '''\n",
    "        SELECT date, country, name, actual_value, forecast_value, is_positive\n",
    "        FROM event\n",
    "        WHERE importance = 3\n",
    "        AND country = ANY(%(countries)s::text[])\n",
    "    '''\n",
    "    event = read_sql(sql, conn, params={'countries': [COUNTRY_1, COUNTRY_2]})"
   ]
  },
  {
   "cell_type": "code",
   "execution_count": 11,
   "metadata": {},
   "outputs": [],
   "source": [
    "months = ['(jan.)', '(févr.)', '(mar)', '(avr)', '(mai)', '(juin)', '(juill.)', '(août)', '(sept.)', '(oct.)', '(nov.)', '(déc)']\n",
    "regex_month = re.compile(r'|'.join(months).replace('(', '\\(').replace(')', '\\)').replace('.', '\\.'))\n",
    "\n",
    "periods = [' (t1)', ' (t2)', ' (t3)', ' (t4)', ' m1', ' m2', ' m3', ' m4', ' m5', ' m6', ' m7', ' m8', ' m9', ' m10', ' m11', ' m12']\n",
    "regex_period = re.compile(r'|'.join(periods).replace('(', '\\(').replace(')', '\\)'))"
   ]
  },
  {
   "cell_type": "code",
   "execution_count": 12,
   "metadata": {},
   "outputs": [],
   "source": [
    "event['processed_name'] = event['name'].str.lower()\n",
    "event['processed_name'] = event['processed_name'].str.replace(regex_month, '')\n",
    "event['processed_name'] = event['processed_name'].str.replace(regex_period, '')\n",
    "event['processed_name'] = event['processed_name'].str.strip()"
   ]
  },
  {
   "cell_type": "code",
   "execution_count": 13,
   "metadata": {},
   "outputs": [
    {
     "data": {
      "text/plain": [
       "stocks de pétrole brut                              571\n",
       "inscriptions hebdomadaires au chômage               571\n",
       "ipc (annuel)                                        263\n",
       "discours de draghi, président de la bce             209\n",
       "promesses de ventes de logements (mensuel)          132\n",
       "rapport jolts - nouvelles offres d'emploi           132\n",
       "indice pmi non manufacturier de l'ism               132\n",
       "créations d'emplois dans le secteur non agricole    132\n",
       "indice pmi manufacturier de l'ism                   132\n",
       "taux de chômage                                     132\n",
       "Name: processed_name, dtype: int64"
      ]
     },
     "execution_count": 13,
     "metadata": {},
     "output_type": "execute_result"
    }
   ],
   "source": [
    "event['processed_name'].value_counts()[:10]"
   ]
  },
  {
   "cell_type": "markdown",
   "metadata": {},
   "source": [
    "# Compute Indicators"
   ]
  },
  {
   "cell_type": "markdown",
   "metadata": {},
   "source": [
    "# Show data"
   ]
  },
  {
   "cell_type": "code",
   "execution_count": 101,
   "metadata": {},
   "outputs": [
    {
     "data": {
      "text/html": [
       "<div>\n",
       "<style scoped>\n",
       "    .dataframe tbody tr th:only-of-type {\n",
       "        vertical-align: middle;\n",
       "    }\n",
       "\n",
       "    .dataframe tbody tr th {\n",
       "        vertical-align: top;\n",
       "    }\n",
       "\n",
       "    .dataframe thead th {\n",
       "        text-align: right;\n",
       "    }\n",
       "</style>\n",
       "<table border=\"1\" class=\"dataframe\">\n",
       "  <thead>\n",
       "    <tr style=\"text-align: right;\">\n",
       "      <th></th>\n",
       "      <th>table</th>\n",
       "      <th>symbol</th>\n",
       "      <th>date</th>\n",
       "      <th>open</th>\n",
       "      <th>close</th>\n",
       "      <th>low</th>\n",
       "      <th>high</th>\n",
       "    </tr>\n",
       "  </thead>\n",
       "  <tbody>\n",
       "    <tr>\n",
       "      <th>0</th>\n",
       "      <td>candle</td>\n",
       "      <td>EUR/USD</td>\n",
       "      <td>2020-11-01 19:30:00</td>\n",
       "      <td>1.16444</td>\n",
       "      <td>1.16436</td>\n",
       "      <td>1.16444</td>\n",
       "      <td>1.16436</td>\n",
       "    </tr>\n",
       "    <tr>\n",
       "      <th>1</th>\n",
       "      <td>candle</td>\n",
       "      <td>USD/CAD</td>\n",
       "      <td>2020-11-01 19:30:00</td>\n",
       "      <td>1.33146</td>\n",
       "      <td>1.33144</td>\n",
       "      <td>1.33166</td>\n",
       "      <td>1.33144</td>\n",
       "    </tr>\n",
       "    <tr>\n",
       "      <th>2</th>\n",
       "      <td>candle</td>\n",
       "      <td>AUD/USD</td>\n",
       "      <td>2020-11-01 19:30:00</td>\n",
       "      <td>0.70258</td>\n",
       "      <td>0.70222</td>\n",
       "      <td>0.70254</td>\n",
       "      <td>0.70221</td>\n",
       "    </tr>\n",
       "    <tr>\n",
       "      <th>3</th>\n",
       "      <td>candle</td>\n",
       "      <td>USD/JPY</td>\n",
       "      <td>2020-11-01 19:30:00</td>\n",
       "      <td>104.64000</td>\n",
       "      <td>104.51100</td>\n",
       "      <td>104.51100</td>\n",
       "      <td>104.51000</td>\n",
       "    </tr>\n",
       "    <tr>\n",
       "      <th>4</th>\n",
       "      <td>candle</td>\n",
       "      <td>GBP/USD</td>\n",
       "      <td>2020-11-01 19:30:00</td>\n",
       "      <td>1.29451</td>\n",
       "      <td>1.29209</td>\n",
       "      <td>1.29225</td>\n",
       "      <td>1.29207</td>\n",
       "    </tr>\n",
       "    <tr>\n",
       "      <th>...</th>\n",
       "      <td>...</td>\n",
       "      <td>...</td>\n",
       "      <td>...</td>\n",
       "      <td>...</td>\n",
       "      <td>...</td>\n",
       "      <td>...</td>\n",
       "      <td>...</td>\n",
       "    </tr>\n",
       "    <tr>\n",
       "      <th>203</th>\n",
       "      <td>candle1d</td>\n",
       "      <td>USD/CAD</td>\n",
       "      <td>2020-11-30 00:00:00</td>\n",
       "      <td>1.29823</td>\n",
       "      <td>1.29903</td>\n",
       "      <td>1.29304</td>\n",
       "      <td>1.30029</td>\n",
       "    </tr>\n",
       "    <tr>\n",
       "      <th>204</th>\n",
       "      <td>candle1d</td>\n",
       "      <td>USD/JPY</td>\n",
       "      <td>2020-11-30 00:00:00</td>\n",
       "      <td>104.08200</td>\n",
       "      <td>104.29900</td>\n",
       "      <td>103.85500</td>\n",
       "      <td>104.39100</td>\n",
       "    </tr>\n",
       "    <tr>\n",
       "      <th>205</th>\n",
       "      <td>candle1d</td>\n",
       "      <td>EUR/USD</td>\n",
       "      <td>2020-11-30 00:00:00</td>\n",
       "      <td>1.19715</td>\n",
       "      <td>1.19368</td>\n",
       "      <td>1.19247</td>\n",
       "      <td>1.19952</td>\n",
       "    </tr>\n",
       "    <tr>\n",
       "      <th>206</th>\n",
       "      <td>candle1d</td>\n",
       "      <td>EUR/GBP</td>\n",
       "      <td>2020-11-30 00:00:00</td>\n",
       "      <td>0.89788</td>\n",
       "      <td>0.89504</td>\n",
       "      <td>0.89451</td>\n",
       "      <td>0.89950</td>\n",
       "    </tr>\n",
       "    <tr>\n",
       "      <th>207</th>\n",
       "      <td>candle1d</td>\n",
       "      <td>USD/CHF</td>\n",
       "      <td>2020-11-30 00:00:00</td>\n",
       "      <td>0.90411</td>\n",
       "      <td>0.90818</td>\n",
       "      <td>0.90214</td>\n",
       "      <td>0.90907</td>\n",
       "    </tr>\n",
       "  </tbody>\n",
       "</table>\n",
       "<p>79591 rows × 7 columns</p>\n",
       "</div>"
      ],
      "text/plain": [
       "        table   symbol                date       open      close        low  \\\n",
       "0      candle  EUR/USD 2020-11-01 19:30:00    1.16444    1.16436    1.16444   \n",
       "1      candle  USD/CAD 2020-11-01 19:30:00    1.33146    1.33144    1.33166   \n",
       "2      candle  AUD/USD 2020-11-01 19:30:00    0.70258    0.70222    0.70254   \n",
       "3      candle  USD/JPY 2020-11-01 19:30:00  104.64000  104.51100  104.51100   \n",
       "4      candle  GBP/USD 2020-11-01 19:30:00    1.29451    1.29209    1.29225   \n",
       "..        ...      ...                 ...        ...        ...        ...   \n",
       "203  candle1d  USD/CAD 2020-11-30 00:00:00    1.29823    1.29903    1.29304   \n",
       "204  candle1d  USD/JPY 2020-11-30 00:00:00  104.08200  104.29900  103.85500   \n",
       "205  candle1d  EUR/USD 2020-11-30 00:00:00    1.19715    1.19368    1.19247   \n",
       "206  candle1d  EUR/GBP 2020-11-30 00:00:00    0.89788    0.89504    0.89451   \n",
       "207  candle1d  USD/CHF 2020-11-30 00:00:00    0.90411    0.90818    0.90214   \n",
       "\n",
       "          high  \n",
       "0      1.16436  \n",
       "1      1.33144  \n",
       "2      0.70221  \n",
       "3    104.51000  \n",
       "4      1.29207  \n",
       "..         ...  \n",
       "203    1.30029  \n",
       "204  104.39100  \n",
       "205    1.19952  \n",
       "206    0.89950  \n",
       "207    0.90907  \n",
       "\n",
       "[79591 rows x 7 columns]"
      ]
     },
     "execution_count": 101,
     "metadata": {},
     "output_type": "execute_result"
    }
   ],
   "source": [
    "candles"
   ]
  },
  {
   "cell_type": "code",
   "execution_count": 58,
   "metadata": {},
   "outputs": [],
   "source": [
    "def show_candle(candles, table, symbol=None, start_date=None, end_date=None):\n",
    "    mask = (candles['table'] == table)\n",
    "    if symbol:\n",
    "        mask = mask & (candles['symbol'] == symbol)\n",
    "    if start_date and end_date:\n",
    "        mask = mask & (candles['date'] >= start_date) & (candles['date'] < end_date)\n",
    "    candles_to_show = candles[mask]\n",
    "    \n",
    "    layout = go.Layout(\n",
    "        autosize=True,\n",
    "        width=1400,\n",
    "        height=800,\n",
    "\n",
    "        xaxis= go.layout.XAxis(linecolor = 'black',\n",
    "                              linewidth = 1,\n",
    "                              mirror = True),\n",
    "\n",
    "        yaxis= go.layout.YAxis(linecolor = 'black',\n",
    "                              linewidth = 1,\n",
    "                              mirror = True),\n",
    "\n",
    "    )\n",
    "    \n",
    "    fig = go.Figure(data=[\n",
    "                        go.Candlestick(x=candles_to_show['date'],\n",
    "                        open=candles_to_show['open'],\n",
    "                        high=candles_to_show['high'],\n",
    "                        low=candles_to_show['low'],\n",
    "                        close=candles_to_show['close'])],\n",
    "                    layout = layout\n",
    "                   )\n",
    "    fig.update_yaxes(fixedrange=False)\n",
    "\n",
    "    #fig.show()\n",
    "    return fig\n",
    "    "
   ]
  },
  {
   "cell_type": "code",
   "execution_count": 83,
   "metadata": {},
   "outputs": [
    {
     "name": "stdout",
     "output_type": "stream",
     "text": [
      "Dash app running on http://127.0.0.1:8050/\n"
     ]
    }
   ],
   "source": [
    "# Build App\n",
    "app = JupyterDash()\n",
    "\n",
    "app.layout = html.Div([\n",
    "    html.H1(f'Candles between {start_date} and {end_date}'),\n",
    "    html.Div([\n",
    "        html.Div([\n",
    "            html.Label('Symbol:', className='label'),\n",
    "            dcc.RadioItems(\n",
    "                id='symbols_radio',\n",
    "                options=[{'label': x, 'value': x} for x in SYMBOLS],\n",
    "                value='EUR/USD'\n",
    "            )], className='col'),\n",
    "        html.Div([\n",
    "            html.Label('Period:', className='label'),\n",
    "            dcc.RadioItems(\n",
    "                id='period_radio',\n",
    "                labelStyle={'display': 'inline-block'},\n",
    "                options=[{'label':'5min', 'value':'candle'},\n",
    "                         {'label':'15min', 'value':'candle15m'},\n",
    "                         {'label':'30min', 'value':'candle30m'},\n",
    "                         {'label':'1h', 'value':'candle1h'},\n",
    "                         {'label':'4h', 'value':'candle4h'},\n",
    "                         {'label':'1d', 'value':'candle1d'}],\n",
    "                value='candle1d'\n",
    "            )], className='col')\n",
    "    ], className='row'),\n",
    "    dcc.Graph(id='candles_graph'),\n",
    "])\n",
    "\n",
    "@app.callback(\n",
    "    Output('candles_graph', 'figure'),\n",
    "    Input('symbols_radio', 'value'),\n",
    "    Input('period_radio', 'value'))\n",
    "def update_figure(selected_symbol, selected_period):\n",
    "    return show_candle(candles, selected_period, selected_symbol)\n",
    "\n",
    "app.run_server(mode='external')"
   ]
  },
  {
   "cell_type": "code",
   "execution_count": 89,
   "metadata": {},
   "outputs": [],
   "source": [
    "stock = StockDataFrame.retype(candles[candles['table'] == 'candle'])"
   ]
  },
  {
   "cell_type": "code",
   "execution_count": 92,
   "metadata": {},
   "outputs": [
    {
     "data": {
      "text/plain": [
       "date\n",
       "2020-11-01 19:30:00     1.164360\n",
       "2020-11-01 19:30:00     1.247900\n",
       "2020-11-01 19:30:00     1.066007\n",
       "2020-11-01 19:30:00    26.927255\n",
       "2020-11-01 19:30:00    21.800222\n",
       "                         ...    \n",
       "2020-11-30 23:55:00    17.217801\n",
       "2020-11-30 23:55:00    17.545663\n",
       "2020-11-30 23:55:00    12.377622\n",
       "2020-11-30 23:55:00    12.355681\n",
       "2020-11-30 23:55:00    12.383838\n",
       "Name: boll, Length: 49315, dtype: float64"
      ]
     },
     "execution_count": 92,
     "metadata": {},
     "output_type": "execute_result"
    }
   ],
   "source": [
    "stock.get('boll')"
   ]
  },
  {
   "cell_type": "code",
   "execution_count": null,
   "metadata": {},
   "outputs": [],
   "source": []
  }
 ],
 "metadata": {
  "kernelspec": {
   "display_name": "Python 3",
   "language": "python",
   "name": "python3"
  },
  "language_info": {
   "codemirror_mode": {
    "name": "ipython",
    "version": 3
   },
   "file_extension": ".py",
   "mimetype": "text/x-python",
   "name": "python",
   "nbconvert_exporter": "python",
   "pygments_lexer": "ipython3",
   "version": "3.8.6"
  }
 },
 "nbformat": 4,
 "nbformat_minor": 4
}
