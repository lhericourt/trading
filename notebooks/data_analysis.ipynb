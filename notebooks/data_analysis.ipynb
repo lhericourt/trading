{
 "cells": [
  {
   "cell_type": "code",
   "execution_count": 2,
   "metadata": {},
   "outputs": [],
   "source": [
    "import os\n",
    "import sys\n",
    "import re\n",
    "from datetime import datetime, timedelta\n",
    "from dateutil.rrule import rrule, WEEKLY, FR, SU\n",
    "sys.path.append('/Users/laurenthericourt/projets/trading/trading')\n",
    "\n",
    "import psycopg2\n",
    "import pandas as pd\n",
    "from pandas.io.sql import read_sql\n",
    "pd.set_option('display.max_rows', 500)\n",
    "import plotly.graph_objects as go\n",
    "from plotly.subplots import make_subplots\n",
    "from jupyter_dash import JupyterDash\n",
    "import dash_core_components as dcc\n",
    "import dash_html_components as html\n",
    "from dash.dependencies import Input, Output\n",
    "\n",
    "from config.load import load_conf\n",
    "from db.utils import get_uri_db\n",
    "from data.candle import SYMBOLS\n",
    "from indicator.trend import BollingerBands\n",
    "from indicator.oscillator import Macd"
   ]
  },
  {
   "cell_type": "code",
   "execution_count": 3,
   "metadata": {},
   "outputs": [],
   "source": [
    "load_conf('../config/configuration.yaml')"
   ]
  },
  {
   "cell_type": "code",
   "execution_count": 4,
   "metadata": {},
   "outputs": [],
   "source": [
    "dsn = get_uri_db()\n",
    "schema = 'trading'"
   ]
  },
  {
   "cell_type": "markdown",
   "metadata": {},
   "source": [
    "# Get data\n",
    "## Candles"
   ]
  },
  {
   "cell_type": "code",
   "execution_count": 10,
   "metadata": {},
   "outputs": [],
   "source": [
    "start_date = '2020-11-01'\n",
    "end_date = '2020-12-01'"
   ]
  },
  {
   "cell_type": "code",
   "execution_count": 11,
   "metadata": {},
   "outputs": [],
   "source": [
    "candles = pd.DataFrame()\n",
    "with psycopg2.connect(dsn) as conn:\n",
    "    for table in ['candle', 'candle15m', 'candle30m', 'candle1h', 'candle4h', 'candle1d']:\n",
    "        sql = f'set search_path = {schema};'\n",
    "        sql += f'''\n",
    "            SELECT '{table}' as table, symbol, date, open, close, low, high\n",
    "            FROM {table}\n",
    "            WHERE date >= %(start_date)s\n",
    "              AND date < %(end_date)s\n",
    "            ORDER BY date ASC;\n",
    "        '''\n",
    "        candles_tmp = read_sql(sql, conn, params={'start_date': start_date, 'end_date': end_date})\n",
    "        candles = pd.concat([candles, candles_tmp])"
   ]
  },
  {
   "cell_type": "markdown",
   "metadata": {},
   "source": [
    "## Event"
   ]
  },
  {
   "cell_type": "code",
   "execution_count": 7,
   "metadata": {},
   "outputs": [],
   "source": [
    "COUNTRY_1, COUNTRY_2 = SYMBOL.split('/')"
   ]
  },
  {
   "cell_type": "code",
   "execution_count": 9,
   "metadata": {},
   "outputs": [],
   "source": [
    "with psycopg2.connect(dsn) as conn:\n",
    "    sql = f'set search_path = {schema};'\n",
    "    sql += '''\n",
    "        SELECT date, country, name, actual_value, forecast_value, is_positive\n",
    "        FROM event\n",
    "        WHERE importance = 3\n",
    "        AND country = ANY(%(countries)s::text[])\n",
    "    '''\n",
    "    event = read_sql(sql, conn, params={'countries': [COUNTRY_1, COUNTRY_2]})"
   ]
  },
  {
   "cell_type": "code",
   "execution_count": 11,
   "metadata": {},
   "outputs": [],
   "source": [
    "months = ['(jan.)', '(févr.)', '(mar)', '(avr)', '(mai)', '(juin)', '(juill.)', '(août)', '(sept.)', '(oct.)', '(nov.)', '(déc)']\n",
    "regex_month = re.compile(r'|'.join(months).replace('(', '\\(').replace(')', '\\)').replace('.', '\\.'))\n",
    "\n",
    "periods = [' (t1)', ' (t2)', ' (t3)', ' (t4)', ' m1', ' m2', ' m3', ' m4', ' m5', ' m6', ' m7', ' m8', ' m9', ' m10', ' m11', ' m12']\n",
    "regex_period = re.compile(r'|'.join(periods).replace('(', '\\(').replace(')', '\\)'))"
   ]
  },
  {
   "cell_type": "code",
   "execution_count": 12,
   "metadata": {},
   "outputs": [],
   "source": [
    "event['processed_name'] = event['name'].str.lower()\n",
    "event['processed_name'] = event['processed_name'].str.replace(regex_month, '')\n",
    "event['processed_name'] = event['processed_name'].str.replace(regex_period, '')\n",
    "event['processed_name'] = event['processed_name'].str.strip()"
   ]
  },
  {
   "cell_type": "code",
   "execution_count": 13,
   "metadata": {},
   "outputs": [
    {
     "data": {
      "text/plain": [
       "stocks de pétrole brut                              571\n",
       "inscriptions hebdomadaires au chômage               571\n",
       "ipc (annuel)                                        263\n",
       "discours de draghi, président de la bce             209\n",
       "promesses de ventes de logements (mensuel)          132\n",
       "rapport jolts - nouvelles offres d'emploi           132\n",
       "indice pmi non manufacturier de l'ism               132\n",
       "créations d'emplois dans le secteur non agricole    132\n",
       "indice pmi manufacturier de l'ism                   132\n",
       "taux de chômage                                     132\n",
       "Name: processed_name, dtype: int64"
      ]
     },
     "execution_count": 13,
     "metadata": {},
     "output_type": "execute_result"
    }
   ],
   "source": [
    "event['processed_name'].value_counts()[:10]"
   ]
  },
  {
   "cell_type": "markdown",
   "metadata": {},
   "source": [
    "# Show data\n",
    "## Dates to hide"
   ]
  },
  {
   "cell_type": "code",
   "execution_count": 12,
   "metadata": {},
   "outputs": [],
   "source": [
    "def datetime_range(start, end, delta):\n",
    "    current = start\n",
    "    while current < end:\n",
    "        yield current\n",
    "        current += delta\n",
    "\n",
    "def compute_datetime_to_hide(start, end):\n",
    "    start_dt = datetime.strptime(start, '%Y-%m-%d')\n",
    "    end_dt = datetime.strptime(end, '%Y-%m-%d')\n",
    "    \n",
    "    fridays = list()\n",
    "    for date in rrule(WEEKLY, byweekday=FR, dtstart=start_dt, until=end_dt):\n",
    "        fridays.append(date)\n",
    "    sundays = list()\n",
    "    for date in rrule(WEEKLY, byweekday=SU, dtstart=start_dt, until=end_dt):\n",
    "        sundays.append(date)\n",
    "    \n",
    "    date_ranges = list()\n",
    "    if fridays[0] > sundays[0]:\n",
    "        del sundays[0]\n",
    "    if fridays[-1] > sundays[-1]:\n",
    "        del fridays[-1]\n",
    "    \n",
    "    datetime_to_hide = list()\n",
    "    for fri, sun in zip(fridays, sundays):\n",
    "        res = [dt.strftime('%Y-%m-%d %H:%M:%S') for dt in datetime_range(fri.replace(hour=22),\n",
    "                                                                         sun.replace(hour=19, minute=30),\n",
    "                                                                         timedelta(minutes=5))]\n",
    "        datetime_to_hide.extend(res)\n",
    "    return datetime_to_hide"
   ]
  },
  {
   "cell_type": "markdown",
   "metadata": {},
   "source": [
    "## Methods to plot result"
   ]
  },
  {
   "cell_type": "code",
   "execution_count": 15,
   "metadata": {},
   "outputs": [],
   "source": [
    "def filter_data(candles, table, symbol=None, start_date=None, end_date=None):\n",
    "    mask = (candles['table'] == table)\n",
    "    if symbol:\n",
    "        mask = mask & (candles['symbol'] == symbol)\n",
    "    if start_date and end_date:\n",
    "        mask = mask & (candles['date'] >= start_date) & (candles['date'] < end_date)\n",
    "    candles_to_show = candles[mask]\n",
    "    return candles_to_show\n",
    "\n",
    "\n",
    "def show_candle(candles):\n",
    "    layout = go.Layout(\n",
    "        autosize=True,\n",
    "        width=1400,\n",
    "        height=800,\n",
    "        xaxis=go.layout.XAxis(linecolor = 'black',\n",
    "                              linewidth = 1,\n",
    "                              mirror = True),\n",
    "        xaxis2=go.layout.XAxis(linecolor = 'black',\n",
    "                               linewidth = 1,\n",
    "                               mirror = True),\n",
    "        yaxis=go.layout.YAxis(linecolor = 'black',\n",
    "                              linewidth = 1,\n",
    "                              mirror = True,\n",
    "                              domain=[0, 0.2]),\n",
    "        yaxis2=go.layout.YAxis(linecolor = 'black',\n",
    "                               linewidth = 1,\n",
    "                               mirror = True,\n",
    "                               domain=[0.3, 1]),\n",
    "\n",
    "    )\n",
    "    \n",
    "    fig = make_subplots(rows=2, cols=1, shared_xaxes=True)\n",
    "    fig.update_layout(layout, xaxis2_rangeslider_visible=False)\n",
    "    fig.add_trace(go.Candlestick(x=candles['date'],\n",
    "                                 open=candles['open'],\n",
    "                                 high=candles['high'],\n",
    "                                 low=candles['low'],\n",
    "                                 close=candles['close']),\n",
    "                   row=2, col=1)\n",
    "    \n",
    "    fig.update_yaxes(fixedrange=False)\n",
    "    #fig.update_xaxes(rangebreaks=[dict(values=compute_datetime_to_hide(start_date, end_date))])\n",
    "\n",
    "    return fig\n",
    "    "
   ]
  },
  {
   "cell_type": "markdown",
   "metadata": {},
   "source": [
    "## Show result"
   ]
  },
  {
   "cell_type": "code",
   "execution_count": 16,
   "metadata": {},
   "outputs": [
    {
     "name": "stdout",
     "output_type": "stream",
     "text": [
      "Dash app running on http://127.0.0.1:8050/\n"
     ]
    }
   ],
   "source": [
    "app = JupyterDash()\n",
    "\n",
    "app.layout = html.Div([\n",
    "    html.H1(f'Candles between {start_date} and {end_date}'),\n",
    "    html.Div([\n",
    "        html.Div([\n",
    "            html.Label('Symbol:', className='label'),\n",
    "            dcc.RadioItems(\n",
    "                id='symbols_radio',\n",
    "                options=[{'label': x, 'value': x} for x in SYMBOLS],\n",
    "                value='EUR/USD'\n",
    "            )], className='col'),\n",
    "        html.Div([\n",
    "            html.Label('Period:', className='label'),\n",
    "            dcc.RadioItems(\n",
    "                id='period_radio',\n",
    "                labelStyle={'display': 'inline-block'},\n",
    "                options=[{'label': '5min', 'value': 'candle'},\n",
    "                         {'label': '15min', 'value': 'candle15m'},\n",
    "                         {'label': '30min', 'value': 'candle30m'},\n",
    "                         {'label': '1h', 'value': 'candle1h'},\n",
    "                         {'label': '4h', 'value': 'candle4h'},\n",
    "                         {'label': '1d', 'value': 'candle1d'}],\n",
    "                value='candle1d'\n",
    "            )], className='col'),\n",
    "        html.Div([\n",
    "            html.Label('Indicators:', className='label'),\n",
    "            dcc.Checklist(\n",
    "                id='indicators_checklist',\n",
    "                options=[{'label': 'bollinger bands', 'value': 'bollinger_bands'},\n",
    "                        {'label': 'macd', 'value': 'macd'}],\n",
    "                value=[]\n",
    "            )], className='col'),\n",
    "    ], className='row'),\n",
    "    dcc.Graph(id='candles_graph'),\n",
    "])\n",
    "\n",
    "@app.callback(\n",
    "    Output('candles_graph', 'figure'),\n",
    "    Input('symbols_radio', 'value'),\n",
    "    Input('period_radio', 'value'),\n",
    "    Input('indicators_checklist', 'value'))\n",
    "def update_figure(selected_symbol, selected_period, selected_indicators):\n",
    "    filtered_data = filter_data(candles, selected_period, selected_symbol)\n",
    "    fig = show_candle(filtered_data)\n",
    "    if 'bollinger_bands' in selected_indicators:\n",
    "        bb = BollingerBands(filtered_data, 'close')\n",
    "        bb.compute()\n",
    "        fig = bb.plot(fig)\n",
    "    if 'macd' in selected_indicators:\n",
    "        m = Macd(filtered_data, 'close')\n",
    "        m.compute()\n",
    "        fig = m.plot(fig)\n",
    "    return fig\n",
    "\n",
    "app.run_server(mode='external')"
   ]
  },
  {
   "cell_type": "markdown",
   "metadata": {},
   "source": [
    "# Test indicators"
   ]
  },
  {
   "cell_type": "code",
   "execution_count": null,
   "metadata": {},
   "outputs": [],
   "source": []
  },
  {
   "cell_type": "code",
   "execution_count": 19,
   "metadata": {},
   "outputs": [],
   "source": [
    "SYMBOL = 'EUR/USD'\n",
    "candles_for_indicator = candles[candles['symbol'] == SYMBOL]\n",
    "#candles.set_index('date', inplace=True)"
   ]
  },
  {
   "cell_type": "code",
   "execution_count": 26,
   "metadata": {},
   "outputs": [],
   "source": [
    "ma, bb_up, bb_down = bollinger_bands(candles_for_indicator, 'close')"
   ]
  },
  {
   "cell_type": "code",
   "execution_count": 20,
   "metadata": {},
   "outputs": [],
   "source": [
    "macd_, signal, hist = macd(candles_for_indicator, 'close')"
   ]
  },
  {
   "cell_type": "code",
   "execution_count": 21,
   "metadata": {},
   "outputs": [
    {
     "data": {
      "text/plain": [
       "1           NaN\n",
       "13          NaN\n",
       "19          NaN\n",
       "26          NaN\n",
       "32          NaN\n",
       "         ...   \n",
       "90    -0.000371\n",
       "98    -0.000097\n",
       "106    0.000361\n",
       "114    0.001055\n",
       "122    0.001435\n",
       "Name: close, Length: 6546, dtype: float64"
      ]
     },
     "execution_count": 21,
     "metadata": {},
     "output_type": "execute_result"
    }
   ],
   "source": [
    "hist"
   ]
  },
  {
   "cell_type": "code",
   "execution_count": 29,
   "metadata": {},
   "outputs": [
    {
     "data": {
      "text/plain": [
       "1           NaN\n",
       "15          NaN\n",
       "22          NaN\n",
       "45          NaN\n",
       "51          NaN\n",
       "         ...   \n",
       "170    1.178107\n",
       "181    1.179303\n",
       "184    1.180845\n",
       "194    1.181929\n",
       "206    1.182523\n",
       "Name: close, Length: 9987, dtype: float64"
      ]
     },
     "execution_count": 29,
     "metadata": {},
     "output_type": "execute_result"
    }
   ],
   "source": [
    "bb_down"
   ]
  },
  {
   "cell_type": "code",
   "execution_count": 11,
   "metadata": {},
   "outputs": [
    {
     "data": {
      "text/plain": [
       "pandas.core.series.Series"
      ]
     },
     "execution_count": 11,
     "metadata": {},
     "output_type": "execute_result"
    }
   ],
   "source": [
    "type(signal)"
   ]
  },
  {
   "cell_type": "code",
   "execution_count": 3,
   "metadata": {},
   "outputs": [
    {
     "ename": "NameError",
     "evalue": "name 'candles_for_indicator' is not defined",
     "output_type": "error",
     "traceback": [
      "\u001b[0;31m---------------------------------------------------------------------------\u001b[0m",
      "\u001b[0;31mNameError\u001b[0m                                 Traceback (most recent call last)",
      "\u001b[0;32m<ipython-input-3-a88d17bdaea1>\u001b[0m in \u001b[0;36m<module>\u001b[0;34m\u001b[0m\n\u001b[0;32m----> 1\u001b[0;31m \u001b[0mcandles_for_indicator\u001b[0m\u001b[0;34m\u001b[0m\u001b[0;34m\u001b[0m\u001b[0m\n\u001b[0m",
      "\u001b[0;31mNameError\u001b[0m: name 'candles_for_indicator' is not defined"
     ]
    }
   ],
   "source": [
    "candles_for_indicator"
   ]
  },
  {
   "cell_type": "code",
   "execution_count": 24,
   "metadata": {},
   "outputs": [],
   "source": [
    "candles_for_indicator['max'] = candles_for_indicator[['open', 'close', 'low', 'high']].max(axis=1)"
   ]
  },
  {
   "cell_type": "code",
   "execution_count": null,
   "metadata": {},
   "outputs": [],
   "source": []
  }
 ],
 "metadata": {
  "kernelspec": {
   "display_name": "Python 3",
   "language": "python",
   "name": "python3"
  },
  "language_info": {
   "codemirror_mode": {
    "name": "ipython",
    "version": 3
   },
   "file_extension": ".py",
   "mimetype": "text/x-python",
   "name": "python",
   "nbconvert_exporter": "python",
   "pygments_lexer": "ipython3",
   "version": "3.8.6"
  }
 },
 "nbformat": 4,
 "nbformat_minor": 4
}
